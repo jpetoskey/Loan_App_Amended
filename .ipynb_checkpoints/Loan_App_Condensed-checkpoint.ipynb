{
 "cells": [
  {
   "cell_type": "markdown",
   "metadata": {
    "toc": true
   },
   "source": [
    "<h1>Table of Contents<span class=\"tocSkip\"></span></h1>\n",
    "<div class=\"toc\"><ul class=\"toc-item\"><li><span><a href=\"#Final-Project-Submission\" data-toc-modified-id=\"Final-Project-Submission-1\"><span class=\"toc-item-num\">1&nbsp;&nbsp;</span>Final Project Submission</a></span></li><li><span><a href=\"#Summary\" data-toc-modified-id=\"Summary-2\"><span class=\"toc-item-num\">2&nbsp;&nbsp;</span>Summary</a></span></li><li><span><a href=\"#Preprocess-Data\" data-toc-modified-id=\"Preprocess-Data-3\"><span class=\"toc-item-num\">3&nbsp;&nbsp;</span>Preprocess Data</a></span><ul class=\"toc-item\"><li><span><a href=\"#Undersample-Majority-Class\" data-toc-modified-id=\"Undersample-Majority-Class-3.1\"><span class=\"toc-item-num\">3.1&nbsp;&nbsp;</span>Undersample Majority Class</a></span></li><li><span><a href=\"#Feature-Selection\" data-toc-modified-id=\"Feature-Selection-3.2\"><span class=\"toc-item-num\">3.2&nbsp;&nbsp;</span>Feature Selection</a></span></li><li><span><a href=\"#Clean-up-null-and-missing-values\" data-toc-modified-id=\"Clean-up-null-and-missing-values-3.3\"><span class=\"toc-item-num\">3.3&nbsp;&nbsp;</span>Clean up null and missing values</a></span></li><li><span><a href=\"#Replace-null-values\" data-toc-modified-id=\"Replace-null-values-3.4\"><span class=\"toc-item-num\">3.4&nbsp;&nbsp;</span>Replace null values</a></span><ul class=\"toc-item\"><li><span><a href=\"#Separate-Numericals-&amp;-Categoricals\" data-toc-modified-id=\"Separate-Numericals-&amp;-Categoricals-3.4.1\"><span class=\"toc-item-num\">3.4.1&nbsp;&nbsp;</span>Separate Numericals &amp; Categoricals</a></span><ul class=\"toc-item\"><li><span><a href=\"#Summary-of-numericals\" data-toc-modified-id=\"Summary-of-numericals-3.4.1.1\"><span class=\"toc-item-num\">3.4.1.1&nbsp;&nbsp;</span>Summary of numericals</a></span></li></ul></li><li><span><a href=\"#Categoricals\" data-toc-modified-id=\"Categoricals-3.4.2\"><span class=\"toc-item-num\">3.4.2&nbsp;&nbsp;</span>Categoricals</a></span></li></ul></li><li><span><a href=\"#Label-Encode-or-One-Hot-Encode-Categoricals\" data-toc-modified-id=\"Label-Encode-or-One-Hot-Encode-Categoricals-3.5\"><span class=\"toc-item-num\">3.5&nbsp;&nbsp;</span>Label Encode or One-Hot Encode Categoricals</a></span><ul class=\"toc-item\"><li><ul class=\"toc-item\"><li><span><a href=\"#Use-label-encoding-to-save-space-with-Organization_Type\" data-toc-modified-id=\"Use-label-encoding-to-save-space-with-Organization_Type-3.5.0.1\"><span class=\"toc-item-num\">3.5.0.1&nbsp;&nbsp;</span>Use label encoding to save space with Organization_Type</a></span></li><li><span><a href=\"#One-Hot-Encode-Categoricals\" data-toc-modified-id=\"One-Hot-Encode-Categoricals-3.5.0.2\"><span class=\"toc-item-num\">3.5.0.2&nbsp;&nbsp;</span>One Hot Encode Categoricals</a></span></li></ul></li></ul></li><li><span><a href=\"#Concatenate-data-frames\" data-toc-modified-id=\"Concatenate-data-frames-3.6\"><span class=\"toc-item-num\">3.6&nbsp;&nbsp;</span>Concatenate data frames</a></span><ul class=\"toc-item\"><li><span><a href=\"#Select-Features\" data-toc-modified-id=\"Select-Features-3.6.1\"><span class=\"toc-item-num\">3.6.1&nbsp;&nbsp;</span>Select Features</a></span></li></ul></li><li><span><a href=\"#SMOTE---Oversample-Minority-Class\" data-toc-modified-id=\"SMOTE---Oversample-Minority-Class-3.7\"><span class=\"toc-item-num\">3.7&nbsp;&nbsp;</span>SMOTE - Oversample Minority Class</a></span><ul class=\"toc-item\"><li><span><a href=\"#Train,-Test,-Split\" data-toc-modified-id=\"Train,-Test,-Split-3.7.1\"><span class=\"toc-item-num\">3.7.1&nbsp;&nbsp;</span>Train, Test, Split</a></span></li></ul></li></ul></li><li><span><a href=\"#Random-Forest-Model-1\" data-toc-modified-id=\"Random-Forest-Model-1-4\"><span class=\"toc-item-num\">4&nbsp;&nbsp;</span>Random Forest Model 1</a></span><ul class=\"toc-item\"><li><ul class=\"toc-item\"><li><span><a href=\"#Summary---Random-Forest-Part-1\" data-toc-modified-id=\"Summary---Random-Forest-Part-1-4.0.1\"><span class=\"toc-item-num\">4.0.1&nbsp;&nbsp;</span>Summary - Random Forest Part 1</a></span></li></ul></li><li><span><a href=\"#Random-Forest-Model-2\" data-toc-modified-id=\"Random-Forest-Model-2-4.1\"><span class=\"toc-item-num\">4.1&nbsp;&nbsp;</span>Random Forest Model 2</a></span><ul class=\"toc-item\"><li><span><a href=\"#Summary---Random-Forest-Model-3\" data-toc-modified-id=\"Summary---Random-Forest-Model-3-4.1.1\"><span class=\"toc-item-num\">4.1.1&nbsp;&nbsp;</span>Summary - Random Forest Model 3</a></span></li></ul></li><li><span><a href=\"#Random-Forest-Model-3\" data-toc-modified-id=\"Random-Forest-Model-3-4.2\"><span class=\"toc-item-num\">4.2&nbsp;&nbsp;</span>Random Forest Model 3</a></span><ul class=\"toc-item\"><li><span><a href=\"#Summary---Random-Forest-Part-2\" data-toc-modified-id=\"Summary---Random-Forest-Part-2-4.2.1\"><span class=\"toc-item-num\">4.2.1&nbsp;&nbsp;</span>Summary - Random Forest Part 2</a></span></li></ul></li><li><span><a href=\"#Random-Forest-Model-4\" data-toc-modified-id=\"Random-Forest-Model-4-4.3\"><span class=\"toc-item-num\">4.3&nbsp;&nbsp;</span>Random Forest Model 4</a></span><ul class=\"toc-item\"><li><span><a href=\"#Summary---Random-Forest-Model-4\" data-toc-modified-id=\"Summary---Random-Forest-Model-4-4.3.1\"><span class=\"toc-item-num\">4.3.1&nbsp;&nbsp;</span>Summary - Random Forest Model 4</a></span></li></ul></li><li><span><a href=\"#Random-Forest-Model-5\" data-toc-modified-id=\"Random-Forest-Model-5-4.4\"><span class=\"toc-item-num\">4.4&nbsp;&nbsp;</span>Random Forest Model 5</a></span><ul class=\"toc-item\"><li><span><a href=\"#Summary---Random-Forest-Model-5\" data-toc-modified-id=\"Summary---Random-Forest-Model-5-4.4.1\"><span class=\"toc-item-num\">4.4.1&nbsp;&nbsp;</span>Summary - Random Forest Model 5</a></span></li></ul></li><li><span><a href=\"#Random-Forest-Model-6\" data-toc-modified-id=\"Random-Forest-Model-6-4.5\"><span class=\"toc-item-num\">4.5&nbsp;&nbsp;</span>Random Forest Model 6</a></span><ul class=\"toc-item\"><li><span><a href=\"#Summary---Random-Forest-Model-6\" data-toc-modified-id=\"Summary---Random-Forest-Model-6-4.5.1\"><span class=\"toc-item-num\">4.5.1&nbsp;&nbsp;</span>Summary - Random Forest Model 6</a></span></li></ul></li><li><span><a href=\"#Feature-Importance-Chart\" data-toc-modified-id=\"Feature-Importance-Chart-4.6\"><span class=\"toc-item-num\">4.6&nbsp;&nbsp;</span>Feature Importance Chart</a></span><ul class=\"toc-item\"><li><span><a href=\"#Improve-Feature-Importance-Bar-Chart\" data-toc-modified-id=\"Improve-Feature-Importance-Bar-Chart-4.6.1\"><span class=\"toc-item-num\">4.6.1&nbsp;&nbsp;</span>Improve Feature Importance Bar Chart</a></span></li></ul></li><li><span><a href=\"#Explore-EXT_SOURCE-data\" data-toc-modified-id=\"Explore-EXT_SOURCE-data-4.7\"><span class=\"toc-item-num\">4.7&nbsp;&nbsp;</span>Explore EXT_SOURCE data</a></span></li></ul></li><li><span><a href=\"#Check-Gradient-Boost-&amp;-Tune-Learning-Rate\" data-toc-modified-id=\"Check-Gradient-Boost-&amp;-Tune-Learning-Rate-5\"><span class=\"toc-item-num\">5&nbsp;&nbsp;</span>Check Gradient Boost &amp; Tune Learning Rate</a></span><ul class=\"toc-item\"><li><ul class=\"toc-item\"><li><span><a href=\"#Summary---Gradient-Boost-Model-1\" data-toc-modified-id=\"Summary---Gradient-Boost-Model-1-5.0.1\"><span class=\"toc-item-num\">5.0.1&nbsp;&nbsp;</span>Summary - Gradient Boost Model 1</a></span></li></ul></li><li><span><a href=\"#Gradient-Boost-Model-2\" data-toc-modified-id=\"Gradient-Boost-Model-2-5.1\"><span class=\"toc-item-num\">5.1&nbsp;&nbsp;</span>Gradient Boost Model 2</a></span><ul class=\"toc-item\"><li><span><a href=\"#Summary---Gradient-Boost-Model-2\" data-toc-modified-id=\"Summary---Gradient-Boost-Model-2-5.1.1\"><span class=\"toc-item-num\">5.1.1&nbsp;&nbsp;</span>Summary - Gradient Boost Model 2</a></span></li></ul></li><li><span><a href=\"#Gradient-Boost-Model-3\" data-toc-modified-id=\"Gradient-Boost-Model-3-5.2\"><span class=\"toc-item-num\">5.2&nbsp;&nbsp;</span>Gradient Boost Model 3</a></span><ul class=\"toc-item\"><li><span><a href=\"#Summary---Gradient-Boost-Model-3\" data-toc-modified-id=\"Summary---Gradient-Boost-Model-3-5.2.1\"><span class=\"toc-item-num\">5.2.1&nbsp;&nbsp;</span>Summary - Gradient Boost Model 3</a></span></li></ul></li></ul></li><li><span><a href=\"#Gaussian-Naive-Bayes---Model-1\" data-toc-modified-id=\"Gaussian-Naive-Bayes---Model-1-6\"><span class=\"toc-item-num\">6&nbsp;&nbsp;</span>Gaussian Naive Bayes - Model 1</a></span><ul class=\"toc-item\"><li><ul class=\"toc-item\"><li><span><a href=\"#Summary---Gradient-Boost-Model-3\" data-toc-modified-id=\"Summary---Gradient-Boost-Model-3-6.0.1\"><span class=\"toc-item-num\">6.0.1&nbsp;&nbsp;</span>Summary - Gradient Boost Model 3</a></span></li></ul></li></ul></li><li><span><a href=\"#Voting-Classifier-Model-1\" data-toc-modified-id=\"Voting-Classifier-Model-1-7\"><span class=\"toc-item-num\">7&nbsp;&nbsp;</span>Voting Classifier Model 1</a></span><ul class=\"toc-item\"><li><ul class=\"toc-item\"><li><span><a href=\"#Summary---Voting-Classifier-Model-1\" data-toc-modified-id=\"Summary---Voting-Classifier-Model-1-7.0.1\"><span class=\"toc-item-num\">7.0.1&nbsp;&nbsp;</span>Summary - Voting Classifier Model 1</a></span></li></ul></li></ul></li><li><span><a href=\"#Results\" data-toc-modified-id=\"Results-8\"><span class=\"toc-item-num\">8&nbsp;&nbsp;</span>Results</a></span></li><li><span><a href=\"#Reduce-Features,-Check-for-Accuracy\" data-toc-modified-id=\"Reduce-Features,-Check-for-Accuracy-9\"><span class=\"toc-item-num\">9&nbsp;&nbsp;</span>Reduce Features, Check for Accuracy</a></span></li><li><span><a href=\"#Further-Study\" data-toc-modified-id=\"Further-Study-10\"><span class=\"toc-item-num\">10&nbsp;&nbsp;</span>Further Study</a></span></li></ul></div>"
   ]
  },
  {
   "cell_type": "markdown",
   "metadata": {},
   "source": [
    "# Final Project Submission\n",
    "* Student name: Jim Petoskey\n",
    "* Student pace: Self-paced\n",
    "* Scheduled project review date/time: Tuesday March 29, 2022 at 1:45 pm EST\n",
    "* Instructor name: Abhineet Kulkarni\n",
    "* [Blog post URL: Weak Learners vs. Random Forest, Optimizing for True Positive Rate](https://www.kaggle.com/code/kapoorshivam/credit-analysis-using-eda/data)"
   ]
  },
  {
   "cell_type": "markdown",
   "metadata": {},
   "source": [
    "# Summary\n",
    "* Class Imbalance Solutions:\n",
    "    * Under-sample majority class with .sample()\n",
    "        * Lowers computational power needed for models.\n",
    "        * Under and over-sampling allows for better accuracy.\n",
    "    * Over-sample minority class with SMOTE\n",
    "* Certain models optimized for best Accuracy:\n",
    "    * Weak-Learners, such as Gradient Boost\n",
    "        * Tuned to high recall score for Approval, low recall score for Refusal.\n",
    "    * Decision Trees, such as Random Forest\n",
    "        * Best for optimizing for True Positive or True Negative Rates (recall scores)\n",
    "* Increasing the number of features greatly improved the accuracy of the model.\n",
    "    * Trimming these features by feature importance allowed for an even more accurate model, in terms of recall score for loan approval.\n",
    "* Manipulating random_forest hyper-parameters allowed for over-training of the train set, which led to improved accuracy in predicting loan approval (Recall for value of 1).\n",
    "    * Resulting in an accuracy of 98% in predicting if someone will be approved for a loan.\n",
    "* Will be able to propose business case for advancing loan applications to the next stage for the banking industry."
   ]
  },
  {
   "cell_type": "code",
   "execution_count": 484,
   "metadata": {
    "ExecuteTime": {
     "end_time": "2022-03-28T18:57:04.220431Z",
     "start_time": "2022-03-28T18:57:04.207027Z"
    }
   },
   "outputs": [],
   "source": [
    "import pandas as pd\n",
    "import matplotlib.pyplot as plt\n",
    "import numpy as np\n",
    "np.random.seed(0)\n",
    "import seaborn as sns\n",
    "from sklearn.model_selection import train_test_split\n",
    "from sklearn.metrics import roc_curve, auc\n",
    "from sklearn.metrics import confusion_matrix\n",
    "from sklearn.linear_model import LogisticRegression\n",
    "from sklearn.metrics import make_scorer\n",
    "from sklearn.model_selection import StratifiedKFold\n",
    "from sklearn.base import clone\n",
    "from sklearn.metrics import log_loss\n",
    "from sklearn.model_selection import cross_val_score\n",
    "from sklearn.preprocessing import StandardScaler\n",
    "from sklearn.neighbors import KNeighborsClassifier\n",
    "from sklearn.metrics import precision_score, recall_score, accuracy_score, f1_score\n",
    "from sklearn.tree import DecisionTreeClassifier\n",
    "from sklearn.metrics import classification_report\n",
    "from sklearn.ensemble import BaggingClassifier, RandomForestClassifier\n",
    "from xgboost import XGBClassifier\n",
    "from sklearn.model_selection import GridSearchCV\n",
    "from sklearn.svm import SVC\n",
    "from sklearn.ensemble import AdaBoostClassifier, GradientBoostingClassifier\n",
    "from sklearn.preprocessing import LabelEncoder\n",
    "from sklearn.feature_selection import RFECV\n",
    "from sklearn.datasets import make_classification\n",
    "from sklearn.ensemble import RandomForestRegressor, VotingClassifier\n",
    "from sklearn.feature_selection import RFE\n",
    "from sklearn.naive_bayes import GaussianNB\n",
    "\n",
    "from imblearn.over_sampling import SMOTE, ADASYN\n",
    "\n",
    "import warnings\n",
    "warnings.filterwarnings('ignore')\n",
    "%matplotlib inline"
   ]
  },
  {
   "cell_type": "code",
   "execution_count": 2,
   "metadata": {
    "ExecuteTime": {
     "end_time": "2022-03-28T15:13:12.980152Z",
     "start_time": "2022-03-28T15:13:06.704705Z"
    }
   },
   "outputs": [
    {
     "name": "stdout",
     "output_type": "stream",
     "text": [
      "<class 'pandas.core.frame.DataFrame'>\n",
      "RangeIndex: 307511 entries, 0 to 307510\n",
      "Columns: 122 entries, SK_ID_CURR to AMT_REQ_CREDIT_BUREAU_YEAR\n",
      "dtypes: float64(65), int64(41), object(16)\n",
      "memory usage: 286.2+ MB\n"
     ]
    }
   ],
   "source": [
    "df = pd.read_csv(r'/Users/jimpetoskey/Documents/Flatiron/phase3/Phase_3_Project/Loans/current_app.csv')\n",
    "df.info()"
   ]
  },
  {
   "cell_type": "code",
   "execution_count": 3,
   "metadata": {
    "ExecuteTime": {
     "end_time": "2022-03-28T15:13:13.006993Z",
     "start_time": "2022-03-28T15:13:12.982634Z"
    },
    "scrolled": true
   },
   "outputs": [
    {
     "data": {
      "text/plain": [
       "0    282686\n",
       "1     24825\n",
       "Name: TARGET, dtype: int64"
      ]
     },
     "execution_count": 3,
     "metadata": {},
     "output_type": "execute_result"
    }
   ],
   "source": [
    "df['TARGET'].value_counts()"
   ]
  },
  {
   "cell_type": "markdown",
   "metadata": {},
   "source": [
    "# Preprocess Data\n",
    "* Reduce Class Imbalance Issue:\n",
    "    * Sample 40,000 '0' values from the data set and use 25,000 '1' values, for 65,000 total values.\n",
    "    * Then, oversample minority class with SMOTE for a total of 40,000 of each class.\n",
    "* Trim columns based on scikit learn's recursive feature selection select 38 columns."
   ]
  },
  {
   "cell_type": "markdown",
   "metadata": {},
   "source": [
    "## Undersample Majority Class\n",
    "* Will reduce size of dataframe for faster processing on local machine.\n",
    "* Paired with SMOTE, will allow for reducing class imbalance issues"
   ]
  },
  {
   "cell_type": "code",
   "execution_count": 4,
   "metadata": {
    "ExecuteTime": {
     "end_time": "2022-03-28T15:13:21.096619Z",
     "start_time": "2022-03-28T15:13:20.758769Z"
    }
   },
   "outputs": [
    {
     "data": {
      "text/plain": [
       "0    282686\n",
       "Name: TARGET, dtype: int64"
      ]
     },
     "execution_count": 4,
     "metadata": {},
     "output_type": "execute_result"
    }
   ],
   "source": [
    "df_zero_val = df[df.TARGET == 0]\n",
    "df_zero_val['TARGET'].value_counts()"
   ]
  },
  {
   "cell_type": "code",
   "execution_count": 5,
   "metadata": {
    "ExecuteTime": {
     "end_time": "2022-03-28T15:13:21.591312Z",
     "start_time": "2022-03-28T15:13:21.320422Z"
    }
   },
   "outputs": [
    {
     "data": {
      "text/plain": [
       "0    40000\n",
       "Name: TARGET, dtype: int64"
      ]
     },
     "execution_count": 5,
     "metadata": {},
     "output_type": "execute_result"
    }
   ],
   "source": [
    "df_zero_val = df_zero_val.sample(n=40000)\n",
    "df_zero_val['TARGET'].value_counts()"
   ]
  },
  {
   "cell_type": "code",
   "execution_count": 6,
   "metadata": {
    "ExecuteTime": {
     "end_time": "2022-03-28T15:13:21.989219Z",
     "start_time": "2022-03-28T15:13:21.899491Z"
    }
   },
   "outputs": [
    {
     "data": {
      "text/plain": [
       "1    24825\n",
       "Name: TARGET, dtype: int64"
      ]
     },
     "execution_count": 6,
     "metadata": {},
     "output_type": "execute_result"
    }
   ],
   "source": [
    "df_one_val = df[df.TARGET == 1]\n",
    "df_one_val['TARGET'].value_counts()"
   ]
  },
  {
   "cell_type": "code",
   "execution_count": 7,
   "metadata": {
    "ExecuteTime": {
     "end_time": "2022-03-28T15:13:22.573898Z",
     "start_time": "2022-03-28T15:13:22.411739Z"
    }
   },
   "outputs": [
    {
     "data": {
      "text/plain": [
       "0    40000\n",
       "1    24825\n",
       "Name: TARGET, dtype: int64"
      ]
     },
     "execution_count": 7,
     "metadata": {},
     "output_type": "execute_result"
    }
   ],
   "source": [
    "df1 = df_zero_val.append(df_one_val)\n",
    "df1['TARGET'].value_counts()"
   ]
  },
  {
   "cell_type": "markdown",
   "metadata": {},
   "source": [
    "## Feature Selection\n",
    "* Recursive Feature Selection (RFE) with sklearn"
   ]
  },
  {
   "cell_type": "code",
   "execution_count": 8,
   "metadata": {
    "ExecuteTime": {
     "end_time": "2022-03-28T15:13:23.498662Z",
     "start_time": "2022-03-28T15:13:23.474844Z"
    },
    "scrolled": true
   },
   "outputs": [
    {
     "name": "stdout",
     "output_type": "stream",
     "text": [
      "<class 'pandas.core.frame.DataFrame'>\n",
      "Int64Index: 64825 entries, 39451 to 307509\n",
      "Columns: 122 entries, SK_ID_CURR to AMT_REQ_CREDIT_BUREAU_YEAR\n",
      "dtypes: float64(65), int64(41), object(16)\n",
      "memory usage: 60.8+ MB\n"
     ]
    }
   ],
   "source": [
    "df1.info()"
   ]
  },
  {
   "cell_type": "code",
   "execution_count": 9,
   "metadata": {
    "ExecuteTime": {
     "end_time": "2022-03-28T15:13:33.276975Z",
     "start_time": "2022-03-28T15:13:24.309360Z"
    }
   },
   "outputs": [
    {
     "name": "stdout",
     "output_type": "stream",
     "text": [
      "Optimal number of features : 63\n"
     ]
    },
    {
     "data": {
      "image/png": "[encoded data removed]",
      "text/plain": [
       "<Figure size 432x288 with 1 Axes>"
      ]
     },
     "metadata": {
      "needs_background": "light"
     },
     "output_type": "display_data"
    }
   ],
   "source": [
    "X = df1.drop('TARGET', axis=1)\n",
    "y = df1['TARGET']\n",
    "\n",
    "# Build a classification task using 30 informative features\n",
    "X, y = make_classification(\n",
    "    n_samples=500,\n",
    "    n_features=122,\n",
    "    n_informative=30,\n",
    "    n_redundant=2,\n",
    "    n_repeated=0,\n",
    "    n_classes=8,\n",
    "    n_clusters_per_class=1,\n",
    "    random_state=0,\n",
    ")\n",
    "\n",
    "# Create the RFE object and compute a cross-validated score.\n",
    "svc = SVC(kernel=\"linear\")\n",
    "# The \"accuracy\" scoring shows the proportion of correct classifications\n",
    "\n",
    "min_features_to_select = 1  # Minimum number of features to consider\n",
    "rfecv = RFECV(\n",
    "    estimator=svc,\n",
    "    step=1,\n",
    "    cv=StratifiedKFold(2),\n",
    "    scoring=\"accuracy\",\n",
    "    min_features_to_select=min_features_to_select,\n",
    ")\n",
    "rfecv.fit(X, y)\n",
    "\n",
    "print(\"Optimal number of features : %d\" % rfecv.n_features_)\n",
    "\n",
    "# Plot number of features VS. cross-validation scores\n",
    "plt.figure()\n",
    "plt.xlabel(\"Number of features selected\")\n",
    "plt.ylabel(\"Cross validation score (accuracy)\")\n",
    "plt.plot(\n",
    "    range(min_features_to_select, len(rfecv.grid_scores_) + min_features_to_select),\n",
    "    rfecv.grid_scores_,\n",
    ")\n",
    "plt.show()"
   ]
  },
  {
   "cell_type": "code",
   "execution_count": 10,
   "metadata": {
    "ExecuteTime": {
     "end_time": "2022-03-28T15:13:34.722523Z",
     "start_time": "2022-03-28T15:13:34.719156Z"
    }
   },
   "outputs": [],
   "source": [
    "# Too computationally expensive to run (>10 minutes)\n",
    "# forest = RandomForestRegressor()\n",
    "\n",
    "# Init the transformer\n",
    "# rfe = RFE(estimator=RandomForestRegressor(), n_features_to_select=115)\n",
    "\n",
    "# Fit to the data\n",
    "# _ = rfe.fit(X_train_resampled, y_train_resampled)"
   ]
  },
  {
   "cell_type": "code",
   "execution_count": 11,
   "metadata": {
    "ExecuteTime": {
     "end_time": "2022-03-28T15:13:35.134476Z",
     "start_time": "2022-03-28T15:13:35.131028Z"
    }
   },
   "outputs": [],
   "source": [
    "# _ = forest.fit(rfe.transform(X_train_resampled), y_train_resampled)\n",
    "# forest.score(rfe.transform(X_test), y_test)"
   ]
  },
  {
   "cell_type": "code",
   "execution_count": 12,
   "metadata": {
    "ExecuteTime": {
     "end_time": "2022-03-28T15:13:35.812864Z",
     "start_time": "2022-03-28T15:13:35.707027Z"
    }
   },
   "outputs": [
    {
     "name": "stdout",
     "output_type": "stream",
     "text": [
      "<class 'pandas.core.frame.DataFrame'>\n",
      "Int64Index: 64825 entries, 39451 to 307509\n",
      "Data columns (total 40 columns):\n",
      " #   Column                       Non-Null Count  Dtype  \n",
      "---  ------                       --------------  -----  \n",
      " 0   TARGET                       64825 non-null  int64  \n",
      " 1   CNT_CHILDREN                 64825 non-null  int64  \n",
      " 2   AMT_INCOME_TOTAL             64825 non-null  float64\n",
      " 3   AMT_CREDIT                   64825 non-null  float64\n",
      " 4   AMT_ANNUITY                  64824 non-null  float64\n",
      " 5   NAME_EDUCATION_TYPE          64825 non-null  object \n",
      " 6   DAYS_EMPLOYED                64825 non-null  int64  \n",
      " 7   CNT_FAM_MEMBERS              64824 non-null  float64\n",
      " 8   DAYS_BIRTH                   64825 non-null  int64  \n",
      " 9   NAME_INCOME_TYPE             64825 non-null  object \n",
      " 10  AMT_GOODS_PRICE              64763 non-null  float64\n",
      " 11  CODE_GENDER                  64825 non-null  object \n",
      " 12  FLAG_OWN_REALTY              64825 non-null  object \n",
      " 13  REGION_RATING_CLIENT         64825 non-null  int64  \n",
      " 14  ORGANIZATION_TYPE            64825 non-null  object \n",
      " 15  DAYS_REGISTRATION            64825 non-null  float64\n",
      " 16  REGION_POPULATION_RELATIVE   64825 non-null  float64\n",
      " 17  NAME_HOUSING_TYPE            64825 non-null  object \n",
      " 18  NAME_FAMILY_STATUS           64825 non-null  object \n",
      " 19  NAME_TYPE_SUITE              64583 non-null  object \n",
      " 20  FLAG_OWN_CAR                 64825 non-null  object \n",
      " 21  NAME_CONTRACT_TYPE           64825 non-null  object \n",
      " 22  LIVE_REGION_NOT_WORK_REGION  64825 non-null  int64  \n",
      " 23  EXT_SOURCE_1                 27601 non-null  float64\n",
      " 24  EXT_SOURCE_2                 64680 non-null  float64\n",
      " 25  EXT_SOURCE_3                 51247 non-null  float64\n",
      " 26  APARTMENTS_AVG               30640 non-null  float64\n",
      " 27  YEARS_BUILD_AVG              20864 non-null  float64\n",
      " 28  FLOORSMAX_AVG                31239 non-null  float64\n",
      " 29  NONLIVINGAREA_AVG            27818 non-null  float64\n",
      " 30  TOTALAREA_MODE               32196 non-null  float64\n",
      " 31  DAYS_LAST_PHONE_CHANGE       64825 non-null  float64\n",
      " 32  LIVINGAREA_MEDI              31047 non-null  float64\n",
      " 33  NONLIVINGAREA_MEDI           27818 non-null  float64\n",
      " 34  AMT_REQ_CREDIT_BUREAU_HOUR   55232 non-null  float64\n",
      " 35  AMT_REQ_CREDIT_BUREAU_DAY    55232 non-null  float64\n",
      " 36  AMT_REQ_CREDIT_BUREAU_WEEK   55232 non-null  float64\n",
      " 37  AMT_REQ_CREDIT_BUREAU_MON    55232 non-null  float64\n",
      " 38  AMT_REQ_CREDIT_BUREAU_QRT    55232 non-null  float64\n",
      " 39  AMT_REQ_CREDIT_BUREAU_YEAR   55232 non-null  float64\n",
      "dtypes: float64(24), int64(6), object(10)\n",
      "memory usage: 20.3+ MB\n"
     ]
    }
   ],
   "source": [
    "# Create new dataframe with selected features\n",
    "df2 = df1.filter(['TARGET', \n",
    "                 'CNT_CHILDREN', \n",
    "                 'AMT_INCOME_TOTAL',\n",
    "                 'AMT_CREDIT', \n",
    "                 'AMT_ANNUITY',\n",
    "                 'NAME_EDUCATION_TYPE',\n",
    "                 'DAYS_EMPLOYED',\n",
    "                 'CNT_FAM_MEMBERS',\n",
    "                 'DAYS_BIRTH',\n",
    "                 'NAME_INCOME_TYPE',\n",
    "                 'AMT_GOODS_PRICE',\n",
    "                 'CODE_GENDER',\n",
    "                 'FLAG_OWN_REALTY',\n",
    "                 'REGION_RATING_CLIENT',\n",
    "                 'ORGANIZATION_TYPE',\n",
    "                 'DAYS_REGISTRATION',\n",
    "                 'REGION_POPULATION_RELATIVE',\n",
    "                 'NAME_HOUSING_TYPE',\n",
    "                 'NAME_FAMILY_STATUS',\n",
    "                 'NAME_TYPE_SUITE',\n",
    "                 'FLAG_OWN_CAR',\n",
    "                 'NAME_CONTRACT_TYPE',\n",
    "                 'LIVE_REGION_NOT_WORK_REGION',\n",
    "                 'EXT_SOURCE_1',\n",
    "                 'EXT_SOURCE_2',\n",
    "                 'EXT_SOURCE_3',\n",
    "                 'APARTMENTS_AVG',\n",
    "                 'YEARS_BUILD_AVG',\n",
    "                 'YEARS_BEGIN_EXPLUATION_AVG',\n",
    "                 'FLOORSMAX_AVG',\n",
    "                 'NONLIVINGAREA_AVG',\n",
    "                 'TOTALAREA_MODE',\n",
    "                 'DAYS_LAST_PHONE_CHANGE',\n",
    "                 'LIVINGAREA_MEDI',\n",
    "                 'NONLIVINGAREA_MEDI',\n",
    "                 'AMT_REQ_CREDIT_BUREAU_HOUR',\n",
    "                 'AMT_REQ_CREDIT_BUREAU_DAY',\n",
    "                 'AMT_REQ_CREDIT_BUREAU_WEEK',\n",
    "                 'AMT_REQ_CREDIT_BUREAU_MON',\n",
    "                 'AMT_REQ_CREDIT_BUREAU_QRT',\n",
    "                 'AMT_REQ_CREDIT_BUREAU_YEAR'], \n",
    "                axis=1)\n",
    "df2.info()"
   ]
  },
  {
   "cell_type": "markdown",
   "metadata": {},
   "source": [
    "## Clean up null and missing values"
   ]
  },
  {
   "cell_type": "code",
   "execution_count": 13,
   "metadata": {
    "ExecuteTime": {
     "end_time": "2022-03-28T15:13:36.818570Z",
     "start_time": "2022-03-28T15:13:36.765086Z"
    }
   },
   "outputs": [
    {
     "data": {
      "text/plain": [
       "TARGET                             0\n",
       "CNT_CHILDREN                       0\n",
       "AMT_INCOME_TOTAL                   0\n",
       "AMT_CREDIT                         0\n",
       "AMT_ANNUITY                        1\n",
       "NAME_EDUCATION_TYPE                0\n",
       "DAYS_EMPLOYED                      0\n",
       "CNT_FAM_MEMBERS                    1\n",
       "DAYS_BIRTH                         0\n",
       "NAME_INCOME_TYPE                   0\n",
       "AMT_GOODS_PRICE                   62\n",
       "CODE_GENDER                        0\n",
       "FLAG_OWN_REALTY                    0\n",
       "REGION_RATING_CLIENT               0\n",
       "ORGANIZATION_TYPE                  0\n",
       "DAYS_REGISTRATION                  0\n",
       "REGION_POPULATION_RELATIVE         0\n",
       "NAME_HOUSING_TYPE                  0\n",
       "NAME_FAMILY_STATUS                 0\n",
       "NAME_TYPE_SUITE                  242\n",
       "FLAG_OWN_CAR                       0\n",
       "NAME_CONTRACT_TYPE                 0\n",
       "LIVE_REGION_NOT_WORK_REGION        0\n",
       "EXT_SOURCE_1                   37224\n",
       "EXT_SOURCE_2                     145\n",
       "EXT_SOURCE_3                   13578\n",
       "APARTMENTS_AVG                 34185\n",
       "YEARS_BUILD_AVG                43961\n",
       "FLOORSMAX_AVG                  33586\n",
       "NONLIVINGAREA_AVG              37007\n",
       "TOTALAREA_MODE                 32629\n",
       "DAYS_LAST_PHONE_CHANGE             0\n",
       "LIVINGAREA_MEDI                33778\n",
       "NONLIVINGAREA_MEDI             37007\n",
       "AMT_REQ_CREDIT_BUREAU_HOUR      9593\n",
       "AMT_REQ_CREDIT_BUREAU_DAY       9593\n",
       "AMT_REQ_CREDIT_BUREAU_WEEK      9593\n",
       "AMT_REQ_CREDIT_BUREAU_MON       9593\n",
       "AMT_REQ_CREDIT_BUREAU_QRT       9593\n",
       "AMT_REQ_CREDIT_BUREAU_YEAR      9593\n",
       "dtype: int64"
      ]
     },
     "execution_count": 13,
     "metadata": {},
     "output_type": "execute_result"
    }
   ],
   "source": [
    "df2.isnull().sum()"
   ]
  },
  {
   "cell_type": "markdown",
   "metadata": {},
   "source": [
    "## Replace null values \n",
    "* Categoricals: Replace with mode\n",
    "* Numericals: Replace with mean"
   ]
  },
  {
   "cell_type": "markdown",
   "metadata": {},
   "source": [
    "### Separate Numericals & Categoricals\n",
    "* Complete further investigation of features"
   ]
  },
  {
   "cell_type": "code",
   "execution_count": 14,
   "metadata": {
    "ExecuteTime": {
     "end_time": "2022-03-28T15:13:38.177016Z",
     "start_time": "2022-03-28T15:13:38.125767Z"
    }
   },
   "outputs": [
    {
     "name": "stdout",
     "output_type": "stream",
     "text": [
      "<class 'pandas.core.frame.DataFrame'>\n",
      "Int64Index: 64825 entries, 39451 to 307509\n",
      "Data columns (total 30 columns):\n",
      " #   Column                       Non-Null Count  Dtype  \n",
      "---  ------                       --------------  -----  \n",
      " 0   TARGET                       64825 non-null  int64  \n",
      " 1   CNT_CHILDREN                 64825 non-null  int64  \n",
      " 2   AMT_INCOME_TOTAL             64825 non-null  float64\n",
      " 3   AMT_CREDIT                   64825 non-null  float64\n",
      " 4   AMT_ANNUITY                  64824 non-null  float64\n",
      " 5   DAYS_EMPLOYED                64825 non-null  int64  \n",
      " 6   CNT_FAM_MEMBERS              64824 non-null  float64\n",
      " 7   DAYS_BIRTH                   64825 non-null  int64  \n",
      " 8   AMT_GOODS_PRICE              64763 non-null  float64\n",
      " 9   REGION_RATING_CLIENT         64825 non-null  int64  \n",
      " 10  DAYS_REGISTRATION            64825 non-null  float64\n",
      " 11  REGION_POPULATION_RELATIVE   64825 non-null  float64\n",
      " 12  LIVE_REGION_NOT_WORK_REGION  64825 non-null  int64  \n",
      " 13  EXT_SOURCE_1                 27601 non-null  float64\n",
      " 14  EXT_SOURCE_2                 64680 non-null  float64\n",
      " 15  EXT_SOURCE_3                 51247 non-null  float64\n",
      " 16  APARTMENTS_AVG               30640 non-null  float64\n",
      " 17  YEARS_BUILD_AVG              20864 non-null  float64\n",
      " 18  FLOORSMAX_AVG                31239 non-null  float64\n",
      " 19  NONLIVINGAREA_AVG            27818 non-null  float64\n",
      " 20  TOTALAREA_MODE               32196 non-null  float64\n",
      " 21  DAYS_LAST_PHONE_CHANGE       64825 non-null  float64\n",
      " 22  LIVINGAREA_MEDI              31047 non-null  float64\n",
      " 23  NONLIVINGAREA_MEDI           27818 non-null  float64\n",
      " 24  AMT_REQ_CREDIT_BUREAU_HOUR   55232 non-null  float64\n",
      " 25  AMT_REQ_CREDIT_BUREAU_DAY    55232 non-null  float64\n",
      " 26  AMT_REQ_CREDIT_BUREAU_WEEK   55232 non-null  float64\n",
      " 27  AMT_REQ_CREDIT_BUREAU_MON    55232 non-null  float64\n",
      " 28  AMT_REQ_CREDIT_BUREAU_QRT    55232 non-null  float64\n",
      " 29  AMT_REQ_CREDIT_BUREAU_YEAR   55232 non-null  float64\n",
      "dtypes: float64(24), int64(6)\n",
      "memory usage: 15.3 MB\n"
     ]
    }
   ],
   "source": [
    "# Select only numerical features\n",
    "num = df2.select_dtypes(include=np.number)\n",
    "num.info()"
   ]
  },
  {
   "cell_type": "code",
   "execution_count": 15,
   "metadata": {
    "ExecuteTime": {
     "end_time": "2022-03-28T15:13:38.688200Z",
     "start_time": "2022-03-28T15:13:38.630768Z"
    }
   },
   "outputs": [
    {
     "name": "stdout",
     "output_type": "stream",
     "text": [
      "TARGET                         0\n",
      "CNT_CHILDREN                   0\n",
      "AMT_INCOME_TOTAL               0\n",
      "AMT_CREDIT                     0\n",
      "AMT_ANNUITY                    0\n",
      "DAYS_EMPLOYED                  0\n",
      "CNT_FAM_MEMBERS                0\n",
      "DAYS_BIRTH                     0\n",
      "AMT_GOODS_PRICE                0\n",
      "REGION_RATING_CLIENT           0\n",
      "DAYS_REGISTRATION              0\n",
      "REGION_POPULATION_RELATIVE     0\n",
      "LIVE_REGION_NOT_WORK_REGION    0\n",
      "EXT_SOURCE_1                   0\n",
      "EXT_SOURCE_2                   0\n",
      "EXT_SOURCE_3                   0\n",
      "APARTMENTS_AVG                 0\n",
      "YEARS_BUILD_AVG                0\n",
      "FLOORSMAX_AVG                  0\n",
      "NONLIVINGAREA_AVG              0\n",
      "TOTALAREA_MODE                 0\n",
      "DAYS_LAST_PHONE_CHANGE         0\n",
      "LIVINGAREA_MEDI                0\n",
      "NONLIVINGAREA_MEDI             0\n",
      "AMT_REQ_CREDIT_BUREAU_HOUR     0\n",
      "AMT_REQ_CREDIT_BUREAU_DAY      0\n",
      "AMT_REQ_CREDIT_BUREAU_WEEK     0\n",
      "AMT_REQ_CREDIT_BUREAU_MON      0\n",
      "AMT_REQ_CREDIT_BUREAU_QRT      0\n",
      "AMT_REQ_CREDIT_BUREAU_YEAR     0\n",
      "dtype: int64\n"
     ]
    }
   ],
   "source": [
    "# Replace null values in numerical columns with mean\n",
    "for i in num.columns[num.isnull().any(axis=0)]:     #---Applying Only on variables with NaN values\n",
    "    num[i].fillna(num[i].mean(),inplace=True)\n",
    "\n",
    "print(num.isnull().sum())"
   ]
  },
  {
   "cell_type": "code",
   "execution_count": 16,
   "metadata": {
    "ExecuteTime": {
     "end_time": "2022-03-28T15:13:39.086144Z",
     "start_time": "2022-03-28T15:13:39.064664Z"
    }
   },
   "outputs": [
    {
     "name": "stdout",
     "output_type": "stream",
     "text": [
      "<class 'pandas.core.frame.DataFrame'>\n",
      "Int64Index: 64825 entries, 39451 to 307509\n",
      "Data columns (total 30 columns):\n",
      " #   Column                       Non-Null Count  Dtype  \n",
      "---  ------                       --------------  -----  \n",
      " 0   TARGET                       64825 non-null  int64  \n",
      " 1   CNT_CHILDREN                 64825 non-null  int64  \n",
      " 2   AMT_INCOME_TOTAL             64825 non-null  float64\n",
      " 3   AMT_CREDIT                   64825 non-null  float64\n",
      " 4   AMT_ANNUITY                  64825 non-null  float64\n",
      " 5   DAYS_EMPLOYED                64825 non-null  int64  \n",
      " 6   CNT_FAM_MEMBERS              64825 non-null  float64\n",
      " 7   DAYS_BIRTH                   64825 non-null  int64  \n",
      " 8   AMT_GOODS_PRICE              64825 non-null  float64\n",
      " 9   REGION_RATING_CLIENT         64825 non-null  int64  \n",
      " 10  DAYS_REGISTRATION            64825 non-null  float64\n",
      " 11  REGION_POPULATION_RELATIVE   64825 non-null  float64\n",
      " 12  LIVE_REGION_NOT_WORK_REGION  64825 non-null  int64  \n",
      " 13  EXT_SOURCE_1                 64825 non-null  float64\n",
      " 14  EXT_SOURCE_2                 64825 non-null  float64\n",
      " 15  EXT_SOURCE_3                 64825 non-null  float64\n",
      " 16  APARTMENTS_AVG               64825 non-null  float64\n",
      " 17  YEARS_BUILD_AVG              64825 non-null  float64\n",
      " 18  FLOORSMAX_AVG                64825 non-null  float64\n",
      " 19  NONLIVINGAREA_AVG            64825 non-null  float64\n",
      " 20  TOTALAREA_MODE               64825 non-null  float64\n",
      " 21  DAYS_LAST_PHONE_CHANGE       64825 non-null  float64\n",
      " 22  LIVINGAREA_MEDI              64825 non-null  float64\n",
      " 23  NONLIVINGAREA_MEDI           64825 non-null  float64\n",
      " 24  AMT_REQ_CREDIT_BUREAU_HOUR   64825 non-null  float64\n",
      " 25  AMT_REQ_CREDIT_BUREAU_DAY    64825 non-null  float64\n",
      " 26  AMT_REQ_CREDIT_BUREAU_WEEK   64825 non-null  float64\n",
      " 27  AMT_REQ_CREDIT_BUREAU_MON    64825 non-null  float64\n",
      " 28  AMT_REQ_CREDIT_BUREAU_QRT    64825 non-null  float64\n",
      " 29  AMT_REQ_CREDIT_BUREAU_YEAR   64825 non-null  float64\n",
      "dtypes: float64(24), int64(6)\n",
      "memory usage: 15.3 MB\n"
     ]
    }
   ],
   "source": [
    "num.info()"
   ]
  },
  {
   "cell_type": "markdown",
   "metadata": {},
   "source": [
    "#### Summary of numericals\n",
    "* AMT_INCOME_TOTAL has one or many outliers that may need to be trimmed.\n",
    "* Widely varying magnitudes - normalization will be important"
   ]
  },
  {
   "cell_type": "markdown",
   "metadata": {},
   "source": [
    "### Categoricals"
   ]
  },
  {
   "cell_type": "code",
   "execution_count": 17,
   "metadata": {
    "ExecuteTime": {
     "end_time": "2022-03-28T15:13:40.239957Z",
     "start_time": "2022-03-28T15:13:40.173193Z"
    }
   },
   "outputs": [
    {
     "name": "stdout",
     "output_type": "stream",
     "text": [
      "<class 'pandas.core.frame.DataFrame'>\n",
      "Int64Index: 64825 entries, 39451 to 307509\n",
      "Data columns (total 10 columns):\n",
      " #   Column               Non-Null Count  Dtype \n",
      "---  ------               --------------  ----- \n",
      " 0   NAME_EDUCATION_TYPE  64825 non-null  object\n",
      " 1   NAME_INCOME_TYPE     64825 non-null  object\n",
      " 2   CODE_GENDER          64825 non-null  object\n",
      " 3   FLAG_OWN_REALTY      64825 non-null  object\n",
      " 4   ORGANIZATION_TYPE    64825 non-null  object\n",
      " 5   NAME_HOUSING_TYPE    64825 non-null  object\n",
      " 6   NAME_FAMILY_STATUS   64825 non-null  object\n",
      " 7   NAME_TYPE_SUITE      64583 non-null  object\n",
      " 8   FLAG_OWN_CAR         64825 non-null  object\n",
      " 9   NAME_CONTRACT_TYPE   64825 non-null  object\n",
      "dtypes: object(10)\n",
      "memory usage: 5.4+ MB\n"
     ]
    }
   ],
   "source": [
    "cats = df2.select_dtypes(include='object')\n",
    "cats.info()"
   ]
  },
  {
   "cell_type": "markdown",
   "metadata": {},
   "source": [
    "## Label Encode or One-Hot Encode Categoricals\n",
    "   * Explore to figure out number of unique values\n",
    "       * If unique values >5, then label encode"
   ]
  },
  {
   "cell_type": "code",
   "execution_count": 18,
   "metadata": {
    "ExecuteTime": {
     "end_time": "2022-03-28T15:13:40.995821Z",
     "start_time": "2022-03-28T15:13:40.973563Z"
    }
   },
   "outputs": [
    {
     "data": {
      "text/plain": [
       "Working                 35570\n",
       "Commercial associate    14616\n",
       "Pensioner               10443\n",
       "State servant            4179\n",
       "Unemployed                 10\n",
       "Student                     4\n",
       "Maternity leave             2\n",
       "Businessman                 1\n",
       "Name: NAME_INCOME_TYPE, dtype: int64"
      ]
     },
     "execution_count": 18,
     "metadata": {},
     "output_type": "execute_result"
    }
   ],
   "source": [
    "cats['NAME_INCOME_TYPE'].value_counts()"
   ]
  },
  {
   "cell_type": "code",
   "execution_count": 19,
   "metadata": {
    "ExecuteTime": {
     "end_time": "2022-03-28T15:13:41.410986Z",
     "start_time": "2022-03-28T15:13:41.388439Z"
    }
   },
   "outputs": [
    {
     "data": {
      "text/plain": [
       "Unaccompanied      52634\n",
       "Family              8204\n",
       "Spouse, partner     2391\n",
       "Children             669\n",
       "Other_B              431\n",
       "Other_A              194\n",
       "Group of people       60\n",
       "Name: NAME_TYPE_SUITE, dtype: int64"
      ]
     },
     "execution_count": 19,
     "metadata": {},
     "output_type": "execute_result"
    }
   ],
   "source": [
    "cats['NAME_TYPE_SUITE'].value_counts()"
   ]
  },
  {
   "cell_type": "code",
   "execution_count": 20,
   "metadata": {
    "ExecuteTime": {
     "end_time": "2022-03-28T15:13:41.690345Z",
     "start_time": "2022-03-28T15:13:41.670581Z"
    }
   },
   "outputs": [
    {
     "data": {
      "text/plain": [
       "N    43493\n",
       "Y    21332\n",
       "Name: FLAG_OWN_CAR, dtype: int64"
      ]
     },
     "execution_count": 20,
     "metadata": {},
     "output_type": "execute_result"
    }
   ],
   "source": [
    "cats['FLAG_OWN_CAR'].value_counts()"
   ]
  },
  {
   "cell_type": "code",
   "execution_count": 21,
   "metadata": {
    "ExecuteTime": {
     "end_time": "2022-03-28T15:13:41.989629Z",
     "start_time": "2022-03-28T15:13:41.971116Z"
    }
   },
   "outputs": [
    {
     "data": {
      "text/plain": [
       "Married                 40564\n",
       "Single / not married    10253\n",
       "Civil marriage           6744\n",
       "Separated                4185\n",
       "Widow                    3078\n",
       "Unknown                     1\n",
       "Name: NAME_FAMILY_STATUS, dtype: int64"
      ]
     },
     "execution_count": 21,
     "metadata": {},
     "output_type": "execute_result"
    }
   ],
   "source": [
    "cats['NAME_FAMILY_STATUS'].value_counts()"
   ]
  },
  {
   "cell_type": "code",
   "execution_count": 22,
   "metadata": {
    "ExecuteTime": {
     "end_time": "2022-03-28T15:13:42.323900Z",
     "start_time": "2022-03-28T15:13:42.305200Z"
    }
   },
   "outputs": [
    {
     "data": {
      "text/plain": [
       "Y    44739\n",
       "N    20086\n",
       "Name: FLAG_OWN_REALTY, dtype: int64"
      ]
     },
     "execution_count": 22,
     "metadata": {},
     "output_type": "execute_result"
    }
   ],
   "source": [
    "cats['FLAG_OWN_REALTY'].value_counts()"
   ]
  },
  {
   "cell_type": "code",
   "execution_count": 23,
   "metadata": {
    "ExecuteTime": {
     "end_time": "2022-03-28T15:13:42.708114Z",
     "start_time": "2022-03-28T15:13:42.689621Z"
    }
   },
   "outputs": [
    {
     "data": {
      "text/plain": [
       "House / apartment      56875\n",
       "With parents            3599\n",
       "Municipal apartment     2370\n",
       "Rented apartment        1239\n",
       "Office apartment         529\n",
       "Co-op apartment          213\n",
       "Name: NAME_HOUSING_TYPE, dtype: int64"
      ]
     },
     "execution_count": 23,
     "metadata": {},
     "output_type": "execute_result"
    }
   ],
   "source": [
    "cats['NAME_HOUSING_TYPE'].value_counts()"
   ]
  },
  {
   "cell_type": "code",
   "execution_count": 24,
   "metadata": {
    "ExecuteTime": {
     "end_time": "2022-03-28T15:13:43.023006Z",
     "start_time": "2022-03-28T15:13:43.000190Z"
    }
   },
   "outputs": [
    {
     "data": {
      "text/plain": [
       "Secondary / secondary special    47616\n",
       "Higher education                 14062\n",
       "Incomplete higher                 2205\n",
       "Lower secondary                    914\n",
       "Academic degree                     28\n",
       "Name: NAME_EDUCATION_TYPE, dtype: int64"
      ]
     },
     "execution_count": 24,
     "metadata": {},
     "output_type": "execute_result"
    }
   ],
   "source": [
    "cats['NAME_EDUCATION_TYPE'].value_counts()"
   ]
  },
  {
   "cell_type": "code",
   "execution_count": 25,
   "metadata": {
    "ExecuteTime": {
     "end_time": "2022-03-28T15:13:43.313599Z",
     "start_time": "2022-03-28T15:13:43.291599Z"
    },
    "scrolled": true
   },
   "outputs": [
    {
     "data": {
      "text/plain": [
       "Cash loans         59367\n",
       "Revolving loans     5458\n",
       "Name: NAME_CONTRACT_TYPE, dtype: int64"
      ]
     },
     "execution_count": 25,
     "metadata": {},
     "output_type": "execute_result"
    }
   ],
   "source": [
    "cats['NAME_CONTRACT_TYPE'].value_counts()"
   ]
  },
  {
   "cell_type": "code",
   "execution_count": 26,
   "metadata": {
    "ExecuteTime": {
     "end_time": "2022-03-28T15:13:43.621285Z",
     "start_time": "2022-03-28T15:13:43.596980Z"
    }
   },
   "outputs": [
    {
     "data": {
      "text/plain": [
       "Business Entity Type 3    15088\n",
       "XNA                       10451\n",
       "Self-employed              8816\n",
       "Other                      3398\n",
       "Business Entity Type 2     2284\n",
       "Medicine                   2190\n",
       "Government                 2085\n",
       "School                     1750\n",
       "Trade: type 7              1726\n",
       "Construction               1601\n",
       "Kindergarten               1396\n",
       "Business Entity Type 1     1257\n",
       "Transport: type 4          1210\n",
       "Trade: type 3               818\n",
       "Industry: type 3            758\n",
       "Security                    744\n",
       "Industry: type 9            672\n",
       "Industry: type 11           631\n",
       "Housing                     599\n",
       "Agriculture                 572\n",
       "Military                    474\n",
       "Bank                        456\n",
       "Transport: type 2           448\n",
       "Postal                      442\n",
       "Restaurant                  439\n",
       "Police                      428\n",
       "Trade: type 2               376\n",
       "Security Ministries         365\n",
       "Transport: type 3           336\n",
       "Services                    306\n",
       "Industry: type 7            264\n",
       "Industry: type 1            239\n",
       "University                  238\n",
       "Industry: type 4            200\n",
       "Hotel                       199\n",
       "Electricity                 181\n",
       "Industry: type 5            121\n",
       "Telecom                     121\n",
       "Insurance                   120\n",
       "Emergency                   109\n",
       "Advertising                 103\n",
       "Realtor                      99\n",
       "Trade: type 6                97\n",
       "Industry: type 2             92\n",
       "Trade: type 1                72\n",
       "Culture                      70\n",
       "Mobile                       70\n",
       "Legal Services               66\n",
       "Industry: type 12            59\n",
       "Cleaning                     57\n",
       "Transport: type 1            38\n",
       "Industry: type 6             19\n",
       "Religion                     17\n",
       "Industry: type 10            16\n",
       "Industry: type 13            14\n",
       "Trade: type 4                13\n",
       "Trade: type 5                10\n",
       "Industry: type 8              5\n",
       "Name: ORGANIZATION_TYPE, dtype: int64"
      ]
     },
     "execution_count": 26,
     "metadata": {},
     "output_type": "execute_result"
    }
   ],
   "source": [
    "cats['ORGANIZATION_TYPE'].value_counts()"
   ]
  },
  {
   "cell_type": "markdown",
   "metadata": {},
   "source": [
    "#### Use label encoding to save space with Organization_Type\n",
    "* Interpreting Organization Type won't be as important as building a predictive model."
   ]
  },
  {
   "cell_type": "code",
   "execution_count": 27,
   "metadata": {
    "ExecuteTime": {
     "end_time": "2022-03-28T15:13:44.306362Z",
     "start_time": "2022-03-28T15:13:44.256922Z"
    }
   },
   "outputs": [
    {
     "data": {
      "text/html": [
       "<div>\n",
       "<style scoped>\n",
       "    .dataframe tbody tr th:only-of-type {\n",
       "        vertical-align: middle;\n",
       "    }\n",
       "\n",
       "    .dataframe tbody tr th {\n",
       "        vertical-align: top;\n",
       "    }\n",
       "\n",
       "    .dataframe thead th {\n",
       "        text-align: right;\n",
       "    }\n",
       "</style>\n",
       "<table border=\"1\" class=\"dataframe\">\n",
       "  <thead>\n",
       "    <tr style=\"text-align: right;\">\n",
       "      <th></th>\n",
       "      <th>NAME_EDUCATION_TYPE</th>\n",
       "      <th>NAME_INCOME_TYPE</th>\n",
       "      <th>CODE_GENDER</th>\n",
       "      <th>FLAG_OWN_REALTY</th>\n",
       "      <th>ORGANIZATION_TYPE</th>\n",
       "      <th>NAME_HOUSING_TYPE</th>\n",
       "      <th>NAME_FAMILY_STATUS</th>\n",
       "      <th>NAME_TYPE_SUITE</th>\n",
       "      <th>FLAG_OWN_CAR</th>\n",
       "      <th>NAME_CONTRACT_TYPE</th>\n",
       "      <th>ORGANIZATION_TYPE_CODE</th>\n",
       "    </tr>\n",
       "  </thead>\n",
       "  <tbody>\n",
       "    <tr>\n",
       "      <th>39451</th>\n",
       "      <td>Secondary / secondary special</td>\n",
       "      <td>Pensioner</td>\n",
       "      <td>F</td>\n",
       "      <td>Y</td>\n",
       "      <td>XNA</td>\n",
       "      <td>House / apartment</td>\n",
       "      <td>Married</td>\n",
       "      <td>Spouse, partner</td>\n",
       "      <td>N</td>\n",
       "      <td>Cash loans</td>\n",
       "      <td>57</td>\n",
       "    </tr>\n",
       "    <tr>\n",
       "      <th>80296</th>\n",
       "      <td>Higher education</td>\n",
       "      <td>Commercial associate</td>\n",
       "      <td>M</td>\n",
       "      <td>Y</td>\n",
       "      <td>Business Entity Type 3</td>\n",
       "      <td>House / apartment</td>\n",
       "      <td>Married</td>\n",
       "      <td>Unaccompanied</td>\n",
       "      <td>N</td>\n",
       "      <td>Cash loans</td>\n",
       "      <td>5</td>\n",
       "    </tr>\n",
       "    <tr>\n",
       "      <th>34978</th>\n",
       "      <td>Secondary / secondary special</td>\n",
       "      <td>State servant</td>\n",
       "      <td>F</td>\n",
       "      <td>Y</td>\n",
       "      <td>School</td>\n",
       "      <td>House / apartment</td>\n",
       "      <td>Married</td>\n",
       "      <td>Family</td>\n",
       "      <td>Y</td>\n",
       "      <td>Cash loans</td>\n",
       "      <td>39</td>\n",
       "    </tr>\n",
       "    <tr>\n",
       "      <th>214576</th>\n",
       "      <td>Secondary / secondary special</td>\n",
       "      <td>Working</td>\n",
       "      <td>M</td>\n",
       "      <td>N</td>\n",
       "      <td>Military</td>\n",
       "      <td>Office apartment</td>\n",
       "      <td>Single / not married</td>\n",
       "      <td>Unaccompanied</td>\n",
       "      <td>N</td>\n",
       "      <td>Cash loans</td>\n",
       "      <td>31</td>\n",
       "    </tr>\n",
       "    <tr>\n",
       "      <th>169952</th>\n",
       "      <td>Secondary / secondary special</td>\n",
       "      <td>Working</td>\n",
       "      <td>M</td>\n",
       "      <td>N</td>\n",
       "      <td>Transport: type 4</td>\n",
       "      <td>Rented apartment</td>\n",
       "      <td>Married</td>\n",
       "      <td>Other_B</td>\n",
       "      <td>Y</td>\n",
       "      <td>Cash loans</td>\n",
       "      <td>55</td>\n",
       "    </tr>\n",
       "  </tbody>\n",
       "</table>\n",
       "</div>"
      ],
      "text/plain": [
       "                  NAME_EDUCATION_TYPE      NAME_INCOME_TYPE CODE_GENDER  \\\n",
       "39451   Secondary / secondary special             Pensioner           F   \n",
       "80296                Higher education  Commercial associate           M   \n",
       "34978   Secondary / secondary special         State servant           F   \n",
       "214576  Secondary / secondary special               Working           M   \n",
       "169952  Secondary / secondary special               Working           M   \n",
       "\n",
       "       FLAG_OWN_REALTY       ORGANIZATION_TYPE  NAME_HOUSING_TYPE  \\\n",
       "39451                Y                     XNA  House / apartment   \n",
       "80296                Y  Business Entity Type 3  House / apartment   \n",
       "34978                Y                  School  House / apartment   \n",
       "214576               N                Military   Office apartment   \n",
       "169952               N       Transport: type 4   Rented apartment   \n",
       "\n",
       "          NAME_FAMILY_STATUS  NAME_TYPE_SUITE FLAG_OWN_CAR NAME_CONTRACT_TYPE  \\\n",
       "39451                Married  Spouse, partner            N         Cash loans   \n",
       "80296                Married    Unaccompanied            N         Cash loans   \n",
       "34978                Married           Family            Y         Cash loans   \n",
       "214576  Single / not married    Unaccompanied            N         Cash loans   \n",
       "169952               Married          Other_B            Y         Cash loans   \n",
       "\n",
       "        ORGANIZATION_TYPE_CODE  \n",
       "39451                       57  \n",
       "80296                        5  \n",
       "34978                       39  \n",
       "214576                      31  \n",
       "169952                      55  "
      ]
     },
     "execution_count": 27,
     "metadata": {},
     "output_type": "execute_result"
    }
   ],
   "source": [
    "# Instantiate LabelEncoder\n",
    "label_encoder = LabelEncoder()\n",
    "\n",
    "# create new row for Organization_type with label encoder\n",
    "cats['ORGANIZATION_TYPE_CODE'] = label_encoder.fit_transform(cats['ORGANIZATION_TYPE'])\n",
    "\n",
    "cats.head()"
   ]
  },
  {
   "cell_type": "code",
   "execution_count": 28,
   "metadata": {
    "ExecuteTime": {
     "end_time": "2022-03-28T15:13:44.681756Z",
     "start_time": "2022-03-28T15:13:44.649355Z"
    }
   },
   "outputs": [
    {
     "data": {
      "text/html": [
       "<div>\n",
       "<style scoped>\n",
       "    .dataframe tbody tr th:only-of-type {\n",
       "        vertical-align: middle;\n",
       "    }\n",
       "\n",
       "    .dataframe tbody tr th {\n",
       "        vertical-align: top;\n",
       "    }\n",
       "\n",
       "    .dataframe thead th {\n",
       "        text-align: right;\n",
       "    }\n",
       "</style>\n",
       "<table border=\"1\" class=\"dataframe\">\n",
       "  <thead>\n",
       "    <tr style=\"text-align: right;\">\n",
       "      <th></th>\n",
       "      <th>NAME_EDUCATION_TYPE</th>\n",
       "      <th>NAME_INCOME_TYPE</th>\n",
       "      <th>CODE_GENDER</th>\n",
       "      <th>FLAG_OWN_REALTY</th>\n",
       "      <th>NAME_HOUSING_TYPE</th>\n",
       "      <th>NAME_FAMILY_STATUS</th>\n",
       "      <th>NAME_TYPE_SUITE</th>\n",
       "      <th>FLAG_OWN_CAR</th>\n",
       "      <th>NAME_CONTRACT_TYPE</th>\n",
       "      <th>ORGANIZATION_TYPE_CODE</th>\n",
       "    </tr>\n",
       "  </thead>\n",
       "  <tbody>\n",
       "    <tr>\n",
       "      <th>39451</th>\n",
       "      <td>Secondary / secondary special</td>\n",
       "      <td>Pensioner</td>\n",
       "      <td>F</td>\n",
       "      <td>Y</td>\n",
       "      <td>House / apartment</td>\n",
       "      <td>Married</td>\n",
       "      <td>Spouse, partner</td>\n",
       "      <td>N</td>\n",
       "      <td>Cash loans</td>\n",
       "      <td>57</td>\n",
       "    </tr>\n",
       "    <tr>\n",
       "      <th>80296</th>\n",
       "      <td>Higher education</td>\n",
       "      <td>Commercial associate</td>\n",
       "      <td>M</td>\n",
       "      <td>Y</td>\n",
       "      <td>House / apartment</td>\n",
       "      <td>Married</td>\n",
       "      <td>Unaccompanied</td>\n",
       "      <td>N</td>\n",
       "      <td>Cash loans</td>\n",
       "      <td>5</td>\n",
       "    </tr>\n",
       "    <tr>\n",
       "      <th>34978</th>\n",
       "      <td>Secondary / secondary special</td>\n",
       "      <td>State servant</td>\n",
       "      <td>F</td>\n",
       "      <td>Y</td>\n",
       "      <td>House / apartment</td>\n",
       "      <td>Married</td>\n",
       "      <td>Family</td>\n",
       "      <td>Y</td>\n",
       "      <td>Cash loans</td>\n",
       "      <td>39</td>\n",
       "    </tr>\n",
       "    <tr>\n",
       "      <th>214576</th>\n",
       "      <td>Secondary / secondary special</td>\n",
       "      <td>Working</td>\n",
       "      <td>M</td>\n",
       "      <td>N</td>\n",
       "      <td>Office apartment</td>\n",
       "      <td>Single / not married</td>\n",
       "      <td>Unaccompanied</td>\n",
       "      <td>N</td>\n",
       "      <td>Cash loans</td>\n",
       "      <td>31</td>\n",
       "    </tr>\n",
       "    <tr>\n",
       "      <th>169952</th>\n",
       "      <td>Secondary / secondary special</td>\n",
       "      <td>Working</td>\n",
       "      <td>M</td>\n",
       "      <td>N</td>\n",
       "      <td>Rented apartment</td>\n",
       "      <td>Married</td>\n",
       "      <td>Other_B</td>\n",
       "      <td>Y</td>\n",
       "      <td>Cash loans</td>\n",
       "      <td>55</td>\n",
       "    </tr>\n",
       "  </tbody>\n",
       "</table>\n",
       "</div>"
      ],
      "text/plain": [
       "                  NAME_EDUCATION_TYPE      NAME_INCOME_TYPE CODE_GENDER  \\\n",
       "39451   Secondary / secondary special             Pensioner           F   \n",
       "80296                Higher education  Commercial associate           M   \n",
       "34978   Secondary / secondary special         State servant           F   \n",
       "214576  Secondary / secondary special               Working           M   \n",
       "169952  Secondary / secondary special               Working           M   \n",
       "\n",
       "       FLAG_OWN_REALTY  NAME_HOUSING_TYPE    NAME_FAMILY_STATUS  \\\n",
       "39451                Y  House / apartment               Married   \n",
       "80296                Y  House / apartment               Married   \n",
       "34978                Y  House / apartment               Married   \n",
       "214576               N   Office apartment  Single / not married   \n",
       "169952               N   Rented apartment               Married   \n",
       "\n",
       "        NAME_TYPE_SUITE FLAG_OWN_CAR NAME_CONTRACT_TYPE  \\\n",
       "39451   Spouse, partner            N         Cash loans   \n",
       "80296     Unaccompanied            N         Cash loans   \n",
       "34978            Family            Y         Cash loans   \n",
       "214576    Unaccompanied            N         Cash loans   \n",
       "169952          Other_B            Y         Cash loans   \n",
       "\n",
       "        ORGANIZATION_TYPE_CODE  \n",
       "39451                       57  \n",
       "80296                        5  \n",
       "34978                       39  \n",
       "214576                      31  \n",
       "169952                      55  "
      ]
     },
     "execution_count": 28,
     "metadata": {},
     "output_type": "execute_result"
    }
   ],
   "source": [
    "# drop Organization_Type column\n",
    "cats = cats.drop('ORGANIZATION_TYPE', axis=1)\n",
    "\n",
    "cats.head()"
   ]
  },
  {
   "cell_type": "markdown",
   "metadata": {},
   "source": [
    "#### One Hot Encode Categoricals"
   ]
  },
  {
   "cell_type": "code",
   "execution_count": 29,
   "metadata": {
    "ExecuteTime": {
     "end_time": "2022-03-28T15:13:45.328233Z",
     "start_time": "2022-03-28T15:13:45.294862Z"
    }
   },
   "outputs": [
    {
     "data": {
      "text/html": [
       "<div>\n",
       "<style scoped>\n",
       "    .dataframe tbody tr th:only-of-type {\n",
       "        vertical-align: middle;\n",
       "    }\n",
       "\n",
       "    .dataframe tbody tr th {\n",
       "        vertical-align: top;\n",
       "    }\n",
       "\n",
       "    .dataframe thead th {\n",
       "        text-align: right;\n",
       "    }\n",
       "</style>\n",
       "<table border=\"1\" class=\"dataframe\">\n",
       "  <thead>\n",
       "    <tr style=\"text-align: right;\">\n",
       "      <th></th>\n",
       "      <th>NAME_EDUCATION_TYPE</th>\n",
       "      <th>NAME_INCOME_TYPE</th>\n",
       "      <th>CODE_GENDER</th>\n",
       "      <th>FLAG_OWN_REALTY</th>\n",
       "      <th>NAME_HOUSING_TYPE</th>\n",
       "      <th>NAME_FAMILY_STATUS</th>\n",
       "      <th>NAME_TYPE_SUITE</th>\n",
       "      <th>FLAG_OWN_CAR</th>\n",
       "      <th>NAME_CONTRACT_TYPE</th>\n",
       "    </tr>\n",
       "  </thead>\n",
       "  <tbody>\n",
       "    <tr>\n",
       "      <th>39451</th>\n",
       "      <td>Secondary / secondary special</td>\n",
       "      <td>Pensioner</td>\n",
       "      <td>F</td>\n",
       "      <td>Y</td>\n",
       "      <td>House / apartment</td>\n",
       "      <td>Married</td>\n",
       "      <td>Spouse, partner</td>\n",
       "      <td>N</td>\n",
       "      <td>Cash loans</td>\n",
       "    </tr>\n",
       "    <tr>\n",
       "      <th>80296</th>\n",
       "      <td>Higher education</td>\n",
       "      <td>Commercial associate</td>\n",
       "      <td>M</td>\n",
       "      <td>Y</td>\n",
       "      <td>House / apartment</td>\n",
       "      <td>Married</td>\n",
       "      <td>Unaccompanied</td>\n",
       "      <td>N</td>\n",
       "      <td>Cash loans</td>\n",
       "    </tr>\n",
       "    <tr>\n",
       "      <th>34978</th>\n",
       "      <td>Secondary / secondary special</td>\n",
       "      <td>State servant</td>\n",
       "      <td>F</td>\n",
       "      <td>Y</td>\n",
       "      <td>House / apartment</td>\n",
       "      <td>Married</td>\n",
       "      <td>Family</td>\n",
       "      <td>Y</td>\n",
       "      <td>Cash loans</td>\n",
       "    </tr>\n",
       "    <tr>\n",
       "      <th>214576</th>\n",
       "      <td>Secondary / secondary special</td>\n",
       "      <td>Working</td>\n",
       "      <td>M</td>\n",
       "      <td>N</td>\n",
       "      <td>Office apartment</td>\n",
       "      <td>Single / not married</td>\n",
       "      <td>Unaccompanied</td>\n",
       "      <td>N</td>\n",
       "      <td>Cash loans</td>\n",
       "    </tr>\n",
       "    <tr>\n",
       "      <th>169952</th>\n",
       "      <td>Secondary / secondary special</td>\n",
       "      <td>Working</td>\n",
       "      <td>M</td>\n",
       "      <td>N</td>\n",
       "      <td>Rented apartment</td>\n",
       "      <td>Married</td>\n",
       "      <td>Other_B</td>\n",
       "      <td>Y</td>\n",
       "      <td>Cash loans</td>\n",
       "    </tr>\n",
       "  </tbody>\n",
       "</table>\n",
       "</div>"
      ],
      "text/plain": [
       "                  NAME_EDUCATION_TYPE      NAME_INCOME_TYPE CODE_GENDER  \\\n",
       "39451   Secondary / secondary special             Pensioner           F   \n",
       "80296                Higher education  Commercial associate           M   \n",
       "34978   Secondary / secondary special         State servant           F   \n",
       "214576  Secondary / secondary special               Working           M   \n",
       "169952  Secondary / secondary special               Working           M   \n",
       "\n",
       "       FLAG_OWN_REALTY  NAME_HOUSING_TYPE    NAME_FAMILY_STATUS  \\\n",
       "39451                Y  House / apartment               Married   \n",
       "80296                Y  House / apartment               Married   \n",
       "34978                Y  House / apartment               Married   \n",
       "214576               N   Office apartment  Single / not married   \n",
       "169952               N   Rented apartment               Married   \n",
       "\n",
       "        NAME_TYPE_SUITE FLAG_OWN_CAR NAME_CONTRACT_TYPE  \n",
       "39451   Spouse, partner            N         Cash loans  \n",
       "80296     Unaccompanied            N         Cash loans  \n",
       "34978            Family            Y         Cash loans  \n",
       "214576    Unaccompanied            N         Cash loans  \n",
       "169952          Other_B            Y         Cash loans  "
      ]
     },
     "execution_count": 29,
     "metadata": {},
     "output_type": "execute_result"
    }
   ],
   "source": [
    "# Separate Label Encoded Column\n",
    "label_encoded = cats['ORGANIZATION_TYPE_CODE']\n",
    "\n",
    "cats = cats.drop('ORGANIZATION_TYPE_CODE', axis=1)\n",
    "\n",
    "cats.head()"
   ]
  },
  {
   "cell_type": "code",
   "execution_count": 30,
   "metadata": {
    "ExecuteTime": {
     "end_time": "2022-03-28T15:13:45.786205Z",
     "start_time": "2022-03-28T15:13:45.632689Z"
    }
   },
   "outputs": [
    {
     "data": {
      "text/html": [
       "<div>\n",
       "<style scoped>\n",
       "    .dataframe tbody tr th:only-of-type {\n",
       "        vertical-align: middle;\n",
       "    }\n",
       "\n",
       "    .dataframe tbody tr th {\n",
       "        vertical-align: top;\n",
       "    }\n",
       "\n",
       "    .dataframe thead th {\n",
       "        text-align: right;\n",
       "    }\n",
       "</style>\n",
       "<table border=\"1\" class=\"dataframe\">\n",
       "  <thead>\n",
       "    <tr style=\"text-align: right;\">\n",
       "      <th></th>\n",
       "      <th>NAME_EDUCATION_TYPE_Higher education</th>\n",
       "      <th>NAME_EDUCATION_TYPE_Incomplete higher</th>\n",
       "      <th>NAME_EDUCATION_TYPE_Lower secondary</th>\n",
       "      <th>NAME_EDUCATION_TYPE_Secondary / secondary special</th>\n",
       "      <th>NAME_INCOME_TYPE_Commercial associate</th>\n",
       "      <th>NAME_INCOME_TYPE_Maternity leave</th>\n",
       "      <th>NAME_INCOME_TYPE_Pensioner</th>\n",
       "      <th>NAME_INCOME_TYPE_State servant</th>\n",
       "      <th>NAME_INCOME_TYPE_Student</th>\n",
       "      <th>NAME_INCOME_TYPE_Unemployed</th>\n",
       "      <th>...</th>\n",
       "      <th>NAME_FAMILY_STATUS_Unknown</th>\n",
       "      <th>NAME_FAMILY_STATUS_Widow</th>\n",
       "      <th>NAME_TYPE_SUITE_Family</th>\n",
       "      <th>NAME_TYPE_SUITE_Group of people</th>\n",
       "      <th>NAME_TYPE_SUITE_Other_A</th>\n",
       "      <th>NAME_TYPE_SUITE_Other_B</th>\n",
       "      <th>NAME_TYPE_SUITE_Spouse, partner</th>\n",
       "      <th>NAME_TYPE_SUITE_Unaccompanied</th>\n",
       "      <th>FLAG_OWN_CAR_Y</th>\n",
       "      <th>NAME_CONTRACT_TYPE_Revolving loans</th>\n",
       "    </tr>\n",
       "  </thead>\n",
       "  <tbody>\n",
       "    <tr>\n",
       "      <th>39451</th>\n",
       "      <td>0</td>\n",
       "      <td>0</td>\n",
       "      <td>0</td>\n",
       "      <td>1</td>\n",
       "      <td>0</td>\n",
       "      <td>0</td>\n",
       "      <td>1</td>\n",
       "      <td>0</td>\n",
       "      <td>0</td>\n",
       "      <td>0</td>\n",
       "      <td>...</td>\n",
       "      <td>0</td>\n",
       "      <td>0</td>\n",
       "      <td>0</td>\n",
       "      <td>0</td>\n",
       "      <td>0</td>\n",
       "      <td>0</td>\n",
       "      <td>1</td>\n",
       "      <td>0</td>\n",
       "      <td>0</td>\n",
       "      <td>0</td>\n",
       "    </tr>\n",
       "    <tr>\n",
       "      <th>80296</th>\n",
       "      <td>1</td>\n",
       "      <td>0</td>\n",
       "      <td>0</td>\n",
       "      <td>0</td>\n",
       "      <td>1</td>\n",
       "      <td>0</td>\n",
       "      <td>0</td>\n",
       "      <td>0</td>\n",
       "      <td>0</td>\n",
       "      <td>0</td>\n",
       "      <td>...</td>\n",
       "      <td>0</td>\n",
       "      <td>0</td>\n",
       "      <td>0</td>\n",
       "      <td>0</td>\n",
       "      <td>0</td>\n",
       "      <td>0</td>\n",
       "      <td>0</td>\n",
       "      <td>1</td>\n",
       "      <td>0</td>\n",
       "      <td>0</td>\n",
       "    </tr>\n",
       "    <tr>\n",
       "      <th>34978</th>\n",
       "      <td>0</td>\n",
       "      <td>0</td>\n",
       "      <td>0</td>\n",
       "      <td>1</td>\n",
       "      <td>0</td>\n",
       "      <td>0</td>\n",
       "      <td>0</td>\n",
       "      <td>1</td>\n",
       "      <td>0</td>\n",
       "      <td>0</td>\n",
       "      <td>...</td>\n",
       "      <td>0</td>\n",
       "      <td>0</td>\n",
       "      <td>1</td>\n",
       "      <td>0</td>\n",
       "      <td>0</td>\n",
       "      <td>0</td>\n",
       "      <td>0</td>\n",
       "      <td>0</td>\n",
       "      <td>1</td>\n",
       "      <td>0</td>\n",
       "    </tr>\n",
       "    <tr>\n",
       "      <th>214576</th>\n",
       "      <td>0</td>\n",
       "      <td>0</td>\n",
       "      <td>0</td>\n",
       "      <td>1</td>\n",
       "      <td>0</td>\n",
       "      <td>0</td>\n",
       "      <td>0</td>\n",
       "      <td>0</td>\n",
       "      <td>0</td>\n",
       "      <td>0</td>\n",
       "      <td>...</td>\n",
       "      <td>0</td>\n",
       "      <td>0</td>\n",
       "      <td>0</td>\n",
       "      <td>0</td>\n",
       "      <td>0</td>\n",
       "      <td>0</td>\n",
       "      <td>0</td>\n",
       "      <td>1</td>\n",
       "      <td>0</td>\n",
       "      <td>0</td>\n",
       "    </tr>\n",
       "    <tr>\n",
       "      <th>169952</th>\n",
       "      <td>0</td>\n",
       "      <td>0</td>\n",
       "      <td>0</td>\n",
       "      <td>1</td>\n",
       "      <td>0</td>\n",
       "      <td>0</td>\n",
       "      <td>0</td>\n",
       "      <td>0</td>\n",
       "      <td>0</td>\n",
       "      <td>0</td>\n",
       "      <td>...</td>\n",
       "      <td>0</td>\n",
       "      <td>0</td>\n",
       "      <td>0</td>\n",
       "      <td>0</td>\n",
       "      <td>0</td>\n",
       "      <td>1</td>\n",
       "      <td>0</td>\n",
       "      <td>0</td>\n",
       "      <td>1</td>\n",
       "      <td>0</td>\n",
       "    </tr>\n",
       "  </tbody>\n",
       "</table>\n",
       "<p>5 rows × 31 columns</p>\n",
       "</div>"
      ],
      "text/plain": [
       "        NAME_EDUCATION_TYPE_Higher education  \\\n",
       "39451                                      0   \n",
       "80296                                      1   \n",
       "34978                                      0   \n",
       "214576                                     0   \n",
       "169952                                     0   \n",
       "\n",
       "        NAME_EDUCATION_TYPE_Incomplete higher  \\\n",
       "39451                                       0   \n",
       "80296                                       0   \n",
       "34978                                       0   \n",
       "214576                                      0   \n",
       "169952                                      0   \n",
       "\n",
       "        NAME_EDUCATION_TYPE_Lower secondary  \\\n",
       "39451                                     0   \n",
       "80296                                     0   \n",
       "34978                                     0   \n",
       "214576                                    0   \n",
       "169952                                    0   \n",
       "\n",
       "        NAME_EDUCATION_TYPE_Secondary / secondary special  \\\n",
       "39451                                                   1   \n",
       "80296                                                   0   \n",
       "34978                                                   1   \n",
       "214576                                                  1   \n",
       "169952                                                  1   \n",
       "\n",
       "        NAME_INCOME_TYPE_Commercial associate  \\\n",
       "39451                                       0   \n",
       "80296                                       1   \n",
       "34978                                       0   \n",
       "214576                                      0   \n",
       "169952                                      0   \n",
       "\n",
       "        NAME_INCOME_TYPE_Maternity leave  NAME_INCOME_TYPE_Pensioner  \\\n",
       "39451                                  0                           1   \n",
       "80296                                  0                           0   \n",
       "34978                                  0                           0   \n",
       "214576                                 0                           0   \n",
       "169952                                 0                           0   \n",
       "\n",
       "        NAME_INCOME_TYPE_State servant  NAME_INCOME_TYPE_Student  \\\n",
       "39451                                0                         0   \n",
       "80296                                0                         0   \n",
       "34978                                1                         0   \n",
       "214576                               0                         0   \n",
       "169952                               0                         0   \n",
       "\n",
       "        NAME_INCOME_TYPE_Unemployed  ...  NAME_FAMILY_STATUS_Unknown  \\\n",
       "39451                             0  ...                           0   \n",
       "80296                             0  ...                           0   \n",
       "34978                             0  ...                           0   \n",
       "214576                            0  ...                           0   \n",
       "169952                            0  ...                           0   \n",
       "\n",
       "        NAME_FAMILY_STATUS_Widow  NAME_TYPE_SUITE_Family  \\\n",
       "39451                          0                       0   \n",
       "80296                          0                       0   \n",
       "34978                          0                       1   \n",
       "214576                         0                       0   \n",
       "169952                         0                       0   \n",
       "\n",
       "        NAME_TYPE_SUITE_Group of people  NAME_TYPE_SUITE_Other_A  \\\n",
       "39451                                 0                        0   \n",
       "80296                                 0                        0   \n",
       "34978                                 0                        0   \n",
       "214576                                0                        0   \n",
       "169952                                0                        0   \n",
       "\n",
       "        NAME_TYPE_SUITE_Other_B  NAME_TYPE_SUITE_Spouse, partner  \\\n",
       "39451                         0                                1   \n",
       "80296                         0                                0   \n",
       "34978                         0                                0   \n",
       "214576                        0                                0   \n",
       "169952                        1                                0   \n",
       "\n",
       "        NAME_TYPE_SUITE_Unaccompanied  FLAG_OWN_CAR_Y  \\\n",
       "39451                               0               0   \n",
       "80296                               1               0   \n",
       "34978                               0               1   \n",
       "214576                              1               0   \n",
       "169952                              0               1   \n",
       "\n",
       "        NAME_CONTRACT_TYPE_Revolving loans  \n",
       "39451                                    0  \n",
       "80296                                    0  \n",
       "34978                                    0  \n",
       "214576                                   0  \n",
       "169952                                   0  \n",
       "\n",
       "[5 rows x 31 columns]"
      ]
     },
     "execution_count": 30,
     "metadata": {},
     "output_type": "execute_result"
    }
   ],
   "source": [
    "# copy categoricals\n",
    "cat_dummies = cats.copy()\n",
    "\n",
    "# get dummies for categoricals from cat_dummies\n",
    "cat_dummies = pd.get_dummies(cat_dummies, drop_first=True)\n",
    "\n",
    "cat_dummies.head()"
   ]
  },
  {
   "cell_type": "code",
   "execution_count": 31,
   "metadata": {
    "ExecuteTime": {
     "end_time": "2022-03-28T15:13:45.988220Z",
     "start_time": "2022-03-28T15:13:45.983110Z"
    },
    "scrolled": true
   },
   "outputs": [
    {
     "name": "stdout",
     "output_type": "stream",
     "text": [
      "(64825, 31)\n"
     ]
    }
   ],
   "source": [
    "# print shape - column, row attributes\n",
    "print(cat_dummies.shape)"
   ]
  },
  {
   "cell_type": "code",
   "execution_count": 32,
   "metadata": {
    "ExecuteTime": {
     "end_time": "2022-03-28T15:13:46.291979Z",
     "start_time": "2022-03-28T15:13:46.288720Z"
    }
   },
   "outputs": [],
   "source": [
    "# replace with mode for categorical variables\n",
    "# df5['NAME_TYPE_SUITE'].fillna(df5['NAME_TYPE_SUITE'].mode()[0], inplace=True)\n",
    "# print('NAME_TYPE_SUITE:', df5['NAME_TYPE_SUITE'].describe())\n",
    "# print()\n"
   ]
  },
  {
   "cell_type": "markdown",
   "metadata": {},
   "source": [
    "## Concatenate data frames\n",
    "* Did not remove outliers"
   ]
  },
  {
   "cell_type": "code",
   "execution_count": 37,
   "metadata": {
    "ExecuteTime": {
     "end_time": "2022-03-28T15:14:30.185349Z",
     "start_time": "2022-03-28T15:14:30.133676Z"
    },
    "scrolled": true
   },
   "outputs": [
    {
     "data": {
      "text/html": [
       "<div>\n",
       "<style scoped>\n",
       "    .dataframe tbody tr th:only-of-type {\n",
       "        vertical-align: middle;\n",
       "    }\n",
       "\n",
       "    .dataframe tbody tr th {\n",
       "        vertical-align: top;\n",
       "    }\n",
       "\n",
       "    .dataframe thead th {\n",
       "        text-align: right;\n",
       "    }\n",
       "</style>\n",
       "<table border=\"1\" class=\"dataframe\">\n",
       "  <thead>\n",
       "    <tr style=\"text-align: right;\">\n",
       "      <th></th>\n",
       "      <th>TARGET</th>\n",
       "      <th>CNT_CHILDREN</th>\n",
       "      <th>AMT_INCOME_TOTAL</th>\n",
       "      <th>AMT_CREDIT</th>\n",
       "      <th>AMT_ANNUITY</th>\n",
       "      <th>DAYS_EMPLOYED</th>\n",
       "      <th>CNT_FAM_MEMBERS</th>\n",
       "      <th>DAYS_BIRTH</th>\n",
       "      <th>AMT_GOODS_PRICE</th>\n",
       "      <th>REGION_RATING_CLIENT</th>\n",
       "      <th>...</th>\n",
       "      <th>NAME_FAMILY_STATUS_Widow</th>\n",
       "      <th>NAME_TYPE_SUITE_Family</th>\n",
       "      <th>NAME_TYPE_SUITE_Group of people</th>\n",
       "      <th>NAME_TYPE_SUITE_Other_A</th>\n",
       "      <th>NAME_TYPE_SUITE_Other_B</th>\n",
       "      <th>NAME_TYPE_SUITE_Spouse, partner</th>\n",
       "      <th>NAME_TYPE_SUITE_Unaccompanied</th>\n",
       "      <th>FLAG_OWN_CAR_Y</th>\n",
       "      <th>NAME_CONTRACT_TYPE_Revolving loans</th>\n",
       "      <th>ORGANIZATION_TYPE_CODE</th>\n",
       "    </tr>\n",
       "  </thead>\n",
       "  <tbody>\n",
       "    <tr>\n",
       "      <th>39451</th>\n",
       "      <td>0</td>\n",
       "      <td>0</td>\n",
       "      <td>270000.0</td>\n",
       "      <td>573408.0</td>\n",
       "      <td>29407.5</td>\n",
       "      <td>365243</td>\n",
       "      <td>2.0</td>\n",
       "      <td>-21939</td>\n",
       "      <td>495000.0</td>\n",
       "      <td>1</td>\n",
       "      <td>...</td>\n",
       "      <td>0</td>\n",
       "      <td>0</td>\n",
       "      <td>0</td>\n",
       "      <td>0</td>\n",
       "      <td>0</td>\n",
       "      <td>1</td>\n",
       "      <td>0</td>\n",
       "      <td>0</td>\n",
       "      <td>0</td>\n",
       "      <td>57</td>\n",
       "    </tr>\n",
       "    <tr>\n",
       "      <th>80296</th>\n",
       "      <td>0</td>\n",
       "      <td>1</td>\n",
       "      <td>90000.0</td>\n",
       "      <td>225000.0</td>\n",
       "      <td>10039.5</td>\n",
       "      <td>-213</td>\n",
       "      <td>3.0</td>\n",
       "      <td>-10613</td>\n",
       "      <td>225000.0</td>\n",
       "      <td>2</td>\n",
       "      <td>...</td>\n",
       "      <td>0</td>\n",
       "      <td>0</td>\n",
       "      <td>0</td>\n",
       "      <td>0</td>\n",
       "      <td>0</td>\n",
       "      <td>0</td>\n",
       "      <td>1</td>\n",
       "      <td>0</td>\n",
       "      <td>0</td>\n",
       "      <td>5</td>\n",
       "    </tr>\n",
       "    <tr>\n",
       "      <th>34978</th>\n",
       "      <td>0</td>\n",
       "      <td>1</td>\n",
       "      <td>180000.0</td>\n",
       "      <td>715095.0</td>\n",
       "      <td>48109.5</td>\n",
       "      <td>-6642</td>\n",
       "      <td>3.0</td>\n",
       "      <td>-17505</td>\n",
       "      <td>675000.0</td>\n",
       "      <td>2</td>\n",
       "      <td>...</td>\n",
       "      <td>0</td>\n",
       "      <td>1</td>\n",
       "      <td>0</td>\n",
       "      <td>0</td>\n",
       "      <td>0</td>\n",
       "      <td>0</td>\n",
       "      <td>0</td>\n",
       "      <td>1</td>\n",
       "      <td>0</td>\n",
       "      <td>39</td>\n",
       "    </tr>\n",
       "    <tr>\n",
       "      <th>214576</th>\n",
       "      <td>0</td>\n",
       "      <td>0</td>\n",
       "      <td>247500.0</td>\n",
       "      <td>765000.0</td>\n",
       "      <td>22365.0</td>\n",
       "      <td>-3342</td>\n",
       "      <td>1.0</td>\n",
       "      <td>-13780</td>\n",
       "      <td>765000.0</td>\n",
       "      <td>2</td>\n",
       "      <td>...</td>\n",
       "      <td>0</td>\n",
       "      <td>0</td>\n",
       "      <td>0</td>\n",
       "      <td>0</td>\n",
       "      <td>0</td>\n",
       "      <td>0</td>\n",
       "      <td>1</td>\n",
       "      <td>0</td>\n",
       "      <td>0</td>\n",
       "      <td>31</td>\n",
       "    </tr>\n",
       "    <tr>\n",
       "      <th>169952</th>\n",
       "      <td>0</td>\n",
       "      <td>0</td>\n",
       "      <td>202500.0</td>\n",
       "      <td>528633.0</td>\n",
       "      <td>38817.0</td>\n",
       "      <td>-2551</td>\n",
       "      <td>2.0</td>\n",
       "      <td>-16880</td>\n",
       "      <td>472500.0</td>\n",
       "      <td>3</td>\n",
       "      <td>...</td>\n",
       "      <td>0</td>\n",
       "      <td>0</td>\n",
       "      <td>0</td>\n",
       "      <td>0</td>\n",
       "      <td>1</td>\n",
       "      <td>0</td>\n",
       "      <td>0</td>\n",
       "      <td>1</td>\n",
       "      <td>0</td>\n",
       "      <td>55</td>\n",
       "    </tr>\n",
       "  </tbody>\n",
       "</table>\n",
       "<p>5 rows × 62 columns</p>\n",
       "</div>"
      ],
      "text/plain": [
       "        TARGET  CNT_CHILDREN  AMT_INCOME_TOTAL  AMT_CREDIT  AMT_ANNUITY  \\\n",
       "39451        0             0          270000.0    573408.0      29407.5   \n",
       "80296        0             1           90000.0    225000.0      10039.5   \n",
       "34978        0             1          180000.0    715095.0      48109.5   \n",
       "214576       0             0          247500.0    765000.0      22365.0   \n",
       "169952       0             0          202500.0    528633.0      38817.0   \n",
       "\n",
       "        DAYS_EMPLOYED  CNT_FAM_MEMBERS  DAYS_BIRTH  AMT_GOODS_PRICE  \\\n",
       "39451          365243              2.0      -21939         495000.0   \n",
       "80296            -213              3.0      -10613         225000.0   \n",
       "34978           -6642              3.0      -17505         675000.0   \n",
       "214576          -3342              1.0      -13780         765000.0   \n",
       "169952          -2551              2.0      -16880         472500.0   \n",
       "\n",
       "        REGION_RATING_CLIENT  ...  NAME_FAMILY_STATUS_Widow  \\\n",
       "39451                      1  ...                         0   \n",
       "80296                      2  ...                         0   \n",
       "34978                      2  ...                         0   \n",
       "214576                     2  ...                         0   \n",
       "169952                     3  ...                         0   \n",
       "\n",
       "        NAME_TYPE_SUITE_Family  NAME_TYPE_SUITE_Group of people  \\\n",
       "39451                        0                                0   \n",
       "80296                        0                                0   \n",
       "34978                        1                                0   \n",
       "214576                       0                                0   \n",
       "169952                       0                                0   \n",
       "\n",
       "        NAME_TYPE_SUITE_Other_A  NAME_TYPE_SUITE_Other_B  \\\n",
       "39451                         0                        0   \n",
       "80296                         0                        0   \n",
       "34978                         0                        0   \n",
       "214576                        0                        0   \n",
       "169952                        0                        1   \n",
       "\n",
       "        NAME_TYPE_SUITE_Spouse, partner  NAME_TYPE_SUITE_Unaccompanied  \\\n",
       "39451                                 1                              0   \n",
       "80296                                 0                              1   \n",
       "34978                                 0                              0   \n",
       "214576                                0                              1   \n",
       "169952                                0                              0   \n",
       "\n",
       "        FLAG_OWN_CAR_Y  NAME_CONTRACT_TYPE_Revolving loans  \\\n",
       "39451                0                                   0   \n",
       "80296                0                                   0   \n",
       "34978                1                                   0   \n",
       "214576               0                                   0   \n",
       "169952               1                                   0   \n",
       "\n",
       "        ORGANIZATION_TYPE_CODE  \n",
       "39451                       57  \n",
       "80296                        5  \n",
       "34978                       39  \n",
       "214576                      31  \n",
       "169952                      55  \n",
       "\n",
       "[5 rows x 62 columns]"
      ]
     },
     "execution_count": 37,
     "metadata": {},
     "output_type": "execute_result"
    }
   ],
   "source": [
    "# concatenate cat_dummies and numericals\n",
    "\n",
    "df3 = pd.concat([num, \n",
    "                 cat_dummies,\n",
    "                label_encoded], axis=1)\n",
    "df3.head()"
   ]
  },
  {
   "cell_type": "code",
   "execution_count": 38,
   "metadata": {
    "ExecuteTime": {
     "end_time": "2022-03-28T15:14:30.782773Z",
     "start_time": "2022-03-28T15:14:30.741841Z"
    }
   },
   "outputs": [
    {
     "data": {
      "text/plain": [
       "TARGET                                0\n",
       "CNT_CHILDREN                          0\n",
       "AMT_INCOME_TOTAL                      0\n",
       "AMT_CREDIT                            0\n",
       "AMT_ANNUITY                           0\n",
       "                                     ..\n",
       "NAME_TYPE_SUITE_Spouse, partner       0\n",
       "NAME_TYPE_SUITE_Unaccompanied         0\n",
       "FLAG_OWN_CAR_Y                        0\n",
       "NAME_CONTRACT_TYPE_Revolving loans    0\n",
       "ORGANIZATION_TYPE_CODE                0\n",
       "Length: 62, dtype: int64"
      ]
     },
     "execution_count": 38,
     "metadata": {},
     "output_type": "execute_result"
    }
   ],
   "source": [
    "df3.isnull().sum()"
   ]
  },
  {
   "cell_type": "code",
   "execution_count": 39,
   "metadata": {
    "ExecuteTime": {
     "end_time": "2022-03-28T15:14:31.342929Z",
     "start_time": "2022-03-28T15:14:31.270714Z"
    },
    "scrolled": false
   },
   "outputs": [
    {
     "name": "stdout",
     "output_type": "stream",
     "text": [
      "<class 'pandas.core.frame.DataFrame'>\n",
      "Int64Index: 64825 entries, 39451 to 307509\n",
      "Data columns (total 62 columns):\n",
      " #   Column                                             Non-Null Count  Dtype  \n",
      "---  ------                                             --------------  -----  \n",
      " 0   TARGET                                             64825 non-null  int64  \n",
      " 1   CNT_CHILDREN                                       64825 non-null  int64  \n",
      " 2   AMT_INCOME_TOTAL                                   64825 non-null  float64\n",
      " 3   AMT_CREDIT                                         64825 non-null  float64\n",
      " 4   AMT_ANNUITY                                        64825 non-null  float64\n",
      " 5   DAYS_EMPLOYED                                      64825 non-null  int64  \n",
      " 6   CNT_FAM_MEMBERS                                    64825 non-null  float64\n",
      " 7   DAYS_BIRTH                                         64825 non-null  int64  \n",
      " 8   AMT_GOODS_PRICE                                    64825 non-null  float64\n",
      " 9   REGION_RATING_CLIENT                               64825 non-null  int64  \n",
      " 10  DAYS_REGISTRATION                                  64825 non-null  float64\n",
      " 11  REGION_POPULATION_RELATIVE                         64825 non-null  float64\n",
      " 12  LIVE_REGION_NOT_WORK_REGION                        64825 non-null  int64  \n",
      " 13  EXT_SOURCE_1                                       64825 non-null  float64\n",
      " 14  EXT_SOURCE_2                                       64825 non-null  float64\n",
      " 15  EXT_SOURCE_3                                       64825 non-null  float64\n",
      " 16  APARTMENTS_AVG                                     64825 non-null  float64\n",
      " 17  YEARS_BUILD_AVG                                    64825 non-null  float64\n",
      " 18  FLOORSMAX_AVG                                      64825 non-null  float64\n",
      " 19  NONLIVINGAREA_AVG                                  64825 non-null  float64\n",
      " 20  TOTALAREA_MODE                                     64825 non-null  float64\n",
      " 21  DAYS_LAST_PHONE_CHANGE                             64825 non-null  float64\n",
      " 22  LIVINGAREA_MEDI                                    64825 non-null  float64\n",
      " 23  NONLIVINGAREA_MEDI                                 64825 non-null  float64\n",
      " 24  AMT_REQ_CREDIT_BUREAU_HOUR                         64825 non-null  float64\n",
      " 25  AMT_REQ_CREDIT_BUREAU_DAY                          64825 non-null  float64\n",
      " 26  AMT_REQ_CREDIT_BUREAU_WEEK                         64825 non-null  float64\n",
      " 27  AMT_REQ_CREDIT_BUREAU_MON                          64825 non-null  float64\n",
      " 28  AMT_REQ_CREDIT_BUREAU_QRT                          64825 non-null  float64\n",
      " 29  AMT_REQ_CREDIT_BUREAU_YEAR                         64825 non-null  float64\n",
      " 30  NAME_EDUCATION_TYPE_Higher education               64825 non-null  uint8  \n",
      " 31  NAME_EDUCATION_TYPE_Incomplete higher              64825 non-null  uint8  \n",
      " 32  NAME_EDUCATION_TYPE_Lower secondary                64825 non-null  uint8  \n",
      " 33  NAME_EDUCATION_TYPE_Secondary / secondary special  64825 non-null  uint8  \n",
      " 34  NAME_INCOME_TYPE_Commercial associate              64825 non-null  uint8  \n",
      " 35  NAME_INCOME_TYPE_Maternity leave                   64825 non-null  uint8  \n",
      " 36  NAME_INCOME_TYPE_Pensioner                         64825 non-null  uint8  \n",
      " 37  NAME_INCOME_TYPE_State servant                     64825 non-null  uint8  \n",
      " 38  NAME_INCOME_TYPE_Student                           64825 non-null  uint8  \n",
      " 39  NAME_INCOME_TYPE_Unemployed                        64825 non-null  uint8  \n",
      " 40  NAME_INCOME_TYPE_Working                           64825 non-null  uint8  \n",
      " 41  CODE_GENDER_M                                      64825 non-null  uint8  \n",
      " 42  FLAG_OWN_REALTY_Y                                  64825 non-null  uint8  \n",
      " 43  NAME_HOUSING_TYPE_House / apartment                64825 non-null  uint8  \n",
      " 44  NAME_HOUSING_TYPE_Municipal apartment              64825 non-null  uint8  \n",
      " 45  NAME_HOUSING_TYPE_Office apartment                 64825 non-null  uint8  \n",
      " 46  NAME_HOUSING_TYPE_Rented apartment                 64825 non-null  uint8  \n",
      " 47  NAME_HOUSING_TYPE_With parents                     64825 non-null  uint8  \n",
      " 48  NAME_FAMILY_STATUS_Married                         64825 non-null  uint8  \n",
      " 49  NAME_FAMILY_STATUS_Separated                       64825 non-null  uint8  \n",
      " 50  NAME_FAMILY_STATUS_Single / not married            64825 non-null  uint8  \n",
      " 51  NAME_FAMILY_STATUS_Unknown                         64825 non-null  uint8  \n",
      " 52  NAME_FAMILY_STATUS_Widow                           64825 non-null  uint8  \n",
      " 53  NAME_TYPE_SUITE_Family                             64825 non-null  uint8  \n",
      " 54  NAME_TYPE_SUITE_Group of people                    64825 non-null  uint8  \n",
      " 55  NAME_TYPE_SUITE_Other_A                            64825 non-null  uint8  \n",
      " 56  NAME_TYPE_SUITE_Other_B                            64825 non-null  uint8  \n",
      " 57  NAME_TYPE_SUITE_Spouse, partner                    64825 non-null  uint8  \n",
      " 58  NAME_TYPE_SUITE_Unaccompanied                      64825 non-null  uint8  \n",
      " 59  FLAG_OWN_CAR_Y                                     64825 non-null  uint8  \n",
      " 60  NAME_CONTRACT_TYPE_Revolving loans                 64825 non-null  uint8  \n",
      " 61  ORGANIZATION_TYPE_CODE                             64825 non-null  int64  \n",
      "dtypes: float64(24), int64(7), uint8(31)\n",
      "memory usage: 17.7 MB\n"
     ]
    }
   ],
   "source": [
    "# Check value counts and Dtypes\n",
    "df3.info()"
   ]
  },
  {
   "cell_type": "markdown",
   "metadata": {},
   "source": [
    "### Select Features"
   ]
  },
  {
   "cell_type": "code",
   "execution_count": 40,
   "metadata": {
    "ExecuteTime": {
     "end_time": "2022-03-28T15:14:32.350695Z",
     "start_time": "2022-03-28T15:14:32.328496Z"
    }
   },
   "outputs": [
    {
     "name": "stdout",
     "output_type": "stream",
     "text": [
      "TARGET\n",
      "CNT_CHILDREN\n",
      "AMT_INCOME_TOTAL\n",
      "AMT_CREDIT\n",
      "AMT_ANNUITY\n",
      "NAME_EDUCATION_TYPE\n",
      "DAYS_EMPLOYED\n",
      "CNT_FAM_MEMBERS\n",
      "DAYS_BIRTH\n",
      "NAME_INCOME_TYPE\n",
      "AMT_GOODS_PRICE\n",
      "CODE_GENDER\n",
      "FLAG_OWN_REALTY\n",
      "REGION_RATING_CLIENT\n",
      "ORGANIZATION_TYPE\n",
      "DAYS_REGISTRATION\n",
      "REGION_POPULATION_RELATIVE\n",
      "NAME_HOUSING_TYPE\n",
      "NAME_FAMILY_STATUS\n",
      "NAME_TYPE_SUITE\n",
      "FLAG_OWN_CAR\n",
      "NAME_CONTRACT_TYPE\n",
      "LIVE_REGION_NOT_WORK_REGION\n",
      "EXT_SOURCE_1\n",
      "EXT_SOURCE_2\n",
      "EXT_SOURCE_3\n",
      "APARTMENTS_AVG\n",
      "YEARS_BUILD_AVG\n",
      "FLOORSMAX_AVG\n",
      "NONLIVINGAREA_AVG\n",
      "TOTALAREA_MODE\n",
      "DAYS_LAST_PHONE_CHANGE\n",
      "LIVINGAREA_MEDI\n",
      "NONLIVINGAREA_MEDI\n",
      "AMT_REQ_CREDIT_BUREAU_HOUR\n",
      "AMT_REQ_CREDIT_BUREAU_DAY\n",
      "AMT_REQ_CREDIT_BUREAU_WEEK\n",
      "AMT_REQ_CREDIT_BUREAU_MON\n",
      "AMT_REQ_CREDIT_BUREAU_QRT\n",
      "AMT_REQ_CREDIT_BUREAU_YEAR\n",
      "40\n"
     ]
    }
   ],
   "source": [
    "# iterating print for the columns\n",
    "cols = []\n",
    "for col in df2.columns:\n",
    "    cols.append(col)\n",
    "    print(col)\n",
    "print(len(cols))"
   ]
  },
  {
   "cell_type": "markdown",
   "metadata": {},
   "source": [
    "## SMOTE - Oversample Minority Class"
   ]
  },
  {
   "cell_type": "markdown",
   "metadata": {},
   "source": [
    "### Train, Test, Split"
   ]
  },
  {
   "cell_type": "code",
   "execution_count": 249,
   "metadata": {
    "ExecuteTime": {
     "end_time": "2022-03-28T16:03:45.244220Z",
     "start_time": "2022-03-28T16:03:44.966972Z"
    }
   },
   "outputs": [],
   "source": [
    "# Define X and y\n",
    "y = df3['TARGET']\n",
    "X = df3.drop('TARGET', axis=1)\n",
    "\n",
    "# Perform train-test split with random_state=42 and stratify=y\n",
    "X_train, X_test, y_train, y_test = train_test_split(X, y, test_size=0.4, random_state=42)"
   ]
  },
  {
   "cell_type": "code",
   "execution_count": 250,
   "metadata": {
    "ExecuteTime": {
     "end_time": "2022-03-28T16:03:47.588648Z",
     "start_time": "2022-03-28T16:03:45.454041Z"
    }
   },
   "outputs": [
    {
     "name": "stdout",
     "output_type": "stream",
     "text": [
      "0    23963\n",
      "1    14932\n",
      "Name: TARGET, dtype: int64\n",
      "\n",
      "\n",
      "1    23963\n",
      "0    23963\n",
      "Name: TARGET, dtype: int64\n"
     ]
    }
   ],
   "source": [
    "# Previous original class distribution\n",
    "print(y_train.value_counts()) \n",
    "\n",
    "# Fit SMOTE to training data\n",
    "X_train_resampled, y_train_resampled = SMOTE().fit_resample(X_train, y_train) \n",
    "\n",
    "# Preview synthetic sample class distribution\n",
    "print('\\n')\n",
    "print(pd.Series(y_train_resampled).value_counts()) \n",
    "\n",
    "# Note, if you get an Attribute Error: 'SMOTE' object has no attribute\n",
    "# '_validate_data', then downgrade your version of imblearn to 0.6.2\n",
    "# or upgrade your version of sklearn to 0.23"
   ]
  },
  {
   "cell_type": "markdown",
   "metadata": {},
   "source": [
    "# Random Forest Model 1\n",
    "* Prioritize Accuracy for Loan Approval"
   ]
  },
  {
   "cell_type": "code",
   "execution_count": 527,
   "metadata": {
    "ExecuteTime": {
     "end_time": "2022-03-28T19:09:42.550568Z",
     "start_time": "2022-03-28T19:09:42.116587Z"
    }
   },
   "outputs": [],
   "source": [
    "# Scale train and test sets with StandardScaler\n",
    "X_train_std = StandardScaler().fit_transform(X_train_resampled)\n",
    "X_test_std = StandardScaler().fit_transform(X_test)"
   ]
  },
  {
   "cell_type": "code",
   "execution_count": 528,
   "metadata": {
    "ExecuteTime": {
     "end_time": "2022-03-28T19:10:00.826213Z",
     "start_time": "2022-03-28T19:09:42.555068Z"
    }
   },
   "outputs": [
    {
     "data": {
      "text/plain": [
       "RandomForestClassifier()"
      ]
     },
     "execution_count": 528,
     "metadata": {},
     "output_type": "execute_result"
    }
   ],
   "source": [
    "# Instantiate and fit a RandomForestClassifier\n",
    "forest1 = RandomForestClassifier()\n",
    "forest1.fit(X_train_std, y_train_resampled)"
   ]
  },
  {
   "cell_type": "code",
   "execution_count": 529,
   "metadata": {
    "ExecuteTime": {
     "end_time": "2022-03-28T19:10:03.009235Z",
     "start_time": "2022-03-28T19:10:00.830097Z"
    }
   },
   "outputs": [
    {
     "data": {
      "text/plain": [
       "1.0"
      ]
     },
     "execution_count": 529,
     "metadata": {},
     "output_type": "execute_result"
    }
   ],
   "source": [
    "# Training accuracy score\n",
    "forest1.score(X_train_std, y_train_resampled)"
   ]
  },
  {
   "cell_type": "code",
   "execution_count": 530,
   "metadata": {
    "ExecuteTime": {
     "end_time": "2022-03-28T19:10:03.654140Z",
     "start_time": "2022-03-28T19:10:03.014129Z"
    }
   },
   "outputs": [
    {
     "data": {
      "text/plain": [
       "0.3870420362514462"
      ]
     },
     "execution_count": 530,
     "metadata": {},
     "output_type": "execute_result"
    }
   ],
   "source": [
    "# Test accuracy score\n",
    "forest1.score(X_test_std, y_test)"
   ]
  },
  {
   "cell_type": "code",
   "execution_count": 531,
   "metadata": {
    "ExecuteTime": {
     "end_time": "2022-03-28T19:10:06.259816Z",
     "start_time": "2022-03-28T19:10:03.659002Z"
    }
   },
   "outputs": [],
   "source": [
    "# Train set predictions\n",
    "train_pred = forest1.predict(X_train_std)\n",
    "\n",
    "# Test set predictions\n",
    "pred = forest1.predict(X_test_std)"
   ]
  },
  {
   "cell_type": "code",
   "execution_count": 532,
   "metadata": {
    "ExecuteTime": {
     "end_time": "2022-03-28T19:10:06.614030Z",
     "start_time": "2022-03-28T19:10:06.265413Z"
    }
   },
   "outputs": [
    {
     "name": "stdout",
     "output_type": "stream",
     "text": [
      "Training Set\n",
      "[[23963     0]\n",
      " [    0 23963]]\n",
      "              precision    recall  f1-score   support\n",
      "\n",
      "           0       1.00      1.00      1.00     23963\n",
      "           1       1.00      1.00      1.00     23963\n",
      "\n",
      "    accuracy                           1.00     47926\n",
      "   macro avg       1.00      1.00      1.00     47926\n",
      "weighted avg       1.00      1.00      1.00     47926\n",
      "\n",
      "\n",
      "Test Set\n",
      "[[  162 15875]\n",
      " [   19  9874]]\n",
      "              precision    recall  f1-score   support\n",
      "\n",
      "           0       0.90      0.01      0.02     16037\n",
      "           1       0.38      1.00      0.55      9893\n",
      "\n",
      "    accuracy                           0.39     25930\n",
      "   macro avg       0.64      0.50      0.29     25930\n",
      "weighted avg       0.70      0.39      0.22     25930\n",
      "\n"
     ]
    }
   ],
   "source": [
    "# Confusion matrix and classification report\n",
    "print(\"Training Set\")\n",
    "print(confusion_matrix(y_train_resampled, train_pred))\n",
    "print(classification_report(y_train_resampled, train_pred))\n",
    "print()\n",
    "print(\"Test Set\")\n",
    "print(confusion_matrix(y_test, pred))\n",
    "print(classification_report(y_test, pred))"
   ]
  },
  {
   "cell_type": "markdown",
   "metadata": {},
   "source": [
    "### Summary - Random Forest Part 1\n",
    "* Model is fairly proportional and has a fairly high recall score for Approval, which is desirable for my business case.\n",
    "* I want the model to have a recall score for approval that is above 85%, so I will work in that direction."
   ]
  },
  {
   "cell_type": "markdown",
   "metadata": {},
   "source": [
    "## Random Forest Model 2\n",
    "* Improve Accuracy for Loan Approval"
   ]
  },
  {
   "cell_type": "code",
   "execution_count": 533,
   "metadata": {
    "ExecuteTime": {
     "end_time": "2022-03-28T19:10:43.059542Z",
     "start_time": "2022-03-28T19:10:42.693189Z"
    }
   },
   "outputs": [],
   "source": [
    "# Scale train and test sets with StandardScaler\n",
    "X_train_std = StandardScaler().fit_transform(X_train_resampled)\n",
    "X_test_std = StandardScaler().fit_transform(X_test)"
   ]
  },
  {
   "cell_type": "code",
   "execution_count": 534,
   "metadata": {
    "ExecuteTime": {
     "end_time": "2022-03-28T19:10:45.161992Z",
     "start_time": "2022-03-28T19:10:43.064099Z"
    }
   },
   "outputs": [
    {
     "data": {
      "text/plain": [
       "RandomForestClassifier(max_depth=10, n_estimators=20)"
      ]
     },
     "execution_count": 534,
     "metadata": {},
     "output_type": "execute_result"
    }
   ],
   "source": [
    "# Instantiate and fit a RandomForestClassifier\n",
    "forest2 = RandomForestClassifier(n_estimators=20, max_depth= 10)\n",
    "forest2.fit(X_train_std, y_train_resampled)"
   ]
  },
  {
   "cell_type": "code",
   "execution_count": 535,
   "metadata": {
    "ExecuteTime": {
     "end_time": "2022-03-28T19:10:45.442381Z",
     "start_time": "2022-03-28T19:10:45.166442Z"
    }
   },
   "outputs": [
    {
     "data": {
      "text/plain": [
       "0.7767182740057589"
      ]
     },
     "execution_count": 535,
     "metadata": {},
     "output_type": "execute_result"
    }
   ],
   "source": [
    "# Training accuracy score\n",
    "forest2.score(X_train_std, y_train_resampled)"
   ]
  },
  {
   "cell_type": "code",
   "execution_count": 536,
   "metadata": {
    "ExecuteTime": {
     "end_time": "2022-03-28T19:10:45.583378Z",
     "start_time": "2022-03-28T19:10:45.445807Z"
    }
   },
   "outputs": [
    {
     "data": {
      "text/plain": [
       "0.39332819128422675"
      ]
     },
     "execution_count": 536,
     "metadata": {},
     "output_type": "execute_result"
    }
   ],
   "source": [
    "# Test accuracy score\n",
    "forest2.score(X_test_std, y_test)"
   ]
  },
  {
   "cell_type": "code",
   "execution_count": 537,
   "metadata": {
    "ExecuteTime": {
     "end_time": "2022-03-28T19:35:21.096057Z",
     "start_time": "2022-03-28T19:35:20.525212Z"
    }
   },
   "outputs": [],
   "source": [
    "# Train set predictions\n",
    "train_pred = forest2.predict(X_train_std)\n",
    "\n",
    "# Test set predictions\n",
    "pred = forest.predict(X_test_std)"
   ]
  },
  {
   "cell_type": "code",
   "execution_count": 538,
   "metadata": {
    "ExecuteTime": {
     "end_time": "2022-03-28T19:35:21.811176Z",
     "start_time": "2022-03-28T19:35:21.541339Z"
    }
   },
   "outputs": [
    {
     "name": "stdout",
     "output_type": "stream",
     "text": [
      "Training Set\n",
      "[[18895  5068]\n",
      " [ 5633 18330]]\n",
      "              precision    recall  f1-score   support\n",
      "\n",
      "           0       0.77      0.79      0.78     23963\n",
      "           1       0.78      0.76      0.77     23963\n",
      "\n",
      "    accuracy                           0.78     47926\n",
      "   macro avg       0.78      0.78      0.78     47926\n",
      "weighted avg       0.78      0.78      0.78     47926\n",
      "\n",
      "\n",
      "Test Set\n",
      "[[6401 9636]\n",
      " [1598 8295]]\n",
      "              precision    recall  f1-score   support\n",
      "\n",
      "           0       0.80      0.40      0.53     16037\n",
      "           1       0.46      0.84      0.60      9893\n",
      "\n",
      "    accuracy                           0.57     25930\n",
      "   macro avg       0.63      0.62      0.56     25930\n",
      "weighted avg       0.67      0.57      0.56     25930\n",
      "\n"
     ]
    }
   ],
   "source": [
    "# Confusion matrix and classification report\n",
    "print(\"Training Set\")\n",
    "print(confusion_matrix(y_train_resampled, train_pred))\n",
    "print(classification_report(y_train_resampled, train_pred))\n",
    "print()\n",
    "print(\"Test Set\")\n",
    "print(confusion_matrix(y_test, pred))\n",
    "print(classification_report(y_test, pred))"
   ]
  },
  {
   "cell_type": "code",
   "execution_count": 263,
   "metadata": {
    "ExecuteTime": {
     "end_time": "2022-03-28T16:04:07.417772Z",
     "start_time": "2022-03-28T16:04:07.405870Z"
    }
   },
   "outputs": [
    {
     "data": {
      "text/plain": [
       "array([5.35380974e-03, 1.09003607e-02, 1.60531531e-02, 1.42051689e-02,\n",
       "       2.16308836e-02, 1.90955362e-02, 5.02991533e-02, 1.85075935e-02,\n",
       "       2.93613644e-03, 1.65623085e-02, 1.26029516e-02, 7.65647224e-04,\n",
       "       6.23557756e-02, 1.64916165e-01, 1.36652702e-01, 9.65744044e-03,\n",
       "       8.55606933e-03, 1.88041795e-02, 1.76657200e-02, 1.14072587e-02,\n",
       "       2.42227780e-02, 1.02140684e-02, 1.76260954e-02, 1.65582583e-02,\n",
       "       3.55447583e-02, 1.69499030e-02, 2.53770956e-02, 1.05432531e-02,\n",
       "       2.43893231e-02, 5.51166479e-02, 3.04160478e-03, 1.62320209e-03,\n",
       "       1.46568602e-02, 1.03434341e-02, 0.00000000e+00, 3.85068891e-03,\n",
       "       4.27839328e-03, 0.00000000e+00, 1.13096311e-05, 4.51139986e-03,\n",
       "       2.73567220e-03, 4.48012922e-03, 3.99029371e-03, 9.74626201e-04,\n",
       "       6.21118520e-04, 3.28847618e-04, 1.99635035e-03, 2.94173835e-02,\n",
       "       3.13429944e-03, 6.71944772e-03, 0.00000000e+00, 4.85091101e-03,\n",
       "       3.02718709e-03, 0.00000000e+00, 1.90660154e-04, 3.71205625e-04,\n",
       "       1.52878934e-03, 3.14043895e-03, 1.94537999e-02, 2.82657779e-03,\n",
       "       1.24251744e-02])"
      ]
     },
     "execution_count": 263,
     "metadata": {},
     "output_type": "execute_result"
    }
   ],
   "source": [
    "# Feature importance\n",
    "forest2.feature_importances_"
   ]
  },
  {
   "cell_type": "code",
   "execution_count": 264,
   "metadata": {
    "ExecuteTime": {
     "end_time": "2022-03-28T16:04:10.167651Z",
     "start_time": "2022-03-28T16:04:08.272214Z"
    }
   },
   "outputs": [
    {
     "data": {
      "image/png": "[encoded data removed]",
      "text/plain": [
       "<Figure size 576x1440 with 1 Axes>"
      ]
     },
     "metadata": {},
     "output_type": "display_data"
    }
   ],
   "source": [
    "def plot_feature_importances(model):\n",
    "    n_features = X_train.shape[1]\n",
    "    plt.figure(figsize=(8,20))\n",
    "    plt.barh(range(n_features), model.feature_importances_, align='center') \n",
    "    plt.yticks(np.arange(n_features), X_train.columns.values) \n",
    "    plt.xlabel('Feature importance')\n",
    "    plt.ylabel('Feature')\n",
    "\n",
    "plot_feature_importances(forest2)"
   ]
  },
  {
   "cell_type": "markdown",
   "metadata": {},
   "source": [
    "### Summary - Random Forest Model 3\n",
    "* Model almost always predicts approval - probably related to large value for max_depth\n",
    "* Not a good enough model to recommend for business case as almost every application would be passed on to a human, nullifying the benefit of this model.\n",
    "* Neat to see the feature importances as this will be important for building a business case and recommending which features to collect data on in the future."
   ]
  },
  {
   "cell_type": "markdown",
   "metadata": {},
   "source": [
    "## Random Forest Model 3\n",
    "* Improve Accuracy for Loan Approval by using standard scaler"
   ]
  },
  {
   "cell_type": "code",
   "execution_count": 539,
   "metadata": {
    "ExecuteTime": {
     "end_time": "2022-03-28T19:11:20.762530Z",
     "start_time": "2022-03-28T19:11:20.485461Z"
    }
   },
   "outputs": [],
   "source": [
    "# Scale train and test sets with StandardScaler\n",
    "X_train_std = StandardScaler().fit_transform(X_train_resampled)\n",
    "X_test_std = StandardScaler().fit_transform(X_test)"
   ]
  },
  {
   "cell_type": "code",
   "execution_count": 540,
   "metadata": {
    "ExecuteTime": {
     "end_time": "2022-03-28T19:11:21.159361Z",
     "start_time": "2022-03-28T19:11:21.022356Z"
    }
   },
   "outputs": [
    {
     "data": {
      "text/plain": [
       "RandomForestClassifier(max_depth=4, max_features=2, n_estimators=3)"
      ]
     },
     "execution_count": 540,
     "metadata": {},
     "output_type": "execute_result"
    }
   ],
   "source": [
    "# Instantiate and fit a RandomForestClassifier\n",
    "forest3 = RandomForestClassifier(criterion='gini',n_estimators=3, max_features=2, max_depth= 4)\n",
    "forest3.fit(X_train_std, y_train_resampled)"
   ]
  },
  {
   "cell_type": "code",
   "execution_count": 541,
   "metadata": {
    "ExecuteTime": {
     "end_time": "2022-03-28T19:11:21.667833Z",
     "start_time": "2022-03-28T19:11:21.618190Z"
    }
   },
   "outputs": [
    {
     "data": {
      "text/plain": [
       "0.6397779910695656"
      ]
     },
     "execution_count": 541,
     "metadata": {},
     "output_type": "execute_result"
    }
   ],
   "source": [
    "# Training accuracy score\n",
    "forest3.score(X_train_std, y_train_resampled)"
   ]
  },
  {
   "cell_type": "code",
   "execution_count": 542,
   "metadata": {
    "ExecuteTime": {
     "end_time": "2022-03-28T19:11:22.082240Z",
     "start_time": "2022-03-28T19:11:22.053862Z"
    }
   },
   "outputs": [
    {
     "data": {
      "text/plain": [
       "0.4876205167759352"
      ]
     },
     "execution_count": 542,
     "metadata": {},
     "output_type": "execute_result"
    }
   ],
   "source": [
    "# Test accuracy score\n",
    "forest3.score(X_test_std, y_test)"
   ]
  },
  {
   "cell_type": "code",
   "execution_count": 543,
   "metadata": {
    "ExecuteTime": {
     "end_time": "2022-03-28T19:35:21.096057Z",
     "start_time": "2022-03-28T19:35:20.525212Z"
    }
   },
   "outputs": [],
   "source": [
    "# Train set predictions\n",
    "train_pred = forest3.predict(X_train_std)\n",
    "\n",
    "# Test set predictions\n",
    "pred = forest3.predict(X_test_std)"
   ]
  },
  {
   "cell_type": "code",
   "execution_count": 544,
   "metadata": {
    "ExecuteTime": {
     "end_time": "2022-03-28T19:35:21.811176Z",
     "start_time": "2022-03-28T19:35:21.541339Z"
    }
   },
   "outputs": [
    {
     "name": "stdout",
     "output_type": "stream",
     "text": [
      "Training Set\n",
      "[[15029  8934]\n",
      " [ 8330 15633]]\n",
      "              precision    recall  f1-score   support\n",
      "\n",
      "           0       0.64      0.63      0.64     23963\n",
      "           1       0.64      0.65      0.64     23963\n",
      "\n",
      "    accuracy                           0.64     47926\n",
      "   macro avg       0.64      0.64      0.64     47926\n",
      "weighted avg       0.64      0.64      0.64     47926\n",
      "\n",
      "\n",
      "Test Set\n",
      "[[ 4055 11982]\n",
      " [ 1304  8589]]\n",
      "              precision    recall  f1-score   support\n",
      "\n",
      "           0       0.76      0.25      0.38     16037\n",
      "           1       0.42      0.87      0.56      9893\n",
      "\n",
      "    accuracy                           0.49     25930\n",
      "   macro avg       0.59      0.56      0.47     25930\n",
      "weighted avg       0.63      0.49      0.45     25930\n",
      "\n"
     ]
    }
   ],
   "source": [
    "# Confusion matrix and classification report\n",
    "print(\"Training Set\")\n",
    "print(confusion_matrix(y_train_resampled, train_pred))\n",
    "print(classification_report(y_train_resampled, train_pred))\n",
    "print()\n",
    "print(\"Test Set\")\n",
    "print(confusion_matrix(y_test, pred))\n",
    "print(classification_report(y_test, pred))"
   ]
  },
  {
   "cell_type": "markdown",
   "metadata": {},
   "source": [
    "### Summary - Random Forest Part 2\n",
    "* Model almost always predicts approval - don't know why exactly\n",
    "* Not a good enough model to recommend for business cas as almost every application would be passed on to a human, nullifying the benefit of this model."
   ]
  },
  {
   "cell_type": "markdown",
   "metadata": {},
   "source": [
    "## Random Forest Model 4\n",
    "* Try without standard scalar"
   ]
  },
  {
   "cell_type": "code",
   "execution_count": 545,
   "metadata": {
    "ExecuteTime": {
     "end_time": "2022-03-28T19:11:56.081331Z",
     "start_time": "2022-03-28T19:11:55.812912Z"
    }
   },
   "outputs": [
    {
     "data": {
      "text/plain": [
       "RandomForestClassifier(max_depth=2, max_features=2, n_estimators=8)"
      ]
     },
     "execution_count": 545,
     "metadata": {},
     "output_type": "execute_result"
    }
   ],
   "source": [
    "# Instantiate and fit a RandomForestClassifier\n",
    "forest4 = RandomForestClassifier(criterion='gini',n_estimators=8, max_features=2, max_depth=2)\n",
    "forest4.fit(X_train_resampled, y_train_resampled)"
   ]
  },
  {
   "cell_type": "code",
   "execution_count": 546,
   "metadata": {
    "ExecuteTime": {
     "end_time": "2022-03-28T19:11:56.549075Z",
     "start_time": "2022-03-28T19:11:56.466639Z"
    }
   },
   "outputs": [
    {
     "data": {
      "text/plain": [
       "0.6506280515795184"
      ]
     },
     "execution_count": 546,
     "metadata": {},
     "output_type": "execute_result"
    }
   ],
   "source": [
    "# Training accuracy score\n",
    "forest4.score(X_train_resampled, y_train_resampled)"
   ]
  },
  {
   "cell_type": "code",
   "execution_count": 547,
   "metadata": {
    "ExecuteTime": {
     "end_time": "2022-03-28T19:11:57.059409Z",
     "start_time": "2022-03-28T19:11:57.018560Z"
    }
   },
   "outputs": [
    {
     "data": {
      "text/plain": [
       "0.6104126494408022"
      ]
     },
     "execution_count": 547,
     "metadata": {},
     "output_type": "execute_result"
    }
   ],
   "source": [
    "# Test accuracy score\n",
    "forest4.score(X_test, y_test)"
   ]
  },
  {
   "cell_type": "code",
   "execution_count": 548,
   "metadata": {
    "ExecuteTime": {
     "end_time": "2022-03-28T19:35:21.096057Z",
     "start_time": "2022-03-28T19:35:20.525212Z"
    }
   },
   "outputs": [],
   "source": [
    "# Train set predictions\n",
    "train_pred = forest4.predict(X_train_std)\n",
    "\n",
    "# Test set predictions\n",
    "pred = forest4.predict(X_test_std)"
   ]
  },
  {
   "cell_type": "code",
   "execution_count": 549,
   "metadata": {
    "ExecuteTime": {
     "end_time": "2022-03-28T19:35:21.811176Z",
     "start_time": "2022-03-28T19:35:21.541339Z"
    }
   },
   "outputs": [
    {
     "name": "stdout",
     "output_type": "stream",
     "text": [
      "Training Set\n",
      "[[13648 10315]\n",
      " [ 7380 16583]]\n",
      "              precision    recall  f1-score   support\n",
      "\n",
      "           0       0.65      0.57      0.61     23963\n",
      "           1       0.62      0.69      0.65     23963\n",
      "\n",
      "    accuracy                           0.63     47926\n",
      "   macro avg       0.63      0.63      0.63     47926\n",
      "weighted avg       0.63      0.63      0.63     47926\n",
      "\n",
      "\n",
      "Test Set\n",
      "[[6821 9216]\n",
      " [2211 7682]]\n",
      "              precision    recall  f1-score   support\n",
      "\n",
      "           0       0.76      0.43      0.54     16037\n",
      "           1       0.45      0.78      0.57      9893\n",
      "\n",
      "    accuracy                           0.56     25930\n",
      "   macro avg       0.60      0.60      0.56     25930\n",
      "weighted avg       0.64      0.56      0.56     25930\n",
      "\n"
     ]
    }
   ],
   "source": [
    "# Confusion matrix and classification report\n",
    "print(\"Training Set\")\n",
    "print(confusion_matrix(y_train_resampled, train_pred))\n",
    "print(classification_report(y_train_resampled, train_pred))\n",
    "print()\n",
    "print(\"Test Set\")\n",
    "print(confusion_matrix(y_test, pred))\n",
    "print(classification_report(y_test, pred))"
   ]
  },
  {
   "cell_type": "markdown",
   "metadata": {},
   "source": [
    "### Summary - Random Forest Model 4\n",
    "* This model is the most balanced of the models I have been able to create, with a recall score that is similar for approval and refusal."
   ]
  },
  {
   "cell_type": "markdown",
   "metadata": {},
   "source": [
    "## Random Forest Model 5\n",
    "* Try without standard scaler and higher n_estimators"
   ]
  },
  {
   "cell_type": "code",
   "execution_count": 550,
   "metadata": {
    "ExecuteTime": {
     "end_time": "2022-03-28T19:12:18.715070Z",
     "start_time": "2022-03-28T19:12:16.041591Z"
    }
   },
   "outputs": [
    {
     "data": {
      "text/plain": [
       "RandomForestClassifier(max_depth=2, max_features=8)"
      ]
     },
     "execution_count": 550,
     "metadata": {},
     "output_type": "execute_result"
    }
   ],
   "source": [
    "# Instantiate and fit a RandomForestClassifier\n",
    "forest5 = RandomForestClassifier(criterion='gini',n_estimators=100, max_features=8, max_depth=2)\n",
    "forest5.fit(X_train_resampled, y_train_resampled)"
   ]
  },
  {
   "cell_type": "code",
   "execution_count": 551,
   "metadata": {
    "ExecuteTime": {
     "end_time": "2022-03-28T19:12:19.227177Z",
     "start_time": "2022-03-28T19:12:18.718155Z"
    }
   },
   "outputs": [
    {
     "data": {
      "text/plain": [
       "0.6988273588448859"
      ]
     },
     "execution_count": 551,
     "metadata": {},
     "output_type": "execute_result"
    }
   ],
   "source": [
    "# Training accuracy score\n",
    "forest5.score(X_train_resampled, y_train_resampled)"
   ]
  },
  {
   "cell_type": "code",
   "execution_count": 552,
   "metadata": {
    "ExecuteTime": {
     "end_time": "2022-03-28T19:12:19.529073Z",
     "start_time": "2022-03-28T19:12:19.231425Z"
    }
   },
   "outputs": [
    {
     "data": {
      "text/plain": [
       "0.6612032394909372"
      ]
     },
     "execution_count": 552,
     "metadata": {},
     "output_type": "execute_result"
    }
   ],
   "source": [
    "# Test accuracy score\n",
    "forest5.score(X_test, y_test)"
   ]
  },
  {
   "cell_type": "code",
   "execution_count": 601,
   "metadata": {
    "ExecuteTime": {
     "end_time": "2022-03-28T19:35:21.096057Z",
     "start_time": "2022-03-28T19:35:20.525212Z"
    }
   },
   "outputs": [],
   "source": [
    "# Train set predictions\n",
    "train_pred = forest5.predict(X_train_std)\n",
    "\n",
    "# Test set predictions\n",
    "pred = forest5.predict(X_test_std)"
   ]
  },
  {
   "cell_type": "code",
   "execution_count": 602,
   "metadata": {
    "ExecuteTime": {
     "end_time": "2022-03-28T19:35:21.811176Z",
     "start_time": "2022-03-28T19:35:21.541339Z"
    }
   },
   "outputs": [
    {
     "name": "stdout",
     "output_type": "stream",
     "text": [
      "Training Set\n",
      "[[ 8857 15106]\n",
      " [ 2697 21266]]\n",
      "              precision    recall  f1-score   support\n",
      "\n",
      "           0       0.77      0.37      0.50     23963\n",
      "           1       0.58      0.89      0.70     23963\n",
      "\n",
      "    accuracy                           0.63     47926\n",
      "   macro avg       0.68      0.63      0.60     47926\n",
      "weighted avg       0.68      0.63      0.60     47926\n",
      "\n",
      "\n",
      "Test Set\n",
      "[[ 5582 10455]\n",
      " [ 1317  8576]]\n",
      "              precision    recall  f1-score   support\n",
      "\n",
      "           0       0.81      0.35      0.49     16037\n",
      "           1       0.45      0.87      0.59      9893\n",
      "\n",
      "    accuracy                           0.55     25930\n",
      "   macro avg       0.63      0.61      0.54     25930\n",
      "weighted avg       0.67      0.55      0.53     25930\n",
      "\n"
     ]
    }
   ],
   "source": [
    "# Confusion matrix and classification report\n",
    "print(\"Training Set\")\n",
    "print(confusion_matrix(y_train_resampled, train_pred))\n",
    "print(classification_report(y_train_resampled, train_pred))\n",
    "print()\n",
    "print(\"Test Set\")\n",
    "print(confusion_matrix(y_test, pred))\n",
    "print(classification_report(y_test, pred))"
   ]
  },
  {
   "cell_type": "markdown",
   "metadata": {},
   "source": [
    "### Summary - Random Forest Model 5\n",
    "* Higher n_estimators, means the model optimizes for overall accuracy, which reduces the recall score for loan approval.\n",
    "* Reducing max_depth to 2, lead to higher recall score for loan approval (.85) and allows me to filter ~25% of the applications out as refusals.\n"
   ]
  },
  {
   "cell_type": "markdown",
   "metadata": {},
   "source": [
    "## Random Forest Model 6\n",
    "* Optimize for high accuracy with rejection to add to voting classifier"
   ]
  },
  {
   "cell_type": "code",
   "execution_count": 583,
   "metadata": {
    "ExecuteTime": {
     "end_time": "2022-03-28T19:21:54.691576Z",
     "start_time": "2022-03-28T19:21:42.101124Z"
    }
   },
   "outputs": [
    {
     "data": {
      "text/plain": [
       "RandomForestClassifier()"
      ]
     },
     "execution_count": 583,
     "metadata": {},
     "output_type": "execute_result"
    }
   ],
   "source": [
    "# Instantiate and fit a RandomForestClassifier\n",
    "forest6 = RandomForestClassifier()\n",
    "forest6.fit(X_train, y_train)"
   ]
  },
  {
   "cell_type": "code",
   "execution_count": 584,
   "metadata": {
    "ExecuteTime": {
     "end_time": "2022-03-28T19:21:56.616169Z",
     "start_time": "2022-03-28T19:21:54.694092Z"
    }
   },
   "outputs": [
    {
     "data": {
      "text/plain": [
       "1.0"
      ]
     },
     "execution_count": 584,
     "metadata": {},
     "output_type": "execute_result"
    }
   ],
   "source": [
    "# Training accuracy score\n",
    "forest6.score(X_train, y_train)"
   ]
  },
  {
   "cell_type": "code",
   "execution_count": 588,
   "metadata": {
    "ExecuteTime": {
     "end_time": "2022-03-28T19:23:45.786508Z",
     "start_time": "2022-03-28T19:23:43.527557Z"
    }
   },
   "outputs": [
    {
     "data": {
      "text/plain": [
       "0.6968762051677594"
      ]
     },
     "execution_count": 588,
     "metadata": {},
     "output_type": "execute_result"
    }
   ],
   "source": [
    "# Test accuracy score\n",
    "forest6.score(X_test, y_test)"
   ]
  },
  {
   "cell_type": "code",
   "execution_count": 589,
   "metadata": {
    "ExecuteTime": {
     "end_time": "2022-03-28T19:23:52.010094Z",
     "start_time": "2022-03-28T19:23:46.689718Z"
    }
   },
   "outputs": [],
   "source": [
    "# Train set predictions\n",
    "train_pred = forest6.predict(X_train)\n",
    "\n",
    "# Test set predictions\n",
    "pred = forest6.predict(X_test)"
   ]
  },
  {
   "cell_type": "code",
   "execution_count": 591,
   "metadata": {
    "ExecuteTime": {
     "end_time": "2022-03-28T19:24:22.101875Z",
     "start_time": "2022-03-28T19:24:21.783417Z"
    }
   },
   "outputs": [
    {
     "name": "stdout",
     "output_type": "stream",
     "text": [
      "Training Set\n",
      "[[23963     0]\n",
      " [    0 14932]]\n",
      "              precision    recall  f1-score   support\n",
      "\n",
      "           0       1.00      1.00      1.00     23963\n",
      "           1       1.00      1.00      1.00     14932\n",
      "\n",
      "    accuracy                           1.00     38895\n",
      "   macro avg       1.00      1.00      1.00     38895\n",
      "weighted avg       1.00      1.00      1.00     38895\n",
      "\n",
      "\n",
      "Test Set\n",
      "[[13659  2378]\n",
      " [ 5482  4411]]\n",
      "              precision    recall  f1-score   support\n",
      "\n",
      "           0       0.71      0.85      0.78     16037\n",
      "           1       0.65      0.45      0.53      9893\n",
      "\n",
      "    accuracy                           0.70     25930\n",
      "   macro avg       0.68      0.65      0.65     25930\n",
      "weighted avg       0.69      0.70      0.68     25930\n",
      "\n"
     ]
    }
   ],
   "source": [
    "# Confusion matrix and classification report\n",
    "print(\"Training Set\")\n",
    "print(confusion_matrix(y_train, train_pred))\n",
    "print(classification_report(y_train, train_pred))\n",
    "print()\n",
    "print(\"Test Set\")\n",
    "print(confusion_matrix(y_test, pred))\n",
    "print(classification_report(y_test, pred))"
   ]
  },
  {
   "cell_type": "markdown",
   "metadata": {},
   "source": [
    "### Summary - Random Forest Model 6\n",
    "* Higher n_estimators, means the model optimizes for overall accuracy, which reduces the recall score for loan approval.\n",
    "* Reducing max_depth to 2, lead to higher recall score for loan approval (.85) and allows me to filter ~25% of the applications out as refusals.\n"
   ]
  },
  {
   "cell_type": "markdown",
   "metadata": {},
   "source": [
    "## Feature Importance Chart"
   ]
  },
  {
   "cell_type": "code",
   "execution_count": 451,
   "metadata": {
    "ExecuteTime": {
     "end_time": "2022-03-28T16:46:13.166689Z",
     "start_time": "2022-03-28T16:46:10.992692Z"
    }
   },
   "outputs": [
    {
     "data": {
      "image/png": "[encoded data removed]",
      "text/plain": [
       "<Figure size 576x1440 with 1 Axes>"
      ]
     },
     "metadata": {},
     "output_type": "display_data"
    }
   ],
   "source": [
    "def plot_feature_importances(model):\n",
    "    n_features = X_train.shape[1]\n",
    "    plt.figure(figsize=(8,20))\n",
    "    plt.barh(range(n_features), model.feature_importances_, align='center') \n",
    "    plt.yticks(np.arange(n_features), X_train.columns.values) \n",
    "    plt.xlabel('Feature importance')\n",
    "    plt.ylabel('Feature')\n",
    "\n",
    "plot_feature_importances(forest6)"
   ]
  },
  {
   "cell_type": "markdown",
   "metadata": {},
   "source": [
    "### Improve Feature Importance Bar Chart\n",
    "* Ascending order for top 10 values"
   ]
  },
  {
   "cell_type": "code",
   "execution_count": 452,
   "metadata": {
    "ExecuteTime": {
     "end_time": "2022-03-28T16:46:13.250156Z",
     "start_time": "2022-03-28T16:46:13.170683Z"
    },
    "scrolled": true
   },
   "outputs": [
    {
     "data": {
      "text/html": [
       "<div>\n",
       "<style scoped>\n",
       "    .dataframe tbody tr th:only-of-type {\n",
       "        vertical-align: middle;\n",
       "    }\n",
       "\n",
       "    .dataframe tbody tr th {\n",
       "        vertical-align: top;\n",
       "    }\n",
       "\n",
       "    .dataframe thead th {\n",
       "        text-align: right;\n",
       "    }\n",
       "</style>\n",
       "<table border=\"1\" class=\"dataframe\">\n",
       "  <thead>\n",
       "    <tr style=\"text-align: right;\">\n",
       "      <th></th>\n",
       "      <th>Feature</th>\n",
       "      <th>Feature Importance</th>\n",
       "    </tr>\n",
       "  </thead>\n",
       "  <tbody>\n",
       "    <tr>\n",
       "      <th>13</th>\n",
       "      <td>EXT_SOURCE_2</td>\n",
       "      <td>0.263821</td>\n",
       "    </tr>\n",
       "    <tr>\n",
       "      <th>14</th>\n",
       "      <td>EXT_SOURCE_3</td>\n",
       "      <td>0.174929</td>\n",
       "    </tr>\n",
       "    <tr>\n",
       "      <th>12</th>\n",
       "      <td>EXT_SOURCE_1</td>\n",
       "      <td>0.103339</td>\n",
       "    </tr>\n",
       "    <tr>\n",
       "      <th>29</th>\n",
       "      <td>NAME_EDUCATION_TYPE_Higher education</td>\n",
       "      <td>0.101471</td>\n",
       "    </tr>\n",
       "    <tr>\n",
       "      <th>47</th>\n",
       "      <td>NAME_FAMILY_STATUS_Married</td>\n",
       "      <td>0.066619</td>\n",
       "    </tr>\n",
       "    <tr>\n",
       "      <th>6</th>\n",
       "      <td>DAYS_BIRTH</td>\n",
       "      <td>0.046168</td>\n",
       "    </tr>\n",
       "    <tr>\n",
       "      <th>24</th>\n",
       "      <td>AMT_REQ_CREDIT_BUREAU_DAY</td>\n",
       "      <td>0.037187</td>\n",
       "    </tr>\n",
       "    <tr>\n",
       "      <th>23</th>\n",
       "      <td>AMT_REQ_CREDIT_BUREAU_HOUR</td>\n",
       "      <td>0.032952</td>\n",
       "    </tr>\n",
       "    <tr>\n",
       "      <th>58</th>\n",
       "      <td>FLAG_OWN_CAR_Y</td>\n",
       "      <td>0.024224</td>\n",
       "    </tr>\n",
       "    <tr>\n",
       "      <th>17</th>\n",
       "      <td>FLOORSMAX_AVG</td>\n",
       "      <td>0.015766</td>\n",
       "    </tr>\n",
       "  </tbody>\n",
       "</table>\n",
       "</div>"
      ],
      "text/plain": [
       "                                 Feature  Feature Importance\n",
       "13                          EXT_SOURCE_2            0.263821\n",
       "14                          EXT_SOURCE_3            0.174929\n",
       "12                          EXT_SOURCE_1            0.103339\n",
       "29  NAME_EDUCATION_TYPE_Higher education            0.101471\n",
       "47            NAME_FAMILY_STATUS_Married            0.066619\n",
       "6                             DAYS_BIRTH            0.046168\n",
       "24             AMT_REQ_CREDIT_BUREAU_DAY            0.037187\n",
       "23            AMT_REQ_CREDIT_BUREAU_HOUR            0.032952\n",
       "58                        FLAG_OWN_CAR_Y            0.024224\n",
       "17                         FLOORSMAX_AVG            0.015766"
      ]
     },
     "execution_count": 452,
     "metadata": {},
     "output_type": "execute_result"
    }
   ],
   "source": [
    "# Feature importance\n",
    "features = pd.DataFrame(forest6.feature_importances_)\n",
    "features['Feature'] = X_train.columns.values\n",
    "features['Feature Importance'] = features[0]\n",
    "features = features.drop(0, axis=1)\n",
    "features = features.sort_values(by=['Feature Importance'], ascending=True)\n",
    "features = features.nlargest(n=10, columns=['Feature Importance'])\n",
    "features"
   ]
  },
  {
   "cell_type": "code",
   "execution_count": 453,
   "metadata": {
    "ExecuteTime": {
     "end_time": "2022-03-28T16:46:13.260724Z",
     "start_time": "2022-03-28T16:46:13.253114Z"
    }
   },
   "outputs": [],
   "source": [
    "import matplotlib.style as style\n",
    "# style.available\n",
    "style.use('fivethirtyeight')"
   ]
  },
  {
   "cell_type": "code",
   "execution_count": 454,
   "metadata": {
    "ExecuteTime": {
     "end_time": "2022-03-28T16:46:14.075603Z",
     "start_time": "2022-03-28T16:46:13.772199Z"
    }
   },
   "outputs": [
    {
     "data": {
      "text/plain": [
       "Text(0.5, 1.0, 'Top Ten Features by Importance')"
      ]
     },
     "execution_count": 454,
     "metadata": {},
     "output_type": "execute_result"
    },
    {
     "data": {
      "image/png": "[encoded data removed]",
      "text/plain": [
       "<Figure size 576x576 with 1 Axes>"
      ]
     },
     "metadata": {},
     "output_type": "display_data"
    }
   ],
   "source": [
    "plt.figure(figsize=(8,8))\n",
    "plt.barh(range(10), features['Feature Importance'], align='center') \n",
    "plt.yticks(np.arange(10), features['Feature']) \n",
    "plt.xlabel('Feature importance (Weight)')\n",
    "plt.ylabel('Feature')\n",
    "plt.title('Top Ten Features by Importance')"
   ]
  },
  {
   "cell_type": "markdown",
   "metadata": {},
   "source": [
    "## Explore EXT_SOURCE data"
   ]
  },
  {
   "cell_type": "code",
   "execution_count": 455,
   "metadata": {
    "ExecuteTime": {
     "end_time": "2022-03-28T16:46:23.546168Z",
     "start_time": "2022-03-28T16:46:23.516404Z"
    }
   },
   "outputs": [
    {
     "data": {
      "text/plain": [
       "count    64825.000000\n",
       "mean         0.465946\n",
       "std          0.141130\n",
       "min          0.014568\n",
       "25%          0.465946\n",
       "50%          0.465946\n",
       "75%          0.465946\n",
       "max          0.942680\n",
       "Name: EXT_SOURCE_1, dtype: float64"
      ]
     },
     "execution_count": 455,
     "metadata": {},
     "output_type": "execute_result"
    }
   ],
   "source": [
    "df3['EXT_SOURCE_1'].describe()"
   ]
  },
  {
   "cell_type": "markdown",
   "metadata": {},
   "source": [
    "# Check Gradient Boost & Tune Learning Rate\n",
    "* Iterated on this many times - \n",
    "    * Default learning rate (near 0.1) is the best.\n",
    "        * Learning rate should be in range of 0.0 - 1.0"
   ]
  },
  {
   "cell_type": "code",
   "execution_count": 438,
   "metadata": {
    "ExecuteTime": {
     "end_time": "2022-03-28T16:37:16.435196Z",
     "start_time": "2022-03-28T16:37:16.428572Z"
    }
   },
   "outputs": [],
   "source": [
    "# Scale train and test sets with StandardScaler from SMOTE\n",
    "# X_train_std = StandardScaler().fit_transform(X_train_resampled)\n",
    "# X_test_std = StandardScaler().fit_transform(X_test)"
   ]
  },
  {
   "cell_type": "code",
   "execution_count": 560,
   "metadata": {
    "ExecuteTime": {
     "end_time": "2022-03-28T19:13:55.101577Z",
     "start_time": "2022-03-28T19:13:55.086940Z"
    }
   },
   "outputs": [],
   "source": [
    "# Instantiate an GradientBoostingClassifier\n",
    "gbt_clf1 = GradientBoostingClassifier(learning_rate=0.1, random_state=42)"
   ]
  },
  {
   "cell_type": "code",
   "execution_count": 561,
   "metadata": {
    "ExecuteTime": {
     "end_time": "2022-03-28T19:14:36.967491Z",
     "start_time": "2022-03-28T19:13:55.498843Z"
    }
   },
   "outputs": [
    {
     "data": {
      "text/plain": [
       "GradientBoostingClassifier(random_state=42)"
      ]
     },
     "execution_count": 561,
     "metadata": {},
     "output_type": "execute_result"
    }
   ],
   "source": [
    "# Fit GradientBoostingClassifier\n",
    "gbt_clf1.fit(X_train_resampled, y_train_resampled)"
   ]
  },
  {
   "cell_type": "code",
   "execution_count": 562,
   "metadata": {
    "ExecuteTime": {
     "end_time": "2022-03-28T19:14:36.984547Z",
     "start_time": "2022-03-28T19:14:36.971443Z"
    }
   },
   "outputs": [
    {
     "data": {
      "text/plain": [
       "GradientBoostingClassifier(presort='auto', random_state=42)"
      ]
     },
     "execution_count": 562,
     "metadata": {},
     "output_type": "execute_result"
    }
   ],
   "source": [
    "GradientBoostingClassifier(criterion='friedman_mse', init=None,\n",
    "                           learning_rate=0.1, loss='deviance', max_depth=3,\n",
    "                           max_features=None, max_leaf_nodes=None,\n",
    "                           min_impurity_decrease=0.0, min_impurity_split=None,\n",
    "                           min_samples_leaf=1, min_samples_split=2,\n",
    "                           min_weight_fraction_leaf=0.0, n_estimators=100,\n",
    "                           n_iter_no_change=None, presort='auto',\n",
    "                           random_state=42, subsample=1.0, tol=0.0001,\n",
    "                           validation_fraction=0.1, verbose=0,\n",
    "                           warm_start=False)"
   ]
  },
  {
   "cell_type": "code",
   "execution_count": 563,
   "metadata": {
    "ExecuteTime": {
     "end_time": "2022-03-28T19:14:37.518208Z",
     "start_time": "2022-03-28T19:14:36.990220Z"
    }
   },
   "outputs": [],
   "source": [
    "# GradientBoosting model predictions\n",
    "gbt_clf_train_preds = gbt_clf1.predict(X_train_resampled)\n",
    "gbt_clf_test_preds = gbt_clf1.predict(X_test_std)"
   ]
  },
  {
   "cell_type": "code",
   "execution_count": 564,
   "metadata": {
    "ExecuteTime": {
     "end_time": "2022-03-28T19:14:37.807822Z",
     "start_time": "2022-03-28T19:14:37.523284Z"
    }
   },
   "outputs": [
    {
     "name": "stdout",
     "output_type": "stream",
     "text": [
      "Training Set\n",
      "[[18597  5366]\n",
      " [ 6426 17537]]\n",
      "              precision    recall  f1-score   support\n",
      "\n",
      "           0       0.74      0.78      0.76     23963\n",
      "           1       0.77      0.73      0.75     23963\n",
      "\n",
      "    accuracy                           0.75     47926\n",
      "   macro avg       0.75      0.75      0.75     47926\n",
      "weighted avg       0.75      0.75      0.75     47926\n",
      "\n",
      "Test Set\n",
      "[[ 3598 12439]\n",
      " [  718  9175]]\n",
      "              precision    recall  f1-score   support\n",
      "\n",
      "           0       0.83      0.22      0.35     16037\n",
      "           1       0.42      0.93      0.58      9893\n",
      "\n",
      "    accuracy                           0.49     25930\n",
      "   macro avg       0.63      0.58      0.47     25930\n",
      "weighted avg       0.68      0.49      0.44     25930\n",
      "\n"
     ]
    }
   ],
   "source": [
    "# Confusion matrix and classification report for training set\n",
    "print(\"Training Set\")\n",
    "print(confusion_matrix(y_train_resampled, gbt_clf_train_preds))\n",
    "print(classification_report(y_train_resampled, gbt_clf_train_preds))\n",
    "\n",
    "print(\"Test Set\")\n",
    "# Confusion matrix and classification report for test set\n",
    "print(confusion_matrix(y_test, gbt_clf_test_preds))\n",
    "print(classification_report(y_test, gbt_clf_test_preds))"
   ]
  },
  {
   "cell_type": "markdown",
   "metadata": {},
   "source": [
    "### Summary - Gradient Boost Model 1\n",
    "* This model is also over-trained - leading to an approval of 79% of applications.\n",
    "* However, the model is 90% accurate at predicting approvals, so it is more accurate than other models and would allow me to remove 21% of the applications, which categorize as refusals, with a higher degree of confidence."
   ]
  },
  {
   "cell_type": "markdown",
   "metadata": {},
   "source": [
    "## Gradient Boost Model 2\n",
    "* Tune for more balanced test distribution"
   ]
  },
  {
   "cell_type": "code",
   "execution_count": 565,
   "metadata": {
    "ExecuteTime": {
     "end_time": "2022-03-28T19:14:37.832156Z",
     "start_time": "2022-03-28T19:14:37.814614Z"
    }
   },
   "outputs": [],
   "source": [
    "# Instantiate an GradientBoostingClassifier\n",
    "gbt_clf2 = GradientBoostingClassifier(learning_rate=0.05, max_depth=2, min_samples_leaf=20,random_state=42)"
   ]
  },
  {
   "cell_type": "code",
   "execution_count": 566,
   "metadata": {
    "ExecuteTime": {
     "end_time": "2022-03-28T19:15:02.677929Z",
     "start_time": "2022-03-28T19:14:37.835246Z"
    }
   },
   "outputs": [
    {
     "data": {
      "text/plain": [
       "GradientBoostingClassifier(learning_rate=0.05, max_depth=2, min_samples_leaf=20,\n",
       "                           random_state=42)"
      ]
     },
     "execution_count": 566,
     "metadata": {},
     "output_type": "execute_result"
    }
   ],
   "source": [
    "# Fit GradientBoostingClassifier\n",
    "gbt_clf2.fit(X_train_resampled, y_train_resampled)"
   ]
  },
  {
   "cell_type": "code",
   "execution_count": 567,
   "metadata": {
    "ExecuteTime": {
     "end_time": "2022-03-28T19:15:02.709362Z",
     "start_time": "2022-03-28T19:15:02.681843Z"
    }
   },
   "outputs": [
    {
     "data": {
      "text/plain": [
       "GradientBoostingClassifier(presort='auto', random_state=42)"
      ]
     },
     "execution_count": 567,
     "metadata": {},
     "output_type": "execute_result"
    }
   ],
   "source": [
    "GradientBoostingClassifier(criterion='friedman_mse', init=None,\n",
    "                           learning_rate=0.1, loss='deviance', max_depth=3,\n",
    "                           max_features=None, max_leaf_nodes=None,\n",
    "                           min_impurity_decrease=0.0, min_impurity_split=None,\n",
    "                           min_samples_leaf=1, min_samples_split=2,\n",
    "                           min_weight_fraction_leaf=0.0, n_estimators=100,\n",
    "                           n_iter_no_change=None, presort='auto',\n",
    "                           random_state=42, subsample=1.0, tol=0.0001,\n",
    "                           validation_fraction=0.1, verbose=0,\n",
    "                           warm_start=False)"
   ]
  },
  {
   "cell_type": "code",
   "execution_count": 595,
   "metadata": {
    "ExecuteTime": {
     "end_time": "2022-03-28T19:31:11.990963Z",
     "start_time": "2022-03-28T19:31:11.587430Z"
    }
   },
   "outputs": [],
   "source": [
    "# GradientBoosting model predictions\n",
    "gbt_clf_train_preds = gbt_clf2.predict(X_train_resampled)\n",
    "gbt_clf_test_preds = gbt_clf2.predict(X_test)"
   ]
  },
  {
   "cell_type": "code",
   "execution_count": 596,
   "metadata": {
    "ExecuteTime": {
     "end_time": "2022-03-28T19:31:12.573556Z",
     "start_time": "2022-03-28T19:31:12.304816Z"
    }
   },
   "outputs": [
    {
     "name": "stdout",
     "output_type": "stream",
     "text": [
      "Training Set\n",
      "[[16989  6974]\n",
      " [ 6511 17452]]\n",
      "              precision    recall  f1-score   support\n",
      "\n",
      "           0       0.72      0.71      0.72     23963\n",
      "           1       0.71      0.73      0.72     23963\n",
      "\n",
      "    accuracy                           0.72     47926\n",
      "   macro avg       0.72      0.72      0.72     47926\n",
      "weighted avg       0.72      0.72      0.72     47926\n",
      "\n",
      "Test Set\n",
      "[[11287  4750]\n",
      " [ 3788  6105]]\n",
      "              precision    recall  f1-score   support\n",
      "\n",
      "           0       0.75      0.70      0.73     16037\n",
      "           1       0.56      0.62      0.59      9893\n",
      "\n",
      "    accuracy                           0.67     25930\n",
      "   macro avg       0.66      0.66      0.66     25930\n",
      "weighted avg       0.68      0.67      0.67     25930\n",
      "\n"
     ]
    }
   ],
   "source": [
    "# Confusion matrix and classification report for training set\n",
    "print(\"Training Set\")\n",
    "print(confusion_matrix(y_train_resampled, gbt_clf_train_preds))\n",
    "print(classification_report(y_train_resampled, gbt_clf_train_preds))\n",
    "\n",
    "print(\"Test Set\")\n",
    "# Confusion matrix and classification report for test set\n",
    "print(confusion_matrix(y_test, gbt_clf_test_preds))\n",
    "print(classification_report(y_test, gbt_clf_test_preds))"
   ]
  },
  {
   "cell_type": "markdown",
   "metadata": {},
   "source": [
    "### Summary - Gradient Boost Model 2\n",
    "* This model is over-trained - leading to an approval of 84% of applications.\n",
    "    * It will recommend the removal of ~22% of the applications as refusals."
   ]
  },
  {
   "cell_type": "markdown",
   "metadata": {},
   "source": [
    "## Gradient Boost Model 3"
   ]
  },
  {
   "cell_type": "code",
   "execution_count": 570,
   "metadata": {
    "ExecuteTime": {
     "end_time": "2022-03-28T19:15:04.319349Z",
     "start_time": "2022-03-28T19:15:04.306988Z"
    }
   },
   "outputs": [],
   "source": [
    "# Instantiate an GradientBoostingClassifier\n",
    "gbt_clf3 = GradientBoostingClassifier(random_state=42)"
   ]
  },
  {
   "cell_type": "code",
   "execution_count": 571,
   "metadata": {
    "ExecuteTime": {
     "end_time": "2022-03-28T19:15:38.361457Z",
     "start_time": "2022-03-28T19:15:04.324310Z"
    }
   },
   "outputs": [
    {
     "data": {
      "text/plain": [
       "GradientBoostingClassifier(random_state=42)"
      ]
     },
     "execution_count": 571,
     "metadata": {},
     "output_type": "execute_result"
    }
   ],
   "source": [
    "# Fit GradientBoostingClassifier\n",
    "gbt_clf3.fit(X_train_resampled, y_train_resampled)"
   ]
  },
  {
   "cell_type": "code",
   "execution_count": 572,
   "metadata": {
    "ExecuteTime": {
     "end_time": "2022-03-28T19:15:38.380611Z",
     "start_time": "2022-03-28T19:15:38.366010Z"
    }
   },
   "outputs": [
    {
     "data": {
      "text/plain": [
       "GradientBoostingClassifier(presort='auto', random_state=42)"
      ]
     },
     "execution_count": 572,
     "metadata": {},
     "output_type": "execute_result"
    }
   ],
   "source": [
    "GradientBoostingClassifier(criterion='friedman_mse', init=None,\n",
    "                           learning_rate=0.1, loss='deviance', max_depth=3,\n",
    "                           max_features=None, max_leaf_nodes=None,\n",
    "                           min_impurity_decrease=0.0, min_impurity_split=None,\n",
    "                           min_samples_leaf=1, min_samples_split=2,\n",
    "                           min_weight_fraction_leaf=0.0, n_estimators=100,\n",
    "                           n_iter_no_change=None, presort='auto',\n",
    "                           random_state=42, subsample=1.0, tol=0.0001,\n",
    "                           validation_fraction=0.1, verbose=0,\n",
    "                           warm_start=False)"
   ]
  },
  {
   "cell_type": "code",
   "execution_count": 593,
   "metadata": {
    "ExecuteTime": {
     "end_time": "2022-03-28T19:30:39.150764Z",
     "start_time": "2022-03-28T19:30:38.679251Z"
    }
   },
   "outputs": [],
   "source": [
    "# GradientBoosting model predictions\n",
    "gbt_clf_train_preds = gbt_clf3.predict(X_train_resampled)\n",
    "gbt_clf_test_preds = gbt_clf3.predict(X_test)"
   ]
  },
  {
   "cell_type": "code",
   "execution_count": 594,
   "metadata": {
    "ExecuteTime": {
     "end_time": "2022-03-28T19:30:39.901152Z",
     "start_time": "2022-03-28T19:30:39.609144Z"
    }
   },
   "outputs": [
    {
     "name": "stdout",
     "output_type": "stream",
     "text": [
      "Training Set\n",
      "[[18597  5366]\n",
      " [ 6426 17537]]\n",
      "              precision    recall  f1-score   support\n",
      "\n",
      "           0       0.74      0.78      0.76     23963\n",
      "           1       0.77      0.73      0.75     23963\n",
      "\n",
      "    accuracy                           0.75     47926\n",
      "   macro avg       0.75      0.75      0.75     47926\n",
      "weighted avg       0.75      0.75      0.75     47926\n",
      "\n",
      "Test Set\n",
      "[[12324  3713]\n",
      " [ 4270  5623]]\n",
      "              precision    recall  f1-score   support\n",
      "\n",
      "           0       0.74      0.77      0.76     16037\n",
      "           1       0.60      0.57      0.58      9893\n",
      "\n",
      "    accuracy                           0.69     25930\n",
      "   macro avg       0.67      0.67      0.67     25930\n",
      "weighted avg       0.69      0.69      0.69     25930\n",
      "\n"
     ]
    }
   ],
   "source": [
    "# Confusion matrix and classification report for training set\n",
    "print(\"Training Set\")\n",
    "print(confusion_matrix(y_train_resampled, gbt_clf_train_preds))\n",
    "print(classification_report(y_train_resampled, gbt_clf_train_preds))\n",
    "\n",
    "print(\"Test Set\")\n",
    "# Confusion matrix and classification report for test set\n",
    "print(confusion_matrix(y_test, gbt_clf_test_preds))\n",
    "print(classification_report(y_test, gbt_clf_test_preds))"
   ]
  },
  {
   "cell_type": "markdown",
   "metadata": {},
   "source": [
    "### Summary - Gradient Boost Model 3\n",
    "* This model is also over-trained - leading to an approval of 83% of applications when only 38% were actually approved.\n",
    "    * However, it is 93% accurate at indicating when an application was approved.  Meaning we can predict with a 93% likelihood whether an application will be approved."
   ]
  },
  {
   "cell_type": "markdown",
   "metadata": {},
   "source": [
    "# Gaussian Naive Bayes - Model 1"
   ]
  },
  {
   "cell_type": "code",
   "execution_count": 478,
   "metadata": {
    "ExecuteTime": {
     "end_time": "2022-03-28T18:50:45.721039Z",
     "start_time": "2022-03-28T18:50:45.472512Z"
    }
   },
   "outputs": [],
   "source": [
    "from sklearn.naive_bayes import GaussianNB\n",
    "clf1 = GaussianNB()"
   ]
  },
  {
   "cell_type": "code",
   "execution_count": 479,
   "metadata": {
    "ExecuteTime": {
     "end_time": "2022-03-28T18:50:46.748070Z",
     "start_time": "2022-03-28T18:50:46.354746Z"
    }
   },
   "outputs": [
    {
     "data": {
      "text/plain": [
       "GaussianNB()"
      ]
     },
     "execution_count": 479,
     "metadata": {},
     "output_type": "execute_result"
    }
   ],
   "source": [
    "clf1.fit(X_train_resampled, y_train_resampled)"
   ]
  },
  {
   "cell_type": "code",
   "execution_count": 481,
   "metadata": {
    "ExecuteTime": {
     "end_time": "2022-03-28T18:50:51.880243Z",
     "start_time": "2022-03-28T18:50:51.623924Z"
    }
   },
   "outputs": [],
   "source": [
    "# GradientBoosting model predictions\n",
    "clf1_train_preds = clf1.predict(X_train_resampled)\n",
    "clf1_test_preds = clf1.predict(X_test_std)"
   ]
  },
  {
   "cell_type": "code",
   "execution_count": 482,
   "metadata": {
    "ExecuteTime": {
     "end_time": "2022-03-28T18:50:55.272441Z",
     "start_time": "2022-03-28T18:50:55.001563Z"
    }
   },
   "outputs": [
    {
     "name": "stdout",
     "output_type": "stream",
     "text": [
      "Training Set\n",
      "[[ 9474 14489]\n",
      " [ 5995 17968]]\n",
      "              precision    recall  f1-score   support\n",
      "\n",
      "           0       0.61      0.40      0.48     23963\n",
      "           1       0.55      0.75      0.64     23963\n",
      "\n",
      "    accuracy                           0.57     47926\n",
      "   macro avg       0.58      0.57      0.56     47926\n",
      "weighted avg       0.58      0.57      0.56     47926\n",
      "\n",
      "Test Set\n",
      "[[16037     0]\n",
      " [ 9893     0]]\n",
      "              precision    recall  f1-score   support\n",
      "\n",
      "           0       0.62      1.00      0.76     16037\n",
      "           1       0.00      0.00      0.00      9893\n",
      "\n",
      "    accuracy                           0.62     25930\n",
      "   macro avg       0.31      0.50      0.38     25930\n",
      "weighted avg       0.38      0.62      0.47     25930\n",
      "\n"
     ]
    }
   ],
   "source": [
    "# Confusion matrix and classification report for training set\n",
    "print(\"Training Set\")\n",
    "print(confusion_matrix(y_train_resampled, clf1_train_preds))\n",
    "print(classification_report(y_train_resampled, clf1_train_preds))\n",
    "\n",
    "print(\"Test Set\")\n",
    "# Confusion matrix and classification report for test set\n",
    "print(confusion_matrix(y_test, clf1_test_preds))\n",
    "print(classification_report(y_test, clf1_test_preds))"
   ]
  },
  {
   "cell_type": "markdown",
   "metadata": {},
   "source": [
    "### Summary - Gradient Boost Model 3\n",
    "* This model is also over-trained - leading to an approval of 83% of applications when only 38% were actually approved.\n",
    "    * However, it is 93% accurate at indicating when an application was approved.  Meaning we can predict with a 93% likelihood whether an application will be approved."
   ]
  },
  {
   "cell_type": "markdown",
   "metadata": {},
   "source": [
    "# Voting Classifier Model 1\n",
    "* Improve model by combining models that accurately predict each class."
   ]
  },
  {
   "cell_type": "code",
   "execution_count": 607,
   "metadata": {
    "ExecuteTime": {
     "end_time": "2022-03-28T19:38:10.298579Z",
     "start_time": "2022-03-28T19:37:17.603782Z"
    }
   },
   "outputs": [],
   "source": [
    "clf1 = forest5\n",
    "clf2 = gbt_clf3\n",
    "clf3 = forest6\n",
    "X = X_train_resampled\n",
    "y = y_train_resampled\n",
    "eclf1 = VotingClassifier(estimators=[\n",
    "    ('lr', clf1), ('rf', clf2), ('gnb', clf3)], voting='hard', weights=[2,1,1])\n",
    "eclf1 = eclf1.fit(X, y)"
   ]
  },
  {
   "cell_type": "code",
   "execution_count": 608,
   "metadata": {
    "ExecuteTime": {
     "end_time": "2022-03-28T19:38:14.995421Z",
     "start_time": "2022-03-28T19:38:10.303053Z"
    }
   },
   "outputs": [],
   "source": [
    "# GradientBoosting model predictions\n",
    "eclf1_train_preds = eclf1.predict(X_train_resampled)\n",
    "eclf1_test_preds = eclf1.predict(X_test_std)"
   ]
  },
  {
   "cell_type": "code",
   "execution_count": 609,
   "metadata": {
    "ExecuteTime": {
     "end_time": "2022-03-28T19:38:15.349608Z",
     "start_time": "2022-03-28T19:38:14.999493Z"
    }
   },
   "outputs": [
    {
     "name": "stdout",
     "output_type": "stream",
     "text": [
      "Training Set\n",
      "[[19393  4570]\n",
      " [ 7214 16749]]\n",
      "              precision    recall  f1-score   support\n",
      "\n",
      "           0       0.73      0.81      0.77     23963\n",
      "           1       0.79      0.70      0.74     23963\n",
      "\n",
      "    accuracy                           0.75     47926\n",
      "   macro avg       0.76      0.75      0.75     47926\n",
      "weighted avg       0.76      0.75      0.75     47926\n",
      "\n",
      "Test Set\n",
      "[[6343 9694]\n",
      " [1614 8279]]\n",
      "              precision    recall  f1-score   support\n",
      "\n",
      "           0       0.80      0.40      0.53     16037\n",
      "           1       0.46      0.84      0.59      9893\n",
      "\n",
      "    accuracy                           0.56     25930\n",
      "   macro avg       0.63      0.62      0.56     25930\n",
      "weighted avg       0.67      0.56      0.55     25930\n",
      "\n"
     ]
    }
   ],
   "source": [
    "# Confusion matrix and classification report for training set\n",
    "print(\"Training Set\")\n",
    "print(confusion_matrix(y_train_resampled, eclf1_train_preds))\n",
    "print(classification_report(y_train_resampled, eclf1_train_preds))\n",
    "\n",
    "print(\"Test Set\")\n",
    "# Confusion matrix and classification report for test set\n",
    "print(confusion_matrix(y_test, eclf1_test_preds))\n",
    "print(classification_report(y_test, eclf1_test_preds))"
   ]
  },
  {
   "cell_type": "markdown",
   "metadata": {},
   "source": [
    "### Summary - Voting Classifier Model 1\n",
    "* This is the best model so far that has an approval recall score or True Positive Rate near 0.85 because it also has a True Negative Rate of 0.40 or 40%. "
   ]
  },
  {
   "cell_type": "markdown",
   "metadata": {},
   "source": [
    "# Results\n",
    "* Certain models optimized for best Accuracy (want True Positive Rate > 85%):\n",
    "    * Weak-Learners, such as Gradient Boost\n",
    "        * Tuned to high recall score for Approval, low recall score for Refusal. Or, vice-versa.  Difficult to balance recall scores for approval and refusal.\n",
    "    * Decision Trees, such as Random Forest\n",
    "        * Best for optimizing for True Positive or True Negative Rates (recall scores)\n",
    "            * Attained 98% True Positive or True Negative rate, but not both in the same model.\n",
    "    * Ensemble Methods, such as Voting Classifier\n",
    "        * Find compromise between models, leading to best performance within desired outcome.\n",
    "* Increasing the number of features greatly improved the accuracy of the model.\n",
    "    * Trimming these features by feature importance allowed for an even more accurate model, in terms of recall score for loan approval.\n",
    "* Using standard scaler before fit optimized for increased True Positive Rate, but decreased True Negative Rate.\n",
    "* Manipulating random_forest hyper-parameters allowed for over-training of the train set, which led to improved accuracy in predicting loan approval (Recall for value of 1).\n",
    "    * Resulting in an accuracy of 98% in predicting if someone will be approved for a loan.\n",
    "* Will be able to propose business case for advancing loan applications to the next stage for the banking industry."
   ]
  },
  {
   "cell_type": "markdown",
   "metadata": {},
   "source": [
    "# Reduce Features, Check for Accuracy\n",
    "* Optimize for accuracy of Loan Approval \n",
    "* This code is too computationally expensive to run on this data set for my computer(>20 min), but I am curious whether a model with fewer features would produce similar results."
   ]
  },
  {
   "cell_type": "code",
   "execution_count": 100,
   "metadata": {
    "ExecuteTime": {
     "end_time": "2022-03-25T15:15:08.776064Z",
     "start_time": "2022-03-25T15:15:08.771548Z"
    }
   },
   "outputs": [],
   "source": [
    "# Init the transformer\n",
    "# rfe = RFE(estimator=RandomForestRegressor(), n_features_to_select=10)\n",
    "\n",
    "# Fit to the training data\n",
    "# _ = rfe.fit(X_train_std, y_train_resampled)"
   ]
  },
  {
   "cell_type": "code",
   "execution_count": 101,
   "metadata": {
    "ExecuteTime": {
     "end_time": "2022-03-25T15:15:13.465998Z",
     "start_time": "2022-03-25T15:15:13.460847Z"
    }
   },
   "outputs": [],
   "source": [
    "# make predictions for test set based on model\n",
    "# pred = rfe.predict(X_test_std)"
   ]
  },
  {
   "cell_type": "code",
   "execution_count": 102,
   "metadata": {
    "ExecuteTime": {
     "end_time": "2022-03-25T15:15:20.831062Z",
     "start_time": "2022-03-25T15:15:20.826490Z"
    }
   },
   "outputs": [],
   "source": [
    "# Confusion matrix and classification report\n",
    "# print(confusion_matrix(y_test, pred))\n",
    "# print(classification_report(y_test, pred))"
   ]
  },
  {
   "cell_type": "markdown",
   "metadata": {},
   "source": [
    "# Further Study\n",
    "* Need to better understand the existing features and gather more relevant features.\n",
    "    * What do EXT_SOURCE_1, 2, and 3 values signify?\n",
    "    * What do the AMT_REQ_CREDIT_BUREAU values signify?\n",
    "    * Can we gather credit scores, amount of loan request, amount of cash/market-value of assets?\n",
    "* Need to test this model on a sample of actual market data to examine how it performs and perform tuning or further iterations of the model.\n",
    "* Determine which features or data are more accessible.\n",
    "    * Can we collect these features from customers, or do we need to pay credit rating agencies for the customers' credit scores?\n",
    "        * Determine how much it would cost to gather data (i.e. credit scores).\n",
    "        * Determine which data is most valid to collect in an online questionnaire. "
   ]
  },
  {
   "cell_type": "code",
   "execution_count": null,
   "metadata": {},
   "outputs": [],
   "source": []
  }
 ],
 "metadata": {
  "kernelspec": {
   "display_name": "Python (learn-env)",
   "language": "python",
   "name": "learn-env"
  },
  "language_info": {
   "codemirror_mode": {
    "name": "ipython",
    "version": 3
   },
   "file_extension": ".py",
   "mimetype": "text/x-python",
   "name": "python",
   "nbconvert_exporter": "python",
   "pygments_lexer": "ipython3",
   "version": "3.8.5"
  },
  "toc": {
   "base_numbering": 1,
   "nav_menu": {},
   "number_sections": true,
   "sideBar": true,
   "skip_h1_title": false,
   "title_cell": "Table of Contents",
   "title_sidebar": "Contents",
   "toc_cell": true,
   "toc_position": {
    "height": "calc(100% - 180px)",
    "left": "10px",
    "top": "150px",
    "width": "261.812px"
   },
   "toc_section_display": true,
   "toc_window_display": true
  }
 },
 "nbformat": 4,
 "nbformat_minor": 4
}
