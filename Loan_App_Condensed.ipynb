{
 "cells": [
  {
   "cell_type": "markdown",
   "metadata": {
    "toc": true
   },
   "source": [
    "<h1>Table of Contents<span class=\"tocSkip\"></span></h1>\n",
    "<div class=\"toc\"><ul class=\"toc-item\"><li><span><a href=\"#Summary\" data-toc-modified-id=\"Summary-1\"><span class=\"toc-item-num\">1&nbsp;&nbsp;</span>Summary</a></span></li><li><span><a href=\"#Preprocess-Data\" data-toc-modified-id=\"Preprocess-Data-2\"><span class=\"toc-item-num\">2&nbsp;&nbsp;</span>Preprocess Data</a></span><ul class=\"toc-item\"><li><span><a href=\"#Undersample-Majority-Class\" data-toc-modified-id=\"Undersample-Majority-Class-2.1\"><span class=\"toc-item-num\">2.1&nbsp;&nbsp;</span>Undersample Majority Class</a></span></li><li><span><a href=\"#Feature-Selection\" data-toc-modified-id=\"Feature-Selection-2.2\"><span class=\"toc-item-num\">2.2&nbsp;&nbsp;</span>Feature Selection</a></span></li><li><span><a href=\"#Clean-up-null-and-missing-values\" data-toc-modified-id=\"Clean-up-null-and-missing-values-2.3\"><span class=\"toc-item-num\">2.3&nbsp;&nbsp;</span>Clean up null and missing values</a></span></li><li><span><a href=\"#Replace-null-values\" data-toc-modified-id=\"Replace-null-values-2.4\"><span class=\"toc-item-num\">2.4&nbsp;&nbsp;</span>Replace null values</a></span><ul class=\"toc-item\"><li><span><a href=\"#Separate-Numericals-&amp;-Categoricals\" data-toc-modified-id=\"Separate-Numericals-&amp;-Categoricals-2.4.1\"><span class=\"toc-item-num\">2.4.1&nbsp;&nbsp;</span>Separate Numericals &amp; Categoricals</a></span><ul class=\"toc-item\"><li><span><a href=\"#Summary-of-numericals\" data-toc-modified-id=\"Summary-of-numericals-2.4.1.1\"><span class=\"toc-item-num\">2.4.1.1&nbsp;&nbsp;</span>Summary of numericals</a></span></li></ul></li><li><span><a href=\"#Categoricals\" data-toc-modified-id=\"Categoricals-2.4.2\"><span class=\"toc-item-num\">2.4.2&nbsp;&nbsp;</span>Categoricals</a></span></li></ul></li><li><span><a href=\"#Label-Encode-or-One-Hot-Encode-Categoricals\" data-toc-modified-id=\"Label-Encode-or-One-Hot-Encode-Categoricals-2.5\"><span class=\"toc-item-num\">2.5&nbsp;&nbsp;</span>Label Encode or One-Hot Encode Categoricals</a></span><ul class=\"toc-item\"><li><ul class=\"toc-item\"><li><span><a href=\"#Use-label-encoding-to-save-space-with-Organization_Type\" data-toc-modified-id=\"Use-label-encoding-to-save-space-with-Organization_Type-2.5.0.1\"><span class=\"toc-item-num\">2.5.0.1&nbsp;&nbsp;</span>Use label encoding to save space with Organization_Type</a></span></li><li><span><a href=\"#One-Hot-Encode-Categoricals\" data-toc-modified-id=\"One-Hot-Encode-Categoricals-2.5.0.2\"><span class=\"toc-item-num\">2.5.0.2&nbsp;&nbsp;</span>One Hot Encode Categoricals</a></span></li></ul></li></ul></li><li><span><a href=\"#Remove-Outliers\" data-toc-modified-id=\"Remove-Outliers-2.6\"><span class=\"toc-item-num\">2.6&nbsp;&nbsp;</span>Remove Outliers</a></span><ul class=\"toc-item\"><li><span><a href=\"#Select-Features\" data-toc-modified-id=\"Select-Features-2.6.1\"><span class=\"toc-item-num\">2.6.1&nbsp;&nbsp;</span>Select Features</a></span></li></ul></li><li><span><a href=\"#SMOTE---Oversample-Minority-Class\" data-toc-modified-id=\"SMOTE---Oversample-Minority-Class-2.7\"><span class=\"toc-item-num\">2.7&nbsp;&nbsp;</span>SMOTE - Oversample Minority Class</a></span><ul class=\"toc-item\"><li><span><a href=\"#Train,-Test,-Split\" data-toc-modified-id=\"Train,-Test,-Split-2.7.1\"><span class=\"toc-item-num\">2.7.1&nbsp;&nbsp;</span>Train, Test, Split</a></span></li></ul></li><li><span><a href=\"#Random-Forest-with-SMOTE\" data-toc-modified-id=\"Random-Forest-with-SMOTE-2.8\"><span class=\"toc-item-num\">2.8&nbsp;&nbsp;</span>Random Forest with SMOTE</a></span></li><li><span><a href=\"#Random-Forest-with-SMOTE\" data-toc-modified-id=\"Random-Forest-with-SMOTE-2.9\"><span class=\"toc-item-num\">2.9&nbsp;&nbsp;</span>Random Forest with SMOTE</a></span></li></ul></li></ul></div>"
   ]
  },
  {
   "cell_type": "markdown",
   "metadata": {},
   "source": [
    "# Summary\n",
    "* 'Link to Data', https://www.kaggle.com/code/kapoorshivam/credit-analysis-using-eda/data"
   ]
  },
  {
   "cell_type": "code",
   "execution_count": null,
   "metadata": {
    "ExecuteTime": {
     "end_time": "2022-03-24T21:06:20.203960Z",
     "start_time": "2022-03-24T21:05:36.296Z"
    }
   },
   "outputs": [],
   "source": [
    "import pandas as pd\n",
    "import matplotlib.pyplot as plt\n",
    "import numpy as np\n",
    "np.random.seed(0)\n",
    "import seaborn as sns\n",
    "from sklearn.model_selection import train_test_split\n",
    "from sklearn.metrics import roc_curve, auc\n",
    "from sklearn.metrics import confusion_matrix\n",
    "from sklearn.linear_model import LogisticRegression\n",
    "from sklearn.metrics import make_scorer\n",
    "from sklearn.model_selection import StratifiedKFold\n",
    "from sklearn.base import clone\n",
    "from sklearn.metrics import log_loss\n",
    "from sklearn.model_selection import cross_val_score\n",
    "from sklearn.preprocessing import StandardScaler\n",
    "from sklearn.neighbors import KNeighborsClassifier\n",
    "from sklearn.metrics import precision_score, recall_score, accuracy_score, f1_score\n",
    "from sklearn.tree import DecisionTreeClassifier\n",
    "from sklearn.metrics import classification_report\n",
    "from sklearn.ensemble import BaggingClassifier, RandomForestClassifier\n",
    "from xgboost import XGBClassifier\n",
    "from sklearn.model_selection import GridSearchCV\n",
    "from sklearn.svm import SVC\n",
    "from sklearn.ensemble import AdaBoostClassifier, GradientBoostingClassifier\n",
    "from sklearn.preprocessing import LabelEncoder\n",
    "from sklearn.feature_selection import RFECV\n",
    "from sklearn.datasets import make_classification\n",
    "from sklearn.ensemble import RandomForestRegressor\n",
    "from sklearn.feature_selection import RFE\n",
    "\n",
    "from imblearn.over_sampling import SMOTE, ADASYN\n",
    "\n",
    "import warnings\n",
    "warnings.filterwarnings('ignore')\n",
    "%matplotlib inline"
   ]
  },
  {
   "cell_type": "code",
   "execution_count": null,
   "metadata": {
    "ExecuteTime": {
     "end_time": "2022-03-24T21:06:20.193943Z",
     "start_time": "2022-03-24T21:03:13.283Z"
    }
   },
   "outputs": [],
   "source": [
    "df = pd.read_csv(r'/Users/jimpetoskey/Documents/Flatiron/phase3/Phase_3_Project/Loans/current_app.csv')\n",
    "df.info()"
   ]
  },
  {
   "cell_type": "code",
   "execution_count": null,
   "metadata": {
    "ExecuteTime": {
     "end_time": "2022-03-24T21:06:20.199886Z",
     "start_time": "2022-03-24T21:03:13.756Z"
    },
    "scrolled": true
   },
   "outputs": [],
   "source": [
    "df['TARGET'].value_counts()"
   ]
  },
  {
   "cell_type": "markdown",
   "metadata": {},
   "source": [
    "# Preprocess Data\n",
    "* Reduce Class Imbalance Issue:\n",
    "    * Sample 40,000 '0' values from the data set and use 25,000 '1' values, for 65,000 total values.\n",
    "    * Then, oversample minority class with SMOTE for a total of 40,000 of each class.\n",
    "* Trim columns based on scikit learn's recursive feature selection select 38 columns."
   ]
  },
  {
   "cell_type": "markdown",
   "metadata": {},
   "source": [
    "## Undersample Majority Class\n",
    "* Will reduce size of dataframe for faster processing on local machine.\n",
    "* Paired with SMOTE, will allow for reducing class imbalance issues"
   ]
  },
  {
   "cell_type": "code",
   "execution_count": 23,
   "metadata": {
    "ExecuteTime": {
     "end_time": "2022-03-24T20:03:19.204613Z",
     "start_time": "2022-03-24T20:03:17.637376Z"
    }
   },
   "outputs": [
    {
     "data": {
      "text/plain": [
       "0    282686\n",
       "Name: TARGET, dtype: int64"
      ]
     },
     "execution_count": 23,
     "metadata": {},
     "output_type": "execute_result"
    }
   ],
   "source": [
    "df_zero_val = df[df.TARGET == 0]\n",
    "df_zero_val['TARGET'].value_counts()"
   ]
  },
  {
   "cell_type": "code",
   "execution_count": 24,
   "metadata": {
    "ExecuteTime": {
     "end_time": "2022-03-24T20:03:22.899355Z",
     "start_time": "2022-03-24T20:03:22.184437Z"
    }
   },
   "outputs": [
    {
     "data": {
      "text/plain": [
       "0    40000\n",
       "Name: TARGET, dtype: int64"
      ]
     },
     "execution_count": 24,
     "metadata": {},
     "output_type": "execute_result"
    }
   ],
   "source": [
    "df_zero_val = df_zero_val.sample(n=40000)\n",
    "df_zero_val['TARGET'].value_counts()"
   ]
  },
  {
   "cell_type": "code",
   "execution_count": 25,
   "metadata": {
    "ExecuteTime": {
     "end_time": "2022-03-24T20:03:28.591996Z",
     "start_time": "2022-03-24T20:03:28.524341Z"
    }
   },
   "outputs": [
    {
     "data": {
      "text/plain": [
       "1    24825\n",
       "Name: TARGET, dtype: int64"
      ]
     },
     "execution_count": 25,
     "metadata": {},
     "output_type": "execute_result"
    }
   ],
   "source": [
    "df_one_val = df[df.TARGET == 1]\n",
    "df_one_val['TARGET'].value_counts()"
   ]
  },
  {
   "cell_type": "code",
   "execution_count": 27,
   "metadata": {
    "ExecuteTime": {
     "end_time": "2022-03-24T20:03:44.039425Z",
     "start_time": "2022-03-24T20:03:43.832701Z"
    }
   },
   "outputs": [
    {
     "data": {
      "text/plain": [
       "0    40000\n",
       "1    24825\n",
       "Name: TARGET, dtype: int64"
      ]
     },
     "execution_count": 27,
     "metadata": {},
     "output_type": "execute_result"
    }
   ],
   "source": [
    "df1 = df_zero_val.append(df_one_val)\n",
    "df1['TARGET'].value_counts()"
   ]
  },
  {
   "cell_type": "markdown",
   "metadata": {},
   "source": [
    "## Feature Selection\n",
    "* Recursive Feature Selection (RFE) with sklearn"
   ]
  },
  {
   "cell_type": "code",
   "execution_count": null,
   "metadata": {
    "ExecuteTime": {
     "start_time": "2022-03-24T21:01:59.326Z"
    },
    "scrolled": true
   },
   "outputs": [],
   "source": [
    "df1.info()"
   ]
  },
  {
   "cell_type": "code",
   "execution_count": null,
   "metadata": {
    "ExecuteTime": {
     "start_time": "2022-03-24T21:00:39.568Z"
    }
   },
   "outputs": [],
   "source": [
    "X = df1.drop('TARGET', axis=1)\n",
    "y = df1['TARGET']\n",
    "\n",
    "# Build a classification task using 30 informative features\n",
    "X, y = make_classification(\n",
    "    n_samples=500,\n",
    "    n_features=122,\n",
    "    n_informative=30,\n",
    "    n_redundant=2,\n",
    "    n_repeated=0,\n",
    "    n_classes=8,\n",
    "    n_clusters_per_class=1,\n",
    "    random_state=0,\n",
    ")\n",
    "\n",
    "# Create the RFE object and compute a cross-validated score.\n",
    "svc = SVC(kernel=\"linear\")\n",
    "# The \"accuracy\" scoring shows the proportion of correct classifications\n",
    "\n",
    "min_features_to_select = 1  # Minimum number of features to consider\n",
    "rfecv = RFECV(\n",
    "    estimator=svc,\n",
    "    step=1,\n",
    "    cv=StratifiedKFold(2),\n",
    "    scoring=\"accuracy\",\n",
    "    min_features_to_select=min_features_to_select,\n",
    ")\n",
    "rfecv.fit(X, y)\n",
    "\n",
    "print(\"Optimal number of features : %d\" % rfecv.n_features_)\n",
    "\n",
    "# Plot number of features VS. cross-validation scores\n",
    "plt.figure()\n",
    "plt.xlabel(\"Number of features selected\")\n",
    "plt.ylabel(\"Cross validation score (accuracy)\")\n",
    "plt.plot(\n",
    "    range(min_features_to_select, len(rfecv.grid_scores_) + min_features_to_select),\n",
    "    rfecv.grid_scores_,\n",
    ")\n",
    "plt.show()"
   ]
  },
  {
   "cell_type": "code",
   "execution_count": null,
   "metadata": {
    "ExecuteTime": {
     "end_time": "2022-03-24T20:57:23.081763Z",
     "start_time": "2022-03-24T20:46:05.606Z"
    }
   },
   "outputs": [],
   "source": [
    "# Too computationally expensive to run (>10 minutes)\n",
    "# forest = RandomForestRegressor()\n",
    "\n",
    "# Init the transformer\n",
    "# rfe = RFE(estimator=RandomForestRegressor(), n_features_to_select=115)\n",
    "\n",
    "# Fit to the data\n",
    "# _ = rfe.fit(X_train_resampled, y_train_resampled)"
   ]
  },
  {
   "cell_type": "code",
   "execution_count": null,
   "metadata": {},
   "outputs": [],
   "source": [
    "# _ = forest.fit(rfe.transform(X_train_resampled), y_train_resampled)\n",
    "# forest.score(rfe.transform(X_test), y_test)"
   ]
  },
  {
   "cell_type": "code",
   "execution_count": null,
   "metadata": {
    "ExecuteTime": {
     "start_time": "2022-03-24T21:01:36.734Z"
    }
   },
   "outputs": [],
   "source": [
    "# Create new dataframe with selected features\n",
    "df1 = df.filter(['TARGET', \n",
    "                 'CNT_CHILDREN', \n",
    "                 'AMT_INCOME_TOTAL',\n",
    "                 'AMT_CREDIT', \n",
    "                 'AMT_ANNUITY',\n",
    "                 'NAME_EDUCATION_TYPE',\n",
    "                 'DAYS_EMPLOYED',\n",
    "                 'CNT_FAM_MEMBERS',\n",
    "                 'DAYS_BIRTH',\n",
    "                 'NAME_INCOME_TYPE',\n",
    "                 'AMT_GOODS_PRICE',\n",
    "                 'CODE_GENDER',\n",
    "                 'FLAG_OWN_REALTY',\n",
    "                 'REGION_RATING_CLIENT',\n",
    "                 'ORGANIZATION_TYPE',\n",
    "                 'DAYS_REGISTRATION',\n",
    "                 'REGION_POPULATION_RELATIVE',\n",
    "                 'NAME_HOUSING_TYPE',\n",
    "                 'NAME_FAMILY_STATUS',\n",
    "                 'NAME_TYPE_SUITE',\n",
    "                 'FLAG_OWN_CAR',\n",
    "                 'NAME_CONTRACT_TYPE',\n",
    "                 'LIVE_REGION_NOT_WORK_REGION',\n",
    "                 'EXT_SOURCE_1',\n",
    "                 'EXT_SOURCE_2',\n",
    "                 'EXT_SOURCE_3',\n",
    "                 'APARTMENTS_AVG',\n",
    "                 'YEARS_BUILD_AVG',\n",
    "                 'YEARS_BEGIN_EXPLUATION_AVG',\n",
    "                 'FLOORSMAX_AVG',\n",
    "                 'NONLIVINGAREA_AVG',\n",
    "                 'TOTALAREA_MODE',\n",
    "                 'DAYS_LAST_PHONE_CHANGE',\n",
    "                 'LIVINGAREA_MEDI',\n",
    "                 'NONLIVINGAREA_MEDI',\n",
    "                 'AMT_REQ_CREDIT_BUREAU_HOUR',\n",
    "                 'AMT_REQ_CREDIT_BUREAU_DAY',\n",
    "                 'AMT_REQ_CREDIT_BUREAU_WEEK',\n",
    "                 'AMT_REQ_CREDIT_BUREAU_MON',\n",
    "                 'AMT_REQ_CREDIT_BUREAU_QRT',\n",
    "                 'AMT_REQ_CREDIT_BUREAU_YEAR'], \n",
    "                axis=1)\n",
    "df1.info()"
   ]
  },
  {
   "cell_type": "markdown",
   "metadata": {},
   "source": [
    "## Clean up null and missing values"
   ]
  },
  {
   "cell_type": "code",
   "execution_count": 30,
   "metadata": {
    "ExecuteTime": {
     "end_time": "2022-03-24T20:16:51.819492Z",
     "start_time": "2022-03-24T20:16:51.597961Z"
    }
   },
   "outputs": [
    {
     "data": {
      "text/plain": [
       "SK_ID_CURR                       0\n",
       "TARGET                           0\n",
       "NAME_CONTRACT_TYPE               0\n",
       "CODE_GENDER                      0\n",
       "FLAG_OWN_CAR                     0\n",
       "                              ... \n",
       "AMT_REQ_CREDIT_BUREAU_DAY     9499\n",
       "AMT_REQ_CREDIT_BUREAU_WEEK    9499\n",
       "AMT_REQ_CREDIT_BUREAU_MON     9499\n",
       "AMT_REQ_CREDIT_BUREAU_QRT     9499\n",
       "AMT_REQ_CREDIT_BUREAU_YEAR    9499\n",
       "Length: 122, dtype: int64"
      ]
     },
     "execution_count": 30,
     "metadata": {},
     "output_type": "execute_result"
    }
   ],
   "source": [
    "df1.isnull().sum()"
   ]
  },
  {
   "cell_type": "markdown",
   "metadata": {},
   "source": [
    "## Replace null values \n",
    "* Categoricals: Replace with mode\n",
    "* Numericals: Replace with mean"
   ]
  },
  {
   "cell_type": "markdown",
   "metadata": {},
   "source": [
    "### Separate Numericals & Categoricals\n",
    "* Complete further investigation of features"
   ]
  },
  {
   "cell_type": "code",
   "execution_count": 31,
   "metadata": {
    "ExecuteTime": {
     "end_time": "2022-03-24T20:18:09.180546Z",
     "start_time": "2022-03-24T20:18:08.722868Z"
    }
   },
   "outputs": [
    {
     "name": "stdout",
     "output_type": "stream",
     "text": [
      "<class 'pandas.core.frame.DataFrame'>\n",
      "Int64Index: 64825 entries, 164904 to 307509\n",
      "Columns: 106 entries, SK_ID_CURR to AMT_REQ_CREDIT_BUREAU_YEAR\n",
      "dtypes: float64(65), int64(41)\n",
      "memory usage: 52.9 MB\n"
     ]
    }
   ],
   "source": [
    "# Select only numerical features\n",
    "num = df1.select_dtypes(include=np.number)\n",
    "num.info()"
   ]
  },
  {
   "cell_type": "code",
   "execution_count": 32,
   "metadata": {
    "ExecuteTime": {
     "end_time": "2022-03-24T20:18:21.405445Z",
     "start_time": "2022-03-24T20:18:21.186502Z"
    }
   },
   "outputs": [
    {
     "name": "stdout",
     "output_type": "stream",
     "text": [
      "SK_ID_CURR                    0\n",
      "TARGET                        0\n",
      "CNT_CHILDREN                  0\n",
      "AMT_INCOME_TOTAL              0\n",
      "AMT_CREDIT                    0\n",
      "                             ..\n",
      "AMT_REQ_CREDIT_BUREAU_DAY     0\n",
      "AMT_REQ_CREDIT_BUREAU_WEEK    0\n",
      "AMT_REQ_CREDIT_BUREAU_MON     0\n",
      "AMT_REQ_CREDIT_BUREAU_QRT     0\n",
      "AMT_REQ_CREDIT_BUREAU_YEAR    0\n",
      "Length: 106, dtype: int64\n"
     ]
    }
   ],
   "source": [
    "# Replace null values in numerical columns with mean\n",
    "for i in num.columns[num.isnull().any(axis=0)]:     #---Applying Only on variables with NaN values\n",
    "    num[i].fillna(num[i].mean(),inplace=True)\n",
    "\n",
    "print(num.isnull().sum())"
   ]
  },
  {
   "cell_type": "code",
   "execution_count": 33,
   "metadata": {
    "ExecuteTime": {
     "end_time": "2022-03-24T20:18:54.945198Z",
     "start_time": "2022-03-24T20:18:54.931925Z"
    }
   },
   "outputs": [
    {
     "name": "stdout",
     "output_type": "stream",
     "text": [
      "<class 'pandas.core.frame.DataFrame'>\n",
      "Int64Index: 64825 entries, 164904 to 307509\n",
      "Columns: 106 entries, SK_ID_CURR to AMT_REQ_CREDIT_BUREAU_YEAR\n",
      "dtypes: float64(65), int64(41)\n",
      "memory usage: 52.9 MB\n"
     ]
    }
   ],
   "source": [
    "num.info()"
   ]
  },
  {
   "cell_type": "markdown",
   "metadata": {},
   "source": [
    "#### Summary of numericals\n",
    "* AMT_INCOME_TOTAL has one or many outliers that may need to be trimmed.\n",
    "* Widely varying magnitudes - normalization will be important"
   ]
  },
  {
   "cell_type": "markdown",
   "metadata": {},
   "source": [
    "### Categoricals"
   ]
  },
  {
   "cell_type": "code",
   "execution_count": 36,
   "metadata": {
    "ExecuteTime": {
     "end_time": "2022-03-24T20:20:52.506062Z",
     "start_time": "2022-03-24T20:20:52.424899Z"
    }
   },
   "outputs": [
    {
     "name": "stdout",
     "output_type": "stream",
     "text": [
      "<class 'pandas.core.frame.DataFrame'>\n",
      "Int64Index: 64825 entries, 164904 to 307509\n",
      "Data columns (total 16 columns):\n",
      " #   Column                      Non-Null Count  Dtype \n",
      "---  ------                      --------------  ----- \n",
      " 0   NAME_CONTRACT_TYPE          64825 non-null  object\n",
      " 1   CODE_GENDER                 64825 non-null  object\n",
      " 2   FLAG_OWN_CAR                64825 non-null  object\n",
      " 3   FLAG_OWN_REALTY             64825 non-null  object\n",
      " 4   NAME_TYPE_SUITE             64568 non-null  object\n",
      " 5   NAME_INCOME_TYPE            64825 non-null  object\n",
      " 6   NAME_EDUCATION_TYPE         64825 non-null  object\n",
      " 7   NAME_FAMILY_STATUS          64825 non-null  object\n",
      " 8   NAME_HOUSING_TYPE           64825 non-null  object\n",
      " 9   OCCUPATION_TYPE             45780 non-null  object\n",
      " 10  WEEKDAY_APPR_PROCESS_START  64825 non-null  object\n",
      " 11  ORGANIZATION_TYPE           64825 non-null  object\n",
      " 12  FONDKAPREMONT_MODE          19595 non-null  object\n",
      " 13  HOUSETYPE_MODE              31004 non-null  object\n",
      " 14  WALLSMATERIAL_MODE          30566 non-null  object\n",
      " 15  EMERGENCYSTATE_MODE         32743 non-null  object\n",
      "dtypes: object(16)\n",
      "memory usage: 8.4+ MB\n"
     ]
    }
   ],
   "source": [
    "cats = df1.select_dtypes(include='object')\n",
    "cats.info()"
   ]
  },
  {
   "cell_type": "markdown",
   "metadata": {},
   "source": [
    "## Label Encode or One-Hot Encode Categoricals\n",
    "   * Explore to figure out number of unique values\n",
    "       * If unique values >5, then label encode"
   ]
  },
  {
   "cell_type": "code",
   "execution_count": 37,
   "metadata": {
    "ExecuteTime": {
     "end_time": "2022-03-24T20:21:39.270443Z",
     "start_time": "2022-03-24T20:21:39.252412Z"
    }
   },
   "outputs": [
    {
     "data": {
      "text/plain": [
       "Working                 35555\n",
       "Commercial associate    14716\n",
       "Pensioner               10404\n",
       "State servant            4127\n",
       "Unemployed                 14\n",
       "Student                     6\n",
       "Maternity leave             3\n",
       "Name: NAME_INCOME_TYPE, dtype: int64"
      ]
     },
     "execution_count": 37,
     "metadata": {},
     "output_type": "execute_result"
    }
   ],
   "source": [
    "cats['NAME_INCOME_TYPE'].value_counts()"
   ]
  },
  {
   "cell_type": "code",
   "execution_count": 104,
   "metadata": {
    "ExecuteTime": {
     "end_time": "2022-03-24T17:24:26.615967Z",
     "start_time": "2022-03-24T17:24:26.593065Z"
    }
   },
   "outputs": [
    {
     "data": {
      "text/plain": [
       "Unaccompanied      52688\n",
       "Family              8210\n",
       "Spouse, partner     2381\n",
       "Children             667\n",
       "Other_B              396\n",
       "Other_A              189\n",
       "Group of people       54\n",
       "Name: NAME_TYPE_SUITE, dtype: int64"
      ]
     },
     "execution_count": 104,
     "metadata": {},
     "output_type": "execute_result"
    }
   ],
   "source": [
    "cats5['NAME_TYPE_SUITE'].value_counts()"
   ]
  },
  {
   "cell_type": "code",
   "execution_count": 38,
   "metadata": {
    "ExecuteTime": {
     "end_time": "2022-03-24T20:21:41.733080Z",
     "start_time": "2022-03-24T20:21:41.715387Z"
    }
   },
   "outputs": [
    {
     "data": {
      "text/plain": [
       "N    43603\n",
       "Y    21222\n",
       "Name: FLAG_OWN_CAR, dtype: int64"
      ]
     },
     "execution_count": 38,
     "metadata": {},
     "output_type": "execute_result"
    }
   ],
   "source": [
    "cats['FLAG_OWN_CAR'].value_counts()"
   ]
  },
  {
   "cell_type": "code",
   "execution_count": 39,
   "metadata": {
    "ExecuteTime": {
     "end_time": "2022-03-24T20:21:44.878341Z",
     "start_time": "2022-03-24T20:21:44.859893Z"
    }
   },
   "outputs": [
    {
     "data": {
      "text/plain": [
       "Married                 40536\n",
       "Single / not married    10382\n",
       "Civil marriage           6679\n",
       "Separated                4147\n",
       "Widow                    3081\n",
       "Name: NAME_FAMILY_STATUS, dtype: int64"
      ]
     },
     "execution_count": 39,
     "metadata": {},
     "output_type": "execute_result"
    }
   ],
   "source": [
    "cats['NAME_FAMILY_STATUS'].value_counts()"
   ]
  },
  {
   "cell_type": "code",
   "execution_count": 40,
   "metadata": {
    "ExecuteTime": {
     "end_time": "2022-03-24T20:21:49.014925Z",
     "start_time": "2022-03-24T20:21:48.998247Z"
    }
   },
   "outputs": [
    {
     "data": {
      "text/plain": [
       "Y    44793\n",
       "N    20032\n",
       "Name: FLAG_OWN_REALTY, dtype: int64"
      ]
     },
     "execution_count": 40,
     "metadata": {},
     "output_type": "execute_result"
    }
   ],
   "source": [
    "cats['FLAG_OWN_REALTY'].value_counts()"
   ]
  },
  {
   "cell_type": "code",
   "execution_count": 41,
   "metadata": {
    "ExecuteTime": {
     "end_time": "2022-03-24T20:21:52.030256Z",
     "start_time": "2022-03-24T20:21:52.012145Z"
    }
   },
   "outputs": [
    {
     "data": {
      "text/plain": [
       "House / apartment      56942\n",
       "With parents            3603\n",
       "Municipal apartment     2355\n",
       "Rented apartment        1180\n",
       "Office apartment         523\n",
       "Co-op apartment          222\n",
       "Name: NAME_HOUSING_TYPE, dtype: int64"
      ]
     },
     "execution_count": 41,
     "metadata": {},
     "output_type": "execute_result"
    }
   ],
   "source": [
    "cats['NAME_HOUSING_TYPE'].value_counts()"
   ]
  },
  {
   "cell_type": "code",
   "execution_count": 109,
   "metadata": {
    "ExecuteTime": {
     "end_time": "2022-03-24T17:24:26.730096Z",
     "start_time": "2022-03-24T17:24:26.709653Z"
    }
   },
   "outputs": [
    {
     "data": {
      "text/plain": [
       "Secondary / secondary special    47766\n",
       "Higher education                 13957\n",
       "Incomplete higher                 2191\n",
       "Lower secondary                    881\n",
       "Academic degree                     30\n",
       "Name: NAME_EDUCATION_TYPE, dtype: int64"
      ]
     },
     "execution_count": 109,
     "metadata": {},
     "output_type": "execute_result"
    }
   ],
   "source": [
    "cats5['NAME_EDUCATION_TYPE'].value_counts()"
   ]
  },
  {
   "cell_type": "code",
   "execution_count": 42,
   "metadata": {
    "ExecuteTime": {
     "end_time": "2022-03-24T20:21:55.480481Z",
     "start_time": "2022-03-24T20:21:55.461296Z"
    },
    "scrolled": true
   },
   "outputs": [
    {
     "data": {
      "text/plain": [
       "Cash loans         59240\n",
       "Revolving loans     5585\n",
       "Name: NAME_CONTRACT_TYPE, dtype: int64"
      ]
     },
     "execution_count": 42,
     "metadata": {},
     "output_type": "execute_result"
    }
   ],
   "source": [
    "cats['NAME_CONTRACT_TYPE'].value_counts()"
   ]
  },
  {
   "cell_type": "code",
   "execution_count": 43,
   "metadata": {
    "ExecuteTime": {
     "end_time": "2022-03-24T20:21:57.659777Z",
     "start_time": "2022-03-24T20:21:57.640824Z"
    }
   },
   "outputs": [
    {
     "data": {
      "text/plain": [
       "Business Entity Type 3    15171\n",
       "XNA                       10416\n",
       "Self-employed              8852\n",
       "Other                      3430\n",
       "Business Entity Type 2     2247\n",
       "Medicine                   2181\n",
       "Government                 2066\n",
       "Trade: type 7              1733\n",
       "School                     1686\n",
       "Construction               1599\n",
       "Kindergarten               1391\n",
       "Transport: type 4          1237\n",
       "Business Entity Type 1     1214\n",
       "Trade: type 3               810\n",
       "Security                    748\n",
       "Industry: type 3            718\n",
       "Industry: type 9            683\n",
       "Housing                     616\n",
       "Industry: type 11           585\n",
       "Agriculture                 579\n",
       "Postal                      465\n",
       "Bank                        460\n",
       "Transport: type 2           459\n",
       "Military                    456\n",
       "Police                      449\n",
       "Restaurant                  423\n",
       "Security Ministries         397\n",
       "Trade: type 2               379\n",
       "Transport: type 3           340\n",
       "Services                    313\n",
       "Industry: type 7            268\n",
       "University                  245\n",
       "Industry: type 1            244\n",
       "Hotel                       188\n",
       "Electricity                 185\n",
       "Industry: type 4            175\n",
       "Industry: type 5            129\n",
       "Telecom                     127\n",
       "Emergency                   115\n",
       "Insurance                   114\n",
       "Trade: type 6               105\n",
       "Advertising                  96\n",
       "Industry: type 2             91\n",
       "Realtor                      91\n",
       "Trade: type 1                82\n",
       "Mobile                       80\n",
       "Culture                      75\n",
       "Legal Services               70\n",
       "Industry: type 12            63\n",
       "Cleaning                     50\n",
       "Transport: type 1            35\n",
       "Industry: type 10            20\n",
       "Industry: type 6             20\n",
       "Industry: type 13            17\n",
       "Religion                     15\n",
       "Trade: type 4                10\n",
       "Trade: type 5                 6\n",
       "Industry: type 8              6\n",
       "Name: ORGANIZATION_TYPE, dtype: int64"
      ]
     },
     "execution_count": 43,
     "metadata": {},
     "output_type": "execute_result"
    }
   ],
   "source": [
    "cats['ORGANIZATION_TYPE'].value_counts()"
   ]
  },
  {
   "cell_type": "markdown",
   "metadata": {},
   "source": [
    "#### Use label encoding to save space with Organization_Type\n",
    "* Interpreting Organization Type won't be as important as building a predictive model."
   ]
  },
  {
   "cell_type": "code",
   "execution_count": 46,
   "metadata": {
    "ExecuteTime": {
     "end_time": "2022-03-24T20:22:10.854517Z",
     "start_time": "2022-03-24T20:22:10.789250Z"
    }
   },
   "outputs": [
    {
     "data": {
      "text/html": [
       "<div>\n",
       "<style scoped>\n",
       "    .dataframe tbody tr th:only-of-type {\n",
       "        vertical-align: middle;\n",
       "    }\n",
       "\n",
       "    .dataframe tbody tr th {\n",
       "        vertical-align: top;\n",
       "    }\n",
       "\n",
       "    .dataframe thead th {\n",
       "        text-align: right;\n",
       "    }\n",
       "</style>\n",
       "<table border=\"1\" class=\"dataframe\">\n",
       "  <thead>\n",
       "    <tr style=\"text-align: right;\">\n",
       "      <th></th>\n",
       "      <th>NAME_CONTRACT_TYPE</th>\n",
       "      <th>CODE_GENDER</th>\n",
       "      <th>FLAG_OWN_CAR</th>\n",
       "      <th>FLAG_OWN_REALTY</th>\n",
       "      <th>NAME_TYPE_SUITE</th>\n",
       "      <th>NAME_INCOME_TYPE</th>\n",
       "      <th>NAME_EDUCATION_TYPE</th>\n",
       "      <th>NAME_FAMILY_STATUS</th>\n",
       "      <th>NAME_HOUSING_TYPE</th>\n",
       "      <th>OCCUPATION_TYPE</th>\n",
       "      <th>WEEKDAY_APPR_PROCESS_START</th>\n",
       "      <th>ORGANIZATION_TYPE</th>\n",
       "      <th>FONDKAPREMONT_MODE</th>\n",
       "      <th>HOUSETYPE_MODE</th>\n",
       "      <th>WALLSMATERIAL_MODE</th>\n",
       "      <th>EMERGENCYSTATE_MODE</th>\n",
       "      <th>ORGANIZATION_TYPE_CODE</th>\n",
       "    </tr>\n",
       "  </thead>\n",
       "  <tbody>\n",
       "    <tr>\n",
       "      <th>164904</th>\n",
       "      <td>Cash loans</td>\n",
       "      <td>M</td>\n",
       "      <td>N</td>\n",
       "      <td>N</td>\n",
       "      <td>Unaccompanied</td>\n",
       "      <td>Working</td>\n",
       "      <td>Secondary / secondary special</td>\n",
       "      <td>Widow</td>\n",
       "      <td>Municipal apartment</td>\n",
       "      <td>Security staff</td>\n",
       "      <td>SUNDAY</td>\n",
       "      <td>Government</td>\n",
       "      <td>NaN</td>\n",
       "      <td>block of flats</td>\n",
       "      <td>Block</td>\n",
       "      <td>Yes</td>\n",
       "      <td>11</td>\n",
       "    </tr>\n",
       "    <tr>\n",
       "      <th>238191</th>\n",
       "      <td>Cash loans</td>\n",
       "      <td>F</td>\n",
       "      <td>N</td>\n",
       "      <td>Y</td>\n",
       "      <td>Family</td>\n",
       "      <td>Working</td>\n",
       "      <td>Secondary / secondary special</td>\n",
       "      <td>Married</td>\n",
       "      <td>House / apartment</td>\n",
       "      <td>Sales staff</td>\n",
       "      <td>THURSDAY</td>\n",
       "      <td>Other</td>\n",
       "      <td>NaN</td>\n",
       "      <td>NaN</td>\n",
       "      <td>NaN</td>\n",
       "      <td>NaN</td>\n",
       "      <td>33</td>\n",
       "    </tr>\n",
       "    <tr>\n",
       "      <th>37832</th>\n",
       "      <td>Cash loans</td>\n",
       "      <td>F</td>\n",
       "      <td>N</td>\n",
       "      <td>Y</td>\n",
       "      <td>Unaccompanied</td>\n",
       "      <td>Working</td>\n",
       "      <td>Incomplete higher</td>\n",
       "      <td>Single / not married</td>\n",
       "      <td>House / apartment</td>\n",
       "      <td>Waiters/barmen staff</td>\n",
       "      <td>WEDNESDAY</td>\n",
       "      <td>Business Entity Type 3</td>\n",
       "      <td>org spec account</td>\n",
       "      <td>block of flats</td>\n",
       "      <td>Stone, brick</td>\n",
       "      <td>No</td>\n",
       "      <td>5</td>\n",
       "    </tr>\n",
       "    <tr>\n",
       "      <th>85037</th>\n",
       "      <td>Cash loans</td>\n",
       "      <td>F</td>\n",
       "      <td>N</td>\n",
       "      <td>Y</td>\n",
       "      <td>Family</td>\n",
       "      <td>Working</td>\n",
       "      <td>Higher education</td>\n",
       "      <td>Married</td>\n",
       "      <td>House / apartment</td>\n",
       "      <td>Accountants</td>\n",
       "      <td>MONDAY</td>\n",
       "      <td>Business Entity Type 3</td>\n",
       "      <td>NaN</td>\n",
       "      <td>block of flats</td>\n",
       "      <td>Stone, brick</td>\n",
       "      <td>No</td>\n",
       "      <td>5</td>\n",
       "    </tr>\n",
       "    <tr>\n",
       "      <th>129527</th>\n",
       "      <td>Revolving loans</td>\n",
       "      <td>M</td>\n",
       "      <td>Y</td>\n",
       "      <td>Y</td>\n",
       "      <td>Unaccompanied</td>\n",
       "      <td>Working</td>\n",
       "      <td>Higher education</td>\n",
       "      <td>Married</td>\n",
       "      <td>House / apartment</td>\n",
       "      <td>Drivers</td>\n",
       "      <td>FRIDAY</td>\n",
       "      <td>Self-employed</td>\n",
       "      <td>NaN</td>\n",
       "      <td>NaN</td>\n",
       "      <td>NaN</td>\n",
       "      <td>NaN</td>\n",
       "      <td>42</td>\n",
       "    </tr>\n",
       "  </tbody>\n",
       "</table>\n",
       "</div>"
      ],
      "text/plain": [
       "       NAME_CONTRACT_TYPE CODE_GENDER FLAG_OWN_CAR FLAG_OWN_REALTY  \\\n",
       "164904         Cash loans           M            N               N   \n",
       "238191         Cash loans           F            N               Y   \n",
       "37832          Cash loans           F            N               Y   \n",
       "85037          Cash loans           F            N               Y   \n",
       "129527    Revolving loans           M            Y               Y   \n",
       "\n",
       "       NAME_TYPE_SUITE NAME_INCOME_TYPE            NAME_EDUCATION_TYPE  \\\n",
       "164904   Unaccompanied          Working  Secondary / secondary special   \n",
       "238191          Family          Working  Secondary / secondary special   \n",
       "37832    Unaccompanied          Working              Incomplete higher   \n",
       "85037           Family          Working               Higher education   \n",
       "129527   Unaccompanied          Working               Higher education   \n",
       "\n",
       "          NAME_FAMILY_STATUS    NAME_HOUSING_TYPE       OCCUPATION_TYPE  \\\n",
       "164904                 Widow  Municipal apartment        Security staff   \n",
       "238191               Married    House / apartment           Sales staff   \n",
       "37832   Single / not married    House / apartment  Waiters/barmen staff   \n",
       "85037                Married    House / apartment           Accountants   \n",
       "129527               Married    House / apartment               Drivers   \n",
       "\n",
       "       WEEKDAY_APPR_PROCESS_START       ORGANIZATION_TYPE FONDKAPREMONT_MODE  \\\n",
       "164904                     SUNDAY              Government                NaN   \n",
       "238191                   THURSDAY                   Other                NaN   \n",
       "37832                   WEDNESDAY  Business Entity Type 3   org spec account   \n",
       "85037                      MONDAY  Business Entity Type 3                NaN   \n",
       "129527                     FRIDAY           Self-employed                NaN   \n",
       "\n",
       "        HOUSETYPE_MODE WALLSMATERIAL_MODE EMERGENCYSTATE_MODE  \\\n",
       "164904  block of flats              Block                 Yes   \n",
       "238191             NaN                NaN                 NaN   \n",
       "37832   block of flats       Stone, brick                  No   \n",
       "85037   block of flats       Stone, brick                  No   \n",
       "129527             NaN                NaN                 NaN   \n",
       "\n",
       "        ORGANIZATION_TYPE_CODE  \n",
       "164904                      11  \n",
       "238191                      33  \n",
       "37832                        5  \n",
       "85037                        5  \n",
       "129527                      42  "
      ]
     },
     "execution_count": 46,
     "metadata": {},
     "output_type": "execute_result"
    }
   ],
   "source": [
    "# Instantiate LabelEncoder\n",
    "label_encoder = LabelEncoder()\n",
    "\n",
    "# create new row for Organization_type with label encoder\n",
    "cats['ORGANIZATION_TYPE_CODE'] = label_encoder.fit_transform(cats['ORGANIZATION_TYPE'])\n",
    "\n",
    "cats.head()"
   ]
  },
  {
   "cell_type": "code",
   "execution_count": 47,
   "metadata": {
    "ExecuteTime": {
     "end_time": "2022-03-24T20:22:17.723535Z",
     "start_time": "2022-03-24T20:22:17.681420Z"
    }
   },
   "outputs": [
    {
     "data": {
      "text/html": [
       "<div>\n",
       "<style scoped>\n",
       "    .dataframe tbody tr th:only-of-type {\n",
       "        vertical-align: middle;\n",
       "    }\n",
       "\n",
       "    .dataframe tbody tr th {\n",
       "        vertical-align: top;\n",
       "    }\n",
       "\n",
       "    .dataframe thead th {\n",
       "        text-align: right;\n",
       "    }\n",
       "</style>\n",
       "<table border=\"1\" class=\"dataframe\">\n",
       "  <thead>\n",
       "    <tr style=\"text-align: right;\">\n",
       "      <th></th>\n",
       "      <th>NAME_CONTRACT_TYPE</th>\n",
       "      <th>CODE_GENDER</th>\n",
       "      <th>FLAG_OWN_CAR</th>\n",
       "      <th>FLAG_OWN_REALTY</th>\n",
       "      <th>NAME_TYPE_SUITE</th>\n",
       "      <th>NAME_INCOME_TYPE</th>\n",
       "      <th>NAME_EDUCATION_TYPE</th>\n",
       "      <th>NAME_FAMILY_STATUS</th>\n",
       "      <th>NAME_HOUSING_TYPE</th>\n",
       "      <th>OCCUPATION_TYPE</th>\n",
       "      <th>WEEKDAY_APPR_PROCESS_START</th>\n",
       "      <th>FONDKAPREMONT_MODE</th>\n",
       "      <th>HOUSETYPE_MODE</th>\n",
       "      <th>WALLSMATERIAL_MODE</th>\n",
       "      <th>EMERGENCYSTATE_MODE</th>\n",
       "      <th>ORGANIZATION_TYPE_CODE</th>\n",
       "    </tr>\n",
       "  </thead>\n",
       "  <tbody>\n",
       "    <tr>\n",
       "      <th>164904</th>\n",
       "      <td>Cash loans</td>\n",
       "      <td>M</td>\n",
       "      <td>N</td>\n",
       "      <td>N</td>\n",
       "      <td>Unaccompanied</td>\n",
       "      <td>Working</td>\n",
       "      <td>Secondary / secondary special</td>\n",
       "      <td>Widow</td>\n",
       "      <td>Municipal apartment</td>\n",
       "      <td>Security staff</td>\n",
       "      <td>SUNDAY</td>\n",
       "      <td>NaN</td>\n",
       "      <td>block of flats</td>\n",
       "      <td>Block</td>\n",
       "      <td>Yes</td>\n",
       "      <td>11</td>\n",
       "    </tr>\n",
       "    <tr>\n",
       "      <th>238191</th>\n",
       "      <td>Cash loans</td>\n",
       "      <td>F</td>\n",
       "      <td>N</td>\n",
       "      <td>Y</td>\n",
       "      <td>Family</td>\n",
       "      <td>Working</td>\n",
       "      <td>Secondary / secondary special</td>\n",
       "      <td>Married</td>\n",
       "      <td>House / apartment</td>\n",
       "      <td>Sales staff</td>\n",
       "      <td>THURSDAY</td>\n",
       "      <td>NaN</td>\n",
       "      <td>NaN</td>\n",
       "      <td>NaN</td>\n",
       "      <td>NaN</td>\n",
       "      <td>33</td>\n",
       "    </tr>\n",
       "    <tr>\n",
       "      <th>37832</th>\n",
       "      <td>Cash loans</td>\n",
       "      <td>F</td>\n",
       "      <td>N</td>\n",
       "      <td>Y</td>\n",
       "      <td>Unaccompanied</td>\n",
       "      <td>Working</td>\n",
       "      <td>Incomplete higher</td>\n",
       "      <td>Single / not married</td>\n",
       "      <td>House / apartment</td>\n",
       "      <td>Waiters/barmen staff</td>\n",
       "      <td>WEDNESDAY</td>\n",
       "      <td>org spec account</td>\n",
       "      <td>block of flats</td>\n",
       "      <td>Stone, brick</td>\n",
       "      <td>No</td>\n",
       "      <td>5</td>\n",
       "    </tr>\n",
       "    <tr>\n",
       "      <th>85037</th>\n",
       "      <td>Cash loans</td>\n",
       "      <td>F</td>\n",
       "      <td>N</td>\n",
       "      <td>Y</td>\n",
       "      <td>Family</td>\n",
       "      <td>Working</td>\n",
       "      <td>Higher education</td>\n",
       "      <td>Married</td>\n",
       "      <td>House / apartment</td>\n",
       "      <td>Accountants</td>\n",
       "      <td>MONDAY</td>\n",
       "      <td>NaN</td>\n",
       "      <td>block of flats</td>\n",
       "      <td>Stone, brick</td>\n",
       "      <td>No</td>\n",
       "      <td>5</td>\n",
       "    </tr>\n",
       "    <tr>\n",
       "      <th>129527</th>\n",
       "      <td>Revolving loans</td>\n",
       "      <td>M</td>\n",
       "      <td>Y</td>\n",
       "      <td>Y</td>\n",
       "      <td>Unaccompanied</td>\n",
       "      <td>Working</td>\n",
       "      <td>Higher education</td>\n",
       "      <td>Married</td>\n",
       "      <td>House / apartment</td>\n",
       "      <td>Drivers</td>\n",
       "      <td>FRIDAY</td>\n",
       "      <td>NaN</td>\n",
       "      <td>NaN</td>\n",
       "      <td>NaN</td>\n",
       "      <td>NaN</td>\n",
       "      <td>42</td>\n",
       "    </tr>\n",
       "  </tbody>\n",
       "</table>\n",
       "</div>"
      ],
      "text/plain": [
       "       NAME_CONTRACT_TYPE CODE_GENDER FLAG_OWN_CAR FLAG_OWN_REALTY  \\\n",
       "164904         Cash loans           M            N               N   \n",
       "238191         Cash loans           F            N               Y   \n",
       "37832          Cash loans           F            N               Y   \n",
       "85037          Cash loans           F            N               Y   \n",
       "129527    Revolving loans           M            Y               Y   \n",
       "\n",
       "       NAME_TYPE_SUITE NAME_INCOME_TYPE            NAME_EDUCATION_TYPE  \\\n",
       "164904   Unaccompanied          Working  Secondary / secondary special   \n",
       "238191          Family          Working  Secondary / secondary special   \n",
       "37832    Unaccompanied          Working              Incomplete higher   \n",
       "85037           Family          Working               Higher education   \n",
       "129527   Unaccompanied          Working               Higher education   \n",
       "\n",
       "          NAME_FAMILY_STATUS    NAME_HOUSING_TYPE       OCCUPATION_TYPE  \\\n",
       "164904                 Widow  Municipal apartment        Security staff   \n",
       "238191               Married    House / apartment           Sales staff   \n",
       "37832   Single / not married    House / apartment  Waiters/barmen staff   \n",
       "85037                Married    House / apartment           Accountants   \n",
       "129527               Married    House / apartment               Drivers   \n",
       "\n",
       "       WEEKDAY_APPR_PROCESS_START FONDKAPREMONT_MODE  HOUSETYPE_MODE  \\\n",
       "164904                     SUNDAY                NaN  block of flats   \n",
       "238191                   THURSDAY                NaN             NaN   \n",
       "37832                   WEDNESDAY   org spec account  block of flats   \n",
       "85037                      MONDAY                NaN  block of flats   \n",
       "129527                     FRIDAY                NaN             NaN   \n",
       "\n",
       "       WALLSMATERIAL_MODE EMERGENCYSTATE_MODE  ORGANIZATION_TYPE_CODE  \n",
       "164904              Block                 Yes                      11  \n",
       "238191                NaN                 NaN                      33  \n",
       "37832        Stone, brick                  No                       5  \n",
       "85037        Stone, brick                  No                       5  \n",
       "129527                NaN                 NaN                      42  "
      ]
     },
     "execution_count": 47,
     "metadata": {},
     "output_type": "execute_result"
    }
   ],
   "source": [
    "# drop Organization_Type column\n",
    "cats = cats.drop('ORGANIZATION_TYPE', axis=1)\n",
    "\n",
    "cats.head()"
   ]
  },
  {
   "cell_type": "markdown",
   "metadata": {},
   "source": [
    "#### One Hot Encode Categoricals"
   ]
  },
  {
   "cell_type": "code",
   "execution_count": 48,
   "metadata": {
    "ExecuteTime": {
     "end_time": "2022-03-24T20:22:26.469815Z",
     "start_time": "2022-03-24T20:22:26.415803Z"
    }
   },
   "outputs": [
    {
     "data": {
      "text/html": [
       "<div>\n",
       "<style scoped>\n",
       "    .dataframe tbody tr th:only-of-type {\n",
       "        vertical-align: middle;\n",
       "    }\n",
       "\n",
       "    .dataframe tbody tr th {\n",
       "        vertical-align: top;\n",
       "    }\n",
       "\n",
       "    .dataframe thead th {\n",
       "        text-align: right;\n",
       "    }\n",
       "</style>\n",
       "<table border=\"1\" class=\"dataframe\">\n",
       "  <thead>\n",
       "    <tr style=\"text-align: right;\">\n",
       "      <th></th>\n",
       "      <th>NAME_CONTRACT_TYPE</th>\n",
       "      <th>CODE_GENDER</th>\n",
       "      <th>FLAG_OWN_CAR</th>\n",
       "      <th>FLAG_OWN_REALTY</th>\n",
       "      <th>NAME_TYPE_SUITE</th>\n",
       "      <th>NAME_INCOME_TYPE</th>\n",
       "      <th>NAME_EDUCATION_TYPE</th>\n",
       "      <th>NAME_FAMILY_STATUS</th>\n",
       "      <th>NAME_HOUSING_TYPE</th>\n",
       "      <th>OCCUPATION_TYPE</th>\n",
       "      <th>WEEKDAY_APPR_PROCESS_START</th>\n",
       "      <th>FONDKAPREMONT_MODE</th>\n",
       "      <th>HOUSETYPE_MODE</th>\n",
       "      <th>WALLSMATERIAL_MODE</th>\n",
       "      <th>EMERGENCYSTATE_MODE</th>\n",
       "    </tr>\n",
       "  </thead>\n",
       "  <tbody>\n",
       "    <tr>\n",
       "      <th>164904</th>\n",
       "      <td>Cash loans</td>\n",
       "      <td>M</td>\n",
       "      <td>N</td>\n",
       "      <td>N</td>\n",
       "      <td>Unaccompanied</td>\n",
       "      <td>Working</td>\n",
       "      <td>Secondary / secondary special</td>\n",
       "      <td>Widow</td>\n",
       "      <td>Municipal apartment</td>\n",
       "      <td>Security staff</td>\n",
       "      <td>SUNDAY</td>\n",
       "      <td>NaN</td>\n",
       "      <td>block of flats</td>\n",
       "      <td>Block</td>\n",
       "      <td>Yes</td>\n",
       "    </tr>\n",
       "    <tr>\n",
       "      <th>238191</th>\n",
       "      <td>Cash loans</td>\n",
       "      <td>F</td>\n",
       "      <td>N</td>\n",
       "      <td>Y</td>\n",
       "      <td>Family</td>\n",
       "      <td>Working</td>\n",
       "      <td>Secondary / secondary special</td>\n",
       "      <td>Married</td>\n",
       "      <td>House / apartment</td>\n",
       "      <td>Sales staff</td>\n",
       "      <td>THURSDAY</td>\n",
       "      <td>NaN</td>\n",
       "      <td>NaN</td>\n",
       "      <td>NaN</td>\n",
       "      <td>NaN</td>\n",
       "    </tr>\n",
       "    <tr>\n",
       "      <th>37832</th>\n",
       "      <td>Cash loans</td>\n",
       "      <td>F</td>\n",
       "      <td>N</td>\n",
       "      <td>Y</td>\n",
       "      <td>Unaccompanied</td>\n",
       "      <td>Working</td>\n",
       "      <td>Incomplete higher</td>\n",
       "      <td>Single / not married</td>\n",
       "      <td>House / apartment</td>\n",
       "      <td>Waiters/barmen staff</td>\n",
       "      <td>WEDNESDAY</td>\n",
       "      <td>org spec account</td>\n",
       "      <td>block of flats</td>\n",
       "      <td>Stone, brick</td>\n",
       "      <td>No</td>\n",
       "    </tr>\n",
       "    <tr>\n",
       "      <th>85037</th>\n",
       "      <td>Cash loans</td>\n",
       "      <td>F</td>\n",
       "      <td>N</td>\n",
       "      <td>Y</td>\n",
       "      <td>Family</td>\n",
       "      <td>Working</td>\n",
       "      <td>Higher education</td>\n",
       "      <td>Married</td>\n",
       "      <td>House / apartment</td>\n",
       "      <td>Accountants</td>\n",
       "      <td>MONDAY</td>\n",
       "      <td>NaN</td>\n",
       "      <td>block of flats</td>\n",
       "      <td>Stone, brick</td>\n",
       "      <td>No</td>\n",
       "    </tr>\n",
       "    <tr>\n",
       "      <th>129527</th>\n",
       "      <td>Revolving loans</td>\n",
       "      <td>M</td>\n",
       "      <td>Y</td>\n",
       "      <td>Y</td>\n",
       "      <td>Unaccompanied</td>\n",
       "      <td>Working</td>\n",
       "      <td>Higher education</td>\n",
       "      <td>Married</td>\n",
       "      <td>House / apartment</td>\n",
       "      <td>Drivers</td>\n",
       "      <td>FRIDAY</td>\n",
       "      <td>NaN</td>\n",
       "      <td>NaN</td>\n",
       "      <td>NaN</td>\n",
       "      <td>NaN</td>\n",
       "    </tr>\n",
       "  </tbody>\n",
       "</table>\n",
       "</div>"
      ],
      "text/plain": [
       "       NAME_CONTRACT_TYPE CODE_GENDER FLAG_OWN_CAR FLAG_OWN_REALTY  \\\n",
       "164904         Cash loans           M            N               N   \n",
       "238191         Cash loans           F            N               Y   \n",
       "37832          Cash loans           F            N               Y   \n",
       "85037          Cash loans           F            N               Y   \n",
       "129527    Revolving loans           M            Y               Y   \n",
       "\n",
       "       NAME_TYPE_SUITE NAME_INCOME_TYPE            NAME_EDUCATION_TYPE  \\\n",
       "164904   Unaccompanied          Working  Secondary / secondary special   \n",
       "238191          Family          Working  Secondary / secondary special   \n",
       "37832    Unaccompanied          Working              Incomplete higher   \n",
       "85037           Family          Working               Higher education   \n",
       "129527   Unaccompanied          Working               Higher education   \n",
       "\n",
       "          NAME_FAMILY_STATUS    NAME_HOUSING_TYPE       OCCUPATION_TYPE  \\\n",
       "164904                 Widow  Municipal apartment        Security staff   \n",
       "238191               Married    House / apartment           Sales staff   \n",
       "37832   Single / not married    House / apartment  Waiters/barmen staff   \n",
       "85037                Married    House / apartment           Accountants   \n",
       "129527               Married    House / apartment               Drivers   \n",
       "\n",
       "       WEEKDAY_APPR_PROCESS_START FONDKAPREMONT_MODE  HOUSETYPE_MODE  \\\n",
       "164904                     SUNDAY                NaN  block of flats   \n",
       "238191                   THURSDAY                NaN             NaN   \n",
       "37832                   WEDNESDAY   org spec account  block of flats   \n",
       "85037                      MONDAY                NaN  block of flats   \n",
       "129527                     FRIDAY                NaN             NaN   \n",
       "\n",
       "       WALLSMATERIAL_MODE EMERGENCYSTATE_MODE  \n",
       "164904              Block                 Yes  \n",
       "238191                NaN                 NaN  \n",
       "37832        Stone, brick                  No  \n",
       "85037        Stone, brick                  No  \n",
       "129527                NaN                 NaN  "
      ]
     },
     "execution_count": 48,
     "metadata": {},
     "output_type": "execute_result"
    }
   ],
   "source": [
    "# Separate Label Encoded Column\n",
    "label_encoded = cats['ORGANIZATION_TYPE_CODE']\n",
    "\n",
    "cats = cats.drop('ORGANIZATION_TYPE_CODE', axis=1)\n",
    "\n",
    "cats.head()"
   ]
  },
  {
   "cell_type": "code",
   "execution_count": 49,
   "metadata": {
    "ExecuteTime": {
     "end_time": "2022-03-24T20:22:37.171797Z",
     "start_time": "2022-03-24T20:22:36.950662Z"
    }
   },
   "outputs": [
    {
     "data": {
      "text/html": [
       "<div>\n",
       "<style scoped>\n",
       "    .dataframe tbody tr th:only-of-type {\n",
       "        vertical-align: middle;\n",
       "    }\n",
       "\n",
       "    .dataframe tbody tr th {\n",
       "        vertical-align: top;\n",
       "    }\n",
       "\n",
       "    .dataframe thead th {\n",
       "        text-align: right;\n",
       "    }\n",
       "</style>\n",
       "<table border=\"1\" class=\"dataframe\">\n",
       "  <thead>\n",
       "    <tr style=\"text-align: right;\">\n",
       "      <th></th>\n",
       "      <th>NAME_CONTRACT_TYPE_Revolving loans</th>\n",
       "      <th>CODE_GENDER_M</th>\n",
       "      <th>FLAG_OWN_CAR_Y</th>\n",
       "      <th>FLAG_OWN_REALTY_Y</th>\n",
       "      <th>NAME_TYPE_SUITE_Family</th>\n",
       "      <th>NAME_TYPE_SUITE_Group of people</th>\n",
       "      <th>NAME_TYPE_SUITE_Other_A</th>\n",
       "      <th>NAME_TYPE_SUITE_Other_B</th>\n",
       "      <th>NAME_TYPE_SUITE_Spouse, partner</th>\n",
       "      <th>NAME_TYPE_SUITE_Unaccompanied</th>\n",
       "      <th>...</th>\n",
       "      <th>FONDKAPREMONT_MODE_reg oper spec account</th>\n",
       "      <th>HOUSETYPE_MODE_specific housing</th>\n",
       "      <th>HOUSETYPE_MODE_terraced house</th>\n",
       "      <th>WALLSMATERIAL_MODE_Mixed</th>\n",
       "      <th>WALLSMATERIAL_MODE_Monolithic</th>\n",
       "      <th>WALLSMATERIAL_MODE_Others</th>\n",
       "      <th>WALLSMATERIAL_MODE_Panel</th>\n",
       "      <th>WALLSMATERIAL_MODE_Stone, brick</th>\n",
       "      <th>WALLSMATERIAL_MODE_Wooden</th>\n",
       "      <th>EMERGENCYSTATE_MODE_Yes</th>\n",
       "    </tr>\n",
       "  </thead>\n",
       "  <tbody>\n",
       "    <tr>\n",
       "      <th>164904</th>\n",
       "      <td>0</td>\n",
       "      <td>1</td>\n",
       "      <td>0</td>\n",
       "      <td>0</td>\n",
       "      <td>0</td>\n",
       "      <td>0</td>\n",
       "      <td>0</td>\n",
       "      <td>0</td>\n",
       "      <td>0</td>\n",
       "      <td>1</td>\n",
       "      <td>...</td>\n",
       "      <td>0</td>\n",
       "      <td>0</td>\n",
       "      <td>0</td>\n",
       "      <td>0</td>\n",
       "      <td>0</td>\n",
       "      <td>0</td>\n",
       "      <td>0</td>\n",
       "      <td>0</td>\n",
       "      <td>0</td>\n",
       "      <td>1</td>\n",
       "    </tr>\n",
       "    <tr>\n",
       "      <th>238191</th>\n",
       "      <td>0</td>\n",
       "      <td>0</td>\n",
       "      <td>0</td>\n",
       "      <td>1</td>\n",
       "      <td>1</td>\n",
       "      <td>0</td>\n",
       "      <td>0</td>\n",
       "      <td>0</td>\n",
       "      <td>0</td>\n",
       "      <td>0</td>\n",
       "      <td>...</td>\n",
       "      <td>0</td>\n",
       "      <td>0</td>\n",
       "      <td>0</td>\n",
       "      <td>0</td>\n",
       "      <td>0</td>\n",
       "      <td>0</td>\n",
       "      <td>0</td>\n",
       "      <td>0</td>\n",
       "      <td>0</td>\n",
       "      <td>0</td>\n",
       "    </tr>\n",
       "    <tr>\n",
       "      <th>37832</th>\n",
       "      <td>0</td>\n",
       "      <td>0</td>\n",
       "      <td>0</td>\n",
       "      <td>1</td>\n",
       "      <td>0</td>\n",
       "      <td>0</td>\n",
       "      <td>0</td>\n",
       "      <td>0</td>\n",
       "      <td>0</td>\n",
       "      <td>1</td>\n",
       "      <td>...</td>\n",
       "      <td>0</td>\n",
       "      <td>0</td>\n",
       "      <td>0</td>\n",
       "      <td>0</td>\n",
       "      <td>0</td>\n",
       "      <td>0</td>\n",
       "      <td>0</td>\n",
       "      <td>1</td>\n",
       "      <td>0</td>\n",
       "      <td>0</td>\n",
       "    </tr>\n",
       "    <tr>\n",
       "      <th>85037</th>\n",
       "      <td>0</td>\n",
       "      <td>0</td>\n",
       "      <td>0</td>\n",
       "      <td>1</td>\n",
       "      <td>1</td>\n",
       "      <td>0</td>\n",
       "      <td>0</td>\n",
       "      <td>0</td>\n",
       "      <td>0</td>\n",
       "      <td>0</td>\n",
       "      <td>...</td>\n",
       "      <td>0</td>\n",
       "      <td>0</td>\n",
       "      <td>0</td>\n",
       "      <td>0</td>\n",
       "      <td>0</td>\n",
       "      <td>0</td>\n",
       "      <td>0</td>\n",
       "      <td>1</td>\n",
       "      <td>0</td>\n",
       "      <td>0</td>\n",
       "    </tr>\n",
       "    <tr>\n",
       "      <th>129527</th>\n",
       "      <td>1</td>\n",
       "      <td>1</td>\n",
       "      <td>1</td>\n",
       "      <td>1</td>\n",
       "      <td>0</td>\n",
       "      <td>0</td>\n",
       "      <td>0</td>\n",
       "      <td>0</td>\n",
       "      <td>0</td>\n",
       "      <td>1</td>\n",
       "      <td>...</td>\n",
       "      <td>0</td>\n",
       "      <td>0</td>\n",
       "      <td>0</td>\n",
       "      <td>0</td>\n",
       "      <td>0</td>\n",
       "      <td>0</td>\n",
       "      <td>0</td>\n",
       "      <td>0</td>\n",
       "      <td>0</td>\n",
       "      <td>0</td>\n",
       "    </tr>\n",
       "  </tbody>\n",
       "</table>\n",
       "<p>5 rows × 64 columns</p>\n",
       "</div>"
      ],
      "text/plain": [
       "        NAME_CONTRACT_TYPE_Revolving loans  CODE_GENDER_M  FLAG_OWN_CAR_Y  \\\n",
       "164904                                   0              1               0   \n",
       "238191                                   0              0               0   \n",
       "37832                                    0              0               0   \n",
       "85037                                    0              0               0   \n",
       "129527                                   1              1               1   \n",
       "\n",
       "        FLAG_OWN_REALTY_Y  NAME_TYPE_SUITE_Family  \\\n",
       "164904                  0                       0   \n",
       "238191                  1                       1   \n",
       "37832                   1                       0   \n",
       "85037                   1                       1   \n",
       "129527                  1                       0   \n",
       "\n",
       "        NAME_TYPE_SUITE_Group of people  NAME_TYPE_SUITE_Other_A  \\\n",
       "164904                                0                        0   \n",
       "238191                                0                        0   \n",
       "37832                                 0                        0   \n",
       "85037                                 0                        0   \n",
       "129527                                0                        0   \n",
       "\n",
       "        NAME_TYPE_SUITE_Other_B  NAME_TYPE_SUITE_Spouse, partner  \\\n",
       "164904                        0                                0   \n",
       "238191                        0                                0   \n",
       "37832                         0                                0   \n",
       "85037                         0                                0   \n",
       "129527                        0                                0   \n",
       "\n",
       "        NAME_TYPE_SUITE_Unaccompanied  ...  \\\n",
       "164904                              1  ...   \n",
       "238191                              0  ...   \n",
       "37832                               1  ...   \n",
       "85037                               0  ...   \n",
       "129527                              1  ...   \n",
       "\n",
       "        FONDKAPREMONT_MODE_reg oper spec account  \\\n",
       "164904                                         0   \n",
       "238191                                         0   \n",
       "37832                                          0   \n",
       "85037                                          0   \n",
       "129527                                         0   \n",
       "\n",
       "        HOUSETYPE_MODE_specific housing  HOUSETYPE_MODE_terraced house  \\\n",
       "164904                                0                              0   \n",
       "238191                                0                              0   \n",
       "37832                                 0                              0   \n",
       "85037                                 0                              0   \n",
       "129527                                0                              0   \n",
       "\n",
       "        WALLSMATERIAL_MODE_Mixed  WALLSMATERIAL_MODE_Monolithic  \\\n",
       "164904                         0                              0   \n",
       "238191                         0                              0   \n",
       "37832                          0                              0   \n",
       "85037                          0                              0   \n",
       "129527                         0                              0   \n",
       "\n",
       "        WALLSMATERIAL_MODE_Others  WALLSMATERIAL_MODE_Panel  \\\n",
       "164904                          0                         0   \n",
       "238191                          0                         0   \n",
       "37832                           0                         0   \n",
       "85037                           0                         0   \n",
       "129527                          0                         0   \n",
       "\n",
       "        WALLSMATERIAL_MODE_Stone, brick  WALLSMATERIAL_MODE_Wooden  \\\n",
       "164904                                0                          0   \n",
       "238191                                0                          0   \n",
       "37832                                 1                          0   \n",
       "85037                                 1                          0   \n",
       "129527                                0                          0   \n",
       "\n",
       "        EMERGENCYSTATE_MODE_Yes  \n",
       "164904                        1  \n",
       "238191                        0  \n",
       "37832                         0  \n",
       "85037                         0  \n",
       "129527                        0  \n",
       "\n",
       "[5 rows x 64 columns]"
      ]
     },
     "execution_count": 49,
     "metadata": {},
     "output_type": "execute_result"
    }
   ],
   "source": [
    "# copy categoricals\n",
    "cat_dummies = cats.copy()\n",
    "\n",
    "# get dummies for categoricals from cat_dummies\n",
    "cat_dummies = pd.get_dummies(cat_dummies, drop_first=True)\n",
    "\n",
    "cat_dummies.head()"
   ]
  },
  {
   "cell_type": "code",
   "execution_count": 50,
   "metadata": {
    "ExecuteTime": {
     "end_time": "2022-03-24T20:22:40.749628Z",
     "start_time": "2022-03-24T20:22:40.744698Z"
    },
    "scrolled": true
   },
   "outputs": [
    {
     "name": "stdout",
     "output_type": "stream",
     "text": [
      "(64825, 64)\n"
     ]
    }
   ],
   "source": [
    "# print shape - column, row attributes\n",
    "print(cat_dummies.shape)"
   ]
  },
  {
   "cell_type": "code",
   "execution_count": 99,
   "metadata": {
    "ExecuteTime": {
     "end_time": "2022-03-24T17:24:25.158055Z",
     "start_time": "2022-03-24T17:24:25.151832Z"
    }
   },
   "outputs": [],
   "source": [
    "# replace with mode for categorical variables\n",
    "# df5['NAME_TYPE_SUITE'].fillna(df5['NAME_TYPE_SUITE'].mode()[0], inplace=True)\n",
    "# print('NAME_TYPE_SUITE:', df5['NAME_TYPE_SUITE'].describe())\n",
    "# print()\n"
   ]
  },
  {
   "cell_type": "markdown",
   "metadata": {},
   "source": [
    "## Remove Outliers"
   ]
  },
  {
   "cell_type": "code",
   "execution_count": 52,
   "metadata": {
    "ExecuteTime": {
     "end_time": "2022-03-24T20:23:21.730173Z",
     "start_time": "2022-03-24T20:23:21.547349Z"
    },
    "scrolled": true
   },
   "outputs": [
    {
     "data": {
      "text/html": [
       "<div>\n",
       "<style scoped>\n",
       "    .dataframe tbody tr th:only-of-type {\n",
       "        vertical-align: middle;\n",
       "    }\n",
       "\n",
       "    .dataframe tbody tr th {\n",
       "        vertical-align: top;\n",
       "    }\n",
       "\n",
       "    .dataframe thead th {\n",
       "        text-align: right;\n",
       "    }\n",
       "</style>\n",
       "<table border=\"1\" class=\"dataframe\">\n",
       "  <thead>\n",
       "    <tr style=\"text-align: right;\">\n",
       "      <th></th>\n",
       "      <th>SK_ID_CURR</th>\n",
       "      <th>TARGET</th>\n",
       "      <th>CNT_CHILDREN</th>\n",
       "      <th>AMT_INCOME_TOTAL</th>\n",
       "      <th>AMT_CREDIT</th>\n",
       "      <th>AMT_ANNUITY</th>\n",
       "      <th>AMT_GOODS_PRICE</th>\n",
       "      <th>REGION_POPULATION_RELATIVE</th>\n",
       "      <th>DAYS_BIRTH</th>\n",
       "      <th>DAYS_EMPLOYED</th>\n",
       "      <th>...</th>\n",
       "      <th>HOUSETYPE_MODE_specific housing</th>\n",
       "      <th>HOUSETYPE_MODE_terraced house</th>\n",
       "      <th>WALLSMATERIAL_MODE_Mixed</th>\n",
       "      <th>WALLSMATERIAL_MODE_Monolithic</th>\n",
       "      <th>WALLSMATERIAL_MODE_Others</th>\n",
       "      <th>WALLSMATERIAL_MODE_Panel</th>\n",
       "      <th>WALLSMATERIAL_MODE_Stone, brick</th>\n",
       "      <th>WALLSMATERIAL_MODE_Wooden</th>\n",
       "      <th>EMERGENCYSTATE_MODE_Yes</th>\n",
       "      <th>ORGANIZATION_TYPE_CODE</th>\n",
       "    </tr>\n",
       "  </thead>\n",
       "  <tbody>\n",
       "    <tr>\n",
       "      <th>164904</th>\n",
       "      <td>291162</td>\n",
       "      <td>0</td>\n",
       "      <td>0</td>\n",
       "      <td>225000.0</td>\n",
       "      <td>1119411.0</td>\n",
       "      <td>40338.0</td>\n",
       "      <td>904500.0</td>\n",
       "      <td>0.011657</td>\n",
       "      <td>-19406</td>\n",
       "      <td>-346</td>\n",
       "      <td>...</td>\n",
       "      <td>0</td>\n",
       "      <td>0</td>\n",
       "      <td>0</td>\n",
       "      <td>0</td>\n",
       "      <td>0</td>\n",
       "      <td>0</td>\n",
       "      <td>0</td>\n",
       "      <td>0</td>\n",
       "      <td>1</td>\n",
       "      <td>11</td>\n",
       "    </tr>\n",
       "    <tr>\n",
       "      <th>238191</th>\n",
       "      <td>375841</td>\n",
       "      <td>0</td>\n",
       "      <td>0</td>\n",
       "      <td>315000.0</td>\n",
       "      <td>900000.0</td>\n",
       "      <td>47952.0</td>\n",
       "      <td>900000.0</td>\n",
       "      <td>0.035792</td>\n",
       "      <td>-13357</td>\n",
       "      <td>-2075</td>\n",
       "      <td>...</td>\n",
       "      <td>0</td>\n",
       "      <td>0</td>\n",
       "      <td>0</td>\n",
       "      <td>0</td>\n",
       "      <td>0</td>\n",
       "      <td>0</td>\n",
       "      <td>0</td>\n",
       "      <td>0</td>\n",
       "      <td>0</td>\n",
       "      <td>33</td>\n",
       "    </tr>\n",
       "    <tr>\n",
       "      <th>37832</th>\n",
       "      <td>143818</td>\n",
       "      <td>0</td>\n",
       "      <td>1</td>\n",
       "      <td>225000.0</td>\n",
       "      <td>450000.0</td>\n",
       "      <td>22018.5</td>\n",
       "      <td>450000.0</td>\n",
       "      <td>0.014464</td>\n",
       "      <td>-9456</td>\n",
       "      <td>-772</td>\n",
       "      <td>...</td>\n",
       "      <td>0</td>\n",
       "      <td>0</td>\n",
       "      <td>0</td>\n",
       "      <td>0</td>\n",
       "      <td>0</td>\n",
       "      <td>0</td>\n",
       "      <td>1</td>\n",
       "      <td>0</td>\n",
       "      <td>0</td>\n",
       "      <td>5</td>\n",
       "    </tr>\n",
       "    <tr>\n",
       "      <th>85037</th>\n",
       "      <td>198651</td>\n",
       "      <td>0</td>\n",
       "      <td>0</td>\n",
       "      <td>202500.0</td>\n",
       "      <td>1312110.0</td>\n",
       "      <td>55723.5</td>\n",
       "      <td>1125000.0</td>\n",
       "      <td>0.007330</td>\n",
       "      <td>-19784</td>\n",
       "      <td>-138</td>\n",
       "      <td>...</td>\n",
       "      <td>0</td>\n",
       "      <td>0</td>\n",
       "      <td>0</td>\n",
       "      <td>0</td>\n",
       "      <td>0</td>\n",
       "      <td>0</td>\n",
       "      <td>1</td>\n",
       "      <td>0</td>\n",
       "      <td>0</td>\n",
       "      <td>5</td>\n",
       "    </tr>\n",
       "    <tr>\n",
       "      <th>129527</th>\n",
       "      <td>250234</td>\n",
       "      <td>0</td>\n",
       "      <td>0</td>\n",
       "      <td>225000.0</td>\n",
       "      <td>270000.0</td>\n",
       "      <td>13500.0</td>\n",
       "      <td>270000.0</td>\n",
       "      <td>0.019101</td>\n",
       "      <td>-8291</td>\n",
       "      <td>-946</td>\n",
       "      <td>...</td>\n",
       "      <td>0</td>\n",
       "      <td>0</td>\n",
       "      <td>0</td>\n",
       "      <td>0</td>\n",
       "      <td>0</td>\n",
       "      <td>0</td>\n",
       "      <td>0</td>\n",
       "      <td>0</td>\n",
       "      <td>0</td>\n",
       "      <td>42</td>\n",
       "    </tr>\n",
       "  </tbody>\n",
       "</table>\n",
       "<p>5 rows × 171 columns</p>\n",
       "</div>"
      ],
      "text/plain": [
       "        SK_ID_CURR  TARGET  CNT_CHILDREN  AMT_INCOME_TOTAL  AMT_CREDIT  \\\n",
       "164904      291162       0             0          225000.0   1119411.0   \n",
       "238191      375841       0             0          315000.0    900000.0   \n",
       "37832       143818       0             1          225000.0    450000.0   \n",
       "85037       198651       0             0          202500.0   1312110.0   \n",
       "129527      250234       0             0          225000.0    270000.0   \n",
       "\n",
       "        AMT_ANNUITY  AMT_GOODS_PRICE  REGION_POPULATION_RELATIVE  DAYS_BIRTH  \\\n",
       "164904      40338.0         904500.0                    0.011657      -19406   \n",
       "238191      47952.0         900000.0                    0.035792      -13357   \n",
       "37832       22018.5         450000.0                    0.014464       -9456   \n",
       "85037       55723.5        1125000.0                    0.007330      -19784   \n",
       "129527      13500.0         270000.0                    0.019101       -8291   \n",
       "\n",
       "        DAYS_EMPLOYED  ...  HOUSETYPE_MODE_specific housing  \\\n",
       "164904           -346  ...                                0   \n",
       "238191          -2075  ...                                0   \n",
       "37832            -772  ...                                0   \n",
       "85037            -138  ...                                0   \n",
       "129527           -946  ...                                0   \n",
       "\n",
       "        HOUSETYPE_MODE_terraced house  WALLSMATERIAL_MODE_Mixed  \\\n",
       "164904                              0                         0   \n",
       "238191                              0                         0   \n",
       "37832                               0                         0   \n",
       "85037                               0                         0   \n",
       "129527                              0                         0   \n",
       "\n",
       "        WALLSMATERIAL_MODE_Monolithic  WALLSMATERIAL_MODE_Others  \\\n",
       "164904                              0                          0   \n",
       "238191                              0                          0   \n",
       "37832                               0                          0   \n",
       "85037                               0                          0   \n",
       "129527                              0                          0   \n",
       "\n",
       "        WALLSMATERIAL_MODE_Panel  WALLSMATERIAL_MODE_Stone, brick  \\\n",
       "164904                         0                                0   \n",
       "238191                         0                                0   \n",
       "37832                          0                                1   \n",
       "85037                          0                                1   \n",
       "129527                         0                                0   \n",
       "\n",
       "        WALLSMATERIAL_MODE_Wooden  EMERGENCYSTATE_MODE_Yes  \\\n",
       "164904                          0                        1   \n",
       "238191                          0                        0   \n",
       "37832                           0                        0   \n",
       "85037                           0                        0   \n",
       "129527                          0                        0   \n",
       "\n",
       "        ORGANIZATION_TYPE_CODE  \n",
       "164904                      11  \n",
       "238191                      33  \n",
       "37832                        5  \n",
       "85037                        5  \n",
       "129527                      42  \n",
       "\n",
       "[5 rows x 171 columns]"
      ]
     },
     "execution_count": 52,
     "metadata": {},
     "output_type": "execute_result"
    }
   ],
   "source": [
    "# concatenate cat_dummies and numericals\n",
    "\n",
    "df2 = pd.concat([num, \n",
    "                 cat_dummies,\n",
    "                label_encoded], axis=1)\n",
    "df2.head()"
   ]
  },
  {
   "cell_type": "code",
   "execution_count": 55,
   "metadata": {
    "ExecuteTime": {
     "end_time": "2022-03-24T20:24:00.099299Z",
     "start_time": "2022-03-24T20:24:00.021764Z"
    }
   },
   "outputs": [
    {
     "name": "stdout",
     "output_type": "stream",
     "text": [
      "SK_ID_CURR                         0\n",
      "TARGET                             0\n",
      "CNT_CHILDREN                       0\n",
      "AMT_INCOME_TOTAL                   0\n",
      "AMT_CREDIT                         0\n",
      "                                  ..\n",
      "WALLSMATERIAL_MODE_Panel           0\n",
      "WALLSMATERIAL_MODE_Stone, brick    0\n",
      "WALLSMATERIAL_MODE_Wooden          0\n",
      "EMERGENCYSTATE_MODE_Yes            0\n",
      "ORGANIZATION_TYPE_CODE             0\n",
      "Length: 171, dtype: int64\n"
     ]
    }
   ],
   "source": [
    "df2.isnull().sum()"
   ]
  },
  {
   "cell_type": "code",
   "execution_count": 53,
   "metadata": {
    "ExecuteTime": {
     "end_time": "2022-03-24T20:23:27.155373Z",
     "start_time": "2022-03-24T20:23:27.135593Z"
    },
    "scrolled": false
   },
   "outputs": [
    {
     "name": "stdout",
     "output_type": "stream",
     "text": [
      "<class 'pandas.core.frame.DataFrame'>\n",
      "Int64Index: 64825 entries, 164904 to 307509\n",
      "Columns: 171 entries, SK_ID_CURR to ORGANIZATION_TYPE_CODE\n",
      "dtypes: float64(65), int64(42), uint8(64)\n",
      "memory usage: 57.4 MB\n"
     ]
    }
   ],
   "source": [
    "# Check value counts and Dtypes\n",
    "df2.info()"
   ]
  },
  {
   "cell_type": "markdown",
   "metadata": {},
   "source": [
    "### Select Features"
   ]
  },
  {
   "cell_type": "code",
   "execution_count": 57,
   "metadata": {
    "ExecuteTime": {
     "end_time": "2022-03-24T20:26:47.671499Z",
     "start_time": "2022-03-24T20:26:47.654696Z"
    }
   },
   "outputs": [
    {
     "name": "stdout",
     "output_type": "stream",
     "text": [
      "SK_ID_CURR\n",
      "TARGET\n",
      "CNT_CHILDREN\n",
      "AMT_INCOME_TOTAL\n",
      "AMT_CREDIT\n",
      "AMT_ANNUITY\n",
      "AMT_GOODS_PRICE\n",
      "REGION_POPULATION_RELATIVE\n",
      "DAYS_BIRTH\n",
      "DAYS_EMPLOYED\n",
      "DAYS_REGISTRATION\n",
      "DAYS_ID_PUBLISH\n",
      "OWN_CAR_AGE\n",
      "FLAG_MOBIL\n",
      "FLAG_EMP_PHONE\n",
      "FLAG_WORK_PHONE\n",
      "FLAG_CONT_MOBILE\n",
      "FLAG_PHONE\n",
      "FLAG_EMAIL\n",
      "CNT_FAM_MEMBERS\n",
      "REGION_RATING_CLIENT\n",
      "REGION_RATING_CLIENT_W_CITY\n",
      "HOUR_APPR_PROCESS_START\n",
      "REG_REGION_NOT_LIVE_REGION\n",
      "REG_REGION_NOT_WORK_REGION\n",
      "LIVE_REGION_NOT_WORK_REGION\n",
      "REG_CITY_NOT_LIVE_CITY\n",
      "REG_CITY_NOT_WORK_CITY\n",
      "LIVE_CITY_NOT_WORK_CITY\n",
      "EXT_SOURCE_1\n",
      "EXT_SOURCE_2\n",
      "EXT_SOURCE_3\n",
      "APARTMENTS_AVG\n",
      "BASEMENTAREA_AVG\n",
      "YEARS_BEGINEXPLUATATION_AVG\n",
      "YEARS_BUILD_AVG\n",
      "COMMONAREA_AVG\n",
      "ELEVATORS_AVG\n",
      "ENTRANCES_AVG\n",
      "FLOORSMAX_AVG\n",
      "FLOORSMIN_AVG\n",
      "LANDAREA_AVG\n",
      "LIVINGAPARTMENTS_AVG\n",
      "LIVINGAREA_AVG\n",
      "NONLIVINGAPARTMENTS_AVG\n",
      "NONLIVINGAREA_AVG\n",
      "APARTMENTS_MODE\n",
      "BASEMENTAREA_MODE\n",
      "YEARS_BEGINEXPLUATATION_MODE\n",
      "YEARS_BUILD_MODE\n",
      "COMMONAREA_MODE\n",
      "ELEVATORS_MODE\n",
      "ENTRANCES_MODE\n",
      "FLOORSMAX_MODE\n",
      "FLOORSMIN_MODE\n",
      "LANDAREA_MODE\n",
      "LIVINGAPARTMENTS_MODE\n",
      "LIVINGAREA_MODE\n",
      "NONLIVINGAPARTMENTS_MODE\n",
      "NONLIVINGAREA_MODE\n",
      "APARTMENTS_MEDI\n",
      "BASEMENTAREA_MEDI\n",
      "YEARS_BEGINEXPLUATATION_MEDI\n",
      "YEARS_BUILD_MEDI\n",
      "COMMONAREA_MEDI\n",
      "ELEVATORS_MEDI\n",
      "ENTRANCES_MEDI\n",
      "FLOORSMAX_MEDI\n",
      "FLOORSMIN_MEDI\n",
      "LANDAREA_MEDI\n",
      "LIVINGAPARTMENTS_MEDI\n",
      "LIVINGAREA_MEDI\n",
      "NONLIVINGAPARTMENTS_MEDI\n",
      "NONLIVINGAREA_MEDI\n",
      "TOTALAREA_MODE\n",
      "OBS_30_CNT_SOCIAL_CIRCLE\n",
      "DEF_30_CNT_SOCIAL_CIRCLE\n",
      "OBS_60_CNT_SOCIAL_CIRCLE\n",
      "DEF_60_CNT_SOCIAL_CIRCLE\n",
      "DAYS_LAST_PHONE_CHANGE\n",
      "FLAG_DOCUMENT_2\n",
      "FLAG_DOCUMENT_3\n",
      "FLAG_DOCUMENT_4\n",
      "FLAG_DOCUMENT_5\n",
      "FLAG_DOCUMENT_6\n",
      "FLAG_DOCUMENT_7\n",
      "FLAG_DOCUMENT_8\n",
      "FLAG_DOCUMENT_9\n",
      "FLAG_DOCUMENT_10\n",
      "FLAG_DOCUMENT_11\n",
      "FLAG_DOCUMENT_12\n",
      "FLAG_DOCUMENT_13\n",
      "FLAG_DOCUMENT_14\n",
      "FLAG_DOCUMENT_15\n",
      "FLAG_DOCUMENT_16\n",
      "FLAG_DOCUMENT_17\n",
      "FLAG_DOCUMENT_18\n",
      "FLAG_DOCUMENT_19\n",
      "FLAG_DOCUMENT_20\n",
      "FLAG_DOCUMENT_21\n",
      "AMT_REQ_CREDIT_BUREAU_HOUR\n",
      "AMT_REQ_CREDIT_BUREAU_DAY\n",
      "AMT_REQ_CREDIT_BUREAU_WEEK\n",
      "AMT_REQ_CREDIT_BUREAU_MON\n",
      "AMT_REQ_CREDIT_BUREAU_QRT\n",
      "AMT_REQ_CREDIT_BUREAU_YEAR\n",
      "NAME_CONTRACT_TYPE_Revolving loans\n",
      "CODE_GENDER_M\n",
      "FLAG_OWN_CAR_Y\n",
      "FLAG_OWN_REALTY_Y\n",
      "NAME_TYPE_SUITE_Family\n",
      "NAME_TYPE_SUITE_Group of people\n",
      "NAME_TYPE_SUITE_Other_A\n",
      "NAME_TYPE_SUITE_Other_B\n",
      "NAME_TYPE_SUITE_Spouse, partner\n",
      "NAME_TYPE_SUITE_Unaccompanied\n",
      "NAME_INCOME_TYPE_Maternity leave\n",
      "NAME_INCOME_TYPE_Pensioner\n",
      "NAME_INCOME_TYPE_State servant\n",
      "NAME_INCOME_TYPE_Student\n",
      "NAME_INCOME_TYPE_Unemployed\n",
      "NAME_INCOME_TYPE_Working\n",
      "NAME_EDUCATION_TYPE_Higher education\n",
      "NAME_EDUCATION_TYPE_Incomplete higher\n",
      "NAME_EDUCATION_TYPE_Lower secondary\n",
      "NAME_EDUCATION_TYPE_Secondary / secondary special\n",
      "NAME_FAMILY_STATUS_Married\n",
      "NAME_FAMILY_STATUS_Separated\n",
      "NAME_FAMILY_STATUS_Single / not married\n",
      "NAME_FAMILY_STATUS_Widow\n",
      "NAME_HOUSING_TYPE_House / apartment\n",
      "NAME_HOUSING_TYPE_Municipal apartment\n",
      "NAME_HOUSING_TYPE_Office apartment\n",
      "NAME_HOUSING_TYPE_Rented apartment\n",
      "NAME_HOUSING_TYPE_With parents\n",
      "OCCUPATION_TYPE_Cleaning staff\n",
      "OCCUPATION_TYPE_Cooking staff\n",
      "OCCUPATION_TYPE_Core staff\n",
      "OCCUPATION_TYPE_Drivers\n",
      "OCCUPATION_TYPE_HR staff\n",
      "OCCUPATION_TYPE_High skill tech staff\n",
      "OCCUPATION_TYPE_IT staff\n",
      "OCCUPATION_TYPE_Laborers\n",
      "OCCUPATION_TYPE_Low-skill Laborers\n",
      "OCCUPATION_TYPE_Managers\n",
      "OCCUPATION_TYPE_Medicine staff\n",
      "OCCUPATION_TYPE_Private service staff\n",
      "OCCUPATION_TYPE_Realty agents\n",
      "OCCUPATION_TYPE_Sales staff\n",
      "OCCUPATION_TYPE_Secretaries\n",
      "OCCUPATION_TYPE_Security staff\n",
      "OCCUPATION_TYPE_Waiters/barmen staff\n",
      "WEEKDAY_APPR_PROCESS_START_MONDAY\n",
      "WEEKDAY_APPR_PROCESS_START_SATURDAY\n",
      "WEEKDAY_APPR_PROCESS_START_SUNDAY\n",
      "WEEKDAY_APPR_PROCESS_START_THURSDAY\n",
      "WEEKDAY_APPR_PROCESS_START_TUESDAY\n",
      "WEEKDAY_APPR_PROCESS_START_WEDNESDAY\n",
      "FONDKAPREMONT_MODE_org spec account\n",
      "FONDKAPREMONT_MODE_reg oper account\n",
      "FONDKAPREMONT_MODE_reg oper spec account\n",
      "HOUSETYPE_MODE_specific housing\n",
      "HOUSETYPE_MODE_terraced house\n",
      "WALLSMATERIAL_MODE_Mixed\n",
      "WALLSMATERIAL_MODE_Monolithic\n",
      "WALLSMATERIAL_MODE_Others\n",
      "WALLSMATERIAL_MODE_Panel\n",
      "WALLSMATERIAL_MODE_Stone, brick\n",
      "WALLSMATERIAL_MODE_Wooden\n",
      "EMERGENCYSTATE_MODE_Yes\n",
      "ORGANIZATION_TYPE_CODE\n",
      "171\n"
     ]
    }
   ],
   "source": [
    "# iterating print for the columns\n",
    "cols = []\n",
    "for col in df2.columns:\n",
    "    cols.append(col)\n",
    "    print(col)\n",
    "print(len(cols))"
   ]
  },
  {
   "cell_type": "markdown",
   "metadata": {},
   "source": [
    "## SMOTE - Oversample Minority Class"
   ]
  },
  {
   "cell_type": "markdown",
   "metadata": {},
   "source": [
    "### Train, Test, Split"
   ]
  },
  {
   "cell_type": "code",
   "execution_count": 66,
   "metadata": {
    "ExecuteTime": {
     "end_time": "2022-03-24T20:41:58.824890Z",
     "start_time": "2022-03-24T20:41:58.386160Z"
    }
   },
   "outputs": [],
   "source": [
    "# Define X and y\n",
    "y = df2['TARGET']\n",
    "X = df2.drop('TARGET', axis=1)\n",
    "\n",
    "# Perform train-test split with random_state=42 and stratify=y\n",
    "X_train, X_test, y_train, y_test = train_test_split(X, y, test_size=0.25, random_state=42)"
   ]
  },
  {
   "cell_type": "code",
   "execution_count": 67,
   "metadata": {
    "ExecuteTime": {
     "end_time": "2022-03-24T20:42:06.597620Z",
     "start_time": "2022-03-24T20:41:59.034151Z"
    }
   },
   "outputs": [
    {
     "name": "stdout",
     "output_type": "stream",
     "text": [
      "0    30015\n",
      "1    18603\n",
      "Name: TARGET, dtype: int64\n",
      "\n",
      "\n",
      "1    30015\n",
      "0    30015\n",
      "Name: TARGET, dtype: int64\n"
     ]
    }
   ],
   "source": [
    "# Previous original class distribution\n",
    "print(y_train.value_counts()) \n",
    "\n",
    "# Fit SMOTE to training data\n",
    "X_train_resampled, y_train_resampled = SMOTE().fit_resample(X_train, y_train) \n",
    "\n",
    "# Preview synthetic sample class distribution\n",
    "print('\\n')\n",
    "print(pd.Series(y_train_resampled).value_counts()) \n",
    "\n",
    "# Note, if you get an Attribute Error: 'SMOTE' object has no attribute\n",
    "# '_validate_data', then downgrade your version of imblearn to 0.6.2\n",
    "# or upgrade your version of sklearn to 0.23"
   ]
  },
  {
   "cell_type": "markdown",
   "metadata": {},
   "source": [
    "## Random Forest with SMOTE\n",
    "* Prioritize Accuracy for Loan Approval"
   ]
  },
  {
   "cell_type": "code",
   "execution_count": null,
   "metadata": {},
   "outputs": [],
   "source": [
    "# Instantiate and fit a RandomForestClassifier\n",
    "forest = RandomForestClassifier(n_estimators=1, max_depth= 1)\n",
    "forest.fit(X_train_resampled, y_train_resampled)"
   ]
  },
  {
   "cell_type": "code",
   "execution_count": null,
   "metadata": {},
   "outputs": [],
   "source": [
    "# Training accuracy score\n",
    "forest.score(X_train_resampled, y_train_resampled)"
   ]
  },
  {
   "cell_type": "code",
   "execution_count": null,
   "metadata": {},
   "outputs": [],
   "source": [
    "# Test accuracy score\n",
    "forest.score(X_test, y_test)"
   ]
  },
  {
   "cell_type": "code",
   "execution_count": null,
   "metadata": {},
   "outputs": [],
   "source": [
    "# Test set predictions\n",
    "pred = forest.predict(X_test)"
   ]
  },
  {
   "cell_type": "code",
   "execution_count": null,
   "metadata": {},
   "outputs": [],
   "source": [
    "# Confusion matrix and classification report\n",
    "print(confusion_matrix(y_test, pred))\n",
    "print(classification_report(y_test, pred))"
   ]
  },
  {
   "cell_type": "markdown",
   "metadata": {},
   "source": [
    "## Random Forest with SMOTE\n",
    "* Prioritize Accuracy for Loan Rejection"
   ]
  },
  {
   "cell_type": "code",
   "execution_count": null,
   "metadata": {},
   "outputs": [],
   "source": [
    "# Instantiate and fit a RandomForestClassifier\n",
    "forest = RandomForestClassifier(n_estimators=20, max_depth= 10)\n",
    "forest.fit(X_train_resampled, y_train_resampled)"
   ]
  },
  {
   "cell_type": "code",
   "execution_count": null,
   "metadata": {},
   "outputs": [],
   "source": [
    "# Training accuracy score\n",
    "forest.score(X_train_resampled, y_train_resampled)"
   ]
  },
  {
   "cell_type": "code",
   "execution_count": null,
   "metadata": {},
   "outputs": [],
   "source": [
    "# Test accuracy score\n",
    "forest.score(X_test, y_test)"
   ]
  },
  {
   "cell_type": "code",
   "execution_count": null,
   "metadata": {},
   "outputs": [],
   "source": [
    "# Test set predictions\n",
    "pred = forest.predict(X_test)"
   ]
  },
  {
   "cell_type": "code",
   "execution_count": null,
   "metadata": {},
   "outputs": [],
   "source": [
    "# Confusion matrix and classification report\n",
    "print(confusion_matrix(y_test, pred))\n",
    "print(classification_report(y_test, pred))"
   ]
  },
  {
   "cell_type": "code",
   "execution_count": null,
   "metadata": {},
   "outputs": [],
   "source": []
  },
  {
   "cell_type": "code",
   "execution_count": null,
   "metadata": {},
   "outputs": [],
   "source": [
    "# Forest features plot"
   ]
  },
  {
   "cell_type": "code",
   "execution_count": null,
   "metadata": {},
   "outputs": [],
   "source": []
  }
 ],
 "metadata": {
  "kernelspec": {
   "display_name": "Python (learn-env)",
   "language": "python",
   "name": "learn-env"
  },
  "toc": {
   "base_numbering": 1,
   "nav_menu": {},
   "number_sections": true,
   "sideBar": true,
   "skip_h1_title": false,
   "title_cell": "Table of Contents",
   "title_sidebar": "Contents",
   "toc_cell": true,
   "toc_position": {},
   "toc_section_display": true,
   "toc_window_display": true
  }
 },
 "nbformat": 4,
 "nbformat_minor": 4
}
