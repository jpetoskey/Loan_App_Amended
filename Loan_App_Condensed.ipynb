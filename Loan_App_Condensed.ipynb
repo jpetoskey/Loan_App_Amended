{
 "cells": [
  {
   "cell_type": "markdown",
   "metadata": {
    "toc": true
   },
   "source": [
    "<h1>Table of Contents<span class=\"tocSkip\"></span></h1>\n",
    "<div class=\"toc\"><ul class=\"toc-item\"><li><span><a href=\"#Summary\" data-toc-modified-id=\"Summary-1\"><span class=\"toc-item-num\">1&nbsp;&nbsp;</span>Summary</a></span></li><li><span><a href=\"#Preprocess-Data\" data-toc-modified-id=\"Preprocess-Data-2\"><span class=\"toc-item-num\">2&nbsp;&nbsp;</span>Preprocess Data</a></span><ul class=\"toc-item\"><li><span><a href=\"#Undersample-Majority-Class\" data-toc-modified-id=\"Undersample-Majority-Class-2.1\"><span class=\"toc-item-num\">2.1&nbsp;&nbsp;</span>Undersample Majority Class</a></span></li><li><span><a href=\"#Feature-Selection\" data-toc-modified-id=\"Feature-Selection-2.2\"><span class=\"toc-item-num\">2.2&nbsp;&nbsp;</span>Feature Selection</a></span></li><li><span><a href=\"#Clean-up-null-and-missing-values\" data-toc-modified-id=\"Clean-up-null-and-missing-values-2.3\"><span class=\"toc-item-num\">2.3&nbsp;&nbsp;</span>Clean up null and missing values</a></span></li><li><span><a href=\"#Replace-null-values\" data-toc-modified-id=\"Replace-null-values-2.4\"><span class=\"toc-item-num\">2.4&nbsp;&nbsp;</span>Replace null values</a></span><ul class=\"toc-item\"><li><span><a href=\"#Separate-Numericals-&amp;-Categoricals\" data-toc-modified-id=\"Separate-Numericals-&amp;-Categoricals-2.4.1\"><span class=\"toc-item-num\">2.4.1&nbsp;&nbsp;</span>Separate Numericals &amp; Categoricals</a></span><ul class=\"toc-item\"><li><span><a href=\"#Summary-of-numericals\" data-toc-modified-id=\"Summary-of-numericals-2.4.1.1\"><span class=\"toc-item-num\">2.4.1.1&nbsp;&nbsp;</span>Summary of numericals</a></span></li></ul></li><li><span><a href=\"#Categoricals\" data-toc-modified-id=\"Categoricals-2.4.2\"><span class=\"toc-item-num\">2.4.2&nbsp;&nbsp;</span>Categoricals</a></span></li></ul></li><li><span><a href=\"#Label-Encode-or-One-Hot-Encode-Categoricals\" data-toc-modified-id=\"Label-Encode-or-One-Hot-Encode-Categoricals-2.5\"><span class=\"toc-item-num\">2.5&nbsp;&nbsp;</span>Label Encode or One-Hot Encode Categoricals</a></span><ul class=\"toc-item\"><li><ul class=\"toc-item\"><li><span><a href=\"#Use-label-encoding-to-save-space-with-Organization_Type\" data-toc-modified-id=\"Use-label-encoding-to-save-space-with-Organization_Type-2.5.0.1\"><span class=\"toc-item-num\">2.5.0.1&nbsp;&nbsp;</span>Use label encoding to save space with Organization_Type</a></span></li><li><span><a href=\"#One-Hot-Encode-Categoricals\" data-toc-modified-id=\"One-Hot-Encode-Categoricals-2.5.0.2\"><span class=\"toc-item-num\">2.5.0.2&nbsp;&nbsp;</span>One Hot Encode Categoricals</a></span></li></ul></li></ul></li><li><span><a href=\"#Remove-Outliers\" data-toc-modified-id=\"Remove-Outliers-2.6\"><span class=\"toc-item-num\">2.6&nbsp;&nbsp;</span>Remove Outliers</a></span><ul class=\"toc-item\"><li><span><a href=\"#Select-Features\" data-toc-modified-id=\"Select-Features-2.6.1\"><span class=\"toc-item-num\">2.6.1&nbsp;&nbsp;</span>Select Features</a></span></li></ul></li><li><span><a href=\"#SMOTE---Oversample-Minority-Class\" data-toc-modified-id=\"SMOTE---Oversample-Minority-Class-2.7\"><span class=\"toc-item-num\">2.7&nbsp;&nbsp;</span>SMOTE - Oversample Minority Class</a></span><ul class=\"toc-item\"><li><span><a href=\"#Train,-Test,-Split\" data-toc-modified-id=\"Train,-Test,-Split-2.7.1\"><span class=\"toc-item-num\">2.7.1&nbsp;&nbsp;</span>Train, Test, Split</a></span></li></ul></li><li><span><a href=\"#Random-Forest-with-SMOTE---Part-1\" data-toc-modified-id=\"Random-Forest-with-SMOTE---Part-1-2.8\"><span class=\"toc-item-num\">2.8&nbsp;&nbsp;</span>Random Forest with SMOTE - Part 1</a></span></li><li><span><a href=\"#Random-Forest-with-SMOTE---Part-2\" data-toc-modified-id=\"Random-Forest-with-SMOTE---Part-2-2.9\"><span class=\"toc-item-num\">2.9&nbsp;&nbsp;</span>Random Forest with SMOTE - Part 2</a></span></li><li><span><a href=\"#Random-Forest-with-SMOTE---Part-3\" data-toc-modified-id=\"Random-Forest-with-SMOTE---Part-3-2.10\"><span class=\"toc-item-num\">2.10&nbsp;&nbsp;</span>Random Forest with SMOTE - Part 3</a></span></li><li><span><a href=\"#Feature-Importance-Chart\" data-toc-modified-id=\"Feature-Importance-Chart-2.11\"><span class=\"toc-item-num\">2.11&nbsp;&nbsp;</span>Feature Importance Chart</a></span><ul class=\"toc-item\"><li><span><a href=\"#Improve-Feature-Importance-Bar-Chart\" data-toc-modified-id=\"Improve-Feature-Importance-Bar-Chart-2.11.1\"><span class=\"toc-item-num\">2.11.1&nbsp;&nbsp;</span>Improve Feature Importance Bar Chart</a></span></li></ul></li><li><span><a href=\"#Explore-EXT_SOURCE-data\" data-toc-modified-id=\"Explore-EXT_SOURCE-data-2.12\"><span class=\"toc-item-num\">2.12&nbsp;&nbsp;</span>Explore EXT_SOURCE data</a></span></li></ul></li><li><span><a href=\"#Summary\" data-toc-modified-id=\"Summary-3\"><span class=\"toc-item-num\">3&nbsp;&nbsp;</span>Summary</a></span></li><li><span><a href=\"#Reduce-Features,-Check-for-Accuracy\" data-toc-modified-id=\"Reduce-Features,-Check-for-Accuracy-4\"><span class=\"toc-item-num\">4&nbsp;&nbsp;</span>Reduce Features, Check for Accuracy</a></span></li><li><span><a href=\"#Further-Study\" data-toc-modified-id=\"Further-Study-5\"><span class=\"toc-item-num\">5&nbsp;&nbsp;</span>Further Study</a></span></li></ul></div>"
   ]
  },
  {
   "cell_type": "markdown",
   "metadata": {},
   "source": [
    "# Summary\n",
    "* 'Link to Data', https://www.kaggle.com/code/kapoorshivam/credit-analysis-using-eda/data"
   ]
  },
  {
   "cell_type": "code",
   "execution_count": 1,
   "metadata": {
    "ExecuteTime": {
     "end_time": "2022-03-25T14:05:56.975246Z",
     "start_time": "2022-03-25T14:05:52.177107Z"
    }
   },
   "outputs": [],
   "source": [
    "import pandas as pd\n",
    "import matplotlib.pyplot as plt\n",
    "import numpy as np\n",
    "np.random.seed(0)\n",
    "import seaborn as sns\n",
    "from sklearn.model_selection import train_test_split\n",
    "from sklearn.metrics import roc_curve, auc\n",
    "from sklearn.metrics import confusion_matrix\n",
    "from sklearn.linear_model import LogisticRegression\n",
    "from sklearn.metrics import make_scorer\n",
    "from sklearn.model_selection import StratifiedKFold\n",
    "from sklearn.base import clone\n",
    "from sklearn.metrics import log_loss\n",
    "from sklearn.model_selection import cross_val_score\n",
    "from sklearn.preprocessing import StandardScaler\n",
    "from sklearn.neighbors import KNeighborsClassifier\n",
    "from sklearn.metrics import precision_score, recall_score, accuracy_score, f1_score\n",
    "from sklearn.tree import DecisionTreeClassifier\n",
    "from sklearn.metrics import classification_report\n",
    "from sklearn.ensemble import BaggingClassifier, RandomForestClassifier\n",
    "from xgboost import XGBClassifier\n",
    "from sklearn.model_selection import GridSearchCV\n",
    "from sklearn.svm import SVC\n",
    "from sklearn.ensemble import AdaBoostClassifier, GradientBoostingClassifier\n",
    "from sklearn.preprocessing import LabelEncoder\n",
    "from sklearn.feature_selection import RFECV\n",
    "from sklearn.datasets import make_classification\n",
    "from sklearn.ensemble import RandomForestRegressor\n",
    "from sklearn.feature_selection import RFE\n",
    "\n",
    "from imblearn.over_sampling import SMOTE, ADASYN\n",
    "\n",
    "import warnings\n",
    "warnings.filterwarnings('ignore')\n",
    "%matplotlib inline"
   ]
  },
  {
   "cell_type": "code",
   "execution_count": 2,
   "metadata": {
    "ExecuteTime": {
     "end_time": "2022-03-25T14:06:10.537701Z",
     "start_time": "2022-03-25T14:05:56.978535Z"
    }
   },
   "outputs": [
    {
     "name": "stdout",
     "output_type": "stream",
     "text": [
      "<class 'pandas.core.frame.DataFrame'>\n",
      "RangeIndex: 307511 entries, 0 to 307510\n",
      "Columns: 122 entries, SK_ID_CURR to AMT_REQ_CREDIT_BUREAU_YEAR\n",
      "dtypes: float64(65), int64(41), object(16)\n",
      "memory usage: 286.2+ MB\n"
     ]
    }
   ],
   "source": [
    "df = pd.read_csv(r'/Users/jimpetoskey/Documents/Flatiron/phase3/Phase_3_Project/Loans/current_app.csv')\n",
    "df.info()"
   ]
  },
  {
   "cell_type": "code",
   "execution_count": 3,
   "metadata": {
    "ExecuteTime": {
     "end_time": "2022-03-25T14:06:10.617359Z",
     "start_time": "2022-03-25T14:06:10.541876Z"
    },
    "scrolled": true
   },
   "outputs": [
    {
     "data": {
      "text/plain": [
       "0    282686\n",
       "1     24825\n",
       "Name: TARGET, dtype: int64"
      ]
     },
     "execution_count": 3,
     "metadata": {},
     "output_type": "execute_result"
    }
   ],
   "source": [
    "df['TARGET'].value_counts()"
   ]
  },
  {
   "cell_type": "markdown",
   "metadata": {},
   "source": [
    "# Preprocess Data\n",
    "* Reduce Class Imbalance Issue:\n",
    "    * Sample 40,000 '0' values from the data set and use 25,000 '1' values, for 65,000 total values.\n",
    "    * Then, oversample minority class with SMOTE for a total of 40,000 of each class.\n",
    "* Trim columns based on scikit learn's recursive feature selection select 38 columns."
   ]
  },
  {
   "cell_type": "markdown",
   "metadata": {},
   "source": [
    "## Undersample Majority Class\n",
    "* Will reduce size of dataframe for faster processing on local machine.\n",
    "* Paired with SMOTE, will allow for reducing class imbalance issues"
   ]
  },
  {
   "cell_type": "code",
   "execution_count": 4,
   "metadata": {
    "ExecuteTime": {
     "end_time": "2022-03-25T14:06:11.333367Z",
     "start_time": "2022-03-25T14:06:10.626457Z"
    }
   },
   "outputs": [
    {
     "data": {
      "text/plain": [
       "0    282686\n",
       "Name: TARGET, dtype: int64"
      ]
     },
     "execution_count": 4,
     "metadata": {},
     "output_type": "execute_result"
    }
   ],
   "source": [
    "df_zero_val = df[df.TARGET == 0]\n",
    "df_zero_val['TARGET'].value_counts()"
   ]
  },
  {
   "cell_type": "code",
   "execution_count": 5,
   "metadata": {
    "ExecuteTime": {
     "end_time": "2022-03-25T14:06:11.622183Z",
     "start_time": "2022-03-25T14:06:11.339640Z"
    }
   },
   "outputs": [
    {
     "data": {
      "text/plain": [
       "0    40000\n",
       "Name: TARGET, dtype: int64"
      ]
     },
     "execution_count": 5,
     "metadata": {},
     "output_type": "execute_result"
    }
   ],
   "source": [
    "df_zero_val = df_zero_val.sample(n=40000)\n",
    "df_zero_val['TARGET'].value_counts()"
   ]
  },
  {
   "cell_type": "code",
   "execution_count": 6,
   "metadata": {
    "ExecuteTime": {
     "end_time": "2022-03-25T14:06:11.758639Z",
     "start_time": "2022-03-25T14:06:11.627700Z"
    }
   },
   "outputs": [
    {
     "data": {
      "text/plain": [
       "1    24825\n",
       "Name: TARGET, dtype: int64"
      ]
     },
     "execution_count": 6,
     "metadata": {},
     "output_type": "execute_result"
    }
   ],
   "source": [
    "df_one_val = df[df.TARGET == 1]\n",
    "df_one_val['TARGET'].value_counts()"
   ]
  },
  {
   "cell_type": "code",
   "execution_count": 53,
   "metadata": {
    "ExecuteTime": {
     "end_time": "2022-03-25T14:29:44.872698Z",
     "start_time": "2022-03-25T14:29:44.389763Z"
    }
   },
   "outputs": [
    {
     "data": {
      "text/plain": [
       "0    40000\n",
       "1    24825\n",
       "Name: TARGET, dtype: int64"
      ]
     },
     "execution_count": 53,
     "metadata": {},
     "output_type": "execute_result"
    }
   ],
   "source": [
    "df1 = df_zero_val.append(df_one_val)\n",
    "df1['TARGET'].value_counts()"
   ]
  },
  {
   "cell_type": "markdown",
   "metadata": {},
   "source": [
    "## Feature Selection\n",
    "* Recursive Feature Selection (RFE) with sklearn"
   ]
  },
  {
   "cell_type": "code",
   "execution_count": 54,
   "metadata": {
    "ExecuteTime": {
     "end_time": "2022-03-25T14:29:45.890972Z",
     "start_time": "2022-03-25T14:29:45.860282Z"
    },
    "scrolled": true
   },
   "outputs": [
    {
     "name": "stdout",
     "output_type": "stream",
     "text": [
      "<class 'pandas.core.frame.DataFrame'>\n",
      "Int64Index: 64825 entries, 39451 to 307509\n",
      "Columns: 122 entries, SK_ID_CURR to AMT_REQ_CREDIT_BUREAU_YEAR\n",
      "dtypes: float64(65), int64(41), object(16)\n",
      "memory usage: 60.8+ MB\n"
     ]
    }
   ],
   "source": [
    "df1.info()"
   ]
  },
  {
   "cell_type": "code",
   "execution_count": 9,
   "metadata": {
    "ExecuteTime": {
     "end_time": "2022-03-25T14:06:23.865493Z",
     "start_time": "2022-03-25T14:06:12.038362Z"
    }
   },
   "outputs": [
    {
     "name": "stdout",
     "output_type": "stream",
     "text": [
      "Optimal number of features : 63\n"
     ]
    },
    {
     "data": {
      "image/png": "[encoded data removed]",
      "text/plain": [
       "<Figure size 432x288 with 1 Axes>"
      ]
     },
     "metadata": {
      "needs_background": "light"
     },
     "output_type": "display_data"
    }
   ],
   "source": [
    "X = df1.drop('TARGET', axis=1)\n",
    "y = df1['TARGET']\n",
    "\n",
    "# Build a classification task using 30 informative features\n",
    "X, y = make_classification(\n",
    "    n_samples=500,\n",
    "    n_features=122,\n",
    "    n_informative=30,\n",
    "    n_redundant=2,\n",
    "    n_repeated=0,\n",
    "    n_classes=8,\n",
    "    n_clusters_per_class=1,\n",
    "    random_state=0,\n",
    ")\n",
    "\n",
    "# Create the RFE object and compute a cross-validated score.\n",
    "svc = SVC(kernel=\"linear\")\n",
    "# The \"accuracy\" scoring shows the proportion of correct classifications\n",
    "\n",
    "min_features_to_select = 1  # Minimum number of features to consider\n",
    "rfecv = RFECV(\n",
    "    estimator=svc,\n",
    "    step=1,\n",
    "    cv=StratifiedKFold(2),\n",
    "    scoring=\"accuracy\",\n",
    "    min_features_to_select=min_features_to_select,\n",
    ")\n",
    "rfecv.fit(X, y)\n",
    "\n",
    "print(\"Optimal number of features : %d\" % rfecv.n_features_)\n",
    "\n",
    "# Plot number of features VS. cross-validation scores\n",
    "plt.figure()\n",
    "plt.xlabel(\"Number of features selected\")\n",
    "plt.ylabel(\"Cross validation score (accuracy)\")\n",
    "plt.plot(\n",
    "    range(min_features_to_select, len(rfecv.grid_scores_) + min_features_to_select),\n",
    "    rfecv.grid_scores_,\n",
    ")\n",
    "plt.show()"
   ]
  },
  {
   "cell_type": "code",
   "execution_count": 10,
   "metadata": {
    "ExecuteTime": {
     "end_time": "2022-03-25T14:06:23.876645Z",
     "start_time": "2022-03-25T14:06:23.871415Z"
    }
   },
   "outputs": [],
   "source": [
    "# Too computationally expensive to run (>10 minutes)\n",
    "# forest = RandomForestRegressor()\n",
    "\n",
    "# Init the transformer\n",
    "# rfe = RFE(estimator=RandomForestRegressor(), n_features_to_select=115)\n",
    "\n",
    "# Fit to the data\n",
    "# _ = rfe.fit(X_train_resampled, y_train_resampled)"
   ]
  },
  {
   "cell_type": "code",
   "execution_count": 11,
   "metadata": {
    "ExecuteTime": {
     "end_time": "2022-03-25T14:06:23.887635Z",
     "start_time": "2022-03-25T14:06:23.881725Z"
    }
   },
   "outputs": [],
   "source": [
    "# _ = forest.fit(rfe.transform(X_train_resampled), y_train_resampled)\n",
    "# forest.score(rfe.transform(X_test), y_test)"
   ]
  },
  {
   "cell_type": "code",
   "execution_count": 55,
   "metadata": {
    "ExecuteTime": {
     "end_time": "2022-03-25T14:30:22.338822Z",
     "start_time": "2022-03-25T14:30:22.161434Z"
    }
   },
   "outputs": [
    {
     "name": "stdout",
     "output_type": "stream",
     "text": [
      "<class 'pandas.core.frame.DataFrame'>\n",
      "Int64Index: 64825 entries, 39451 to 307509\n",
      "Columns: 122 entries, SK_ID_CURR to AMT_REQ_CREDIT_BUREAU_YEAR\n",
      "dtypes: float64(65), int64(41), object(16)\n",
      "memory usage: 60.8+ MB\n"
     ]
    }
   ],
   "source": [
    "# Create new dataframe with selected features\n",
    "df2 = df1.filter(['TARGET', \n",
    "                 'CNT_CHILDREN', \n",
    "                 'AMT_INCOME_TOTAL',\n",
    "                 'AMT_CREDIT', \n",
    "                 'AMT_ANNUITY',\n",
    "                 'NAME_EDUCATION_TYPE',\n",
    "                 'DAYS_EMPLOYED',\n",
    "                 'CNT_FAM_MEMBERS',\n",
    "                 'DAYS_BIRTH',\n",
    "                 'NAME_INCOME_TYPE',\n",
    "                 'AMT_GOODS_PRICE',\n",
    "                 'CODE_GENDER',\n",
    "                 'FLAG_OWN_REALTY',\n",
    "                 'REGION_RATING_CLIENT',\n",
    "                 'ORGANIZATION_TYPE',\n",
    "                 'DAYS_REGISTRATION',\n",
    "                 'REGION_POPULATION_RELATIVE',\n",
    "                 'NAME_HOUSING_TYPE',\n",
    "                 'NAME_FAMILY_STATUS',\n",
    "                 'NAME_TYPE_SUITE',\n",
    "                 'FLAG_OWN_CAR',\n",
    "                 'NAME_CONTRACT_TYPE',\n",
    "                 'LIVE_REGION_NOT_WORK_REGION',\n",
    "                 'EXT_SOURCE_1',\n",
    "                 'EXT_SOURCE_2',\n",
    "                 'EXT_SOURCE_3',\n",
    "                 'APARTMENTS_AVG',\n",
    "                 'YEARS_BUILD_AVG',\n",
    "                 'YEARS_BEGIN_EXPLUATION_AVG',\n",
    "                 'FLOORSMAX_AVG',\n",
    "                 'NONLIVINGAREA_AVG',\n",
    "                 'TOTALAREA_MODE',\n",
    "                 'DAYS_LAST_PHONE_CHANGE',\n",
    "                 'LIVINGAREA_MEDI',\n",
    "                 'NONLIVINGAREA_MEDI',\n",
    "                 'AMT_REQ_CREDIT_BUREAU_HOUR',\n",
    "                 'AMT_REQ_CREDIT_BUREAU_DAY',\n",
    "                 'AMT_REQ_CREDIT_BUREAU_WEEK',\n",
    "                 'AMT_REQ_CREDIT_BUREAU_MON',\n",
    "                 'AMT_REQ_CREDIT_BUREAU_QRT',\n",
    "                 'AMT_REQ_CREDIT_BUREAU_YEAR'], \n",
    "                axis=1)\n",
    "df1.info()"
   ]
  },
  {
   "cell_type": "markdown",
   "metadata": {},
   "source": [
    "## Clean up null and missing values"
   ]
  },
  {
   "cell_type": "code",
   "execution_count": 56,
   "metadata": {
    "ExecuteTime": {
     "end_time": "2022-03-25T14:30:26.463112Z",
     "start_time": "2022-03-25T14:30:26.410052Z"
    }
   },
   "outputs": [
    {
     "data": {
      "text/plain": [
       "TARGET                             0\n",
       "CNT_CHILDREN                       0\n",
       "AMT_INCOME_TOTAL                   0\n",
       "AMT_CREDIT                         0\n",
       "AMT_ANNUITY                        1\n",
       "NAME_EDUCATION_TYPE                0\n",
       "DAYS_EMPLOYED                      0\n",
       "CNT_FAM_MEMBERS                    1\n",
       "DAYS_BIRTH                         0\n",
       "NAME_INCOME_TYPE                   0\n",
       "AMT_GOODS_PRICE                   62\n",
       "CODE_GENDER                        0\n",
       "FLAG_OWN_REALTY                    0\n",
       "REGION_RATING_CLIENT               0\n",
       "ORGANIZATION_TYPE                  0\n",
       "DAYS_REGISTRATION                  0\n",
       "REGION_POPULATION_RELATIVE         0\n",
       "NAME_HOUSING_TYPE                  0\n",
       "NAME_FAMILY_STATUS                 0\n",
       "NAME_TYPE_SUITE                  242\n",
       "FLAG_OWN_CAR                       0\n",
       "NAME_CONTRACT_TYPE                 0\n",
       "LIVE_REGION_NOT_WORK_REGION        0\n",
       "EXT_SOURCE_1                   37224\n",
       "EXT_SOURCE_2                     145\n",
       "EXT_SOURCE_3                   13578\n",
       "APARTMENTS_AVG                 34185\n",
       "YEARS_BUILD_AVG                43961\n",
       "FLOORSMAX_AVG                  33586\n",
       "NONLIVINGAREA_AVG              37007\n",
       "TOTALAREA_MODE                 32629\n",
       "DAYS_LAST_PHONE_CHANGE             0\n",
       "LIVINGAREA_MEDI                33778\n",
       "NONLIVINGAREA_MEDI             37007\n",
       "AMT_REQ_CREDIT_BUREAU_HOUR      9593\n",
       "AMT_REQ_CREDIT_BUREAU_DAY       9593\n",
       "AMT_REQ_CREDIT_BUREAU_WEEK      9593\n",
       "AMT_REQ_CREDIT_BUREAU_MON       9593\n",
       "AMT_REQ_CREDIT_BUREAU_QRT       9593\n",
       "AMT_REQ_CREDIT_BUREAU_YEAR      9593\n",
       "dtype: int64"
      ]
     },
     "execution_count": 56,
     "metadata": {},
     "output_type": "execute_result"
    }
   ],
   "source": [
    "df2.isnull().sum()"
   ]
  },
  {
   "cell_type": "markdown",
   "metadata": {},
   "source": [
    "## Replace null values \n",
    "* Categoricals: Replace with mode\n",
    "* Numericals: Replace with mean"
   ]
  },
  {
   "cell_type": "markdown",
   "metadata": {},
   "source": [
    "### Separate Numericals & Categoricals\n",
    "* Complete further investigation of features"
   ]
  },
  {
   "cell_type": "code",
   "execution_count": 57,
   "metadata": {
    "ExecuteTime": {
     "end_time": "2022-03-25T14:30:32.369701Z",
     "start_time": "2022-03-25T14:30:32.302952Z"
    }
   },
   "outputs": [
    {
     "name": "stdout",
     "output_type": "stream",
     "text": [
      "<class 'pandas.core.frame.DataFrame'>\n",
      "Int64Index: 64825 entries, 39451 to 307509\n",
      "Data columns (total 30 columns):\n",
      " #   Column                       Non-Null Count  Dtype  \n",
      "---  ------                       --------------  -----  \n",
      " 0   TARGET                       64825 non-null  int64  \n",
      " 1   CNT_CHILDREN                 64825 non-null  int64  \n",
      " 2   AMT_INCOME_TOTAL             64825 non-null  float64\n",
      " 3   AMT_CREDIT                   64825 non-null  float64\n",
      " 4   AMT_ANNUITY                  64824 non-null  float64\n",
      " 5   DAYS_EMPLOYED                64825 non-null  int64  \n",
      " 6   CNT_FAM_MEMBERS              64824 non-null  float64\n",
      " 7   DAYS_BIRTH                   64825 non-null  int64  \n",
      " 8   AMT_GOODS_PRICE              64763 non-null  float64\n",
      " 9   REGION_RATING_CLIENT         64825 non-null  int64  \n",
      " 10  DAYS_REGISTRATION            64825 non-null  float64\n",
      " 11  REGION_POPULATION_RELATIVE   64825 non-null  float64\n",
      " 12  LIVE_REGION_NOT_WORK_REGION  64825 non-null  int64  \n",
      " 13  EXT_SOURCE_1                 27601 non-null  float64\n",
      " 14  EXT_SOURCE_2                 64680 non-null  float64\n",
      " 15  EXT_SOURCE_3                 51247 non-null  float64\n",
      " 16  APARTMENTS_AVG               30640 non-null  float64\n",
      " 17  YEARS_BUILD_AVG              20864 non-null  float64\n",
      " 18  FLOORSMAX_AVG                31239 non-null  float64\n",
      " 19  NONLIVINGAREA_AVG            27818 non-null  float64\n",
      " 20  TOTALAREA_MODE               32196 non-null  float64\n",
      " 21  DAYS_LAST_PHONE_CHANGE       64825 non-null  float64\n",
      " 22  LIVINGAREA_MEDI              31047 non-null  float64\n",
      " 23  NONLIVINGAREA_MEDI           27818 non-null  float64\n",
      " 24  AMT_REQ_CREDIT_BUREAU_HOUR   55232 non-null  float64\n",
      " 25  AMT_REQ_CREDIT_BUREAU_DAY    55232 non-null  float64\n",
      " 26  AMT_REQ_CREDIT_BUREAU_WEEK   55232 non-null  float64\n",
      " 27  AMT_REQ_CREDIT_BUREAU_MON    55232 non-null  float64\n",
      " 28  AMT_REQ_CREDIT_BUREAU_QRT    55232 non-null  float64\n",
      " 29  AMT_REQ_CREDIT_BUREAU_YEAR   55232 non-null  float64\n",
      "dtypes: float64(24), int64(6)\n",
      "memory usage: 15.3 MB\n"
     ]
    }
   ],
   "source": [
    "# Select only numerical features\n",
    "num = df2.select_dtypes(include=np.number)\n",
    "num.info()"
   ]
  },
  {
   "cell_type": "code",
   "execution_count": 58,
   "metadata": {
    "ExecuteTime": {
     "end_time": "2022-03-25T14:30:35.933585Z",
     "start_time": "2022-03-25T14:30:35.880827Z"
    }
   },
   "outputs": [
    {
     "name": "stdout",
     "output_type": "stream",
     "text": [
      "TARGET                         0\n",
      "CNT_CHILDREN                   0\n",
      "AMT_INCOME_TOTAL               0\n",
      "AMT_CREDIT                     0\n",
      "AMT_ANNUITY                    0\n",
      "DAYS_EMPLOYED                  0\n",
      "CNT_FAM_MEMBERS                0\n",
      "DAYS_BIRTH                     0\n",
      "AMT_GOODS_PRICE                0\n",
      "REGION_RATING_CLIENT           0\n",
      "DAYS_REGISTRATION              0\n",
      "REGION_POPULATION_RELATIVE     0\n",
      "LIVE_REGION_NOT_WORK_REGION    0\n",
      "EXT_SOURCE_1                   0\n",
      "EXT_SOURCE_2                   0\n",
      "EXT_SOURCE_3                   0\n",
      "APARTMENTS_AVG                 0\n",
      "YEARS_BUILD_AVG                0\n",
      "FLOORSMAX_AVG                  0\n",
      "NONLIVINGAREA_AVG              0\n",
      "TOTALAREA_MODE                 0\n",
      "DAYS_LAST_PHONE_CHANGE         0\n",
      "LIVINGAREA_MEDI                0\n",
      "NONLIVINGAREA_MEDI             0\n",
      "AMT_REQ_CREDIT_BUREAU_HOUR     0\n",
      "AMT_REQ_CREDIT_BUREAU_DAY      0\n",
      "AMT_REQ_CREDIT_BUREAU_WEEK     0\n",
      "AMT_REQ_CREDIT_BUREAU_MON      0\n",
      "AMT_REQ_CREDIT_BUREAU_QRT      0\n",
      "AMT_REQ_CREDIT_BUREAU_YEAR     0\n",
      "dtype: int64\n"
     ]
    }
   ],
   "source": [
    "# Replace null values in numerical columns with mean\n",
    "for i in num.columns[num.isnull().any(axis=0)]:     #---Applying Only on variables with NaN values\n",
    "    num[i].fillna(num[i].mean(),inplace=True)\n",
    "\n",
    "print(num.isnull().sum())"
   ]
  },
  {
   "cell_type": "code",
   "execution_count": 59,
   "metadata": {
    "ExecuteTime": {
     "end_time": "2022-03-25T14:30:36.187471Z",
     "start_time": "2022-03-25T14:30:36.165711Z"
    }
   },
   "outputs": [
    {
     "name": "stdout",
     "output_type": "stream",
     "text": [
      "<class 'pandas.core.frame.DataFrame'>\n",
      "Int64Index: 64825 entries, 39451 to 307509\n",
      "Data columns (total 30 columns):\n",
      " #   Column                       Non-Null Count  Dtype  \n",
      "---  ------                       --------------  -----  \n",
      " 0   TARGET                       64825 non-null  int64  \n",
      " 1   CNT_CHILDREN                 64825 non-null  int64  \n",
      " 2   AMT_INCOME_TOTAL             64825 non-null  float64\n",
      " 3   AMT_CREDIT                   64825 non-null  float64\n",
      " 4   AMT_ANNUITY                  64825 non-null  float64\n",
      " 5   DAYS_EMPLOYED                64825 non-null  int64  \n",
      " 6   CNT_FAM_MEMBERS              64825 non-null  float64\n",
      " 7   DAYS_BIRTH                   64825 non-null  int64  \n",
      " 8   AMT_GOODS_PRICE              64825 non-null  float64\n",
      " 9   REGION_RATING_CLIENT         64825 non-null  int64  \n",
      " 10  DAYS_REGISTRATION            64825 non-null  float64\n",
      " 11  REGION_POPULATION_RELATIVE   64825 non-null  float64\n",
      " 12  LIVE_REGION_NOT_WORK_REGION  64825 non-null  int64  \n",
      " 13  EXT_SOURCE_1                 64825 non-null  float64\n",
      " 14  EXT_SOURCE_2                 64825 non-null  float64\n",
      " 15  EXT_SOURCE_3                 64825 non-null  float64\n",
      " 16  APARTMENTS_AVG               64825 non-null  float64\n",
      " 17  YEARS_BUILD_AVG              64825 non-null  float64\n",
      " 18  FLOORSMAX_AVG                64825 non-null  float64\n",
      " 19  NONLIVINGAREA_AVG            64825 non-null  float64\n",
      " 20  TOTALAREA_MODE               64825 non-null  float64\n",
      " 21  DAYS_LAST_PHONE_CHANGE       64825 non-null  float64\n",
      " 22  LIVINGAREA_MEDI              64825 non-null  float64\n",
      " 23  NONLIVINGAREA_MEDI           64825 non-null  float64\n",
      " 24  AMT_REQ_CREDIT_BUREAU_HOUR   64825 non-null  float64\n",
      " 25  AMT_REQ_CREDIT_BUREAU_DAY    64825 non-null  float64\n",
      " 26  AMT_REQ_CREDIT_BUREAU_WEEK   64825 non-null  float64\n",
      " 27  AMT_REQ_CREDIT_BUREAU_MON    64825 non-null  float64\n",
      " 28  AMT_REQ_CREDIT_BUREAU_QRT    64825 non-null  float64\n",
      " 29  AMT_REQ_CREDIT_BUREAU_YEAR   64825 non-null  float64\n",
      "dtypes: float64(24), int64(6)\n",
      "memory usage: 15.3 MB\n"
     ]
    }
   ],
   "source": [
    "num.info()"
   ]
  },
  {
   "cell_type": "markdown",
   "metadata": {},
   "source": [
    "#### Summary of numericals\n",
    "* AMT_INCOME_TOTAL has one or many outliers that may need to be trimmed.\n",
    "* Widely varying magnitudes - normalization will be important"
   ]
  },
  {
   "cell_type": "markdown",
   "metadata": {},
   "source": [
    "### Categoricals"
   ]
  },
  {
   "cell_type": "code",
   "execution_count": 60,
   "metadata": {
    "ExecuteTime": {
     "end_time": "2022-03-25T14:30:40.980234Z",
     "start_time": "2022-03-25T14:30:40.913461Z"
    }
   },
   "outputs": [
    {
     "name": "stdout",
     "output_type": "stream",
     "text": [
      "<class 'pandas.core.frame.DataFrame'>\n",
      "Int64Index: 64825 entries, 39451 to 307509\n",
      "Data columns (total 10 columns):\n",
      " #   Column               Non-Null Count  Dtype \n",
      "---  ------               --------------  ----- \n",
      " 0   NAME_EDUCATION_TYPE  64825 non-null  object\n",
      " 1   NAME_INCOME_TYPE     64825 non-null  object\n",
      " 2   CODE_GENDER          64825 non-null  object\n",
      " 3   FLAG_OWN_REALTY      64825 non-null  object\n",
      " 4   ORGANIZATION_TYPE    64825 non-null  object\n",
      " 5   NAME_HOUSING_TYPE    64825 non-null  object\n",
      " 6   NAME_FAMILY_STATUS   64825 non-null  object\n",
      " 7   NAME_TYPE_SUITE      64583 non-null  object\n",
      " 8   FLAG_OWN_CAR         64825 non-null  object\n",
      " 9   NAME_CONTRACT_TYPE   64825 non-null  object\n",
      "dtypes: object(10)\n",
      "memory usage: 5.4+ MB\n"
     ]
    }
   ],
   "source": [
    "cats = df2.select_dtypes(include='object')\n",
    "cats.info()"
   ]
  },
  {
   "cell_type": "markdown",
   "metadata": {},
   "source": [
    "## Label Encode or One-Hot Encode Categoricals\n",
    "   * Explore to figure out number of unique values\n",
    "       * If unique values >5, then label encode"
   ]
  },
  {
   "cell_type": "code",
   "execution_count": 61,
   "metadata": {
    "ExecuteTime": {
     "end_time": "2022-03-25T14:30:46.909563Z",
     "start_time": "2022-03-25T14:30:46.891043Z"
    }
   },
   "outputs": [
    {
     "data": {
      "text/plain": [
       "Working                 35570\n",
       "Commercial associate    14616\n",
       "Pensioner               10443\n",
       "State servant            4179\n",
       "Unemployed                 10\n",
       "Student                     4\n",
       "Maternity leave             2\n",
       "Businessman                 1\n",
       "Name: NAME_INCOME_TYPE, dtype: int64"
      ]
     },
     "execution_count": 61,
     "metadata": {},
     "output_type": "execute_result"
    }
   ],
   "source": [
    "cats['NAME_INCOME_TYPE'].value_counts()"
   ]
  },
  {
   "cell_type": "code",
   "execution_count": 62,
   "metadata": {
    "ExecuteTime": {
     "end_time": "2022-03-25T14:30:47.143321Z",
     "start_time": "2022-03-25T14:30:47.121989Z"
    }
   },
   "outputs": [
    {
     "data": {
      "text/plain": [
       "Unaccompanied      52634\n",
       "Family              8204\n",
       "Spouse, partner     2391\n",
       "Children             669\n",
       "Other_B              431\n",
       "Other_A              194\n",
       "Group of people       60\n",
       "Name: NAME_TYPE_SUITE, dtype: int64"
      ]
     },
     "execution_count": 62,
     "metadata": {},
     "output_type": "execute_result"
    }
   ],
   "source": [
    "cats['NAME_TYPE_SUITE'].value_counts()"
   ]
  },
  {
   "cell_type": "code",
   "execution_count": 63,
   "metadata": {
    "ExecuteTime": {
     "end_time": "2022-03-25T14:30:47.402348Z",
     "start_time": "2022-03-25T14:30:47.383732Z"
    }
   },
   "outputs": [
    {
     "data": {
      "text/plain": [
       "N    43493\n",
       "Y    21332\n",
       "Name: FLAG_OWN_CAR, dtype: int64"
      ]
     },
     "execution_count": 63,
     "metadata": {},
     "output_type": "execute_result"
    }
   ],
   "source": [
    "cats['FLAG_OWN_CAR'].value_counts()"
   ]
  },
  {
   "cell_type": "code",
   "execution_count": 64,
   "metadata": {
    "ExecuteTime": {
     "end_time": "2022-03-25T14:30:47.626528Z",
     "start_time": "2022-03-25T14:30:47.600158Z"
    }
   },
   "outputs": [
    {
     "data": {
      "text/plain": [
       "Married                 40564\n",
       "Single / not married    10253\n",
       "Civil marriage           6744\n",
       "Separated                4185\n",
       "Widow                    3078\n",
       "Unknown                     1\n",
       "Name: NAME_FAMILY_STATUS, dtype: int64"
      ]
     },
     "execution_count": 64,
     "metadata": {},
     "output_type": "execute_result"
    }
   ],
   "source": [
    "cats['NAME_FAMILY_STATUS'].value_counts()"
   ]
  },
  {
   "cell_type": "code",
   "execution_count": 65,
   "metadata": {
    "ExecuteTime": {
     "end_time": "2022-03-25T14:30:47.852100Z",
     "start_time": "2022-03-25T14:30:47.833475Z"
    }
   },
   "outputs": [
    {
     "data": {
      "text/plain": [
       "Y    44739\n",
       "N    20086\n",
       "Name: FLAG_OWN_REALTY, dtype: int64"
      ]
     },
     "execution_count": 65,
     "metadata": {},
     "output_type": "execute_result"
    }
   ],
   "source": [
    "cats['FLAG_OWN_REALTY'].value_counts()"
   ]
  },
  {
   "cell_type": "code",
   "execution_count": 66,
   "metadata": {
    "ExecuteTime": {
     "end_time": "2022-03-25T14:30:48.753498Z",
     "start_time": "2022-03-25T14:30:48.728765Z"
    }
   },
   "outputs": [
    {
     "data": {
      "text/plain": [
       "House / apartment      56875\n",
       "With parents            3599\n",
       "Municipal apartment     2370\n",
       "Rented apartment        1239\n",
       "Office apartment         529\n",
       "Co-op apartment          213\n",
       "Name: NAME_HOUSING_TYPE, dtype: int64"
      ]
     },
     "execution_count": 66,
     "metadata": {},
     "output_type": "execute_result"
    }
   ],
   "source": [
    "cats['NAME_HOUSING_TYPE'].value_counts()"
   ]
  },
  {
   "cell_type": "code",
   "execution_count": 67,
   "metadata": {
    "ExecuteTime": {
     "end_time": "2022-03-25T14:30:48.953458Z",
     "start_time": "2022-03-25T14:30:48.935575Z"
    }
   },
   "outputs": [
    {
     "data": {
      "text/plain": [
       "Secondary / secondary special    47616\n",
       "Higher education                 14062\n",
       "Incomplete higher                 2205\n",
       "Lower secondary                    914\n",
       "Academic degree                     28\n",
       "Name: NAME_EDUCATION_TYPE, dtype: int64"
      ]
     },
     "execution_count": 67,
     "metadata": {},
     "output_type": "execute_result"
    }
   ],
   "source": [
    "cats['NAME_EDUCATION_TYPE'].value_counts()"
   ]
  },
  {
   "cell_type": "code",
   "execution_count": 68,
   "metadata": {
    "ExecuteTime": {
     "end_time": "2022-03-25T14:30:49.580101Z",
     "start_time": "2022-03-25T14:30:49.563302Z"
    },
    "scrolled": true
   },
   "outputs": [
    {
     "data": {
      "text/plain": [
       "Cash loans         59367\n",
       "Revolving loans     5458\n",
       "Name: NAME_CONTRACT_TYPE, dtype: int64"
      ]
     },
     "execution_count": 68,
     "metadata": {},
     "output_type": "execute_result"
    }
   ],
   "source": [
    "cats['NAME_CONTRACT_TYPE'].value_counts()"
   ]
  },
  {
   "cell_type": "code",
   "execution_count": 69,
   "metadata": {
    "ExecuteTime": {
     "end_time": "2022-03-25T14:30:49.790611Z",
     "start_time": "2022-03-25T14:30:49.763148Z"
    }
   },
   "outputs": [
    {
     "data": {
      "text/plain": [
       "Business Entity Type 3    15088\n",
       "XNA                       10451\n",
       "Self-employed              8816\n",
       "Other                      3398\n",
       "Business Entity Type 2     2284\n",
       "Medicine                   2190\n",
       "Government                 2085\n",
       "School                     1750\n",
       "Trade: type 7              1726\n",
       "Construction               1601\n",
       "Kindergarten               1396\n",
       "Business Entity Type 1     1257\n",
       "Transport: type 4          1210\n",
       "Trade: type 3               818\n",
       "Industry: type 3            758\n",
       "Security                    744\n",
       "Industry: type 9            672\n",
       "Industry: type 11           631\n",
       "Housing                     599\n",
       "Agriculture                 572\n",
       "Military                    474\n",
       "Bank                        456\n",
       "Transport: type 2           448\n",
       "Postal                      442\n",
       "Restaurant                  439\n",
       "Police                      428\n",
       "Trade: type 2               376\n",
       "Security Ministries         365\n",
       "Transport: type 3           336\n",
       "Services                    306\n",
       "Industry: type 7            264\n",
       "Industry: type 1            239\n",
       "University                  238\n",
       "Industry: type 4            200\n",
       "Hotel                       199\n",
       "Electricity                 181\n",
       "Telecom                     121\n",
       "Industry: type 5            121\n",
       "Insurance                   120\n",
       "Emergency                   109\n",
       "Advertising                 103\n",
       "Realtor                      99\n",
       "Trade: type 6                97\n",
       "Industry: type 2             92\n",
       "Trade: type 1                72\n",
       "Culture                      70\n",
       "Mobile                       70\n",
       "Legal Services               66\n",
       "Industry: type 12            59\n",
       "Cleaning                     57\n",
       "Transport: type 1            38\n",
       "Industry: type 6             19\n",
       "Religion                     17\n",
       "Industry: type 10            16\n",
       "Industry: type 13            14\n",
       "Trade: type 4                13\n",
       "Trade: type 5                10\n",
       "Industry: type 8              5\n",
       "Name: ORGANIZATION_TYPE, dtype: int64"
      ]
     },
     "execution_count": 69,
     "metadata": {},
     "output_type": "execute_result"
    }
   ],
   "source": [
    "cats['ORGANIZATION_TYPE'].value_counts()"
   ]
  },
  {
   "cell_type": "markdown",
   "metadata": {},
   "source": [
    "#### Use label encoding to save space with Organization_Type\n",
    "* Interpreting Organization Type won't be as important as building a predictive model."
   ]
  },
  {
   "cell_type": "code",
   "execution_count": 70,
   "metadata": {
    "ExecuteTime": {
     "end_time": "2022-03-25T14:30:53.420540Z",
     "start_time": "2022-03-25T14:30:53.374342Z"
    }
   },
   "outputs": [
    {
     "data": {
      "text/html": [
       "<div>\n",
       "<style scoped>\n",
       "    .dataframe tbody tr th:only-of-type {\n",
       "        vertical-align: middle;\n",
       "    }\n",
       "\n",
       "    .dataframe tbody tr th {\n",
       "        vertical-align: top;\n",
       "    }\n",
       "\n",
       "    .dataframe thead th {\n",
       "        text-align: right;\n",
       "    }\n",
       "</style>\n",
       "<table border=\"1\" class=\"dataframe\">\n",
       "  <thead>\n",
       "    <tr style=\"text-align: right;\">\n",
       "      <th></th>\n",
       "      <th>NAME_EDUCATION_TYPE</th>\n",
       "      <th>NAME_INCOME_TYPE</th>\n",
       "      <th>CODE_GENDER</th>\n",
       "      <th>FLAG_OWN_REALTY</th>\n",
       "      <th>ORGANIZATION_TYPE</th>\n",
       "      <th>NAME_HOUSING_TYPE</th>\n",
       "      <th>NAME_FAMILY_STATUS</th>\n",
       "      <th>NAME_TYPE_SUITE</th>\n",
       "      <th>FLAG_OWN_CAR</th>\n",
       "      <th>NAME_CONTRACT_TYPE</th>\n",
       "      <th>ORGANIZATION_TYPE_CODE</th>\n",
       "    </tr>\n",
       "  </thead>\n",
       "  <tbody>\n",
       "    <tr>\n",
       "      <th>39451</th>\n",
       "      <td>Secondary / secondary special</td>\n",
       "      <td>Pensioner</td>\n",
       "      <td>F</td>\n",
       "      <td>Y</td>\n",
       "      <td>XNA</td>\n",
       "      <td>House / apartment</td>\n",
       "      <td>Married</td>\n",
       "      <td>Spouse, partner</td>\n",
       "      <td>N</td>\n",
       "      <td>Cash loans</td>\n",
       "      <td>57</td>\n",
       "    </tr>\n",
       "    <tr>\n",
       "      <th>80296</th>\n",
       "      <td>Higher education</td>\n",
       "      <td>Commercial associate</td>\n",
       "      <td>M</td>\n",
       "      <td>Y</td>\n",
       "      <td>Business Entity Type 3</td>\n",
       "      <td>House / apartment</td>\n",
       "      <td>Married</td>\n",
       "      <td>Unaccompanied</td>\n",
       "      <td>N</td>\n",
       "      <td>Cash loans</td>\n",
       "      <td>5</td>\n",
       "    </tr>\n",
       "    <tr>\n",
       "      <th>34978</th>\n",
       "      <td>Secondary / secondary special</td>\n",
       "      <td>State servant</td>\n",
       "      <td>F</td>\n",
       "      <td>Y</td>\n",
       "      <td>School</td>\n",
       "      <td>House / apartment</td>\n",
       "      <td>Married</td>\n",
       "      <td>Family</td>\n",
       "      <td>Y</td>\n",
       "      <td>Cash loans</td>\n",
       "      <td>39</td>\n",
       "    </tr>\n",
       "    <tr>\n",
       "      <th>214576</th>\n",
       "      <td>Secondary / secondary special</td>\n",
       "      <td>Working</td>\n",
       "      <td>M</td>\n",
       "      <td>N</td>\n",
       "      <td>Military</td>\n",
       "      <td>Office apartment</td>\n",
       "      <td>Single / not married</td>\n",
       "      <td>Unaccompanied</td>\n",
       "      <td>N</td>\n",
       "      <td>Cash loans</td>\n",
       "      <td>31</td>\n",
       "    </tr>\n",
       "    <tr>\n",
       "      <th>169952</th>\n",
       "      <td>Secondary / secondary special</td>\n",
       "      <td>Working</td>\n",
       "      <td>M</td>\n",
       "      <td>N</td>\n",
       "      <td>Transport: type 4</td>\n",
       "      <td>Rented apartment</td>\n",
       "      <td>Married</td>\n",
       "      <td>Other_B</td>\n",
       "      <td>Y</td>\n",
       "      <td>Cash loans</td>\n",
       "      <td>55</td>\n",
       "    </tr>\n",
       "  </tbody>\n",
       "</table>\n",
       "</div>"
      ],
      "text/plain": [
       "                  NAME_EDUCATION_TYPE      NAME_INCOME_TYPE CODE_GENDER  \\\n",
       "39451   Secondary / secondary special             Pensioner           F   \n",
       "80296                Higher education  Commercial associate           M   \n",
       "34978   Secondary / secondary special         State servant           F   \n",
       "214576  Secondary / secondary special               Working           M   \n",
       "169952  Secondary / secondary special               Working           M   \n",
       "\n",
       "       FLAG_OWN_REALTY       ORGANIZATION_TYPE  NAME_HOUSING_TYPE  \\\n",
       "39451                Y                     XNA  House / apartment   \n",
       "80296                Y  Business Entity Type 3  House / apartment   \n",
       "34978                Y                  School  House / apartment   \n",
       "214576               N                Military   Office apartment   \n",
       "169952               N       Transport: type 4   Rented apartment   \n",
       "\n",
       "          NAME_FAMILY_STATUS  NAME_TYPE_SUITE FLAG_OWN_CAR NAME_CONTRACT_TYPE  \\\n",
       "39451                Married  Spouse, partner            N         Cash loans   \n",
       "80296                Married    Unaccompanied            N         Cash loans   \n",
       "34978                Married           Family            Y         Cash loans   \n",
       "214576  Single / not married    Unaccompanied            N         Cash loans   \n",
       "169952               Married          Other_B            Y         Cash loans   \n",
       "\n",
       "        ORGANIZATION_TYPE_CODE  \n",
       "39451                       57  \n",
       "80296                        5  \n",
       "34978                       39  \n",
       "214576                      31  \n",
       "169952                      55  "
      ]
     },
     "execution_count": 70,
     "metadata": {},
     "output_type": "execute_result"
    }
   ],
   "source": [
    "# Instantiate LabelEncoder\n",
    "label_encoder = LabelEncoder()\n",
    "\n",
    "# create new row for Organization_type with label encoder\n",
    "cats['ORGANIZATION_TYPE_CODE'] = label_encoder.fit_transform(cats['ORGANIZATION_TYPE'])\n",
    "\n",
    "cats.head()"
   ]
  },
  {
   "cell_type": "code",
   "execution_count": 71,
   "metadata": {
    "ExecuteTime": {
     "end_time": "2022-03-25T14:30:56.214842Z",
     "start_time": "2022-03-25T14:30:56.186641Z"
    }
   },
   "outputs": [
    {
     "data": {
      "text/html": [
       "<div>\n",
       "<style scoped>\n",
       "    .dataframe tbody tr th:only-of-type {\n",
       "        vertical-align: middle;\n",
       "    }\n",
       "\n",
       "    .dataframe tbody tr th {\n",
       "        vertical-align: top;\n",
       "    }\n",
       "\n",
       "    .dataframe thead th {\n",
       "        text-align: right;\n",
       "    }\n",
       "</style>\n",
       "<table border=\"1\" class=\"dataframe\">\n",
       "  <thead>\n",
       "    <tr style=\"text-align: right;\">\n",
       "      <th></th>\n",
       "      <th>NAME_EDUCATION_TYPE</th>\n",
       "      <th>NAME_INCOME_TYPE</th>\n",
       "      <th>CODE_GENDER</th>\n",
       "      <th>FLAG_OWN_REALTY</th>\n",
       "      <th>NAME_HOUSING_TYPE</th>\n",
       "      <th>NAME_FAMILY_STATUS</th>\n",
       "      <th>NAME_TYPE_SUITE</th>\n",
       "      <th>FLAG_OWN_CAR</th>\n",
       "      <th>NAME_CONTRACT_TYPE</th>\n",
       "      <th>ORGANIZATION_TYPE_CODE</th>\n",
       "    </tr>\n",
       "  </thead>\n",
       "  <tbody>\n",
       "    <tr>\n",
       "      <th>39451</th>\n",
       "      <td>Secondary / secondary special</td>\n",
       "      <td>Pensioner</td>\n",
       "      <td>F</td>\n",
       "      <td>Y</td>\n",
       "      <td>House / apartment</td>\n",
       "      <td>Married</td>\n",
       "      <td>Spouse, partner</td>\n",
       "      <td>N</td>\n",
       "      <td>Cash loans</td>\n",
       "      <td>57</td>\n",
       "    </tr>\n",
       "    <tr>\n",
       "      <th>80296</th>\n",
       "      <td>Higher education</td>\n",
       "      <td>Commercial associate</td>\n",
       "      <td>M</td>\n",
       "      <td>Y</td>\n",
       "      <td>House / apartment</td>\n",
       "      <td>Married</td>\n",
       "      <td>Unaccompanied</td>\n",
       "      <td>N</td>\n",
       "      <td>Cash loans</td>\n",
       "      <td>5</td>\n",
       "    </tr>\n",
       "    <tr>\n",
       "      <th>34978</th>\n",
       "      <td>Secondary / secondary special</td>\n",
       "      <td>State servant</td>\n",
       "      <td>F</td>\n",
       "      <td>Y</td>\n",
       "      <td>House / apartment</td>\n",
       "      <td>Married</td>\n",
       "      <td>Family</td>\n",
       "      <td>Y</td>\n",
       "      <td>Cash loans</td>\n",
       "      <td>39</td>\n",
       "    </tr>\n",
       "    <tr>\n",
       "      <th>214576</th>\n",
       "      <td>Secondary / secondary special</td>\n",
       "      <td>Working</td>\n",
       "      <td>M</td>\n",
       "      <td>N</td>\n",
       "      <td>Office apartment</td>\n",
       "      <td>Single / not married</td>\n",
       "      <td>Unaccompanied</td>\n",
       "      <td>N</td>\n",
       "      <td>Cash loans</td>\n",
       "      <td>31</td>\n",
       "    </tr>\n",
       "    <tr>\n",
       "      <th>169952</th>\n",
       "      <td>Secondary / secondary special</td>\n",
       "      <td>Working</td>\n",
       "      <td>M</td>\n",
       "      <td>N</td>\n",
       "      <td>Rented apartment</td>\n",
       "      <td>Married</td>\n",
       "      <td>Other_B</td>\n",
       "      <td>Y</td>\n",
       "      <td>Cash loans</td>\n",
       "      <td>55</td>\n",
       "    </tr>\n",
       "  </tbody>\n",
       "</table>\n",
       "</div>"
      ],
      "text/plain": [
       "                  NAME_EDUCATION_TYPE      NAME_INCOME_TYPE CODE_GENDER  \\\n",
       "39451   Secondary / secondary special             Pensioner           F   \n",
       "80296                Higher education  Commercial associate           M   \n",
       "34978   Secondary / secondary special         State servant           F   \n",
       "214576  Secondary / secondary special               Working           M   \n",
       "169952  Secondary / secondary special               Working           M   \n",
       "\n",
       "       FLAG_OWN_REALTY  NAME_HOUSING_TYPE    NAME_FAMILY_STATUS  \\\n",
       "39451                Y  House / apartment               Married   \n",
       "80296                Y  House / apartment               Married   \n",
       "34978                Y  House / apartment               Married   \n",
       "214576               N   Office apartment  Single / not married   \n",
       "169952               N   Rented apartment               Married   \n",
       "\n",
       "        NAME_TYPE_SUITE FLAG_OWN_CAR NAME_CONTRACT_TYPE  \\\n",
       "39451   Spouse, partner            N         Cash loans   \n",
       "80296     Unaccompanied            N         Cash loans   \n",
       "34978            Family            Y         Cash loans   \n",
       "214576    Unaccompanied            N         Cash loans   \n",
       "169952          Other_B            Y         Cash loans   \n",
       "\n",
       "        ORGANIZATION_TYPE_CODE  \n",
       "39451                       57  \n",
       "80296                        5  \n",
       "34978                       39  \n",
       "214576                      31  \n",
       "169952                      55  "
      ]
     },
     "execution_count": 71,
     "metadata": {},
     "output_type": "execute_result"
    }
   ],
   "source": [
    "# drop Organization_Type column\n",
    "cats = cats.drop('ORGANIZATION_TYPE', axis=1)\n",
    "\n",
    "cats.head()"
   ]
  },
  {
   "cell_type": "markdown",
   "metadata": {},
   "source": [
    "#### One Hot Encode Categoricals"
   ]
  },
  {
   "cell_type": "code",
   "execution_count": 72,
   "metadata": {
    "ExecuteTime": {
     "end_time": "2022-03-25T14:30:58.068049Z",
     "start_time": "2022-03-25T14:30:58.037837Z"
    }
   },
   "outputs": [
    {
     "data": {
      "text/html": [
       "<div>\n",
       "<style scoped>\n",
       "    .dataframe tbody tr th:only-of-type {\n",
       "        vertical-align: middle;\n",
       "    }\n",
       "\n",
       "    .dataframe tbody tr th {\n",
       "        vertical-align: top;\n",
       "    }\n",
       "\n",
       "    .dataframe thead th {\n",
       "        text-align: right;\n",
       "    }\n",
       "</style>\n",
       "<table border=\"1\" class=\"dataframe\">\n",
       "  <thead>\n",
       "    <tr style=\"text-align: right;\">\n",
       "      <th></th>\n",
       "      <th>NAME_EDUCATION_TYPE</th>\n",
       "      <th>NAME_INCOME_TYPE</th>\n",
       "      <th>CODE_GENDER</th>\n",
       "      <th>FLAG_OWN_REALTY</th>\n",
       "      <th>NAME_HOUSING_TYPE</th>\n",
       "      <th>NAME_FAMILY_STATUS</th>\n",
       "      <th>NAME_TYPE_SUITE</th>\n",
       "      <th>FLAG_OWN_CAR</th>\n",
       "      <th>NAME_CONTRACT_TYPE</th>\n",
       "    </tr>\n",
       "  </thead>\n",
       "  <tbody>\n",
       "    <tr>\n",
       "      <th>39451</th>\n",
       "      <td>Secondary / secondary special</td>\n",
       "      <td>Pensioner</td>\n",
       "      <td>F</td>\n",
       "      <td>Y</td>\n",
       "      <td>House / apartment</td>\n",
       "      <td>Married</td>\n",
       "      <td>Spouse, partner</td>\n",
       "      <td>N</td>\n",
       "      <td>Cash loans</td>\n",
       "    </tr>\n",
       "    <tr>\n",
       "      <th>80296</th>\n",
       "      <td>Higher education</td>\n",
       "      <td>Commercial associate</td>\n",
       "      <td>M</td>\n",
       "      <td>Y</td>\n",
       "      <td>House / apartment</td>\n",
       "      <td>Married</td>\n",
       "      <td>Unaccompanied</td>\n",
       "      <td>N</td>\n",
       "      <td>Cash loans</td>\n",
       "    </tr>\n",
       "    <tr>\n",
       "      <th>34978</th>\n",
       "      <td>Secondary / secondary special</td>\n",
       "      <td>State servant</td>\n",
       "      <td>F</td>\n",
       "      <td>Y</td>\n",
       "      <td>House / apartment</td>\n",
       "      <td>Married</td>\n",
       "      <td>Family</td>\n",
       "      <td>Y</td>\n",
       "      <td>Cash loans</td>\n",
       "    </tr>\n",
       "    <tr>\n",
       "      <th>214576</th>\n",
       "      <td>Secondary / secondary special</td>\n",
       "      <td>Working</td>\n",
       "      <td>M</td>\n",
       "      <td>N</td>\n",
       "      <td>Office apartment</td>\n",
       "      <td>Single / not married</td>\n",
       "      <td>Unaccompanied</td>\n",
       "      <td>N</td>\n",
       "      <td>Cash loans</td>\n",
       "    </tr>\n",
       "    <tr>\n",
       "      <th>169952</th>\n",
       "      <td>Secondary / secondary special</td>\n",
       "      <td>Working</td>\n",
       "      <td>M</td>\n",
       "      <td>N</td>\n",
       "      <td>Rented apartment</td>\n",
       "      <td>Married</td>\n",
       "      <td>Other_B</td>\n",
       "      <td>Y</td>\n",
       "      <td>Cash loans</td>\n",
       "    </tr>\n",
       "  </tbody>\n",
       "</table>\n",
       "</div>"
      ],
      "text/plain": [
       "                  NAME_EDUCATION_TYPE      NAME_INCOME_TYPE CODE_GENDER  \\\n",
       "39451   Secondary / secondary special             Pensioner           F   \n",
       "80296                Higher education  Commercial associate           M   \n",
       "34978   Secondary / secondary special         State servant           F   \n",
       "214576  Secondary / secondary special               Working           M   \n",
       "169952  Secondary / secondary special               Working           M   \n",
       "\n",
       "       FLAG_OWN_REALTY  NAME_HOUSING_TYPE    NAME_FAMILY_STATUS  \\\n",
       "39451                Y  House / apartment               Married   \n",
       "80296                Y  House / apartment               Married   \n",
       "34978                Y  House / apartment               Married   \n",
       "214576               N   Office apartment  Single / not married   \n",
       "169952               N   Rented apartment               Married   \n",
       "\n",
       "        NAME_TYPE_SUITE FLAG_OWN_CAR NAME_CONTRACT_TYPE  \n",
       "39451   Spouse, partner            N         Cash loans  \n",
       "80296     Unaccompanied            N         Cash loans  \n",
       "34978            Family            Y         Cash loans  \n",
       "214576    Unaccompanied            N         Cash loans  \n",
       "169952          Other_B            Y         Cash loans  "
      ]
     },
     "execution_count": 72,
     "metadata": {},
     "output_type": "execute_result"
    }
   ],
   "source": [
    "# Separate Label Encoded Column\n",
    "label_encoded = cats['ORGANIZATION_TYPE_CODE']\n",
    "\n",
    "cats = cats.drop('ORGANIZATION_TYPE_CODE', axis=1)\n",
    "\n",
    "cats.head()"
   ]
  },
  {
   "cell_type": "code",
   "execution_count": 73,
   "metadata": {
    "ExecuteTime": {
     "end_time": "2022-03-25T14:31:00.363467Z",
     "start_time": "2022-03-25T14:31:00.214795Z"
    }
   },
   "outputs": [
    {
     "data": {
      "text/html": [
       "<div>\n",
       "<style scoped>\n",
       "    .dataframe tbody tr th:only-of-type {\n",
       "        vertical-align: middle;\n",
       "    }\n",
       "\n",
       "    .dataframe tbody tr th {\n",
       "        vertical-align: top;\n",
       "    }\n",
       "\n",
       "    .dataframe thead th {\n",
       "        text-align: right;\n",
       "    }\n",
       "</style>\n",
       "<table border=\"1\" class=\"dataframe\">\n",
       "  <thead>\n",
       "    <tr style=\"text-align: right;\">\n",
       "      <th></th>\n",
       "      <th>NAME_EDUCATION_TYPE_Higher education</th>\n",
       "      <th>NAME_EDUCATION_TYPE_Incomplete higher</th>\n",
       "      <th>NAME_EDUCATION_TYPE_Lower secondary</th>\n",
       "      <th>NAME_EDUCATION_TYPE_Secondary / secondary special</th>\n",
       "      <th>NAME_INCOME_TYPE_Commercial associate</th>\n",
       "      <th>NAME_INCOME_TYPE_Maternity leave</th>\n",
       "      <th>NAME_INCOME_TYPE_Pensioner</th>\n",
       "      <th>NAME_INCOME_TYPE_State servant</th>\n",
       "      <th>NAME_INCOME_TYPE_Student</th>\n",
       "      <th>NAME_INCOME_TYPE_Unemployed</th>\n",
       "      <th>...</th>\n",
       "      <th>NAME_FAMILY_STATUS_Unknown</th>\n",
       "      <th>NAME_FAMILY_STATUS_Widow</th>\n",
       "      <th>NAME_TYPE_SUITE_Family</th>\n",
       "      <th>NAME_TYPE_SUITE_Group of people</th>\n",
       "      <th>NAME_TYPE_SUITE_Other_A</th>\n",
       "      <th>NAME_TYPE_SUITE_Other_B</th>\n",
       "      <th>NAME_TYPE_SUITE_Spouse, partner</th>\n",
       "      <th>NAME_TYPE_SUITE_Unaccompanied</th>\n",
       "      <th>FLAG_OWN_CAR_Y</th>\n",
       "      <th>NAME_CONTRACT_TYPE_Revolving loans</th>\n",
       "    </tr>\n",
       "  </thead>\n",
       "  <tbody>\n",
       "    <tr>\n",
       "      <th>39451</th>\n",
       "      <td>0</td>\n",
       "      <td>0</td>\n",
       "      <td>0</td>\n",
       "      <td>1</td>\n",
       "      <td>0</td>\n",
       "      <td>0</td>\n",
       "      <td>1</td>\n",
       "      <td>0</td>\n",
       "      <td>0</td>\n",
       "      <td>0</td>\n",
       "      <td>...</td>\n",
       "      <td>0</td>\n",
       "      <td>0</td>\n",
       "      <td>0</td>\n",
       "      <td>0</td>\n",
       "      <td>0</td>\n",
       "      <td>0</td>\n",
       "      <td>1</td>\n",
       "      <td>0</td>\n",
       "      <td>0</td>\n",
       "      <td>0</td>\n",
       "    </tr>\n",
       "    <tr>\n",
       "      <th>80296</th>\n",
       "      <td>1</td>\n",
       "      <td>0</td>\n",
       "      <td>0</td>\n",
       "      <td>0</td>\n",
       "      <td>1</td>\n",
       "      <td>0</td>\n",
       "      <td>0</td>\n",
       "      <td>0</td>\n",
       "      <td>0</td>\n",
       "      <td>0</td>\n",
       "      <td>...</td>\n",
       "      <td>0</td>\n",
       "      <td>0</td>\n",
       "      <td>0</td>\n",
       "      <td>0</td>\n",
       "      <td>0</td>\n",
       "      <td>0</td>\n",
       "      <td>0</td>\n",
       "      <td>1</td>\n",
       "      <td>0</td>\n",
       "      <td>0</td>\n",
       "    </tr>\n",
       "    <tr>\n",
       "      <th>34978</th>\n",
       "      <td>0</td>\n",
       "      <td>0</td>\n",
       "      <td>0</td>\n",
       "      <td>1</td>\n",
       "      <td>0</td>\n",
       "      <td>0</td>\n",
       "      <td>0</td>\n",
       "      <td>1</td>\n",
       "      <td>0</td>\n",
       "      <td>0</td>\n",
       "      <td>...</td>\n",
       "      <td>0</td>\n",
       "      <td>0</td>\n",
       "      <td>1</td>\n",
       "      <td>0</td>\n",
       "      <td>0</td>\n",
       "      <td>0</td>\n",
       "      <td>0</td>\n",
       "      <td>0</td>\n",
       "      <td>1</td>\n",
       "      <td>0</td>\n",
       "    </tr>\n",
       "    <tr>\n",
       "      <th>214576</th>\n",
       "      <td>0</td>\n",
       "      <td>0</td>\n",
       "      <td>0</td>\n",
       "      <td>1</td>\n",
       "      <td>0</td>\n",
       "      <td>0</td>\n",
       "      <td>0</td>\n",
       "      <td>0</td>\n",
       "      <td>0</td>\n",
       "      <td>0</td>\n",
       "      <td>...</td>\n",
       "      <td>0</td>\n",
       "      <td>0</td>\n",
       "      <td>0</td>\n",
       "      <td>0</td>\n",
       "      <td>0</td>\n",
       "      <td>0</td>\n",
       "      <td>0</td>\n",
       "      <td>1</td>\n",
       "      <td>0</td>\n",
       "      <td>0</td>\n",
       "    </tr>\n",
       "    <tr>\n",
       "      <th>169952</th>\n",
       "      <td>0</td>\n",
       "      <td>0</td>\n",
       "      <td>0</td>\n",
       "      <td>1</td>\n",
       "      <td>0</td>\n",
       "      <td>0</td>\n",
       "      <td>0</td>\n",
       "      <td>0</td>\n",
       "      <td>0</td>\n",
       "      <td>0</td>\n",
       "      <td>...</td>\n",
       "      <td>0</td>\n",
       "      <td>0</td>\n",
       "      <td>0</td>\n",
       "      <td>0</td>\n",
       "      <td>0</td>\n",
       "      <td>1</td>\n",
       "      <td>0</td>\n",
       "      <td>0</td>\n",
       "      <td>1</td>\n",
       "      <td>0</td>\n",
       "    </tr>\n",
       "  </tbody>\n",
       "</table>\n",
       "<p>5 rows × 31 columns</p>\n",
       "</div>"
      ],
      "text/plain": [
       "        NAME_EDUCATION_TYPE_Higher education  \\\n",
       "39451                                      0   \n",
       "80296                                      1   \n",
       "34978                                      0   \n",
       "214576                                     0   \n",
       "169952                                     0   \n",
       "\n",
       "        NAME_EDUCATION_TYPE_Incomplete higher  \\\n",
       "39451                                       0   \n",
       "80296                                       0   \n",
       "34978                                       0   \n",
       "214576                                      0   \n",
       "169952                                      0   \n",
       "\n",
       "        NAME_EDUCATION_TYPE_Lower secondary  \\\n",
       "39451                                     0   \n",
       "80296                                     0   \n",
       "34978                                     0   \n",
       "214576                                    0   \n",
       "169952                                    0   \n",
       "\n",
       "        NAME_EDUCATION_TYPE_Secondary / secondary special  \\\n",
       "39451                                                   1   \n",
       "80296                                                   0   \n",
       "34978                                                   1   \n",
       "214576                                                  1   \n",
       "169952                                                  1   \n",
       "\n",
       "        NAME_INCOME_TYPE_Commercial associate  \\\n",
       "39451                                       0   \n",
       "80296                                       1   \n",
       "34978                                       0   \n",
       "214576                                      0   \n",
       "169952                                      0   \n",
       "\n",
       "        NAME_INCOME_TYPE_Maternity leave  NAME_INCOME_TYPE_Pensioner  \\\n",
       "39451                                  0                           1   \n",
       "80296                                  0                           0   \n",
       "34978                                  0                           0   \n",
       "214576                                 0                           0   \n",
       "169952                                 0                           0   \n",
       "\n",
       "        NAME_INCOME_TYPE_State servant  NAME_INCOME_TYPE_Student  \\\n",
       "39451                                0                         0   \n",
       "80296                                0                         0   \n",
       "34978                                1                         0   \n",
       "214576                               0                         0   \n",
       "169952                               0                         0   \n",
       "\n",
       "        NAME_INCOME_TYPE_Unemployed  ...  NAME_FAMILY_STATUS_Unknown  \\\n",
       "39451                             0  ...                           0   \n",
       "80296                             0  ...                           0   \n",
       "34978                             0  ...                           0   \n",
       "214576                            0  ...                           0   \n",
       "169952                            0  ...                           0   \n",
       "\n",
       "        NAME_FAMILY_STATUS_Widow  NAME_TYPE_SUITE_Family  \\\n",
       "39451                          0                       0   \n",
       "80296                          0                       0   \n",
       "34978                          0                       1   \n",
       "214576                         0                       0   \n",
       "169952                         0                       0   \n",
       "\n",
       "        NAME_TYPE_SUITE_Group of people  NAME_TYPE_SUITE_Other_A  \\\n",
       "39451                                 0                        0   \n",
       "80296                                 0                        0   \n",
       "34978                                 0                        0   \n",
       "214576                                0                        0   \n",
       "169952                                0                        0   \n",
       "\n",
       "        NAME_TYPE_SUITE_Other_B  NAME_TYPE_SUITE_Spouse, partner  \\\n",
       "39451                         0                                1   \n",
       "80296                         0                                0   \n",
       "34978                         0                                0   \n",
       "214576                        0                                0   \n",
       "169952                        1                                0   \n",
       "\n",
       "        NAME_TYPE_SUITE_Unaccompanied  FLAG_OWN_CAR_Y  \\\n",
       "39451                               0               0   \n",
       "80296                               1               0   \n",
       "34978                               0               1   \n",
       "214576                              1               0   \n",
       "169952                              0               1   \n",
       "\n",
       "        NAME_CONTRACT_TYPE_Revolving loans  \n",
       "39451                                    0  \n",
       "80296                                    0  \n",
       "34978                                    0  \n",
       "214576                                   0  \n",
       "169952                                   0  \n",
       "\n",
       "[5 rows x 31 columns]"
      ]
     },
     "execution_count": 73,
     "metadata": {},
     "output_type": "execute_result"
    }
   ],
   "source": [
    "# copy categoricals\n",
    "cat_dummies = cats.copy()\n",
    "\n",
    "# get dummies for categoricals from cat_dummies\n",
    "cat_dummies = pd.get_dummies(cat_dummies, drop_first=True)\n",
    "\n",
    "cat_dummies.head()"
   ]
  },
  {
   "cell_type": "code",
   "execution_count": 74,
   "metadata": {
    "ExecuteTime": {
     "end_time": "2022-03-25T14:31:02.180070Z",
     "start_time": "2022-03-25T14:31:02.174825Z"
    },
    "scrolled": true
   },
   "outputs": [
    {
     "name": "stdout",
     "output_type": "stream",
     "text": [
      "(64825, 31)\n"
     ]
    }
   ],
   "source": [
    "# print shape - column, row attributes\n",
    "print(cat_dummies.shape)"
   ]
  },
  {
   "cell_type": "code",
   "execution_count": 75,
   "metadata": {
    "ExecuteTime": {
     "end_time": "2022-03-25T14:31:05.242906Z",
     "start_time": "2022-03-25T14:31:05.239392Z"
    }
   },
   "outputs": [],
   "source": [
    "# replace with mode for categorical variables\n",
    "# df5['NAME_TYPE_SUITE'].fillna(df5['NAME_TYPE_SUITE'].mode()[0], inplace=True)\n",
    "# print('NAME_TYPE_SUITE:', df5['NAME_TYPE_SUITE'].describe())\n",
    "# print()\n"
   ]
  },
  {
   "cell_type": "markdown",
   "metadata": {},
   "source": [
    "## Remove Outliers"
   ]
  },
  {
   "cell_type": "code",
   "execution_count": 76,
   "metadata": {
    "ExecuteTime": {
     "end_time": "2022-03-25T14:31:12.437588Z",
     "start_time": "2022-03-25T14:31:12.382532Z"
    },
    "scrolled": true
   },
   "outputs": [
    {
     "data": {
      "text/html": [
       "<div>\n",
       "<style scoped>\n",
       "    .dataframe tbody tr th:only-of-type {\n",
       "        vertical-align: middle;\n",
       "    }\n",
       "\n",
       "    .dataframe tbody tr th {\n",
       "        vertical-align: top;\n",
       "    }\n",
       "\n",
       "    .dataframe thead th {\n",
       "        text-align: right;\n",
       "    }\n",
       "</style>\n",
       "<table border=\"1\" class=\"dataframe\">\n",
       "  <thead>\n",
       "    <tr style=\"text-align: right;\">\n",
       "      <th></th>\n",
       "      <th>TARGET</th>\n",
       "      <th>CNT_CHILDREN</th>\n",
       "      <th>AMT_INCOME_TOTAL</th>\n",
       "      <th>AMT_CREDIT</th>\n",
       "      <th>AMT_ANNUITY</th>\n",
       "      <th>DAYS_EMPLOYED</th>\n",
       "      <th>CNT_FAM_MEMBERS</th>\n",
       "      <th>DAYS_BIRTH</th>\n",
       "      <th>AMT_GOODS_PRICE</th>\n",
       "      <th>REGION_RATING_CLIENT</th>\n",
       "      <th>...</th>\n",
       "      <th>NAME_FAMILY_STATUS_Widow</th>\n",
       "      <th>NAME_TYPE_SUITE_Family</th>\n",
       "      <th>NAME_TYPE_SUITE_Group of people</th>\n",
       "      <th>NAME_TYPE_SUITE_Other_A</th>\n",
       "      <th>NAME_TYPE_SUITE_Other_B</th>\n",
       "      <th>NAME_TYPE_SUITE_Spouse, partner</th>\n",
       "      <th>NAME_TYPE_SUITE_Unaccompanied</th>\n",
       "      <th>FLAG_OWN_CAR_Y</th>\n",
       "      <th>NAME_CONTRACT_TYPE_Revolving loans</th>\n",
       "      <th>ORGANIZATION_TYPE_CODE</th>\n",
       "    </tr>\n",
       "  </thead>\n",
       "  <tbody>\n",
       "    <tr>\n",
       "      <th>39451</th>\n",
       "      <td>0</td>\n",
       "      <td>0</td>\n",
       "      <td>270000.0</td>\n",
       "      <td>573408.0</td>\n",
       "      <td>29407.5</td>\n",
       "      <td>365243</td>\n",
       "      <td>2.0</td>\n",
       "      <td>-21939</td>\n",
       "      <td>495000.0</td>\n",
       "      <td>1</td>\n",
       "      <td>...</td>\n",
       "      <td>0</td>\n",
       "      <td>0</td>\n",
       "      <td>0</td>\n",
       "      <td>0</td>\n",
       "      <td>0</td>\n",
       "      <td>1</td>\n",
       "      <td>0</td>\n",
       "      <td>0</td>\n",
       "      <td>0</td>\n",
       "      <td>57</td>\n",
       "    </tr>\n",
       "    <tr>\n",
       "      <th>80296</th>\n",
       "      <td>0</td>\n",
       "      <td>1</td>\n",
       "      <td>90000.0</td>\n",
       "      <td>225000.0</td>\n",
       "      <td>10039.5</td>\n",
       "      <td>-213</td>\n",
       "      <td>3.0</td>\n",
       "      <td>-10613</td>\n",
       "      <td>225000.0</td>\n",
       "      <td>2</td>\n",
       "      <td>...</td>\n",
       "      <td>0</td>\n",
       "      <td>0</td>\n",
       "      <td>0</td>\n",
       "      <td>0</td>\n",
       "      <td>0</td>\n",
       "      <td>0</td>\n",
       "      <td>1</td>\n",
       "      <td>0</td>\n",
       "      <td>0</td>\n",
       "      <td>5</td>\n",
       "    </tr>\n",
       "    <tr>\n",
       "      <th>34978</th>\n",
       "      <td>0</td>\n",
       "      <td>1</td>\n",
       "      <td>180000.0</td>\n",
       "      <td>715095.0</td>\n",
       "      <td>48109.5</td>\n",
       "      <td>-6642</td>\n",
       "      <td>3.0</td>\n",
       "      <td>-17505</td>\n",
       "      <td>675000.0</td>\n",
       "      <td>2</td>\n",
       "      <td>...</td>\n",
       "      <td>0</td>\n",
       "      <td>1</td>\n",
       "      <td>0</td>\n",
       "      <td>0</td>\n",
       "      <td>0</td>\n",
       "      <td>0</td>\n",
       "      <td>0</td>\n",
       "      <td>1</td>\n",
       "      <td>0</td>\n",
       "      <td>39</td>\n",
       "    </tr>\n",
       "    <tr>\n",
       "      <th>214576</th>\n",
       "      <td>0</td>\n",
       "      <td>0</td>\n",
       "      <td>247500.0</td>\n",
       "      <td>765000.0</td>\n",
       "      <td>22365.0</td>\n",
       "      <td>-3342</td>\n",
       "      <td>1.0</td>\n",
       "      <td>-13780</td>\n",
       "      <td>765000.0</td>\n",
       "      <td>2</td>\n",
       "      <td>...</td>\n",
       "      <td>0</td>\n",
       "      <td>0</td>\n",
       "      <td>0</td>\n",
       "      <td>0</td>\n",
       "      <td>0</td>\n",
       "      <td>0</td>\n",
       "      <td>1</td>\n",
       "      <td>0</td>\n",
       "      <td>0</td>\n",
       "      <td>31</td>\n",
       "    </tr>\n",
       "    <tr>\n",
       "      <th>169952</th>\n",
       "      <td>0</td>\n",
       "      <td>0</td>\n",
       "      <td>202500.0</td>\n",
       "      <td>528633.0</td>\n",
       "      <td>38817.0</td>\n",
       "      <td>-2551</td>\n",
       "      <td>2.0</td>\n",
       "      <td>-16880</td>\n",
       "      <td>472500.0</td>\n",
       "      <td>3</td>\n",
       "      <td>...</td>\n",
       "      <td>0</td>\n",
       "      <td>0</td>\n",
       "      <td>0</td>\n",
       "      <td>0</td>\n",
       "      <td>1</td>\n",
       "      <td>0</td>\n",
       "      <td>0</td>\n",
       "      <td>1</td>\n",
       "      <td>0</td>\n",
       "      <td>55</td>\n",
       "    </tr>\n",
       "  </tbody>\n",
       "</table>\n",
       "<p>5 rows × 62 columns</p>\n",
       "</div>"
      ],
      "text/plain": [
       "        TARGET  CNT_CHILDREN  AMT_INCOME_TOTAL  AMT_CREDIT  AMT_ANNUITY  \\\n",
       "39451        0             0          270000.0    573408.0      29407.5   \n",
       "80296        0             1           90000.0    225000.0      10039.5   \n",
       "34978        0             1          180000.0    715095.0      48109.5   \n",
       "214576       0             0          247500.0    765000.0      22365.0   \n",
       "169952       0             0          202500.0    528633.0      38817.0   \n",
       "\n",
       "        DAYS_EMPLOYED  CNT_FAM_MEMBERS  DAYS_BIRTH  AMT_GOODS_PRICE  \\\n",
       "39451          365243              2.0      -21939         495000.0   \n",
       "80296            -213              3.0      -10613         225000.0   \n",
       "34978           -6642              3.0      -17505         675000.0   \n",
       "214576          -3342              1.0      -13780         765000.0   \n",
       "169952          -2551              2.0      -16880         472500.0   \n",
       "\n",
       "        REGION_RATING_CLIENT  ...  NAME_FAMILY_STATUS_Widow  \\\n",
       "39451                      1  ...                         0   \n",
       "80296                      2  ...                         0   \n",
       "34978                      2  ...                         0   \n",
       "214576                     2  ...                         0   \n",
       "169952                     3  ...                         0   \n",
       "\n",
       "        NAME_TYPE_SUITE_Family  NAME_TYPE_SUITE_Group of people  \\\n",
       "39451                        0                                0   \n",
       "80296                        0                                0   \n",
       "34978                        1                                0   \n",
       "214576                       0                                0   \n",
       "169952                       0                                0   \n",
       "\n",
       "        NAME_TYPE_SUITE_Other_A  NAME_TYPE_SUITE_Other_B  \\\n",
       "39451                         0                        0   \n",
       "80296                         0                        0   \n",
       "34978                         0                        0   \n",
       "214576                        0                        0   \n",
       "169952                        0                        1   \n",
       "\n",
       "        NAME_TYPE_SUITE_Spouse, partner  NAME_TYPE_SUITE_Unaccompanied  \\\n",
       "39451                                 1                              0   \n",
       "80296                                 0                              1   \n",
       "34978                                 0                              0   \n",
       "214576                                0                              1   \n",
       "169952                                0                              0   \n",
       "\n",
       "        FLAG_OWN_CAR_Y  NAME_CONTRACT_TYPE_Revolving loans  \\\n",
       "39451                0                                   0   \n",
       "80296                0                                   0   \n",
       "34978                1                                   0   \n",
       "214576               0                                   0   \n",
       "169952               1                                   0   \n",
       "\n",
       "        ORGANIZATION_TYPE_CODE  \n",
       "39451                       57  \n",
       "80296                        5  \n",
       "34978                       39  \n",
       "214576                      31  \n",
       "169952                      55  \n",
       "\n",
       "[5 rows x 62 columns]"
      ]
     },
     "execution_count": 76,
     "metadata": {},
     "output_type": "execute_result"
    }
   ],
   "source": [
    "# concatenate cat_dummies and numericals\n",
    "\n",
    "df3 = pd.concat([num, \n",
    "                 cat_dummies,\n",
    "                label_encoded], axis=1)\n",
    "df3.head()"
   ]
  },
  {
   "cell_type": "code",
   "execution_count": 77,
   "metadata": {
    "ExecuteTime": {
     "end_time": "2022-03-25T14:31:19.144552Z",
     "start_time": "2022-03-25T14:31:19.119991Z"
    }
   },
   "outputs": [
    {
     "data": {
      "text/plain": [
       "TARGET                                0\n",
       "CNT_CHILDREN                          0\n",
       "AMT_INCOME_TOTAL                      0\n",
       "AMT_CREDIT                            0\n",
       "AMT_ANNUITY                           0\n",
       "                                     ..\n",
       "NAME_TYPE_SUITE_Spouse, partner       0\n",
       "NAME_TYPE_SUITE_Unaccompanied         0\n",
       "FLAG_OWN_CAR_Y                        0\n",
       "NAME_CONTRACT_TYPE_Revolving loans    0\n",
       "ORGANIZATION_TYPE_CODE                0\n",
       "Length: 62, dtype: int64"
      ]
     },
     "execution_count": 77,
     "metadata": {},
     "output_type": "execute_result"
    }
   ],
   "source": [
    "df3.isnull().sum()"
   ]
  },
  {
   "cell_type": "code",
   "execution_count": 78,
   "metadata": {
    "ExecuteTime": {
     "end_time": "2022-03-25T14:31:22.380381Z",
     "start_time": "2022-03-25T14:31:22.306604Z"
    },
    "scrolled": false
   },
   "outputs": [
    {
     "name": "stdout",
     "output_type": "stream",
     "text": [
      "<class 'pandas.core.frame.DataFrame'>\n",
      "Int64Index: 64825 entries, 39451 to 307509\n",
      "Data columns (total 62 columns):\n",
      " #   Column                                             Non-Null Count  Dtype  \n",
      "---  ------                                             --------------  -----  \n",
      " 0   TARGET                                             64825 non-null  int64  \n",
      " 1   CNT_CHILDREN                                       64825 non-null  int64  \n",
      " 2   AMT_INCOME_TOTAL                                   64825 non-null  float64\n",
      " 3   AMT_CREDIT                                         64825 non-null  float64\n",
      " 4   AMT_ANNUITY                                        64825 non-null  float64\n",
      " 5   DAYS_EMPLOYED                                      64825 non-null  int64  \n",
      " 6   CNT_FAM_MEMBERS                                    64825 non-null  float64\n",
      " 7   DAYS_BIRTH                                         64825 non-null  int64  \n",
      " 8   AMT_GOODS_PRICE                                    64825 non-null  float64\n",
      " 9   REGION_RATING_CLIENT                               64825 non-null  int64  \n",
      " 10  DAYS_REGISTRATION                                  64825 non-null  float64\n",
      " 11  REGION_POPULATION_RELATIVE                         64825 non-null  float64\n",
      " 12  LIVE_REGION_NOT_WORK_REGION                        64825 non-null  int64  \n",
      " 13  EXT_SOURCE_1                                       64825 non-null  float64\n",
      " 14  EXT_SOURCE_2                                       64825 non-null  float64\n",
      " 15  EXT_SOURCE_3                                       64825 non-null  float64\n",
      " 16  APARTMENTS_AVG                                     64825 non-null  float64\n",
      " 17  YEARS_BUILD_AVG                                    64825 non-null  float64\n",
      " 18  FLOORSMAX_AVG                                      64825 non-null  float64\n",
      " 19  NONLIVINGAREA_AVG                                  64825 non-null  float64\n",
      " 20  TOTALAREA_MODE                                     64825 non-null  float64\n",
      " 21  DAYS_LAST_PHONE_CHANGE                             64825 non-null  float64\n",
      " 22  LIVINGAREA_MEDI                                    64825 non-null  float64\n",
      " 23  NONLIVINGAREA_MEDI                                 64825 non-null  float64\n",
      " 24  AMT_REQ_CREDIT_BUREAU_HOUR                         64825 non-null  float64\n",
      " 25  AMT_REQ_CREDIT_BUREAU_DAY                          64825 non-null  float64\n",
      " 26  AMT_REQ_CREDIT_BUREAU_WEEK                         64825 non-null  float64\n",
      " 27  AMT_REQ_CREDIT_BUREAU_MON                          64825 non-null  float64\n",
      " 28  AMT_REQ_CREDIT_BUREAU_QRT                          64825 non-null  float64\n",
      " 29  AMT_REQ_CREDIT_BUREAU_YEAR                         64825 non-null  float64\n",
      " 30  NAME_EDUCATION_TYPE_Higher education               64825 non-null  uint8  \n",
      " 31  NAME_EDUCATION_TYPE_Incomplete higher              64825 non-null  uint8  \n",
      " 32  NAME_EDUCATION_TYPE_Lower secondary                64825 non-null  uint8  \n",
      " 33  NAME_EDUCATION_TYPE_Secondary / secondary special  64825 non-null  uint8  \n",
      " 34  NAME_INCOME_TYPE_Commercial associate              64825 non-null  uint8  \n",
      " 35  NAME_INCOME_TYPE_Maternity leave                   64825 non-null  uint8  \n",
      " 36  NAME_INCOME_TYPE_Pensioner                         64825 non-null  uint8  \n",
      " 37  NAME_INCOME_TYPE_State servant                     64825 non-null  uint8  \n",
      " 38  NAME_INCOME_TYPE_Student                           64825 non-null  uint8  \n",
      " 39  NAME_INCOME_TYPE_Unemployed                        64825 non-null  uint8  \n",
      " 40  NAME_INCOME_TYPE_Working                           64825 non-null  uint8  \n",
      " 41  CODE_GENDER_M                                      64825 non-null  uint8  \n",
      " 42  FLAG_OWN_REALTY_Y                                  64825 non-null  uint8  \n",
      " 43  NAME_HOUSING_TYPE_House / apartment                64825 non-null  uint8  \n",
      " 44  NAME_HOUSING_TYPE_Municipal apartment              64825 non-null  uint8  \n",
      " 45  NAME_HOUSING_TYPE_Office apartment                 64825 non-null  uint8  \n",
      " 46  NAME_HOUSING_TYPE_Rented apartment                 64825 non-null  uint8  \n",
      " 47  NAME_HOUSING_TYPE_With parents                     64825 non-null  uint8  \n",
      " 48  NAME_FAMILY_STATUS_Married                         64825 non-null  uint8  \n",
      " 49  NAME_FAMILY_STATUS_Separated                       64825 non-null  uint8  \n",
      " 50  NAME_FAMILY_STATUS_Single / not married            64825 non-null  uint8  \n",
      " 51  NAME_FAMILY_STATUS_Unknown                         64825 non-null  uint8  \n",
      " 52  NAME_FAMILY_STATUS_Widow                           64825 non-null  uint8  \n",
      " 53  NAME_TYPE_SUITE_Family                             64825 non-null  uint8  \n",
      " 54  NAME_TYPE_SUITE_Group of people                    64825 non-null  uint8  \n",
      " 55  NAME_TYPE_SUITE_Other_A                            64825 non-null  uint8  \n",
      " 56  NAME_TYPE_SUITE_Other_B                            64825 non-null  uint8  \n",
      " 57  NAME_TYPE_SUITE_Spouse, partner                    64825 non-null  uint8  \n",
      " 58  NAME_TYPE_SUITE_Unaccompanied                      64825 non-null  uint8  \n",
      " 59  FLAG_OWN_CAR_Y                                     64825 non-null  uint8  \n",
      " 60  NAME_CONTRACT_TYPE_Revolving loans                 64825 non-null  uint8  \n",
      " 61  ORGANIZATION_TYPE_CODE                             64825 non-null  int64  \n",
      "dtypes: float64(24), int64(7), uint8(31)\n",
      "memory usage: 17.7 MB\n"
     ]
    }
   ],
   "source": [
    "# Check value counts and Dtypes\n",
    "df3.info()"
   ]
  },
  {
   "cell_type": "markdown",
   "metadata": {},
   "source": [
    "### Select Features"
   ]
  },
  {
   "cell_type": "code",
   "execution_count": 79,
   "metadata": {
    "ExecuteTime": {
     "end_time": "2022-03-25T14:31:26.863423Z",
     "start_time": "2022-03-25T14:31:26.850575Z"
    }
   },
   "outputs": [
    {
     "name": "stdout",
     "output_type": "stream",
     "text": [
      "TARGET\n",
      "CNT_CHILDREN\n",
      "AMT_INCOME_TOTAL\n",
      "AMT_CREDIT\n",
      "AMT_ANNUITY\n",
      "NAME_EDUCATION_TYPE\n",
      "DAYS_EMPLOYED\n",
      "CNT_FAM_MEMBERS\n",
      "DAYS_BIRTH\n",
      "NAME_INCOME_TYPE\n",
      "AMT_GOODS_PRICE\n",
      "CODE_GENDER\n",
      "FLAG_OWN_REALTY\n",
      "REGION_RATING_CLIENT\n",
      "ORGANIZATION_TYPE\n",
      "DAYS_REGISTRATION\n",
      "REGION_POPULATION_RELATIVE\n",
      "NAME_HOUSING_TYPE\n",
      "NAME_FAMILY_STATUS\n",
      "NAME_TYPE_SUITE\n",
      "FLAG_OWN_CAR\n",
      "NAME_CONTRACT_TYPE\n",
      "LIVE_REGION_NOT_WORK_REGION\n",
      "EXT_SOURCE_1\n",
      "EXT_SOURCE_2\n",
      "EXT_SOURCE_3\n",
      "APARTMENTS_AVG\n",
      "YEARS_BUILD_AVG\n",
      "FLOORSMAX_AVG\n",
      "NONLIVINGAREA_AVG\n",
      "TOTALAREA_MODE\n",
      "DAYS_LAST_PHONE_CHANGE\n",
      "LIVINGAREA_MEDI\n",
      "NONLIVINGAREA_MEDI\n",
      "AMT_REQ_CREDIT_BUREAU_HOUR\n",
      "AMT_REQ_CREDIT_BUREAU_DAY\n",
      "AMT_REQ_CREDIT_BUREAU_WEEK\n",
      "AMT_REQ_CREDIT_BUREAU_MON\n",
      "AMT_REQ_CREDIT_BUREAU_QRT\n",
      "AMT_REQ_CREDIT_BUREAU_YEAR\n",
      "40\n"
     ]
    }
   ],
   "source": [
    "# iterating print for the columns\n",
    "cols = []\n",
    "for col in df2.columns:\n",
    "    cols.append(col)\n",
    "    print(col)\n",
    "print(len(cols))"
   ]
  },
  {
   "cell_type": "markdown",
   "metadata": {},
   "source": [
    "## SMOTE - Oversample Minority Class"
   ]
  },
  {
   "cell_type": "markdown",
   "metadata": {},
   "source": [
    "### Train, Test, Split"
   ]
  },
  {
   "cell_type": "code",
   "execution_count": 80,
   "metadata": {
    "ExecuteTime": {
     "end_time": "2022-03-25T14:31:43.713209Z",
     "start_time": "2022-03-25T14:31:43.619071Z"
    }
   },
   "outputs": [],
   "source": [
    "# Define X and y\n",
    "y = df3['TARGET']\n",
    "X = df3.drop('TARGET', axis=1)\n",
    "\n",
    "# Perform train-test split with random_state=42 and stratify=y\n",
    "X_train, X_test, y_train, y_test = train_test_split(X, y, test_size=0.25, random_state=42)"
   ]
  },
  {
   "cell_type": "code",
   "execution_count": 81,
   "metadata": {
    "ExecuteTime": {
     "end_time": "2022-03-25T14:31:56.185372Z",
     "start_time": "2022-03-25T14:31:53.960549Z"
    }
   },
   "outputs": [
    {
     "name": "stdout",
     "output_type": "stream",
     "text": [
      "0    30015\n",
      "1    18603\n",
      "Name: TARGET, dtype: int64\n",
      "\n",
      "\n",
      "1    30015\n",
      "0    30015\n",
      "Name: TARGET, dtype: int64\n"
     ]
    }
   ],
   "source": [
    "# Previous original class distribution\n",
    "print(y_train.value_counts()) \n",
    "\n",
    "# Fit SMOTE to training data\n",
    "X_train_resampled, y_train_resampled = SMOTE().fit_resample(X_train, y_train) \n",
    "\n",
    "# Preview synthetic sample class distribution\n",
    "print('\\n')\n",
    "print(pd.Series(y_train_resampled).value_counts()) \n",
    "\n",
    "# Note, if you get an Attribute Error: 'SMOTE' object has no attribute\n",
    "# '_validate_data', then downgrade your version of imblearn to 0.6.2\n",
    "# or upgrade your version of sklearn to 0.23"
   ]
  },
  {
   "cell_type": "markdown",
   "metadata": {},
   "source": [
    "## Random Forest with SMOTE - Part 1\n",
    "* Prioritize Accuracy for Loan Approval"
   ]
  },
  {
   "cell_type": "code",
   "execution_count": 83,
   "metadata": {
    "ExecuteTime": {
     "end_time": "2022-03-25T14:36:28.969711Z",
     "start_time": "2022-03-25T14:36:28.776257Z"
    }
   },
   "outputs": [],
   "source": [
    "# Scale train and test sets with StandardScaler\n",
    "X_train_std = StandardScaler().fit_transform(X_train_resampled)\n",
    "X_test_std = StandardScaler().fit_transform(X_test)"
   ]
  },
  {
   "cell_type": "code",
   "execution_count": 84,
   "metadata": {
    "ExecuteTime": {
     "end_time": "2022-03-25T14:36:43.554688Z",
     "start_time": "2022-03-25T14:36:43.482808Z"
    }
   },
   "outputs": [
    {
     "data": {
      "text/plain": [
       "RandomForestClassifier(max_depth=1, n_estimators=1)"
      ]
     },
     "execution_count": 84,
     "metadata": {},
     "output_type": "execute_result"
    }
   ],
   "source": [
    "# Instantiate and fit a RandomForestClassifier\n",
    "forest = RandomForestClassifier(n_estimators=1, max_depth= 1)\n",
    "forest.fit(X_train_std, y_train_resampled)"
   ]
  },
  {
   "cell_type": "code",
   "execution_count": 85,
   "metadata": {
    "ExecuteTime": {
     "end_time": "2022-03-25T14:36:49.112050Z",
     "start_time": "2022-03-25T14:36:49.067111Z"
    }
   },
   "outputs": [
    {
     "data": {
      "text/plain": [
       "0.5713643178410794"
      ]
     },
     "execution_count": 85,
     "metadata": {},
     "output_type": "execute_result"
    }
   ],
   "source": [
    "# Training accuracy score\n",
    "forest.score(X_train_std, y_train_resampled)"
   ]
  },
  {
   "cell_type": "code",
   "execution_count": 86,
   "metadata": {
    "ExecuteTime": {
     "end_time": "2022-03-25T14:36:51.763759Z",
     "start_time": "2022-03-25T14:36:51.746942Z"
    }
   },
   "outputs": [
    {
     "data": {
      "text/plain": [
       "0.48293947059912384"
      ]
     },
     "execution_count": 86,
     "metadata": {},
     "output_type": "execute_result"
    }
   ],
   "source": [
    "# Test accuracy score\n",
    "forest.score(X_test_std, y_test)"
   ]
  },
  {
   "cell_type": "code",
   "execution_count": 87,
   "metadata": {
    "ExecuteTime": {
     "end_time": "2022-03-25T14:36:59.601693Z",
     "start_time": "2022-03-25T14:36:59.593590Z"
    }
   },
   "outputs": [],
   "source": [
    "# Test set predictions\n",
    "pred = forest.predict(X_test_std)"
   ]
  },
  {
   "cell_type": "code",
   "execution_count": 88,
   "metadata": {
    "ExecuteTime": {
     "end_time": "2022-03-25T14:37:00.471210Z",
     "start_time": "2022-03-25T14:37:00.406073Z"
    }
   },
   "outputs": [
    {
     "name": "stdout",
     "output_type": "stream",
     "text": [
      "[[2456 7529]\n",
      " [ 851 5371]]\n",
      "              precision    recall  f1-score   support\n",
      "\n",
      "           0       0.74      0.25      0.37      9985\n",
      "           1       0.42      0.86      0.56      6222\n",
      "\n",
      "    accuracy                           0.48     16207\n",
      "   macro avg       0.58      0.55      0.47     16207\n",
      "weighted avg       0.62      0.48      0.44     16207\n",
      "\n"
     ]
    }
   ],
   "source": [
    "# Confusion matrix and classification report\n",
    "print(confusion_matrix(y_test, pred))\n",
    "print(classification_report(y_test, pred))"
   ]
  },
  {
   "cell_type": "markdown",
   "metadata": {},
   "source": [
    "## Random Forest with SMOTE - Part 2\n",
    "* Improve Accuracy for Loan Approval"
   ]
  },
  {
   "cell_type": "code",
   "execution_count": 89,
   "metadata": {
    "ExecuteTime": {
     "end_time": "2022-03-25T14:40:10.938559Z",
     "start_time": "2022-03-25T14:40:10.746885Z"
    }
   },
   "outputs": [],
   "source": [
    "# Scale train and test sets with StandardScaler\n",
    "X_train_std = StandardScaler().fit_transform(X_train_resampled)\n",
    "X_test_std = StandardScaler().fit_transform(X_test)"
   ]
  },
  {
   "cell_type": "code",
   "execution_count": 90,
   "metadata": {
    "ExecuteTime": {
     "end_time": "2022-03-25T14:40:13.921352Z",
     "start_time": "2022-03-25T14:40:11.550779Z"
    }
   },
   "outputs": [
    {
     "data": {
      "text/plain": [
       "RandomForestClassifier(max_depth=10, n_estimators=20)"
      ]
     },
     "execution_count": 90,
     "metadata": {},
     "output_type": "execute_result"
    }
   ],
   "source": [
    "# Instantiate and fit a RandomForestClassifier\n",
    "forest = RandomForestClassifier(n_estimators=20, max_depth= 10)\n",
    "forest.fit(X_train_std, y_train_resampled)"
   ]
  },
  {
   "cell_type": "code",
   "execution_count": 91,
   "metadata": {
    "ExecuteTime": {
     "end_time": "2022-03-25T14:40:15.101541Z",
     "start_time": "2022-03-25T14:40:14.830153Z"
    }
   },
   "outputs": [
    {
     "data": {
      "text/plain": [
       "0.7632517074795936"
      ]
     },
     "execution_count": 91,
     "metadata": {},
     "output_type": "execute_result"
    }
   ],
   "source": [
    "# Training accuracy score\n",
    "forest.score(X_train_std, y_train_resampled)"
   ]
  },
  {
   "cell_type": "code",
   "execution_count": 92,
   "metadata": {
    "ExecuteTime": {
     "end_time": "2022-03-25T14:40:18.131733Z",
     "start_time": "2022-03-25T14:40:18.049271Z"
    }
   },
   "outputs": [
    {
     "data": {
      "text/plain": [
       "0.4415376072067625"
      ]
     },
     "execution_count": 92,
     "metadata": {},
     "output_type": "execute_result"
    }
   ],
   "source": [
    "# Test accuracy score\n",
    "forest.score(X_test_std, y_test)"
   ]
  },
  {
   "cell_type": "code",
   "execution_count": 93,
   "metadata": {
    "ExecuteTime": {
     "end_time": "2022-03-25T14:40:19.563590Z",
     "start_time": "2022-03-25T14:40:19.489600Z"
    }
   },
   "outputs": [],
   "source": [
    "# Test set predictions\n",
    "pred = forest.predict(X_test_std)"
   ]
  },
  {
   "cell_type": "code",
   "execution_count": 94,
   "metadata": {
    "ExecuteTime": {
     "end_time": "2022-03-25T14:40:21.689018Z",
     "start_time": "2022-03-25T14:40:21.621356Z"
    }
   },
   "outputs": [
    {
     "name": "stdout",
     "output_type": "stream",
     "text": [
      "[[1131 8854]\n",
      " [ 197 6025]]\n",
      "              precision    recall  f1-score   support\n",
      "\n",
      "           0       0.85      0.11      0.20      9985\n",
      "           1       0.40      0.97      0.57      6222\n",
      "\n",
      "    accuracy                           0.44     16207\n",
      "   macro avg       0.63      0.54      0.39     16207\n",
      "weighted avg       0.68      0.44      0.34     16207\n",
      "\n"
     ]
    }
   ],
   "source": [
    "# Confusion matrix and classification report\n",
    "print(confusion_matrix(y_test, pred))\n",
    "print(classification_report(y_test, pred))"
   ]
  },
  {
   "cell_type": "code",
   "execution_count": 118,
   "metadata": {
    "ExecuteTime": {
     "end_time": "2022-03-25T15:32:50.943133Z",
     "start_time": "2022-03-25T15:32:50.931095Z"
    }
   },
   "outputs": [
    {
     "data": {
      "text/plain": [
       "array([0.00162725, 0.00825882, 0.01229343, 0.01407117, 0.0289557 ,\n",
       "       0.0136274 , 0.02739556, 0.01000989, 0.00356114, 0.01332463,\n",
       "       0.01190856, 0.00113403, 0.05114636, 0.17421143, 0.19510118,\n",
       "       0.00896001, 0.00668561, 0.02129079, 0.01535679, 0.01000219,\n",
       "       0.02549377, 0.00996227, 0.01670617, 0.01820112, 0.02216465,\n",
       "       0.01863133, 0.02166509, 0.02224437, 0.02904262, 0.05663978,\n",
       "       0.00354591, 0.00115493, 0.01518586, 0.00656566, 0.        ,\n",
       "       0.00727793, 0.00270112, 0.        , 0.        , 0.00475111,\n",
       "       0.00207631, 0.0039555 , 0.00717533, 0.00183817, 0.00040431,\n",
       "       0.00075339, 0.00161845, 0.01602267, 0.00203083, 0.00836811,\n",
       "       0.        , 0.00206443, 0.00418504, 0.        , 0.00022535,\n",
       "       0.00024114, 0.00075152, 0.00396224, 0.01851275, 0.0022647 ,\n",
       "       0.0126941 ])"
      ]
     },
     "execution_count": 118,
     "metadata": {},
     "output_type": "execute_result"
    }
   ],
   "source": [
    "# Feature importance\n",
    "forest.feature_importances_"
   ]
  },
  {
   "cell_type": "code",
   "execution_count": 127,
   "metadata": {
    "ExecuteTime": {
     "end_time": "2022-03-25T15:35:31.504125Z",
     "start_time": "2022-03-25T15:35:29.277198Z"
    }
   },
   "outputs": [
    {
     "data": {
      "image/png": "[encoded data removed]",
      "text/plain": [
       "<Figure size 576x1440 with 1 Axes>"
      ]
     },
     "metadata": {
      "needs_background": "light"
     },
     "output_type": "display_data"
    }
   ],
   "source": [
    "def plot_feature_importances(model):\n",
    "    n_features = X_train.shape[1]\n",
    "    plt.figure(figsize=(8,20))\n",
    "    plt.barh(range(n_features), model.feature_importances_, align='center') \n",
    "    plt.yticks(np.arange(n_features), X_train.columns.values) \n",
    "    plt.xlabel('Feature importance')\n",
    "    plt.ylabel('Feature')\n",
    "\n",
    "plot_feature_importances(forest)"
   ]
  },
  {
   "cell_type": "markdown",
   "metadata": {},
   "source": [
    "## Random Forest with SMOTE - Part 3\n",
    "* Improve Accuracy for Loan Approval"
   ]
  },
  {
   "cell_type": "code",
   "execution_count": 128,
   "metadata": {
    "ExecuteTime": {
     "end_time": "2022-03-25T15:42:52.006905Z",
     "start_time": "2022-03-25T15:42:51.637195Z"
    }
   },
   "outputs": [],
   "source": [
    "# Scale train and test sets with StandardScaler\n",
    "X_train_std = StandardScaler().fit_transform(X_train_resampled)\n",
    "X_test_std = StandardScaler().fit_transform(X_test)"
   ]
  },
  {
   "cell_type": "code",
   "execution_count": 138,
   "metadata": {
    "ExecuteTime": {
     "end_time": "2022-03-25T15:45:37.406164Z",
     "start_time": "2022-03-25T15:45:33.358896Z"
    }
   },
   "outputs": [
    {
     "data": {
      "text/plain": [
       "RandomForestClassifier(criterion='entropy', max_depth=10, max_features=10,\n",
       "                       n_estimators=20)"
      ]
     },
     "execution_count": 138,
     "metadata": {},
     "output_type": "execute_result"
    }
   ],
   "source": [
    "# Instantiate and fit a RandomForestClassifier\n",
    "forest = RandomForestClassifier(criterion='entropy',n_estimators=20, max_features=10, max_depth= 10)\n",
    "forest.fit(X_train_std, y_train_resampled)"
   ]
  },
  {
   "cell_type": "code",
   "execution_count": 139,
   "metadata": {
    "ExecuteTime": {
     "end_time": "2022-03-25T15:45:39.076451Z",
     "start_time": "2022-03-25T15:45:38.817283Z"
    }
   },
   "outputs": [
    {
     "data": {
      "text/plain": [
       "0.7669498584041312"
      ]
     },
     "execution_count": 139,
     "metadata": {},
     "output_type": "execute_result"
    }
   ],
   "source": [
    "# Training accuracy score\n",
    "forest.score(X_train_std, y_train_resampled)"
   ]
  },
  {
   "cell_type": "code",
   "execution_count": 140,
   "metadata": {
    "ExecuteTime": {
     "end_time": "2022-03-25T15:45:39.971156Z",
     "start_time": "2022-03-25T15:45:39.897019Z"
    }
   },
   "outputs": [
    {
     "data": {
      "text/plain": [
       "0.4090824952181156"
      ]
     },
     "execution_count": 140,
     "metadata": {},
     "output_type": "execute_result"
    }
   ],
   "source": [
    "# Test accuracy score\n",
    "forest.score(X_test_std, y_test)"
   ]
  },
  {
   "cell_type": "code",
   "execution_count": 141,
   "metadata": {
    "ExecuteTime": {
     "end_time": "2022-03-25T15:45:40.809875Z",
     "start_time": "2022-03-25T15:45:40.737268Z"
    }
   },
   "outputs": [],
   "source": [
    "# Test set predictions\n",
    "pred = forest.predict(X_test_std)"
   ]
  },
  {
   "cell_type": "code",
   "execution_count": 142,
   "metadata": {
    "ExecuteTime": {
     "end_time": "2022-03-25T15:45:41.614043Z",
     "start_time": "2022-03-25T15:45:41.541981Z"
    }
   },
   "outputs": [
    {
     "name": "stdout",
     "output_type": "stream",
     "text": [
      "[[ 507 9478]\n",
      " [  99 6123]]\n",
      "              precision    recall  f1-score   support\n",
      "\n",
      "           0       0.84      0.05      0.10      9985\n",
      "           1       0.39      0.98      0.56      6222\n",
      "\n",
      "    accuracy                           0.41     16207\n",
      "   macro avg       0.61      0.52      0.33     16207\n",
      "weighted avg       0.67      0.41      0.27     16207\n",
      "\n"
     ]
    }
   ],
   "source": [
    "# Confusion matrix and classification report\n",
    "print(confusion_matrix(y_test, pred))\n",
    "print(classification_report(y_test, pred))"
   ]
  },
  {
   "cell_type": "markdown",
   "metadata": {},
   "source": [
    "## Feature Importance Chart\n",
    "* First Draft"
   ]
  },
  {
   "cell_type": "code",
   "execution_count": 144,
   "metadata": {
    "ExecuteTime": {
     "end_time": "2022-03-25T15:45:59.879678Z",
     "start_time": "2022-03-25T15:45:58.021356Z"
    }
   },
   "outputs": [
    {
     "data": {
      "image/png": "[encoded data removed]",
      "text/plain": [
       "<Figure size 576x1440 with 1 Axes>"
      ]
     },
     "metadata": {
      "needs_background": "light"
     },
     "output_type": "display_data"
    }
   ],
   "source": [
    "def plot_feature_importances(model):\n",
    "    n_features = X_train.shape[1]\n",
    "    plt.figure(figsize=(8,20))\n",
    "    plt.barh(range(n_features), model.feature_importances_, align='center') \n",
    "    plt.yticks(np.arange(n_features), X_train.columns.values) \n",
    "    plt.xlabel('Feature importance')\n",
    "    plt.ylabel('Feature')\n",
    "\n",
    "plot_feature_importances(forest)"
   ]
  },
  {
   "cell_type": "markdown",
   "metadata": {},
   "source": [
    "### Improve Feature Importance Bar Chart\n",
    "* Ascending order for top 10 values"
   ]
  },
  {
   "cell_type": "code",
   "execution_count": 175,
   "metadata": {
    "ExecuteTime": {
     "end_time": "2022-03-25T16:09:33.802386Z",
     "start_time": "2022-03-25T16:09:33.728927Z"
    },
    "scrolled": true
   },
   "outputs": [
    {
     "data": {
      "text/html": [
       "<div>\n",
       "<style scoped>\n",
       "    .dataframe tbody tr th:only-of-type {\n",
       "        vertical-align: middle;\n",
       "    }\n",
       "\n",
       "    .dataframe tbody tr th {\n",
       "        vertical-align: top;\n",
       "    }\n",
       "\n",
       "    .dataframe thead th {\n",
       "        text-align: right;\n",
       "    }\n",
       "</style>\n",
       "<table border=\"1\" class=\"dataframe\">\n",
       "  <thead>\n",
       "    <tr style=\"text-align: right;\">\n",
       "      <th></th>\n",
       "      <th>Feature</th>\n",
       "      <th>Feature Importance</th>\n",
       "    </tr>\n",
       "  </thead>\n",
       "  <tbody>\n",
       "    <tr>\n",
       "      <th>14</th>\n",
       "      <td>EXT_SOURCE_3</td>\n",
       "      <td>0.168406</td>\n",
       "    </tr>\n",
       "    <tr>\n",
       "      <th>13</th>\n",
       "      <td>EXT_SOURCE_2</td>\n",
       "      <td>0.145140</td>\n",
       "    </tr>\n",
       "    <tr>\n",
       "      <th>12</th>\n",
       "      <td>EXT_SOURCE_1</td>\n",
       "      <td>0.058354</td>\n",
       "    </tr>\n",
       "    <tr>\n",
       "      <th>29</th>\n",
       "      <td>NAME_EDUCATION_TYPE_Higher education</td>\n",
       "      <td>0.056733</td>\n",
       "    </tr>\n",
       "    <tr>\n",
       "      <th>24</th>\n",
       "      <td>AMT_REQ_CREDIT_BUREAU_DAY</td>\n",
       "      <td>0.044768</td>\n",
       "    </tr>\n",
       "    <tr>\n",
       "      <th>6</th>\n",
       "      <td>DAYS_BIRTH</td>\n",
       "      <td>0.039633</td>\n",
       "    </tr>\n",
       "    <tr>\n",
       "      <th>23</th>\n",
       "      <td>AMT_REQ_CREDIT_BUREAU_HOUR</td>\n",
       "      <td>0.029270</td>\n",
       "    </tr>\n",
       "    <tr>\n",
       "      <th>25</th>\n",
       "      <td>AMT_REQ_CREDIT_BUREAU_WEEK</td>\n",
       "      <td>0.028794</td>\n",
       "    </tr>\n",
       "    <tr>\n",
       "      <th>20</th>\n",
       "      <td>DAYS_LAST_PHONE_CHANGE</td>\n",
       "      <td>0.026027</td>\n",
       "    </tr>\n",
       "    <tr>\n",
       "      <th>26</th>\n",
       "      <td>AMT_REQ_CREDIT_BUREAU_MON</td>\n",
       "      <td>0.024473</td>\n",
       "    </tr>\n",
       "  </tbody>\n",
       "</table>\n",
       "</div>"
      ],
      "text/plain": [
       "                                 Feature  Feature Importance\n",
       "14                          EXT_SOURCE_3            0.168406\n",
       "13                          EXT_SOURCE_2            0.145140\n",
       "12                          EXT_SOURCE_1            0.058354\n",
       "29  NAME_EDUCATION_TYPE_Higher education            0.056733\n",
       "24             AMT_REQ_CREDIT_BUREAU_DAY            0.044768\n",
       "6                             DAYS_BIRTH            0.039633\n",
       "23            AMT_REQ_CREDIT_BUREAU_HOUR            0.029270\n",
       "25            AMT_REQ_CREDIT_BUREAU_WEEK            0.028794\n",
       "20                DAYS_LAST_PHONE_CHANGE            0.026027\n",
       "26             AMT_REQ_CREDIT_BUREAU_MON            0.024473"
      ]
     },
     "execution_count": 175,
     "metadata": {},
     "output_type": "execute_result"
    }
   ],
   "source": [
    "# Feature importance\n",
    "features = pd.DataFrame(forest.feature_importances_)\n",
    "features['Feature'] = X_train.columns.values\n",
    "features['Feature Importance'] = features[0]\n",
    "features = features.drop(0, axis=1)\n",
    "features = features.sort_values(by=['Feature Importance'], ascending=True)\n",
    "features = features.nlargest(n=10, columns=['Feature Importance'])\n",
    "features"
   ]
  },
  {
   "cell_type": "code",
   "execution_count": 180,
   "metadata": {
    "ExecuteTime": {
     "end_time": "2022-03-25T16:12:56.621928Z",
     "start_time": "2022-03-25T16:12:56.565077Z"
    }
   },
   "outputs": [],
   "source": [
    "import matplotlib.style as style\n",
    "# style.available\n",
    "style.use('fivethirtyeight')"
   ]
  },
  {
   "cell_type": "code",
   "execution_count": 183,
   "metadata": {
    "ExecuteTime": {
     "end_time": "2022-03-25T16:14:41.694397Z",
     "start_time": "2022-03-25T16:14:40.861580Z"
    }
   },
   "outputs": [
    {
     "data": {
      "text/plain": [
       "Text(0.5, 1.0, 'Top Ten Features by Importance')"
      ]
     },
     "execution_count": 183,
     "metadata": {},
     "output_type": "execute_result"
    },
    {
     "data": {
      "image/png": "[encoded data removed]",
      "text/plain": [
       "<Figure size 576x576 with 1 Axes>"
      ]
     },
     "metadata": {},
     "output_type": "display_data"
    }
   ],
   "source": [
    "plt.figure(figsize=(8,8))\n",
    "plt.barh(range(10), features['Feature Importance'], align='center') \n",
    "plt.yticks(np.arange(10), features['Feature']) \n",
    "plt.xlabel('Feature importance (Weight)')\n",
    "plt.ylabel('Feature')\n",
    "plt.title('Top Ten Features by Importance')"
   ]
  },
  {
   "cell_type": "markdown",
   "metadata": {},
   "source": [
    "## Explore EXT_SOURCE data"
   ]
  },
  {
   "cell_type": "code",
   "execution_count": 109,
   "metadata": {
    "ExecuteTime": {
     "end_time": "2022-03-25T15:16:25.100259Z",
     "start_time": "2022-03-25T15:16:25.085471Z"
    }
   },
   "outputs": [
    {
     "data": {
      "text/plain": [
       "count    64825.000000\n",
       "mean         0.465946\n",
       "std          0.141130\n",
       "min          0.014568\n",
       "25%          0.465946\n",
       "50%          0.465946\n",
       "75%          0.465946\n",
       "max          0.942680\n",
       "Name: EXT_SOURCE_1, dtype: float64"
      ]
     },
     "execution_count": 109,
     "metadata": {},
     "output_type": "execute_result"
    }
   ],
   "source": [
    "df3['EXT_SOURCE_1'].describe()"
   ]
  },
  {
   "cell_type": "markdown",
   "metadata": {},
   "source": [
    "# Summary\n",
    "* Increasing the number of features greatly improved the accuracy of the model.\n",
    "    * Trimming these features by feature importance allowed for an even more accurate model, in terms of recall score for loan approval.\n",
    "* Manipulating random_forest hyper-parameters allowed for over-training of the train set, which led to improved accuracy in predicting loan approval (Recall for value of 1).\n",
    "    * Resulting in an accuracy of 98% in predicting if someone will be approved for a loan.\n",
    "* Will be able to propose business case for advancing loan applications to the next stage for the banking industry."
   ]
  },
  {
   "cell_type": "markdown",
   "metadata": {},
   "source": [
    "# Reduce Features, Check for Accuracy\n",
    "* Optimize for accuracy of Loan Approval \n",
    "* This code is too computationally expensive to run on this data set for my computer(>20 min), but I am curious whether a model with fewer features would produce similar results."
   ]
  },
  {
   "cell_type": "code",
   "execution_count": 100,
   "metadata": {
    "ExecuteTime": {
     "end_time": "2022-03-25T15:15:08.776064Z",
     "start_time": "2022-03-25T15:15:08.771548Z"
    }
   },
   "outputs": [],
   "source": [
    "# Init the transformer\n",
    "# rfe = RFE(estimator=RandomForestRegressor(), n_features_to_select=10)\n",
    "\n",
    "# Fit to the training data\n",
    "# _ = rfe.fit(X_train_std, y_train_resampled)"
   ]
  },
  {
   "cell_type": "code",
   "execution_count": 101,
   "metadata": {
    "ExecuteTime": {
     "end_time": "2022-03-25T15:15:13.465998Z",
     "start_time": "2022-03-25T15:15:13.460847Z"
    }
   },
   "outputs": [],
   "source": [
    "# make predictions for test set based on model\n",
    "# pred = rfe.predict(X_test_std)"
   ]
  },
  {
   "cell_type": "code",
   "execution_count": 102,
   "metadata": {
    "ExecuteTime": {
     "end_time": "2022-03-25T15:15:20.831062Z",
     "start_time": "2022-03-25T15:15:20.826490Z"
    }
   },
   "outputs": [],
   "source": [
    "# Confusion matrix and classification report\n",
    "# print(confusion_matrix(y_test, pred))\n",
    "# print(classification_report(y_test, pred))"
   ]
  },
  {
   "cell_type": "markdown",
   "metadata": {},
   "source": [
    "# Further Study\n",
    "* Need to better understand the existing features and gather more relevant features.\n",
    "    * What do EXT_SOURCE_1, 2, and 3 values signify?\n",
    "    * What do the AMT_REQ_CREDIT_BUREAU values signify?\n",
    "    * Can we gather credit scores, amount of loan request, amount of cash/market-value of assets?\n",
    "* Need to test this model on a sample of actual market data to examine how it performs and perform tuning or further iterations of the model.\n",
    "* Determine which features or data are more accessible.\n",
    "    * Can we collect these features from customers, or do we need to pay credit rating agencies for the customers' credit scores?\n",
    "        * Determine how much it would cost to gather data (i.e. credit scores).\n",
    "        * Determine which data is most valid to collect in an online questionnaire. "
   ]
  },
  {
   "cell_type": "code",
   "execution_count": null,
   "metadata": {},
   "outputs": [],
   "source": []
  }
 ],
 "metadata": {
  "kernelspec": {
   "display_name": "Python (learn-env)",
   "language": "python",
   "name": "learn-env"
  },
  "language_info": {
   "codemirror_mode": {
    "name": "ipython",
    "version": 3
   },
   "file_extension": ".py",
   "mimetype": "text/x-python",
   "name": "python",
   "nbconvert_exporter": "python",
   "pygments_lexer": "ipython3",
   "version": "3.8.5"
  },
  "toc": {
   "base_numbering": 1,
   "nav_menu": {},
   "number_sections": true,
   "sideBar": true,
   "skip_h1_title": false,
   "title_cell": "Table of Contents",
   "title_sidebar": "Contents",
   "toc_cell": true,
   "toc_position": {
    "height": "calc(100% - 180px)",
    "left": "10px",
    "top": "150px",
    "width": "261.818px"
   },
   "toc_section_display": true,
   "toc_window_display": true
  }
 },
 "nbformat": 4,
 "nbformat_minor": 4
}
