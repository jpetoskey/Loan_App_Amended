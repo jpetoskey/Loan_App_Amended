{
 "cells": [
  {
   "cell_type": "markdown",
   "metadata": {
    "toc": true
   },
   "source": [
    "<h1>Table of Contents<span class=\"tocSkip\"></span></h1>\n",
    "<div class=\"toc\"><ul class=\"toc-item\"><li><span><a href=\"#Final-Project-Submission\" data-toc-modified-id=\"Final-Project-Submission-1\"><span class=\"toc-item-num\">1&nbsp;&nbsp;</span>Final Project Submission</a></span></li><li><span><a href=\"#Summary\" data-toc-modified-id=\"Summary-2\"><span class=\"toc-item-num\">2&nbsp;&nbsp;</span>Summary</a></span></li><li><span><a href=\"#Preprocess-Data\" data-toc-modified-id=\"Preprocess-Data-3\"><span class=\"toc-item-num\">3&nbsp;&nbsp;</span>Preprocess Data</a></span><ul class=\"toc-item\"><li><span><a href=\"#Undersample-Majority-Class\" data-toc-modified-id=\"Undersample-Majority-Class-3.1\"><span class=\"toc-item-num\">3.1&nbsp;&nbsp;</span>Undersample Majority Class</a></span></li><li><span><a href=\"#Feature-Selection\" data-toc-modified-id=\"Feature-Selection-3.2\"><span class=\"toc-item-num\">3.2&nbsp;&nbsp;</span>Feature Selection</a></span></li><li><span><a href=\"#Clean-up-null-and-missing-values\" data-toc-modified-id=\"Clean-up-null-and-missing-values-3.3\"><span class=\"toc-item-num\">3.3&nbsp;&nbsp;</span>Clean up null and missing values</a></span></li><li><span><a href=\"#Replace-null-values\" data-toc-modified-id=\"Replace-null-values-3.4\"><span class=\"toc-item-num\">3.4&nbsp;&nbsp;</span>Replace null values</a></span><ul class=\"toc-item\"><li><span><a href=\"#Separate-Numericals-&amp;-Categoricals\" data-toc-modified-id=\"Separate-Numericals-&amp;-Categoricals-3.4.1\"><span class=\"toc-item-num\">3.4.1&nbsp;&nbsp;</span>Separate Numericals &amp; Categoricals</a></span><ul class=\"toc-item\"><li><span><a href=\"#Summary-of-numericals\" data-toc-modified-id=\"Summary-of-numericals-3.4.1.1\"><span class=\"toc-item-num\">3.4.1.1&nbsp;&nbsp;</span>Summary of numericals</a></span></li></ul></li><li><span><a href=\"#Categoricals\" data-toc-modified-id=\"Categoricals-3.4.2\"><span class=\"toc-item-num\">3.4.2&nbsp;&nbsp;</span>Categoricals</a></span></li></ul></li><li><span><a href=\"#Label-Encode-or-One-Hot-Encode-Categoricals\" data-toc-modified-id=\"Label-Encode-or-One-Hot-Encode-Categoricals-3.5\"><span class=\"toc-item-num\">3.5&nbsp;&nbsp;</span>Label Encode or One-Hot Encode Categoricals</a></span><ul class=\"toc-item\"><li><span><a href=\"#Replace-missing-values-in-'cats['NAME_TYPE_SUITE']'-with-mode\" data-toc-modified-id=\"Replace-missing-values-in-'cats['NAME_TYPE_SUITE']'-with-mode-3.5.1\"><span class=\"toc-item-num\">3.5.1&nbsp;&nbsp;</span>Replace missing values in 'cats['NAME_TYPE_SUITE']' with mode</a></span></li><li><span><a href=\"#Use-label-encoding-to-save-space-with-Organization_Type\" data-toc-modified-id=\"Use-label-encoding-to-save-space-with-Organization_Type-3.5.2\"><span class=\"toc-item-num\">3.5.2&nbsp;&nbsp;</span>Use label encoding to save space with Organization_Type</a></span></li><li><span><a href=\"#One-Hot-Encode-Categoricals\" data-toc-modified-id=\"One-Hot-Encode-Categoricals-3.5.3\"><span class=\"toc-item-num\">3.5.3&nbsp;&nbsp;</span>One Hot Encode Categoricals</a></span></li></ul></li><li><span><a href=\"#Concatenate-data-frames\" data-toc-modified-id=\"Concatenate-data-frames-3.6\"><span class=\"toc-item-num\">3.6&nbsp;&nbsp;</span>Concatenate data frames</a></span><ul class=\"toc-item\"><li><span><a href=\"#Select-Features\" data-toc-modified-id=\"Select-Features-3.6.1\"><span class=\"toc-item-num\">3.6.1&nbsp;&nbsp;</span>Select Features</a></span></li></ul></li><li><span><a href=\"#SMOTE---Oversample-Minority-Class\" data-toc-modified-id=\"SMOTE---Oversample-Minority-Class-3.7\"><span class=\"toc-item-num\">3.7&nbsp;&nbsp;</span>SMOTE - Oversample Minority Class</a></span><ul class=\"toc-item\"><li><span><a href=\"#Train,-Test,-Split\" data-toc-modified-id=\"Train,-Test,-Split-3.7.1\"><span class=\"toc-item-num\">3.7.1&nbsp;&nbsp;</span>Train, Test, Split</a></span></li></ul></li></ul></li><li><span><a href=\"#Random-Forest-Model-1\" data-toc-modified-id=\"Random-Forest-Model-1-4\"><span class=\"toc-item-num\">4&nbsp;&nbsp;</span>Random Forest Model 1</a></span><ul class=\"toc-item\"><li><ul class=\"toc-item\"><li><span><a href=\"#Summary---Random-Forest-Part-1\" data-toc-modified-id=\"Summary---Random-Forest-Part-1-4.0.1\"><span class=\"toc-item-num\">4.0.1&nbsp;&nbsp;</span>Summary - Random Forest Part 1</a></span></li></ul></li><li><span><a href=\"#Random-Forest-Model-2\" data-toc-modified-id=\"Random-Forest-Model-2-4.1\"><span class=\"toc-item-num\">4.1&nbsp;&nbsp;</span>Random Forest Model 2</a></span><ul class=\"toc-item\"><li><span><a href=\"#Summary---Random-Forest-Model-3\" data-toc-modified-id=\"Summary---Random-Forest-Model-3-4.1.1\"><span class=\"toc-item-num\">4.1.1&nbsp;&nbsp;</span>Summary - Random Forest Model 3</a></span></li></ul></li><li><span><a href=\"#Random-Forest-Model-3\" data-toc-modified-id=\"Random-Forest-Model-3-4.2\"><span class=\"toc-item-num\">4.2&nbsp;&nbsp;</span>Random Forest Model 3</a></span><ul class=\"toc-item\"><li><span><a href=\"#Summary---Random-Forest-Part-2\" data-toc-modified-id=\"Summary---Random-Forest-Part-2-4.2.1\"><span class=\"toc-item-num\">4.2.1&nbsp;&nbsp;</span>Summary - Random Forest Part 2</a></span></li></ul></li><li><span><a href=\"#Random-Forest-Model-4\" data-toc-modified-id=\"Random-Forest-Model-4-4.3\"><span class=\"toc-item-num\">4.3&nbsp;&nbsp;</span>Random Forest Model 4</a></span><ul class=\"toc-item\"><li><span><a href=\"#Summary---Random-Forest-Model-4\" data-toc-modified-id=\"Summary---Random-Forest-Model-4-4.3.1\"><span class=\"toc-item-num\">4.3.1&nbsp;&nbsp;</span>Summary - Random Forest Model 4</a></span></li></ul></li><li><span><a href=\"#Random-Forest-Model-5\" data-toc-modified-id=\"Random-Forest-Model-5-4.4\"><span class=\"toc-item-num\">4.4&nbsp;&nbsp;</span>Random Forest Model 5</a></span><ul class=\"toc-item\"><li><span><a href=\"#Summary---Random-Forest-Model-5\" data-toc-modified-id=\"Summary---Random-Forest-Model-5-4.4.1\"><span class=\"toc-item-num\">4.4.1&nbsp;&nbsp;</span>Summary - Random Forest Model 5</a></span></li></ul></li><li><span><a href=\"#Random-Forest-Model-6\" data-toc-modified-id=\"Random-Forest-Model-6-4.5\"><span class=\"toc-item-num\">4.5&nbsp;&nbsp;</span>Random Forest Model 6</a></span><ul class=\"toc-item\"><li><span><a href=\"#Summary---Random-Forest-Model-6\" data-toc-modified-id=\"Summary---Random-Forest-Model-6-4.5.1\"><span class=\"toc-item-num\">4.5.1&nbsp;&nbsp;</span>Summary - Random Forest Model 6</a></span></li><li><span><a href=\"#Feature-Importance-Chart\" data-toc-modified-id=\"Feature-Importance-Chart-4.5.2\"><span class=\"toc-item-num\">4.5.2&nbsp;&nbsp;</span>Feature Importance Chart</a></span></li><li><span><a href=\"#Improve-Feature-Importance-Bar-Chart\" data-toc-modified-id=\"Improve-Feature-Importance-Bar-Chart-4.5.3\"><span class=\"toc-item-num\">4.5.3&nbsp;&nbsp;</span>Improve Feature Importance Bar Chart</a></span></li></ul></li><li><span><a href=\"#Explore-EXT_SOURCE-data\" data-toc-modified-id=\"Explore-EXT_SOURCE-data-4.6\"><span class=\"toc-item-num\">4.6&nbsp;&nbsp;</span>Explore EXT_SOURCE data</a></span></li></ul></li><li><span><a href=\"#Check-Gradient-Boost-&amp;-Tune-Learning-Rate\" data-toc-modified-id=\"Check-Gradient-Boost-&amp;-Tune-Learning-Rate-5\"><span class=\"toc-item-num\">5&nbsp;&nbsp;</span>Check Gradient Boost &amp; Tune Learning Rate</a></span><ul class=\"toc-item\"><li><ul class=\"toc-item\"><li><span><a href=\"#Summary---Gradient-Boost-Model-1\" data-toc-modified-id=\"Summary---Gradient-Boost-Model-1-5.0.1\"><span class=\"toc-item-num\">5.0.1&nbsp;&nbsp;</span>Summary - Gradient Boost Model 1</a></span></li></ul></li><li><span><a href=\"#Gradient-Boost-Model-2\" data-toc-modified-id=\"Gradient-Boost-Model-2-5.1\"><span class=\"toc-item-num\">5.1&nbsp;&nbsp;</span>Gradient Boost Model 2</a></span><ul class=\"toc-item\"><li><span><a href=\"#Summary---Gradient-Boost-Model-2\" data-toc-modified-id=\"Summary---Gradient-Boost-Model-2-5.1.1\"><span class=\"toc-item-num\">5.1.1&nbsp;&nbsp;</span>Summary - Gradient Boost Model 2</a></span></li></ul></li><li><span><a href=\"#Gradient-Boost-Model-3\" data-toc-modified-id=\"Gradient-Boost-Model-3-5.2\"><span class=\"toc-item-num\">5.2&nbsp;&nbsp;</span>Gradient Boost Model 3</a></span><ul class=\"toc-item\"><li><span><a href=\"#Summary---Gradient-Boost-Model-3\" data-toc-modified-id=\"Summary---Gradient-Boost-Model-3-5.2.1\"><span class=\"toc-item-num\">5.2.1&nbsp;&nbsp;</span>Summary - Gradient Boost Model 3</a></span></li></ul></li></ul></li><li><span><a href=\"#Gaussian-Naive-Bayes---Model-1\" data-toc-modified-id=\"Gaussian-Naive-Bayes---Model-1-6\"><span class=\"toc-item-num\">6&nbsp;&nbsp;</span>Gaussian Naive Bayes - Model 1</a></span><ul class=\"toc-item\"><li><ul class=\"toc-item\"><li><span><a href=\"#Summary---Gradient-Boost-Model-3\" data-toc-modified-id=\"Summary---Gradient-Boost-Model-3-6.0.1\"><span class=\"toc-item-num\">6.0.1&nbsp;&nbsp;</span>Summary - Gradient Boost Model 3</a></span></li></ul></li></ul></li><li><span><a href=\"#Voting-Classifier-Model-1\" data-toc-modified-id=\"Voting-Classifier-Model-1-7\"><span class=\"toc-item-num\">7&nbsp;&nbsp;</span>Voting Classifier Model 1</a></span><ul class=\"toc-item\"><li><ul class=\"toc-item\"><li><span><a href=\"#Summary---Voting-Classifier-Model-1\" data-toc-modified-id=\"Summary---Voting-Classifier-Model-1-7.0.1\"><span class=\"toc-item-num\">7.0.1&nbsp;&nbsp;</span>Summary - Voting Classifier Model 1</a></span></li></ul></li></ul></li><li><span><a href=\"#Results\" data-toc-modified-id=\"Results-8\"><span class=\"toc-item-num\">8&nbsp;&nbsp;</span>Results</a></span></li><li><span><a href=\"#Reduce-Features,-Check-for-Accuracy\" data-toc-modified-id=\"Reduce-Features,-Check-for-Accuracy-9\"><span class=\"toc-item-num\">9&nbsp;&nbsp;</span>Reduce Features, Check for Accuracy</a></span></li><li><span><a href=\"#Further-Study\" data-toc-modified-id=\"Further-Study-10\"><span class=\"toc-item-num\">10&nbsp;&nbsp;</span>Further Study</a></span></li></ul></div>"
   ]
  },
  {
   "cell_type": "markdown",
   "metadata": {},
   "source": [
    "# Final Project Submission\n",
    "* Student name: Jim Petoskey\n",
    "* Student pace: Self-paced\n",
    "* Scheduled project review date/time: Tuesday March 29, 2022 at 1:45 pm EST\n",
    "* Instructor name: Abhineet Kulkarni\n",
    "* [Blog post URL: Weak Learners vs. Random Forest, Optimizing for True Positive Rate](https://www.kaggle.com/code/kapoorshivam/credit-analysis-using-eda/data)\n",
    "* [Data Source: Kaggle - Credit Analysis using EDA](https://www.kaggle.com/code/kapoorshivam/credit-analysis-using-eda/data)"
   ]
  },
  {
   "cell_type": "markdown",
   "metadata": {},
   "source": [
    "# Summary\n",
    "* Class Imbalance Solutions:\n",
    "    * Under-sample majority class with .sample()\n",
    "        * Lowers computational power needed for models.\n",
    "        * Under and over-sampling allows for better accuracy.\n",
    "    * Over-sample minority class with SMOTE\n",
    "* Certain models optimized for best Accuracy:\n",
    "    * Weak-Learners, such as Gradient Boost\n",
    "        * Tuned to high recall score for Approval, low recall score for Refusal.\n",
    "    * Decision Trees, such as Random Forest\n",
    "        * Best for optimizing for True Positive or True Negative Rates (recall scores)\n",
    "* Increasing the number of features greatly improved the accuracy of the model.\n",
    "    * Trimming these features by feature importance allowed for an even more accurate model, in terms of recall score for loan approval.\n",
    "* Manipulating random_forest hyper-parameters allowed for over-training of the train set, which led to improved accuracy in predicting loan approval (Recall for value of 1).\n",
    "    * Resulting in an accuracy of 98% in predicting if someone will be approved for a loan.\n",
    "* Will be able to propose business case for advancing loan applications to the next stage for the banking industry."
   ]
  },
  {
   "cell_type": "code",
   "execution_count": 109,
   "metadata": {
    "ExecuteTime": {
     "end_time": "2022-03-29T14:59:37.528136Z",
     "start_time": "2022-03-29T14:59:37.470259Z"
    }
   },
   "outputs": [],
   "source": [
    "import pandas as pd\n",
    "import matplotlib.pyplot as plt\n",
    "import numpy as np\n",
    "np.random.seed(0)\n",
    "import seaborn as sns\n",
    "from sklearn.model_selection import train_test_split\n",
    "from sklearn.metrics import roc_curve, auc\n",
    "from sklearn.metrics import confusion_matrix\n",
    "from sklearn.linear_model import LogisticRegression\n",
    "from sklearn.metrics import make_scorer\n",
    "from sklearn.model_selection import StratifiedKFold\n",
    "from sklearn.base import clone\n",
    "from sklearn.metrics import log_loss\n",
    "from sklearn.model_selection import cross_val_score\n",
    "from sklearn.preprocessing import StandardScaler\n",
    "from sklearn.neighbors import KNeighborsClassifier\n",
    "from sklearn.metrics import precision_score, recall_score, accuracy_score, f1_score\n",
    "from sklearn.tree import DecisionTreeClassifier\n",
    "from sklearn.metrics import classification_report\n",
    "from sklearn.ensemble import BaggingClassifier, RandomForestClassifier\n",
    "from xgboost import XGBClassifier\n",
    "from sklearn.model_selection import GridSearchCV\n",
    "from sklearn.svm import SVC\n",
    "from sklearn.ensemble import AdaBoostClassifier, GradientBoostingClassifier\n",
    "from sklearn.preprocessing import LabelEncoder\n",
    "from sklearn.feature_selection import RFECV\n",
    "from sklearn.datasets import make_classification\n",
    "from sklearn.ensemble import RandomForestRegressor, VotingClassifier\n",
    "from sklearn.feature_selection import RFE\n",
    "from sklearn.naive_bayes import GaussianNB\n",
    "from sklearn.metrics import confusion_matrix, ConfusionMatrixDisplay\n",
    "\n",
    "from imblearn.over_sampling import SMOTE, ADASYN\n",
    "\n",
    "import warnings\n",
    "warnings.filterwarnings('ignore')\n",
    "%matplotlib inline"
   ]
  },
  {
   "cell_type": "code",
   "execution_count": 2,
   "metadata": {
    "ExecuteTime": {
     "end_time": "2022-03-29T14:21:32.219934Z",
     "start_time": "2022-03-29T14:21:24.008205Z"
    }
   },
   "outputs": [
    {
     "name": "stdout",
     "output_type": "stream",
     "text": [
      "<class 'pandas.core.frame.DataFrame'>\n",
      "RangeIndex: 307511 entries, 0 to 307510\n",
      "Columns: 122 entries, SK_ID_CURR to AMT_REQ_CREDIT_BUREAU_YEAR\n",
      "dtypes: float64(65), int64(41), object(16)\n",
      "memory usage: 286.2+ MB\n"
     ]
    }
   ],
   "source": [
    "df = pd.read_csv(r'/Users/jimpetoskey/Documents/Flatiron/phase3/Phase_3_Project/Loans/current_app.csv')\n",
    "df.info()"
   ]
  },
  {
   "cell_type": "code",
   "execution_count": 3,
   "metadata": {
    "ExecuteTime": {
     "end_time": "2022-03-29T14:21:32.338654Z",
     "start_time": "2022-03-29T14:21:32.226059Z"
    },
    "scrolled": true
   },
   "outputs": [
    {
     "name": "stdout",
     "output_type": "stream",
     "text": [
      "0    282686\n",
      "1     24825\n",
      "Name: TARGET, dtype: int64\n",
      "\n",
      "count    307511.000000\n",
      "mean          0.080729\n",
      "std           0.272419\n",
      "min           0.000000\n",
      "25%           0.000000\n",
      "50%           0.000000\n",
      "75%           0.000000\n",
      "max           1.000000\n",
      "Name: TARGET, dtype: float64\n"
     ]
    }
   ],
   "source": [
    "print(df['TARGET'].value_counts())\n",
    "print()\n",
    "print(df['TARGET'].describe())"
   ]
  },
  {
   "cell_type": "markdown",
   "metadata": {},
   "source": [
    "# Preprocess Data\n",
    "* Reduce Class Imbalance Issue:\n",
    "    * Sample 40,000 '0' values from the data set and use 25,000 '1' values, for 65,000 total values.\n",
    "    * Then, oversample minority class with SMOTE for a total of 40,000 of each class.\n",
    "* Trim columns based on scikit learn's recursive feature selection select 38 columns."
   ]
  },
  {
   "cell_type": "markdown",
   "metadata": {},
   "source": [
    "## Undersample Majority Class\n",
    "* Will reduce size of dataframe for faster processing on local machine.\n",
    "* Paired with SMOTE, will allow for reducing class imbalance issues"
   ]
  },
  {
   "cell_type": "code",
   "execution_count": 4,
   "metadata": {
    "ExecuteTime": {
     "end_time": "2022-03-29T14:21:33.596395Z",
     "start_time": "2022-03-29T14:21:32.349905Z"
    }
   },
   "outputs": [
    {
     "data": {
      "text/plain": [
       "0    282686\n",
       "Name: TARGET, dtype: int64"
      ]
     },
     "execution_count": 4,
     "metadata": {},
     "output_type": "execute_result"
    }
   ],
   "source": [
    "df_zero_val = df[df.TARGET == 0]\n",
    "df_zero_val['TARGET'].value_counts()"
   ]
  },
  {
   "cell_type": "code",
   "execution_count": 5,
   "metadata": {
    "ExecuteTime": {
     "end_time": "2022-03-29T14:21:35.362150Z",
     "start_time": "2022-03-29T14:21:33.603585Z"
    }
   },
   "outputs": [
    {
     "data": {
      "text/plain": [
       "0    40000\n",
       "Name: TARGET, dtype: int64"
      ]
     },
     "execution_count": 5,
     "metadata": {},
     "output_type": "execute_result"
    }
   ],
   "source": [
    "df_zero_val = df_zero_val.sample(n=40000)\n",
    "df_zero_val['TARGET'].value_counts()"
   ]
  },
  {
   "cell_type": "code",
   "execution_count": 6,
   "metadata": {
    "ExecuteTime": {
     "end_time": "2022-03-29T14:21:35.685845Z",
     "start_time": "2022-03-29T14:21:35.510475Z"
    }
   },
   "outputs": [
    {
     "data": {
      "text/plain": [
       "1    24825\n",
       "Name: TARGET, dtype: int64"
      ]
     },
     "execution_count": 6,
     "metadata": {},
     "output_type": "execute_result"
    }
   ],
   "source": [
    "df_one_val = df[df.TARGET == 1]\n",
    "df_one_val['TARGET'].value_counts()"
   ]
  },
  {
   "cell_type": "code",
   "execution_count": 7,
   "metadata": {
    "ExecuteTime": {
     "end_time": "2022-03-29T14:21:36.052144Z",
     "start_time": "2022-03-29T14:21:35.691599Z"
    }
   },
   "outputs": [
    {
     "data": {
      "text/plain": [
       "0    40000\n",
       "1    24825\n",
       "Name: TARGET, dtype: int64"
      ]
     },
     "execution_count": 7,
     "metadata": {},
     "output_type": "execute_result"
    }
   ],
   "source": [
    "df1 = df_zero_val.append(df_one_val)\n",
    "df1['TARGET'].value_counts()"
   ]
  },
  {
   "cell_type": "markdown",
   "metadata": {},
   "source": [
    "## Feature Selection\n",
    "* Recursive Feature Selection (RFE) with sklearn"
   ]
  },
  {
   "cell_type": "code",
   "execution_count": 8,
   "metadata": {
    "ExecuteTime": {
     "end_time": "2022-03-29T14:21:36.099708Z",
     "start_time": "2022-03-29T14:21:36.066229Z"
    },
    "scrolled": true
   },
   "outputs": [
    {
     "name": "stdout",
     "output_type": "stream",
     "text": [
      "<class 'pandas.core.frame.DataFrame'>\n",
      "Int64Index: 64825 entries, 39451 to 307509\n",
      "Columns: 122 entries, SK_ID_CURR to AMT_REQ_CREDIT_BUREAU_YEAR\n",
      "dtypes: float64(65), int64(41), object(16)\n",
      "memory usage: 60.8+ MB\n"
     ]
    }
   ],
   "source": [
    "df1.info()"
   ]
  },
  {
   "cell_type": "code",
   "execution_count": 9,
   "metadata": {
    "ExecuteTime": {
     "end_time": "2022-03-29T14:21:47.420468Z",
     "start_time": "2022-03-29T14:21:36.105962Z"
    }
   },
   "outputs": [
    {
     "name": "stdout",
     "output_type": "stream",
     "text": [
      "Optimal number of features : 63\n"
     ]
    },
    {
     "data": {
      "image/png": "[encoded data removed]",
      "text/plain": [
       "<Figure size 432x288 with 1 Axes>"
      ]
     },
     "metadata": {
      "needs_background": "light"
     },
     "output_type": "display_data"
    }
   ],
   "source": [
    "X = df1.drop('TARGET', axis=1)\n",
    "y = df1['TARGET']\n",
    "\n",
    "# Build a classification task using 30 informative features\n",
    "X, y = make_classification(\n",
    "    n_samples=500,\n",
    "    n_features=122,\n",
    "    n_informative=30,\n",
    "    n_redundant=2,\n",
    "    n_repeated=0,\n",
    "    n_classes=8,\n",
    "    n_clusters_per_class=1,\n",
    "    random_state=0,\n",
    ")\n",
    "\n",
    "# Create the RFE object and compute a cross-validated score.\n",
    "svc = SVC(kernel=\"linear\")\n",
    "# The \"accuracy\" scoring shows the proportion of correct classifications\n",
    "\n",
    "min_features_to_select = 1  # Minimum number of features to consider\n",
    "rfecv = RFECV(\n",
    "    estimator=svc,\n",
    "    step=1,\n",
    "    cv=StratifiedKFold(2),\n",
    "    scoring=\"accuracy\",\n",
    "    min_features_to_select=min_features_to_select,\n",
    ")\n",
    "rfecv.fit(X, y)\n",
    "\n",
    "print(\"Optimal number of features : %d\" % rfecv.n_features_)\n",
    "\n",
    "# Plot number of features VS. cross-validation scores\n",
    "plt.figure()\n",
    "plt.xlabel(\"Number of features selected\")\n",
    "plt.ylabel(\"Cross validation score (accuracy)\")\n",
    "plt.plot(\n",
    "    range(min_features_to_select, len(rfecv.grid_scores_) + min_features_to_select),\n",
    "    rfecv.grid_scores_,\n",
    ")\n",
    "plt.show()"
   ]
  },
  {
   "cell_type": "code",
   "execution_count": 10,
   "metadata": {
    "ExecuteTime": {
     "end_time": "2022-03-29T14:21:47.428403Z",
     "start_time": "2022-03-29T14:21:47.423585Z"
    }
   },
   "outputs": [],
   "source": [
    "# Too computationally expensive to run (>10 minutes)\n",
    "# forest = RandomForestRegressor()\n",
    "\n",
    "# Init the transformer\n",
    "# rfe = RFE(estimator=RandomForestRegressor(), n_features_to_select=115)\n",
    "\n",
    "# Fit to the data\n",
    "# _ = rfe.fit(X_train_resampled, y_train_resampled)"
   ]
  },
  {
   "cell_type": "code",
   "execution_count": 11,
   "metadata": {
    "ExecuteTime": {
     "end_time": "2022-03-29T14:21:47.439074Z",
     "start_time": "2022-03-29T14:21:47.431206Z"
    }
   },
   "outputs": [],
   "source": [
    "# _ = forest.fit(rfe.transform(X_train_resampled), y_train_resampled)\n",
    "# forest.score(rfe.transform(X_test), y_test)"
   ]
  },
  {
   "cell_type": "code",
   "execution_count": 12,
   "metadata": {
    "ExecuteTime": {
     "end_time": "2022-03-29T14:21:47.581393Z",
     "start_time": "2022-03-29T14:21:47.445363Z"
    }
   },
   "outputs": [
    {
     "name": "stdout",
     "output_type": "stream",
     "text": [
      "<class 'pandas.core.frame.DataFrame'>\n",
      "Int64Index: 64825 entries, 39451 to 307509\n",
      "Data columns (total 40 columns):\n",
      " #   Column                       Non-Null Count  Dtype  \n",
      "---  ------                       --------------  -----  \n",
      " 0   TARGET                       64825 non-null  int64  \n",
      " 1   CNT_CHILDREN                 64825 non-null  int64  \n",
      " 2   AMT_INCOME_TOTAL             64825 non-null  float64\n",
      " 3   AMT_CREDIT                   64825 non-null  float64\n",
      " 4   AMT_ANNUITY                  64824 non-null  float64\n",
      " 5   NAME_EDUCATION_TYPE          64825 non-null  object \n",
      " 6   DAYS_EMPLOYED                64825 non-null  int64  \n",
      " 7   CNT_FAM_MEMBERS              64824 non-null  float64\n",
      " 8   DAYS_BIRTH                   64825 non-null  int64  \n",
      " 9   NAME_INCOME_TYPE             64825 non-null  object \n",
      " 10  AMT_GOODS_PRICE              64763 non-null  float64\n",
      " 11  CODE_GENDER                  64825 non-null  object \n",
      " 12  FLAG_OWN_REALTY              64825 non-null  object \n",
      " 13  REGION_RATING_CLIENT         64825 non-null  int64  \n",
      " 14  ORGANIZATION_TYPE            64825 non-null  object \n",
      " 15  DAYS_REGISTRATION            64825 non-null  float64\n",
      " 16  REGION_POPULATION_RELATIVE   64825 non-null  float64\n",
      " 17  NAME_HOUSING_TYPE            64825 non-null  object \n",
      " 18  NAME_FAMILY_STATUS           64825 non-null  object \n",
      " 19  NAME_TYPE_SUITE              64583 non-null  object \n",
      " 20  FLAG_OWN_CAR                 64825 non-null  object \n",
      " 21  NAME_CONTRACT_TYPE           64825 non-null  object \n",
      " 22  LIVE_REGION_NOT_WORK_REGION  64825 non-null  int64  \n",
      " 23  EXT_SOURCE_1                 27601 non-null  float64\n",
      " 24  EXT_SOURCE_2                 64680 non-null  float64\n",
      " 25  EXT_SOURCE_3                 51247 non-null  float64\n",
      " 26  APARTMENTS_AVG               30640 non-null  float64\n",
      " 27  YEARS_BUILD_AVG              20864 non-null  float64\n",
      " 28  FLOORSMAX_AVG                31239 non-null  float64\n",
      " 29  NONLIVINGAREA_AVG            27818 non-null  float64\n",
      " 30  TOTALAREA_MODE               32196 non-null  float64\n",
      " 31  DAYS_LAST_PHONE_CHANGE       64825 non-null  float64\n",
      " 32  LIVINGAREA_MEDI              31047 non-null  float64\n",
      " 33  NONLIVINGAREA_MEDI           27818 non-null  float64\n",
      " 34  AMT_REQ_CREDIT_BUREAU_HOUR   55232 non-null  float64\n",
      " 35  AMT_REQ_CREDIT_BUREAU_DAY    55232 non-null  float64\n",
      " 36  AMT_REQ_CREDIT_BUREAU_WEEK   55232 non-null  float64\n",
      " 37  AMT_REQ_CREDIT_BUREAU_MON    55232 non-null  float64\n",
      " 38  AMT_REQ_CREDIT_BUREAU_QRT    55232 non-null  float64\n",
      " 39  AMT_REQ_CREDIT_BUREAU_YEAR   55232 non-null  float64\n",
      "dtypes: float64(24), int64(6), object(10)\n",
      "memory usage: 20.3+ MB\n"
     ]
    }
   ],
   "source": [
    "# Create new dataframe with selected features\n",
    "df2 = df1.filter(['TARGET', \n",
    "                 'CNT_CHILDREN', \n",
    "                 'AMT_INCOME_TOTAL',\n",
    "                 'AMT_CREDIT', \n",
    "                 'AMT_ANNUITY',\n",
    "                 'NAME_EDUCATION_TYPE',\n",
    "                 'DAYS_EMPLOYED',\n",
    "                 'CNT_FAM_MEMBERS',\n",
    "                 'DAYS_BIRTH',\n",
    "                 'NAME_INCOME_TYPE',\n",
    "                 'AMT_GOODS_PRICE',\n",
    "                 'CODE_GENDER',\n",
    "                 'FLAG_OWN_REALTY',\n",
    "                 'REGION_RATING_CLIENT',\n",
    "                 'ORGANIZATION_TYPE',\n",
    "                 'DAYS_REGISTRATION',\n",
    "                 'REGION_POPULATION_RELATIVE',\n",
    "                 'NAME_HOUSING_TYPE',\n",
    "                 'NAME_FAMILY_STATUS',\n",
    "                 'NAME_TYPE_SUITE',\n",
    "                 'FLAG_OWN_CAR',\n",
    "                 'NAME_CONTRACT_TYPE',\n",
    "                 'LIVE_REGION_NOT_WORK_REGION',\n",
    "                 'EXT_SOURCE_1',\n",
    "                 'EXT_SOURCE_2',\n",
    "                 'EXT_SOURCE_3',\n",
    "                 'APARTMENTS_AVG',\n",
    "                 'YEARS_BUILD_AVG',\n",
    "                 'YEARS_BEGIN_EXPLUATION_AVG',\n",
    "                 'FLOORSMAX_AVG',\n",
    "                 'NONLIVINGAREA_AVG',\n",
    "                 'TOTALAREA_MODE',\n",
    "                 'DAYS_LAST_PHONE_CHANGE',\n",
    "                 'LIVINGAREA_MEDI',\n",
    "                 'NONLIVINGAREA_MEDI',\n",
    "                 'AMT_REQ_CREDIT_BUREAU_HOUR',\n",
    "                 'AMT_REQ_CREDIT_BUREAU_DAY',\n",
    "                 'AMT_REQ_CREDIT_BUREAU_WEEK',\n",
    "                 'AMT_REQ_CREDIT_BUREAU_MON',\n",
    "                 'AMT_REQ_CREDIT_BUREAU_QRT',\n",
    "                 'AMT_REQ_CREDIT_BUREAU_YEAR'], \n",
    "                axis=1)\n",
    "df2.info()"
   ]
  },
  {
   "cell_type": "markdown",
   "metadata": {},
   "source": [
    "## Clean up null and missing values"
   ]
  },
  {
   "cell_type": "code",
   "execution_count": 13,
   "metadata": {
    "ExecuteTime": {
     "end_time": "2022-03-29T14:21:47.656505Z",
     "start_time": "2022-03-29T14:21:47.585434Z"
    }
   },
   "outputs": [
    {
     "data": {
      "text/plain": [
       "TARGET                             0\n",
       "CNT_CHILDREN                       0\n",
       "AMT_INCOME_TOTAL                   0\n",
       "AMT_CREDIT                         0\n",
       "AMT_ANNUITY                        1\n",
       "NAME_EDUCATION_TYPE                0\n",
       "DAYS_EMPLOYED                      0\n",
       "CNT_FAM_MEMBERS                    1\n",
       "DAYS_BIRTH                         0\n",
       "NAME_INCOME_TYPE                   0\n",
       "AMT_GOODS_PRICE                   62\n",
       "CODE_GENDER                        0\n",
       "FLAG_OWN_REALTY                    0\n",
       "REGION_RATING_CLIENT               0\n",
       "ORGANIZATION_TYPE                  0\n",
       "DAYS_REGISTRATION                  0\n",
       "REGION_POPULATION_RELATIVE         0\n",
       "NAME_HOUSING_TYPE                  0\n",
       "NAME_FAMILY_STATUS                 0\n",
       "NAME_TYPE_SUITE                  242\n",
       "FLAG_OWN_CAR                       0\n",
       "NAME_CONTRACT_TYPE                 0\n",
       "LIVE_REGION_NOT_WORK_REGION        0\n",
       "EXT_SOURCE_1                   37224\n",
       "EXT_SOURCE_2                     145\n",
       "EXT_SOURCE_3                   13578\n",
       "APARTMENTS_AVG                 34185\n",
       "YEARS_BUILD_AVG                43961\n",
       "FLOORSMAX_AVG                  33586\n",
       "NONLIVINGAREA_AVG              37007\n",
       "TOTALAREA_MODE                 32629\n",
       "DAYS_LAST_PHONE_CHANGE             0\n",
       "LIVINGAREA_MEDI                33778\n",
       "NONLIVINGAREA_MEDI             37007\n",
       "AMT_REQ_CREDIT_BUREAU_HOUR      9593\n",
       "AMT_REQ_CREDIT_BUREAU_DAY       9593\n",
       "AMT_REQ_CREDIT_BUREAU_WEEK      9593\n",
       "AMT_REQ_CREDIT_BUREAU_MON       9593\n",
       "AMT_REQ_CREDIT_BUREAU_QRT       9593\n",
       "AMT_REQ_CREDIT_BUREAU_YEAR      9593\n",
       "dtype: int64"
      ]
     },
     "execution_count": 13,
     "metadata": {},
     "output_type": "execute_result"
    }
   ],
   "source": [
    "df2.isnull().sum()"
   ]
  },
  {
   "cell_type": "markdown",
   "metadata": {},
   "source": [
    "## Replace null values \n",
    "* Categoricals: Replace with mode\n",
    "* Numericals: Replace with mean"
   ]
  },
  {
   "cell_type": "markdown",
   "metadata": {},
   "source": [
    "### Separate Numericals & Categoricals\n",
    "* Complete further investigation of features"
   ]
  },
  {
   "cell_type": "code",
   "execution_count": 14,
   "metadata": {
    "ExecuteTime": {
     "end_time": "2022-03-29T14:21:47.729521Z",
     "start_time": "2022-03-29T14:21:47.662727Z"
    }
   },
   "outputs": [
    {
     "name": "stdout",
     "output_type": "stream",
     "text": [
      "<class 'pandas.core.frame.DataFrame'>\n",
      "Int64Index: 64825 entries, 39451 to 307509\n",
      "Data columns (total 30 columns):\n",
      " #   Column                       Non-Null Count  Dtype  \n",
      "---  ------                       --------------  -----  \n",
      " 0   TARGET                       64825 non-null  int64  \n",
      " 1   CNT_CHILDREN                 64825 non-null  int64  \n",
      " 2   AMT_INCOME_TOTAL             64825 non-null  float64\n",
      " 3   AMT_CREDIT                   64825 non-null  float64\n",
      " 4   AMT_ANNUITY                  64824 non-null  float64\n",
      " 5   DAYS_EMPLOYED                64825 non-null  int64  \n",
      " 6   CNT_FAM_MEMBERS              64824 non-null  float64\n",
      " 7   DAYS_BIRTH                   64825 non-null  int64  \n",
      " 8   AMT_GOODS_PRICE              64763 non-null  float64\n",
      " 9   REGION_RATING_CLIENT         64825 non-null  int64  \n",
      " 10  DAYS_REGISTRATION            64825 non-null  float64\n",
      " 11  REGION_POPULATION_RELATIVE   64825 non-null  float64\n",
      " 12  LIVE_REGION_NOT_WORK_REGION  64825 non-null  int64  \n",
      " 13  EXT_SOURCE_1                 27601 non-null  float64\n",
      " 14  EXT_SOURCE_2                 64680 non-null  float64\n",
      " 15  EXT_SOURCE_3                 51247 non-null  float64\n",
      " 16  APARTMENTS_AVG               30640 non-null  float64\n",
      " 17  YEARS_BUILD_AVG              20864 non-null  float64\n",
      " 18  FLOORSMAX_AVG                31239 non-null  float64\n",
      " 19  NONLIVINGAREA_AVG            27818 non-null  float64\n",
      " 20  TOTALAREA_MODE               32196 non-null  float64\n",
      " 21  DAYS_LAST_PHONE_CHANGE       64825 non-null  float64\n",
      " 22  LIVINGAREA_MEDI              31047 non-null  float64\n",
      " 23  NONLIVINGAREA_MEDI           27818 non-null  float64\n",
      " 24  AMT_REQ_CREDIT_BUREAU_HOUR   55232 non-null  float64\n",
      " 25  AMT_REQ_CREDIT_BUREAU_DAY    55232 non-null  float64\n",
      " 26  AMT_REQ_CREDIT_BUREAU_WEEK   55232 non-null  float64\n",
      " 27  AMT_REQ_CREDIT_BUREAU_MON    55232 non-null  float64\n",
      " 28  AMT_REQ_CREDIT_BUREAU_QRT    55232 non-null  float64\n",
      " 29  AMT_REQ_CREDIT_BUREAU_YEAR   55232 non-null  float64\n",
      "dtypes: float64(24), int64(6)\n",
      "memory usage: 15.3 MB\n"
     ]
    }
   ],
   "source": [
    "# Select only numerical features\n",
    "num = df2.select_dtypes(include=np.number)\n",
    "num.info()"
   ]
  },
  {
   "cell_type": "code",
   "execution_count": 189,
   "metadata": {
    "ExecuteTime": {
     "end_time": "2022-03-29T19:54:10.169979Z",
     "start_time": "2022-03-29T19:54:09.845884Z"
    }
   },
   "outputs": [
    {
     "data": {
      "text/html": [
       "<div>\n",
       "<style scoped>\n",
       "    .dataframe tbody tr th:only-of-type {\n",
       "        vertical-align: middle;\n",
       "    }\n",
       "\n",
       "    .dataframe tbody tr th {\n",
       "        vertical-align: top;\n",
       "    }\n",
       "\n",
       "    .dataframe thead th {\n",
       "        text-align: right;\n",
       "    }\n",
       "</style>\n",
       "<table border=\"1\" class=\"dataframe\">\n",
       "  <thead>\n",
       "    <tr style=\"text-align: right;\">\n",
       "      <th></th>\n",
       "      <th>TARGET</th>\n",
       "      <th>CNT_CHILDREN</th>\n",
       "      <th>AMT_INCOME_TOTAL</th>\n",
       "      <th>AMT_CREDIT</th>\n",
       "      <th>AMT_ANNUITY</th>\n",
       "      <th>DAYS_EMPLOYED</th>\n",
       "      <th>CNT_FAM_MEMBERS</th>\n",
       "      <th>DAYS_BIRTH</th>\n",
       "      <th>AMT_GOODS_PRICE</th>\n",
       "      <th>REGION_RATING_CLIENT</th>\n",
       "      <th>...</th>\n",
       "      <th>TOTALAREA_MODE</th>\n",
       "      <th>DAYS_LAST_PHONE_CHANGE</th>\n",
       "      <th>LIVINGAREA_MEDI</th>\n",
       "      <th>NONLIVINGAREA_MEDI</th>\n",
       "      <th>AMT_REQ_CREDIT_BUREAU_HOUR</th>\n",
       "      <th>AMT_REQ_CREDIT_BUREAU_DAY</th>\n",
       "      <th>AMT_REQ_CREDIT_BUREAU_WEEK</th>\n",
       "      <th>AMT_REQ_CREDIT_BUREAU_MON</th>\n",
       "      <th>AMT_REQ_CREDIT_BUREAU_QRT</th>\n",
       "      <th>AMT_REQ_CREDIT_BUREAU_YEAR</th>\n",
       "    </tr>\n",
       "  </thead>\n",
       "  <tbody>\n",
       "    <tr>\n",
       "      <th>count</th>\n",
       "      <td>64825.000000</td>\n",
       "      <td>64825.000000</td>\n",
       "      <td>6.482500e+04</td>\n",
       "      <td>6.482500e+04</td>\n",
       "      <td>64825.000000</td>\n",
       "      <td>64825.000000</td>\n",
       "      <td>64825.000000</td>\n",
       "      <td>64825.000000</td>\n",
       "      <td>6.482500e+04</td>\n",
       "      <td>64825.000000</td>\n",
       "      <td>...</td>\n",
       "      <td>64825.000000</td>\n",
       "      <td>64825.00000</td>\n",
       "      <td>64825.000000</td>\n",
       "      <td>64825.000000</td>\n",
       "      <td>64825.000000</td>\n",
       "      <td>64825.000000</td>\n",
       "      <td>64825.000000</td>\n",
       "      <td>64825.000000</td>\n",
       "      <td>64825.000000</td>\n",
       "      <td>64825.000000</td>\n",
       "    </tr>\n",
       "    <tr>\n",
       "      <th>mean</th>\n",
       "      <td>0.382954</td>\n",
       "      <td>0.435465</td>\n",
       "      <td>1.679509e+05</td>\n",
       "      <td>5.853929e+05</td>\n",
       "      <td>26936.759534</td>\n",
       "      <td>57047.771616</td>\n",
       "      <td>2.165263</td>\n",
       "      <td>-15659.305175</td>\n",
       "      <td>5.222983e+05</td>\n",
       "      <td>2.086494</td>\n",
       "      <td>...</td>\n",
       "      <td>0.099172</td>\n",
       "      <td>-916.15295</td>\n",
       "      <td>0.104900</td>\n",
       "      <td>0.027661</td>\n",
       "      <td>0.006518</td>\n",
       "      <td>0.007242</td>\n",
       "      <td>0.035487</td>\n",
       "      <td>0.254907</td>\n",
       "      <td>0.263597</td>\n",
       "      <td>1.947096</td>\n",
       "    </tr>\n",
       "    <tr>\n",
       "      <th>std</th>\n",
       "      <td>0.486111</td>\n",
       "      <td>0.733516</td>\n",
       "      <td>4.736709e+05</td>\n",
       "      <td>3.850936e+05</td>\n",
       "      <td>13885.702447</td>\n",
       "      <td>135132.797548</td>\n",
       "      <td>0.923811</td>\n",
       "      <td>4351.025066</td>\n",
       "      <td>3.520200e+05</td>\n",
       "      <td>0.510715</td>\n",
       "      <td>...</td>\n",
       "      <td>0.074157</td>\n",
       "      <td>811.36329</td>\n",
       "      <td>0.076015</td>\n",
       "      <td>0.046080</td>\n",
       "      <td>0.076931</td>\n",
       "      <td>0.096296</td>\n",
       "      <td>0.189117</td>\n",
       "      <td>0.800008</td>\n",
       "      <td>0.575253</td>\n",
       "      <td>1.747494</td>\n",
       "    </tr>\n",
       "    <tr>\n",
       "      <th>min</th>\n",
       "      <td>0.000000</td>\n",
       "      <td>0.000000</td>\n",
       "      <td>2.565000e+04</td>\n",
       "      <td>4.500000e+04</td>\n",
       "      <td>1615.500000</td>\n",
       "      <td>-16836.000000</td>\n",
       "      <td>1.000000</td>\n",
       "      <td>-25192.000000</td>\n",
       "      <td>4.500000e+04</td>\n",
       "      <td>1.000000</td>\n",
       "      <td>...</td>\n",
       "      <td>0.000000</td>\n",
       "      <td>-4153.00000</td>\n",
       "      <td>0.000000</td>\n",
       "      <td>0.000000</td>\n",
       "      <td>0.000000</td>\n",
       "      <td>0.000000</td>\n",
       "      <td>0.000000</td>\n",
       "      <td>0.000000</td>\n",
       "      <td>0.000000</td>\n",
       "      <td>0.000000</td>\n",
       "    </tr>\n",
       "    <tr>\n",
       "      <th>25%</th>\n",
       "      <td>0.000000</td>\n",
       "      <td>0.000000</td>\n",
       "      <td>1.125000e+05</td>\n",
       "      <td>2.750400e+05</td>\n",
       "      <td>16852.500000</td>\n",
       "      <td>-2565.000000</td>\n",
       "      <td>2.000000</td>\n",
       "      <td>-19221.000000</td>\n",
       "      <td>2.385000e+05</td>\n",
       "      <td>2.000000</td>\n",
       "      <td>...</td>\n",
       "      <td>0.067800</td>\n",
       "      <td>-1518.00000</td>\n",
       "      <td>0.076200</td>\n",
       "      <td>0.006600</td>\n",
       "      <td>0.000000</td>\n",
       "      <td>0.000000</td>\n",
       "      <td>0.000000</td>\n",
       "      <td>0.000000</td>\n",
       "      <td>0.000000</td>\n",
       "      <td>1.000000</td>\n",
       "    </tr>\n",
       "    <tr>\n",
       "      <th>50%</th>\n",
       "      <td>0.000000</td>\n",
       "      <td>0.000000</td>\n",
       "      <td>1.440000e+05</td>\n",
       "      <td>5.084955e+05</td>\n",
       "      <td>24988.500000</td>\n",
       "      <td>-1143.000000</td>\n",
       "      <td>2.000000</td>\n",
       "      <td>-15233.000000</td>\n",
       "      <td>4.500000e+05</td>\n",
       "      <td>2.000000</td>\n",
       "      <td>...</td>\n",
       "      <td>0.099172</td>\n",
       "      <td>-701.00000</td>\n",
       "      <td>0.104900</td>\n",
       "      <td>0.027661</td>\n",
       "      <td>0.000000</td>\n",
       "      <td>0.000000</td>\n",
       "      <td>0.000000</td>\n",
       "      <td>0.000000</td>\n",
       "      <td>0.000000</td>\n",
       "      <td>1.947096</td>\n",
       "    </tr>\n",
       "    <tr>\n",
       "      <th>75%</th>\n",
       "      <td>1.000000</td>\n",
       "      <td>1.000000</td>\n",
       "      <td>2.025000e+05</td>\n",
       "      <td>7.871310e+05</td>\n",
       "      <td>34254.000000</td>\n",
       "      <td>-321.000000</td>\n",
       "      <td>3.000000</td>\n",
       "      <td>-12007.000000</td>\n",
       "      <td>6.750000e+05</td>\n",
       "      <td>2.000000</td>\n",
       "      <td>...</td>\n",
       "      <td>0.099172</td>\n",
       "      <td>-246.00000</td>\n",
       "      <td>0.104900</td>\n",
       "      <td>0.027661</td>\n",
       "      <td>0.000000</td>\n",
       "      <td>0.000000</td>\n",
       "      <td>0.000000</td>\n",
       "      <td>0.254907</td>\n",
       "      <td>0.263597</td>\n",
       "      <td>3.000000</td>\n",
       "    </tr>\n",
       "    <tr>\n",
       "      <th>max</th>\n",
       "      <td>1.000000</td>\n",
       "      <td>11.000000</td>\n",
       "      <td>1.170000e+08</td>\n",
       "      <td>4.050000e+06</td>\n",
       "      <td>225000.000000</td>\n",
       "      <td>365243.000000</td>\n",
       "      <td>13.000000</td>\n",
       "      <td>-7676.000000</td>\n",
       "      <td>4.050000e+06</td>\n",
       "      <td>3.000000</td>\n",
       "      <td>...</td>\n",
       "      <td>1.000000</td>\n",
       "      <td>0.00000</td>\n",
       "      <td>1.000000</td>\n",
       "      <td>1.000000</td>\n",
       "      <td>2.000000</td>\n",
       "      <td>6.000000</td>\n",
       "      <td>6.000000</td>\n",
       "      <td>19.000000</td>\n",
       "      <td>19.000000</td>\n",
       "      <td>22.000000</td>\n",
       "    </tr>\n",
       "  </tbody>\n",
       "</table>\n",
       "<p>8 rows × 30 columns</p>\n",
       "</div>"
      ],
      "text/plain": [
       "             TARGET  CNT_CHILDREN  AMT_INCOME_TOTAL    AMT_CREDIT  \\\n",
       "count  64825.000000  64825.000000      6.482500e+04  6.482500e+04   \n",
       "mean       0.382954      0.435465      1.679509e+05  5.853929e+05   \n",
       "std        0.486111      0.733516      4.736709e+05  3.850936e+05   \n",
       "min        0.000000      0.000000      2.565000e+04  4.500000e+04   \n",
       "25%        0.000000      0.000000      1.125000e+05  2.750400e+05   \n",
       "50%        0.000000      0.000000      1.440000e+05  5.084955e+05   \n",
       "75%        1.000000      1.000000      2.025000e+05  7.871310e+05   \n",
       "max        1.000000     11.000000      1.170000e+08  4.050000e+06   \n",
       "\n",
       "         AMT_ANNUITY  DAYS_EMPLOYED  CNT_FAM_MEMBERS    DAYS_BIRTH  \\\n",
       "count   64825.000000   64825.000000     64825.000000  64825.000000   \n",
       "mean    26936.759534   57047.771616         2.165263 -15659.305175   \n",
       "std     13885.702447  135132.797548         0.923811   4351.025066   \n",
       "min      1615.500000  -16836.000000         1.000000 -25192.000000   \n",
       "25%     16852.500000   -2565.000000         2.000000 -19221.000000   \n",
       "50%     24988.500000   -1143.000000         2.000000 -15233.000000   \n",
       "75%     34254.000000    -321.000000         3.000000 -12007.000000   \n",
       "max    225000.000000  365243.000000        13.000000  -7676.000000   \n",
       "\n",
       "       AMT_GOODS_PRICE  REGION_RATING_CLIENT  ...  TOTALAREA_MODE  \\\n",
       "count     6.482500e+04          64825.000000  ...    64825.000000   \n",
       "mean      5.222983e+05              2.086494  ...        0.099172   \n",
       "std       3.520200e+05              0.510715  ...        0.074157   \n",
       "min       4.500000e+04              1.000000  ...        0.000000   \n",
       "25%       2.385000e+05              2.000000  ...        0.067800   \n",
       "50%       4.500000e+05              2.000000  ...        0.099172   \n",
       "75%       6.750000e+05              2.000000  ...        0.099172   \n",
       "max       4.050000e+06              3.000000  ...        1.000000   \n",
       "\n",
       "       DAYS_LAST_PHONE_CHANGE  LIVINGAREA_MEDI  NONLIVINGAREA_MEDI  \\\n",
       "count             64825.00000     64825.000000        64825.000000   \n",
       "mean               -916.15295         0.104900            0.027661   \n",
       "std                 811.36329         0.076015            0.046080   \n",
       "min               -4153.00000         0.000000            0.000000   \n",
       "25%               -1518.00000         0.076200            0.006600   \n",
       "50%                -701.00000         0.104900            0.027661   \n",
       "75%                -246.00000         0.104900            0.027661   \n",
       "max                   0.00000         1.000000            1.000000   \n",
       "\n",
       "       AMT_REQ_CREDIT_BUREAU_HOUR  AMT_REQ_CREDIT_BUREAU_DAY  \\\n",
       "count                64825.000000               64825.000000   \n",
       "mean                     0.006518                   0.007242   \n",
       "std                      0.076931                   0.096296   \n",
       "min                      0.000000                   0.000000   \n",
       "25%                      0.000000                   0.000000   \n",
       "50%                      0.000000                   0.000000   \n",
       "75%                      0.000000                   0.000000   \n",
       "max                      2.000000                   6.000000   \n",
       "\n",
       "       AMT_REQ_CREDIT_BUREAU_WEEK  AMT_REQ_CREDIT_BUREAU_MON  \\\n",
       "count                64825.000000               64825.000000   \n",
       "mean                     0.035487                   0.254907   \n",
       "std                      0.189117                   0.800008   \n",
       "min                      0.000000                   0.000000   \n",
       "25%                      0.000000                   0.000000   \n",
       "50%                      0.000000                   0.000000   \n",
       "75%                      0.000000                   0.254907   \n",
       "max                      6.000000                  19.000000   \n",
       "\n",
       "       AMT_REQ_CREDIT_BUREAU_QRT  AMT_REQ_CREDIT_BUREAU_YEAR  \n",
       "count               64825.000000                64825.000000  \n",
       "mean                    0.263597                    1.947096  \n",
       "std                     0.575253                    1.747494  \n",
       "min                     0.000000                    0.000000  \n",
       "25%                     0.000000                    1.000000  \n",
       "50%                     0.000000                    1.947096  \n",
       "75%                     0.263597                    3.000000  \n",
       "max                    19.000000                   22.000000  \n",
       "\n",
       "[8 rows x 30 columns]"
      ]
     },
     "metadata": {},
     "output_type": "display_data"
    }
   ],
   "source": [
    "# Interpret values of columns\n",
    "display(num.describe())"
   ]
  },
  {
   "cell_type": "code",
   "execution_count": 187,
   "metadata": {
    "ExecuteTime": {
     "end_time": "2022-03-29T19:53:29.113298Z",
     "start_time": "2022-03-29T19:53:26.618258Z"
    }
   },
   "outputs": [
    {
     "data": {
      "image/png": "[encoded data removed]",
      "text/plain": [
       "<Figure size 1440x720 with 1 Axes>"
      ]
     },
     "metadata": {
      "needs_background": "light"
     },
     "output_type": "display_data"
    }
   ],
   "source": [
    "# Create a box plot of each numerical column\n",
    "plt.figure(figsize=(20, 10))\n",
    "plt.boxplot([num[col] for col in num.columns])\n",
    "plt.title(\"Box plot of all columns in dataset\")\n",
    "plt.xticks(range(len(num.columns.values)), num.columns.values)\n",
    "plt.show()"
   ]
  },
  {
   "cell_type": "code",
   "execution_count": 15,
   "metadata": {
    "ExecuteTime": {
     "end_time": "2022-03-29T14:21:47.792845Z",
     "start_time": "2022-03-29T14:21:47.733212Z"
    }
   },
   "outputs": [
    {
     "name": "stdout",
     "output_type": "stream",
     "text": [
      "TARGET                         0\n",
      "CNT_CHILDREN                   0\n",
      "AMT_INCOME_TOTAL               0\n",
      "AMT_CREDIT                     0\n",
      "AMT_ANNUITY                    0\n",
      "DAYS_EMPLOYED                  0\n",
      "CNT_FAM_MEMBERS                0\n",
      "DAYS_BIRTH                     0\n",
      "AMT_GOODS_PRICE                0\n",
      "REGION_RATING_CLIENT           0\n",
      "DAYS_REGISTRATION              0\n",
      "REGION_POPULATION_RELATIVE     0\n",
      "LIVE_REGION_NOT_WORK_REGION    0\n",
      "EXT_SOURCE_1                   0\n",
      "EXT_SOURCE_2                   0\n",
      "EXT_SOURCE_3                   0\n",
      "APARTMENTS_AVG                 0\n",
      "YEARS_BUILD_AVG                0\n",
      "FLOORSMAX_AVG                  0\n",
      "NONLIVINGAREA_AVG              0\n",
      "TOTALAREA_MODE                 0\n",
      "DAYS_LAST_PHONE_CHANGE         0\n",
      "LIVINGAREA_MEDI                0\n",
      "NONLIVINGAREA_MEDI             0\n",
      "AMT_REQ_CREDIT_BUREAU_HOUR     0\n",
      "AMT_REQ_CREDIT_BUREAU_DAY      0\n",
      "AMT_REQ_CREDIT_BUREAU_WEEK     0\n",
      "AMT_REQ_CREDIT_BUREAU_MON      0\n",
      "AMT_REQ_CREDIT_BUREAU_QRT      0\n",
      "AMT_REQ_CREDIT_BUREAU_YEAR     0\n",
      "dtype: int64\n"
     ]
    }
   ],
   "source": [
    "# Replace null values in numerical columns with mean\n",
    "for i in num.columns[num.isnull().any(axis=0)]:     #---Applying Only on variables with NaN values\n",
    "    num[i].fillna(num[i].mean(),inplace=True)\n",
    "\n",
    "print(num.isnull().sum())"
   ]
  },
  {
   "cell_type": "code",
   "execution_count": 16,
   "metadata": {
    "ExecuteTime": {
     "end_time": "2022-03-29T14:21:47.821211Z",
     "start_time": "2022-03-29T14:21:47.795120Z"
    }
   },
   "outputs": [
    {
     "name": "stdout",
     "output_type": "stream",
     "text": [
      "<class 'pandas.core.frame.DataFrame'>\n",
      "Int64Index: 64825 entries, 39451 to 307509\n",
      "Data columns (total 30 columns):\n",
      " #   Column                       Non-Null Count  Dtype  \n",
      "---  ------                       --------------  -----  \n",
      " 0   TARGET                       64825 non-null  int64  \n",
      " 1   CNT_CHILDREN                 64825 non-null  int64  \n",
      " 2   AMT_INCOME_TOTAL             64825 non-null  float64\n",
      " 3   AMT_CREDIT                   64825 non-null  float64\n",
      " 4   AMT_ANNUITY                  64825 non-null  float64\n",
      " 5   DAYS_EMPLOYED                64825 non-null  int64  \n",
      " 6   CNT_FAM_MEMBERS              64825 non-null  float64\n",
      " 7   DAYS_BIRTH                   64825 non-null  int64  \n",
      " 8   AMT_GOODS_PRICE              64825 non-null  float64\n",
      " 9   REGION_RATING_CLIENT         64825 non-null  int64  \n",
      " 10  DAYS_REGISTRATION            64825 non-null  float64\n",
      " 11  REGION_POPULATION_RELATIVE   64825 non-null  float64\n",
      " 12  LIVE_REGION_NOT_WORK_REGION  64825 non-null  int64  \n",
      " 13  EXT_SOURCE_1                 64825 non-null  float64\n",
      " 14  EXT_SOURCE_2                 64825 non-null  float64\n",
      " 15  EXT_SOURCE_3                 64825 non-null  float64\n",
      " 16  APARTMENTS_AVG               64825 non-null  float64\n",
      " 17  YEARS_BUILD_AVG              64825 non-null  float64\n",
      " 18  FLOORSMAX_AVG                64825 non-null  float64\n",
      " 19  NONLIVINGAREA_AVG            64825 non-null  float64\n",
      " 20  TOTALAREA_MODE               64825 non-null  float64\n",
      " 21  DAYS_LAST_PHONE_CHANGE       64825 non-null  float64\n",
      " 22  LIVINGAREA_MEDI              64825 non-null  float64\n",
      " 23  NONLIVINGAREA_MEDI           64825 non-null  float64\n",
      " 24  AMT_REQ_CREDIT_BUREAU_HOUR   64825 non-null  float64\n",
      " 25  AMT_REQ_CREDIT_BUREAU_DAY    64825 non-null  float64\n",
      " 26  AMT_REQ_CREDIT_BUREAU_WEEK   64825 non-null  float64\n",
      " 27  AMT_REQ_CREDIT_BUREAU_MON    64825 non-null  float64\n",
      " 28  AMT_REQ_CREDIT_BUREAU_QRT    64825 non-null  float64\n",
      " 29  AMT_REQ_CREDIT_BUREAU_YEAR   64825 non-null  float64\n",
      "dtypes: float64(24), int64(6)\n",
      "memory usage: 15.3 MB\n"
     ]
    }
   ],
   "source": [
    "num.info()"
   ]
  },
  {
   "cell_type": "markdown",
   "metadata": {},
   "source": [
    "#### Summary of numericals\n",
    "* AMT_INCOME_TOTAL has one or many outliers that may need to be trimmed.\n",
    "* Widely varying magnitudes - normalization will be important"
   ]
  },
  {
   "cell_type": "markdown",
   "metadata": {},
   "source": [
    "### Categoricals"
   ]
  },
  {
   "cell_type": "code",
   "execution_count": 17,
   "metadata": {
    "ExecuteTime": {
     "end_time": "2022-03-29T14:21:47.892396Z",
     "start_time": "2022-03-29T14:21:47.824123Z"
    }
   },
   "outputs": [
    {
     "name": "stdout",
     "output_type": "stream",
     "text": [
      "<class 'pandas.core.frame.DataFrame'>\n",
      "Int64Index: 64825 entries, 39451 to 307509\n",
      "Data columns (total 10 columns):\n",
      " #   Column               Non-Null Count  Dtype \n",
      "---  ------               --------------  ----- \n",
      " 0   NAME_EDUCATION_TYPE  64825 non-null  object\n",
      " 1   NAME_INCOME_TYPE     64825 non-null  object\n",
      " 2   CODE_GENDER          64825 non-null  object\n",
      " 3   FLAG_OWN_REALTY      64825 non-null  object\n",
      " 4   ORGANIZATION_TYPE    64825 non-null  object\n",
      " 5   NAME_HOUSING_TYPE    64825 non-null  object\n",
      " 6   NAME_FAMILY_STATUS   64825 non-null  object\n",
      " 7   NAME_TYPE_SUITE      64583 non-null  object\n",
      " 8   FLAG_OWN_CAR         64825 non-null  object\n",
      " 9   NAME_CONTRACT_TYPE   64825 non-null  object\n",
      "dtypes: object(10)\n",
      "memory usage: 5.4+ MB\n"
     ]
    }
   ],
   "source": [
    "cats = df2.select_dtypes(include='object')\n",
    "cats.info()"
   ]
  },
  {
   "cell_type": "markdown",
   "metadata": {},
   "source": [
    "## Label Encode or One-Hot Encode Categoricals\n",
    "   * Explore to figure out number of unique values\n",
    "       * If unique values >5, then label encode"
   ]
  },
  {
   "cell_type": "code",
   "execution_count": 18,
   "metadata": {
    "ExecuteTime": {
     "end_time": "2022-03-29T14:21:47.919229Z",
     "start_time": "2022-03-29T14:21:47.895532Z"
    }
   },
   "outputs": [
    {
     "data": {
      "text/plain": [
       "Working                 35570\n",
       "Commercial associate    14616\n",
       "Pensioner               10443\n",
       "State servant            4179\n",
       "Unemployed                 10\n",
       "Student                     4\n",
       "Maternity leave             2\n",
       "Businessman                 1\n",
       "Name: NAME_INCOME_TYPE, dtype: int64"
      ]
     },
     "execution_count": 18,
     "metadata": {},
     "output_type": "execute_result"
    }
   ],
   "source": [
    "cats['NAME_INCOME_TYPE'].value_counts()"
   ]
  },
  {
   "cell_type": "code",
   "execution_count": 19,
   "metadata": {
    "ExecuteTime": {
     "end_time": "2022-03-29T14:21:47.945780Z",
     "start_time": "2022-03-29T14:21:47.924221Z"
    }
   },
   "outputs": [
    {
     "data": {
      "text/plain": [
       "Unaccompanied      52634\n",
       "Family              8204\n",
       "Spouse, partner     2391\n",
       "Children             669\n",
       "Other_B              431\n",
       "NaN                  242\n",
       "Other_A              194\n",
       "Group of people       60\n",
       "Name: NAME_TYPE_SUITE, dtype: int64"
      ]
     },
     "execution_count": 19,
     "metadata": {},
     "output_type": "execute_result"
    }
   ],
   "source": [
    "cats['NAME_TYPE_SUITE'].value_counts(dropna=False)"
   ]
  },
  {
   "cell_type": "markdown",
   "metadata": {},
   "source": [
    "### Replace missing values in 'cats['NAME_TYPE_SUITE']' with mode"
   ]
  },
  {
   "cell_type": "code",
   "execution_count": 20,
   "metadata": {
    "ExecuteTime": {
     "end_time": "2022-03-29T14:21:47.978313Z",
     "start_time": "2022-03-29T14:21:47.948636Z"
    }
   },
   "outputs": [
    {
     "data": {
      "text/plain": [
       "Unaccompanied      52876\n",
       "Family              8204\n",
       "Spouse, partner     2391\n",
       "Children             669\n",
       "Other_B              431\n",
       "Other_A              194\n",
       "Group of people       60\n",
       "Name: NAME_TYPE_SUITE, dtype: int64"
      ]
     },
     "execution_count": 20,
     "metadata": {},
     "output_type": "execute_result"
    }
   ],
   "source": [
    "# Replace missing values in 'cats['NAME_TYPE_SUITE']' with mode\n",
    "cats['NAME_TYPE_SUITE'].fillna(value='Unaccompanied', inplace=True)\n",
    "cats['NAME_TYPE_SUITE'].value_counts(dropna=False)"
   ]
  },
  {
   "cell_type": "code",
   "execution_count": 21,
   "metadata": {
    "ExecuteTime": {
     "end_time": "2022-03-29T14:21:48.002070Z",
     "start_time": "2022-03-29T14:21:47.981245Z"
    }
   },
   "outputs": [
    {
     "data": {
      "text/plain": [
       "N    43493\n",
       "Y    21332\n",
       "Name: FLAG_OWN_CAR, dtype: int64"
      ]
     },
     "execution_count": 21,
     "metadata": {},
     "output_type": "execute_result"
    }
   ],
   "source": [
    "cats['FLAG_OWN_CAR'].value_counts()"
   ]
  },
  {
   "cell_type": "code",
   "execution_count": 22,
   "metadata": {
    "ExecuteTime": {
     "end_time": "2022-03-29T14:21:48.028925Z",
     "start_time": "2022-03-29T14:21:48.004975Z"
    }
   },
   "outputs": [
    {
     "data": {
      "text/plain": [
       "Married                 40564\n",
       "Single / not married    10253\n",
       "Civil marriage           6744\n",
       "Separated                4185\n",
       "Widow                    3078\n",
       "Unknown                     1\n",
       "Name: NAME_FAMILY_STATUS, dtype: int64"
      ]
     },
     "execution_count": 22,
     "metadata": {},
     "output_type": "execute_result"
    }
   ],
   "source": [
    "cats['NAME_FAMILY_STATUS'].value_counts()"
   ]
  },
  {
   "cell_type": "code",
   "execution_count": 23,
   "metadata": {
    "ExecuteTime": {
     "end_time": "2022-03-29T14:21:48.068034Z",
     "start_time": "2022-03-29T14:21:48.048967Z"
    }
   },
   "outputs": [
    {
     "data": {
      "text/plain": [
       "Y    44739\n",
       "N    20086\n",
       "Name: FLAG_OWN_REALTY, dtype: int64"
      ]
     },
     "execution_count": 23,
     "metadata": {},
     "output_type": "execute_result"
    }
   ],
   "source": [
    "cats['FLAG_OWN_REALTY'].value_counts()"
   ]
  },
  {
   "cell_type": "code",
   "execution_count": 24,
   "metadata": {
    "ExecuteTime": {
     "end_time": "2022-03-29T14:21:48.097039Z",
     "start_time": "2022-03-29T14:21:48.073780Z"
    }
   },
   "outputs": [
    {
     "data": {
      "text/plain": [
       "House / apartment      56875\n",
       "With parents            3599\n",
       "Municipal apartment     2370\n",
       "Rented apartment        1239\n",
       "Office apartment         529\n",
       "Co-op apartment          213\n",
       "Name: NAME_HOUSING_TYPE, dtype: int64"
      ]
     },
     "execution_count": 24,
     "metadata": {},
     "output_type": "execute_result"
    }
   ],
   "source": [
    "cats['NAME_HOUSING_TYPE'].value_counts()"
   ]
  },
  {
   "cell_type": "code",
   "execution_count": 25,
   "metadata": {
    "ExecuteTime": {
     "end_time": "2022-03-29T14:21:48.126088Z",
     "start_time": "2022-03-29T14:21:48.100836Z"
    }
   },
   "outputs": [
    {
     "data": {
      "text/plain": [
       "Secondary / secondary special    47616\n",
       "Higher education                 14062\n",
       "Incomplete higher                 2205\n",
       "Lower secondary                    914\n",
       "Academic degree                     28\n",
       "Name: NAME_EDUCATION_TYPE, dtype: int64"
      ]
     },
     "execution_count": 25,
     "metadata": {},
     "output_type": "execute_result"
    }
   ],
   "source": [
    "cats['NAME_EDUCATION_TYPE'].value_counts()"
   ]
  },
  {
   "cell_type": "code",
   "execution_count": 26,
   "metadata": {
    "ExecuteTime": {
     "end_time": "2022-03-29T14:21:48.158971Z",
     "start_time": "2022-03-29T14:21:48.133158Z"
    },
    "scrolled": true
   },
   "outputs": [
    {
     "data": {
      "text/plain": [
       "Cash loans         59367\n",
       "Revolving loans     5458\n",
       "Name: NAME_CONTRACT_TYPE, dtype: int64"
      ]
     },
     "execution_count": 26,
     "metadata": {},
     "output_type": "execute_result"
    }
   ],
   "source": [
    "cats['NAME_CONTRACT_TYPE'].value_counts()"
   ]
  },
  {
   "cell_type": "code",
   "execution_count": 27,
   "metadata": {
    "ExecuteTime": {
     "end_time": "2022-03-29T14:21:48.188217Z",
     "start_time": "2022-03-29T14:21:48.164230Z"
    }
   },
   "outputs": [
    {
     "data": {
      "text/plain": [
       "Business Entity Type 3    15088\n",
       "XNA                       10451\n",
       "Self-employed              8816\n",
       "Other                      3398\n",
       "Business Entity Type 2     2284\n",
       "Medicine                   2190\n",
       "Government                 2085\n",
       "School                     1750\n",
       "Trade: type 7              1726\n",
       "Construction               1601\n",
       "Kindergarten               1396\n",
       "Business Entity Type 1     1257\n",
       "Transport: type 4          1210\n",
       "Trade: type 3               818\n",
       "Industry: type 3            758\n",
       "Security                    744\n",
       "Industry: type 9            672\n",
       "Industry: type 11           631\n",
       "Housing                     599\n",
       "Agriculture                 572\n",
       "Military                    474\n",
       "Bank                        456\n",
       "Transport: type 2           448\n",
       "Postal                      442\n",
       "Restaurant                  439\n",
       "Police                      428\n",
       "Trade: type 2               376\n",
       "Security Ministries         365\n",
       "Transport: type 3           336\n",
       "Services                    306\n",
       "Industry: type 7            264\n",
       "Industry: type 1            239\n",
       "University                  238\n",
       "Industry: type 4            200\n",
       "Hotel                       199\n",
       "Electricity                 181\n",
       "Telecom                     121\n",
       "Industry: type 5            121\n",
       "Insurance                   120\n",
       "Emergency                   109\n",
       "Advertising                 103\n",
       "Realtor                      99\n",
       "Trade: type 6                97\n",
       "Industry: type 2             92\n",
       "Trade: type 1                72\n",
       "Culture                      70\n",
       "Mobile                       70\n",
       "Legal Services               66\n",
       "Industry: type 12            59\n",
       "Cleaning                     57\n",
       "Transport: type 1            38\n",
       "Industry: type 6             19\n",
       "Religion                     17\n",
       "Industry: type 10            16\n",
       "Industry: type 13            14\n",
       "Trade: type 4                13\n",
       "Trade: type 5                10\n",
       "Industry: type 8              5\n",
       "Name: ORGANIZATION_TYPE, dtype: int64"
      ]
     },
     "execution_count": 27,
     "metadata": {},
     "output_type": "execute_result"
    }
   ],
   "source": [
    "cats['ORGANIZATION_TYPE'].value_counts()"
   ]
  },
  {
   "cell_type": "markdown",
   "metadata": {},
   "source": [
    "### Use label encoding to save space with Organization_Type\n",
    "* Interpreting Organization Type won't be as important as building a predictive model."
   ]
  },
  {
   "cell_type": "code",
   "execution_count": 28,
   "metadata": {
    "ExecuteTime": {
     "end_time": "2022-03-29T14:21:48.249303Z",
     "start_time": "2022-03-29T14:21:48.198897Z"
    }
   },
   "outputs": [
    {
     "data": {
      "text/html": [
       "<div>\n",
       "<style scoped>\n",
       "    .dataframe tbody tr th:only-of-type {\n",
       "        vertical-align: middle;\n",
       "    }\n",
       "\n",
       "    .dataframe tbody tr th {\n",
       "        vertical-align: top;\n",
       "    }\n",
       "\n",
       "    .dataframe thead th {\n",
       "        text-align: right;\n",
       "    }\n",
       "</style>\n",
       "<table border=\"1\" class=\"dataframe\">\n",
       "  <thead>\n",
       "    <tr style=\"text-align: right;\">\n",
       "      <th></th>\n",
       "      <th>NAME_EDUCATION_TYPE</th>\n",
       "      <th>NAME_INCOME_TYPE</th>\n",
       "      <th>CODE_GENDER</th>\n",
       "      <th>FLAG_OWN_REALTY</th>\n",
       "      <th>ORGANIZATION_TYPE</th>\n",
       "      <th>NAME_HOUSING_TYPE</th>\n",
       "      <th>NAME_FAMILY_STATUS</th>\n",
       "      <th>NAME_TYPE_SUITE</th>\n",
       "      <th>FLAG_OWN_CAR</th>\n",
       "      <th>NAME_CONTRACT_TYPE</th>\n",
       "      <th>ORGANIZATION_TYPE_CODE</th>\n",
       "    </tr>\n",
       "  </thead>\n",
       "  <tbody>\n",
       "    <tr>\n",
       "      <th>39451</th>\n",
       "      <td>Secondary / secondary special</td>\n",
       "      <td>Pensioner</td>\n",
       "      <td>F</td>\n",
       "      <td>Y</td>\n",
       "      <td>XNA</td>\n",
       "      <td>House / apartment</td>\n",
       "      <td>Married</td>\n",
       "      <td>Spouse, partner</td>\n",
       "      <td>N</td>\n",
       "      <td>Cash loans</td>\n",
       "      <td>57</td>\n",
       "    </tr>\n",
       "    <tr>\n",
       "      <th>80296</th>\n",
       "      <td>Higher education</td>\n",
       "      <td>Commercial associate</td>\n",
       "      <td>M</td>\n",
       "      <td>Y</td>\n",
       "      <td>Business Entity Type 3</td>\n",
       "      <td>House / apartment</td>\n",
       "      <td>Married</td>\n",
       "      <td>Unaccompanied</td>\n",
       "      <td>N</td>\n",
       "      <td>Cash loans</td>\n",
       "      <td>5</td>\n",
       "    </tr>\n",
       "    <tr>\n",
       "      <th>34978</th>\n",
       "      <td>Secondary / secondary special</td>\n",
       "      <td>State servant</td>\n",
       "      <td>F</td>\n",
       "      <td>Y</td>\n",
       "      <td>School</td>\n",
       "      <td>House / apartment</td>\n",
       "      <td>Married</td>\n",
       "      <td>Family</td>\n",
       "      <td>Y</td>\n",
       "      <td>Cash loans</td>\n",
       "      <td>39</td>\n",
       "    </tr>\n",
       "    <tr>\n",
       "      <th>214576</th>\n",
       "      <td>Secondary / secondary special</td>\n",
       "      <td>Working</td>\n",
       "      <td>M</td>\n",
       "      <td>N</td>\n",
       "      <td>Military</td>\n",
       "      <td>Office apartment</td>\n",
       "      <td>Single / not married</td>\n",
       "      <td>Unaccompanied</td>\n",
       "      <td>N</td>\n",
       "      <td>Cash loans</td>\n",
       "      <td>31</td>\n",
       "    </tr>\n",
       "    <tr>\n",
       "      <th>169952</th>\n",
       "      <td>Secondary / secondary special</td>\n",
       "      <td>Working</td>\n",
       "      <td>M</td>\n",
       "      <td>N</td>\n",
       "      <td>Transport: type 4</td>\n",
       "      <td>Rented apartment</td>\n",
       "      <td>Married</td>\n",
       "      <td>Other_B</td>\n",
       "      <td>Y</td>\n",
       "      <td>Cash loans</td>\n",
       "      <td>55</td>\n",
       "    </tr>\n",
       "  </tbody>\n",
       "</table>\n",
       "</div>"
      ],
      "text/plain": [
       "                  NAME_EDUCATION_TYPE      NAME_INCOME_TYPE CODE_GENDER  \\\n",
       "39451   Secondary / secondary special             Pensioner           F   \n",
       "80296                Higher education  Commercial associate           M   \n",
       "34978   Secondary / secondary special         State servant           F   \n",
       "214576  Secondary / secondary special               Working           M   \n",
       "169952  Secondary / secondary special               Working           M   \n",
       "\n",
       "       FLAG_OWN_REALTY       ORGANIZATION_TYPE  NAME_HOUSING_TYPE  \\\n",
       "39451                Y                     XNA  House / apartment   \n",
       "80296                Y  Business Entity Type 3  House / apartment   \n",
       "34978                Y                  School  House / apartment   \n",
       "214576               N                Military   Office apartment   \n",
       "169952               N       Transport: type 4   Rented apartment   \n",
       "\n",
       "          NAME_FAMILY_STATUS  NAME_TYPE_SUITE FLAG_OWN_CAR NAME_CONTRACT_TYPE  \\\n",
       "39451                Married  Spouse, partner            N         Cash loans   \n",
       "80296                Married    Unaccompanied            N         Cash loans   \n",
       "34978                Married           Family            Y         Cash loans   \n",
       "214576  Single / not married    Unaccompanied            N         Cash loans   \n",
       "169952               Married          Other_B            Y         Cash loans   \n",
       "\n",
       "        ORGANIZATION_TYPE_CODE  \n",
       "39451                       57  \n",
       "80296                        5  \n",
       "34978                       39  \n",
       "214576                      31  \n",
       "169952                      55  "
      ]
     },
     "execution_count": 28,
     "metadata": {},
     "output_type": "execute_result"
    }
   ],
   "source": [
    "# Instantiate LabelEncoder\n",
    "label_encoder = LabelEncoder()\n",
    "\n",
    "# create new row for Organization_type with label encoder\n",
    "cats['ORGANIZATION_TYPE_CODE'] = label_encoder.fit_transform(cats['ORGANIZATION_TYPE'])\n",
    "\n",
    "cats.head()"
   ]
  },
  {
   "cell_type": "code",
   "execution_count": 29,
   "metadata": {
    "ExecuteTime": {
     "end_time": "2022-03-29T14:21:48.289337Z",
     "start_time": "2022-03-29T14:21:48.252563Z"
    }
   },
   "outputs": [
    {
     "data": {
      "text/html": [
       "<div>\n",
       "<style scoped>\n",
       "    .dataframe tbody tr th:only-of-type {\n",
       "        vertical-align: middle;\n",
       "    }\n",
       "\n",
       "    .dataframe tbody tr th {\n",
       "        vertical-align: top;\n",
       "    }\n",
       "\n",
       "    .dataframe thead th {\n",
       "        text-align: right;\n",
       "    }\n",
       "</style>\n",
       "<table border=\"1\" class=\"dataframe\">\n",
       "  <thead>\n",
       "    <tr style=\"text-align: right;\">\n",
       "      <th></th>\n",
       "      <th>NAME_EDUCATION_TYPE</th>\n",
       "      <th>NAME_INCOME_TYPE</th>\n",
       "      <th>CODE_GENDER</th>\n",
       "      <th>FLAG_OWN_REALTY</th>\n",
       "      <th>NAME_HOUSING_TYPE</th>\n",
       "      <th>NAME_FAMILY_STATUS</th>\n",
       "      <th>NAME_TYPE_SUITE</th>\n",
       "      <th>FLAG_OWN_CAR</th>\n",
       "      <th>NAME_CONTRACT_TYPE</th>\n",
       "      <th>ORGANIZATION_TYPE_CODE</th>\n",
       "    </tr>\n",
       "  </thead>\n",
       "  <tbody>\n",
       "    <tr>\n",
       "      <th>39451</th>\n",
       "      <td>Secondary / secondary special</td>\n",
       "      <td>Pensioner</td>\n",
       "      <td>F</td>\n",
       "      <td>Y</td>\n",
       "      <td>House / apartment</td>\n",
       "      <td>Married</td>\n",
       "      <td>Spouse, partner</td>\n",
       "      <td>N</td>\n",
       "      <td>Cash loans</td>\n",
       "      <td>57</td>\n",
       "    </tr>\n",
       "    <tr>\n",
       "      <th>80296</th>\n",
       "      <td>Higher education</td>\n",
       "      <td>Commercial associate</td>\n",
       "      <td>M</td>\n",
       "      <td>Y</td>\n",
       "      <td>House / apartment</td>\n",
       "      <td>Married</td>\n",
       "      <td>Unaccompanied</td>\n",
       "      <td>N</td>\n",
       "      <td>Cash loans</td>\n",
       "      <td>5</td>\n",
       "    </tr>\n",
       "    <tr>\n",
       "      <th>34978</th>\n",
       "      <td>Secondary / secondary special</td>\n",
       "      <td>State servant</td>\n",
       "      <td>F</td>\n",
       "      <td>Y</td>\n",
       "      <td>House / apartment</td>\n",
       "      <td>Married</td>\n",
       "      <td>Family</td>\n",
       "      <td>Y</td>\n",
       "      <td>Cash loans</td>\n",
       "      <td>39</td>\n",
       "    </tr>\n",
       "    <tr>\n",
       "      <th>214576</th>\n",
       "      <td>Secondary / secondary special</td>\n",
       "      <td>Working</td>\n",
       "      <td>M</td>\n",
       "      <td>N</td>\n",
       "      <td>Office apartment</td>\n",
       "      <td>Single / not married</td>\n",
       "      <td>Unaccompanied</td>\n",
       "      <td>N</td>\n",
       "      <td>Cash loans</td>\n",
       "      <td>31</td>\n",
       "    </tr>\n",
       "    <tr>\n",
       "      <th>169952</th>\n",
       "      <td>Secondary / secondary special</td>\n",
       "      <td>Working</td>\n",
       "      <td>M</td>\n",
       "      <td>N</td>\n",
       "      <td>Rented apartment</td>\n",
       "      <td>Married</td>\n",
       "      <td>Other_B</td>\n",
       "      <td>Y</td>\n",
       "      <td>Cash loans</td>\n",
       "      <td>55</td>\n",
       "    </tr>\n",
       "  </tbody>\n",
       "</table>\n",
       "</div>"
      ],
      "text/plain": [
       "                  NAME_EDUCATION_TYPE      NAME_INCOME_TYPE CODE_GENDER  \\\n",
       "39451   Secondary / secondary special             Pensioner           F   \n",
       "80296                Higher education  Commercial associate           M   \n",
       "34978   Secondary / secondary special         State servant           F   \n",
       "214576  Secondary / secondary special               Working           M   \n",
       "169952  Secondary / secondary special               Working           M   \n",
       "\n",
       "       FLAG_OWN_REALTY  NAME_HOUSING_TYPE    NAME_FAMILY_STATUS  \\\n",
       "39451                Y  House / apartment               Married   \n",
       "80296                Y  House / apartment               Married   \n",
       "34978                Y  House / apartment               Married   \n",
       "214576               N   Office apartment  Single / not married   \n",
       "169952               N   Rented apartment               Married   \n",
       "\n",
       "        NAME_TYPE_SUITE FLAG_OWN_CAR NAME_CONTRACT_TYPE  \\\n",
       "39451   Spouse, partner            N         Cash loans   \n",
       "80296     Unaccompanied            N         Cash loans   \n",
       "34978            Family            Y         Cash loans   \n",
       "214576    Unaccompanied            N         Cash loans   \n",
       "169952          Other_B            Y         Cash loans   \n",
       "\n",
       "        ORGANIZATION_TYPE_CODE  \n",
       "39451                       57  \n",
       "80296                        5  \n",
       "34978                       39  \n",
       "214576                      31  \n",
       "169952                      55  "
      ]
     },
     "execution_count": 29,
     "metadata": {},
     "output_type": "execute_result"
    }
   ],
   "source": [
    "# drop Organization_Type column\n",
    "cats = cats.drop('ORGANIZATION_TYPE', axis=1)\n",
    "\n",
    "cats.head()"
   ]
  },
  {
   "cell_type": "markdown",
   "metadata": {},
   "source": [
    "### One Hot Encode Categoricals"
   ]
  },
  {
   "cell_type": "code",
   "execution_count": 30,
   "metadata": {
    "ExecuteTime": {
     "end_time": "2022-03-29T14:21:48.329303Z",
     "start_time": "2022-03-29T14:21:48.292561Z"
    }
   },
   "outputs": [
    {
     "data": {
      "text/html": [
       "<div>\n",
       "<style scoped>\n",
       "    .dataframe tbody tr th:only-of-type {\n",
       "        vertical-align: middle;\n",
       "    }\n",
       "\n",
       "    .dataframe tbody tr th {\n",
       "        vertical-align: top;\n",
       "    }\n",
       "\n",
       "    .dataframe thead th {\n",
       "        text-align: right;\n",
       "    }\n",
       "</style>\n",
       "<table border=\"1\" class=\"dataframe\">\n",
       "  <thead>\n",
       "    <tr style=\"text-align: right;\">\n",
       "      <th></th>\n",
       "      <th>NAME_EDUCATION_TYPE</th>\n",
       "      <th>NAME_INCOME_TYPE</th>\n",
       "      <th>CODE_GENDER</th>\n",
       "      <th>FLAG_OWN_REALTY</th>\n",
       "      <th>NAME_HOUSING_TYPE</th>\n",
       "      <th>NAME_FAMILY_STATUS</th>\n",
       "      <th>NAME_TYPE_SUITE</th>\n",
       "      <th>FLAG_OWN_CAR</th>\n",
       "      <th>NAME_CONTRACT_TYPE</th>\n",
       "    </tr>\n",
       "  </thead>\n",
       "  <tbody>\n",
       "    <tr>\n",
       "      <th>39451</th>\n",
       "      <td>Secondary / secondary special</td>\n",
       "      <td>Pensioner</td>\n",
       "      <td>F</td>\n",
       "      <td>Y</td>\n",
       "      <td>House / apartment</td>\n",
       "      <td>Married</td>\n",
       "      <td>Spouse, partner</td>\n",
       "      <td>N</td>\n",
       "      <td>Cash loans</td>\n",
       "    </tr>\n",
       "    <tr>\n",
       "      <th>80296</th>\n",
       "      <td>Higher education</td>\n",
       "      <td>Commercial associate</td>\n",
       "      <td>M</td>\n",
       "      <td>Y</td>\n",
       "      <td>House / apartment</td>\n",
       "      <td>Married</td>\n",
       "      <td>Unaccompanied</td>\n",
       "      <td>N</td>\n",
       "      <td>Cash loans</td>\n",
       "    </tr>\n",
       "    <tr>\n",
       "      <th>34978</th>\n",
       "      <td>Secondary / secondary special</td>\n",
       "      <td>State servant</td>\n",
       "      <td>F</td>\n",
       "      <td>Y</td>\n",
       "      <td>House / apartment</td>\n",
       "      <td>Married</td>\n",
       "      <td>Family</td>\n",
       "      <td>Y</td>\n",
       "      <td>Cash loans</td>\n",
       "    </tr>\n",
       "    <tr>\n",
       "      <th>214576</th>\n",
       "      <td>Secondary / secondary special</td>\n",
       "      <td>Working</td>\n",
       "      <td>M</td>\n",
       "      <td>N</td>\n",
       "      <td>Office apartment</td>\n",
       "      <td>Single / not married</td>\n",
       "      <td>Unaccompanied</td>\n",
       "      <td>N</td>\n",
       "      <td>Cash loans</td>\n",
       "    </tr>\n",
       "    <tr>\n",
       "      <th>169952</th>\n",
       "      <td>Secondary / secondary special</td>\n",
       "      <td>Working</td>\n",
       "      <td>M</td>\n",
       "      <td>N</td>\n",
       "      <td>Rented apartment</td>\n",
       "      <td>Married</td>\n",
       "      <td>Other_B</td>\n",
       "      <td>Y</td>\n",
       "      <td>Cash loans</td>\n",
       "    </tr>\n",
       "  </tbody>\n",
       "</table>\n",
       "</div>"
      ],
      "text/plain": [
       "                  NAME_EDUCATION_TYPE      NAME_INCOME_TYPE CODE_GENDER  \\\n",
       "39451   Secondary / secondary special             Pensioner           F   \n",
       "80296                Higher education  Commercial associate           M   \n",
       "34978   Secondary / secondary special         State servant           F   \n",
       "214576  Secondary / secondary special               Working           M   \n",
       "169952  Secondary / secondary special               Working           M   \n",
       "\n",
       "       FLAG_OWN_REALTY  NAME_HOUSING_TYPE    NAME_FAMILY_STATUS  \\\n",
       "39451                Y  House / apartment               Married   \n",
       "80296                Y  House / apartment               Married   \n",
       "34978                Y  House / apartment               Married   \n",
       "214576               N   Office apartment  Single / not married   \n",
       "169952               N   Rented apartment               Married   \n",
       "\n",
       "        NAME_TYPE_SUITE FLAG_OWN_CAR NAME_CONTRACT_TYPE  \n",
       "39451   Spouse, partner            N         Cash loans  \n",
       "80296     Unaccompanied            N         Cash loans  \n",
       "34978            Family            Y         Cash loans  \n",
       "214576    Unaccompanied            N         Cash loans  \n",
       "169952          Other_B            Y         Cash loans  "
      ]
     },
     "execution_count": 30,
     "metadata": {},
     "output_type": "execute_result"
    }
   ],
   "source": [
    "# Separate Label Encoded Column\n",
    "label_encoded = cats['ORGANIZATION_TYPE_CODE']\n",
    "\n",
    "cats = cats.drop('ORGANIZATION_TYPE_CODE', axis=1)\n",
    "\n",
    "cats.head()"
   ]
  },
  {
   "cell_type": "code",
   "execution_count": 31,
   "metadata": {
    "ExecuteTime": {
     "end_time": "2022-03-29T14:21:48.460957Z",
     "start_time": "2022-03-29T14:21:48.333475Z"
    }
   },
   "outputs": [
    {
     "data": {
      "text/html": [
       "<div>\n",
       "<style scoped>\n",
       "    .dataframe tbody tr th:only-of-type {\n",
       "        vertical-align: middle;\n",
       "    }\n",
       "\n",
       "    .dataframe tbody tr th {\n",
       "        vertical-align: top;\n",
       "    }\n",
       "\n",
       "    .dataframe thead th {\n",
       "        text-align: right;\n",
       "    }\n",
       "</style>\n",
       "<table border=\"1\" class=\"dataframe\">\n",
       "  <thead>\n",
       "    <tr style=\"text-align: right;\">\n",
       "      <th></th>\n",
       "      <th>NAME_EDUCATION_TYPE_Higher education</th>\n",
       "      <th>NAME_EDUCATION_TYPE_Incomplete higher</th>\n",
       "      <th>NAME_EDUCATION_TYPE_Lower secondary</th>\n",
       "      <th>NAME_EDUCATION_TYPE_Secondary / secondary special</th>\n",
       "      <th>NAME_INCOME_TYPE_Commercial associate</th>\n",
       "      <th>NAME_INCOME_TYPE_Maternity leave</th>\n",
       "      <th>NAME_INCOME_TYPE_Pensioner</th>\n",
       "      <th>NAME_INCOME_TYPE_State servant</th>\n",
       "      <th>NAME_INCOME_TYPE_Student</th>\n",
       "      <th>NAME_INCOME_TYPE_Unemployed</th>\n",
       "      <th>...</th>\n",
       "      <th>NAME_FAMILY_STATUS_Unknown</th>\n",
       "      <th>NAME_FAMILY_STATUS_Widow</th>\n",
       "      <th>NAME_TYPE_SUITE_Family</th>\n",
       "      <th>NAME_TYPE_SUITE_Group of people</th>\n",
       "      <th>NAME_TYPE_SUITE_Other_A</th>\n",
       "      <th>NAME_TYPE_SUITE_Other_B</th>\n",
       "      <th>NAME_TYPE_SUITE_Spouse, partner</th>\n",
       "      <th>NAME_TYPE_SUITE_Unaccompanied</th>\n",
       "      <th>FLAG_OWN_CAR_Y</th>\n",
       "      <th>NAME_CONTRACT_TYPE_Revolving loans</th>\n",
       "    </tr>\n",
       "  </thead>\n",
       "  <tbody>\n",
       "    <tr>\n",
       "      <th>39451</th>\n",
       "      <td>0</td>\n",
       "      <td>0</td>\n",
       "      <td>0</td>\n",
       "      <td>1</td>\n",
       "      <td>0</td>\n",
       "      <td>0</td>\n",
       "      <td>1</td>\n",
       "      <td>0</td>\n",
       "      <td>0</td>\n",
       "      <td>0</td>\n",
       "      <td>...</td>\n",
       "      <td>0</td>\n",
       "      <td>0</td>\n",
       "      <td>0</td>\n",
       "      <td>0</td>\n",
       "      <td>0</td>\n",
       "      <td>0</td>\n",
       "      <td>1</td>\n",
       "      <td>0</td>\n",
       "      <td>0</td>\n",
       "      <td>0</td>\n",
       "    </tr>\n",
       "    <tr>\n",
       "      <th>80296</th>\n",
       "      <td>1</td>\n",
       "      <td>0</td>\n",
       "      <td>0</td>\n",
       "      <td>0</td>\n",
       "      <td>1</td>\n",
       "      <td>0</td>\n",
       "      <td>0</td>\n",
       "      <td>0</td>\n",
       "      <td>0</td>\n",
       "      <td>0</td>\n",
       "      <td>...</td>\n",
       "      <td>0</td>\n",
       "      <td>0</td>\n",
       "      <td>0</td>\n",
       "      <td>0</td>\n",
       "      <td>0</td>\n",
       "      <td>0</td>\n",
       "      <td>0</td>\n",
       "      <td>1</td>\n",
       "      <td>0</td>\n",
       "      <td>0</td>\n",
       "    </tr>\n",
       "    <tr>\n",
       "      <th>34978</th>\n",
       "      <td>0</td>\n",
       "      <td>0</td>\n",
       "      <td>0</td>\n",
       "      <td>1</td>\n",
       "      <td>0</td>\n",
       "      <td>0</td>\n",
       "      <td>0</td>\n",
       "      <td>1</td>\n",
       "      <td>0</td>\n",
       "      <td>0</td>\n",
       "      <td>...</td>\n",
       "      <td>0</td>\n",
       "      <td>0</td>\n",
       "      <td>1</td>\n",
       "      <td>0</td>\n",
       "      <td>0</td>\n",
       "      <td>0</td>\n",
       "      <td>0</td>\n",
       "      <td>0</td>\n",
       "      <td>1</td>\n",
       "      <td>0</td>\n",
       "    </tr>\n",
       "    <tr>\n",
       "      <th>214576</th>\n",
       "      <td>0</td>\n",
       "      <td>0</td>\n",
       "      <td>0</td>\n",
       "      <td>1</td>\n",
       "      <td>0</td>\n",
       "      <td>0</td>\n",
       "      <td>0</td>\n",
       "      <td>0</td>\n",
       "      <td>0</td>\n",
       "      <td>0</td>\n",
       "      <td>...</td>\n",
       "      <td>0</td>\n",
       "      <td>0</td>\n",
       "      <td>0</td>\n",
       "      <td>0</td>\n",
       "      <td>0</td>\n",
       "      <td>0</td>\n",
       "      <td>0</td>\n",
       "      <td>1</td>\n",
       "      <td>0</td>\n",
       "      <td>0</td>\n",
       "    </tr>\n",
       "    <tr>\n",
       "      <th>169952</th>\n",
       "      <td>0</td>\n",
       "      <td>0</td>\n",
       "      <td>0</td>\n",
       "      <td>1</td>\n",
       "      <td>0</td>\n",
       "      <td>0</td>\n",
       "      <td>0</td>\n",
       "      <td>0</td>\n",
       "      <td>0</td>\n",
       "      <td>0</td>\n",
       "      <td>...</td>\n",
       "      <td>0</td>\n",
       "      <td>0</td>\n",
       "      <td>0</td>\n",
       "      <td>0</td>\n",
       "      <td>0</td>\n",
       "      <td>1</td>\n",
       "      <td>0</td>\n",
       "      <td>0</td>\n",
       "      <td>1</td>\n",
       "      <td>0</td>\n",
       "    </tr>\n",
       "  </tbody>\n",
       "</table>\n",
       "<p>5 rows × 31 columns</p>\n",
       "</div>"
      ],
      "text/plain": [
       "        NAME_EDUCATION_TYPE_Higher education  \\\n",
       "39451                                      0   \n",
       "80296                                      1   \n",
       "34978                                      0   \n",
       "214576                                     0   \n",
       "169952                                     0   \n",
       "\n",
       "        NAME_EDUCATION_TYPE_Incomplete higher  \\\n",
       "39451                                       0   \n",
       "80296                                       0   \n",
       "34978                                       0   \n",
       "214576                                      0   \n",
       "169952                                      0   \n",
       "\n",
       "        NAME_EDUCATION_TYPE_Lower secondary  \\\n",
       "39451                                     0   \n",
       "80296                                     0   \n",
       "34978                                     0   \n",
       "214576                                    0   \n",
       "169952                                    0   \n",
       "\n",
       "        NAME_EDUCATION_TYPE_Secondary / secondary special  \\\n",
       "39451                                                   1   \n",
       "80296                                                   0   \n",
       "34978                                                   1   \n",
       "214576                                                  1   \n",
       "169952                                                  1   \n",
       "\n",
       "        NAME_INCOME_TYPE_Commercial associate  \\\n",
       "39451                                       0   \n",
       "80296                                       1   \n",
       "34978                                       0   \n",
       "214576                                      0   \n",
       "169952                                      0   \n",
       "\n",
       "        NAME_INCOME_TYPE_Maternity leave  NAME_INCOME_TYPE_Pensioner  \\\n",
       "39451                                  0                           1   \n",
       "80296                                  0                           0   \n",
       "34978                                  0                           0   \n",
       "214576                                 0                           0   \n",
       "169952                                 0                           0   \n",
       "\n",
       "        NAME_INCOME_TYPE_State servant  NAME_INCOME_TYPE_Student  \\\n",
       "39451                                0                         0   \n",
       "80296                                0                         0   \n",
       "34978                                1                         0   \n",
       "214576                               0                         0   \n",
       "169952                               0                         0   \n",
       "\n",
       "        NAME_INCOME_TYPE_Unemployed  ...  NAME_FAMILY_STATUS_Unknown  \\\n",
       "39451                             0  ...                           0   \n",
       "80296                             0  ...                           0   \n",
       "34978                             0  ...                           0   \n",
       "214576                            0  ...                           0   \n",
       "169952                            0  ...                           0   \n",
       "\n",
       "        NAME_FAMILY_STATUS_Widow  NAME_TYPE_SUITE_Family  \\\n",
       "39451                          0                       0   \n",
       "80296                          0                       0   \n",
       "34978                          0                       1   \n",
       "214576                         0                       0   \n",
       "169952                         0                       0   \n",
       "\n",
       "        NAME_TYPE_SUITE_Group of people  NAME_TYPE_SUITE_Other_A  \\\n",
       "39451                                 0                        0   \n",
       "80296                                 0                        0   \n",
       "34978                                 0                        0   \n",
       "214576                                0                        0   \n",
       "169952                                0                        0   \n",
       "\n",
       "        NAME_TYPE_SUITE_Other_B  NAME_TYPE_SUITE_Spouse, partner  \\\n",
       "39451                         0                                1   \n",
       "80296                         0                                0   \n",
       "34978                         0                                0   \n",
       "214576                        0                                0   \n",
       "169952                        1                                0   \n",
       "\n",
       "        NAME_TYPE_SUITE_Unaccompanied  FLAG_OWN_CAR_Y  \\\n",
       "39451                               0               0   \n",
       "80296                               1               0   \n",
       "34978                               0               1   \n",
       "214576                              1               0   \n",
       "169952                              0               1   \n",
       "\n",
       "        NAME_CONTRACT_TYPE_Revolving loans  \n",
       "39451                                    0  \n",
       "80296                                    0  \n",
       "34978                                    0  \n",
       "214576                                   0  \n",
       "169952                                   0  \n",
       "\n",
       "[5 rows x 31 columns]"
      ]
     },
     "execution_count": 31,
     "metadata": {},
     "output_type": "execute_result"
    }
   ],
   "source": [
    "# copy categoricals\n",
    "cat_dummies = cats.copy()\n",
    "\n",
    "# get dummies for categoricals from cat_dummies\n",
    "cat_dummies = pd.get_dummies(cat_dummies, drop_first=True)\n",
    "\n",
    "cat_dummies.head()"
   ]
  },
  {
   "cell_type": "code",
   "execution_count": 32,
   "metadata": {
    "ExecuteTime": {
     "end_time": "2022-03-29T14:21:48.470365Z",
     "start_time": "2022-03-29T14:21:48.463785Z"
    },
    "scrolled": true
   },
   "outputs": [
    {
     "name": "stdout",
     "output_type": "stream",
     "text": [
      "(64825, 31)\n"
     ]
    }
   ],
   "source": [
    "# print shape - column, row attributes\n",
    "print(cat_dummies.shape)"
   ]
  },
  {
   "cell_type": "code",
   "execution_count": 33,
   "metadata": {
    "ExecuteTime": {
     "end_time": "2022-03-29T14:21:48.492245Z",
     "start_time": "2022-03-29T14:21:48.473377Z"
    }
   },
   "outputs": [],
   "source": [
    "# replace with mode for categorical variables\n",
    "# df5['NAME_TYPE_SUITE'].fillna(df5['NAME_TYPE_SUITE'].mode()[0], inplace=True)\n",
    "# print('NAME_TYPE_SUITE:', df5['NAME_TYPE_SUITE'].describe())\n",
    "# print()\n"
   ]
  },
  {
   "cell_type": "markdown",
   "metadata": {},
   "source": [
    "## Concatenate data frames\n",
    "* Did not remove outliers"
   ]
  },
  {
   "cell_type": "code",
   "execution_count": 34,
   "metadata": {
    "ExecuteTime": {
     "end_time": "2022-03-29T14:21:48.574908Z",
     "start_time": "2022-03-29T14:21:48.505467Z"
    },
    "scrolled": true
   },
   "outputs": [
    {
     "data": {
      "text/html": [
       "<div>\n",
       "<style scoped>\n",
       "    .dataframe tbody tr th:only-of-type {\n",
       "        vertical-align: middle;\n",
       "    }\n",
       "\n",
       "    .dataframe tbody tr th {\n",
       "        vertical-align: top;\n",
       "    }\n",
       "\n",
       "    .dataframe thead th {\n",
       "        text-align: right;\n",
       "    }\n",
       "</style>\n",
       "<table border=\"1\" class=\"dataframe\">\n",
       "  <thead>\n",
       "    <tr style=\"text-align: right;\">\n",
       "      <th></th>\n",
       "      <th>TARGET</th>\n",
       "      <th>CNT_CHILDREN</th>\n",
       "      <th>AMT_INCOME_TOTAL</th>\n",
       "      <th>AMT_CREDIT</th>\n",
       "      <th>AMT_ANNUITY</th>\n",
       "      <th>DAYS_EMPLOYED</th>\n",
       "      <th>CNT_FAM_MEMBERS</th>\n",
       "      <th>DAYS_BIRTH</th>\n",
       "      <th>AMT_GOODS_PRICE</th>\n",
       "      <th>REGION_RATING_CLIENT</th>\n",
       "      <th>...</th>\n",
       "      <th>NAME_FAMILY_STATUS_Widow</th>\n",
       "      <th>NAME_TYPE_SUITE_Family</th>\n",
       "      <th>NAME_TYPE_SUITE_Group of people</th>\n",
       "      <th>NAME_TYPE_SUITE_Other_A</th>\n",
       "      <th>NAME_TYPE_SUITE_Other_B</th>\n",
       "      <th>NAME_TYPE_SUITE_Spouse, partner</th>\n",
       "      <th>NAME_TYPE_SUITE_Unaccompanied</th>\n",
       "      <th>FLAG_OWN_CAR_Y</th>\n",
       "      <th>NAME_CONTRACT_TYPE_Revolving loans</th>\n",
       "      <th>ORGANIZATION_TYPE_CODE</th>\n",
       "    </tr>\n",
       "  </thead>\n",
       "  <tbody>\n",
       "    <tr>\n",
       "      <th>39451</th>\n",
       "      <td>0</td>\n",
       "      <td>0</td>\n",
       "      <td>270000.0</td>\n",
       "      <td>573408.0</td>\n",
       "      <td>29407.5</td>\n",
       "      <td>365243</td>\n",
       "      <td>2.0</td>\n",
       "      <td>-21939</td>\n",
       "      <td>495000.0</td>\n",
       "      <td>1</td>\n",
       "      <td>...</td>\n",
       "      <td>0</td>\n",
       "      <td>0</td>\n",
       "      <td>0</td>\n",
       "      <td>0</td>\n",
       "      <td>0</td>\n",
       "      <td>1</td>\n",
       "      <td>0</td>\n",
       "      <td>0</td>\n",
       "      <td>0</td>\n",
       "      <td>57</td>\n",
       "    </tr>\n",
       "    <tr>\n",
       "      <th>80296</th>\n",
       "      <td>0</td>\n",
       "      <td>1</td>\n",
       "      <td>90000.0</td>\n",
       "      <td>225000.0</td>\n",
       "      <td>10039.5</td>\n",
       "      <td>-213</td>\n",
       "      <td>3.0</td>\n",
       "      <td>-10613</td>\n",
       "      <td>225000.0</td>\n",
       "      <td>2</td>\n",
       "      <td>...</td>\n",
       "      <td>0</td>\n",
       "      <td>0</td>\n",
       "      <td>0</td>\n",
       "      <td>0</td>\n",
       "      <td>0</td>\n",
       "      <td>0</td>\n",
       "      <td>1</td>\n",
       "      <td>0</td>\n",
       "      <td>0</td>\n",
       "      <td>5</td>\n",
       "    </tr>\n",
       "    <tr>\n",
       "      <th>34978</th>\n",
       "      <td>0</td>\n",
       "      <td>1</td>\n",
       "      <td>180000.0</td>\n",
       "      <td>715095.0</td>\n",
       "      <td>48109.5</td>\n",
       "      <td>-6642</td>\n",
       "      <td>3.0</td>\n",
       "      <td>-17505</td>\n",
       "      <td>675000.0</td>\n",
       "      <td>2</td>\n",
       "      <td>...</td>\n",
       "      <td>0</td>\n",
       "      <td>1</td>\n",
       "      <td>0</td>\n",
       "      <td>0</td>\n",
       "      <td>0</td>\n",
       "      <td>0</td>\n",
       "      <td>0</td>\n",
       "      <td>1</td>\n",
       "      <td>0</td>\n",
       "      <td>39</td>\n",
       "    </tr>\n",
       "    <tr>\n",
       "      <th>214576</th>\n",
       "      <td>0</td>\n",
       "      <td>0</td>\n",
       "      <td>247500.0</td>\n",
       "      <td>765000.0</td>\n",
       "      <td>22365.0</td>\n",
       "      <td>-3342</td>\n",
       "      <td>1.0</td>\n",
       "      <td>-13780</td>\n",
       "      <td>765000.0</td>\n",
       "      <td>2</td>\n",
       "      <td>...</td>\n",
       "      <td>0</td>\n",
       "      <td>0</td>\n",
       "      <td>0</td>\n",
       "      <td>0</td>\n",
       "      <td>0</td>\n",
       "      <td>0</td>\n",
       "      <td>1</td>\n",
       "      <td>0</td>\n",
       "      <td>0</td>\n",
       "      <td>31</td>\n",
       "    </tr>\n",
       "    <tr>\n",
       "      <th>169952</th>\n",
       "      <td>0</td>\n",
       "      <td>0</td>\n",
       "      <td>202500.0</td>\n",
       "      <td>528633.0</td>\n",
       "      <td>38817.0</td>\n",
       "      <td>-2551</td>\n",
       "      <td>2.0</td>\n",
       "      <td>-16880</td>\n",
       "      <td>472500.0</td>\n",
       "      <td>3</td>\n",
       "      <td>...</td>\n",
       "      <td>0</td>\n",
       "      <td>0</td>\n",
       "      <td>0</td>\n",
       "      <td>0</td>\n",
       "      <td>1</td>\n",
       "      <td>0</td>\n",
       "      <td>0</td>\n",
       "      <td>1</td>\n",
       "      <td>0</td>\n",
       "      <td>55</td>\n",
       "    </tr>\n",
       "  </tbody>\n",
       "</table>\n",
       "<p>5 rows × 62 columns</p>\n",
       "</div>"
      ],
      "text/plain": [
       "        TARGET  CNT_CHILDREN  AMT_INCOME_TOTAL  AMT_CREDIT  AMT_ANNUITY  \\\n",
       "39451        0             0          270000.0    573408.0      29407.5   \n",
       "80296        0             1           90000.0    225000.0      10039.5   \n",
       "34978        0             1          180000.0    715095.0      48109.5   \n",
       "214576       0             0          247500.0    765000.0      22365.0   \n",
       "169952       0             0          202500.0    528633.0      38817.0   \n",
       "\n",
       "        DAYS_EMPLOYED  CNT_FAM_MEMBERS  DAYS_BIRTH  AMT_GOODS_PRICE  \\\n",
       "39451          365243              2.0      -21939         495000.0   \n",
       "80296            -213              3.0      -10613         225000.0   \n",
       "34978           -6642              3.0      -17505         675000.0   \n",
       "214576          -3342              1.0      -13780         765000.0   \n",
       "169952          -2551              2.0      -16880         472500.0   \n",
       "\n",
       "        REGION_RATING_CLIENT  ...  NAME_FAMILY_STATUS_Widow  \\\n",
       "39451                      1  ...                         0   \n",
       "80296                      2  ...                         0   \n",
       "34978                      2  ...                         0   \n",
       "214576                     2  ...                         0   \n",
       "169952                     3  ...                         0   \n",
       "\n",
       "        NAME_TYPE_SUITE_Family  NAME_TYPE_SUITE_Group of people  \\\n",
       "39451                        0                                0   \n",
       "80296                        0                                0   \n",
       "34978                        1                                0   \n",
       "214576                       0                                0   \n",
       "169952                       0                                0   \n",
       "\n",
       "        NAME_TYPE_SUITE_Other_A  NAME_TYPE_SUITE_Other_B  \\\n",
       "39451                         0                        0   \n",
       "80296                         0                        0   \n",
       "34978                         0                        0   \n",
       "214576                        0                        0   \n",
       "169952                        0                        1   \n",
       "\n",
       "        NAME_TYPE_SUITE_Spouse, partner  NAME_TYPE_SUITE_Unaccompanied  \\\n",
       "39451                                 1                              0   \n",
       "80296                                 0                              1   \n",
       "34978                                 0                              0   \n",
       "214576                                0                              1   \n",
       "169952                                0                              0   \n",
       "\n",
       "        FLAG_OWN_CAR_Y  NAME_CONTRACT_TYPE_Revolving loans  \\\n",
       "39451                0                                   0   \n",
       "80296                0                                   0   \n",
       "34978                1                                   0   \n",
       "214576               0                                   0   \n",
       "169952               1                                   0   \n",
       "\n",
       "        ORGANIZATION_TYPE_CODE  \n",
       "39451                       57  \n",
       "80296                        5  \n",
       "34978                       39  \n",
       "214576                      31  \n",
       "169952                      55  \n",
       "\n",
       "[5 rows x 62 columns]"
      ]
     },
     "execution_count": 34,
     "metadata": {},
     "output_type": "execute_result"
    }
   ],
   "source": [
    "# concatenate cat_dummies and numericals\n",
    "\n",
    "df3 = pd.concat([num, \n",
    "                 cat_dummies,\n",
    "                label_encoded], axis=1)\n",
    "df3.head()"
   ]
  },
  {
   "cell_type": "code",
   "execution_count": 35,
   "metadata": {
    "ExecuteTime": {
     "end_time": "2022-03-29T14:21:48.618008Z",
     "start_time": "2022-03-29T14:21:48.577898Z"
    }
   },
   "outputs": [
    {
     "data": {
      "text/plain": [
       "TARGET                                0\n",
       "CNT_CHILDREN                          0\n",
       "AMT_INCOME_TOTAL                      0\n",
       "AMT_CREDIT                            0\n",
       "AMT_ANNUITY                           0\n",
       "                                     ..\n",
       "NAME_TYPE_SUITE_Spouse, partner       0\n",
       "NAME_TYPE_SUITE_Unaccompanied         0\n",
       "FLAG_OWN_CAR_Y                        0\n",
       "NAME_CONTRACT_TYPE_Revolving loans    0\n",
       "ORGANIZATION_TYPE_CODE                0\n",
       "Length: 62, dtype: int64"
      ]
     },
     "execution_count": 35,
     "metadata": {},
     "output_type": "execute_result"
    }
   ],
   "source": [
    "df3.isnull().sum()"
   ]
  },
  {
   "cell_type": "code",
   "execution_count": 36,
   "metadata": {
    "ExecuteTime": {
     "end_time": "2022-03-29T14:21:48.695949Z",
     "start_time": "2022-03-29T14:21:48.620111Z"
    },
    "scrolled": true
   },
   "outputs": [
    {
     "name": "stdout",
     "output_type": "stream",
     "text": [
      "<class 'pandas.core.frame.DataFrame'>\n",
      "Int64Index: 64825 entries, 39451 to 307509\n",
      "Data columns (total 62 columns):\n",
      " #   Column                                             Non-Null Count  Dtype  \n",
      "---  ------                                             --------------  -----  \n",
      " 0   TARGET                                             64825 non-null  int64  \n",
      " 1   CNT_CHILDREN                                       64825 non-null  int64  \n",
      " 2   AMT_INCOME_TOTAL                                   64825 non-null  float64\n",
      " 3   AMT_CREDIT                                         64825 non-null  float64\n",
      " 4   AMT_ANNUITY                                        64825 non-null  float64\n",
      " 5   DAYS_EMPLOYED                                      64825 non-null  int64  \n",
      " 6   CNT_FAM_MEMBERS                                    64825 non-null  float64\n",
      " 7   DAYS_BIRTH                                         64825 non-null  int64  \n",
      " 8   AMT_GOODS_PRICE                                    64825 non-null  float64\n",
      " 9   REGION_RATING_CLIENT                               64825 non-null  int64  \n",
      " 10  DAYS_REGISTRATION                                  64825 non-null  float64\n",
      " 11  REGION_POPULATION_RELATIVE                         64825 non-null  float64\n",
      " 12  LIVE_REGION_NOT_WORK_REGION                        64825 non-null  int64  \n",
      " 13  EXT_SOURCE_1                                       64825 non-null  float64\n",
      " 14  EXT_SOURCE_2                                       64825 non-null  float64\n",
      " 15  EXT_SOURCE_3                                       64825 non-null  float64\n",
      " 16  APARTMENTS_AVG                                     64825 non-null  float64\n",
      " 17  YEARS_BUILD_AVG                                    64825 non-null  float64\n",
      " 18  FLOORSMAX_AVG                                      64825 non-null  float64\n",
      " 19  NONLIVINGAREA_AVG                                  64825 non-null  float64\n",
      " 20  TOTALAREA_MODE                                     64825 non-null  float64\n",
      " 21  DAYS_LAST_PHONE_CHANGE                             64825 non-null  float64\n",
      " 22  LIVINGAREA_MEDI                                    64825 non-null  float64\n",
      " 23  NONLIVINGAREA_MEDI                                 64825 non-null  float64\n",
      " 24  AMT_REQ_CREDIT_BUREAU_HOUR                         64825 non-null  float64\n",
      " 25  AMT_REQ_CREDIT_BUREAU_DAY                          64825 non-null  float64\n",
      " 26  AMT_REQ_CREDIT_BUREAU_WEEK                         64825 non-null  float64\n",
      " 27  AMT_REQ_CREDIT_BUREAU_MON                          64825 non-null  float64\n",
      " 28  AMT_REQ_CREDIT_BUREAU_QRT                          64825 non-null  float64\n",
      " 29  AMT_REQ_CREDIT_BUREAU_YEAR                         64825 non-null  float64\n",
      " 30  NAME_EDUCATION_TYPE_Higher education               64825 non-null  uint8  \n",
      " 31  NAME_EDUCATION_TYPE_Incomplete higher              64825 non-null  uint8  \n",
      " 32  NAME_EDUCATION_TYPE_Lower secondary                64825 non-null  uint8  \n",
      " 33  NAME_EDUCATION_TYPE_Secondary / secondary special  64825 non-null  uint8  \n",
      " 34  NAME_INCOME_TYPE_Commercial associate              64825 non-null  uint8  \n",
      " 35  NAME_INCOME_TYPE_Maternity leave                   64825 non-null  uint8  \n",
      " 36  NAME_INCOME_TYPE_Pensioner                         64825 non-null  uint8  \n",
      " 37  NAME_INCOME_TYPE_State servant                     64825 non-null  uint8  \n",
      " 38  NAME_INCOME_TYPE_Student                           64825 non-null  uint8  \n",
      " 39  NAME_INCOME_TYPE_Unemployed                        64825 non-null  uint8  \n",
      " 40  NAME_INCOME_TYPE_Working                           64825 non-null  uint8  \n",
      " 41  CODE_GENDER_M                                      64825 non-null  uint8  \n",
      " 42  FLAG_OWN_REALTY_Y                                  64825 non-null  uint8  \n",
      " 43  NAME_HOUSING_TYPE_House / apartment                64825 non-null  uint8  \n",
      " 44  NAME_HOUSING_TYPE_Municipal apartment              64825 non-null  uint8  \n",
      " 45  NAME_HOUSING_TYPE_Office apartment                 64825 non-null  uint8  \n",
      " 46  NAME_HOUSING_TYPE_Rented apartment                 64825 non-null  uint8  \n",
      " 47  NAME_HOUSING_TYPE_With parents                     64825 non-null  uint8  \n",
      " 48  NAME_FAMILY_STATUS_Married                         64825 non-null  uint8  \n",
      " 49  NAME_FAMILY_STATUS_Separated                       64825 non-null  uint8  \n",
      " 50  NAME_FAMILY_STATUS_Single / not married            64825 non-null  uint8  \n",
      " 51  NAME_FAMILY_STATUS_Unknown                         64825 non-null  uint8  \n",
      " 52  NAME_FAMILY_STATUS_Widow                           64825 non-null  uint8  \n",
      " 53  NAME_TYPE_SUITE_Family                             64825 non-null  uint8  \n",
      " 54  NAME_TYPE_SUITE_Group of people                    64825 non-null  uint8  \n",
      " 55  NAME_TYPE_SUITE_Other_A                            64825 non-null  uint8  \n",
      " 56  NAME_TYPE_SUITE_Other_B                            64825 non-null  uint8  \n",
      " 57  NAME_TYPE_SUITE_Spouse, partner                    64825 non-null  uint8  \n",
      " 58  NAME_TYPE_SUITE_Unaccompanied                      64825 non-null  uint8  \n",
      " 59  FLAG_OWN_CAR_Y                                     64825 non-null  uint8  \n",
      " 60  NAME_CONTRACT_TYPE_Revolving loans                 64825 non-null  uint8  \n",
      " 61  ORGANIZATION_TYPE_CODE                             64825 non-null  int64  \n",
      "dtypes: float64(24), int64(7), uint8(31)\n",
      "memory usage: 17.7 MB\n"
     ]
    }
   ],
   "source": [
    "# Check value counts and Dtypes\n",
    "df3.info()"
   ]
  },
  {
   "cell_type": "markdown",
   "metadata": {},
   "source": [
    "### Select Features"
   ]
  },
  {
   "cell_type": "markdown",
   "metadata": {},
   "source": [
    "## SMOTE - Oversample Minority Class"
   ]
  },
  {
   "cell_type": "markdown",
   "metadata": {},
   "source": [
    "### Train, Test, Split"
   ]
  },
  {
   "cell_type": "code",
   "execution_count": 37,
   "metadata": {
    "ExecuteTime": {
     "end_time": "2022-03-29T14:21:48.757453Z",
     "start_time": "2022-03-29T14:21:48.700004Z"
    }
   },
   "outputs": [],
   "source": [
    "# Define X and y\n",
    "y = df3['TARGET']\n",
    "X = df3.drop('TARGET', axis=1)\n",
    "\n",
    "# Perform train-test split with random_state=42 and stratify=y\n",
    "X_train, X_test, y_train, y_test = train_test_split(X, y, test_size=0.4, random_state=42)"
   ]
  },
  {
   "cell_type": "code",
   "execution_count": 38,
   "metadata": {
    "ExecuteTime": {
     "end_time": "2022-03-29T14:21:51.306648Z",
     "start_time": "2022-03-29T14:21:48.760953Z"
    }
   },
   "outputs": [
    {
     "name": "stdout",
     "output_type": "stream",
     "text": [
      "0    23963\n",
      "1    14932\n",
      "Name: TARGET, dtype: int64\n",
      "\n",
      "\n",
      "1    23963\n",
      "0    23963\n",
      "Name: TARGET, dtype: int64\n"
     ]
    }
   ],
   "source": [
    "# Previous original class distribution\n",
    "print(y_train.value_counts()) \n",
    "\n",
    "# Fit SMOTE to training data\n",
    "X_train_resampled, y_train_resampled = SMOTE().fit_resample(X_train, y_train) \n",
    "\n",
    "# Preview synthetic sample class distribution\n",
    "print('\\n')\n",
    "print(pd.Series(y_train_resampled).value_counts()) \n",
    "\n",
    "# Note, if you get an Attribute Error: 'SMOTE' object has no attribute\n",
    "# '_validate_data', then downgrade your version of imblearn to 0.6.2\n",
    "# or upgrade your version of sklearn to 0.23"
   ]
  },
  {
   "cell_type": "markdown",
   "metadata": {},
   "source": [
    "# Random Forest Model 1\n",
    "* Prioritize Accuracy for Loan Approval"
   ]
  },
  {
   "cell_type": "code",
   "execution_count": 39,
   "metadata": {
    "ExecuteTime": {
     "end_time": "2022-03-29T14:21:51.520348Z",
     "start_time": "2022-03-29T14:21:51.310317Z"
    }
   },
   "outputs": [],
   "source": [
    "# Scale train and test sets with StandardScaler\n",
    "X_train_std = StandardScaler().fit_transform(X_train_resampled)\n",
    "X_test_std = StandardScaler().fit_transform(X_test)"
   ]
  },
  {
   "cell_type": "code",
   "execution_count": 40,
   "metadata": {
    "ExecuteTime": {
     "end_time": "2022-03-29T14:22:11.634859Z",
     "start_time": "2022-03-29T14:21:51.523678Z"
    }
   },
   "outputs": [
    {
     "data": {
      "text/plain": [
       "RandomForestClassifier()"
      ]
     },
     "execution_count": 40,
     "metadata": {},
     "output_type": "execute_result"
    }
   ],
   "source": [
    "# Instantiate and fit a RandomForestClassifier\n",
    "forest1 = RandomForestClassifier()\n",
    "forest1.fit(X_train_std, y_train_resampled)"
   ]
  },
  {
   "cell_type": "code",
   "execution_count": 41,
   "metadata": {
    "ExecuteTime": {
     "end_time": "2022-03-29T14:22:14.436110Z",
     "start_time": "2022-03-29T14:22:11.637451Z"
    }
   },
   "outputs": [
    {
     "data": {
      "text/plain": [
       "1.0"
      ]
     },
     "execution_count": 41,
     "metadata": {},
     "output_type": "execute_result"
    }
   ],
   "source": [
    "# Training accuracy score\n",
    "forest1.score(X_train_std, y_train_resampled)"
   ]
  },
  {
   "cell_type": "code",
   "execution_count": 42,
   "metadata": {
    "ExecuteTime": {
     "end_time": "2022-03-29T14:22:15.218098Z",
     "start_time": "2022-03-29T14:22:14.442068Z"
    }
   },
   "outputs": [
    {
     "data": {
      "text/plain": [
       "0.3910913999228693"
      ]
     },
     "execution_count": 42,
     "metadata": {},
     "output_type": "execute_result"
    }
   ],
   "source": [
    "# Test accuracy score\n",
    "forest1.score(X_test_std, y_test)"
   ]
  },
  {
   "cell_type": "code",
   "execution_count": 43,
   "metadata": {
    "ExecuteTime": {
     "end_time": "2022-03-29T14:22:18.230721Z",
     "start_time": "2022-03-29T14:22:15.221775Z"
    }
   },
   "outputs": [],
   "source": [
    "# Train set predictions\n",
    "train_pred = forest1.predict(X_train_std)\n",
    "\n",
    "# Test set predictions\n",
    "pred = forest1.predict(X_test_std)"
   ]
  },
  {
   "cell_type": "code",
   "execution_count": 44,
   "metadata": {
    "ExecuteTime": {
     "end_time": "2022-03-29T14:22:18.740004Z",
     "start_time": "2022-03-29T14:22:18.236166Z"
    }
   },
   "outputs": [
    {
     "name": "stdout",
     "output_type": "stream",
     "text": [
      "Training Set\n",
      "[[23963     0]\n",
      " [    0 23963]]\n",
      "              precision    recall  f1-score   support\n",
      "\n",
      "           0       1.00      1.00      1.00     23963\n",
      "           1       1.00      1.00      1.00     23963\n",
      "\n",
      "    accuracy                           1.00     47926\n",
      "   macro avg       1.00      1.00      1.00     47926\n",
      "weighted avg       1.00      1.00      1.00     47926\n",
      "\n",
      "\n",
      "Test Set\n",
      "[[  278 15759]\n",
      " [   30  9863]]\n",
      "              precision    recall  f1-score   support\n",
      "\n",
      "           0       0.90      0.02      0.03     16037\n",
      "           1       0.38      1.00      0.56      9893\n",
      "\n",
      "    accuracy                           0.39     25930\n",
      "   macro avg       0.64      0.51      0.29     25930\n",
      "weighted avg       0.71      0.39      0.23     25930\n",
      "\n"
     ]
    }
   ],
   "source": [
    "# Confusion matrix and classification report\n",
    "print(\"Training Set\")\n",
    "print(confusion_matrix(y_train_resampled, train_pred))\n",
    "print(classification_report(y_train_resampled, train_pred))\n",
    "print()\n",
    "print(\"Test Set\")\n",
    "print(confusion_matrix(y_test, pred))\n",
    "print(classification_report(y_test, pred))"
   ]
  },
  {
   "cell_type": "markdown",
   "metadata": {},
   "source": [
    "### Summary - Random Forest Part 1\n",
    "* Model is fairly proportional and has a fairly high recall score for Approval, which is desirable for my business case.\n",
    "* I want the model to have a recall score for approval that is above 85%, so I will work in that direction."
   ]
  },
  {
   "cell_type": "markdown",
   "metadata": {},
   "source": [
    "## Random Forest Model 2\n",
    "* Improve Accuracy for Loan Approval"
   ]
  },
  {
   "cell_type": "code",
   "execution_count": 45,
   "metadata": {
    "ExecuteTime": {
     "end_time": "2022-03-29T14:22:18.985532Z",
     "start_time": "2022-03-29T14:22:18.745127Z"
    }
   },
   "outputs": [],
   "source": [
    "# Scale train and test sets with StandardScaler\n",
    "X_train_std = StandardScaler().fit_transform(X_train_resampled)\n",
    "X_test_std = StandardScaler().fit_transform(X_test)"
   ]
  },
  {
   "cell_type": "code",
   "execution_count": 46,
   "metadata": {
    "ExecuteTime": {
     "end_time": "2022-03-29T14:22:22.570654Z",
     "start_time": "2022-03-29T14:22:18.988330Z"
    }
   },
   "outputs": [
    {
     "data": {
      "text/plain": [
       "RandomForestClassifier(max_depth=10, n_estimators=20)"
      ]
     },
     "execution_count": 46,
     "metadata": {},
     "output_type": "execute_result"
    }
   ],
   "source": [
    "# Instantiate and fit a RandomForestClassifier\n",
    "forest2 = RandomForestClassifier(n_estimators=20, max_depth= 10)\n",
    "forest2.fit(X_train_std, y_train_resampled)"
   ]
  },
  {
   "cell_type": "code",
   "execution_count": 47,
   "metadata": {
    "ExecuteTime": {
     "end_time": "2022-03-29T14:22:22.895695Z",
     "start_time": "2022-03-29T14:22:22.573688Z"
    }
   },
   "outputs": [
    {
     "data": {
      "text/plain": [
       "0.7711680507448984"
      ]
     },
     "execution_count": 47,
     "metadata": {},
     "output_type": "execute_result"
    }
   ],
   "source": [
    "# Training accuracy score\n",
    "forest2.score(X_train_std, y_train_resampled)"
   ]
  },
  {
   "cell_type": "code",
   "execution_count": 48,
   "metadata": {
    "ExecuteTime": {
     "end_time": "2022-03-29T14:22:23.134405Z",
     "start_time": "2022-03-29T14:22:22.905073Z"
    }
   },
   "outputs": [
    {
     "data": {
      "text/plain": [
       "0.3928268414963363"
      ]
     },
     "execution_count": 48,
     "metadata": {},
     "output_type": "execute_result"
    }
   ],
   "source": [
    "# Test accuracy score\n",
    "forest2.score(X_test_std, y_test)"
   ]
  },
  {
   "cell_type": "code",
   "execution_count": 50,
   "metadata": {
    "ExecuteTime": {
     "end_time": "2022-03-29T14:44:26.924043Z",
     "start_time": "2022-03-29T14:44:26.582921Z"
    }
   },
   "outputs": [],
   "source": [
    "# Train set predictions\n",
    "train_pred = forest2.predict(X_train_std)\n",
    "\n",
    "# Test set predictions\n",
    "pred = forest2.predict(X_test_std)"
   ]
  },
  {
   "cell_type": "code",
   "execution_count": 51,
   "metadata": {
    "ExecuteTime": {
     "end_time": "2022-03-29T14:44:31.383047Z",
     "start_time": "2022-03-29T14:44:31.112800Z"
    }
   },
   "outputs": [
    {
     "name": "stdout",
     "output_type": "stream",
     "text": [
      "Training Set\n",
      "[[18869  5094]\n",
      " [ 5873 18090]]\n",
      "              precision    recall  f1-score   support\n",
      "\n",
      "           0       0.76      0.79      0.77     23963\n",
      "           1       0.78      0.75      0.77     23963\n",
      "\n",
      "    accuracy                           0.77     47926\n",
      "   macro avg       0.77      0.77      0.77     47926\n",
      "weighted avg       0.77      0.77      0.77     47926\n",
      "\n",
      "\n",
      "Test Set\n",
      "[[  346 15691]\n",
      " [   53  9840]]\n",
      "              precision    recall  f1-score   support\n",
      "\n",
      "           0       0.87      0.02      0.04     16037\n",
      "           1       0.39      0.99      0.56      9893\n",
      "\n",
      "    accuracy                           0.39     25930\n",
      "   macro avg       0.63      0.51      0.30     25930\n",
      "weighted avg       0.68      0.39      0.24     25930\n",
      "\n"
     ]
    }
   ],
   "source": [
    "# Confusion matrix and classification report\n",
    "print(\"Training Set\")\n",
    "print(confusion_matrix(y_train_resampled, train_pred))\n",
    "print(classification_report(y_train_resampled, train_pred))\n",
    "print()\n",
    "print(\"Test Set\")\n",
    "print(confusion_matrix(y_test, pred))\n",
    "print(classification_report(y_test, pred))"
   ]
  },
  {
   "cell_type": "code",
   "execution_count": 52,
   "metadata": {
    "ExecuteTime": {
     "end_time": "2022-03-29T14:44:31.426623Z",
     "start_time": "2022-03-29T14:44:31.386774Z"
    }
   },
   "outputs": [
    {
     "data": {
      "text/plain": [
       "array([5.48444212e-03, 9.35911587e-03, 1.29678630e-02, 1.38011877e-02,\n",
       "       2.72839073e-02, 2.41541422e-02, 4.57068892e-02, 1.35189219e-02,\n",
       "       2.89235595e-03, 1.55961765e-02, 1.53863773e-02, 8.86985950e-04,\n",
       "       6.19170061e-02, 1.45430406e-01, 1.66558981e-01, 9.82373237e-03,\n",
       "       7.77530955e-03, 1.81288237e-02, 1.61600594e-02, 9.91443822e-03,\n",
       "       2.80726653e-02, 9.87625437e-03, 1.38995646e-02, 2.99050622e-02,\n",
       "       3.71573011e-02, 1.74589275e-02, 2.16124582e-02, 1.96701163e-02,\n",
       "       3.37964538e-02, 3.81862195e-02, 2.50405847e-03, 1.10851559e-03,\n",
       "       9.51844228e-03, 1.13807024e-02, 0.00000000e+00, 2.73593149e-03,\n",
       "       6.11184409e-03, 0.00000000e+00, 1.68633750e-05, 4.83919763e-03,\n",
       "       3.82452635e-03, 4.47781629e-03, 3.33092310e-03, 5.66954698e-04,\n",
       "       4.43890387e-04, 7.55126879e-04, 1.29217562e-03, 1.71916696e-02,\n",
       "       1.57292739e-03, 6.27406359e-03, 0.00000000e+00, 2.48256186e-03,\n",
       "       2.02037937e-03, 6.35633206e-05, 1.50835130e-04, 5.16438230e-05,\n",
       "       6.85967609e-04, 1.70568719e-03, 2.29295991e-02, 2.58571709e-03,\n",
       "       1.69962711e-02])"
      ]
     },
     "execution_count": 52,
     "metadata": {},
     "output_type": "execute_result"
    }
   ],
   "source": [
    "# Feature importance\n",
    "forest2.feature_importances_"
   ]
  },
  {
   "cell_type": "code",
   "execution_count": 53,
   "metadata": {
    "ExecuteTime": {
     "end_time": "2022-03-29T14:44:34.520603Z",
     "start_time": "2022-03-29T14:44:31.430332Z"
    }
   },
   "outputs": [
    {
     "data": {
      "image/png": "[encoded data removed]",
      "text/plain": [
       "<Figure size 576x1440 with 1 Axes>"
      ]
     },
     "metadata": {
      "needs_background": "light"
     },
     "output_type": "display_data"
    }
   ],
   "source": [
    "def plot_feature_importances(model):\n",
    "    n_features = X_train.shape[1]\n",
    "    plt.figure(figsize=(8,20))\n",
    "    plt.barh(range(n_features), model.feature_importances_, align='center') \n",
    "    plt.yticks(np.arange(n_features), X_train.columns.values) \n",
    "    plt.xlabel('Feature importance')\n",
    "    plt.ylabel('Feature')\n",
    "\n",
    "plot_feature_importances(forest2)"
   ]
  },
  {
   "cell_type": "markdown",
   "metadata": {},
   "source": [
    "### Summary - Random Forest Model 3\n",
    "* Model almost always predicts approval - probably related to large value for max_depth\n",
    "* Not a good enough model to recommend for business case as almost every application would be passed on to a human, nullifying the benefit of this model.\n",
    "* Neat to see the feature importances as this will be important for building a business case and recommending which features to collect data on in the future."
   ]
  },
  {
   "cell_type": "markdown",
   "metadata": {},
   "source": [
    "## Random Forest Model 3\n",
    "* Improve Accuracy for Loan Approval by using standard scaler"
   ]
  },
  {
   "cell_type": "code",
   "execution_count": 54,
   "metadata": {
    "ExecuteTime": {
     "end_time": "2022-03-29T14:44:34.958226Z",
     "start_time": "2022-03-29T14:44:34.532669Z"
    }
   },
   "outputs": [],
   "source": [
    "# Scale train and test sets with StandardScaler\n",
    "X_train_std = StandardScaler().fit_transform(X_train_resampled)\n",
    "X_test_std = StandardScaler().fit_transform(X_test)"
   ]
  },
  {
   "cell_type": "code",
   "execution_count": 55,
   "metadata": {
    "ExecuteTime": {
     "end_time": "2022-03-29T14:44:35.157567Z",
     "start_time": "2022-03-29T14:44:34.964014Z"
    }
   },
   "outputs": [
    {
     "data": {
      "text/plain": [
       "RandomForestClassifier(max_depth=4, max_features=2, n_estimators=3)"
      ]
     },
     "execution_count": 55,
     "metadata": {},
     "output_type": "execute_result"
    }
   ],
   "source": [
    "# Instantiate and fit a RandomForestClassifier\n",
    "forest3 = RandomForestClassifier(criterion='gini',n_estimators=3, max_features=2, max_depth= 4)\n",
    "forest3.fit(X_train_std, y_train_resampled)"
   ]
  },
  {
   "cell_type": "code",
   "execution_count": 56,
   "metadata": {
    "ExecuteTime": {
     "end_time": "2022-03-29T14:44:35.219802Z",
     "start_time": "2022-03-29T14:44:35.162204Z"
    }
   },
   "outputs": [
    {
     "data": {
      "text/plain": [
       "0.6383591370028794"
      ]
     },
     "execution_count": 56,
     "metadata": {},
     "output_type": "execute_result"
    }
   ],
   "source": [
    "# Training accuracy score\n",
    "forest3.score(X_train_std, y_train_resampled)"
   ]
  },
  {
   "cell_type": "code",
   "execution_count": 57,
   "metadata": {
    "ExecuteTime": {
     "end_time": "2022-03-29T14:44:35.250423Z",
     "start_time": "2022-03-29T14:44:35.225724Z"
    }
   },
   "outputs": [
    {
     "data": {
      "text/plain": [
       "0.3929425376012341"
      ]
     },
     "execution_count": 57,
     "metadata": {},
     "output_type": "execute_result"
    }
   ],
   "source": [
    "# Test accuracy score\n",
    "forest3.score(X_test_std, y_test)"
   ]
  },
  {
   "cell_type": "code",
   "execution_count": 58,
   "metadata": {
    "ExecuteTime": {
     "end_time": "2022-03-29T14:44:35.300264Z",
     "start_time": "2022-03-29T14:44:35.257255Z"
    }
   },
   "outputs": [],
   "source": [
    "# Train set predictions\n",
    "train_pred = forest3.predict(X_train_std)\n",
    "\n",
    "# Test set predictions\n",
    "pred = forest3.predict(X_test_std)"
   ]
  },
  {
   "cell_type": "code",
   "execution_count": 59,
   "metadata": {
    "ExecuteTime": {
     "end_time": "2022-03-29T14:44:35.620998Z",
     "start_time": "2022-03-29T14:44:35.306731Z"
    }
   },
   "outputs": [
    {
     "name": "stdout",
     "output_type": "stream",
     "text": [
      "Training Set\n",
      "[[15868  8095]\n",
      " [ 9237 14726]]\n",
      "              precision    recall  f1-score   support\n",
      "\n",
      "           0       0.63      0.66      0.65     23963\n",
      "           1       0.65      0.61      0.63     23963\n",
      "\n",
      "    accuracy                           0.64     47926\n",
      "   macro avg       0.64      0.64      0.64     47926\n",
      "weighted avg       0.64      0.64      0.64     47926\n",
      "\n",
      "\n",
      "Test Set\n",
      "[[  682 15355]\n",
      " [  386  9507]]\n",
      "              precision    recall  f1-score   support\n",
      "\n",
      "           0       0.64      0.04      0.08     16037\n",
      "           1       0.38      0.96      0.55      9893\n",
      "\n",
      "    accuracy                           0.39     25930\n",
      "   macro avg       0.51      0.50      0.31     25930\n",
      "weighted avg       0.54      0.39      0.26     25930\n",
      "\n"
     ]
    }
   ],
   "source": [
    "# Confusion matrix and classification report\n",
    "print(\"Training Set\")\n",
    "print(confusion_matrix(y_train_resampled, train_pred))\n",
    "print(classification_report(y_train_resampled, train_pred))\n",
    "print()\n",
    "print(\"Test Set\")\n",
    "print(confusion_matrix(y_test, pred))\n",
    "print(classification_report(y_test, pred))"
   ]
  },
  {
   "cell_type": "markdown",
   "metadata": {},
   "source": [
    "### Summary - Random Forest Part 2\n",
    "* Model almost always predicts approval - don't know why exactly\n",
    "* Not a good enough model to recommend for business cas as almost every application would be passed on to a human, nullifying the benefit of this model."
   ]
  },
  {
   "cell_type": "markdown",
   "metadata": {},
   "source": [
    "## Random Forest Model 4\n",
    "* Try without standard scalar"
   ]
  },
  {
   "cell_type": "code",
   "execution_count": 60,
   "metadata": {
    "ExecuteTime": {
     "end_time": "2022-03-29T14:44:35.806379Z",
     "start_time": "2022-03-29T14:44:35.623548Z"
    }
   },
   "outputs": [
    {
     "data": {
      "text/plain": [
       "RandomForestClassifier(max_depth=2, max_features=2, n_estimators=8)"
      ]
     },
     "execution_count": 60,
     "metadata": {},
     "output_type": "execute_result"
    }
   ],
   "source": [
    "# Instantiate and fit a RandomForestClassifier\n",
    "forest4 = RandomForestClassifier(criterion='gini',n_estimators=8, max_features=2, max_depth=2)\n",
    "forest4.fit(X_train_resampled, y_train_resampled)"
   ]
  },
  {
   "cell_type": "code",
   "execution_count": 61,
   "metadata": {
    "ExecuteTime": {
     "end_time": "2022-03-29T14:44:35.919382Z",
     "start_time": "2022-03-29T14:44:35.822871Z"
    }
   },
   "outputs": [
    {
     "data": {
      "text/plain": [
       "0.6386721195175896"
      ]
     },
     "execution_count": 61,
     "metadata": {},
     "output_type": "execute_result"
    }
   ],
   "source": [
    "# Training accuracy score\n",
    "forest4.score(X_train_resampled, y_train_resampled)"
   ]
  },
  {
   "cell_type": "code",
   "execution_count": 62,
   "metadata": {
    "ExecuteTime": {
     "end_time": "2022-03-29T14:44:35.989610Z",
     "start_time": "2022-03-29T14:44:35.924711Z"
    }
   },
   "outputs": [
    {
     "data": {
      "text/plain": [
       "0.5957192441187813"
      ]
     },
     "execution_count": 62,
     "metadata": {},
     "output_type": "execute_result"
    }
   ],
   "source": [
    "# Test accuracy score\n",
    "forest4.score(X_test, y_test)"
   ]
  },
  {
   "cell_type": "code",
   "execution_count": 63,
   "metadata": {
    "ExecuteTime": {
     "end_time": "2022-03-29T14:44:36.088486Z",
     "start_time": "2022-03-29T14:44:35.996752Z"
    }
   },
   "outputs": [],
   "source": [
    "# Train set predictions\n",
    "train_pred = forest4.predict(X_train_std)\n",
    "\n",
    "# Test set predictions\n",
    "pred = forest4.predict(X_test_std)"
   ]
  },
  {
   "cell_type": "code",
   "execution_count": 64,
   "metadata": {
    "ExecuteTime": {
     "end_time": "2022-03-29T14:44:36.464167Z",
     "start_time": "2022-03-29T14:44:36.091651Z"
    }
   },
   "outputs": [
    {
     "name": "stdout",
     "output_type": "stream",
     "text": [
      "Training Set\n",
      "[[ 9515 14448]\n",
      " [ 5363 18600]]\n",
      "              precision    recall  f1-score   support\n",
      "\n",
      "           0       0.64      0.40      0.49     23963\n",
      "           1       0.56      0.78      0.65     23963\n",
      "\n",
      "    accuracy                           0.59     47926\n",
      "   macro avg       0.60      0.59      0.57     47926\n",
      "weighted avg       0.60      0.59      0.57     47926\n",
      "\n",
      "\n",
      "Test Set\n",
      "[[6402 9635]\n",
      " [2323 7570]]\n",
      "              precision    recall  f1-score   support\n",
      "\n",
      "           0       0.73      0.40      0.52     16037\n",
      "           1       0.44      0.77      0.56      9893\n",
      "\n",
      "    accuracy                           0.54     25930\n",
      "   macro avg       0.59      0.58      0.54     25930\n",
      "weighted avg       0.62      0.54      0.53     25930\n",
      "\n"
     ]
    }
   ],
   "source": [
    "# Confusion matrix and classification report\n",
    "print(\"Training Set\")\n",
    "print(confusion_matrix(y_train_resampled, train_pred))\n",
    "print(classification_report(y_train_resampled, train_pred))\n",
    "print()\n",
    "print(\"Test Set\")\n",
    "print(confusion_matrix(y_test, pred))\n",
    "print(classification_report(y_test, pred))"
   ]
  },
  {
   "cell_type": "markdown",
   "metadata": {},
   "source": [
    "### Summary - Random Forest Model 4\n",
    "* This model is the most balanced of the models I have been able to create, with a recall score that is similar for approval and refusal."
   ]
  },
  {
   "cell_type": "markdown",
   "metadata": {},
   "source": [
    "## Random Forest Model 5\n",
    "* Try without standard scaler and higher n_estimators"
   ]
  },
  {
   "cell_type": "code",
   "execution_count": 65,
   "metadata": {
    "ExecuteTime": {
     "end_time": "2022-03-29T14:44:40.078876Z",
     "start_time": "2022-03-29T14:44:36.478513Z"
    }
   },
   "outputs": [
    {
     "data": {
      "text/plain": [
       "RandomForestClassifier(max_depth=2, max_features=8)"
      ]
     },
     "execution_count": 65,
     "metadata": {},
     "output_type": "execute_result"
    }
   ],
   "source": [
    "# Instantiate and fit a RandomForestClassifier\n",
    "forest5 = RandomForestClassifier(criterion='gini',n_estimators=100, max_features=8, max_depth=2)\n",
    "forest5.fit(X_train_resampled, y_train_resampled)"
   ]
  },
  {
   "cell_type": "code",
   "execution_count": 66,
   "metadata": {
    "ExecuteTime": {
     "end_time": "2022-03-29T14:44:40.596949Z",
     "start_time": "2022-03-29T14:44:40.081531Z"
    }
   },
   "outputs": [
    {
     "data": {
      "text/plain": [
       "0.7004757334223595"
      ]
     },
     "execution_count": 66,
     "metadata": {},
     "output_type": "execute_result"
    }
   ],
   "source": [
    "# Training accuracy score\n",
    "forest5.score(X_train_resampled, y_train_resampled)"
   ]
  },
  {
   "cell_type": "code",
   "execution_count": 67,
   "metadata": {
    "ExecuteTime": {
     "end_time": "2022-03-29T14:44:40.828837Z",
     "start_time": "2022-03-29T14:44:40.600695Z"
    }
   },
   "outputs": [
    {
     "data": {
      "text/plain": [
       "0.659313536444273"
      ]
     },
     "execution_count": 67,
     "metadata": {},
     "output_type": "execute_result"
    }
   ],
   "source": [
    "# Test accuracy score\n",
    "forest5.score(X_test, y_test)"
   ]
  },
  {
   "cell_type": "code",
   "execution_count": 68,
   "metadata": {
    "ExecuteTime": {
     "end_time": "2022-03-29T14:44:41.354583Z",
     "start_time": "2022-03-29T14:44:40.833811Z"
    }
   },
   "outputs": [],
   "source": [
    "# Train set predictions\n",
    "train_pred = forest5.predict(X_train_std)\n",
    "\n",
    "# Test set predictions\n",
    "pred = forest5.predict(X_test_std)"
   ]
  },
  {
   "cell_type": "code",
   "execution_count": 69,
   "metadata": {
    "ExecuteTime": {
     "end_time": "2022-03-29T14:44:41.596584Z",
     "start_time": "2022-03-29T14:44:41.357805Z"
    }
   },
   "outputs": [
    {
     "name": "stdout",
     "output_type": "stream",
     "text": [
      "Training Set\n",
      "[[ 9817 14146]\n",
      " [ 3249 20714]]\n",
      "              precision    recall  f1-score   support\n",
      "\n",
      "           0       0.75      0.41      0.53     23963\n",
      "           1       0.59      0.86      0.70     23963\n",
      "\n",
      "    accuracy                           0.64     47926\n",
      "   macro avg       0.67      0.64      0.62     47926\n",
      "weighted avg       0.67      0.64      0.62     47926\n",
      "\n",
      "\n",
      "Test Set\n",
      "[[6139 9898]\n",
      " [1494 8399]]\n",
      "              precision    recall  f1-score   support\n",
      "\n",
      "           0       0.80      0.38      0.52     16037\n",
      "           1       0.46      0.85      0.60      9893\n",
      "\n",
      "    accuracy                           0.56     25930\n",
      "   macro avg       0.63      0.62      0.56     25930\n",
      "weighted avg       0.67      0.56      0.55     25930\n",
      "\n"
     ]
    }
   ],
   "source": [
    "# Confusion matrix and classification report\n",
    "print(\"Training Set\")\n",
    "print(confusion_matrix(y_train_resampled, train_pred))\n",
    "print(classification_report(y_train_resampled, train_pred))\n",
    "print()\n",
    "print(\"Test Set\")\n",
    "print(confusion_matrix(y_test, pred))\n",
    "print(classification_report(y_test, pred))"
   ]
  },
  {
   "cell_type": "markdown",
   "metadata": {},
   "source": [
    "### Summary - Random Forest Model 5\n",
    "* Higher n_estimators, means the model optimizes for overall accuracy, which reduces the recall score for loan approval.\n",
    "* Reducing max_depth to 2, lead to higher recall score for loan approval (.85) and allows me to filter ~25% of the applications out as refusals.\n"
   ]
  },
  {
   "cell_type": "markdown",
   "metadata": {},
   "source": [
    "## Random Forest Model 6\n",
    "* Optimize for high accuracy with rejection to add to voting classifier"
   ]
  },
  {
   "cell_type": "code",
   "execution_count": 70,
   "metadata": {
    "ExecuteTime": {
     "end_time": "2022-03-29T14:44:54.808372Z",
     "start_time": "2022-03-29T14:44:41.598932Z"
    }
   },
   "outputs": [
    {
     "data": {
      "text/plain": [
       "RandomForestClassifier()"
      ]
     },
     "execution_count": 70,
     "metadata": {},
     "output_type": "execute_result"
    }
   ],
   "source": [
    "# Instantiate and fit a RandomForestClassifier\n",
    "forest6 = RandomForestClassifier()\n",
    "forest6.fit(X_train, y_train)"
   ]
  },
  {
   "cell_type": "code",
   "execution_count": 71,
   "metadata": {
    "ExecuteTime": {
     "end_time": "2022-03-29T14:44:56.653911Z",
     "start_time": "2022-03-29T14:44:54.810785Z"
    }
   },
   "outputs": [
    {
     "data": {
      "text/plain": [
       "1.0"
      ]
     },
     "execution_count": 71,
     "metadata": {},
     "output_type": "execute_result"
    }
   ],
   "source": [
    "# Training accuracy score\n",
    "forest6.score(X_train, y_train)"
   ]
  },
  {
   "cell_type": "code",
   "execution_count": 72,
   "metadata": {
    "ExecuteTime": {
     "end_time": "2022-03-29T14:44:58.012820Z",
     "start_time": "2022-03-29T14:44:56.658001Z"
    }
   },
   "outputs": [
    {
     "data": {
      "text/plain": [
       "0.6973389895873505"
      ]
     },
     "execution_count": 72,
     "metadata": {},
     "output_type": "execute_result"
    }
   ],
   "source": [
    "# Test accuracy score\n",
    "forest6.score(X_test, y_test)"
   ]
  },
  {
   "cell_type": "code",
   "execution_count": 73,
   "metadata": {
    "ExecuteTime": {
     "end_time": "2022-03-29T14:45:01.385928Z",
     "start_time": "2022-03-29T14:44:58.018227Z"
    }
   },
   "outputs": [],
   "source": [
    "# Train set predictions\n",
    "train_pred = forest6.predict(X_train)\n",
    "\n",
    "# Test set predictions\n",
    "pred = forest6.predict(X_test)"
   ]
  },
  {
   "cell_type": "code",
   "execution_count": 74,
   "metadata": {
    "ExecuteTime": {
     "end_time": "2022-03-29T14:45:01.638255Z",
     "start_time": "2022-03-29T14:45:01.390073Z"
    }
   },
   "outputs": [
    {
     "name": "stdout",
     "output_type": "stream",
     "text": [
      "Training Set\n",
      "[[23963     0]\n",
      " [    0 14932]]\n",
      "              precision    recall  f1-score   support\n",
      "\n",
      "           0       1.00      1.00      1.00     23963\n",
      "           1       1.00      1.00      1.00     14932\n",
      "\n",
      "    accuracy                           1.00     38895\n",
      "   macro avg       1.00      1.00      1.00     38895\n",
      "weighted avg       1.00      1.00      1.00     38895\n",
      "\n",
      "\n",
      "Test Set\n",
      "[[13611  2426]\n",
      " [ 5422  4471]]\n",
      "              precision    recall  f1-score   support\n",
      "\n",
      "           0       0.72      0.85      0.78     16037\n",
      "           1       0.65      0.45      0.53      9893\n",
      "\n",
      "    accuracy                           0.70     25930\n",
      "   macro avg       0.68      0.65      0.65     25930\n",
      "weighted avg       0.69      0.70      0.68     25930\n",
      "\n"
     ]
    }
   ],
   "source": [
    "# Confusion matrix and classification report\n",
    "print(\"Training Set\")\n",
    "print(confusion_matrix(y_train, train_pred))\n",
    "print(classification_report(y_train, train_pred))\n",
    "print()\n",
    "print(\"Test Set\")\n",
    "print(confusion_matrix(y_test, pred))\n",
    "print(classification_report(y_test, pred))"
   ]
  },
  {
   "cell_type": "markdown",
   "metadata": {},
   "source": [
    "### Summary - Random Forest Model 6\n",
    "* Higher n_estimators, means the model optimizes for overall accuracy, which reduces the recall score for loan approval.\n",
    "* Reducing max_depth to 2, lead to higher recall score for loan approval (.85) and allows me to filter ~25% of the applications out as refusals.\n"
   ]
  },
  {
   "cell_type": "markdown",
   "metadata": {},
   "source": [
    "### Feature Importance Chart"
   ]
  },
  {
   "cell_type": "code",
   "execution_count": 75,
   "metadata": {
    "ExecuteTime": {
     "end_time": "2022-03-29T14:45:03.916919Z",
     "start_time": "2022-03-29T14:45:01.640964Z"
    }
   },
   "outputs": [
    {
     "data": {
      "image/png": "[encoded data removed]",
      "text/plain": [
       "<Figure size 576x1440 with 1 Axes>"
      ]
     },
     "metadata": {
      "needs_background": "light"
     },
     "output_type": "display_data"
    }
   ],
   "source": [
    "def plot_feature_importances(model):\n",
    "    n_features = X_train.shape[1]\n",
    "    plt.figure(figsize=(8,20))\n",
    "    plt.barh(range(n_features), model.feature_importances_, align='center') \n",
    "    plt.yticks(np.arange(n_features), X_train.columns.values) \n",
    "    plt.xlabel('Feature importance')\n",
    "    plt.ylabel('Feature')\n",
    "\n",
    "plot_feature_importances(forest6)"
   ]
  },
  {
   "cell_type": "markdown",
   "metadata": {},
   "source": [
    "### Improve Feature Importance Bar Chart\n",
    "* Ascending order for top 10 values"
   ]
  },
  {
   "cell_type": "code",
   "execution_count": 76,
   "metadata": {
    "ExecuteTime": {
     "end_time": "2022-03-29T14:45:04.017399Z",
     "start_time": "2022-03-29T14:45:03.919842Z"
    },
    "scrolled": true
   },
   "outputs": [
    {
     "data": {
      "text/html": [
       "<div>\n",
       "<style scoped>\n",
       "    .dataframe tbody tr th:only-of-type {\n",
       "        vertical-align: middle;\n",
       "    }\n",
       "\n",
       "    .dataframe tbody tr th {\n",
       "        vertical-align: top;\n",
       "    }\n",
       "\n",
       "    .dataframe thead th {\n",
       "        text-align: right;\n",
       "    }\n",
       "</style>\n",
       "<table border=\"1\" class=\"dataframe\">\n",
       "  <thead>\n",
       "    <tr style=\"text-align: right;\">\n",
       "      <th></th>\n",
       "      <th>Feature</th>\n",
       "      <th>Feature Importance</th>\n",
       "    </tr>\n",
       "  </thead>\n",
       "  <tbody>\n",
       "    <tr>\n",
       "      <th>13</th>\n",
       "      <td>EXT_SOURCE_2</td>\n",
       "      <td>0.092057</td>\n",
       "    </tr>\n",
       "    <tr>\n",
       "      <th>14</th>\n",
       "      <td>EXT_SOURCE_3</td>\n",
       "      <td>0.089972</td>\n",
       "    </tr>\n",
       "    <tr>\n",
       "      <th>6</th>\n",
       "      <td>DAYS_BIRTH</td>\n",
       "      <td>0.056352</td>\n",
       "    </tr>\n",
       "    <tr>\n",
       "      <th>9</th>\n",
       "      <td>DAYS_REGISTRATION</td>\n",
       "      <td>0.050167</td>\n",
       "    </tr>\n",
       "    <tr>\n",
       "      <th>3</th>\n",
       "      <td>AMT_ANNUITY</td>\n",
       "      <td>0.048594</td>\n",
       "    </tr>\n",
       "    <tr>\n",
       "      <th>20</th>\n",
       "      <td>DAYS_LAST_PHONE_CHANGE</td>\n",
       "      <td>0.048398</td>\n",
       "    </tr>\n",
       "    <tr>\n",
       "      <th>4</th>\n",
       "      <td>DAYS_EMPLOYED</td>\n",
       "      <td>0.047990</td>\n",
       "    </tr>\n",
       "    <tr>\n",
       "      <th>2</th>\n",
       "      <td>AMT_CREDIT</td>\n",
       "      <td>0.045345</td>\n",
       "    </tr>\n",
       "    <tr>\n",
       "      <th>12</th>\n",
       "      <td>EXT_SOURCE_1</td>\n",
       "      <td>0.043293</td>\n",
       "    </tr>\n",
       "    <tr>\n",
       "      <th>10</th>\n",
       "      <td>REGION_POPULATION_RELATIVE</td>\n",
       "      <td>0.040513</td>\n",
       "    </tr>\n",
       "  </tbody>\n",
       "</table>\n",
       "</div>"
      ],
      "text/plain": [
       "                       Feature  Feature Importance\n",
       "13                EXT_SOURCE_2            0.092057\n",
       "14                EXT_SOURCE_3            0.089972\n",
       "6                   DAYS_BIRTH            0.056352\n",
       "9            DAYS_REGISTRATION            0.050167\n",
       "3                  AMT_ANNUITY            0.048594\n",
       "20      DAYS_LAST_PHONE_CHANGE            0.048398\n",
       "4                DAYS_EMPLOYED            0.047990\n",
       "2                   AMT_CREDIT            0.045345\n",
       "12                EXT_SOURCE_1            0.043293\n",
       "10  REGION_POPULATION_RELATIVE            0.040513"
      ]
     },
     "execution_count": 76,
     "metadata": {},
     "output_type": "execute_result"
    }
   ],
   "source": [
    "# Feature importance\n",
    "features = pd.DataFrame(forest6.feature_importances_)\n",
    "features['Feature'] = X_train.columns.values\n",
    "features['Feature Importance'] = features[0]\n",
    "features = features.drop(0, axis=1)\n",
    "features = features.sort_values(by=['Feature Importance'], ascending=True)\n",
    "features = features.nlargest(n=10, columns=['Feature Importance'])\n",
    "features"
   ]
  },
  {
   "cell_type": "code",
   "execution_count": 77,
   "metadata": {
    "ExecuteTime": {
     "end_time": "2022-03-29T14:45:04.038514Z",
     "start_time": "2022-03-29T14:45:04.022774Z"
    }
   },
   "outputs": [],
   "source": [
    "import matplotlib.style as style\n",
    "# style.available\n",
    "style.use('fivethirtyeight')"
   ]
  },
  {
   "cell_type": "code",
   "execution_count": 78,
   "metadata": {
    "ExecuteTime": {
     "end_time": "2022-03-29T14:45:04.450016Z",
     "start_time": "2022-03-29T14:45:04.049425Z"
    }
   },
   "outputs": [
    {
     "data": {
      "text/plain": [
       "Text(0.5, 1.0, 'Top Ten Features by Importance')"
      ]
     },
     "execution_count": 78,
     "metadata": {},
     "output_type": "execute_result"
    },
    {
     "data": {
      "image/png": "[encoded data removed]",
      "text/plain": [
       "<Figure size 576x576 with 1 Axes>"
      ]
     },
     "metadata": {},
     "output_type": "display_data"
    }
   ],
   "source": [
    "plt.figure(figsize=(8,8))\n",
    "plt.barh(range(10), features['Feature Importance'], align='center') \n",
    "plt.yticks(np.arange(10), features['Feature']) \n",
    "plt.xlabel('Feature importance (Weight)')\n",
    "plt.ylabel('Feature')\n",
    "plt.title('Top Ten Features by Importance')"
   ]
  },
  {
   "cell_type": "markdown",
   "metadata": {},
   "source": [
    "## Explore EXT_SOURCE data"
   ]
  },
  {
   "cell_type": "code",
   "execution_count": 79,
   "metadata": {
    "ExecuteTime": {
     "end_time": "2022-03-29T14:45:04.475902Z",
     "start_time": "2022-03-29T14:45:04.453665Z"
    }
   },
   "outputs": [
    {
     "data": {
      "text/plain": [
       "count    64825.000000\n",
       "mean         0.465946\n",
       "std          0.141130\n",
       "min          0.014568\n",
       "25%          0.465946\n",
       "50%          0.465946\n",
       "75%          0.465946\n",
       "max          0.942680\n",
       "Name: EXT_SOURCE_1, dtype: float64"
      ]
     },
     "execution_count": 79,
     "metadata": {},
     "output_type": "execute_result"
    }
   ],
   "source": [
    "df3['EXT_SOURCE_1'].describe()"
   ]
  },
  {
   "cell_type": "markdown",
   "metadata": {},
   "source": [
    "# Check Gradient Boost & Tune Learning Rate\n",
    "* Iterated on this many times - \n",
    "    * Default learning rate (near 0.1) is the best.\n",
    "        * Learning rate should be in range of 0.0 - 1.0"
   ]
  },
  {
   "cell_type": "code",
   "execution_count": 80,
   "metadata": {
    "ExecuteTime": {
     "end_time": "2022-03-29T14:45:04.491404Z",
     "start_time": "2022-03-29T14:45:04.486549Z"
    }
   },
   "outputs": [],
   "source": [
    "# Scale train and test sets with StandardScaler from SMOTE\n",
    "# X_train_std = StandardScaler().fit_transform(X_train_resampled)\n",
    "# X_test_std = StandardScaler().fit_transform(X_test)"
   ]
  },
  {
   "cell_type": "code",
   "execution_count": 81,
   "metadata": {
    "ExecuteTime": {
     "end_time": "2022-03-29T14:45:04.504498Z",
     "start_time": "2022-03-29T14:45:04.495343Z"
    }
   },
   "outputs": [],
   "source": [
    "# Instantiate an GradientBoostingClassifier\n",
    "gbt_clf1 = GradientBoostingClassifier(learning_rate=0.1, random_state=42)"
   ]
  },
  {
   "cell_type": "code",
   "execution_count": 82,
   "metadata": {
    "ExecuteTime": {
     "end_time": "2022-03-29T14:45:35.072734Z",
     "start_time": "2022-03-29T14:45:04.510463Z"
    }
   },
   "outputs": [
    {
     "data": {
      "text/plain": [
       "GradientBoostingClassifier(random_state=42)"
      ]
     },
     "execution_count": 82,
     "metadata": {},
     "output_type": "execute_result"
    }
   ],
   "source": [
    "# Fit GradientBoostingClassifier\n",
    "gbt_clf1.fit(X_train_resampled, y_train_resampled)"
   ]
  },
  {
   "cell_type": "code",
   "execution_count": 83,
   "metadata": {
    "ExecuteTime": {
     "end_time": "2022-03-29T14:45:35.085501Z",
     "start_time": "2022-03-29T14:45:35.075287Z"
    }
   },
   "outputs": [
    {
     "data": {
      "text/plain": [
       "GradientBoostingClassifier(presort='auto', random_state=42)"
      ]
     },
     "execution_count": 83,
     "metadata": {},
     "output_type": "execute_result"
    }
   ],
   "source": [
    "GradientBoostingClassifier(criterion='friedman_mse', init=None,\n",
    "                           learning_rate=0.1, loss='deviance', max_depth=3,\n",
    "                           max_features=None, max_leaf_nodes=None,\n",
    "                           min_impurity_decrease=0.0, min_impurity_split=None,\n",
    "                           min_samples_leaf=1, min_samples_split=2,\n",
    "                           min_weight_fraction_leaf=0.0, n_estimators=100,\n",
    "                           n_iter_no_change=None, presort='auto',\n",
    "                           random_state=42, subsample=1.0, tol=0.0001,\n",
    "                           validation_fraction=0.1, verbose=0,\n",
    "                           warm_start=False)"
   ]
  },
  {
   "cell_type": "code",
   "execution_count": 84,
   "metadata": {
    "ExecuteTime": {
     "end_time": "2022-03-29T14:45:35.549041Z",
     "start_time": "2022-03-29T14:45:35.089218Z"
    }
   },
   "outputs": [],
   "source": [
    "# GradientBoosting model predictions\n",
    "gbt_clf_train_preds = gbt_clf1.predict(X_train_resampled)\n",
    "gbt_clf_test_preds = gbt_clf1.predict(X_test_std)"
   ]
  },
  {
   "cell_type": "code",
   "execution_count": 85,
   "metadata": {
    "ExecuteTime": {
     "end_time": "2022-03-29T14:45:35.800928Z",
     "start_time": "2022-03-29T14:45:35.551575Z"
    }
   },
   "outputs": [
    {
     "name": "stdout",
     "output_type": "stream",
     "text": [
      "Training Set\n",
      "[[18611  5352]\n",
      " [ 6443 17520]]\n",
      "              precision    recall  f1-score   support\n",
      "\n",
      "           0       0.74      0.78      0.76     23963\n",
      "           1       0.77      0.73      0.75     23963\n",
      "\n",
      "    accuracy                           0.75     47926\n",
      "   macro avg       0.75      0.75      0.75     47926\n",
      "weighted avg       0.75      0.75      0.75     47926\n",
      "\n",
      "Test Set\n",
      "[[6432 9605]\n",
      " [1854 8039]]\n",
      "              precision    recall  f1-score   support\n",
      "\n",
      "           0       0.78      0.40      0.53     16037\n",
      "           1       0.46      0.81      0.58      9893\n",
      "\n",
      "    accuracy                           0.56     25930\n",
      "   macro avg       0.62      0.61      0.56     25930\n",
      "weighted avg       0.65      0.56      0.55     25930\n",
      "\n"
     ]
    }
   ],
   "source": [
    "# Confusion matrix and classification report for training set\n",
    "print(\"Training Set\")\n",
    "print(confusion_matrix(y_train_resampled, gbt_clf_train_preds))\n",
    "print(classification_report(y_train_resampled, gbt_clf_train_preds))\n",
    "\n",
    "print(\"Test Set\")\n",
    "# Confusion matrix and classification report for test set\n",
    "print(confusion_matrix(y_test, gbt_clf_test_preds))\n",
    "print(classification_report(y_test, gbt_clf_test_preds))"
   ]
  },
  {
   "cell_type": "markdown",
   "metadata": {},
   "source": [
    "### Summary - Gradient Boost Model 1\n",
    "* This model is also over-trained - leading to an approval of 79% of applications.\n",
    "* However, the model is 90% accurate at predicting approvals, so it is more accurate than other models and would allow me to remove 21% of the applications, which categorize as refusals, with a higher degree of confidence."
   ]
  },
  {
   "cell_type": "markdown",
   "metadata": {},
   "source": [
    "## Gradient Boost Model 2\n",
    "* Tune for more balanced test distribution"
   ]
  },
  {
   "cell_type": "code",
   "execution_count": 86,
   "metadata": {
    "ExecuteTime": {
     "end_time": "2022-03-29T14:45:35.809149Z",
     "start_time": "2022-03-29T14:45:35.803296Z"
    }
   },
   "outputs": [],
   "source": [
    "# Instantiate an GradientBoostingClassifier\n",
    "gbt_clf2 = GradientBoostingClassifier(learning_rate=0.05, max_depth=2, min_samples_leaf=20,random_state=42)"
   ]
  },
  {
   "cell_type": "code",
   "execution_count": 87,
   "metadata": {
    "ExecuteTime": {
     "end_time": "2022-03-29T14:45:55.614187Z",
     "start_time": "2022-03-29T14:45:35.817068Z"
    }
   },
   "outputs": [
    {
     "data": {
      "text/plain": [
       "GradientBoostingClassifier(learning_rate=0.05, max_depth=2, min_samples_leaf=20,\n",
       "                           random_state=42)"
      ]
     },
     "execution_count": 87,
     "metadata": {},
     "output_type": "execute_result"
    }
   ],
   "source": [
    "# Fit GradientBoostingClassifier\n",
    "gbt_clf2.fit(X_train_resampled, y_train_resampled)"
   ]
  },
  {
   "cell_type": "code",
   "execution_count": 88,
   "metadata": {
    "ExecuteTime": {
     "end_time": "2022-03-29T14:45:55.629018Z",
     "start_time": "2022-03-29T14:45:55.616886Z"
    }
   },
   "outputs": [
    {
     "data": {
      "text/plain": [
       "GradientBoostingClassifier(presort='auto', random_state=42)"
      ]
     },
     "execution_count": 88,
     "metadata": {},
     "output_type": "execute_result"
    }
   ],
   "source": [
    "GradientBoostingClassifier(criterion='friedman_mse', init=None,\n",
    "                           learning_rate=0.1, loss='deviance', max_depth=3,\n",
    "                           max_features=None, max_leaf_nodes=None,\n",
    "                           min_impurity_decrease=0.0, min_impurity_split=None,\n",
    "                           min_samples_leaf=1, min_samples_split=2,\n",
    "                           min_weight_fraction_leaf=0.0, n_estimators=100,\n",
    "                           n_iter_no_change=None, presort='auto',\n",
    "                           random_state=42, subsample=1.0, tol=0.0001,\n",
    "                           validation_fraction=0.1, verbose=0,\n",
    "                           warm_start=False)"
   ]
  },
  {
   "cell_type": "code",
   "execution_count": 89,
   "metadata": {
    "ExecuteTime": {
     "end_time": "2022-03-29T14:45:56.104057Z",
     "start_time": "2022-03-29T14:45:55.632922Z"
    }
   },
   "outputs": [],
   "source": [
    "# GradientBoosting model predictions\n",
    "gbt_clf_train_preds = gbt_clf2.predict(X_train_resampled)\n",
    "gbt_clf_test_preds = gbt_clf2.predict(X_test)"
   ]
  },
  {
   "cell_type": "code",
   "execution_count": 90,
   "metadata": {
    "ExecuteTime": {
     "end_time": "2022-03-29T14:45:56.364765Z",
     "start_time": "2022-03-29T14:45:56.108621Z"
    }
   },
   "outputs": [
    {
     "name": "stdout",
     "output_type": "stream",
     "text": [
      "Training Set\n",
      "[[17059  6904]\n",
      " [ 6552 17411]]\n",
      "              precision    recall  f1-score   support\n",
      "\n",
      "           0       0.72      0.71      0.72     23963\n",
      "           1       0.72      0.73      0.72     23963\n",
      "\n",
      "    accuracy                           0.72     47926\n",
      "   macro avg       0.72      0.72      0.72     47926\n",
      "weighted avg       0.72      0.72      0.72     47926\n",
      "\n",
      "Test Set\n",
      "[[11349  4688]\n",
      " [ 3807  6086]]\n",
      "              precision    recall  f1-score   support\n",
      "\n",
      "           0       0.75      0.71      0.73     16037\n",
      "           1       0.56      0.62      0.59      9893\n",
      "\n",
      "    accuracy                           0.67     25930\n",
      "   macro avg       0.66      0.66      0.66     25930\n",
      "weighted avg       0.68      0.67      0.67     25930\n",
      "\n"
     ]
    }
   ],
   "source": [
    "# Confusion matrix and classification report for training set\n",
    "print(\"Training Set\")\n",
    "print(confusion_matrix(y_train_resampled, gbt_clf_train_preds))\n",
    "print(classification_report(y_train_resampled, gbt_clf_train_preds))\n",
    "\n",
    "print(\"Test Set\")\n",
    "# Confusion matrix and classification report for test set\n",
    "print(confusion_matrix(y_test, gbt_clf_test_preds))\n",
    "print(classification_report(y_test, gbt_clf_test_preds))"
   ]
  },
  {
   "cell_type": "markdown",
   "metadata": {},
   "source": [
    "### Summary - Gradient Boost Model 2\n",
    "* This model is over-trained - leading to an approval of 84% of applications.\n",
    "    * It will recommend the removal of ~22% of the applications as refusals."
   ]
  },
  {
   "cell_type": "markdown",
   "metadata": {},
   "source": [
    "## Gradient Boost Model 3"
   ]
  },
  {
   "cell_type": "code",
   "execution_count": 172,
   "metadata": {
    "ExecuteTime": {
     "end_time": "2022-03-29T16:06:12.624921Z",
     "start_time": "2022-03-29T16:06:12.620044Z"
    }
   },
   "outputs": [],
   "source": [
    "# Instantiate an GradientBoostingClassifier\n",
    "gbt_clf3 = GradientBoostingClassifier(max_features=20,learning_rate=.1,n_estimators=500,random_state=42)"
   ]
  },
  {
   "cell_type": "code",
   "execution_count": 173,
   "metadata": {
    "ExecuteTime": {
     "end_time": "2022-03-29T16:07:12.931600Z",
     "start_time": "2022-03-29T16:06:13.063268Z"
    }
   },
   "outputs": [
    {
     "data": {
      "text/plain": [
       "GradientBoostingClassifier(max_features=20, n_estimators=500, random_state=42)"
      ]
     },
     "execution_count": 173,
     "metadata": {},
     "output_type": "execute_result"
    }
   ],
   "source": [
    "# Fit GradientBoostingClassifier\n",
    "gbt_clf3.fit(X_train_resampled, y_train_resampled)"
   ]
  },
  {
   "cell_type": "code",
   "execution_count": 174,
   "metadata": {
    "ExecuteTime": {
     "end_time": "2022-03-29T16:07:12.945756Z",
     "start_time": "2022-03-29T16:07:12.934518Z"
    }
   },
   "outputs": [
    {
     "data": {
      "text/plain": [
       "GradientBoostingClassifier(presort='auto', random_state=42)"
      ]
     },
     "execution_count": 174,
     "metadata": {},
     "output_type": "execute_result"
    }
   ],
   "source": [
    "GradientBoostingClassifier(criterion='friedman_mse', init=None,\n",
    "                           learning_rate=0.1, loss='deviance', max_depth=3,\n",
    "                           max_features=None, max_leaf_nodes=None,\n",
    "                           min_impurity_decrease=0.0, min_impurity_split=None,\n",
    "                           min_samples_leaf=1, min_samples_split=2,\n",
    "                           min_weight_fraction_leaf=0.0, n_estimators=100,\n",
    "                           n_iter_no_change=None, presort='auto',\n",
    "                           random_state=42, subsample=1.0, tol=0.0001,\n",
    "                           validation_fraction=0.1, verbose=0,\n",
    "                           warm_start=False)"
   ]
  },
  {
   "cell_type": "code",
   "execution_count": 175,
   "metadata": {
    "ExecuteTime": {
     "end_time": "2022-03-29T16:07:14.381349Z",
     "start_time": "2022-03-29T16:07:12.952347Z"
    }
   },
   "outputs": [],
   "source": [
    "# GradientBoosting model predictions\n",
    "gbt_clf_train_preds = gbt_clf3.predict(X_train_resampled)\n",
    "gbt_clf_test_preds = gbt_clf3.predict(X_test)"
   ]
  },
  {
   "cell_type": "code",
   "execution_count": 176,
   "metadata": {
    "ExecuteTime": {
     "end_time": "2022-03-29T16:07:14.863205Z",
     "start_time": "2022-03-29T16:07:14.423855Z"
    }
   },
   "outputs": [
    {
     "name": "stdout",
     "output_type": "stream",
     "text": [
      "Training Set\n",
      "[[19781  4182]\n",
      " [ 6420 17543]]\n",
      "              precision    recall  f1-score   support\n",
      "\n",
      "           0       0.75      0.83      0.79     23963\n",
      "           1       0.81      0.73      0.77     23963\n",
      "\n",
      "    accuracy                           0.78     47926\n",
      "   macro avg       0.78      0.78      0.78     47926\n",
      "weighted avg       0.78      0.78      0.78     47926\n",
      "\n",
      "Test Set\n",
      "[[12914  3123]\n",
      " [ 4546  5347]]\n",
      "              precision    recall  f1-score   support\n",
      "\n",
      "           0       0.74      0.81      0.77     16037\n",
      "           1       0.63      0.54      0.58      9893\n",
      "\n",
      "    accuracy                           0.70     25930\n",
      "   macro avg       0.69      0.67      0.68     25930\n",
      "weighted avg       0.70      0.70      0.70     25930\n",
      "\n"
     ]
    }
   ],
   "source": [
    "# Confusion matrix and classification report for training set\n",
    "print(\"Training Set\")\n",
    "print(confusion_matrix(y_train_resampled, gbt_clf_train_preds))\n",
    "print(classification_report(y_train_resampled, gbt_clf_train_preds))\n",
    "\n",
    "print(\"Test Set\")\n",
    "# Confusion matrix and classification report for test set\n",
    "print(confusion_matrix(y_test, gbt_clf_test_preds))\n",
    "print(classification_report(y_test, gbt_clf_test_preds))"
   ]
  },
  {
   "cell_type": "markdown",
   "metadata": {},
   "source": [
    "### Summary - Gradient Boost Model 3\n",
    "* This model is also over-trained - leading to an approval of 83% of applications when only 38% were actually approved.\n",
    "    * However, it is 93% accurate at indicating when an application was approved.  Meaning we can predict with a 93% likelihood whether an application will be approved."
   ]
  },
  {
   "cell_type": "markdown",
   "metadata": {},
   "source": [
    "# Gaussian Naive Bayes - Model 1"
   ]
  },
  {
   "cell_type": "code",
   "execution_count": 96,
   "metadata": {
    "ExecuteTime": {
     "end_time": "2022-03-29T14:46:25.151825Z",
     "start_time": "2022-03-29T14:46:25.147382Z"
    }
   },
   "outputs": [],
   "source": [
    "from sklearn.naive_bayes import GaussianNB\n",
    "clf1 = GaussianNB()"
   ]
  },
  {
   "cell_type": "code",
   "execution_count": 97,
   "metadata": {
    "ExecuteTime": {
     "end_time": "2022-03-29T14:46:25.344672Z",
     "start_time": "2022-03-29T14:46:25.155539Z"
    }
   },
   "outputs": [
    {
     "data": {
      "text/plain": [
       "GaussianNB()"
      ]
     },
     "execution_count": 97,
     "metadata": {},
     "output_type": "execute_result"
    }
   ],
   "source": [
    "clf1.fit(X_train_resampled, y_train_resampled)"
   ]
  },
  {
   "cell_type": "code",
   "execution_count": 98,
   "metadata": {
    "ExecuteTime": {
     "end_time": "2022-03-29T14:46:25.534457Z",
     "start_time": "2022-03-29T14:46:25.347655Z"
    }
   },
   "outputs": [],
   "source": [
    "# GradientBoosting model predictions\n",
    "clf1_train_preds = clf1.predict(X_train_resampled)\n",
    "clf1_test_preds = clf1.predict(X_test_std)"
   ]
  },
  {
   "cell_type": "code",
   "execution_count": 99,
   "metadata": {
    "ExecuteTime": {
     "end_time": "2022-03-29T14:46:25.773414Z",
     "start_time": "2022-03-29T14:46:25.536937Z"
    }
   },
   "outputs": [
    {
     "name": "stdout",
     "output_type": "stream",
     "text": [
      "Training Set\n",
      "[[ 9447 14516]\n",
      " [ 5913 18050]]\n",
      "              precision    recall  f1-score   support\n",
      "\n",
      "           0       0.62      0.39      0.48     23963\n",
      "           1       0.55      0.75      0.64     23963\n",
      "\n",
      "    accuracy                           0.57     47926\n",
      "   macro avg       0.58      0.57      0.56     47926\n",
      "weighted avg       0.58      0.57      0.56     47926\n",
      "\n",
      "Test Set\n",
      "[[16037     0]\n",
      " [ 9893     0]]\n",
      "              precision    recall  f1-score   support\n",
      "\n",
      "           0       0.62      1.00      0.76     16037\n",
      "           1       0.00      0.00      0.00      9893\n",
      "\n",
      "    accuracy                           0.62     25930\n",
      "   macro avg       0.31      0.50      0.38     25930\n",
      "weighted avg       0.38      0.62      0.47     25930\n",
      "\n"
     ]
    }
   ],
   "source": [
    "# Confusion matrix and classification report for training set\n",
    "print(\"Training Set\")\n",
    "print(confusion_matrix(y_train_resampled, clf1_train_preds))\n",
    "print(classification_report(y_train_resampled, clf1_train_preds))\n",
    "\n",
    "print(\"Test Set\")\n",
    "# Confusion matrix and classification report for test set\n",
    "print(confusion_matrix(y_test, clf1_test_preds))\n",
    "print(classification_report(y_test, clf1_test_preds))"
   ]
  },
  {
   "cell_type": "markdown",
   "metadata": {},
   "source": [
    "### Summary - Gradient Boost Model 3\n",
    "* This model is also over-trained - leading to an approval of 83% of applications when only 38% were actually approved.\n",
    "    * However, it is 93% accurate at indicating when an application was approved.  Meaning we can predict with a 93% likelihood whether an application will be approved."
   ]
  },
  {
   "cell_type": "markdown",
   "metadata": {},
   "source": [
    "# Voting Classifier Model 1\n",
    "* Improve model by combining models that accurately predict each class."
   ]
  },
  {
   "cell_type": "code",
   "execution_count": 181,
   "metadata": {
    "ExecuteTime": {
     "end_time": "2022-03-29T16:11:56.928751Z",
     "start_time": "2022-03-29T16:10:38.974615Z"
    }
   },
   "outputs": [],
   "source": [
    "clf1 = forest5\n",
    "clf2 = gbt_clf3\n",
    "clf3 = forest6\n",
    "X = X_train_resampled\n",
    "y = y_train_resampled\n",
    "eclf1 = VotingClassifier(estimators=[\n",
    "    ('lr', clf1), ('rf', clf2), ('gnb', clf3)], voting='hard', weights=[5,1,1])\n",
    "eclf1 = eclf1.fit(X, y)"
   ]
  },
  {
   "cell_type": "code",
   "execution_count": 182,
   "metadata": {
    "ExecuteTime": {
     "end_time": "2022-03-29T16:12:01.767937Z",
     "start_time": "2022-03-29T16:11:56.932260Z"
    }
   },
   "outputs": [],
   "source": [
    "# GradientBoosting model predictions\n",
    "eclf1_train_preds = eclf1.predict(X_train_resampled)\n",
    "eclf1_test_preds = eclf1.predict(X_test_std)"
   ]
  },
  {
   "cell_type": "code",
   "execution_count": 183,
   "metadata": {
    "ExecuteTime": {
     "end_time": "2022-03-29T16:12:02.207163Z",
     "start_time": "2022-03-29T16:12:01.772177Z"
    }
   },
   "outputs": [
    {
     "name": "stdout",
     "output_type": "stream",
     "text": [
      "Training Set\n",
      "[[17296  6667]\n",
      " [ 7702 16261]]\n",
      "              precision    recall  f1-score   support\n",
      "\n",
      "           0       0.69      0.72      0.71     23963\n",
      "           1       0.71      0.68      0.69     23963\n",
      "\n",
      "    accuracy                           0.70     47926\n",
      "   macro avg       0.70      0.70      0.70     47926\n",
      "weighted avg       0.70      0.70      0.70     47926\n",
      "\n",
      "Test Set\n",
      "[[6469 9568]\n",
      " [1717 8176]]\n",
      "              precision    recall  f1-score   support\n",
      "\n",
      "           0       0.79      0.40      0.53     16037\n",
      "           1       0.46      0.83      0.59      9893\n",
      "\n",
      "    accuracy                           0.56     25930\n",
      "   macro avg       0.63      0.61      0.56     25930\n",
      "weighted avg       0.66      0.56      0.56     25930\n",
      "\n"
     ]
    }
   ],
   "source": [
    "# Confusion matrix and classification report for training set\n",
    "print(\"Training Set\")\n",
    "print(confusion_matrix(y_train_resampled, eclf1_train_preds))\n",
    "print(classification_report(y_train_resampled, eclf1_train_preds))\n",
    "\n",
    "print(\"Test Set\")\n",
    "# Confusion matrix and classification report for test set\n",
    "print(confusion_matrix(y_test, eclf1_test_preds))\n",
    "print(classification_report(y_test, eclf1_test_preds))"
   ]
  },
  {
   "cell_type": "code",
   "execution_count": 185,
   "metadata": {
    "ExecuteTime": {
     "end_time": "2022-03-29T17:32:28.265758Z",
     "start_time": "2022-03-29T17:32:27.013297Z"
    }
   },
   "outputs": [
    {
     "data": {
      "image/png": "[encoded data removed]",
      "text/plain": [
       "<Figure size 432x288 with 2 Axes>"
      ]
     },
     "metadata": {
      "needs_background": "light"
     },
     "output_type": "display_data"
    }
   ],
   "source": [
    "cm = confusion_matrix(y_test, eclf1_test_preds, labels=eclf1.classes_)\n",
    "disp = ConfusionMatrixDisplay(confusion_matrix=cm,\n",
    "                               display_labels=eclf1.classes_)\n",
    "disp.plot()\n",
    "plt.grid(False)\n",
    "plt.show()"
   ]
  },
  {
   "cell_type": "markdown",
   "metadata": {},
   "source": [
    "### Summary - Voting Classifier Model 1\n",
    "* This is the best model so far that has an approval recall score or True Positive Rate near 0.85 because it also has a True Negative Rate of 0.40 or 40%. "
   ]
  },
  {
   "cell_type": "markdown",
   "metadata": {},
   "source": [
    "# Results\n",
    "* Certain models optimized for best Accuracy (want True Positive Rate > 85%):\n",
    "    * Weak-Learners, such as Gradient Boost\n",
    "        * Tuned to high recall score for Approval, low recall score for Refusal. Or, vice-versa.  Difficult to balance recall scores for approval and refusal.\n",
    "    * Decision Trees, such as Random Forest\n",
    "        * Best for optimizing for True Positive or True Negative Rates (recall scores)\n",
    "            * Attained 98% True Positive or True Negative rate, but not both in the same model.\n",
    "    * Ensemble Methods, such as Voting Classifier\n",
    "        * Find compromise between models, leading to best performance within desired outcome.\n",
    "* Increasing the number of features greatly improved the accuracy of the model.\n",
    "    * Trimming these features by feature importance allowed for an even more accurate model, in terms of recall score for loan approval.\n",
    "* Using standard scaler before fit optimized for increased True Positive Rate, but decreased True Negative Rate.\n",
    "* Manipulating random_forest hyper-parameters allowed for over-training of the train set, which led to improved accuracy in predicting loan approval (Recall for value of 1).\n",
    "    * Resulting in an accuracy of 98% in predicting if someone will be approved for a loan.\n",
    "* Will be able to propose business case for advancing loan applications to the next stage for the banking industry."
   ]
  },
  {
   "cell_type": "markdown",
   "metadata": {},
   "source": [
    "# Reduce Features, Check for Accuracy\n",
    "* Optimize for accuracy of Loan Approval \n",
    "* This code is too computationally expensive to run on this data set for my computer(>20 min), but I am curious whether a model with fewer features would produce similar results."
   ]
  },
  {
   "cell_type": "code",
   "execution_count": 103,
   "metadata": {
    "ExecuteTime": {
     "end_time": "2022-03-29T14:47:19.804358Z",
     "start_time": "2022-03-29T14:47:19.800407Z"
    }
   },
   "outputs": [],
   "source": [
    "# Init the transformer\n",
    "# rfe = RFE(estimator=RandomForestRegressor(), n_features_to_select=10)\n",
    "\n",
    "# Fit to the training data\n",
    "# _ = rfe.fit(X_train_std, y_train_resampled)"
   ]
  },
  {
   "cell_type": "code",
   "execution_count": 104,
   "metadata": {
    "ExecuteTime": {
     "end_time": "2022-03-29T14:47:19.823518Z",
     "start_time": "2022-03-29T14:47:19.809977Z"
    }
   },
   "outputs": [],
   "source": [
    "# make predictions for test set based on model\n",
    "# pred = rfe.predict(X_test_std)"
   ]
  },
  {
   "cell_type": "code",
   "execution_count": 105,
   "metadata": {
    "ExecuteTime": {
     "end_time": "2022-03-29T14:47:19.840139Z",
     "start_time": "2022-03-29T14:47:19.833880Z"
    }
   },
   "outputs": [],
   "source": [
    "# Confusion matrix and classification report\n",
    "# print(confusion_matrix(y_test, pred))\n",
    "# print(classification_report(y_test, pred))"
   ]
  },
  {
   "cell_type": "markdown",
   "metadata": {},
   "source": [
    "# Further Study\n",
    "* Need to better understand the existing features and gather more relevant features.\n",
    "    * What do EXT_SOURCE_1, 2, and 3 values signify?\n",
    "    * What do the AMT_REQ_CREDIT_BUREAU values signify?\n",
    "    * Can we gather credit scores, amount of loan request, amount of cash/market-value of assets?\n",
    "* Need to test this model on a sample of actual market data to examine how it performs and perform tuning or further iterations of the model.\n",
    "* Determine which features or data are more accessible.\n",
    "    * Can we collect these features from customers, or do we need to pay credit rating agencies for the customers' credit scores?\n",
    "        * Determine how much it would cost to gather data (i.e. credit scores).\n",
    "        * Determine which data is most valid to collect in an online questionnaire. "
   ]
  },
  {
   "cell_type": "code",
   "execution_count": null,
   "metadata": {},
   "outputs": [],
   "source": []
  }
 ],
 "metadata": {
  "kernelspec": {
   "display_name": "Python (learn-env)",
   "language": "python",
   "name": "learn-env"
  },
  "language_info": {
   "codemirror_mode": {
    "name": "ipython",
    "version": 3
   },
   "file_extension": ".py",
   "mimetype": "text/x-python",
   "name": "python",
   "nbconvert_exporter": "python",
   "pygments_lexer": "ipython3",
   "version": "3.8.5"
  },
  "toc": {
   "base_numbering": 1,
   "nav_menu": {},
   "number_sections": true,
   "sideBar": true,
   "skip_h1_title": false,
   "title_cell": "Table of Contents",
   "title_sidebar": "Contents",
   "toc_cell": true,
   "toc_position": {
    "height": "calc(100% - 180px)",
    "left": "10px",
    "top": "150px",
    "width": "261.804px"
   },
   "toc_section_display": true,
   "toc_window_display": true
  }
 },
 "nbformat": 4,
 "nbformat_minor": 4
}
