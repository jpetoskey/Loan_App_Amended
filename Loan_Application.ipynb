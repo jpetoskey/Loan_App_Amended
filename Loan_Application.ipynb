{
 "cells": [
  {
   "cell_type": "markdown",
   "metadata": {
    "toc": true
   },
   "source": [
    "<h1>Table of Contents<span class=\"tocSkip\"></span></h1>\n",
    "<div class=\"toc\"><ul class=\"toc-item\"><li><span><a href=\"#Summary\" data-toc-modified-id=\"Summary-1\"><span class=\"toc-item-num\">1&nbsp;&nbsp;</span>Summary</a></span></li><li><span><a href=\"#Preprocess-Data\" data-toc-modified-id=\"Preprocess-Data-2\"><span class=\"toc-item-num\">2&nbsp;&nbsp;</span>Preprocess Data</a></span><ul class=\"toc-item\"><li><span><a href=\"#Select-18-Features\" data-toc-modified-id=\"Select-18-Features-2.1\"><span class=\"toc-item-num\">2.1&nbsp;&nbsp;</span>Select 18 Features</a></span><ul class=\"toc-item\"><li><span><a href=\"#Create-dataframe-with-selected-features\" data-toc-modified-id=\"Create-dataframe-with-selected-features-2.1.1\"><span class=\"toc-item-num\">2.1.1&nbsp;&nbsp;</span>Create dataframe with selected features</a></span></li><li><span><a href=\"#Notable-Values,-dtypes,-Potential-Issues\" data-toc-modified-id=\"Notable-Values,-dtypes,-Potential-Issues-2.1.2\"><span class=\"toc-item-num\">2.1.2&nbsp;&nbsp;</span>Notable Values, dtypes, Potential Issues</a></span></li></ul></li><li><span><a href=\"#Randomly-Select-40,000-'0'-values-from-'TARGET'\" data-toc-modified-id=\"Randomly-Select-40,000-'0'-values-from-'TARGET'-2.2\"><span class=\"toc-item-num\">2.2&nbsp;&nbsp;</span>Randomly Select 40,000 '0' values from 'TARGET'</a></span></li><li><span><a href=\"#Clean-up-null-and-missing-values\" data-toc-modified-id=\"Clean-up-null-and-missing-values-2.3\"><span class=\"toc-item-num\">2.3&nbsp;&nbsp;</span>Clean up null and missing values</a></span><ul class=\"toc-item\"><li><span><a href=\"#Decisions-for-null-values\" data-toc-modified-id=\"Decisions-for-null-values-2.3.1\"><span class=\"toc-item-num\">2.3.1&nbsp;&nbsp;</span>Decisions for null values</a></span></li><li><span><a href=\"#Replace-missing-values-for-AMT_GOODS_PRICE-&amp;-AMT_ANNUITY-with-mean\" data-toc-modified-id=\"Replace-missing-values-for-AMT_GOODS_PRICE-&amp;-AMT_ANNUITY-with-mean-2.3.2\"><span class=\"toc-item-num\">2.3.2&nbsp;&nbsp;</span>Replace missing values for AMT_GOODS_PRICE &amp; AMT_ANNUITY with mean</a></span></li></ul></li><li><span><a href=\"#Separate-Numericals-&amp;-Categoricals\" data-toc-modified-id=\"Separate-Numericals-&amp;-Categoricals-2.4\"><span class=\"toc-item-num\">2.4&nbsp;&nbsp;</span>Separate Numericals &amp; Categoricals</a></span><ul class=\"toc-item\"><li><span><a href=\"#Numericals-interpretation-and-preprocessing&quot;\" data-toc-modified-id=\"Numericals-interpretation-and-preprocessing&quot;-2.4.1\"><span class=\"toc-item-num\">2.4.1&nbsp;&nbsp;</span>Numericals interpretation and preprocessing\"</a></span><ul class=\"toc-item\"><li><span><a href=\"#Summary-of-numericals\" data-toc-modified-id=\"Summary-of-numericals-2.4.1.1\"><span class=\"toc-item-num\">2.4.1.1&nbsp;&nbsp;</span>Summary of numericals</a></span></li></ul></li><li><span><a href=\"#Categoricals\" data-toc-modified-id=\"Categoricals-2.4.2\"><span class=\"toc-item-num\">2.4.2&nbsp;&nbsp;</span>Categoricals</a></span><ul class=\"toc-item\"><li><span><a href=\"#Organization-Type-not-useful-for-ohe\" data-toc-modified-id=\"Organization-Type-not-useful-for-ohe-2.4.2.1\"><span class=\"toc-item-num\">2.4.2.1&nbsp;&nbsp;</span>Organization Type not useful for ohe</a></span></li><li><span><a href=\"#One-Hot-Encode-Categoricals\" data-toc-modified-id=\"One-Hot-Encode-Categoricals-2.4.2.2\"><span class=\"toc-item-num\">2.4.2.2&nbsp;&nbsp;</span>One Hot Encode Categoricals</a></span></li></ul></li></ul></li><li><span><a href=\"#Remove-Outliers\" data-toc-modified-id=\"Remove-Outliers-2.5\"><span class=\"toc-item-num\">2.5&nbsp;&nbsp;</span>Remove Outliers</a></span><ul class=\"toc-item\"><li><span><a href=\"#Removing-outliers-Summary\" data-toc-modified-id=\"Removing-outliers-Summary-2.5.1\"><span class=\"toc-item-num\">2.5.1&nbsp;&nbsp;</span>Removing outliers Summary</a></span></li></ul></li></ul></li><li><span><a href=\"#Baseline-Model---Logistic-Regression\" data-toc-modified-id=\"Baseline-Model---Logistic-Regression-3\"><span class=\"toc-item-num\">3&nbsp;&nbsp;</span>Baseline Model - Logistic Regression</a></span><ul class=\"toc-item\"><li><span><a href=\"#Rate-of-loan-approval-for-train-and-test-sets.\" data-toc-modified-id=\"Rate-of-loan-approval-for-train-and-test-sets.-3.1\"><span class=\"toc-item-num\">3.1&nbsp;&nbsp;</span>Rate of loan approval for train and test sets.</a></span></li><li><span><a href=\"#Fit-a-model\" data-toc-modified-id=\"Fit-a-model-3.2\"><span class=\"toc-item-num\">3.2&nbsp;&nbsp;</span>Fit a model</a></span></li><li><span><a href=\"#Rate-of-correct-predictions-on-the-training-set.\" data-toc-modified-id=\"Rate-of-correct-predictions-on-the-training-set.-3.3\"><span class=\"toc-item-num\">3.3&nbsp;&nbsp;</span>Rate of correct predictions on the training set.</a></span></li><li><span><a href=\"#Rate-of-correct-predictions-on-the-test-set.\" data-toc-modified-id=\"Rate-of-correct-predictions-on-the-test-set.-3.4\"><span class=\"toc-item-num\">3.4&nbsp;&nbsp;</span>Rate of correct predictions on the test set.</a></span></li><li><span><a href=\"#Analysis-of-Baseline:\" data-toc-modified-id=\"Analysis-of-Baseline:-3.5\"><span class=\"toc-item-num\">3.5&nbsp;&nbsp;</span>Analysis of Baseline:</a></span></li></ul></li><li><span><a href=\"#Second-Model---improved-Logistic-Regression\" data-toc-modified-id=\"Second-Model---improved-Logistic-Regression-4\"><span class=\"toc-item-num\">4&nbsp;&nbsp;</span>Second Model - improved Logistic Regression</a></span><ul class=\"toc-item\"><li><span><a href=\"#Add-an-intercept\" data-toc-modified-id=\"Add-an-intercept-4.1\"><span class=\"toc-item-num\">4.1&nbsp;&nbsp;</span>Add an intercept</a></span></li><li><span><a href=\"#Add-the-regularization-parameter\" data-toc-modified-id=\"Add-the-regularization-parameter-4.2\"><span class=\"toc-item-num\">4.2&nbsp;&nbsp;</span>Add the regularization parameter</a></span></li><li><span><a href=\"#Analysis-of-Second-Model:\" data-toc-modified-id=\"Analysis-of-Second-Model:-4.3\"><span class=\"toc-item-num\">4.3&nbsp;&nbsp;</span>Analysis of Second Model:</a></span></li></ul></li><li><span><a href=\"#Third-Model---final-Logistic-Regression\" data-toc-modified-id=\"Third-Model---final-Logistic-Regression-5\"><span class=\"toc-item-num\">5&nbsp;&nbsp;</span>Third Model - final Logistic Regression</a></span><ul class=\"toc-item\"><li><span><a href=\"#Log-loss-reference\" data-toc-modified-id=\"Log-loss-reference-5.1\"><span class=\"toc-item-num\">5.1&nbsp;&nbsp;</span>Log loss reference</a></span><ul class=\"toc-item\"><li><span><a href=\"#Summary-of-log-loss-reference\" data-toc-modified-id=\"Summary-of-log-loss-reference-5.1.1\"><span class=\"toc-item-num\">5.1.1&nbsp;&nbsp;</span>Summary of log loss reference</a></span></li></ul></li><li><span><a href=\"#StratifiedKFold-implementation\" data-toc-modified-id=\"StratifiedKFold-implementation-5.2\"><span class=\"toc-item-num\">5.2&nbsp;&nbsp;</span>StratifiedKFold implementation</a></span><ul class=\"toc-item\"><li><span><a href=\"#StratifiedKFold-allows-implementation-of-StandardScaler\" data-toc-modified-id=\"StratifiedKFold-allows-implementation-of-StandardScaler-5.2.1\"><span class=\"toc-item-num\">5.2.1&nbsp;&nbsp;</span>StratifiedKFold allows implementation of StandardScaler</a></span></li><li><span><a href=\"#Score-for-log-loss-increases\" data-toc-modified-id=\"Score-for-log-loss-increases-5.2.2\"><span class=\"toc-item-num\">5.2.2&nbsp;&nbsp;</span>Score for log loss increases</a></span></li><li><span><a href=\"#Overfitting?\" data-toc-modified-id=\"Overfitting?-5.2.3\"><span class=\"toc-item-num\">5.2.3&nbsp;&nbsp;</span>Overfitting?</a></span></li><li><span><a href=\"#Parameters\" data-toc-modified-id=\"Parameters-5.2.4\"><span class=\"toc-item-num\">5.2.4&nbsp;&nbsp;</span>Parameters</a></span><ul class=\"toc-item\"><li><span><a href=\"#Reduce-Regularization\" data-toc-modified-id=\"Reduce-Regularization-5.2.4.1\"><span class=\"toc-item-num\">5.2.4.1&nbsp;&nbsp;</span>Reduce Regularization</a></span></li><li><span><a href=\"#Summary-of-increasing-Regularization\" data-toc-modified-id=\"Summary-of-increasing-Regularization-5.2.4.2\"><span class=\"toc-item-num\">5.2.4.2&nbsp;&nbsp;</span>Summary of increasing Regularization</a></span></li></ul></li><li><span><a href=\"#Alternate-Solver-or-Penalty?\" data-toc-modified-id=\"Alternate-Solver-or-Penalty?-5.2.5\"><span class=\"toc-item-num\">5.2.5&nbsp;&nbsp;</span>Alternate Solver or Penalty?</a></span><ul class=\"toc-item\"><li><span><a href=\"#Saga-and-elasticnet-to-balance-L1-&amp;-L2-regularization\" data-toc-modified-id=\"Saga-and-elasticnet-to-balance-L1-&amp;-L2-regularization-5.2.5.1\"><span class=\"toc-item-num\">5.2.5.1&nbsp;&nbsp;</span>Saga and elasticnet to balance L1 &amp; L2 regularization</a></span></li><li><span><a href=\"#Summary:-Alternate-Solver-and-Penalty\" data-toc-modified-id=\"Summary:-Alternate-Solver-and-Penalty-5.2.5.2\"><span class=\"toc-item-num\">5.2.5.2&nbsp;&nbsp;</span>Summary: Alternate Solver and Penalty</a></span></li></ul></li><li><span><a href=\"#Max-Iterations\" data-toc-modified-id=\"Max-Iterations-5.2.6\"><span class=\"toc-item-num\">5.2.6&nbsp;&nbsp;</span>Max Iterations</a></span></li></ul></li><li><span><a href=\"#Choose-and-evaluate-Third-Model\" data-toc-modified-id=\"Choose-and-evaluate-Third-Model-5.3\"><span class=\"toc-item-num\">5.3&nbsp;&nbsp;</span>Choose and evaluate Third Model</a></span><ul class=\"toc-item\"><li><span><a href=\"#Preprocess-train-and-test-sets\" data-toc-modified-id=\"Preprocess-train-and-test-sets-5.3.1\"><span class=\"toc-item-num\">5.3.1&nbsp;&nbsp;</span>Preprocess train and test sets</a></span></li><li><span><a href=\"#Fit-Third-Model-on-full-training-set\" data-toc-modified-id=\"Fit-Third-Model-on-full-training-set-5.3.2\"><span class=\"toc-item-num\">5.3.2&nbsp;&nbsp;</span>Fit Third Model on full training set</a></span></li></ul></li><li><span><a href=\"#Analysis-of-Third-Model:\" data-toc-modified-id=\"Analysis-of-Third-Model:-5.4\"><span class=\"toc-item-num\">5.4&nbsp;&nbsp;</span>Analysis of Third Model:</a></span></li></ul></li><li><span><a href=\"#Fourth-Model---K-Nearest-Neighbors\" data-toc-modified-id=\"Fourth-Model---K-Nearest-Neighbors-6\"><span class=\"toc-item-num\">6&nbsp;&nbsp;</span>Fourth Model - K-Nearest Neighbors</a></span><ul class=\"toc-item\"><li><span><a href=\"#Train,-Test,-Split-df3\" data-toc-modified-id=\"Train,-Test,-Split-df3-6.1\"><span class=\"toc-item-num\">6.1&nbsp;&nbsp;</span>Train, Test, Split df3</a></span></li><li><span><a href=\"#Normalize-Data\" data-toc-modified-id=\"Normalize-Data-6.2\"><span class=\"toc-item-num\">6.2&nbsp;&nbsp;</span>Normalize Data</a></span></li><li><span><a href=\"#Fit-a-KNN-Model\" data-toc-modified-id=\"Fit-a-KNN-Model-6.3\"><span class=\"toc-item-num\">6.3&nbsp;&nbsp;</span>Fit a KNN Model</a></span><ul class=\"toc-item\"><li><span><a href=\"#Initial-results-for-KNN-model\" data-toc-modified-id=\"Initial-results-for-KNN-model-6.3.1\"><span class=\"toc-item-num\">6.3.1&nbsp;&nbsp;</span>Initial results for KNN model</a></span></li></ul></li><li><span><a href=\"#Improve-Model-Performance\" data-toc-modified-id=\"Improve-Model-Performance-6.4\"><span class=\"toc-item-num\">6.4&nbsp;&nbsp;</span>Improve Model Performance</a></span><ul class=\"toc-item\"><li><span><a href=\"#Update-N_Neighbors-to-Best-Value\" data-toc-modified-id=\"Update-N_Neighbors-to-Best-Value-6.4.1\"><span class=\"toc-item-num\">6.4.1&nbsp;&nbsp;</span>Update N_Neighbors to Best Value</a></span></li></ul></li><li><span><a href=\"#Analysis-of-Fourth-Model:\" data-toc-modified-id=\"Analysis-of-Fourth-Model:-6.5\"><span class=\"toc-item-num\">6.5&nbsp;&nbsp;</span>Analysis of Fourth Model:</a></span></li></ul></li><li><span><a href=\"#Fifth-Model---Decision-Trees\" data-toc-modified-id=\"Fifth-Model---Decision-Trees-7\"><span class=\"toc-item-num\">7&nbsp;&nbsp;</span>Fifth Model - Decision Trees</a></span><ul class=\"toc-item\"><li><span><a href=\"#Train,-Test,-Split-df3\" data-toc-modified-id=\"Train,-Test,-Split-df3-7.1\"><span class=\"toc-item-num\">7.1&nbsp;&nbsp;</span>Train, Test, Split df3</a></span></li><li><span><a href=\"#Normalize-Data\" data-toc-modified-id=\"Normalize-Data-7.2\"><span class=\"toc-item-num\">7.2&nbsp;&nbsp;</span>Normalize Data</a></span></li><li><span><a href=\"#Baseline-Decision-Tree-Model\" data-toc-modified-id=\"Baseline-Decision-Tree-Model-7.3\"><span class=\"toc-item-num\">7.3&nbsp;&nbsp;</span>Baseline Decision Tree Model</a></span></li><li><span><a href=\"#Improve-Decision-Tree-Model\" data-toc-modified-id=\"Improve-Decision-Tree-Model-7.4\"><span class=\"toc-item-num\">7.4&nbsp;&nbsp;</span>Improve Decision Tree Model</a></span></li><li><span><a href=\"#Analysis-of-Fifth-Model:\" data-toc-modified-id=\"Analysis-of-Fifth-Model:-7.5\"><span class=\"toc-item-num\">7.5&nbsp;&nbsp;</span>Analysis of Fifth Model:</a></span></li></ul></li><li><span><a href=\"#Sixth-Model---Altered-Decision-Tree\" data-toc-modified-id=\"Sixth-Model---Altered-Decision-Tree-8\"><span class=\"toc-item-num\">8&nbsp;&nbsp;</span>Sixth Model - Altered Decision Tree</a></span><ul class=\"toc-item\"><li><span><a href=\"#Train,-Test,-Split-df3\" data-toc-modified-id=\"Train,-Test,-Split-df3-8.1\"><span class=\"toc-item-num\">8.1&nbsp;&nbsp;</span>Train, Test, Split df3</a></span></li><li><span><a href=\"#Analysis-of-Sixth-Model:\" data-toc-modified-id=\"Analysis-of-Sixth-Model:-8.2\"><span class=\"toc-item-num\">8.2&nbsp;&nbsp;</span>Analysis of Sixth Model:</a></span></li></ul></li><li><span><a href=\"#Seventh-Model---Bagged-Trees\" data-toc-modified-id=\"Seventh-Model---Bagged-Trees-9\"><span class=\"toc-item-num\">9&nbsp;&nbsp;</span>Seventh Model - Bagged Trees</a></span><ul class=\"toc-item\"><li><span><a href=\"#Analysis-of-Seventh-Model:\" data-toc-modified-id=\"Analysis-of-Seventh-Model:-9.1\"><span class=\"toc-item-num\">9.1&nbsp;&nbsp;</span>Analysis of Seventh Model:</a></span></li></ul></li><li><span><a href=\"#8th-Model---Random-Forest\" data-toc-modified-id=\"8th-Model---Random-Forest-10\"><span class=\"toc-item-num\">10&nbsp;&nbsp;</span>8th Model - Random Forest</a></span><ul class=\"toc-item\"><li><span><a href=\"#Analysis-of-Eighth-Model:\" data-toc-modified-id=\"Analysis-of-Eighth-Model:-10.1\"><span class=\"toc-item-num\">10.1&nbsp;&nbsp;</span>Analysis of Eighth Model:</a></span></li></ul></li><li><span><a href=\"#Ninth-Model---XG-Boost\" data-toc-modified-id=\"Ninth-Model---XG-Boost-11\"><span class=\"toc-item-num\">11&nbsp;&nbsp;</span>Ninth Model - XG Boost</a></span><ul class=\"toc-item\"><li><span><a href=\"#Train,-Test,-Split-df3\" data-toc-modified-id=\"Train,-Test,-Split-df3-11.1\"><span class=\"toc-item-num\">11.1&nbsp;&nbsp;</span>Train, Test, Split df3</a></span></li><li><span><a href=\"#Analysis-of-Initial-XG-Boost-Model:\" data-toc-modified-id=\"Analysis-of-Initial-XG-Boost-Model:-11.2\"><span class=\"toc-item-num\">11.2&nbsp;&nbsp;</span>Analysis of Initial XG Boost Model:</a></span></li><li><span><a href=\"#Improve-XG-Boost\" data-toc-modified-id=\"Improve-XG-Boost-11.3\"><span class=\"toc-item-num\">11.3&nbsp;&nbsp;</span>Improve XG Boost</a></span></li><li><span><a href=\"#Analysis-of-Altered-XG-Boost-Model:\" data-toc-modified-id=\"Analysis-of-Altered-XG-Boost-Model:-11.4\"><span class=\"toc-item-num\">11.4&nbsp;&nbsp;</span>Analysis of Altered XG Boost Model:</a></span></li></ul></li><li><span><a href=\"#Tenth-Model---Support-Vector-Machines\" data-toc-modified-id=\"Tenth-Model---Support-Vector-Machines-12\"><span class=\"toc-item-num\">12&nbsp;&nbsp;</span>Tenth Model - Support Vector Machines</a></span><ul class=\"toc-item\"><li><span><a href=\"#Analysis-of-Altered-XG-Boost-Model:\" data-toc-modified-id=\"Analysis-of-Altered-XG-Boost-Model:-12.1\"><span class=\"toc-item-num\">12.1&nbsp;&nbsp;</span>Analysis of Altered XG Boost Model:</a></span></li></ul></li><li><span><a href=\"#Eleventh-Model---Gradient-Boost\" data-toc-modified-id=\"Eleventh-Model---Gradient-Boost-13\"><span class=\"toc-item-num\">13&nbsp;&nbsp;</span>Eleventh Model - Gradient Boost</a></span><ul class=\"toc-item\"><li><span><a href=\"#Tune-Learning-Rate\" data-toc-modified-id=\"Tune-Learning-Rate-13.1\"><span class=\"toc-item-num\">13.1&nbsp;&nbsp;</span>Tune Learning Rate</a></span></li><li><span><a href=\"#Analysis-of-Gradient-Boost-Model:\" data-toc-modified-id=\"Analysis-of-Gradient-Boost-Model:-13.2\"><span class=\"toc-item-num\">13.2&nbsp;&nbsp;</span>Analysis of Gradient Boost Model:</a></span></li><li><span><a href=\"#Preprocess-Data\" data-toc-modified-id=\"Preprocess-Data-13.3\"><span class=\"toc-item-num\">13.3&nbsp;&nbsp;</span>Preprocess Data</a></span><ul class=\"toc-item\"><li><span><a href=\"#Select-Features\" data-toc-modified-id=\"Select-Features-13.3.1\"><span class=\"toc-item-num\">13.3.1&nbsp;&nbsp;</span>Select Features</a></span></li></ul></li><li><span><a href=\"#Feature-Selection\" data-toc-modified-id=\"Feature-Selection-13.4\"><span class=\"toc-item-num\">13.4&nbsp;&nbsp;</span>Feature Selection</a></span><ul class=\"toc-item\"><li><span><a href=\"#Create-dataframe-with-selected-features\" data-toc-modified-id=\"Create-dataframe-with-selected-features-13.4.1\"><span class=\"toc-item-num\">13.4.1&nbsp;&nbsp;</span>Create dataframe with selected features</a></span></li><li><span><a href=\"#Notable-Values,-dtypes,-Potential-Issues\" data-toc-modified-id=\"Notable-Values,-dtypes,-Potential-Issues-13.4.2\"><span class=\"toc-item-num\">13.4.2&nbsp;&nbsp;</span>Notable Values, dtypes, Potential Issues</a></span></li></ul></li><li><span><a href=\"#Randomly-Select-40,000-'0'-values-from-'TARGET'\" data-toc-modified-id=\"Randomly-Select-40,000-'0'-values-from-'TARGET'-13.5\"><span class=\"toc-item-num\">13.5&nbsp;&nbsp;</span>Randomly Select 40,000 '0' values from 'TARGET'</a></span></li><li><span><a href=\"#Clean-up-null-and-missing-values\" data-toc-modified-id=\"Clean-up-null-and-missing-values-13.6\"><span class=\"toc-item-num\">13.6&nbsp;&nbsp;</span>Clean up null and missing values</a></span><ul class=\"toc-item\"><li><span><a href=\"#Decisions-for-null-values\" data-toc-modified-id=\"Decisions-for-null-values-13.6.1\"><span class=\"toc-item-num\">13.6.1&nbsp;&nbsp;</span>Decisions for null values</a></span></li></ul></li><li><span><a href=\"#Separate-Numericals-&amp;-Categoricals\" data-toc-modified-id=\"Separate-Numericals-&amp;-Categoricals-13.7\"><span class=\"toc-item-num\">13.7&nbsp;&nbsp;</span>Separate Numericals &amp; Categoricals</a></span><ul class=\"toc-item\"><li><span><a href=\"#Replace-missing-values-for-AMT_GOODS_PRICE-&amp;-AMT_ANNUITY-with-mean\" data-toc-modified-id=\"Replace-missing-values-for-AMT_GOODS_PRICE-&amp;-AMT_ANNUITY-with-mean-13.7.1\"><span class=\"toc-item-num\">13.7.1&nbsp;&nbsp;</span>Replace missing values for AMT_GOODS_PRICE &amp; AMT_ANNUITY with mean</a></span><ul class=\"toc-item\"><li><span><a href=\"#Summary-of-numericals\" data-toc-modified-id=\"Summary-of-numericals-13.7.1.1\"><span class=\"toc-item-num\">13.7.1.1&nbsp;&nbsp;</span>Summary of numericals</a></span></li></ul></li><li><span><a href=\"#Categoricals\" data-toc-modified-id=\"Categoricals-13.7.2\"><span class=\"toc-item-num\">13.7.2&nbsp;&nbsp;</span>Categoricals</a></span></li></ul></li><li><span><a href=\"#Label-Encode-or-One-Hot-Encode-Categoricals\" data-toc-modified-id=\"Label-Encode-or-One-Hot-Encode-Categoricals-13.8\"><span class=\"toc-item-num\">13.8&nbsp;&nbsp;</span>Label Encode or One-Hot Encode Categoricals</a></span><ul class=\"toc-item\"><li><ul class=\"toc-item\"><li><span><a href=\"#Use-label-encoding-to-save-space-with-Organization_Type\" data-toc-modified-id=\"Use-label-encoding-to-save-space-with-Organization_Type-13.8.0.1\"><span class=\"toc-item-num\">13.8.0.1&nbsp;&nbsp;</span>Use label encoding to save space with Organization_Type</a></span></li><li><span><a href=\"#One-Hot-Encode-Categoricals\" data-toc-modified-id=\"One-Hot-Encode-Categoricals-13.8.0.2\"><span class=\"toc-item-num\">13.8.0.2&nbsp;&nbsp;</span>One Hot Encode Categoricals</a></span></li></ul></li></ul></li><li><span><a href=\"#Remove-Outliers\" data-toc-modified-id=\"Remove-Outliers-13.9\"><span class=\"toc-item-num\">13.9&nbsp;&nbsp;</span>Remove Outliers</a></span></li></ul></li><li><span><a href=\"#Thirteenth-Model---Gradient-boost\" data-toc-modified-id=\"Thirteenth-Model---Gradient-boost-14\"><span class=\"toc-item-num\">14&nbsp;&nbsp;</span>Thirteenth Model - Gradient boost</a></span><ul class=\"toc-item\"><li><span><a href=\"#Tune-Learning-Rate\" data-toc-modified-id=\"Tune-Learning-Rate-14.1\"><span class=\"toc-item-num\">14.1&nbsp;&nbsp;</span>Tune Learning Rate</a></span></li><li><span><a href=\"#Analysis-of-df6-Gradient-Boost-Model:\" data-toc-modified-id=\"Analysis-of-df6-Gradient-Boost-Model:-14.2\"><span class=\"toc-item-num\">14.2&nbsp;&nbsp;</span>Analysis of df6 Gradient Boost Model:</a></span></li></ul></li><li><span><a href=\"#SMOTE\" data-toc-modified-id=\"SMOTE-15\"><span class=\"toc-item-num\">15&nbsp;&nbsp;</span>SMOTE</a></span><ul class=\"toc-item\"><li><span><a href=\"#Preprocess-df4-for-SMOTE\" data-toc-modified-id=\"Preprocess-df4-for-SMOTE-15.1\"><span class=\"toc-item-num\">15.1&nbsp;&nbsp;</span>Preprocess df4 for SMOTE</a></span><ul class=\"toc-item\"><li><span><a href=\"#Separate-Numericals-&amp;-Categoricals\" data-toc-modified-id=\"Separate-Numericals-&amp;-Categoricals-15.1.1\"><span class=\"toc-item-num\">15.1.1&nbsp;&nbsp;</span>Separate Numericals &amp; Categoricals</a></span></li><li><span><a href=\"#Replace-missing-values-for-AMT_GOODS_PRICE-&amp;-AMT_ANNUITY-with-mean\" data-toc-modified-id=\"Replace-missing-values-for-AMT_GOODS_PRICE-&amp;-AMT_ANNUITY-with-mean-15.1.2\"><span class=\"toc-item-num\">15.1.2&nbsp;&nbsp;</span>Replace missing values for AMT_GOODS_PRICE &amp; AMT_ANNUITY with mean</a></span></li><li><span><a href=\"#Categoricals\" data-toc-modified-id=\"Categoricals-15.1.3\"><span class=\"toc-item-num\">15.1.3&nbsp;&nbsp;</span>Categoricals</a></span></li></ul></li><li><span><a href=\"#Label-Encode-or-One-Hot-Encode-Categoricals\" data-toc-modified-id=\"Label-Encode-or-One-Hot-Encode-Categoricals-15.2\"><span class=\"toc-item-num\">15.2&nbsp;&nbsp;</span>Label Encode or One-Hot Encode Categoricals</a></span><ul class=\"toc-item\"><li><ul class=\"toc-item\"><li><span><a href=\"#Use-label-encoding-to-save-space-with-Organization_Type\" data-toc-modified-id=\"Use-label-encoding-to-save-space-with-Organization_Type-15.2.0.1\"><span class=\"toc-item-num\">15.2.0.1&nbsp;&nbsp;</span>Use label encoding to save space with Organization_Type</a></span></li><li><span><a href=\"#One-Hot-Encode-Categoricals\" data-toc-modified-id=\"One-Hot-Encode-Categoricals-15.2.0.2\"><span class=\"toc-item-num\">15.2.0.2&nbsp;&nbsp;</span>One Hot Encode Categoricals</a></span></li></ul></li></ul></li><li><span><a href=\"#Remove-Outliers\" data-toc-modified-id=\"Remove-Outliers-15.3\"><span class=\"toc-item-num\">15.3&nbsp;&nbsp;</span>Remove Outliers</a></span></li><li><span><a href=\"#Oversample-Minority-Class\" data-toc-modified-id=\"Oversample-Minority-Class-15.4\"><span class=\"toc-item-num\">15.4&nbsp;&nbsp;</span>Oversample Minority Class</a></span><ul class=\"toc-item\"><li><span><a href=\"#Train,-Test,-Split\" data-toc-modified-id=\"Train,-Test,-Split-15.4.1\"><span class=\"toc-item-num\">15.4.1&nbsp;&nbsp;</span>Train, Test, Split</a></span></li></ul></li><li><span><a href=\"#Logistic-Regression-with-SMOTE\" data-toc-modified-id=\"Logistic-Regression-with-SMOTE-15.5\"><span class=\"toc-item-num\">15.5&nbsp;&nbsp;</span>Logistic Regression with SMOTE</a></span></li><li><span><a href=\"#Random-Forest-with-SMOTE\" data-toc-modified-id=\"Random-Forest-with-SMOTE-15.6\"><span class=\"toc-item-num\">15.6&nbsp;&nbsp;</span>Random Forest with SMOTE</a></span></li><li><span><a href=\"#Random-Forest-with-SMOTE\" data-toc-modified-id=\"Random-Forest-with-SMOTE-15.7\"><span class=\"toc-item-num\">15.7&nbsp;&nbsp;</span>Random Forest with SMOTE</a></span></li></ul></li></ul></div>"
   ]
  },
  {
   "cell_type": "markdown",
   "metadata": {},
   "source": [
    "# Summary\n",
    "* 'Link to Data', https://www.kaggle.com/code/kapoorshivam/credit-analysis-using-eda/data"
   ]
  },
  {
   "cell_type": "code",
   "execution_count": 3,
   "metadata": {
    "ExecuteTime": {
     "end_time": "2022-03-25T16:05:25.646927Z",
     "start_time": "2022-03-25T16:05:25.431177Z"
    }
   },
   "outputs": [],
   "source": [
    "import pandas as pd\n",
    "import matplotlib.pyplot as plt\n",
    "import numpy as np\n",
    "np.random.seed(0)\n",
    "import seaborn as sns\n",
    "from sklearn.model_selection import train_test_split\n",
    "from sklearn.metrics import roc_curve, auc\n",
    "from sklearn.metrics import confusion_matrix\n",
    "from sklearn.linear_model import LogisticRegression\n",
    "from sklearn.metrics import make_scorer\n",
    "from sklearn.model_selection import StratifiedKFold\n",
    "from sklearn.base import clone\n",
    "from sklearn.metrics import log_loss\n",
    "from sklearn.model_selection import cross_val_score\n",
    "from sklearn.preprocessing import StandardScaler\n",
    "from sklearn.neighbors import KNeighborsClassifier\n",
    "from sklearn.metrics import precision_score, recall_score, accuracy_score, f1_score\n",
    "from sklearn.tree import DecisionTreeClassifier\n",
    "from sklearn.metrics import classification_report\n",
    "from sklearn.ensemble import BaggingClassifier, RandomForestClassifier\n",
    "from xgboost import XGBClassifier\n",
    "from sklearn.model_selection import GridSearchCV\n",
    "from sklearn.svm import SVC\n",
    "from sklearn.ensemble import AdaBoostClassifier, GradientBoostingClassifier\n",
    "from sklearn.preprocessing import LabelEncoder\n",
    "from sklearn.feature_selection import RFECV\n",
    "from sklearn.datasets import make_classification\n",
    "\n",
    "from imblearn.over_sampling import SMOTE, ADASYN\n",
    "\n",
    "import warnings\n",
    "warnings.filterwarnings('ignore')\n",
    "%matplotlib inline"
   ]
  },
  {
   "cell_type": "code",
   "execution_count": 4,
   "metadata": {
    "ExecuteTime": {
     "end_time": "2022-03-25T16:05:36.787235Z",
     "start_time": "2022-03-25T16:05:25.651276Z"
    }
   },
   "outputs": [
    {
     "name": "stdout",
     "output_type": "stream",
     "text": [
      "<class 'pandas.core.frame.DataFrame'>\n",
      "RangeIndex: 307511 entries, 0 to 307510\n",
      "Columns: 122 entries, SK_ID_CURR to AMT_REQ_CREDIT_BUREAU_YEAR\n",
      "dtypes: float64(65), int64(41), object(16)\n",
      "memory usage: 286.2+ MB\n"
     ]
    }
   ],
   "source": [
    "df = pd.read_csv('/Users/jimpetoskey/Documents/Flatiron/phase3/Phase_3_Project/Loans/current_app.csv')\n",
    "df.info()"
   ]
  },
  {
   "cell_type": "code",
   "execution_count": 5,
   "metadata": {
    "ExecuteTime": {
     "end_time": "2022-03-25T16:05:36.897837Z",
     "start_time": "2022-03-25T16:05:36.797847Z"
    },
    "scrolled": false
   },
   "outputs": [
    {
     "data": {
      "text/plain": [
       "0    282686\n",
       "1     24825\n",
       "Name: TARGET, dtype: int64"
      ]
     },
     "execution_count": 5,
     "metadata": {},
     "output_type": "execute_result"
    }
   ],
   "source": [
    "df['TARGET'].value_counts()"
   ]
  },
  {
   "cell_type": "markdown",
   "metadata": {},
   "source": [
    "# Preprocess Data\n",
    "* Reduce Class Imbalance Issue:\n",
    "    * Sample 40,000 '0' values from the data set and use 25,000 '1' values, for 65,000 total values. \n",
    "* Trim columns based on manual feature selection select 20 columns with highest relevance according to me."
   ]
  },
  {
   "cell_type": "markdown",
   "metadata": {},
   "source": [
    "## Select 18 Features"
   ]
  },
  {
   "cell_type": "code",
   "execution_count": 6,
   "metadata": {
    "ExecuteTime": {
     "end_time": "2022-03-25T16:05:36.949756Z",
     "start_time": "2022-03-25T16:05:36.909340Z"
    }
   },
   "outputs": [
    {
     "name": "stdout",
     "output_type": "stream",
     "text": [
      "SK_ID_CURR\n",
      "TARGET\n",
      "NAME_CONTRACT_TYPE\n",
      "CODE_GENDER\n",
      "FLAG_OWN_CAR\n",
      "FLAG_OWN_REALTY\n",
      "CNT_CHILDREN\n",
      "AMT_INCOME_TOTAL\n",
      "AMT_CREDIT\n",
      "AMT_ANNUITY\n",
      "AMT_GOODS_PRICE\n",
      "NAME_TYPE_SUITE\n",
      "NAME_INCOME_TYPE\n",
      "NAME_EDUCATION_TYPE\n",
      "NAME_FAMILY_STATUS\n",
      "NAME_HOUSING_TYPE\n",
      "REGION_POPULATION_RELATIVE\n",
      "DAYS_BIRTH\n",
      "DAYS_EMPLOYED\n",
      "DAYS_REGISTRATION\n",
      "DAYS_ID_PUBLISH\n",
      "OWN_CAR_AGE\n",
      "FLAG_MOBIL\n",
      "FLAG_EMP_PHONE\n",
      "FLAG_WORK_PHONE\n",
      "FLAG_CONT_MOBILE\n",
      "FLAG_PHONE\n",
      "FLAG_EMAIL\n",
      "OCCUPATION_TYPE\n",
      "CNT_FAM_MEMBERS\n",
      "REGION_RATING_CLIENT\n",
      "REGION_RATING_CLIENT_W_CITY\n",
      "WEEKDAY_APPR_PROCESS_START\n",
      "HOUR_APPR_PROCESS_START\n",
      "REG_REGION_NOT_LIVE_REGION\n",
      "REG_REGION_NOT_WORK_REGION\n",
      "LIVE_REGION_NOT_WORK_REGION\n",
      "REG_CITY_NOT_LIVE_CITY\n",
      "REG_CITY_NOT_WORK_CITY\n",
      "LIVE_CITY_NOT_WORK_CITY\n",
      "ORGANIZATION_TYPE\n",
      "EXT_SOURCE_1\n",
      "EXT_SOURCE_2\n",
      "EXT_SOURCE_3\n",
      "APARTMENTS_AVG\n",
      "BASEMENTAREA_AVG\n",
      "YEARS_BEGINEXPLUATATION_AVG\n",
      "YEARS_BUILD_AVG\n",
      "COMMONAREA_AVG\n",
      "ELEVATORS_AVG\n",
      "ENTRANCES_AVG\n",
      "FLOORSMAX_AVG\n",
      "FLOORSMIN_AVG\n",
      "LANDAREA_AVG\n",
      "LIVINGAPARTMENTS_AVG\n",
      "LIVINGAREA_AVG\n",
      "NONLIVINGAPARTMENTS_AVG\n",
      "NONLIVINGAREA_AVG\n",
      "APARTMENTS_MODE\n",
      "BASEMENTAREA_MODE\n",
      "YEARS_BEGINEXPLUATATION_MODE\n",
      "YEARS_BUILD_MODE\n",
      "COMMONAREA_MODE\n",
      "ELEVATORS_MODE\n",
      "ENTRANCES_MODE\n",
      "FLOORSMAX_MODE\n",
      "FLOORSMIN_MODE\n",
      "LANDAREA_MODE\n",
      "LIVINGAPARTMENTS_MODE\n",
      "LIVINGAREA_MODE\n",
      "NONLIVINGAPARTMENTS_MODE\n",
      "NONLIVINGAREA_MODE\n",
      "APARTMENTS_MEDI\n",
      "BASEMENTAREA_MEDI\n",
      "YEARS_BEGINEXPLUATATION_MEDI\n",
      "YEARS_BUILD_MEDI\n",
      "COMMONAREA_MEDI\n",
      "ELEVATORS_MEDI\n",
      "ENTRANCES_MEDI\n",
      "FLOORSMAX_MEDI\n",
      "FLOORSMIN_MEDI\n",
      "LANDAREA_MEDI\n",
      "LIVINGAPARTMENTS_MEDI\n",
      "LIVINGAREA_MEDI\n",
      "NONLIVINGAPARTMENTS_MEDI\n",
      "NONLIVINGAREA_MEDI\n",
      "FONDKAPREMONT_MODE\n",
      "HOUSETYPE_MODE\n",
      "TOTALAREA_MODE\n",
      "WALLSMATERIAL_MODE\n",
      "EMERGENCYSTATE_MODE\n",
      "OBS_30_CNT_SOCIAL_CIRCLE\n",
      "DEF_30_CNT_SOCIAL_CIRCLE\n",
      "OBS_60_CNT_SOCIAL_CIRCLE\n",
      "DEF_60_CNT_SOCIAL_CIRCLE\n",
      "DAYS_LAST_PHONE_CHANGE\n",
      "FLAG_DOCUMENT_2\n",
      "FLAG_DOCUMENT_3\n",
      "FLAG_DOCUMENT_4\n",
      "FLAG_DOCUMENT_5\n",
      "FLAG_DOCUMENT_6\n",
      "FLAG_DOCUMENT_7\n",
      "FLAG_DOCUMENT_8\n",
      "FLAG_DOCUMENT_9\n",
      "FLAG_DOCUMENT_10\n",
      "FLAG_DOCUMENT_11\n",
      "FLAG_DOCUMENT_12\n",
      "FLAG_DOCUMENT_13\n",
      "FLAG_DOCUMENT_14\n",
      "FLAG_DOCUMENT_15\n",
      "FLAG_DOCUMENT_16\n",
      "FLAG_DOCUMENT_17\n",
      "FLAG_DOCUMENT_18\n",
      "FLAG_DOCUMENT_19\n",
      "FLAG_DOCUMENT_20\n",
      "FLAG_DOCUMENT_21\n",
      "AMT_REQ_CREDIT_BUREAU_HOUR\n",
      "AMT_REQ_CREDIT_BUREAU_DAY\n",
      "AMT_REQ_CREDIT_BUREAU_WEEK\n",
      "AMT_REQ_CREDIT_BUREAU_MON\n",
      "AMT_REQ_CREDIT_BUREAU_QRT\n",
      "AMT_REQ_CREDIT_BUREAU_YEAR\n",
      "122\n"
     ]
    }
   ],
   "source": [
    "# iterating print for the columns\n",
    "cols = []\n",
    "for col in df.columns:\n",
    "    cols.append(col)\n",
    "    print(col)\n",
    "print(len(cols))"
   ]
  },
  {
   "cell_type": "markdown",
   "metadata": {},
   "source": [
    "### Create dataframe with selected features"
   ]
  },
  {
   "cell_type": "code",
   "execution_count": 7,
   "metadata": {
    "ExecuteTime": {
     "end_time": "2022-03-25T16:05:37.237875Z",
     "start_time": "2022-03-25T16:05:36.951828Z"
    }
   },
   "outputs": [
    {
     "name": "stdout",
     "output_type": "stream",
     "text": [
      "<class 'pandas.core.frame.DataFrame'>\n",
      "RangeIndex: 307511 entries, 0 to 307510\n",
      "Data columns (total 19 columns):\n",
      " #   Column                Non-Null Count   Dtype  \n",
      "---  ------                --------------   -----  \n",
      " 0   TARGET                307511 non-null  int64  \n",
      " 1   CNT_CHILDREN          307511 non-null  int64  \n",
      " 2   AMT_INCOME_TOTAL      307511 non-null  float64\n",
      " 3   AMT_CREDIT            307511 non-null  float64\n",
      " 4   AMT_ANNUITY           307499 non-null  float64\n",
      " 5   NAME_EDUCATION_TYPE   307511 non-null  object \n",
      " 6   DAYS_EMPLOYED         307511 non-null  int64  \n",
      " 7   OWN_CAR_AGE           104582 non-null  float64\n",
      " 8   OCCUPATION_TYPE       211120 non-null  object \n",
      " 9   LANDAREA_AVG          124921 non-null  float64\n",
      " 10  LIVINGAREA_AVG        153161 non-null  float64\n",
      " 11  CNT_FAM_MEMBERS       307509 non-null  float64\n",
      " 12  DAYS_BIRTH            307511 non-null  int64  \n",
      " 13  NAME_INCOME_TYPE      307511 non-null  object \n",
      " 14  AMT_GOODS_PRICE       307233 non-null  float64\n",
      " 15  CODE_GENDER           307511 non-null  object \n",
      " 16  FLAG_OWN_REALTY       307511 non-null  object \n",
      " 17  REGION_RATING_CLIENT  307511 non-null  int64  \n",
      " 18  ORGANIZATION_TYPE     307511 non-null  object \n",
      "dtypes: float64(8), int64(5), object(6)\n",
      "memory usage: 44.6+ MB\n"
     ]
    }
   ],
   "source": [
    "# Create new dataframe with selected features\n",
    "df1 = df.filter(['TARGET', \n",
    "                 'CNT_CHILDREN', \n",
    "                 'AMT_INCOME_TOTAL',\n",
    "                 'AMT_CREDIT', \n",
    "                 'AMT_ANNUITY',\n",
    "                 'NAME_EDUCATION_TYPE',\n",
    "                 'DAYS_EMPLOYED',\n",
    "                 'OWN_CAR_AGE',\n",
    "                 'OCCUPATION_TYPE',\n",
    "                 'LANDAREA_AVG',\n",
    "                 'LIVINGAREA_AVG',\n",
    "                 'CNT_FAM_MEMBERS',\n",
    "                 'DAYS_BIRTH',\n",
    "                 'NAME_INCOME_TYPE',\n",
    "                 'AMT_GOODS_PRICE',\n",
    "                 'CODE_GENDER',\n",
    "                 'FLAG_OWN_REALTY',\n",
    "                 'REGION_RATING_CLIENT',\n",
    "                 'ORGANIZATION_TYPE'], \n",
    "                axis=1)\n",
    "df1.info()"
   ]
  },
  {
   "cell_type": "markdown",
   "metadata": {},
   "source": [
    "### Notable Values, dtypes, Potential Issues\n",
    "* Seven features with missing values:\n",
    "    * AMT_ANNUITY\n",
    "    * OWN_CAR_AGE\n",
    "    * OCCUPATION_TYPE \n",
    "    * LANDAREA_AVG \n",
    "    * LIVINGAREA_AVG \n",
    "    * CNT_FAM_MEMBERS \n",
    "    * AMT_GOODS_PRICE\n",
    "* Six Categorical Variables: \n",
    "    * NAME_EDUCATION_TYPE\n",
    "    * OCCUPATION_TYPE\n",
    "    * NAME_INCOME_TYPE\n",
    "    * CODE_GENDER\n",
    "    * FLAG_OWN_REALTY\n",
    "    * ORGANIZATION_TYPE"
   ]
  },
  {
   "cell_type": "markdown",
   "metadata": {},
   "source": [
    "## Randomly Select 40,000 '0' values from 'TARGET'\n",
    "* Will reduce size of dataframe for faster processing on local machine.\n",
    "* Leaves a lot of data available for testing."
   ]
  },
  {
   "cell_type": "code",
   "execution_count": 8,
   "metadata": {
    "ExecuteTime": {
     "end_time": "2022-03-25T16:05:37.362075Z",
     "start_time": "2022-03-25T16:05:37.240654Z"
    }
   },
   "outputs": [
    {
     "data": {
      "text/plain": [
       "0    282686\n",
       "Name: TARGET, dtype: int64"
      ]
     },
     "execution_count": 8,
     "metadata": {},
     "output_type": "execute_result"
    }
   ],
   "source": [
    "df_0_val = df1[df1.TARGET == 0]\n",
    "df_0_val['TARGET'].value_counts()"
   ]
  },
  {
   "cell_type": "code",
   "execution_count": 9,
   "metadata": {
    "ExecuteTime": {
     "end_time": "2022-03-25T16:05:37.423890Z",
     "start_time": "2022-03-25T16:05:37.365151Z"
    }
   },
   "outputs": [
    {
     "data": {
      "text/plain": [
       "0    40000\n",
       "Name: TARGET, dtype: int64"
      ]
     },
     "execution_count": 9,
     "metadata": {},
     "output_type": "execute_result"
    }
   ],
   "source": [
    "df_0_val = df_0_val.sample(n=40000)\n",
    "df_0_val['TARGET'].value_counts()"
   ]
  },
  {
   "cell_type": "code",
   "execution_count": 10,
   "metadata": {
    "ExecuteTime": {
     "end_time": "2022-03-25T16:05:37.453494Z",
     "start_time": "2022-03-25T16:05:37.428623Z"
    }
   },
   "outputs": [
    {
     "data": {
      "text/plain": [
       "1    24825\n",
       "Name: TARGET, dtype: int64"
      ]
     },
     "execution_count": 10,
     "metadata": {},
     "output_type": "execute_result"
    }
   ],
   "source": [
    "df_1_val = df1[df1.TARGET == 1]\n",
    "df_1_val['TARGET'].value_counts()"
   ]
  },
  {
   "cell_type": "code",
   "execution_count": 11,
   "metadata": {
    "ExecuteTime": {
     "end_time": "2022-03-25T16:05:37.500928Z",
     "start_time": "2022-03-25T16:05:37.460296Z"
    }
   },
   "outputs": [
    {
     "data": {
      "text/plain": [
       "0    40000\n",
       "1    24825\n",
       "Name: TARGET, dtype: int64"
      ]
     },
     "execution_count": 11,
     "metadata": {},
     "output_type": "execute_result"
    }
   ],
   "source": [
    "df2 = df_0_val.append(df_1_val)\n",
    "df2['TARGET'].value_counts()"
   ]
  },
  {
   "cell_type": "markdown",
   "metadata": {},
   "source": [
    "## Clean up null and missing values"
   ]
  },
  {
   "cell_type": "code",
   "execution_count": 12,
   "metadata": {
    "ExecuteTime": {
     "end_time": "2022-03-25T16:05:37.562478Z",
     "start_time": "2022-03-25T16:05:37.504909Z"
    }
   },
   "outputs": [
    {
     "data": {
      "text/plain": [
       "TARGET                      0\n",
       "CNT_CHILDREN                0\n",
       "AMT_INCOME_TOTAL            0\n",
       "AMT_CREDIT                  0\n",
       "AMT_ANNUITY                 1\n",
       "NAME_EDUCATION_TYPE         0\n",
       "DAYS_EMPLOYED               0\n",
       "OWN_CAR_AGE             43495\n",
       "OCCUPATION_TYPE         19031\n",
       "LANDAREA_AVG            39453\n",
       "LIVINGAREA_AVG          33778\n",
       "CNT_FAM_MEMBERS             1\n",
       "DAYS_BIRTH                  0\n",
       "NAME_INCOME_TYPE            0\n",
       "AMT_GOODS_PRICE            62\n",
       "CODE_GENDER                 0\n",
       "FLAG_OWN_REALTY             0\n",
       "REGION_RATING_CLIENT        0\n",
       "ORGANIZATION_TYPE           0\n",
       "dtype: int64"
      ]
     },
     "execution_count": 12,
     "metadata": {},
     "output_type": "execute_result"
    }
   ],
   "source": [
    "df2.isnull().sum()"
   ]
  },
  {
   "cell_type": "markdown",
   "metadata": {},
   "source": [
    "### Decisions for null values\n",
    "* Drop one row from AMT_ANNUITY\n",
    "* OWN_CAR_AGE, OCCUPATION_TYPE, LANDAREA_AVG, LIVINGAREA_AVG are missing so much data that they are not helpful - drop columns\n",
    "* Look at AMT_GOODS_PRICE to better understand column\n",
    "    * Likely, use mean value. Dtype is Float."
   ]
  },
  {
   "cell_type": "code",
   "execution_count": 13,
   "metadata": {
    "ExecuteTime": {
     "end_time": "2022-03-25T16:05:37.640846Z",
     "start_time": "2022-03-25T16:05:37.578041Z"
    }
   },
   "outputs": [
    {
     "name": "stdout",
     "output_type": "stream",
     "text": [
      "<class 'pandas.core.frame.DataFrame'>\n",
      "Int64Index: 64825 entries, 39451 to 307509\n",
      "Data columns (total 15 columns):\n",
      " #   Column                Non-Null Count  Dtype  \n",
      "---  ------                --------------  -----  \n",
      " 0   TARGET                64825 non-null  int64  \n",
      " 1   CNT_CHILDREN          64825 non-null  int64  \n",
      " 2   AMT_INCOME_TOTAL      64825 non-null  float64\n",
      " 3   AMT_CREDIT            64825 non-null  float64\n",
      " 4   AMT_ANNUITY           64824 non-null  float64\n",
      " 5   NAME_EDUCATION_TYPE   64825 non-null  object \n",
      " 6   DAYS_EMPLOYED         64825 non-null  int64  \n",
      " 7   CNT_FAM_MEMBERS       64824 non-null  float64\n",
      " 8   DAYS_BIRTH            64825 non-null  int64  \n",
      " 9   NAME_INCOME_TYPE      64825 non-null  object \n",
      " 10  AMT_GOODS_PRICE       64763 non-null  float64\n",
      " 11  CODE_GENDER           64825 non-null  object \n",
      " 12  FLAG_OWN_REALTY       64825 non-null  object \n",
      " 13  REGION_RATING_CLIENT  64825 non-null  int64  \n",
      " 14  ORGANIZATION_TYPE     64825 non-null  object \n",
      "dtypes: float64(5), int64(5), object(5)\n",
      "memory usage: 7.9+ MB\n"
     ]
    }
   ],
   "source": [
    "df2 = df2.drop(columns=['OWN_CAR_AGE', \n",
    "                         'OCCUPATION_TYPE', \n",
    "                         'LANDAREA_AVG', \n",
    "                         'LIVINGAREA_AVG'])\n",
    "df2.info()"
   ]
  },
  {
   "cell_type": "markdown",
   "metadata": {},
   "source": [
    "### Replace missing values for AMT_GOODS_PRICE & AMT_ANNUITY with mean"
   ]
  },
  {
   "cell_type": "code",
   "execution_count": 14,
   "metadata": {
    "ExecuteTime": {
     "end_time": "2022-03-25T16:05:37.674115Z",
     "start_time": "2022-03-25T16:05:37.643799Z"
    }
   },
   "outputs": [
    {
     "name": "stdout",
     "output_type": "stream",
     "text": [
      "AMT_GOODS_PRICE: count    6.476300e+04\n",
      "mean     5.222983e+05\n",
      "std      3.521885e+05\n",
      "min      4.500000e+04\n",
      "25%      2.385000e+05\n",
      "50%      4.500000e+05\n",
      "75%      6.750000e+05\n",
      "max      4.050000e+06\n",
      "Name: AMT_GOODS_PRICE, dtype: float64\n",
      "\n",
      "AMT_ANNUITY: count     64824.000000\n",
      "mean      26936.759534\n",
      "std       13885.809551\n",
      "min        1615.500000\n",
      "25%       16852.500000\n",
      "50%       24988.500000\n",
      "75%       34254.000000\n",
      "max      225000.000000\n",
      "Name: AMT_ANNUITY, dtype: float64\n"
     ]
    }
   ],
   "source": [
    "print('AMT_GOODS_PRICE:', df2['AMT_GOODS_PRICE'].describe())\n",
    "print()\n",
    "print('AMT_ANNUITY:', df2['AMT_ANNUITY'].describe())"
   ]
  },
  {
   "cell_type": "code",
   "execution_count": 15,
   "metadata": {
    "ExecuteTime": {
     "end_time": "2022-03-25T16:05:37.717378Z",
     "start_time": "2022-03-25T16:05:37.677632Z"
    }
   },
   "outputs": [
    {
     "name": "stdout",
     "output_type": "stream",
     "text": [
      "AMT_GOODS_PRICE: count    6.482500e+04\n",
      "mean     5.222983e+05\n",
      "std      3.520200e+05\n",
      "min      4.500000e+04\n",
      "25%      2.385000e+05\n",
      "50%      4.500000e+05\n",
      "75%      6.750000e+05\n",
      "max      4.050000e+06\n",
      "Name: AMT_GOODS_PRICE, dtype: float64\n",
      "\n",
      "AMT_ANNUITY: count     64825.000000\n",
      "mean      26936.759534\n",
      "std       13885.702447\n",
      "min        1615.500000\n",
      "25%       16852.500000\n",
      "50%       24988.500000\n",
      "75%       34254.000000\n",
      "max      225000.000000\n",
      "Name: AMT_ANNUITY, dtype: float64\n",
      "\n",
      "CNT_FAM_MEMBERS count    64825.000000\n",
      "mean         2.165263\n",
      "std          0.923811\n",
      "min          1.000000\n",
      "25%          2.000000\n",
      "50%          2.000000\n",
      "75%          3.000000\n",
      "max         13.000000\n",
      "Name: CNT_FAM_MEMBERS, dtype: float64\n"
     ]
    }
   ],
   "source": [
    "df2['AMT_GOODS_PRICE'].fillna(value=df2['AMT_GOODS_PRICE'].mean(), inplace=True)\n",
    "print('AMT_GOODS_PRICE:', df2['AMT_GOODS_PRICE'].describe())\n",
    "print()\n",
    "df2['AMT_ANNUITY'].fillna(value=df2['AMT_ANNUITY'].mean(), inplace=True)\n",
    "print('AMT_ANNUITY:', df2['AMT_ANNUITY'].describe())\n",
    "print()\n",
    "df2['CNT_FAM_MEMBERS'].fillna(value=df2['CNT_FAM_MEMBERS'].mean(), inplace=True)\n",
    "print('CNT_FAM_MEMBERS', df2['CNT_FAM_MEMBERS'].describe())"
   ]
  },
  {
   "cell_type": "code",
   "execution_count": 16,
   "metadata": {
    "ExecuteTime": {
     "end_time": "2022-03-25T16:05:37.754889Z",
     "start_time": "2022-03-25T16:05:37.720053Z"
    }
   },
   "outputs": [
    {
     "name": "stdout",
     "output_type": "stream",
     "text": [
      "<class 'pandas.core.frame.DataFrame'>\n",
      "Int64Index: 64825 entries, 39451 to 307509\n",
      "Data columns (total 15 columns):\n",
      " #   Column                Non-Null Count  Dtype  \n",
      "---  ------                --------------  -----  \n",
      " 0   TARGET                64825 non-null  int64  \n",
      " 1   CNT_CHILDREN          64825 non-null  int64  \n",
      " 2   AMT_INCOME_TOTAL      64825 non-null  float64\n",
      " 3   AMT_CREDIT            64825 non-null  float64\n",
      " 4   AMT_ANNUITY           64825 non-null  float64\n",
      " 5   NAME_EDUCATION_TYPE   64825 non-null  object \n",
      " 6   DAYS_EMPLOYED         64825 non-null  int64  \n",
      " 7   CNT_FAM_MEMBERS       64825 non-null  float64\n",
      " 8   DAYS_BIRTH            64825 non-null  int64  \n",
      " 9   NAME_INCOME_TYPE      64825 non-null  object \n",
      " 10  AMT_GOODS_PRICE       64825 non-null  float64\n",
      " 11  CODE_GENDER           64825 non-null  object \n",
      " 12  FLAG_OWN_REALTY       64825 non-null  object \n",
      " 13  REGION_RATING_CLIENT  64825 non-null  int64  \n",
      " 14  ORGANIZATION_TYPE     64825 non-null  object \n",
      "dtypes: float64(5), int64(5), object(5)\n",
      "memory usage: 7.9+ MB\n"
     ]
    }
   ],
   "source": [
    "df2.info()"
   ]
  },
  {
   "cell_type": "markdown",
   "metadata": {},
   "source": [
    "## Separate Numericals & Categoricals\n",
    "* Complete further investigation of features\n",
    "    * What form of normalization will be used for numericals, if any?\n",
    "    * Will all categorical features be appropriate for one hot encoding?"
   ]
  },
  {
   "cell_type": "markdown",
   "metadata": {},
   "source": [
    "### Numericals interpretation and preprocessing\""
   ]
  },
  {
   "cell_type": "code",
   "execution_count": 17,
   "metadata": {
    "ExecuteTime": {
     "end_time": "2022-03-25T16:05:37.800909Z",
     "start_time": "2022-03-25T16:05:37.758507Z"
    }
   },
   "outputs": [
    {
     "data": {
      "text/html": [
       "<div>\n",
       "<style scoped>\n",
       "    .dataframe tbody tr th:only-of-type {\n",
       "        vertical-align: middle;\n",
       "    }\n",
       "\n",
       "    .dataframe tbody tr th {\n",
       "        vertical-align: top;\n",
       "    }\n",
       "\n",
       "    .dataframe thead th {\n",
       "        text-align: right;\n",
       "    }\n",
       "</style>\n",
       "<table border=\"1\" class=\"dataframe\">\n",
       "  <thead>\n",
       "    <tr style=\"text-align: right;\">\n",
       "      <th></th>\n",
       "      <th>TARGET</th>\n",
       "      <th>CNT_CHILDREN</th>\n",
       "      <th>AMT_INCOME_TOTAL</th>\n",
       "      <th>AMT_CREDIT</th>\n",
       "      <th>AMT_ANNUITY</th>\n",
       "      <th>DAYS_EMPLOYED</th>\n",
       "      <th>CNT_FAM_MEMBERS</th>\n",
       "      <th>DAYS_BIRTH</th>\n",
       "      <th>AMT_GOODS_PRICE</th>\n",
       "      <th>REGION_RATING_CLIENT</th>\n",
       "    </tr>\n",
       "  </thead>\n",
       "  <tbody>\n",
       "    <tr>\n",
       "      <th>39451</th>\n",
       "      <td>0</td>\n",
       "      <td>0</td>\n",
       "      <td>270000.0</td>\n",
       "      <td>573408.0</td>\n",
       "      <td>29407.5</td>\n",
       "      <td>365243</td>\n",
       "      <td>2.0</td>\n",
       "      <td>-21939</td>\n",
       "      <td>495000.0</td>\n",
       "      <td>1</td>\n",
       "    </tr>\n",
       "    <tr>\n",
       "      <th>80296</th>\n",
       "      <td>0</td>\n",
       "      <td>1</td>\n",
       "      <td>90000.0</td>\n",
       "      <td>225000.0</td>\n",
       "      <td>10039.5</td>\n",
       "      <td>-213</td>\n",
       "      <td>3.0</td>\n",
       "      <td>-10613</td>\n",
       "      <td>225000.0</td>\n",
       "      <td>2</td>\n",
       "    </tr>\n",
       "    <tr>\n",
       "      <th>34978</th>\n",
       "      <td>0</td>\n",
       "      <td>1</td>\n",
       "      <td>180000.0</td>\n",
       "      <td>715095.0</td>\n",
       "      <td>48109.5</td>\n",
       "      <td>-6642</td>\n",
       "      <td>3.0</td>\n",
       "      <td>-17505</td>\n",
       "      <td>675000.0</td>\n",
       "      <td>2</td>\n",
       "    </tr>\n",
       "    <tr>\n",
       "      <th>214576</th>\n",
       "      <td>0</td>\n",
       "      <td>0</td>\n",
       "      <td>247500.0</td>\n",
       "      <td>765000.0</td>\n",
       "      <td>22365.0</td>\n",
       "      <td>-3342</td>\n",
       "      <td>1.0</td>\n",
       "      <td>-13780</td>\n",
       "      <td>765000.0</td>\n",
       "      <td>2</td>\n",
       "    </tr>\n",
       "    <tr>\n",
       "      <th>169952</th>\n",
       "      <td>0</td>\n",
       "      <td>0</td>\n",
       "      <td>202500.0</td>\n",
       "      <td>528633.0</td>\n",
       "      <td>38817.0</td>\n",
       "      <td>-2551</td>\n",
       "      <td>2.0</td>\n",
       "      <td>-16880</td>\n",
       "      <td>472500.0</td>\n",
       "      <td>3</td>\n",
       "    </tr>\n",
       "  </tbody>\n",
       "</table>\n",
       "</div>"
      ],
      "text/plain": [
       "        TARGET  CNT_CHILDREN  AMT_INCOME_TOTAL  AMT_CREDIT  AMT_ANNUITY  \\\n",
       "39451        0             0          270000.0    573408.0      29407.5   \n",
       "80296        0             1           90000.0    225000.0      10039.5   \n",
       "34978        0             1          180000.0    715095.0      48109.5   \n",
       "214576       0             0          247500.0    765000.0      22365.0   \n",
       "169952       0             0          202500.0    528633.0      38817.0   \n",
       "\n",
       "        DAYS_EMPLOYED  CNT_FAM_MEMBERS  DAYS_BIRTH  AMT_GOODS_PRICE  \\\n",
       "39451          365243              2.0      -21939         495000.0   \n",
       "80296            -213              3.0      -10613         225000.0   \n",
       "34978           -6642              3.0      -17505         675000.0   \n",
       "214576          -3342              1.0      -13780         765000.0   \n",
       "169952          -2551              2.0      -16880         472500.0   \n",
       "\n",
       "        REGION_RATING_CLIENT  \n",
       "39451                      1  \n",
       "80296                      2  \n",
       "34978                      2  \n",
       "214576                     2  \n",
       "169952                     3  "
      ]
     },
     "execution_count": 17,
     "metadata": {},
     "output_type": "execute_result"
    }
   ],
   "source": [
    "# new df with numericals only\n",
    "numericals = df2.drop(columns=['NAME_EDUCATION_TYPE', \n",
    "                               'NAME_INCOME_TYPE', \n",
    "                               'CODE_GENDER', \n",
    "                               'FLAG_OWN_REALTY', \n",
    "                               'ORGANIZATION_TYPE'])\n",
    "numericals.head()"
   ]
  },
  {
   "cell_type": "code",
   "execution_count": 18,
   "metadata": {
    "ExecuteTime": {
     "end_time": "2022-03-25T16:05:37.926265Z",
     "start_time": "2022-03-25T16:05:37.804080Z"
    }
   },
   "outputs": [
    {
     "data": {
      "text/html": [
       "<div>\n",
       "<style scoped>\n",
       "    .dataframe tbody tr th:only-of-type {\n",
       "        vertical-align: middle;\n",
       "    }\n",
       "\n",
       "    .dataframe tbody tr th {\n",
       "        vertical-align: top;\n",
       "    }\n",
       "\n",
       "    .dataframe thead th {\n",
       "        text-align: right;\n",
       "    }\n",
       "</style>\n",
       "<table border=\"1\" class=\"dataframe\">\n",
       "  <thead>\n",
       "    <tr style=\"text-align: right;\">\n",
       "      <th></th>\n",
       "      <th>TARGET</th>\n",
       "      <th>CNT_CHILDREN</th>\n",
       "      <th>AMT_INCOME_TOTAL</th>\n",
       "      <th>AMT_CREDIT</th>\n",
       "      <th>AMT_ANNUITY</th>\n",
       "      <th>DAYS_EMPLOYED</th>\n",
       "      <th>CNT_FAM_MEMBERS</th>\n",
       "      <th>DAYS_BIRTH</th>\n",
       "      <th>AMT_GOODS_PRICE</th>\n",
       "      <th>REGION_RATING_CLIENT</th>\n",
       "    </tr>\n",
       "  </thead>\n",
       "  <tbody>\n",
       "    <tr>\n",
       "      <th>count</th>\n",
       "      <td>64825.000000</td>\n",
       "      <td>64825.000000</td>\n",
       "      <td>6.482500e+04</td>\n",
       "      <td>6.482500e+04</td>\n",
       "      <td>64825.000000</td>\n",
       "      <td>64825.000000</td>\n",
       "      <td>64825.000000</td>\n",
       "      <td>64825.000000</td>\n",
       "      <td>6.482500e+04</td>\n",
       "      <td>64825.000000</td>\n",
       "    </tr>\n",
       "    <tr>\n",
       "      <th>mean</th>\n",
       "      <td>0.382954</td>\n",
       "      <td>0.435465</td>\n",
       "      <td>1.679509e+05</td>\n",
       "      <td>5.853929e+05</td>\n",
       "      <td>26936.759534</td>\n",
       "      <td>57047.771616</td>\n",
       "      <td>2.165263</td>\n",
       "      <td>-15659.305175</td>\n",
       "      <td>5.222983e+05</td>\n",
       "      <td>2.086494</td>\n",
       "    </tr>\n",
       "    <tr>\n",
       "      <th>std</th>\n",
       "      <td>0.486111</td>\n",
       "      <td>0.733516</td>\n",
       "      <td>4.736709e+05</td>\n",
       "      <td>3.850936e+05</td>\n",
       "      <td>13885.702447</td>\n",
       "      <td>135132.797548</td>\n",
       "      <td>0.923811</td>\n",
       "      <td>4351.025066</td>\n",
       "      <td>3.520200e+05</td>\n",
       "      <td>0.510715</td>\n",
       "    </tr>\n",
       "    <tr>\n",
       "      <th>min</th>\n",
       "      <td>0.000000</td>\n",
       "      <td>0.000000</td>\n",
       "      <td>2.565000e+04</td>\n",
       "      <td>4.500000e+04</td>\n",
       "      <td>1615.500000</td>\n",
       "      <td>-16836.000000</td>\n",
       "      <td>1.000000</td>\n",
       "      <td>-25192.000000</td>\n",
       "      <td>4.500000e+04</td>\n",
       "      <td>1.000000</td>\n",
       "    </tr>\n",
       "    <tr>\n",
       "      <th>25%</th>\n",
       "      <td>0.000000</td>\n",
       "      <td>0.000000</td>\n",
       "      <td>1.125000e+05</td>\n",
       "      <td>2.750400e+05</td>\n",
       "      <td>16852.500000</td>\n",
       "      <td>-2565.000000</td>\n",
       "      <td>2.000000</td>\n",
       "      <td>-19221.000000</td>\n",
       "      <td>2.385000e+05</td>\n",
       "      <td>2.000000</td>\n",
       "    </tr>\n",
       "    <tr>\n",
       "      <th>50%</th>\n",
       "      <td>0.000000</td>\n",
       "      <td>0.000000</td>\n",
       "      <td>1.440000e+05</td>\n",
       "      <td>5.084955e+05</td>\n",
       "      <td>24988.500000</td>\n",
       "      <td>-1143.000000</td>\n",
       "      <td>2.000000</td>\n",
       "      <td>-15233.000000</td>\n",
       "      <td>4.500000e+05</td>\n",
       "      <td>2.000000</td>\n",
       "    </tr>\n",
       "    <tr>\n",
       "      <th>75%</th>\n",
       "      <td>1.000000</td>\n",
       "      <td>1.000000</td>\n",
       "      <td>2.025000e+05</td>\n",
       "      <td>7.871310e+05</td>\n",
       "      <td>34254.000000</td>\n",
       "      <td>-321.000000</td>\n",
       "      <td>3.000000</td>\n",
       "      <td>-12007.000000</td>\n",
       "      <td>6.750000e+05</td>\n",
       "      <td>2.000000</td>\n",
       "    </tr>\n",
       "    <tr>\n",
       "      <th>max</th>\n",
       "      <td>1.000000</td>\n",
       "      <td>11.000000</td>\n",
       "      <td>1.170000e+08</td>\n",
       "      <td>4.050000e+06</td>\n",
       "      <td>225000.000000</td>\n",
       "      <td>365243.000000</td>\n",
       "      <td>13.000000</td>\n",
       "      <td>-7676.000000</td>\n",
       "      <td>4.050000e+06</td>\n",
       "      <td>3.000000</td>\n",
       "    </tr>\n",
       "  </tbody>\n",
       "</table>\n",
       "</div>"
      ],
      "text/plain": [
       "             TARGET  CNT_CHILDREN  AMT_INCOME_TOTAL    AMT_CREDIT  \\\n",
       "count  64825.000000  64825.000000      6.482500e+04  6.482500e+04   \n",
       "mean       0.382954      0.435465      1.679509e+05  5.853929e+05   \n",
       "std        0.486111      0.733516      4.736709e+05  3.850936e+05   \n",
       "min        0.000000      0.000000      2.565000e+04  4.500000e+04   \n",
       "25%        0.000000      0.000000      1.125000e+05  2.750400e+05   \n",
       "50%        0.000000      0.000000      1.440000e+05  5.084955e+05   \n",
       "75%        1.000000      1.000000      2.025000e+05  7.871310e+05   \n",
       "max        1.000000     11.000000      1.170000e+08  4.050000e+06   \n",
       "\n",
       "         AMT_ANNUITY  DAYS_EMPLOYED  CNT_FAM_MEMBERS    DAYS_BIRTH  \\\n",
       "count   64825.000000   64825.000000     64825.000000  64825.000000   \n",
       "mean    26936.759534   57047.771616         2.165263 -15659.305175   \n",
       "std     13885.702447  135132.797548         0.923811   4351.025066   \n",
       "min      1615.500000  -16836.000000         1.000000 -25192.000000   \n",
       "25%     16852.500000   -2565.000000         2.000000 -19221.000000   \n",
       "50%     24988.500000   -1143.000000         2.000000 -15233.000000   \n",
       "75%     34254.000000    -321.000000         3.000000 -12007.000000   \n",
       "max    225000.000000  365243.000000        13.000000  -7676.000000   \n",
       "\n",
       "       AMT_GOODS_PRICE  REGION_RATING_CLIENT  \n",
       "count     6.482500e+04          64825.000000  \n",
       "mean      5.222983e+05              2.086494  \n",
       "std       3.520200e+05              0.510715  \n",
       "min       4.500000e+04              1.000000  \n",
       "25%       2.385000e+05              2.000000  \n",
       "50%       4.500000e+05              2.000000  \n",
       "75%       6.750000e+05              2.000000  \n",
       "max       4.050000e+06              3.000000  "
      ]
     },
     "metadata": {},
     "output_type": "display_data"
    }
   ],
   "source": [
    "# Interpret values of columns\n",
    "display(numericals.describe())"
   ]
  },
  {
   "cell_type": "code",
   "execution_count": 19,
   "metadata": {
    "ExecuteTime": {
     "end_time": "2022-03-25T16:05:38.556780Z",
     "start_time": "2022-03-25T16:05:37.929749Z"
    }
   },
   "outputs": [
    {
     "data": {
      "image/png": "[encoded data removed]",
      "text/plain": [
       "<Figure size 1440x720 with 1 Axes>"
      ]
     },
     "metadata": {
      "needs_background": "light"
     },
     "output_type": "display_data"
    }
   ],
   "source": [
    "# Create a box plot of each numerical column\n",
    "plt.figure(figsize=(20, 10))\n",
    "plt.boxplot([numericals[col] for col in numericals.columns])\n",
    "plt.title(\"Box plot of all columns in dataset\")\n",
    "plt.xticks(range(len(numericals.columns.values)), numericals.columns.values)\n",
    "plt.show()"
   ]
  },
  {
   "cell_type": "markdown",
   "metadata": {},
   "source": [
    "#### Summary of numericals\n",
    "* AMT_INCOME_TOTAL has one or many outliers that need to be trimmed.\n",
    "* Widely varying magnitudes"
   ]
  },
  {
   "cell_type": "markdown",
   "metadata": {},
   "source": [
    "### Categoricals"
   ]
  },
  {
   "cell_type": "code",
   "execution_count": 20,
   "metadata": {
    "ExecuteTime": {
     "end_time": "2022-03-25T16:05:38.591337Z",
     "start_time": "2022-03-25T16:05:38.560428Z"
    }
   },
   "outputs": [
    {
     "data": {
      "text/html": [
       "<div>\n",
       "<style scoped>\n",
       "    .dataframe tbody tr th:only-of-type {\n",
       "        vertical-align: middle;\n",
       "    }\n",
       "\n",
       "    .dataframe tbody tr th {\n",
       "        vertical-align: top;\n",
       "    }\n",
       "\n",
       "    .dataframe thead th {\n",
       "        text-align: right;\n",
       "    }\n",
       "</style>\n",
       "<table border=\"1\" class=\"dataframe\">\n",
       "  <thead>\n",
       "    <tr style=\"text-align: right;\">\n",
       "      <th></th>\n",
       "      <th>NAME_EDUCATION_TYPE</th>\n",
       "      <th>NAME_INCOME_TYPE</th>\n",
       "      <th>CODE_GENDER</th>\n",
       "      <th>FLAG_OWN_REALTY</th>\n",
       "      <th>ORGANIZATION_TYPE</th>\n",
       "    </tr>\n",
       "  </thead>\n",
       "  <tbody>\n",
       "    <tr>\n",
       "      <th>39451</th>\n",
       "      <td>Secondary / secondary special</td>\n",
       "      <td>Pensioner</td>\n",
       "      <td>F</td>\n",
       "      <td>Y</td>\n",
       "      <td>XNA</td>\n",
       "    </tr>\n",
       "    <tr>\n",
       "      <th>80296</th>\n",
       "      <td>Higher education</td>\n",
       "      <td>Commercial associate</td>\n",
       "      <td>M</td>\n",
       "      <td>Y</td>\n",
       "      <td>Business Entity Type 3</td>\n",
       "    </tr>\n",
       "    <tr>\n",
       "      <th>34978</th>\n",
       "      <td>Secondary / secondary special</td>\n",
       "      <td>State servant</td>\n",
       "      <td>F</td>\n",
       "      <td>Y</td>\n",
       "      <td>School</td>\n",
       "    </tr>\n",
       "    <tr>\n",
       "      <th>214576</th>\n",
       "      <td>Secondary / secondary special</td>\n",
       "      <td>Working</td>\n",
       "      <td>M</td>\n",
       "      <td>N</td>\n",
       "      <td>Military</td>\n",
       "    </tr>\n",
       "    <tr>\n",
       "      <th>169952</th>\n",
       "      <td>Secondary / secondary special</td>\n",
       "      <td>Working</td>\n",
       "      <td>M</td>\n",
       "      <td>N</td>\n",
       "      <td>Transport: type 4</td>\n",
       "    </tr>\n",
       "  </tbody>\n",
       "</table>\n",
       "</div>"
      ],
      "text/plain": [
       "                  NAME_EDUCATION_TYPE      NAME_INCOME_TYPE CODE_GENDER  \\\n",
       "39451   Secondary / secondary special             Pensioner           F   \n",
       "80296                Higher education  Commercial associate           M   \n",
       "34978   Secondary / secondary special         State servant           F   \n",
       "214576  Secondary / secondary special               Working           M   \n",
       "169952  Secondary / secondary special               Working           M   \n",
       "\n",
       "       FLAG_OWN_REALTY       ORGANIZATION_TYPE  \n",
       "39451                Y                     XNA  \n",
       "80296                Y  Business Entity Type 3  \n",
       "34978                Y                  School  \n",
       "214576               N                Military  \n",
       "169952               N       Transport: type 4  "
      ]
     },
     "execution_count": 20,
     "metadata": {},
     "output_type": "execute_result"
    }
   ],
   "source": [
    "# new df with categoricals only\n",
    "categoricals = df2[['NAME_EDUCATION_TYPE', \n",
    "                    'NAME_INCOME_TYPE', \n",
    "                    'CODE_GENDER', \n",
    "                    'FLAG_OWN_REALTY', \n",
    "                    'ORGANIZATION_TYPE']]\n",
    "categoricals.head()"
   ]
  },
  {
   "cell_type": "code",
   "execution_count": 21,
   "metadata": {
    "ExecuteTime": {
     "end_time": "2022-03-25T16:05:38.665988Z",
     "start_time": "2022-03-25T16:05:38.596270Z"
    }
   },
   "outputs": [
    {
     "data": {
      "text/plain": [
       "NAME_EDUCATION_TYPE            NAME_INCOME_TYPE      CODE_GENDER  FLAG_OWN_REALTY  ORGANIZATION_TYPE     \n",
       "Secondary / secondary special  Pensioner             F            Y                XNA                       5357\n",
       "                               Working               F            Y                Business Entity Type 3    2529\n",
       "                                                     M            Y                Business Entity Type 3    2480\n",
       "                                                     F            Y                Self-employed             2182\n",
       "                               Pensioner             F            N                XNA                       1645\n",
       "                                                                                                             ... \n",
       "Incomplete higher              State servant         M            Y                Self-employed                1\n",
       "                                                                                   Kindergarten                 1\n",
       "                                                                                   Housing                      1\n",
       "                                                                                   Business Entity Type 3       1\n",
       "Academic degree                Commercial associate  F            Y                Bank                         1\n",
       "Length: 1584, dtype: int64"
      ]
     },
     "execution_count": 21,
     "metadata": {},
     "output_type": "execute_result"
    }
   ],
   "source": [
    "categoricals.value_counts()"
   ]
  },
  {
   "cell_type": "code",
   "execution_count": 22,
   "metadata": {
    "ExecuteTime": {
     "end_time": "2022-03-25T16:05:38.700190Z",
     "start_time": "2022-03-25T16:05:38.671888Z"
    }
   },
   "outputs": [
    {
     "data": {
      "text/plain": [
       "Working                 35570\n",
       "Commercial associate    14616\n",
       "Pensioner               10443\n",
       "State servant            4179\n",
       "Unemployed                 10\n",
       "Student                     4\n",
       "Maternity leave             2\n",
       "Businessman                 1\n",
       "Name: NAME_INCOME_TYPE, dtype: int64"
      ]
     },
     "execution_count": 22,
     "metadata": {},
     "output_type": "execute_result"
    }
   ],
   "source": [
    "categoricals['NAME_INCOME_TYPE'].value_counts()"
   ]
  },
  {
   "cell_type": "code",
   "execution_count": 23,
   "metadata": {
    "ExecuteTime": {
     "end_time": "2022-03-25T16:05:38.726289Z",
     "start_time": "2022-03-25T16:05:38.702701Z"
    }
   },
   "outputs": [
    {
     "data": {
      "text/plain": [
       "Business Entity Type 3    15088\n",
       "XNA                       10451\n",
       "Self-employed              8816\n",
       "Other                      3398\n",
       "Business Entity Type 2     2284\n",
       "Medicine                   2190\n",
       "Government                 2085\n",
       "School                     1750\n",
       "Trade: type 7              1726\n",
       "Construction               1601\n",
       "Kindergarten               1396\n",
       "Business Entity Type 1     1257\n",
       "Transport: type 4          1210\n",
       "Trade: type 3               818\n",
       "Industry: type 3            758\n",
       "Security                    744\n",
       "Industry: type 9            672\n",
       "Industry: type 11           631\n",
       "Housing                     599\n",
       "Agriculture                 572\n",
       "Military                    474\n",
       "Bank                        456\n",
       "Transport: type 2           448\n",
       "Postal                      442\n",
       "Restaurant                  439\n",
       "Police                      428\n",
       "Trade: type 2               376\n",
       "Security Ministries         365\n",
       "Transport: type 3           336\n",
       "Services                    306\n",
       "Industry: type 7            264\n",
       "Industry: type 1            239\n",
       "University                  238\n",
       "Industry: type 4            200\n",
       "Hotel                       199\n",
       "Electricity                 181\n",
       "Telecom                     121\n",
       "Industry: type 5            121\n",
       "Insurance                   120\n",
       "Emergency                   109\n",
       "Advertising                 103\n",
       "Realtor                      99\n",
       "Trade: type 6                97\n",
       "Industry: type 2             92\n",
       "Trade: type 1                72\n",
       "Mobile                       70\n",
       "Culture                      70\n",
       "Legal Services               66\n",
       "Industry: type 12            59\n",
       "Cleaning                     57\n",
       "Transport: type 1            38\n",
       "Industry: type 6             19\n",
       "Religion                     17\n",
       "Industry: type 10            16\n",
       "Industry: type 13            14\n",
       "Trade: type 4                13\n",
       "Trade: type 5                10\n",
       "Industry: type 8              5\n",
       "Name: ORGANIZATION_TYPE, dtype: int64"
      ]
     },
     "execution_count": 23,
     "metadata": {},
     "output_type": "execute_result"
    }
   ],
   "source": [
    "categoricals['ORGANIZATION_TYPE'].value_counts()"
   ]
  },
  {
   "cell_type": "markdown",
   "metadata": {},
   "source": [
    "#### Organization Type not useful for ohe \n",
    "* Interpretting Organization Type without a key is impossible, so I will drop this column."
   ]
  },
  {
   "cell_type": "code",
   "execution_count": 24,
   "metadata": {
    "ExecuteTime": {
     "end_time": "2022-03-25T16:05:38.749435Z",
     "start_time": "2022-03-25T16:05:38.729565Z"
    }
   },
   "outputs": [
    {
     "data": {
      "text/html": [
       "<div>\n",
       "<style scoped>\n",
       "    .dataframe tbody tr th:only-of-type {\n",
       "        vertical-align: middle;\n",
       "    }\n",
       "\n",
       "    .dataframe tbody tr th {\n",
       "        vertical-align: top;\n",
       "    }\n",
       "\n",
       "    .dataframe thead th {\n",
       "        text-align: right;\n",
       "    }\n",
       "</style>\n",
       "<table border=\"1\" class=\"dataframe\">\n",
       "  <thead>\n",
       "    <tr style=\"text-align: right;\">\n",
       "      <th></th>\n",
       "      <th>NAME_EDUCATION_TYPE</th>\n",
       "      <th>NAME_INCOME_TYPE</th>\n",
       "      <th>CODE_GENDER</th>\n",
       "      <th>FLAG_OWN_REALTY</th>\n",
       "    </tr>\n",
       "  </thead>\n",
       "  <tbody>\n",
       "    <tr>\n",
       "      <th>39451</th>\n",
       "      <td>Secondary / secondary special</td>\n",
       "      <td>Pensioner</td>\n",
       "      <td>F</td>\n",
       "      <td>Y</td>\n",
       "    </tr>\n",
       "    <tr>\n",
       "      <th>80296</th>\n",
       "      <td>Higher education</td>\n",
       "      <td>Commercial associate</td>\n",
       "      <td>M</td>\n",
       "      <td>Y</td>\n",
       "    </tr>\n",
       "    <tr>\n",
       "      <th>34978</th>\n",
       "      <td>Secondary / secondary special</td>\n",
       "      <td>State servant</td>\n",
       "      <td>F</td>\n",
       "      <td>Y</td>\n",
       "    </tr>\n",
       "    <tr>\n",
       "      <th>214576</th>\n",
       "      <td>Secondary / secondary special</td>\n",
       "      <td>Working</td>\n",
       "      <td>M</td>\n",
       "      <td>N</td>\n",
       "    </tr>\n",
       "    <tr>\n",
       "      <th>169952</th>\n",
       "      <td>Secondary / secondary special</td>\n",
       "      <td>Working</td>\n",
       "      <td>M</td>\n",
       "      <td>N</td>\n",
       "    </tr>\n",
       "  </tbody>\n",
       "</table>\n",
       "</div>"
      ],
      "text/plain": [
       "                  NAME_EDUCATION_TYPE      NAME_INCOME_TYPE CODE_GENDER  \\\n",
       "39451   Secondary / secondary special             Pensioner           F   \n",
       "80296                Higher education  Commercial associate           M   \n",
       "34978   Secondary / secondary special         State servant           F   \n",
       "214576  Secondary / secondary special               Working           M   \n",
       "169952  Secondary / secondary special               Working           M   \n",
       "\n",
       "       FLAG_OWN_REALTY  \n",
       "39451                Y  \n",
       "80296                Y  \n",
       "34978                Y  \n",
       "214576               N  \n",
       "169952               N  "
      ]
     },
     "execution_count": 24,
     "metadata": {},
     "output_type": "execute_result"
    }
   ],
   "source": [
    "# drop 'ORGANIZATION_TYPE' from categoricals\n",
    "categoricals = categoricals.drop('ORGANIZATION_TYPE', axis=1)\n",
    "categoricals.head()"
   ]
  },
  {
   "cell_type": "markdown",
   "metadata": {},
   "source": [
    "#### One Hot Encode Categoricals"
   ]
  },
  {
   "cell_type": "code",
   "execution_count": 25,
   "metadata": {
    "ExecuteTime": {
     "end_time": "2022-03-25T16:05:38.813853Z",
     "start_time": "2022-03-25T16:05:38.751595Z"
    }
   },
   "outputs": [
    {
     "data": {
      "text/html": [
       "<div>\n",
       "<style scoped>\n",
       "    .dataframe tbody tr th:only-of-type {\n",
       "        vertical-align: middle;\n",
       "    }\n",
       "\n",
       "    .dataframe tbody tr th {\n",
       "        vertical-align: top;\n",
       "    }\n",
       "\n",
       "    .dataframe thead th {\n",
       "        text-align: right;\n",
       "    }\n",
       "</style>\n",
       "<table border=\"1\" class=\"dataframe\">\n",
       "  <thead>\n",
       "    <tr style=\"text-align: right;\">\n",
       "      <th></th>\n",
       "      <th>NAME_EDUCATION_TYPE_Higher education</th>\n",
       "      <th>NAME_EDUCATION_TYPE_Incomplete higher</th>\n",
       "      <th>NAME_EDUCATION_TYPE_Lower secondary</th>\n",
       "      <th>NAME_EDUCATION_TYPE_Secondary / secondary special</th>\n",
       "      <th>NAME_INCOME_TYPE_Commercial associate</th>\n",
       "      <th>NAME_INCOME_TYPE_Maternity leave</th>\n",
       "      <th>NAME_INCOME_TYPE_Pensioner</th>\n",
       "      <th>NAME_INCOME_TYPE_State servant</th>\n",
       "      <th>NAME_INCOME_TYPE_Student</th>\n",
       "      <th>NAME_INCOME_TYPE_Unemployed</th>\n",
       "      <th>NAME_INCOME_TYPE_Working</th>\n",
       "      <th>CODE_GENDER_M</th>\n",
       "      <th>FLAG_OWN_REALTY_Y</th>\n",
       "    </tr>\n",
       "  </thead>\n",
       "  <tbody>\n",
       "    <tr>\n",
       "      <th>39451</th>\n",
       "      <td>0</td>\n",
       "      <td>0</td>\n",
       "      <td>0</td>\n",
       "      <td>1</td>\n",
       "      <td>0</td>\n",
       "      <td>0</td>\n",
       "      <td>1</td>\n",
       "      <td>0</td>\n",
       "      <td>0</td>\n",
       "      <td>0</td>\n",
       "      <td>0</td>\n",
       "      <td>0</td>\n",
       "      <td>1</td>\n",
       "    </tr>\n",
       "    <tr>\n",
       "      <th>80296</th>\n",
       "      <td>1</td>\n",
       "      <td>0</td>\n",
       "      <td>0</td>\n",
       "      <td>0</td>\n",
       "      <td>1</td>\n",
       "      <td>0</td>\n",
       "      <td>0</td>\n",
       "      <td>0</td>\n",
       "      <td>0</td>\n",
       "      <td>0</td>\n",
       "      <td>0</td>\n",
       "      <td>1</td>\n",
       "      <td>1</td>\n",
       "    </tr>\n",
       "    <tr>\n",
       "      <th>34978</th>\n",
       "      <td>0</td>\n",
       "      <td>0</td>\n",
       "      <td>0</td>\n",
       "      <td>1</td>\n",
       "      <td>0</td>\n",
       "      <td>0</td>\n",
       "      <td>0</td>\n",
       "      <td>1</td>\n",
       "      <td>0</td>\n",
       "      <td>0</td>\n",
       "      <td>0</td>\n",
       "      <td>0</td>\n",
       "      <td>1</td>\n",
       "    </tr>\n",
       "    <tr>\n",
       "      <th>214576</th>\n",
       "      <td>0</td>\n",
       "      <td>0</td>\n",
       "      <td>0</td>\n",
       "      <td>1</td>\n",
       "      <td>0</td>\n",
       "      <td>0</td>\n",
       "      <td>0</td>\n",
       "      <td>0</td>\n",
       "      <td>0</td>\n",
       "      <td>0</td>\n",
       "      <td>1</td>\n",
       "      <td>1</td>\n",
       "      <td>0</td>\n",
       "    </tr>\n",
       "    <tr>\n",
       "      <th>169952</th>\n",
       "      <td>0</td>\n",
       "      <td>0</td>\n",
       "      <td>0</td>\n",
       "      <td>1</td>\n",
       "      <td>0</td>\n",
       "      <td>0</td>\n",
       "      <td>0</td>\n",
       "      <td>0</td>\n",
       "      <td>0</td>\n",
       "      <td>0</td>\n",
       "      <td>1</td>\n",
       "      <td>1</td>\n",
       "      <td>0</td>\n",
       "    </tr>\n",
       "  </tbody>\n",
       "</table>\n",
       "</div>"
      ],
      "text/plain": [
       "        NAME_EDUCATION_TYPE_Higher education  \\\n",
       "39451                                      0   \n",
       "80296                                      1   \n",
       "34978                                      0   \n",
       "214576                                     0   \n",
       "169952                                     0   \n",
       "\n",
       "        NAME_EDUCATION_TYPE_Incomplete higher  \\\n",
       "39451                                       0   \n",
       "80296                                       0   \n",
       "34978                                       0   \n",
       "214576                                      0   \n",
       "169952                                      0   \n",
       "\n",
       "        NAME_EDUCATION_TYPE_Lower secondary  \\\n",
       "39451                                     0   \n",
       "80296                                     0   \n",
       "34978                                     0   \n",
       "214576                                    0   \n",
       "169952                                    0   \n",
       "\n",
       "        NAME_EDUCATION_TYPE_Secondary / secondary special  \\\n",
       "39451                                                   1   \n",
       "80296                                                   0   \n",
       "34978                                                   1   \n",
       "214576                                                  1   \n",
       "169952                                                  1   \n",
       "\n",
       "        NAME_INCOME_TYPE_Commercial associate  \\\n",
       "39451                                       0   \n",
       "80296                                       1   \n",
       "34978                                       0   \n",
       "214576                                      0   \n",
       "169952                                      0   \n",
       "\n",
       "        NAME_INCOME_TYPE_Maternity leave  NAME_INCOME_TYPE_Pensioner  \\\n",
       "39451                                  0                           1   \n",
       "80296                                  0                           0   \n",
       "34978                                  0                           0   \n",
       "214576                                 0                           0   \n",
       "169952                                 0                           0   \n",
       "\n",
       "        NAME_INCOME_TYPE_State servant  NAME_INCOME_TYPE_Student  \\\n",
       "39451                                0                         0   \n",
       "80296                                0                         0   \n",
       "34978                                1                         0   \n",
       "214576                               0                         0   \n",
       "169952                               0                         0   \n",
       "\n",
       "        NAME_INCOME_TYPE_Unemployed  NAME_INCOME_TYPE_Working  CODE_GENDER_M  \\\n",
       "39451                             0                         0              0   \n",
       "80296                             0                         0              1   \n",
       "34978                             0                         0              0   \n",
       "214576                            0                         1              1   \n",
       "169952                            0                         1              1   \n",
       "\n",
       "        FLAG_OWN_REALTY_Y  \n",
       "39451                   1  \n",
       "80296                   1  \n",
       "34978                   1  \n",
       "214576                  0  \n",
       "169952                  0  "
      ]
     },
     "execution_count": 25,
     "metadata": {},
     "output_type": "execute_result"
    }
   ],
   "source": [
    "# copy categoricals\n",
    "cat_dummies = categoricals.copy()\n",
    "\n",
    "# get dummies for categoricals from cat_dummies\n",
    "cat_dummies = pd.get_dummies(cat_dummies, drop_first=True)\n",
    "\n",
    "cat_dummies.head()"
   ]
  },
  {
   "cell_type": "code",
   "execution_count": 26,
   "metadata": {
    "ExecuteTime": {
     "end_time": "2022-03-25T16:05:38.823348Z",
     "start_time": "2022-03-25T16:05:38.816746Z"
    },
    "scrolled": true
   },
   "outputs": [
    {
     "name": "stdout",
     "output_type": "stream",
     "text": [
      "(64825, 13)\n"
     ]
    }
   ],
   "source": [
    "# print shape - column, row attributes\n",
    "print(cat_dummies.shape)"
   ]
  },
  {
   "cell_type": "markdown",
   "metadata": {},
   "source": [
    "## Remove Outliers"
   ]
  },
  {
   "cell_type": "code",
   "execution_count": 27,
   "metadata": {
    "ExecuteTime": {
     "end_time": "2022-03-25T16:05:38.867228Z",
     "start_time": "2022-03-25T16:05:38.826344Z"
    }
   },
   "outputs": [
    {
     "data": {
      "text/html": [
       "<div>\n",
       "<style scoped>\n",
       "    .dataframe tbody tr th:only-of-type {\n",
       "        vertical-align: middle;\n",
       "    }\n",
       "\n",
       "    .dataframe tbody tr th {\n",
       "        vertical-align: top;\n",
       "    }\n",
       "\n",
       "    .dataframe thead th {\n",
       "        text-align: right;\n",
       "    }\n",
       "</style>\n",
       "<table border=\"1\" class=\"dataframe\">\n",
       "  <thead>\n",
       "    <tr style=\"text-align: right;\">\n",
       "      <th></th>\n",
       "      <th>TARGET</th>\n",
       "      <th>CNT_CHILDREN</th>\n",
       "      <th>AMT_INCOME_TOTAL</th>\n",
       "      <th>AMT_CREDIT</th>\n",
       "      <th>AMT_ANNUITY</th>\n",
       "      <th>DAYS_EMPLOYED</th>\n",
       "      <th>CNT_FAM_MEMBERS</th>\n",
       "      <th>DAYS_BIRTH</th>\n",
       "      <th>AMT_GOODS_PRICE</th>\n",
       "      <th>REGION_RATING_CLIENT</th>\n",
       "      <th>...</th>\n",
       "      <th>NAME_EDUCATION_TYPE_Secondary / secondary special</th>\n",
       "      <th>NAME_INCOME_TYPE_Commercial associate</th>\n",
       "      <th>NAME_INCOME_TYPE_Maternity leave</th>\n",
       "      <th>NAME_INCOME_TYPE_Pensioner</th>\n",
       "      <th>NAME_INCOME_TYPE_State servant</th>\n",
       "      <th>NAME_INCOME_TYPE_Student</th>\n",
       "      <th>NAME_INCOME_TYPE_Unemployed</th>\n",
       "      <th>NAME_INCOME_TYPE_Working</th>\n",
       "      <th>CODE_GENDER_M</th>\n",
       "      <th>FLAG_OWN_REALTY_Y</th>\n",
       "    </tr>\n",
       "  </thead>\n",
       "  <tbody>\n",
       "    <tr>\n",
       "      <th>39451</th>\n",
       "      <td>0</td>\n",
       "      <td>0</td>\n",
       "      <td>270000.0</td>\n",
       "      <td>573408.0</td>\n",
       "      <td>29407.5</td>\n",
       "      <td>365243</td>\n",
       "      <td>2.0</td>\n",
       "      <td>-21939</td>\n",
       "      <td>495000.0</td>\n",
       "      <td>1</td>\n",
       "      <td>...</td>\n",
       "      <td>1</td>\n",
       "      <td>0</td>\n",
       "      <td>0</td>\n",
       "      <td>1</td>\n",
       "      <td>0</td>\n",
       "      <td>0</td>\n",
       "      <td>0</td>\n",
       "      <td>0</td>\n",
       "      <td>0</td>\n",
       "      <td>1</td>\n",
       "    </tr>\n",
       "    <tr>\n",
       "      <th>80296</th>\n",
       "      <td>0</td>\n",
       "      <td>1</td>\n",
       "      <td>90000.0</td>\n",
       "      <td>225000.0</td>\n",
       "      <td>10039.5</td>\n",
       "      <td>-213</td>\n",
       "      <td>3.0</td>\n",
       "      <td>-10613</td>\n",
       "      <td>225000.0</td>\n",
       "      <td>2</td>\n",
       "      <td>...</td>\n",
       "      <td>0</td>\n",
       "      <td>1</td>\n",
       "      <td>0</td>\n",
       "      <td>0</td>\n",
       "      <td>0</td>\n",
       "      <td>0</td>\n",
       "      <td>0</td>\n",
       "      <td>0</td>\n",
       "      <td>1</td>\n",
       "      <td>1</td>\n",
       "    </tr>\n",
       "    <tr>\n",
       "      <th>34978</th>\n",
       "      <td>0</td>\n",
       "      <td>1</td>\n",
       "      <td>180000.0</td>\n",
       "      <td>715095.0</td>\n",
       "      <td>48109.5</td>\n",
       "      <td>-6642</td>\n",
       "      <td>3.0</td>\n",
       "      <td>-17505</td>\n",
       "      <td>675000.0</td>\n",
       "      <td>2</td>\n",
       "      <td>...</td>\n",
       "      <td>1</td>\n",
       "      <td>0</td>\n",
       "      <td>0</td>\n",
       "      <td>0</td>\n",
       "      <td>1</td>\n",
       "      <td>0</td>\n",
       "      <td>0</td>\n",
       "      <td>0</td>\n",
       "      <td>0</td>\n",
       "      <td>1</td>\n",
       "    </tr>\n",
       "    <tr>\n",
       "      <th>214576</th>\n",
       "      <td>0</td>\n",
       "      <td>0</td>\n",
       "      <td>247500.0</td>\n",
       "      <td>765000.0</td>\n",
       "      <td>22365.0</td>\n",
       "      <td>-3342</td>\n",
       "      <td>1.0</td>\n",
       "      <td>-13780</td>\n",
       "      <td>765000.0</td>\n",
       "      <td>2</td>\n",
       "      <td>...</td>\n",
       "      <td>1</td>\n",
       "      <td>0</td>\n",
       "      <td>0</td>\n",
       "      <td>0</td>\n",
       "      <td>0</td>\n",
       "      <td>0</td>\n",
       "      <td>0</td>\n",
       "      <td>1</td>\n",
       "      <td>1</td>\n",
       "      <td>0</td>\n",
       "    </tr>\n",
       "    <tr>\n",
       "      <th>169952</th>\n",
       "      <td>0</td>\n",
       "      <td>0</td>\n",
       "      <td>202500.0</td>\n",
       "      <td>528633.0</td>\n",
       "      <td>38817.0</td>\n",
       "      <td>-2551</td>\n",
       "      <td>2.0</td>\n",
       "      <td>-16880</td>\n",
       "      <td>472500.0</td>\n",
       "      <td>3</td>\n",
       "      <td>...</td>\n",
       "      <td>1</td>\n",
       "      <td>0</td>\n",
       "      <td>0</td>\n",
       "      <td>0</td>\n",
       "      <td>0</td>\n",
       "      <td>0</td>\n",
       "      <td>0</td>\n",
       "      <td>1</td>\n",
       "      <td>1</td>\n",
       "      <td>0</td>\n",
       "    </tr>\n",
       "  </tbody>\n",
       "</table>\n",
       "<p>5 rows × 23 columns</p>\n",
       "</div>"
      ],
      "text/plain": [
       "        TARGET  CNT_CHILDREN  AMT_INCOME_TOTAL  AMT_CREDIT  AMT_ANNUITY  \\\n",
       "39451        0             0          270000.0    573408.0      29407.5   \n",
       "80296        0             1           90000.0    225000.0      10039.5   \n",
       "34978        0             1          180000.0    715095.0      48109.5   \n",
       "214576       0             0          247500.0    765000.0      22365.0   \n",
       "169952       0             0          202500.0    528633.0      38817.0   \n",
       "\n",
       "        DAYS_EMPLOYED  CNT_FAM_MEMBERS  DAYS_BIRTH  AMT_GOODS_PRICE  \\\n",
       "39451          365243              2.0      -21939         495000.0   \n",
       "80296            -213              3.0      -10613         225000.0   \n",
       "34978           -6642              3.0      -17505         675000.0   \n",
       "214576          -3342              1.0      -13780         765000.0   \n",
       "169952          -2551              2.0      -16880         472500.0   \n",
       "\n",
       "        REGION_RATING_CLIENT  ...  \\\n",
       "39451                      1  ...   \n",
       "80296                      2  ...   \n",
       "34978                      2  ...   \n",
       "214576                     2  ...   \n",
       "169952                     3  ...   \n",
       "\n",
       "        NAME_EDUCATION_TYPE_Secondary / secondary special  \\\n",
       "39451                                                   1   \n",
       "80296                                                   0   \n",
       "34978                                                   1   \n",
       "214576                                                  1   \n",
       "169952                                                  1   \n",
       "\n",
       "        NAME_INCOME_TYPE_Commercial associate  \\\n",
       "39451                                       0   \n",
       "80296                                       1   \n",
       "34978                                       0   \n",
       "214576                                      0   \n",
       "169952                                      0   \n",
       "\n",
       "        NAME_INCOME_TYPE_Maternity leave  NAME_INCOME_TYPE_Pensioner  \\\n",
       "39451                                  0                           1   \n",
       "80296                                  0                           0   \n",
       "34978                                  0                           0   \n",
       "214576                                 0                           0   \n",
       "169952                                 0                           0   \n",
       "\n",
       "        NAME_INCOME_TYPE_State servant  NAME_INCOME_TYPE_Student  \\\n",
       "39451                                0                         0   \n",
       "80296                                0                         0   \n",
       "34978                                1                         0   \n",
       "214576                               0                         0   \n",
       "169952                               0                         0   \n",
       "\n",
       "        NAME_INCOME_TYPE_Unemployed  NAME_INCOME_TYPE_Working  CODE_GENDER_M  \\\n",
       "39451                             0                         0              0   \n",
       "80296                             0                         0              1   \n",
       "34978                             0                         0              0   \n",
       "214576                            0                         1              1   \n",
       "169952                            0                         1              1   \n",
       "\n",
       "        FLAG_OWN_REALTY_Y  \n",
       "39451                   1  \n",
       "80296                   1  \n",
       "34978                   1  \n",
       "214576                  0  \n",
       "169952                  0  \n",
       "\n",
       "[5 rows x 23 columns]"
      ]
     },
     "execution_count": 27,
     "metadata": {},
     "output_type": "execute_result"
    }
   ],
   "source": [
    "# concatenate cat_dummies and numericals\n",
    "\n",
    "df3 = pd.concat([numericals, \n",
    "                 cat_dummies], axis=1)\n",
    "df3.head()"
   ]
  },
  {
   "cell_type": "code",
   "execution_count": 28,
   "metadata": {
    "ExecuteTime": {
     "end_time": "2022-03-25T16:05:38.882467Z",
     "start_time": "2022-03-25T16:05:38.869928Z"
    }
   },
   "outputs": [
    {
     "data": {
      "text/plain": [
       "0     44552\n",
       "1     13499\n",
       "2      5809\n",
       "3       810\n",
       "4       119\n",
       "5        22\n",
       "6        10\n",
       "9         2\n",
       "11        1\n",
       "7         1\n",
       "Name: CNT_CHILDREN, dtype: int64"
      ]
     },
     "execution_count": 28,
     "metadata": {},
     "output_type": "execute_result"
    }
   ],
   "source": [
    "# out of curiosity - wondering how many children people who are applying\n",
    "# for house loans have. I have 2.\n",
    "df3['CNT_CHILDREN'].value_counts()"
   ]
  },
  {
   "cell_type": "code",
   "execution_count": 29,
   "metadata": {
    "ExecuteTime": {
     "end_time": "2022-03-25T16:05:38.978917Z",
     "start_time": "2022-03-25T16:05:38.892112Z"
    },
    "scrolled": true
   },
   "outputs": [
    {
     "name": "stdout",
     "output_type": "stream",
     "text": [
      "Upper Quantile: TARGET                        1.000\n",
      "CNT_CHILDREN                  4.000\n",
      "AMT_INCOME_TOTAL         827190.000\n",
      "AMT_CREDIT              2254500.000\n",
      "AMT_ANNUITY               98227.260\n",
      "DAYS_EMPLOYED            365243.000\n",
      "CNT_FAM_MEMBERS               6.000\n",
      "DAYS_BIRTH                -7789.236\n",
      "AMT_GOODS_PRICE         2250000.000\n",
      "REGION_RATING_CLIENT          3.000\n",
      "Name: 0.9985, dtype: float64\n",
      "\n",
      "Lower Quantile: TARGET                      0.000\n",
      "CNT_CHILDREN                0.000\n",
      "AMT_INCOME_TOTAL        36000.000\n",
      "AMT_CREDIT              49752.000\n",
      "AMT_ANNUITY              4420.062\n",
      "DAYS_EMPLOYED          -13491.876\n",
      "CNT_FAM_MEMBERS             1.000\n",
      "DAYS_BIRTH             -24912.056\n",
      "AMT_GOODS_PRICE         45000.000\n",
      "REGION_RATING_CLIENT        1.000\n",
      "Name: 0.0015, dtype: float64\n"
     ]
    }
   ],
   "source": [
    "# examine outliers from AMT_INCOME_TOTAL\n",
    "\n",
    "num2 = numericals.copy()\n",
    "print('Upper Quantile:',num2.quantile(q=.9985))\n",
    "print()\n",
    "print('Lower Quantile:',num2.quantile(q=.0015))"
   ]
  },
  {
   "cell_type": "code",
   "execution_count": 30,
   "metadata": {
    "ExecuteTime": {
     "end_time": "2022-03-25T16:05:39.346825Z",
     "start_time": "2022-03-25T16:05:38.984656Z"
    },
    "scrolled": false
   },
   "outputs": [
    {
     "data": {
      "text/plain": [
       "<AxesSubplot:>"
      ]
     },
     "execution_count": 30,
     "metadata": {},
     "output_type": "execute_result"
    },
    {
     "data": {
      "image/png": "[encoded data removed]",
      "text/plain": [
       "<Figure size 432x288 with 1 Axes>"
      ]
     },
     "metadata": {
      "needs_background": "light"
     },
     "output_type": "display_data"
    }
   ],
   "source": [
    "# Visualizing histogram with outliers for 'AMT_INCOME_TOTAL'\n",
    "df3['AMT_INCOME_TOTAL'].hist(bins=25)"
   ]
  },
  {
   "cell_type": "code",
   "execution_count": 31,
   "metadata": {
    "ExecuteTime": {
     "end_time": "2022-03-25T16:05:40.327507Z",
     "start_time": "2022-03-25T16:05:39.352142Z"
    },
    "scrolled": true
   },
   "outputs": [
    {
     "data": {
      "text/plain": [
       "<AxesSubplot:>"
      ]
     },
     "execution_count": 31,
     "metadata": {},
     "output_type": "execute_result"
    },
    {
     "data": {
      "image/png": "[encoded data removed]",
      "text/plain": [
       "<Figure size 432x288 with 1 Axes>"
      ]
     },
     "metadata": {
      "needs_background": "light"
     },
     "output_type": "display_data"
    }
   ],
   "source": [
    "df3 = df3[(\n",
    "    df3['AMT_INCOME_TOTAL'] > 35656.2) & (\n",
    "    df3['AMT_INCOME_TOTAL'] < 810000)]\n",
    "\n",
    "df3['AMT_INCOME_TOTAL'].hist(bins=25)"
   ]
  },
  {
   "cell_type": "markdown",
   "metadata": {},
   "source": [
    "### Removing outliers Summary\n",
    "* Removing outliers for AMT_INCOME_TOTAL seemed to help normalize the distribution, but further normalization will be required to reduce the differences in magnitude between the features."
   ]
  },
  {
   "cell_type": "markdown",
   "metadata": {},
   "source": [
    "# Baseline Model - Logistic Regression"
   ]
  },
  {
   "cell_type": "code",
   "execution_count": 32,
   "metadata": {
    "ExecuteTime": {
     "end_time": "2022-03-25T16:05:40.354302Z",
     "start_time": "2022-03-25T16:05:40.330274Z"
    }
   },
   "outputs": [
    {
     "data": {
      "text/plain": [
       "TARGET                                               0\n",
       "CNT_CHILDREN                                         0\n",
       "AMT_INCOME_TOTAL                                     0\n",
       "AMT_CREDIT                                           0\n",
       "AMT_ANNUITY                                          0\n",
       "DAYS_EMPLOYED                                        0\n",
       "CNT_FAM_MEMBERS                                      0\n",
       "DAYS_BIRTH                                           0\n",
       "AMT_GOODS_PRICE                                      0\n",
       "REGION_RATING_CLIENT                                 0\n",
       "NAME_EDUCATION_TYPE_Higher education                 0\n",
       "NAME_EDUCATION_TYPE_Incomplete higher                0\n",
       "NAME_EDUCATION_TYPE_Lower secondary                  0\n",
       "NAME_EDUCATION_TYPE_Secondary / secondary special    0\n",
       "NAME_INCOME_TYPE_Commercial associate                0\n",
       "NAME_INCOME_TYPE_Maternity leave                     0\n",
       "NAME_INCOME_TYPE_Pensioner                           0\n",
       "NAME_INCOME_TYPE_State servant                       0\n",
       "NAME_INCOME_TYPE_Student                             0\n",
       "NAME_INCOME_TYPE_Unemployed                          0\n",
       "NAME_INCOME_TYPE_Working                             0\n",
       "CODE_GENDER_M                                        0\n",
       "FLAG_OWN_REALTY_Y                                    0\n",
       "dtype: int64"
      ]
     },
     "execution_count": 32,
     "metadata": {},
     "output_type": "execute_result"
    }
   ],
   "source": [
    "df3.isnull().sum()"
   ]
  },
  {
   "cell_type": "code",
   "execution_count": 33,
   "metadata": {
    "ExecuteTime": {
     "end_time": "2022-03-25T16:05:40.434144Z",
     "start_time": "2022-03-25T16:05:40.357632Z"
    }
   },
   "outputs": [
    {
     "name": "stdout",
     "output_type": "stream",
     "text": [
      "0    29901\n",
      "1    18571\n",
      "Name: TARGET, dtype: int64 \n",
      "\n",
      " 0    9967\n",
      "1    6191\n",
      "Name: TARGET, dtype: int64\n"
     ]
    }
   ],
   "source": [
    "# Define X and y\n",
    "y = df3['TARGET']\n",
    "X = df3.drop('TARGET', axis=1)\n",
    "\n",
    "# Perform train-test split with random_state=42 and stratify=y\n",
    "X_train, X_test, y_train, y_test = train_test_split(X, y, random_state=42, stratify=y)\n",
    "print(y_train.value_counts(),'\\n\\n', y_test.value_counts())"
   ]
  },
  {
   "cell_type": "markdown",
   "metadata": {},
   "source": [
    "## Rate of loan approval for train and test sets.\n",
    "* Should be very similar rating"
   ]
  },
  {
   "cell_type": "code",
   "execution_count": 34,
   "metadata": {
    "ExecuteTime": {
     "end_time": "2022-03-25T16:05:40.451615Z",
     "start_time": "2022-03-25T16:05:40.436525Z"
    }
   },
   "outputs": [
    {
     "name": "stdout",
     "output_type": "stream",
     "text": [
      "Train percent approval: 0.38312840402706716\n",
      "Test percent approval:  0.3831538556752073\n"
     ]
    }
   ],
   "source": [
    "# percent value counts\n",
    "print(\"Train percent approval:\", y_train.value_counts(normalize=True)[1])\n",
    "print(\"Test percent approval: \", y_test.value_counts(normalize=True)[1])"
   ]
  },
  {
   "cell_type": "markdown",
   "metadata": {},
   "source": [
    "## Fit a model\n",
    "* Instantiate LogisticRegression using:\n",
    "    * 'liblinear' solver\n",
    "    * No intercept\n",
    "    * High value for C"
   ]
  },
  {
   "cell_type": "code",
   "execution_count": 35,
   "metadata": {
    "ExecuteTime": {
     "end_time": "2022-03-25T16:05:40.949274Z",
     "start_time": "2022-03-25T16:05:40.454709Z"
    }
   },
   "outputs": [
    {
     "data": {
      "text/plain": [
       "LogisticRegression(C=1000000000000.0, fit_intercept=False, solver='liblinear')"
      ]
     },
     "execution_count": 35,
     "metadata": {},
     "output_type": "execute_result"
    }
   ],
   "source": [
    "# Instantiate the model\n",
    "logreg = LogisticRegression(fit_intercept=False, C=1e12, solver='liblinear')\n",
    "\n",
    "# Fit the model\n",
    "logreg.fit(X_train, y_train)"
   ]
  },
  {
   "cell_type": "code",
   "execution_count": 36,
   "metadata": {
    "ExecuteTime": {
     "end_time": "2022-03-25T16:05:40.976961Z",
     "start_time": "2022-03-25T16:05:40.951944Z"
    }
   },
   "outputs": [],
   "source": [
    "# Generate predictions\n",
    "y_hat_train = logreg.predict(X_train)\n",
    "y_hat_test = logreg.predict(X_test)"
   ]
  },
  {
   "cell_type": "markdown",
   "metadata": {},
   "source": [
    "## Rate of correct predictions on the training set."
   ]
  },
  {
   "cell_type": "code",
   "execution_count": 37,
   "metadata": {
    "ExecuteTime": {
     "end_time": "2022-03-25T16:05:40.995530Z",
     "start_time": "2022-03-25T16:05:40.979782Z"
    }
   },
   "outputs": [
    {
     "name": "stdout",
     "output_type": "stream",
     "text": [
      "0    30123\n",
      "1    18349\n",
      "Name: TARGET, dtype: int64\n",
      "------------------------------------\n",
      "0    0.621452\n",
      "1    0.378548\n",
      "Name: TARGET, dtype: float64\n"
     ]
    }
   ],
   "source": [
    "# Subtract the two columns. If values are equal, difference will be zero. Then count number of zeros.\n",
    "residuals = np.abs(y_train - y_hat_train)\n",
    "print(pd.Series(residuals).value_counts())\n",
    "print('------------------------------------')\n",
    "print(pd.Series(residuals).value_counts(normalize=True))\n",
    "# 62% accuracy"
   ]
  },
  {
   "cell_type": "markdown",
   "metadata": {},
   "source": [
    "## Rate of correct predictions on the test set."
   ]
  },
  {
   "cell_type": "code",
   "execution_count": 38,
   "metadata": {
    "ExecuteTime": {
     "end_time": "2022-03-25T16:05:41.016157Z",
     "start_time": "2022-03-25T16:05:41.000160Z"
    }
   },
   "outputs": [
    {
     "name": "stdout",
     "output_type": "stream",
     "text": [
      "0    10065\n",
      "1     6093\n",
      "Name: TARGET, dtype: int64\n",
      "------------------------------------\n",
      "0    0.622911\n",
      "1    0.377089\n",
      "Name: TARGET, dtype: float64\n"
     ]
    }
   ],
   "source": [
    "# Subtract the two columns. If values or equal, difference will be zero. Then count number of zeros.\n",
    "residuals = np.abs(y_test - y_hat_test)\n",
    "print(pd.Series(residuals).value_counts())\n",
    "print('------------------------------------')\n",
    "print(pd.Series(residuals).value_counts(normalize=True))\n",
    "# 62% accuracy"
   ]
  },
  {
   "cell_type": "code",
   "execution_count": 39,
   "metadata": {
    "ExecuteTime": {
     "end_time": "2022-03-25T16:05:41.040034Z",
     "start_time": "2022-03-25T16:05:41.019889Z"
    }
   },
   "outputs": [
    {
     "data": {
      "text/plain": [
       "0    39868\n",
       "1    24762\n",
       "Name: TARGET, dtype: int64"
      ]
     },
     "execution_count": 39,
     "metadata": {},
     "output_type": "execute_result"
    }
   ],
   "source": [
    "df3['TARGET'].value_counts()"
   ]
  },
  {
   "cell_type": "code",
   "execution_count": 40,
   "metadata": {
    "ExecuteTime": {
     "end_time": "2022-03-25T16:05:41.132798Z",
     "start_time": "2022-03-25T16:05:41.045860Z"
    }
   },
   "outputs": [
    {
     "name": "stdout",
     "output_type": "stream",
     "text": [
      "[[9666 5792]\n",
      " [ 301  399]]\n"
     ]
    }
   ],
   "source": [
    "test_predictions = (y_hat_test >= 0.5).astype('int')\n",
    "\n",
    "cnf_matrix = confusion_matrix(test_predictions, y_test)\n",
    "\n",
    "print(cnf_matrix)"
   ]
  },
  {
   "cell_type": "markdown",
   "metadata": {},
   "source": [
    "## Analysis of Baseline:\n",
    "* Not a great model if it is able to guess correctly 62% of the time.\n",
    "    * Huge issue with proportion of False Negatives\n",
    "* Will look to improve this model by:\n",
    "    * adding an intercept\n",
    "    * altering the regularization parameters"
   ]
  },
  {
   "cell_type": "markdown",
   "metadata": {},
   "source": [
    "# Second Model - improved Logistic Regression\n",
    "\n"
   ]
  },
  {
   "cell_type": "markdown",
   "metadata": {},
   "source": [
    "## Add an intercept\n",
    "* Regularization parameter (C) kept at a high number"
   ]
  },
  {
   "cell_type": "code",
   "execution_count": 41,
   "metadata": {
    "ExecuteTime": {
     "end_time": "2022-03-25T16:05:41.988230Z",
     "start_time": "2022-03-25T16:05:41.145777Z"
    }
   },
   "outputs": [
    {
     "data": {
      "text/plain": [
       "LogisticRegression(C=1e+16, solver='liblinear')"
      ]
     },
     "execution_count": 41,
     "metadata": {},
     "output_type": "execute_result"
    }
   ],
   "source": [
    "# Create new model\n",
    "logregi = LogisticRegression(fit_intercept=True, C=1e16, solver='liblinear')\n",
    "logregi.fit(X_train, y_train)"
   ]
  },
  {
   "cell_type": "code",
   "execution_count": 42,
   "metadata": {
    "ExecuteTime": {
     "end_time": "2022-03-25T16:05:42.004844Z",
     "start_time": "2022-03-25T16:05:41.993450Z"
    }
   },
   "outputs": [
    {
     "data": {
      "text/plain": [
       "LogisticRegression(C=1e+16, multi_class='warn', solver='liblinear')"
      ]
     },
     "execution_count": 42,
     "metadata": {},
     "output_type": "execute_result"
    }
   ],
   "source": [
    "LogisticRegression(C=1e+16, class_weight=None, dual=False, fit_intercept=True,\n",
    "                   intercept_scaling=1, l1_ratio=None, max_iter=100,\n",
    "                   multi_class='warn', n_jobs=None, penalty='l2',\n",
    "                   random_state=None, solver='liblinear', tol=0.0001, verbose=0,\n",
    "                   warm_start=False)"
   ]
  },
  {
   "cell_type": "code",
   "execution_count": 43,
   "metadata": {
    "ExecuteTime": {
     "end_time": "2022-03-25T16:05:43.181861Z",
     "start_time": "2022-03-25T16:05:42.009820Z"
    }
   },
   "outputs": [
    {
     "name": "stdout",
     "output_type": "stream",
     "text": [
      "Scikit-learn Model 2 with intercept Test AUC: 0.6124242466623462\n",
      "Scikit-learn Model 2 with intercept Train AUC: 0.611494585696599\n"
     ]
    },
    {
     "data": {
      "image/png": "[encoded data removed]",
      "text/plain": [
       "<Figure size 432x288 with 1 Axes>"
      ]
     },
     "metadata": {
      "needs_background": "light"
     },
     "output_type": "display_data"
    }
   ],
   "source": [
    "# Second model plots\n",
    "y_test_score = logregi.decision_function(X_test)\n",
    "y_train_score = logregi.decision_function(X_train)\n",
    "\n",
    "test_fpr, test_tpr, test_thresholds = roc_curve(y_test, y_test_score)\n",
    "train_fpr, train_tpr, train_thresholds = roc_curve(y_train, y_train_score)\n",
    "\n",
    "print('Scikit-learn Model 2 with intercept Test AUC: {}'.format(auc(test_fpr, test_tpr)))\n",
    "print('Scikit-learn Model 2 with intercept Train AUC: {}'.format(auc(train_fpr, train_tpr)))\n",
    "\n",
    "\n",
    "plt.plot(test_fpr, test_tpr, color='purple',\n",
    "          label='Scikit learn Model 2 with intercept Test ROC curve')\n",
    "plt.plot(train_fpr, train_tpr, color='red',\n",
    "         label='Scikit learn Model 2 with intercept Train ROC curve')\n",
    "\n",
    "# Formatting\n",
    "plt.plot([0, 1], [0, 1], color='navy', linestyle='--')\n",
    "plt.xlim([0.0, 1.0])\n",
    "plt.ylim([0.0, 1.05])\n",
    "plt.yticks([i/20.0 for i in range(21)])\n",
    "plt.xticks([i/20.0 for i in range(21)])\n",
    "plt.xlabel('False Positive Rate')\n",
    "plt.ylabel('True Positive Rate')\n",
    "plt.title('Receiver operating characteristic (ROC) Curve')\n",
    "plt.legend(loc=\"lower right\")\n",
    "plt.show()"
   ]
  },
  {
   "cell_type": "markdown",
   "metadata": {},
   "source": [
    "## Add the regularization parameter"
   ]
  },
  {
   "cell_type": "code",
   "execution_count": 44,
   "metadata": {
    "ExecuteTime": {
     "end_time": "2022-03-25T16:05:50.476172Z",
     "start_time": "2022-03-25T16:05:43.185031Z"
    }
   },
   "outputs": [
    {
     "data": {
      "image/png": "[encoded data removed]",
      "text/plain": [
       "<Figure size 1080x1080 with 8 Axes>"
      ]
     },
     "metadata": {
      "needs_background": "light"
     },
     "output_type": "display_data"
    }
   ],
   "source": [
    "fig, axes = plt.subplots(4,2, figsize=(15, 15))\n",
    "for n in range(8):\n",
    "    i = n%4\n",
    "    j = n//4\n",
    "    ax = axes[i, j]\n",
    "    # Fit a model\n",
    "    logreg = LogisticRegression(fit_intercept=True, C=1.5**(n), solver='liblinear')\n",
    "    logreg.fit(X_train, y_train)\n",
    "    \n",
    "    y_test_score = logreg.decision_function(X_test)\n",
    "    y_train_score = logreg.decision_function(X_train)\n",
    "\n",
    "    test_fpr, test_tpr, test_thresholds = roc_curve(y_test, y_test_score)\n",
    "    train_fpr, train_tpr, train_thresholds = roc_curve(y_train, y_train_score)\n",
    "    \n",
    "    test_auc = auc(test_fpr, test_tpr)\n",
    "    train_auc = auc(train_fpr, train_tpr)\n",
    "    auc_diff = round(train_auc - test_auc, 4)\n",
    "\n",
    "#     print('Test AUC with C=1.5^{}: {}'.format(n*2, auc(test_fpr, test_tpr)))\n",
    "#     print('Train AUCwith C=1.5^{}: {}'.format(n*2, auc(train_fpr, train_tpr)))\n",
    "    # Add the plot\n",
    "    ax.plot(test_fpr, test_tpr, color='darkorange',\n",
    "          label='Test ROC curve')\n",
    "    ax.plot(train_fpr, train_tpr, color='blue',\n",
    "              label='Train ROC curve')\n",
    "    \n",
    "    ax.set_title('Regularization Parameter set to: 1.5^{}\\nDifference in Test/Train AUC: {}'.format(n, auc_diff))\n"
   ]
  },
  {
   "cell_type": "markdown",
   "metadata": {},
   "source": [
    "## Analysis of Second Model:\n",
    "* A somewhat worse model than the baseline, which wasn't a good model.\n",
    "    * Still a huge issue with proportion of False Negatives\n",
    "* Will look to improve this model by:\n",
    "    * using cross-validation and strati-k-fold"
   ]
  },
  {
   "cell_type": "markdown",
   "metadata": {},
   "source": [
    "# Third Model - final Logistic Regression"
   ]
  },
  {
   "cell_type": "code",
   "execution_count": 45,
   "metadata": {
    "ExecuteTime": {
     "end_time": "2022-03-25T16:05:53.071239Z",
     "start_time": "2022-03-25T16:05:50.479978Z"
    }
   },
   "outputs": [
    {
     "data": {
      "text/plain": [
       "0.6495208796383918"
      ]
     },
     "execution_count": 45,
     "metadata": {},
     "output_type": "execute_result"
    }
   ],
   "source": [
    "# Instantiate a LogisticRegression with random_state=42\n",
    "baseline_model = LogisticRegression(random_state=42)\n",
    "\n",
    "# Use cross_val_score with scoring=\"neg_log_loss\" to evaluate the model\n",
    "# on X_train and y_train\n",
    "baseline_neg_log_loss_cv = cross_val_score(baseline_model, X_train, y_train, scoring=\"neg_log_loss\")\n",
    "\n",
    "baseline_log_loss = -(baseline_neg_log_loss_cv.mean())\n",
    "baseline_log_loss"
   ]
  },
  {
   "cell_type": "markdown",
   "metadata": {},
   "source": [
    "## Log loss reference \n",
    "* Log loss for a model that guessed 0 every time should have a higher log loss than our predictive model."
   ]
  },
  {
   "cell_type": "code",
   "execution_count": 46,
   "metadata": {
    "ExecuteTime": {
     "end_time": "2022-03-25T16:05:53.100928Z",
     "start_time": "2022-03-25T16:05:53.073963Z"
    }
   },
   "outputs": [
    {
     "data": {
      "text/plain": [
       "13.232786277229868"
      ]
     },
     "execution_count": 46,
     "metadata": {},
     "output_type": "execute_result"
    }
   ],
   "source": [
    "# what would the log loss be for a model that guessed 0 every time?\n",
    "log_loss(y_train, np.zeros(len(y_train)))"
   ]
  },
  {
   "cell_type": "markdown",
   "metadata": {},
   "source": [
    "### Summary of log loss reference\n",
    "* Predictive model is much better than guessing 0 every time."
   ]
  },
  {
   "cell_type": "markdown",
   "metadata": {},
   "source": [
    "## StratifiedKFold implementation"
   ]
  },
  {
   "cell_type": "code",
   "execution_count": 47,
   "metadata": {
    "ExecuteTime": {
     "end_time": "2022-03-25T16:05:55.171569Z",
     "start_time": "2022-03-25T16:05:53.103822Z"
    }
   },
   "outputs": [
    {
     "data": {
      "text/plain": [
       "0.6495208796383918"
      ]
     },
     "execution_count": 47,
     "metadata": {},
     "output_type": "execute_result"
    }
   ],
   "source": [
    "# Negative log loss doesn't exist as something we can import,\n",
    "# but we can create it\n",
    "neg_log_loss = make_scorer(log_loss, greater_is_better=False, needs_proba=True)\n",
    "\n",
    "# Instantiate the model (same as previous example)\n",
    "baseline_model = LogisticRegression(random_state=42)\n",
    "\n",
    "# Create a list to hold the score from each fold\n",
    "kfold_scores = np.ndarray(5)\n",
    "\n",
    "# Instantiate a splitter object and loop over its result\n",
    "kfold = StratifiedKFold()\n",
    "for fold, (train_index, val_index) in enumerate(kfold.split(X_train, y_train)):\n",
    "    # Extract train and validation subsets using the provided indices\n",
    "    X_t, X_val = X_train.iloc[train_index], X_train.iloc[val_index]\n",
    "    y_t, y_val = y_train.iloc[train_index], y_train.iloc[val_index]\n",
    "    \n",
    "    # Clone the provided model and fit it on the train subset\n",
    "    temp_model = clone(baseline_model)\n",
    "    temp_model.fit(X_t, y_t)\n",
    "    \n",
    "    # Evaluate the provided model on the validation subset\n",
    "    neg_log_loss_score = neg_log_loss(temp_model, X_val, y_val)\n",
    "    kfold_scores[fold] = neg_log_loss_score\n",
    "    \n",
    "-(kfold_scores.mean())\n",
    "\n",
    "# same cross-val score as or"
   ]
  },
  {
   "cell_type": "code",
   "execution_count": 48,
   "metadata": {
    "ExecuteTime": {
     "end_time": "2022-03-25T16:05:55.189305Z",
     "start_time": "2022-03-25T16:05:55.175191Z"
    }
   },
   "outputs": [
    {
     "name": "stdout",
     "output_type": "stream",
     "text": [
      "[-0.65179106 -0.65085782 -0.64768242 -0.64783883 -0.64943427]\n",
      "[-0.65179106 -0.65085782 -0.64768242 -0.64783883 -0.64943427]\n"
     ]
    }
   ],
   "source": [
    "# check that scores are identical\n",
    "print(baseline_neg_log_loss_cv)\n",
    "print(kfold_scores)"
   ]
  },
  {
   "cell_type": "markdown",
   "metadata": {},
   "source": [
    "### StratifiedKFold allows implementation of StandardScaler\n",
    "* Won't use SMOTE as class imbalance issue resolved by taking random selection of loan rejections for 66.6/33.3 percent balance, compared to 85/15 prior balance."
   ]
  },
  {
   "cell_type": "code",
   "execution_count": 49,
   "metadata": {
    "ExecuteTime": {
     "end_time": "2022-03-25T16:05:58.803370Z",
     "start_time": "2022-03-25T16:05:55.197465Z"
    }
   },
   "outputs": [
    {
     "data": {
      "text/plain": [
       "0.7896969026262318"
      ]
     },
     "execution_count": 49,
     "metadata": {},
     "output_type": "execute_result"
    }
   ],
   "source": [
    "def custom_cross_val_score(estimator, X, y):\n",
    "    # Create a list to hold the scores from each fold\n",
    "    kfold_train_scores = np.ndarray(5)\n",
    "    kfold_val_scores = np.ndarray(5)\n",
    "\n",
    "    # Instantiate a splitter object and loop over its result\n",
    "    kfold = StratifiedKFold(n_splits=5)\n",
    "    for fold, (train_index, val_index) in enumerate(kfold.split(X, y)):\n",
    "        # Extract train and validation subsets using the provided indices\n",
    "        X_t, X_val = X.iloc[train_index], X.iloc[val_index]\n",
    "        y_t, y_val = y.iloc[train_index], y.iloc[val_index]\n",
    "        \n",
    "        # Instantiate StandardScaler\n",
    "        scaler = StandardScaler()\n",
    "        # Fit and transform X_t\n",
    "        X_t_scaled = scaler.fit_transform(X_t)\n",
    "        # Transform X_val\n",
    "        X_val_scaled = scaler.transform(X_val)\n",
    "        \n",
    "        # Instantiate SMOTE with random_state=42 and sampling_strategy=0.28\n",
    "        # sm = SMOTE(random_state=42, sampling_strategy=0.28)\n",
    "        # Fit and transform X_t_scaled and y_t using sm\n",
    "        # X_t_oversampled, y_t_oversampled = sm.fit_resample(X_t_scaled, y_t)\n",
    "        \n",
    "        # Clone the provided model and fit it on the train subset\n",
    "        temp_model = clone(estimator)\n",
    "        temp_model.fit(X_t_scaled, y_t)\n",
    "        \n",
    "        # Evaluate the provided model on the train and validation subsets\n",
    "        neg_log_loss_score_train = neg_log_loss(temp_model, X_t_scaled, y_t)\n",
    "        neg_log_loss_score_val = neg_log_loss(temp_model, X_val_scaled, y_val)\n",
    "        kfold_train_scores[fold] = neg_log_loss_score_train\n",
    "        kfold_val_scores[fold] = neg_log_loss_score_val\n",
    "        \n",
    "    return kfold_train_scores, kfold_val_scores\n",
    "\n",
    "model_with_preprocessing = LogisticRegression(random_state=42, class_weight={1: 0.28})\n",
    "preprocessed_train_scores, preprocessed_neg_log_loss_cv = custom_cross_val_score(model_with_preprocessing, X_train, y_train)\n",
    "- (preprocessed_neg_log_loss_cv.mean())"
   ]
  },
  {
   "cell_type": "markdown",
   "metadata": {},
   "source": [
    "### Score for log loss increases\n",
    "* Model with manual StandardScaler implementation is worse."
   ]
  },
  {
   "cell_type": "code",
   "execution_count": 50,
   "metadata": {
    "ExecuteTime": {
     "end_time": "2022-03-25T16:05:58.818394Z",
     "start_time": "2022-03-25T16:05:58.806117Z"
    }
   },
   "outputs": [
    {
     "name": "stdout",
     "output_type": "stream",
     "text": [
      "0.6495208796383918\n",
      "0.7896969026262318\n"
     ]
    }
   ],
   "source": [
    "# Score improvement with StandardScaler?\n",
    "print(-baseline_neg_log_loss_cv.mean())\n",
    "print(-preprocessed_neg_log_loss_cv.mean())"
   ]
  },
  {
   "cell_type": "markdown",
   "metadata": {},
   "source": [
    "### Overfitting?\n",
    "* No - Train and Validations scores are very similar."
   ]
  },
  {
   "cell_type": "code",
   "execution_count": 51,
   "metadata": {
    "ExecuteTime": {
     "end_time": "2022-03-25T16:05:58.836885Z",
     "start_time": "2022-03-25T16:05:58.823681Z"
    }
   },
   "outputs": [
    {
     "name": "stdout",
     "output_type": "stream",
     "text": [
      "Train:      [0.78898594 0.78922173 0.79008667 0.78835531 0.78842475]\n",
      "Validation: [0.78889042 0.78846489 0.78502682 0.79236065 0.79374173]\n"
     ]
    }
   ],
   "source": [
    "print(\"Train:     \", -preprocessed_train_scores)\n",
    "print(\"Validation:\", -preprocessed_neg_log_loss_cv)"
   ]
  },
  {
   "cell_type": "markdown",
   "metadata": {},
   "source": [
    "### Parameters\n",
    "* Is the Regularization too high leading to under-fitting?"
   ]
  },
  {
   "cell_type": "code",
   "execution_count": 52,
   "metadata": {
    "ExecuteTime": {
     "end_time": "2022-03-25T16:05:58.862526Z",
     "start_time": "2022-03-25T16:05:58.841801Z"
    }
   },
   "outputs": [
    {
     "data": {
      "text/plain": [
       "{'C': 1.0,\n",
       " 'class_weight': {1: 0.28},\n",
       " 'dual': False,\n",
       " 'fit_intercept': True,\n",
       " 'intercept_scaling': 1,\n",
       " 'l1_ratio': None,\n",
       " 'max_iter': 100,\n",
       " 'multi_class': 'auto',\n",
       " 'n_jobs': None,\n",
       " 'penalty': 'l2',\n",
       " 'random_state': 42,\n",
       " 'solver': 'lbfgs',\n",
       " 'tol': 0.0001,\n",
       " 'verbose': 0,\n",
       " 'warm_start': False}"
      ]
     },
     "execution_count": 52,
     "metadata": {},
     "output_type": "execute_result"
    }
   ],
   "source": [
    "# Print parameters\n",
    "model_with_preprocessing.get_params()"
   ]
  },
  {
   "cell_type": "markdown",
   "metadata": {},
   "source": [
    "#### Reduce Regularization\n",
    "* Increase value of C by orders of magnitude"
   ]
  },
  {
   "cell_type": "code",
   "execution_count": 53,
   "metadata": {
    "ExecuteTime": {
     "end_time": "2022-03-25T16:05:58.875565Z",
     "start_time": "2022-03-25T16:05:58.866796Z"
    }
   },
   "outputs": [],
   "source": [
    "# Increase value of C\n",
    "\n",
    "model_less_regularization = LogisticRegression(\n",
    "    random_state=42,\n",
    "    class_weight={1: 0.28},\n",
    "    C=1e5\n",
    ")"
   ]
  },
  {
   "cell_type": "code",
   "execution_count": 54,
   "metadata": {
    "ExecuteTime": {
     "end_time": "2022-03-25T16:06:02.313425Z",
     "start_time": "2022-03-25T16:05:58.881694Z"
    }
   },
   "outputs": [
    {
     "name": "stdout",
     "output_type": "stream",
     "text": [
      "Previous Model\n",
      "Train average:      0.7890148812324429\n",
      "Validation average: 0.7896969026262318\n",
      "Current Model\n",
      "Train average:      0.7864271775077025\n",
      "Validation average: 0.7876592868636821\n"
     ]
    }
   ],
   "source": [
    "less_regularization_train_scores, less_regularization_val_scores = custom_cross_val_score(\n",
    "    model_less_regularization, \n",
    "    X_train, \n",
    "    y_train\n",
    ")\n",
    "\n",
    "print(\"Previous Model\")\n",
    "print(\"Train average:     \", -preprocessed_train_scores.mean())\n",
    "print(\"Validation average:\", -preprocessed_neg_log_loss_cv.mean())\n",
    "print(\"Current Model\")\n",
    "print(\"Train average:     \", -less_regularization_train_scores.mean())\n",
    "print(\"Validation average:\", -less_regularization_val_scores.mean())"
   ]
  },
  {
   "cell_type": "markdown",
   "metadata": {},
   "source": [
    "#### Summary of increasing Regularization\n",
    "* Slight improvement in model as seen in lower train and validation scores."
   ]
  },
  {
   "cell_type": "markdown",
   "metadata": {},
   "source": [
    "### Alternate Solver or Penalty?"
   ]
  },
  {
   "cell_type": "code",
   "execution_count": 55,
   "metadata": {
    "ExecuteTime": {
     "end_time": "2022-03-25T16:06:02.326259Z",
     "start_time": "2022-03-25T16:06:02.316179Z"
    }
   },
   "outputs": [
    {
     "name": "stdout",
     "output_type": "stream",
     "text": [
      "solver: lbfgs\n",
      "penalty: l2\n"
     ]
    }
   ],
   "source": [
    "# print default solver and penalty\n",
    "print(\"solver:\", model_less_regularization.get_params()[\"solver\"])\n",
    "print(\"penalty:\", model_less_regularization.get_params()[\"penalty\"])"
   ]
  },
  {
   "cell_type": "markdown",
   "metadata": {},
   "source": [
    "#### Saga and elasticnet to balance L1 & L2 regularization\n",
    "* 11_ratio\n",
    "    * 0 = L1 only, 1 = L2 only, 0-1 is the range for balance"
   ]
  },
  {
   "cell_type": "code",
   "execution_count": 56,
   "metadata": {
    "ExecuteTime": {
     "end_time": "2022-03-25T16:06:18.148895Z",
     "start_time": "2022-03-25T16:06:02.329425Z"
    }
   },
   "outputs": [
    {
     "name": "stdout",
     "output_type": "stream",
     "text": [
      "Previous Model (Less Regularization)\n",
      "Train average:      0.7864271775077025\n",
      "Validation average: 0.7876592868636821\n",
      "Current Model\n",
      "Train average:      0.7940280207800223\n",
      "Validation average: 0.7945734419744666\n"
     ]
    }
   ],
   "source": [
    "model_alternative_solver = LogisticRegression(\n",
    "    random_state=42,\n",
    "    class_weight={1: 0.28},\n",
    "    C=1e5,\n",
    "    solver=\"saga\",\n",
    "    penalty=\"elasticnet\",\n",
    "    l1_ratio=0.5\n",
    ")\n",
    "\n",
    "alternative_solver_train_scores, alternative_solver_val_scores = custom_cross_val_score(\n",
    "    model_alternative_solver,\n",
    "    X_train,\n",
    "    y_train\n",
    ")\n",
    "\n",
    "print(\"Previous Model (Less Regularization)\")\n",
    "print(\"Train average:     \", -less_regularization_train_scores.mean())\n",
    "print(\"Validation average:\", -less_regularization_val_scores.mean())\n",
    "print(\"Current Model\")\n",
    "print(\"Train average:     \", -alternative_solver_train_scores.mean())\n",
    "print(\"Validation average:\", -alternative_solver_val_scores.mean())"
   ]
  },
  {
   "cell_type": "markdown",
   "metadata": {},
   "source": [
    "#### Summary: Alternate Solver and Penalty\n",
    "* Model slightly worse with alternate solver and penalty"
   ]
  },
  {
   "cell_type": "markdown",
   "metadata": {},
   "source": [
    "### Max Iterations\n",
    "* tol argument to decrease max_iter warning"
   ]
  },
  {
   "cell_type": "code",
   "execution_count": 57,
   "metadata": {
    "ExecuteTime": {
     "end_time": "2022-03-25T16:06:21.153998Z",
     "start_time": "2022-03-25T16:06:18.156912Z"
    }
   },
   "outputs": [
    {
     "name": "stdout",
     "output_type": "stream",
     "text": [
      "Previous Best Model (Less Regularization)\n",
      "Train average:      0.7864271775077025\n",
      "Validation average: 0.7876592868636821\n",
      "Previous Model with This Solver\n",
      "Train average:      0.7940280207800223\n",
      "Validation average: 0.7945734419744666\n",
      "Current Model\n",
      "Train average:      0.7864271775077025\n",
      "Validation average: 0.7876592868636821\n"
     ]
    }
   ],
   "source": [
    "model_more_iterations = LogisticRegression(\n",
    "    random_state=42,\n",
    "    class_weight={1: 0.28},\n",
    "    C=1e5,\n",
    "    max_iter=100\n",
    ")\n",
    "\n",
    "more_iterations_train_scores, more_iterations_val_scores = custom_cross_val_score(\n",
    "    model_more_iterations,\n",
    "    X_train,\n",
    "    y_train\n",
    ")\n",
    "\n",
    "print(\"Previous Best Model (Less Regularization)\")\n",
    "print(\"Train average:     \", -less_regularization_train_scores.mean())\n",
    "print(\"Validation average:\", -less_regularization_val_scores.mean())\n",
    "print(\"Previous Model with This Solver\")\n",
    "print(\"Train average:     \", -alternative_solver_train_scores.mean())\n",
    "print(\"Validation average:\", -alternative_solver_val_scores.mean())\n",
    "print(\"Current Model\")\n",
    "print(\"Train average:     \", -more_iterations_train_scores.mean())\n",
    "print(\"Validation average:\", -more_iterations_val_scores.mean())"
   ]
  },
  {
   "cell_type": "markdown",
   "metadata": {},
   "source": [
    "## Choose and evaluate Third Model\n",
    "* Final Logistic Regression Model"
   ]
  },
  {
   "cell_type": "code",
   "execution_count": 58,
   "metadata": {
    "ExecuteTime": {
     "end_time": "2022-03-25T16:06:21.183262Z",
     "start_time": "2022-03-25T16:06:21.156944Z"
    }
   },
   "outputs": [],
   "source": [
    "# instantiate final logistic regression model\n",
    "log_reg_model = baseline_model"
   ]
  },
  {
   "cell_type": "markdown",
   "metadata": {},
   "source": [
    "### Preprocess train and test sets"
   ]
  },
  {
   "cell_type": "code",
   "execution_count": 59,
   "metadata": {
    "ExecuteTime": {
     "end_time": "2022-03-25T16:06:21.335772Z",
     "start_time": "2022-03-25T16:06:21.188444Z"
    }
   },
   "outputs": [],
   "source": [
    "# Instantiate StandardScaler\n",
    "scaler = StandardScaler()\n",
    "# Fit and transform X_train\n",
    "X_train_scaled = scaler.fit_transform(X_train)\n",
    "# Transform X_test\n",
    "X_test_scaled = scaler.transform(X_test)"
   ]
  },
  {
   "cell_type": "markdown",
   "metadata": {},
   "source": [
    "### Fit Third Model on full training set"
   ]
  },
  {
   "cell_type": "code",
   "execution_count": 60,
   "metadata": {
    "ExecuteTime": {
     "end_time": "2022-03-25T16:06:22.246277Z",
     "start_time": "2022-03-25T16:06:21.367780Z"
    }
   },
   "outputs": [
    {
     "data": {
      "text/plain": [
       "LogisticRegression(random_state=42)"
      ]
     },
     "execution_count": 60,
     "metadata": {},
     "output_type": "execute_result"
    }
   ],
   "source": [
    "# Run this cell without changes\n",
    "baseline_model.fit(X_train_scaled, y_train)"
   ]
  },
  {
   "cell_type": "code",
   "execution_count": 61,
   "metadata": {
    "ExecuteTime": {
     "end_time": "2022-03-25T16:06:22.289788Z",
     "start_time": "2022-03-25T16:06:22.251953Z"
    }
   },
   "outputs": [
    {
     "data": {
      "text/plain": [
       "0.6292849612799697"
      ]
     },
     "execution_count": 61,
     "metadata": {},
     "output_type": "execute_result"
    }
   ],
   "source": [
    "log_loss(y_test, baseline_model.predict_proba(X_test_scaled))"
   ]
  },
  {
   "cell_type": "code",
   "execution_count": 62,
   "metadata": {
    "ExecuteTime": {
     "end_time": "2022-03-25T16:06:22.317556Z",
     "start_time": "2022-03-25T16:06:22.300973Z"
    }
   },
   "outputs": [
    {
     "data": {
      "text/plain": [
       "0.6458720138631019"
      ]
     },
     "execution_count": 62,
     "metadata": {},
     "output_type": "execute_result"
    }
   ],
   "source": [
    "from sklearn.metrics import accuracy_score\n",
    "\n",
    "accuracy_score = accuracy_score(y_test, baseline_model.predict(X_test_scaled))\n",
    "accuracy_score"
   ]
  },
  {
   "cell_type": "code",
   "execution_count": 63,
   "metadata": {
    "ExecuteTime": {
     "end_time": "2022-03-25T16:06:22.380240Z",
     "start_time": "2022-03-25T16:06:22.324970Z"
    }
   },
   "outputs": [
    {
     "data": {
      "text/plain": [
       "0.5770621097601052"
      ]
     },
     "execution_count": 63,
     "metadata": {},
     "output_type": "execute_result"
    }
   ],
   "source": [
    "# Import the relevant function\n",
    "from sklearn.metrics import precision_score\n",
    "\n",
    "# Display the precision score\n",
    "precision_score = precision_score(y_test, baseline_model.predict(X_test_scaled))\n",
    "precision_score"
   ]
  },
  {
   "cell_type": "code",
   "execution_count": 64,
   "metadata": {
    "ExecuteTime": {
     "end_time": "2022-03-25T16:06:22.434486Z",
     "start_time": "2022-03-25T16:06:22.393556Z"
    }
   },
   "outputs": [
    {
     "data": {
      "text/plain": [
       "0.28363753836213856"
      ]
     },
     "execution_count": 64,
     "metadata": {},
     "output_type": "execute_result"
    }
   ],
   "source": [
    "# Import the relevant function\n",
    "from sklearn.metrics import recall_score\n",
    "\n",
    "# Display the recall score\n",
    "recall_score(y_test, baseline_model.predict(X_test_scaled))"
   ]
  },
  {
   "cell_type": "code",
   "execution_count": 65,
   "metadata": {
    "ExecuteTime": {
     "end_time": "2022-03-25T16:06:22.457869Z",
     "start_time": "2022-03-25T16:06:22.437938Z"
    }
   },
   "outputs": [
    {
     "data": {
      "text/plain": [
       "0.3727082669548495"
      ]
     },
     "execution_count": 65,
     "metadata": {},
     "output_type": "execute_result"
    }
   ],
   "source": [
    "# F1 Score\n",
    "f1_score = (precision_score*accuracy_score)\n",
    "f1_score"
   ]
  },
  {
   "cell_type": "markdown",
   "metadata": {},
   "source": [
    "## Analysis of Third Model:\n",
    "* A somewhat better model than the baseline, which wasn't a good model.\n",
    "    * 59% Precision, or only predicting loan approval 59% of the time.\n",
    "    * 65% Accuracy, or correctly predicting approval/refusal 65% of the time.\n",
    "    * F1 Score of .381 \n",
    "        * Will attempt to improve the F1 score in future models.\n",
    "* Will look to improve this model by:\n",
    "    * Implementing K-Nearest Neighbors Model"
   ]
  },
  {
   "cell_type": "markdown",
   "metadata": {},
   "source": [
    "# Fourth Model - K-Nearest Neighbors"
   ]
  },
  {
   "cell_type": "markdown",
   "metadata": {},
   "source": [
    "## Train, Test, Split df3"
   ]
  },
  {
   "cell_type": "code",
   "execution_count": 75,
   "metadata": {
    "ExecuteTime": {
     "end_time": "2022-03-25T18:21:04.653817Z",
     "start_time": "2022-03-25T18:21:04.593493Z"
    }
   },
   "outputs": [],
   "source": [
    "# Define X and y\n",
    "y = df3['TARGET']\n",
    "X = df3.drop('TARGET', axis=1)\n",
    "\n",
    "# Perform train-test split with random_state=42 and stratify=y\n",
    "X_train, X_test, y_train, y_test = train_test_split(X, y, test_size=0.25, random_state=42)"
   ]
  },
  {
   "cell_type": "markdown",
   "metadata": {},
   "source": [
    "## Normalize Data"
   ]
  },
  {
   "cell_type": "code",
   "execution_count": 67,
   "metadata": {
    "ExecuteTime": {
     "end_time": "2022-03-25T16:06:22.632503Z",
     "start_time": "2022-03-25T16:06:22.510126Z"
    }
   },
   "outputs": [
    {
     "data": {
      "text/html": [
       "<div>\n",
       "<style scoped>\n",
       "    .dataframe tbody tr th:only-of-type {\n",
       "        vertical-align: middle;\n",
       "    }\n",
       "\n",
       "    .dataframe tbody tr th {\n",
       "        vertical-align: top;\n",
       "    }\n",
       "\n",
       "    .dataframe thead th {\n",
       "        text-align: right;\n",
       "    }\n",
       "</style>\n",
       "<table border=\"1\" class=\"dataframe\">\n",
       "  <thead>\n",
       "    <tr style=\"text-align: right;\">\n",
       "      <th></th>\n",
       "      <th>CNT_CHILDREN</th>\n",
       "      <th>AMT_INCOME_TOTAL</th>\n",
       "      <th>AMT_CREDIT</th>\n",
       "      <th>AMT_ANNUITY</th>\n",
       "      <th>DAYS_EMPLOYED</th>\n",
       "      <th>CNT_FAM_MEMBERS</th>\n",
       "      <th>DAYS_BIRTH</th>\n",
       "      <th>AMT_GOODS_PRICE</th>\n",
       "      <th>REGION_RATING_CLIENT</th>\n",
       "      <th>NAME_EDUCATION_TYPE_Higher education</th>\n",
       "      <th>...</th>\n",
       "      <th>NAME_EDUCATION_TYPE_Secondary / secondary special</th>\n",
       "      <th>NAME_INCOME_TYPE_Commercial associate</th>\n",
       "      <th>NAME_INCOME_TYPE_Maternity leave</th>\n",
       "      <th>NAME_INCOME_TYPE_Pensioner</th>\n",
       "      <th>NAME_INCOME_TYPE_State servant</th>\n",
       "      <th>NAME_INCOME_TYPE_Student</th>\n",
       "      <th>NAME_INCOME_TYPE_Unemployed</th>\n",
       "      <th>NAME_INCOME_TYPE_Working</th>\n",
       "      <th>CODE_GENDER_M</th>\n",
       "      <th>FLAG_OWN_REALTY_Y</th>\n",
       "    </tr>\n",
       "  </thead>\n",
       "  <tbody>\n",
       "    <tr>\n",
       "      <th>0</th>\n",
       "      <td>-0.595832</td>\n",
       "      <td>0.724971</td>\n",
       "      <td>0.461731</td>\n",
       "      <td>-0.329038</td>\n",
       "      <td>-0.428150</td>\n",
       "      <td>-0.178675</td>\n",
       "      <td>-0.587850</td>\n",
       "      <td>0.685931</td>\n",
       "      <td>-0.169395</td>\n",
       "      <td>-0.525148</td>\n",
       "      <td>...</td>\n",
       "      <td>0.600419</td>\n",
       "      <td>1.866547</td>\n",
       "      <td>0.0</td>\n",
       "      <td>-0.436954</td>\n",
       "      <td>-0.264706</td>\n",
       "      <td>-0.006424</td>\n",
       "      <td>-0.007867</td>\n",
       "      <td>-1.107913</td>\n",
       "      <td>1.30578</td>\n",
       "      <td>0.666555</td>\n",
       "    </tr>\n",
       "    <tr>\n",
       "      <th>1</th>\n",
       "      <td>-0.595832</td>\n",
       "      <td>-0.617863</td>\n",
       "      <td>-0.256501</td>\n",
       "      <td>1.088058</td>\n",
       "      <td>-0.440528</td>\n",
       "      <td>-0.178675</td>\n",
       "      <td>1.163085</td>\n",
       "      <td>-0.202630</td>\n",
       "      <td>-0.169395</td>\n",
       "      <td>-0.525148</td>\n",
       "      <td>...</td>\n",
       "      <td>0.600419</td>\n",
       "      <td>-0.535749</td>\n",
       "      <td>0.0</td>\n",
       "      <td>-0.436954</td>\n",
       "      <td>-0.264706</td>\n",
       "      <td>-0.006424</td>\n",
       "      <td>-0.007867</td>\n",
       "      <td>0.902598</td>\n",
       "      <td>1.30578</td>\n",
       "      <td>0.666555</td>\n",
       "    </tr>\n",
       "    <tr>\n",
       "      <th>2</th>\n",
       "      <td>-0.595832</td>\n",
       "      <td>-0.617863</td>\n",
       "      <td>1.390683</td>\n",
       "      <td>0.428539</td>\n",
       "      <td>-0.431465</td>\n",
       "      <td>-0.178675</td>\n",
       "      <td>-0.507511</td>\n",
       "      <td>1.703269</td>\n",
       "      <td>-0.169395</td>\n",
       "      <td>1.904225</td>\n",
       "      <td>...</td>\n",
       "      <td>-1.665504</td>\n",
       "      <td>-0.535749</td>\n",
       "      <td>0.0</td>\n",
       "      <td>-0.436954</td>\n",
       "      <td>3.777775</td>\n",
       "      <td>-0.006424</td>\n",
       "      <td>-0.007867</td>\n",
       "      <td>-1.107913</td>\n",
       "      <td>1.30578</td>\n",
       "      <td>-1.500251</td>\n",
       "    </tr>\n",
       "    <tr>\n",
       "      <th>3</th>\n",
       "      <td>-0.595832</td>\n",
       "      <td>-0.080729</td>\n",
       "      <td>1.281513</td>\n",
       "      <td>0.330153</td>\n",
       "      <td>-0.423478</td>\n",
       "      <td>-0.178675</td>\n",
       "      <td>1.110061</td>\n",
       "      <td>0.711686</td>\n",
       "      <td>-0.169395</td>\n",
       "      <td>-0.525148</td>\n",
       "      <td>...</td>\n",
       "      <td>-1.665504</td>\n",
       "      <td>-0.535749</td>\n",
       "      <td>0.0</td>\n",
       "      <td>-0.436954</td>\n",
       "      <td>-0.264706</td>\n",
       "      <td>-0.006424</td>\n",
       "      <td>-0.007867</td>\n",
       "      <td>0.902598</td>\n",
       "      <td>1.30578</td>\n",
       "      <td>0.666555</td>\n",
       "    </tr>\n",
       "    <tr>\n",
       "      <th>4</th>\n",
       "      <td>-0.595832</td>\n",
       "      <td>0.724971</td>\n",
       "      <td>-0.114454</td>\n",
       "      <td>0.008756</td>\n",
       "      <td>-0.439357</td>\n",
       "      <td>-1.264369</td>\n",
       "      <td>0.256859</td>\n",
       "      <td>0.054924</td>\n",
       "      <td>1.788850</td>\n",
       "      <td>-0.525148</td>\n",
       "      <td>...</td>\n",
       "      <td>0.600419</td>\n",
       "      <td>1.866547</td>\n",
       "      <td>0.0</td>\n",
       "      <td>-0.436954</td>\n",
       "      <td>-0.264706</td>\n",
       "      <td>-0.006424</td>\n",
       "      <td>-0.007867</td>\n",
       "      <td>-1.107913</td>\n",
       "      <td>1.30578</td>\n",
       "      <td>0.666555</td>\n",
       "    </tr>\n",
       "  </tbody>\n",
       "</table>\n",
       "<p>5 rows × 22 columns</p>\n",
       "</div>"
      ],
      "text/plain": [
       "   CNT_CHILDREN  AMT_INCOME_TOTAL  AMT_CREDIT  AMT_ANNUITY  DAYS_EMPLOYED  \\\n",
       "0     -0.595832          0.724971    0.461731    -0.329038      -0.428150   \n",
       "1     -0.595832         -0.617863   -0.256501     1.088058      -0.440528   \n",
       "2     -0.595832         -0.617863    1.390683     0.428539      -0.431465   \n",
       "3     -0.595832         -0.080729    1.281513     0.330153      -0.423478   \n",
       "4     -0.595832          0.724971   -0.114454     0.008756      -0.439357   \n",
       "\n",
       "   CNT_FAM_MEMBERS  DAYS_BIRTH  AMT_GOODS_PRICE  REGION_RATING_CLIENT  \\\n",
       "0        -0.178675   -0.587850         0.685931             -0.169395   \n",
       "1        -0.178675    1.163085        -0.202630             -0.169395   \n",
       "2        -0.178675   -0.507511         1.703269             -0.169395   \n",
       "3        -0.178675    1.110061         0.711686             -0.169395   \n",
       "4        -1.264369    0.256859         0.054924              1.788850   \n",
       "\n",
       "   NAME_EDUCATION_TYPE_Higher education  ...  \\\n",
       "0                             -0.525148  ...   \n",
       "1                             -0.525148  ...   \n",
       "2                              1.904225  ...   \n",
       "3                             -0.525148  ...   \n",
       "4                             -0.525148  ...   \n",
       "\n",
       "   NAME_EDUCATION_TYPE_Secondary / secondary special  \\\n",
       "0                                           0.600419   \n",
       "1                                           0.600419   \n",
       "2                                          -1.665504   \n",
       "3                                          -1.665504   \n",
       "4                                           0.600419   \n",
       "\n",
       "   NAME_INCOME_TYPE_Commercial associate  NAME_INCOME_TYPE_Maternity leave  \\\n",
       "0                               1.866547                               0.0   \n",
       "1                              -0.535749                               0.0   \n",
       "2                              -0.535749                               0.0   \n",
       "3                              -0.535749                               0.0   \n",
       "4                               1.866547                               0.0   \n",
       "\n",
       "   NAME_INCOME_TYPE_Pensioner  NAME_INCOME_TYPE_State servant  \\\n",
       "0                   -0.436954                       -0.264706   \n",
       "1                   -0.436954                       -0.264706   \n",
       "2                   -0.436954                        3.777775   \n",
       "3                   -0.436954                       -0.264706   \n",
       "4                   -0.436954                       -0.264706   \n",
       "\n",
       "   NAME_INCOME_TYPE_Student  NAME_INCOME_TYPE_Unemployed  \\\n",
       "0                 -0.006424                    -0.007867   \n",
       "1                 -0.006424                    -0.007867   \n",
       "2                 -0.006424                    -0.007867   \n",
       "3                 -0.006424                    -0.007867   \n",
       "4                 -0.006424                    -0.007867   \n",
       "\n",
       "   NAME_INCOME_TYPE_Working  CODE_GENDER_M  FLAG_OWN_REALTY_Y  \n",
       "0                 -1.107913        1.30578           0.666555  \n",
       "1                  0.902598        1.30578           0.666555  \n",
       "2                 -1.107913        1.30578          -1.500251  \n",
       "3                  0.902598        1.30578           0.666555  \n",
       "4                 -1.107913        1.30578           0.666555  \n",
       "\n",
       "[5 rows x 22 columns]"
      ]
     },
     "execution_count": 67,
     "metadata": {},
     "output_type": "execute_result"
    }
   ],
   "source": [
    "# Instantiate StandardScaler\n",
    "scaler = StandardScaler()\n",
    "\n",
    "# Transform the training and test sets\n",
    "scaled_data_train = scaler.fit_transform(X_train)\n",
    "scaled_data_test = scaler.transform(X_test)\n",
    "\n",
    "# Convert into a DataFrame\n",
    "scaled_df_train = pd.DataFrame(scaled_data_train, columns=X.columns)\n",
    "scaled_df_train.head()"
   ]
  },
  {
   "cell_type": "markdown",
   "metadata": {},
   "source": [
    "## Fit a KNN Model"
   ]
  },
  {
   "cell_type": "code",
   "execution_count": 70,
   "metadata": {
    "ExecuteTime": {
     "end_time": "2022-03-25T18:13:03.825770Z",
     "start_time": "2022-03-25T18:10:41.170278Z"
    }
   },
   "outputs": [],
   "source": [
    "clf = KNeighborsClassifier()\n",
    "\n",
    "# Fit the classifier\n",
    "clf.fit(scaled_data_train, y_train)\n",
    "\n",
    "# Train predictions\n",
    "train_preds = clf.predict(scaled_data_train)\n",
    "\n",
    "# Predict on the test set\n",
    "test_preds = clf.predict(scaled_data_test)"
   ]
  },
  {
   "cell_type": "code",
   "execution_count": 71,
   "metadata": {
    "ExecuteTime": {
     "end_time": "2022-03-25T18:13:04.069199Z",
     "start_time": "2022-03-25T18:13:03.832389Z"
    }
   },
   "outputs": [
    {
     "name": "stdout",
     "output_type": "stream",
     "text": [
      "Training Set\n",
      "[[25000  4910]\n",
      " [ 8154 10408]]\n",
      "              precision    recall  f1-score   support\n",
      "\n",
      "           0       0.75      0.84      0.79     29910\n",
      "           1       0.68      0.56      0.61     18562\n",
      "\n",
      "    accuracy                           0.73     48472\n",
      "   macro avg       0.72      0.70      0.70     48472\n",
      "weighted avg       0.73      0.73      0.72     48472\n",
      "\n",
      "Test Set\n",
      "[[7221 2737]\n",
      " [3835 2365]]\n",
      "              precision    recall  f1-score   support\n",
      "\n",
      "           0       0.65      0.73      0.69      9958\n",
      "           1       0.46      0.38      0.42      6200\n",
      "\n",
      "    accuracy                           0.59     16158\n",
      "   macro avg       0.56      0.55      0.55     16158\n",
      "weighted avg       0.58      0.59      0.58     16158\n",
      "\n"
     ]
    }
   ],
   "source": [
    "# Confusion matrix and classification report for training set\n",
    "print(\"Training Set\")\n",
    "print(confusion_matrix(y_train, train_preds))\n",
    "print(classification_report(y_train, train_preds))\n",
    "\n",
    "print(\"Test Set\")\n",
    "# Confusion matrix and classification report for test set\n",
    "print(confusion_matrix(y_test, test_preds))\n",
    "print(classification_report(y_test, test_preds))"
   ]
  },
  {
   "cell_type": "markdown",
   "metadata": {},
   "source": [
    "### Initial results for KNN model\n",
    "* Better results, but I am hoping for improved precision, recall, accuracy and F1 scores."
   ]
  },
  {
   "cell_type": "markdown",
   "metadata": {},
   "source": [
    "## Improve Model Performance\n",
    "* Find best value for K"
   ]
  },
  {
   "cell_type": "code",
   "execution_count": 76,
   "metadata": {
    "ExecuteTime": {
     "end_time": "2022-03-25T18:21:13.393942Z",
     "start_time": "2022-03-25T18:21:13.387953Z"
    }
   },
   "outputs": [],
   "source": [
    "# function to find best K\n",
    "\n",
    "def find_best_k(X_train, y_train, X_test, y_test, min_k=1, max_k=25):\n",
    "    best_k = 0\n",
    "    best_score = 0.0\n",
    "    for k in range(min_k, max_k+1, 2):\n",
    "        knn = KNeighborsClassifier(n_neighbors=k)\n",
    "        knn.fit(X_train, y_train)\n",
    "        preds = knn.predict(X_test)\n",
    "        f1 = f1_score(y_test, preds)\n",
    "        if f1 > best_score:\n",
    "            best_k = k\n",
    "            best_score = f1\n",
    "    \n",
    "    print(\"Best Value for k: {}\".format(best_k))\n",
    "    print(\"F1-Score: {}\".format(best_score))"
   ]
  },
  {
   "cell_type": "code",
   "execution_count": 77,
   "metadata": {
    "ExecuteTime": {
     "end_time": "2022-03-25T18:21:15.836469Z",
     "start_time": "2022-03-25T18:21:14.281451Z"
    }
   },
   "outputs": [
    {
     "ename": "TypeError",
     "evalue": "'numpy.float64' object is not callable",
     "output_type": "error",
     "traceback": [
      "\u001b[0;31m---------------------------------------------------------------------------\u001b[0m",
      "\u001b[0;31mTypeError\u001b[0m                                 Traceback (most recent call last)",
      "\u001b[0;32m<ipython-input-77-1aa41ff28906>\u001b[0m in \u001b[0;36m<module>\u001b[0;34m\u001b[0m\n\u001b[1;32m      1\u001b[0m \u001b[0;31m# run function on current model\u001b[0m\u001b[0;34m\u001b[0m\u001b[0;34m\u001b[0m\u001b[0;34m\u001b[0m\u001b[0m\n\u001b[0;32m----> 2\u001b[0;31m \u001b[0mfind_best_k\u001b[0m\u001b[0;34m(\u001b[0m\u001b[0mX_train\u001b[0m\u001b[0;34m,\u001b[0m \u001b[0my_train\u001b[0m\u001b[0;34m,\u001b[0m \u001b[0mX_test\u001b[0m\u001b[0;34m,\u001b[0m \u001b[0my_test\u001b[0m\u001b[0;34m)\u001b[0m\u001b[0;34m\u001b[0m\u001b[0;34m\u001b[0m\u001b[0m\n\u001b[0m",
      "\u001b[0;32m<ipython-input-76-183e5ca59782>\u001b[0m in \u001b[0;36mfind_best_k\u001b[0;34m(X_train, y_train, X_test, y_test, min_k, max_k)\u001b[0m\n\u001b[1;32m      8\u001b[0m         \u001b[0mknn\u001b[0m\u001b[0;34m.\u001b[0m\u001b[0mfit\u001b[0m\u001b[0;34m(\u001b[0m\u001b[0mX_train\u001b[0m\u001b[0;34m,\u001b[0m \u001b[0my_train\u001b[0m\u001b[0;34m)\u001b[0m\u001b[0;34m\u001b[0m\u001b[0;34m\u001b[0m\u001b[0m\n\u001b[1;32m      9\u001b[0m         \u001b[0mpreds\u001b[0m \u001b[0;34m=\u001b[0m \u001b[0mknn\u001b[0m\u001b[0;34m.\u001b[0m\u001b[0mpredict\u001b[0m\u001b[0;34m(\u001b[0m\u001b[0mX_test\u001b[0m\u001b[0;34m)\u001b[0m\u001b[0;34m\u001b[0m\u001b[0;34m\u001b[0m\u001b[0m\n\u001b[0;32m---> 10\u001b[0;31m         \u001b[0mf1\u001b[0m \u001b[0;34m=\u001b[0m \u001b[0mf1_score\u001b[0m\u001b[0;34m(\u001b[0m\u001b[0my_test\u001b[0m\u001b[0;34m,\u001b[0m \u001b[0mpreds\u001b[0m\u001b[0;34m)\u001b[0m\u001b[0;34m\u001b[0m\u001b[0;34m\u001b[0m\u001b[0m\n\u001b[0m\u001b[1;32m     11\u001b[0m         \u001b[0;32mif\u001b[0m \u001b[0mf1\u001b[0m \u001b[0;34m>\u001b[0m \u001b[0mbest_score\u001b[0m\u001b[0;34m:\u001b[0m\u001b[0;34m\u001b[0m\u001b[0;34m\u001b[0m\u001b[0m\n\u001b[1;32m     12\u001b[0m             \u001b[0mbest_k\u001b[0m \u001b[0;34m=\u001b[0m \u001b[0mk\u001b[0m\u001b[0;34m\u001b[0m\u001b[0;34m\u001b[0m\u001b[0m\n",
      "\u001b[0;31mTypeError\u001b[0m: 'numpy.float64' object is not callable"
     ]
    }
   ],
   "source": [
    "# run function on current model\n",
    "find_best_k(X_train, y_train, X_test, y_test)"
   ]
  },
  {
   "cell_type": "markdown",
   "metadata": {},
   "source": [
    "### Update N_Neighbors to Best Value\n",
    "* Best value is 1, but the F1 score is only slightly improved."
   ]
  },
  {
   "cell_type": "code",
   "execution_count": 78,
   "metadata": {
    "ExecuteTime": {
     "end_time": "2022-03-25T18:22:41.695066Z",
     "start_time": "2022-03-25T18:22:03.916183Z"
    }
   },
   "outputs": [],
   "source": [
    "clf = KNeighborsClassifier(n_neighbors=1)\n",
    "\n",
    "# Fit the classifier\n",
    "clf.fit(scaled_data_train, y_train)\n",
    "\n",
    "# Predict on the test set\n",
    "test_preds = clf.predict(scaled_data_test)"
   ]
  },
  {
   "cell_type": "code",
   "execution_count": 79,
   "metadata": {
    "ExecuteTime": {
     "end_time": "2022-03-25T18:22:41.734868Z",
     "start_time": "2022-03-25T18:22:41.698363Z"
    }
   },
   "outputs": [
    {
     "ename": "TypeError",
     "evalue": "'numpy.float64' object is not callable",
     "output_type": "error",
     "traceback": [
      "\u001b[0;31m---------------------------------------------------------------------------\u001b[0m",
      "\u001b[0;31mTypeError\u001b[0m                                 Traceback (most recent call last)",
      "\u001b[0;32m<ipython-input-79-4427ebb918c8>\u001b[0m in \u001b[0;36m<module>\u001b[0;34m\u001b[0m\n\u001b[1;32m      1\u001b[0m \u001b[0;31m# Print scores for this model\u001b[0m\u001b[0;34m\u001b[0m\u001b[0;34m\u001b[0m\u001b[0;34m\u001b[0m\u001b[0m\n\u001b[0;32m----> 2\u001b[0;31m \u001b[0mprint_metrics\u001b[0m\u001b[0;34m(\u001b[0m\u001b[0my_test\u001b[0m\u001b[0;34m,\u001b[0m \u001b[0mtest_preds\u001b[0m\u001b[0;34m)\u001b[0m\u001b[0;34m\u001b[0m\u001b[0;34m\u001b[0m\u001b[0m\n\u001b[0m",
      "\u001b[0;32m<ipython-input-69-f41230c0d577>\u001b[0m in \u001b[0;36mprint_metrics\u001b[0;34m(labels, preds)\u001b[0m\n\u001b[1;32m      1\u001b[0m \u001b[0;32mdef\u001b[0m \u001b[0mprint_metrics\u001b[0m\u001b[0;34m(\u001b[0m\u001b[0mlabels\u001b[0m\u001b[0;34m,\u001b[0m \u001b[0mpreds\u001b[0m\u001b[0;34m)\u001b[0m\u001b[0;34m:\u001b[0m\u001b[0;34m\u001b[0m\u001b[0;34m\u001b[0m\u001b[0m\n\u001b[0;32m----> 2\u001b[0;31m     \u001b[0mprint\u001b[0m\u001b[0;34m(\u001b[0m\u001b[0;34m\"Precision Score: {}\"\u001b[0m\u001b[0;34m.\u001b[0m\u001b[0mformat\u001b[0m\u001b[0;34m(\u001b[0m\u001b[0mprecision_score\u001b[0m\u001b[0;34m(\u001b[0m\u001b[0mlabels\u001b[0m\u001b[0;34m,\u001b[0m \u001b[0mpreds\u001b[0m\u001b[0;34m)\u001b[0m\u001b[0;34m)\u001b[0m\u001b[0;34m)\u001b[0m\u001b[0;34m\u001b[0m\u001b[0;34m\u001b[0m\u001b[0m\n\u001b[0m\u001b[1;32m      3\u001b[0m     \u001b[0mprint\u001b[0m\u001b[0;34m(\u001b[0m\u001b[0;34m\"Recall Score: {}\"\u001b[0m\u001b[0;34m.\u001b[0m\u001b[0mformat\u001b[0m\u001b[0;34m(\u001b[0m\u001b[0mrecall_score\u001b[0m\u001b[0;34m(\u001b[0m\u001b[0mlabels\u001b[0m\u001b[0;34m,\u001b[0m \u001b[0mpreds\u001b[0m\u001b[0;34m)\u001b[0m\u001b[0;34m)\u001b[0m\u001b[0;34m)\u001b[0m\u001b[0;34m\u001b[0m\u001b[0;34m\u001b[0m\u001b[0m\n\u001b[1;32m      4\u001b[0m     \u001b[0mprint\u001b[0m\u001b[0;34m(\u001b[0m\u001b[0;34m\"Accuracy Score: {}\"\u001b[0m\u001b[0;34m.\u001b[0m\u001b[0mformat\u001b[0m\u001b[0;34m(\u001b[0m\u001b[0maccuracy_score\u001b[0m\u001b[0;34m(\u001b[0m\u001b[0mlabels\u001b[0m\u001b[0;34m,\u001b[0m \u001b[0mpreds\u001b[0m\u001b[0;34m)\u001b[0m\u001b[0;34m)\u001b[0m\u001b[0;34m)\u001b[0m\u001b[0;34m\u001b[0m\u001b[0;34m\u001b[0m\u001b[0m\n\u001b[1;32m      5\u001b[0m     \u001b[0mprint\u001b[0m\u001b[0;34m(\u001b[0m\u001b[0;34m\"F1 Score: {}\"\u001b[0m\u001b[0;34m.\u001b[0m\u001b[0mformat\u001b[0m\u001b[0;34m(\u001b[0m\u001b[0mf1_score\u001b[0m\u001b[0;34m(\u001b[0m\u001b[0mlabels\u001b[0m\u001b[0;34m,\u001b[0m \u001b[0mpreds\u001b[0m\u001b[0;34m)\u001b[0m\u001b[0;34m)\u001b[0m\u001b[0;34m)\u001b[0m\u001b[0;34m\u001b[0m\u001b[0;34m\u001b[0m\u001b[0m\n",
      "\u001b[0;31mTypeError\u001b[0m: 'numpy.float64' object is not callable"
     ]
    }
   ],
   "source": [
    "# Print scores for this model\n",
    "print_metrics(y_test, test_preds)"
   ]
  },
  {
   "cell_type": "markdown",
   "metadata": {},
   "source": [
    "## Analysis of Fourth Model:\n",
    "* Higher scores for this model, but not much better.\n",
    "* This model is computationally expensive, so maybe I can create a more efficient and equally strong model with Decision Trees."
   ]
  },
  {
   "cell_type": "markdown",
   "metadata": {},
   "source": [
    "# Fifth Model - Decision Trees"
   ]
  },
  {
   "cell_type": "markdown",
   "metadata": {},
   "source": [
    "## Train, Test, Split df3"
   ]
  },
  {
   "cell_type": "code",
   "execution_count": 80,
   "metadata": {
    "ExecuteTime": {
     "end_time": "2022-03-25T18:24:16.019896Z",
     "start_time": "2022-03-25T18:24:15.945958Z"
    }
   },
   "outputs": [],
   "source": [
    "# Define X and y\n",
    "y = df3['TARGET']\n",
    "X = df3.drop('TARGET', axis=1)\n",
    "\n",
    "# Perform train-test split with random_state=42 and stratify=y\n",
    "X_train, X_test, y_train, y_test = train_test_split(X, y, random_state=42, stratify=y)"
   ]
  },
  {
   "cell_type": "markdown",
   "metadata": {},
   "source": [
    "## Normalize Data"
   ]
  },
  {
   "cell_type": "code",
   "execution_count": 81,
   "metadata": {
    "ExecuteTime": {
     "end_time": "2022-03-25T18:24:16.821195Z",
     "start_time": "2022-03-25T18:24:16.754605Z"
    }
   },
   "outputs": [],
   "source": [
    "# Instantiate standard scaler\n",
    "scaler = StandardScaler()\n",
    "scaler.fit(X_train)\n",
    "\n",
    "# Transform Data\n",
    "X_train_scaled = scaler.transform(X_train)\n",
    "X_test_scaled = scaler.transform(X_test)"
   ]
  },
  {
   "cell_type": "markdown",
   "metadata": {},
   "source": [
    "## Baseline Decision Tree Model"
   ]
  },
  {
   "cell_type": "code",
   "execution_count": 82,
   "metadata": {
    "ExecuteTime": {
     "end_time": "2022-03-25T18:24:20.572451Z",
     "start_time": "2022-03-25T18:24:17.309027Z"
    }
   },
   "outputs": [
    {
     "data": {
      "text/plain": [
       "15.281548770195707"
      ]
     },
     "execution_count": 82,
     "metadata": {},
     "output_type": "execute_result"
    }
   ],
   "source": [
    "dtree_baseline_model = DecisionTreeClassifier(random_state=42)\n",
    "\n",
    "dtree_baseline_log_loss = -cross_val_score(dtree_baseline_model, X_train, y_train, scoring=\"neg_log_loss\").mean()\n",
    "dtree_baseline_log_loss"
   ]
  },
  {
   "cell_type": "markdown",
   "metadata": {},
   "source": [
    "## Improve Decision Tree Model"
   ]
  },
  {
   "cell_type": "code",
   "execution_count": 83,
   "metadata": {
    "ExecuteTime": {
     "end_time": "2022-03-25T18:24:23.198405Z",
     "start_time": "2022-03-25T18:24:20.575277Z"
    }
   },
   "outputs": [
    {
     "data": {
      "text/plain": [
       "2.7309101308216315"
      ]
     },
     "execution_count": 83,
     "metadata": {},
     "output_type": "execute_result"
    }
   ],
   "source": [
    "# Modify min_samples_leaf to equal 10\n",
    "dtree_second_model = DecisionTreeClassifier(random_state=42, min_samples_leaf=10)\n",
    "\n",
    "dtree_second_log_loss = -cross_val_score(dtree_second_model, X_train, y_train, scoring=\"neg_log_loss\").mean()\n",
    "dtree_second_log_loss"
   ]
  },
  {
   "cell_type": "code",
   "execution_count": 84,
   "metadata": {
    "ExecuteTime": {
     "end_time": "2022-03-25T18:24:25.078810Z",
     "start_time": "2022-03-25T18:24:23.203278Z"
    }
   },
   "outputs": [
    {
     "data": {
      "text/plain": [
       "0.6464772924838894"
      ]
     },
     "execution_count": 84,
     "metadata": {},
     "output_type": "execute_result"
    }
   ],
   "source": [
    "# Modify min_samples_leaf to equal 100\n",
    "dtree_third_model = DecisionTreeClassifier(random_state=42, min_samples_leaf=100)\n",
    "\n",
    "dtree_third_log_loss = -cross_val_score(dtree_third_model, X_train, y_train, scoring=\"neg_log_loss\").mean()\n",
    "dtree_third_log_loss"
   ]
  },
  {
   "cell_type": "code",
   "execution_count": 85,
   "metadata": {
    "ExecuteTime": {
     "end_time": "2022-03-25T18:24:27.071279Z",
     "start_time": "2022-03-25T18:24:25.082196Z"
    }
   },
   "outputs": [
    {
     "data": {
      "text/plain": [
       "0.6704214096895356"
      ]
     },
     "execution_count": 85,
     "metadata": {},
     "output_type": "execute_result"
    }
   ],
   "source": [
    "# For class imbalance issues:\n",
    "\n",
    "dtree_fourth_model = DecisionTreeClassifier(random_state=42, min_samples_leaf=100, class_weight=\"balanced\")\n",
    "\n",
    "dtree_fourth_log_loss = -cross_val_score(dtree_fourth_model, X_train, y_train, scoring=\"neg_log_loss\").mean()\n",
    "dtree_fourth_log_loss"
   ]
  },
  {
   "cell_type": "code",
   "execution_count": 86,
   "metadata": {
    "ExecuteTime": {
     "end_time": "2022-03-25T18:24:27.623709Z",
     "start_time": "2022-03-25T18:24:27.074144Z"
    }
   },
   "outputs": [
    {
     "data": {
      "text/plain": [
       "0.6438972247862372"
      ]
     },
     "execution_count": 86,
     "metadata": {},
     "output_type": "execute_result"
    }
   ],
   "source": [
    "# limit the number of features that can be used in a given split, \n",
    "# while keeping min_samples_leaf the same\n",
    "\n",
    "dtree_fifth_model = DecisionTreeClassifier(random_state=42, min_samples_leaf=100, max_features=\"sqrt\")\n",
    "\n",
    "dtree_fifth_log_loss = -cross_val_score(dtree_fifth_model, X_train, y_train, scoring=\"neg_log_loss\").mean()\n",
    "dtree_fifth_log_loss"
   ]
  },
  {
   "cell_type": "code",
   "execution_count": 87,
   "metadata": {
    "ExecuteTime": {
     "end_time": "2022-03-25T18:24:29.559498Z",
     "start_time": "2022-03-25T18:24:27.626880Z"
    }
   },
   "outputs": [
    {
     "data": {
      "text/plain": [
       "0.6521124110829548"
      ]
     },
     "execution_count": 87,
     "metadata": {},
     "output_type": "execute_result"
    }
   ],
   "source": [
    "# Modify min_samples_leaf to equal 75\n",
    "dtree_sixth_model = DecisionTreeClassifier(random_state=42, min_samples_leaf=75)\n",
    "\n",
    "dtree_sixth_log_loss = -cross_val_score(dtree_sixth_model, X_train, y_train, scoring=\"neg_log_loss\").mean()\n",
    "dtree_sixth_log_loss"
   ]
  },
  {
   "cell_type": "code",
   "execution_count": 88,
   "metadata": {
    "ExecuteTime": {
     "end_time": "2022-03-25T18:24:30.119604Z",
     "start_time": "2022-03-25T18:24:29.564600Z"
    }
   },
   "outputs": [
    {
     "name": "stdout",
     "output_type": "stream",
     "text": [
      "log loss:  0.644361431411729\n"
     ]
    },
    {
     "ename": "TypeError",
     "evalue": "'numpy.float64' object is not callable",
     "output_type": "error",
     "traceback": [
      "\u001b[0;31m---------------------------------------------------------------------------\u001b[0m",
      "\u001b[0;31mTypeError\u001b[0m                                 Traceback (most recent call last)",
      "\u001b[0;32m<ipython-input-88-94a6ad8a55f4>\u001b[0m in \u001b[0;36m<module>\u001b[0;34m\u001b[0m\n\u001b[1;32m      7\u001b[0m \u001b[0;34m\u001b[0m\u001b[0m\n\u001b[1;32m      8\u001b[0m \u001b[0mprint\u001b[0m\u001b[0;34m(\u001b[0m\u001b[0;34m\"log loss: \"\u001b[0m\u001b[0;34m,\u001b[0m \u001b[0mlog_loss\u001b[0m\u001b[0;34m(\u001b[0m\u001b[0my_test\u001b[0m\u001b[0;34m,\u001b[0m \u001b[0mprobs\u001b[0m\u001b[0;34m)\u001b[0m\u001b[0;34m)\u001b[0m\u001b[0;34m\u001b[0m\u001b[0;34m\u001b[0m\u001b[0m\n\u001b[0;32m----> 9\u001b[0;31m \u001b[0mprint\u001b[0m\u001b[0;34m(\u001b[0m\u001b[0;34m\"accuracy: \"\u001b[0m\u001b[0;34m,\u001b[0m \u001b[0maccuracy_score\u001b[0m\u001b[0;34m(\u001b[0m\u001b[0my_test\u001b[0m\u001b[0;34m,\u001b[0m \u001b[0mpreds\u001b[0m\u001b[0;34m)\u001b[0m\u001b[0;34m)\u001b[0m\u001b[0;34m\u001b[0m\u001b[0;34m\u001b[0m\u001b[0m\n\u001b[0m\u001b[1;32m     10\u001b[0m \u001b[0mprint\u001b[0m\u001b[0;34m(\u001b[0m\u001b[0;34m\"precision:\"\u001b[0m\u001b[0;34m,\u001b[0m \u001b[0mprecision_score\u001b[0m\u001b[0;34m(\u001b[0m\u001b[0my_test\u001b[0m\u001b[0;34m,\u001b[0m \u001b[0mpreds\u001b[0m\u001b[0;34m)\u001b[0m\u001b[0;34m)\u001b[0m\u001b[0;34m\u001b[0m\u001b[0;34m\u001b[0m\u001b[0m\n\u001b[1;32m     11\u001b[0m \u001b[0mprint\u001b[0m\u001b[0;34m(\u001b[0m\u001b[0;34m\"recall:   \"\u001b[0m\u001b[0;34m,\u001b[0m \u001b[0mrecall_score\u001b[0m\u001b[0;34m(\u001b[0m\u001b[0my_test\u001b[0m\u001b[0;34m,\u001b[0m \u001b[0mpreds\u001b[0m\u001b[0;34m)\u001b[0m\u001b[0;34m)\u001b[0m\u001b[0;34m\u001b[0m\u001b[0;34m\u001b[0m\u001b[0m\n",
      "\u001b[0;31mTypeError\u001b[0m: 'numpy.float64' object is not callable"
     ]
    }
   ],
   "source": [
    "dtree_final = dtree_third_model\n",
    "\n",
    "dtree_final.fit(X_train, y_train)\n",
    "\n",
    "preds = dtree_final.predict(X_test)\n",
    "probs = dtree_final.predict_proba(X_test)\n",
    "\n",
    "print(\"log loss: \", log_loss(y_test, probs))\n",
    "print(\"accuracy: \", accuracy_score(y_test, preds))\n",
    "print(\"precision:\", precision_score(y_test, preds))\n",
    "print(\"recall:   \", recall_score(y_test, preds))\n",
    "print(\"F1:   \", f1_score(y_test, preds))"
   ]
  },
  {
   "cell_type": "markdown",
   "metadata": {},
   "source": [
    "## Analysis of Fifth Model:\n",
    "* Performing close to the KNN model, with much less computational cost.\n",
    "* I am curious if a random forest model will improve our chances of correctly predicting loan approval."
   ]
  },
  {
   "cell_type": "markdown",
   "metadata": {},
   "source": [
    "# Sixth Model - Altered Decision Tree"
   ]
  },
  {
   "cell_type": "markdown",
   "metadata": {},
   "source": [
    "## Train, Test, Split df3"
   ]
  },
  {
   "cell_type": "code",
   "execution_count": null,
   "metadata": {
    "ExecuteTime": {
     "end_time": "2022-03-25T18:24:30.125507Z",
     "start_time": "2022-03-25T18:24:20.096Z"
    }
   },
   "outputs": [],
   "source": [
    "# Define X and y\n",
    "y = df3['TARGET']\n",
    "X = df3.drop('TARGET', axis=1)\n",
    "\n",
    "# Perform train-test split with random_state=42 and stratify=y\n",
    "X_train, X_test, y_train, y_test = train_test_split(X, y, test_size=0.25, random_state=123)"
   ]
  },
  {
   "cell_type": "code",
   "execution_count": null,
   "metadata": {
    "ExecuteTime": {
     "end_time": "2022-03-25T18:24:30.134695Z",
     "start_time": "2022-03-25T18:24:20.290Z"
    }
   },
   "outputs": [],
   "source": [
    "tree_clf = DecisionTreeClassifier(max_depth=1000, max_features=10) \n",
    "tree_clf.fit(X_train, y_train)"
   ]
  },
  {
   "cell_type": "code",
   "execution_count": null,
   "metadata": {
    "ExecuteTime": {
     "end_time": "2022-03-25T18:24:30.136651Z",
     "start_time": "2022-03-25T18:24:20.486Z"
    }
   },
   "outputs": [],
   "source": [
    "DecisionTreeClassifier(class_weight=None, criterion='gini', max_depth=5,\n",
    "                       max_features=5, max_leaf_nodes=None,\n",
    "                       min_impurity_decrease=0.0, min_impurity_split=None,\n",
    "                       min_samples_leaf=100, min_samples_split=2,\n",
    "                       min_weight_fraction_leaf=0.0, presort=False,\n",
    "                       random_state=None, splitter='best')"
   ]
  },
  {
   "cell_type": "code",
   "execution_count": null,
   "metadata": {
    "ExecuteTime": {
     "end_time": "2022-03-25T18:24:30.143343Z",
     "start_time": "2022-03-25T18:24:20.713Z"
    }
   },
   "outputs": [],
   "source": [
    "# Feature importance\n",
    "tree_clf.feature_importances_"
   ]
  },
  {
   "cell_type": "code",
   "execution_count": null,
   "metadata": {
    "ExecuteTime": {
     "end_time": "2022-03-25T18:24:30.148865Z",
     "start_time": "2022-03-25T18:24:20.928Z"
    }
   },
   "outputs": [],
   "source": [
    "def plot_feature_importances(model):\n",
    "    n_features = X_train.shape[1]\n",
    "    plt.figure(figsize=(8,8))\n",
    "    plt.barh(range(n_features), model.feature_importances_, align='center') \n",
    "    plt.yticks(np.arange(n_features), X_train.columns.values) \n",
    "    plt.xlabel('Feature importance')\n",
    "    plt.ylabel('Feature')\n",
    "\n",
    "plot_feature_importances(tree_clf)"
   ]
  },
  {
   "cell_type": "code",
   "execution_count": null,
   "metadata": {
    "ExecuteTime": {
     "end_time": "2022-03-25T18:24:30.150848Z",
     "start_time": "2022-03-25T18:24:21.134Z"
    }
   },
   "outputs": [],
   "source": [
    "# Test set predictions\n",
    "pred = tree_clf.predict(X_test)\n",
    "\n",
    "# Confusion matrix and classification report\n",
    "print(confusion_matrix(y_test, pred))\n",
    "print(classification_report(y_test, pred))"
   ]
  },
  {
   "cell_type": "code",
   "execution_count": null,
   "metadata": {
    "ExecuteTime": {
     "end_time": "2022-03-25T18:24:30.157319Z",
     "start_time": "2022-03-25T18:24:21.332Z"
    }
   },
   "outputs": [],
   "source": [
    "print(\"Testing Accuracy for Decision Tree Classifier: {:.4}%\".format(accuracy_score(y_test, pred) * 100))"
   ]
  },
  {
   "cell_type": "code",
   "execution_count": null,
   "metadata": {
    "ExecuteTime": {
     "end_time": "2022-03-25T18:24:30.160577Z",
     "start_time": "2022-03-25T18:24:21.533Z"
    }
   },
   "outputs": [],
   "source": [
    "print_metrics(y_test, test_preds)"
   ]
  },
  {
   "cell_type": "markdown",
   "metadata": {},
   "source": [
    "## Analysis of Sixth Model:\n",
    "* The F1-Score is greatly improved from the logistic regression, KNN, and initial decision tree  classifiers.\n",
    "    * F1 Score tracking:\n",
    "        * Best Logistic Regression: 0.43\n",
    "        * Best KNN: 0.38\n",
    "        * Initial Decision Tree: 0.44\n",
    "        * Altered Decision Tree: 0.31"
   ]
  },
  {
   "cell_type": "markdown",
   "metadata": {},
   "source": [
    "# Seventh Model - Bagged Trees"
   ]
  },
  {
   "cell_type": "code",
   "execution_count": null,
   "metadata": {
    "ExecuteTime": {
     "end_time": "2022-03-25T18:24:30.162531Z",
     "start_time": "2022-03-25T18:24:22.262Z"
    }
   },
   "outputs": [],
   "source": [
    "# Instantiate a BaggingClassifier\n",
    "bagged_tree =  BaggingClassifier(DecisionTreeClassifier(criterion='gini', max_depth=5), \n",
    "                                 n_estimators=20)"
   ]
  },
  {
   "cell_type": "code",
   "execution_count": null,
   "metadata": {
    "ExecuteTime": {
     "end_time": "2022-03-25T18:24:30.165206Z",
     "start_time": "2022-03-25T18:24:22.467Z"
    }
   },
   "outputs": [],
   "source": [
    "# Fit to the training data\n",
    "bagged_tree.fit(X_train, y_train)"
   ]
  },
  {
   "cell_type": "code",
   "execution_count": null,
   "metadata": {
    "ExecuteTime": {
     "end_time": "2022-03-25T18:24:30.169103Z",
     "start_time": "2022-03-25T18:24:22.665Z"
    }
   },
   "outputs": [],
   "source": [
    "# Training accuracy score\n",
    "bagged_tree.score(X_train, y_train)"
   ]
  },
  {
   "cell_type": "code",
   "execution_count": null,
   "metadata": {
    "ExecuteTime": {
     "end_time": "2022-03-25T18:24:30.174728Z",
     "start_time": "2022-03-25T18:24:22.863Z"
    }
   },
   "outputs": [],
   "source": [
    "# Test accuracy score\n",
    "bagged_tree.score(X_test, y_test)"
   ]
  },
  {
   "cell_type": "code",
   "execution_count": null,
   "metadata": {
    "ExecuteTime": {
     "end_time": "2022-03-25T18:24:30.176907Z",
     "start_time": "2022-03-25T18:24:23.057Z"
    }
   },
   "outputs": [],
   "source": [
    "# Test set predictions\n",
    "pred = bagged_tree.predict(X_test)\n",
    "\n",
    "# Confusion matrix and classification report\n",
    "print(confusion_matrix(y_test, pred))\n",
    "print(classification_report(y_test, pred))"
   ]
  },
  {
   "cell_type": "code",
   "execution_count": null,
   "metadata": {
    "ExecuteTime": {
     "end_time": "2022-03-25T18:24:30.179610Z",
     "start_time": "2022-03-25T18:24:23.325Z"
    }
   },
   "outputs": [],
   "source": [
    "print_metrics(y_test, pred)"
   ]
  },
  {
   "cell_type": "markdown",
   "metadata": {},
   "source": [
    "## Analysis of Seventh Model:\n",
    "* The F1-Score is greatly improved from the logistic regression, KNN, and initial decision tree  classifiers.\n",
    "    * F1 Score tracking:\n",
    "        * Best Logistic Regression: 0.43\n",
    "        * Best KNN: 0.38\n",
    "        * Initial Decision Tree: 0.44\n",
    "        * Improved Decision Tree: 0.31\n",
    "        * Bagged Tree: 0.37"
   ]
  },
  {
   "cell_type": "markdown",
   "metadata": {},
   "source": [
    "# 8th Model - Random Forest"
   ]
  },
  {
   "cell_type": "code",
   "execution_count": null,
   "metadata": {
    "ExecuteTime": {
     "end_time": "2022-03-25T18:24:30.183982Z",
     "start_time": "2022-03-25T18:24:23.932Z"
    }
   },
   "outputs": [],
   "source": [
    "# Instantiate and fit a RandomForestClassifier\n",
    "forest = RandomForestClassifier(n_estimators=100, max_depth= 5)\n",
    "forest.fit(X_train, y_train)"
   ]
  },
  {
   "cell_type": "code",
   "execution_count": null,
   "metadata": {
    "ExecuteTime": {
     "end_time": "2022-03-25T18:24:30.186650Z",
     "start_time": "2022-03-25T18:24:24.153Z"
    }
   },
   "outputs": [],
   "source": [
    "# Training accuracy score\n",
    "forest.score(X_train, y_train)"
   ]
  },
  {
   "cell_type": "code",
   "execution_count": null,
   "metadata": {
    "ExecuteTime": {
     "end_time": "2022-03-25T18:24:30.188566Z",
     "start_time": "2022-03-25T18:24:24.359Z"
    }
   },
   "outputs": [],
   "source": [
    "# Test accuracy score\n",
    "forest.score(X_test, y_test)"
   ]
  },
  {
   "cell_type": "code",
   "execution_count": null,
   "metadata": {
    "ExecuteTime": {
     "end_time": "2022-03-25T18:24:30.190070Z",
     "start_time": "2022-03-25T18:24:24.566Z"
    }
   },
   "outputs": [],
   "source": [
    "# Print scores for this model\n",
    "# Find test_preds for forest\n",
    "# print_metrics(y_test, test_preds)"
   ]
  },
  {
   "cell_type": "code",
   "execution_count": null,
   "metadata": {
    "ExecuteTime": {
     "end_time": "2022-03-25T18:24:30.192196Z",
     "start_time": "2022-03-25T18:24:24.764Z"
    }
   },
   "outputs": [],
   "source": [
    "plot_feature_importances(forest)"
   ]
  },
  {
   "cell_type": "code",
   "execution_count": null,
   "metadata": {
    "ExecuteTime": {
     "end_time": "2022-03-25T18:24:30.193554Z",
     "start_time": "2022-03-25T18:24:24.979Z"
    }
   },
   "outputs": [],
   "source": [
    "# Test set predictions\n",
    "pred = forest.predict(X_test)\n",
    "\n",
    "# Confusion matrix and classification report\n",
    "print(confusion_matrix(y_test, pred))\n",
    "print(classification_report(y_test, pred))"
   ]
  },
  {
   "cell_type": "code",
   "execution_count": null,
   "metadata": {
    "ExecuteTime": {
     "end_time": "2022-03-25T18:24:30.194919Z",
     "start_time": "2022-03-25T18:24:25.189Z"
    }
   },
   "outputs": [],
   "source": [
    "print_metrics(y_test, pred)"
   ]
  },
  {
   "cell_type": "markdown",
   "metadata": {},
   "source": [
    "## Analysis of Eighth Model:\n",
    "* The F1-Score is greatly improved from the logistic regression, KNN, and initial decision tree  classifiers.\n",
    "    * F1 Score tracking:\n",
    "        * Best Logistic Regression: 0.43\n",
    "        * Best KNN: 0.38\n",
    "        * Initial Decision Tree: 0.44\n",
    "        * Improved Decision Tree: 0.31\n",
    "        * Bagged Tree: 0.37\n",
    "        * Random Forest: 0.19"
   ]
  },
  {
   "cell_type": "markdown",
   "metadata": {},
   "source": [
    "# Ninth Model - XG Boost"
   ]
  },
  {
   "cell_type": "markdown",
   "metadata": {},
   "source": [
    "## Train, Test, Split df3"
   ]
  },
  {
   "cell_type": "code",
   "execution_count": null,
   "metadata": {
    "ExecuteTime": {
     "end_time": "2022-03-25T18:24:30.196225Z",
     "start_time": "2022-03-25T18:24:26.091Z"
    }
   },
   "outputs": [],
   "source": [
    "# Define X and y\n",
    "y = df3['TARGET']\n",
    "X = df3.drop('TARGET', axis=1)\n",
    "\n",
    "# Perform train-test split with random_state=42 and stratify=y\n",
    "X_train, X_test, y_train, y_test = train_test_split(X, y, test_size=0.25, random_state=42)"
   ]
  },
  {
   "cell_type": "code",
   "execution_count": null,
   "metadata": {
    "ExecuteTime": {
     "end_time": "2022-03-25T18:24:30.200917Z",
     "start_time": "2022-03-25T18:24:26.318Z"
    }
   },
   "outputs": [],
   "source": [
    "# Instantiate XGBClassifier\n",
    "clf = XGBClassifier()\n",
    "\n",
    "# Fit XGBClassifier\n",
    "clf.fit(X_train, y_train)\n",
    "\n",
    "# Predict on training and test sets\n",
    "training_preds = clf.predict(X_train)\n",
    "test_preds = clf.predict(X_test)\n",
    "\n",
    "# Accuracy of training and test sets\n",
    "training_accuracy = accuracy_score(y_train, training_preds)\n",
    "test_accuracy = accuracy_score(y_test, test_preds)\n",
    "\n",
    "print('Training Accuracy: {:.4}%'.format(training_accuracy * 100))\n",
    "print('Validation accuracy: {:.4}%'.format(test_accuracy * 100))"
   ]
  },
  {
   "cell_type": "code",
   "execution_count": null,
   "metadata": {
    "ExecuteTime": {
     "end_time": "2022-03-25T18:24:30.202512Z",
     "start_time": "2022-03-25T18:24:26.527Z"
    }
   },
   "outputs": [],
   "source": [
    "# Confusion matrix and classification report\n",
    "print(confusion_matrix(y_test, test_preds))\n",
    "print(classification_report(y_test, test_preds))"
   ]
  },
  {
   "cell_type": "code",
   "execution_count": null,
   "metadata": {
    "ExecuteTime": {
     "end_time": "2022-03-25T18:24:30.203891Z",
     "start_time": "2022-03-25T18:24:26.736Z"
    }
   },
   "outputs": [],
   "source": [
    "print_metrics(y_test, test_preds)"
   ]
  },
  {
   "cell_type": "markdown",
   "metadata": {},
   "source": [
    "## Analysis of Initial XG Boost Model:\n",
    "* The F1-Score is greatly improved from the logistic regression, KNN, and initial decision tree  classifiers.\n",
    "    * F1 Score tracking:\n",
    "        * Best Logistic Regression: 0.43\n",
    "        * Best KNN: 0.38\n",
    "        * Initial Decision Tree: 0.44\n",
    "        * Improved Decision Tree: 0.31\n",
    "        * Bagged Tree: 0.37\n",
    "        * Random Forest: 0.19\n",
    "        * XG Boost: 0.46\n",
    "* Note that this model is 83% likely to determine that a person will not receive a loan, but only 38% likely to accurately determine that a person will be approved for a loan. \n",
    "    * This from the recall score for 0/1 above."
   ]
  },
  {
   "cell_type": "markdown",
   "metadata": {},
   "source": [
    "## Improve XG Boost"
   ]
  },
  {
   "cell_type": "code",
   "execution_count": null,
   "metadata": {
    "ExecuteTime": {
     "end_time": "2022-03-25T18:24:30.205286Z",
     "start_time": "2022-03-25T18:24:27.422Z"
    }
   },
   "outputs": [],
   "source": [
    "param_grid = {\n",
    "    'learning_rate': [0.1, 0.2],\n",
    "    'max_depth': [6],\n",
    "    'min_child_weight': [1, 2],\n",
    "    'subsample': [0.5, 0.7],\n",
    "    'n_estimators': [100],\n",
    "}"
   ]
  },
  {
   "cell_type": "code",
   "execution_count": null,
   "metadata": {
    "ExecuteTime": {
     "end_time": "2022-03-25T18:24:30.206728Z",
     "start_time": "2022-03-25T18:24:27.644Z"
    }
   },
   "outputs": [],
   "source": [
    "grid_clf = GridSearchCV(clf, param_grid, scoring='accuracy', cv=None, n_jobs=1)\n",
    "grid_clf.fit(X_train, y_train)\n",
    "\n",
    "best_parameters = grid_clf.best_params_\n",
    "\n",
    "print('Grid Search found the following optimal parameters: ')\n",
    "for param_name in sorted(best_parameters.keys()):\n",
    "    print('%s: %r' % (param_name, best_parameters[param_name]))\n",
    "\n",
    "training_preds = grid_clf.predict(X_train)\n",
    "test_preds = grid_clf.predict(X_test)\n",
    "training_accuracy = accuracy_score(y_train, training_preds)\n",
    "test_accuracy = accuracy_score(y_test, test_preds)\n",
    "\n",
    "print('')\n",
    "print('Training Accuracy: {:.4}%'.format(training_accuracy * 100))\n",
    "print('Validation accuracy: {:.4}%'.format(test_accuracy * 100))"
   ]
  },
  {
   "cell_type": "code",
   "execution_count": null,
   "metadata": {
    "ExecuteTime": {
     "end_time": "2022-03-25T18:24:30.208081Z",
     "start_time": "2022-03-25T18:24:27.852Z"
    }
   },
   "outputs": [],
   "source": [
    "print_metrics(y_test, test_preds)"
   ]
  },
  {
   "cell_type": "markdown",
   "metadata": {},
   "source": [
    "## Analysis of Altered XG Boost Model:\n",
    "* The F1-Score is greatly improved from the logistic regression, KNN, and initial decision tree  classifiers.\n",
    "    * F1 Score tracking:\n",
    "        * Best Logistic Regression: 0.43\n",
    "        * Best KNN: 0.38\n",
    "        * Initial Decision Tree: 0.44\n",
    "        * Improved Decision Tree: 0.31\n",
    "        * Bagged Tree: 0.37\n",
    "        * Random Forest: 0.19\n",
    "        * XG Boost: 0.46\n",
    "        * Altered XG Boost: 0.45\n",
    "* Difficult for me to determine the best way to improve these models - I will need to do more research after trying Support Vector Machines."
   ]
  },
  {
   "cell_type": "markdown",
   "metadata": {},
   "source": [
    "# Tenth Model - Support Vector Machines"
   ]
  },
  {
   "cell_type": "code",
   "execution_count": null,
   "metadata": {
    "ExecuteTime": {
     "end_time": "2022-03-25T18:24:30.209581Z",
     "start_time": "2022-03-25T18:24:28.458Z"
    }
   },
   "outputs": [],
   "source": [
    "# Define X and y\n",
    "y = df3['TARGET']\n",
    "X = df3.drop('TARGET', axis=1)\n",
    "\n",
    "# Perform train-test split with random_state=42 and stratify=y\n",
    "X_train, X_test, y_train, y_test = train_test_split(X, y, test_size=0.25, random_state=42)"
   ]
  },
  {
   "cell_type": "code",
   "execution_count": null,
   "metadata": {
    "ExecuteTime": {
     "end_time": "2022-03-25T18:24:30.213623Z",
     "start_time": "2022-03-25T18:24:28.662Z"
    }
   },
   "outputs": [],
   "source": [
    "# Standardize the data\n",
    "std = StandardScaler()\n",
    "X_train_transformed = std.fit_transform(X_train)\n",
    "X_test_transformed = std.transform(X_test)"
   ]
  },
  {
   "cell_type": "code",
   "execution_count": null,
   "metadata": {
    "ExecuteTime": {
     "end_time": "2022-03-25T18:24:30.215285Z",
     "start_time": "2022-03-25T18:24:28.867Z"
    }
   },
   "outputs": [],
   "source": [
    "# Fit SVM model  \n",
    "clf = svm.SVC(probability=True)\n",
    "clf.fit(X_train_transformed, y_train)"
   ]
  },
  {
   "cell_type": "code",
   "execution_count": null,
   "metadata": {
    "ExecuteTime": {
     "end_time": "2022-03-25T18:24:30.216929Z",
     "start_time": "2022-03-25T18:24:29.069Z"
    }
   },
   "outputs": [],
   "source": [
    "SVC(C=1.0, cache_size=200, class_weight=None, coef0=0.0,\n",
    "    decision_function_shape='ovr', degree=3, gamma='auto_deprecated',\n",
    "    kernel='rbf', max_iter=-1, probability=True, random_state=None,\n",
    "    shrinking=True, tol=0.001, verbose=False)"
   ]
  },
  {
   "cell_type": "code",
   "execution_count": null,
   "metadata": {
    "ExecuteTime": {
     "end_time": "2022-03-25T18:24:30.218472Z",
     "start_time": "2022-03-25T18:24:29.275Z"
    }
   },
   "outputs": [],
   "source": [
    "# Calculate the classification accuracy score\n",
    "clf.score(X_test_transformed, y_test)"
   ]
  },
  {
   "cell_type": "code",
   "execution_count": null,
   "metadata": {
    "ExecuteTime": {
     "end_time": "2022-03-25T18:24:30.219996Z",
     "start_time": "2022-03-25T18:24:29.480Z"
    }
   },
   "outputs": [],
   "source": [
    "test_preds = clf.predict(X_test_transformed)"
   ]
  },
  {
   "cell_type": "code",
   "execution_count": null,
   "metadata": {
    "ExecuteTime": {
     "end_time": "2022-03-25T18:24:30.224368Z",
     "start_time": "2022-03-25T18:24:29.691Z"
    }
   },
   "outputs": [],
   "source": [
    "print_metrics(y_test, test_preds)"
   ]
  },
  {
   "cell_type": "markdown",
   "metadata": {},
   "source": [
    "## Analysis of Altered XG Boost Model:\n",
    "* The F1-Score is greatly improved from the logistic regression, KNN, and initial decision tree  classifiers.\n",
    "    * F1 Score tracking:\n",
    "        * Best Logistic Regression: 0.43\n",
    "        * Best KNN: 0.38\n",
    "        * Initial Decision Tree: 0.44\n",
    "        * Improved Decision Tree: 0.31\n",
    "        * Bagged Tree: 0.37\n",
    "        * Random Forest: 0.19\n",
    "        * XG Boost: 0.46\n",
    "        * Altered XG Boost: 0.45\n",
    "        * Support Vector Machine: 0.34\n",
    "* Difficult for me to determine the best way to improve these models. Some things to try include:\n",
    "    * Weak Learner, such as Gradient Boosting|\n",
    "    * Add features\n",
    "        * Use plot feature importance with decision tree to select features.\n",
    "    * Use hyper-parameter tuning to improve best model (XG Boost)"
   ]
  },
  {
   "cell_type": "markdown",
   "metadata": {},
   "source": [
    "# Eleventh Model - Gradient Boost\n",
    "* Will weak learners help make sense of the 'noise' in the data set?"
   ]
  },
  {
   "cell_type": "code",
   "execution_count": 89,
   "metadata": {
    "ExecuteTime": {
     "end_time": "2022-03-25T18:24:30.373866Z",
     "start_time": "2022-03-25T18:24:30.331877Z"
    }
   },
   "outputs": [],
   "source": [
    "# Define X and y\n",
    "y = df3['TARGET']\n",
    "X = df3.drop('TARGET', axis=1)\n",
    "\n",
    "# Perform train-test split with random_state=42 and stratify=y\n",
    "X_train, X_test, y_train, y_test = train_test_split(X, y, test_size=0.25, random_state=42)"
   ]
  },
  {
   "cell_type": "code",
   "execution_count": 90,
   "metadata": {
    "ExecuteTime": {
     "end_time": "2022-03-25T18:24:30.530485Z",
     "start_time": "2022-03-25T18:24:30.522858Z"
    }
   },
   "outputs": [],
   "source": [
    "# Instantiate an AdaBoostClassifier\n",
    "adaboost_clf = AdaBoostClassifier(random_state=42)\n",
    "\n",
    "# Instantiate an GradientBoostingClassifier\n",
    "gbt_clf = GradientBoostingClassifier(random_state=42)"
   ]
  },
  {
   "cell_type": "code",
   "execution_count": 91,
   "metadata": {
    "ExecuteTime": {
     "end_time": "2022-03-25T18:24:34.427067Z",
     "start_time": "2022-03-25T18:24:30.740114Z"
    }
   },
   "outputs": [
    {
     "data": {
      "text/plain": [
       "AdaBoostClassifier(random_state=42)"
      ]
     },
     "execution_count": 91,
     "metadata": {},
     "output_type": "execute_result"
    }
   ],
   "source": [
    "# Fit AdaBoostClassifier\n",
    "adaboost_clf.fit(X_train, y_train)"
   ]
  },
  {
   "cell_type": "code",
   "execution_count": 92,
   "metadata": {
    "ExecuteTime": {
     "end_time": "2022-03-25T18:24:34.446188Z",
     "start_time": "2022-03-25T18:24:34.430791Z"
    }
   },
   "outputs": [
    {
     "data": {
      "text/plain": [
       "AdaBoostClassifier(random_state=42)"
      ]
     },
     "execution_count": 92,
     "metadata": {},
     "output_type": "execute_result"
    }
   ],
   "source": [
    "AdaBoostClassifier(algorithm='SAMME.R', base_estimator=None, learning_rate=1.0,\n",
    "                   n_estimators=50, random_state=42)"
   ]
  },
  {
   "cell_type": "code",
   "execution_count": 93,
   "metadata": {
    "ExecuteTime": {
     "end_time": "2022-03-25T18:24:45.502166Z",
     "start_time": "2022-03-25T18:24:34.454521Z"
    }
   },
   "outputs": [
    {
     "data": {
      "text/plain": [
       "GradientBoostingClassifier(random_state=42)"
      ]
     },
     "execution_count": 93,
     "metadata": {},
     "output_type": "execute_result"
    }
   ],
   "source": [
    "# Fit GradientBoostingClassifier\n",
    "gbt_clf.fit(X_train, y_train)"
   ]
  },
  {
   "cell_type": "code",
   "execution_count": 94,
   "metadata": {
    "ExecuteTime": {
     "end_time": "2022-03-25T18:24:45.519063Z",
     "start_time": "2022-03-25T18:24:45.506577Z"
    }
   },
   "outputs": [
    {
     "data": {
      "text/plain": [
       "GradientBoostingClassifier(presort='auto', random_state=42)"
      ]
     },
     "execution_count": 94,
     "metadata": {},
     "output_type": "execute_result"
    }
   ],
   "source": [
    "GradientBoostingClassifier(criterion='friedman_mse', init=None,\n",
    "                           learning_rate=0.1, loss='deviance', max_depth=3,\n",
    "                           max_features=None, max_leaf_nodes=None,\n",
    "                           min_impurity_decrease=0.0, min_impurity_split=None,\n",
    "                           min_samples_leaf=1, min_samples_split=2,\n",
    "                           min_weight_fraction_leaf=0.0, n_estimators=100,\n",
    "                           n_iter_no_change=None, presort='auto',\n",
    "                           random_state=42, subsample=1.0, tol=0.0001,\n",
    "                           validation_fraction=0.1, verbose=0,\n",
    "                           warm_start=False)"
   ]
  },
  {
   "cell_type": "code",
   "execution_count": 95,
   "metadata": {
    "ExecuteTime": {
     "end_time": "2022-03-25T18:24:46.637003Z",
     "start_time": "2022-03-25T18:24:45.522172Z"
    }
   },
   "outputs": [],
   "source": [
    "# AdaBoost model predictions\n",
    "adaboost_train_preds = adaboost_clf.predict(X_train)\n",
    "adaboost_test_preds = adaboost_clf.predict(X_test)\n",
    "\n",
    "# GradientBoosting model predictions\n",
    "gbt_clf_train_preds = gbt_clf.predict(X_train)\n",
    "gbt_clf_test_preds = gbt_clf.predict(X_test)"
   ]
  },
  {
   "cell_type": "code",
   "execution_count": 96,
   "metadata": {
    "ExecuteTime": {
     "end_time": "2022-03-25T18:24:46.685094Z",
     "start_time": "2022-03-25T18:24:46.640269Z"
    }
   },
   "outputs": [
    {
     "name": "stdout",
     "output_type": "stream",
     "text": [
      "Training Metrics\n"
     ]
    },
    {
     "ename": "TypeError",
     "evalue": "'numpy.float64' object is not callable",
     "output_type": "error",
     "traceback": [
      "\u001b[0;31m---------------------------------------------------------------------------\u001b[0m",
      "\u001b[0;31mTypeError\u001b[0m                                 Traceback (most recent call last)",
      "\u001b[0;32m<ipython-input-96-60e5d018d932>\u001b[0m in \u001b[0;36m<module>\u001b[0;34m\u001b[0m\n\u001b[1;32m      7\u001b[0m \u001b[0;34m\u001b[0m\u001b[0m\n\u001b[1;32m      8\u001b[0m \u001b[0mprint\u001b[0m\u001b[0;34m(\u001b[0m\u001b[0;34m\"Training Metrics\"\u001b[0m\u001b[0;34m)\u001b[0m\u001b[0;34m\u001b[0m\u001b[0;34m\u001b[0m\u001b[0m\n\u001b[0;32m----> 9\u001b[0;31m \u001b[0mdisplay_acc_and_f1_score\u001b[0m\u001b[0;34m(\u001b[0m\u001b[0my_train\u001b[0m\u001b[0;34m,\u001b[0m \u001b[0madaboost_train_preds\u001b[0m\u001b[0;34m,\u001b[0m \u001b[0mmodel_name\u001b[0m\u001b[0;34m=\u001b[0m\u001b[0;34m'AdaBoost'\u001b[0m\u001b[0;34m)\u001b[0m\u001b[0;34m\u001b[0m\u001b[0;34m\u001b[0m\u001b[0m\n\u001b[0m\u001b[1;32m     10\u001b[0m \u001b[0mprint\u001b[0m\u001b[0;34m(\u001b[0m\u001b[0;34m\"\"\u001b[0m\u001b[0;34m)\u001b[0m\u001b[0;34m\u001b[0m\u001b[0;34m\u001b[0m\u001b[0m\n\u001b[1;32m     11\u001b[0m \u001b[0mdisplay_acc_and_f1_score\u001b[0m\u001b[0;34m(\u001b[0m\u001b[0my_train\u001b[0m\u001b[0;34m,\u001b[0m \u001b[0mgbt_clf_train_preds\u001b[0m\u001b[0;34m,\u001b[0m \u001b[0mmodel_name\u001b[0m\u001b[0;34m=\u001b[0m\u001b[0;34m'Gradient Boosted Trees'\u001b[0m\u001b[0;34m)\u001b[0m\u001b[0;34m\u001b[0m\u001b[0;34m\u001b[0m\u001b[0m\n",
      "\u001b[0;32m<ipython-input-96-60e5d018d932>\u001b[0m in \u001b[0;36mdisplay_acc_and_f1_score\u001b[0;34m(true, preds, model_name)\u001b[0m\n\u001b[1;32m      1\u001b[0m \u001b[0;32mdef\u001b[0m \u001b[0mdisplay_acc_and_f1_score\u001b[0m\u001b[0;34m(\u001b[0m\u001b[0mtrue\u001b[0m\u001b[0;34m,\u001b[0m \u001b[0mpreds\u001b[0m\u001b[0;34m,\u001b[0m \u001b[0mmodel_name\u001b[0m\u001b[0;34m)\u001b[0m\u001b[0;34m:\u001b[0m\u001b[0;34m\u001b[0m\u001b[0;34m\u001b[0m\u001b[0m\n\u001b[0;32m----> 2\u001b[0;31m     \u001b[0macc\u001b[0m \u001b[0;34m=\u001b[0m \u001b[0maccuracy_score\u001b[0m\u001b[0;34m(\u001b[0m\u001b[0mtrue\u001b[0m\u001b[0;34m,\u001b[0m \u001b[0mpreds\u001b[0m\u001b[0;34m)\u001b[0m\u001b[0;34m\u001b[0m\u001b[0;34m\u001b[0m\u001b[0m\n\u001b[0m\u001b[1;32m      3\u001b[0m     \u001b[0mf1\u001b[0m \u001b[0;34m=\u001b[0m \u001b[0mf1_score\u001b[0m\u001b[0;34m(\u001b[0m\u001b[0mtrue\u001b[0m\u001b[0;34m,\u001b[0m \u001b[0mpreds\u001b[0m\u001b[0;34m)\u001b[0m\u001b[0;34m\u001b[0m\u001b[0;34m\u001b[0m\u001b[0m\n\u001b[1;32m      4\u001b[0m     \u001b[0mprint\u001b[0m\u001b[0;34m(\u001b[0m\u001b[0;34m\"Model: {}\"\u001b[0m\u001b[0;34m.\u001b[0m\u001b[0mformat\u001b[0m\u001b[0;34m(\u001b[0m\u001b[0mmodel_name\u001b[0m\u001b[0;34m)\u001b[0m\u001b[0;34m)\u001b[0m\u001b[0;34m\u001b[0m\u001b[0;34m\u001b[0m\u001b[0m\n\u001b[1;32m      5\u001b[0m     \u001b[0mprint\u001b[0m\u001b[0;34m(\u001b[0m\u001b[0;34m\"Accuracy: {}\"\u001b[0m\u001b[0;34m.\u001b[0m\u001b[0mformat\u001b[0m\u001b[0;34m(\u001b[0m\u001b[0macc\u001b[0m\u001b[0;34m)\u001b[0m\u001b[0;34m)\u001b[0m\u001b[0;34m\u001b[0m\u001b[0;34m\u001b[0m\u001b[0m\n",
      "\u001b[0;31mTypeError\u001b[0m: 'numpy.float64' object is not callable"
     ]
    }
   ],
   "source": [
    "def display_acc_and_f1_score(true, preds, model_name):\n",
    "    acc = accuracy_score(true, preds)\n",
    "    f1 = f1_score(true, preds)\n",
    "    print(\"Model: {}\".format(model_name))\n",
    "    print(\"Accuracy: {}\".format(acc))\n",
    "    print(\"F1-Score: {}\".format(f1))\n",
    "    \n",
    "print(\"Training Metrics\")\n",
    "display_acc_and_f1_score(y_train, adaboost_train_preds, model_name='AdaBoost')\n",
    "print(\"\")\n",
    "display_acc_and_f1_score(y_train, gbt_clf_train_preds, model_name='Gradient Boosted Trees')\n",
    "print(\"\")\n",
    "print(\"Testing Metrics\")\n",
    "display_acc_and_f1_score(y_test, adaboost_test_preds, model_name='AdaBoost')\n",
    "print(\"\")\n",
    "display_acc_and_f1_score(y_test, gbt_clf_test_preds, model_name='Gradient Boosted Trees')"
   ]
  },
  {
   "cell_type": "code",
   "execution_count": null,
   "metadata": {
    "ExecuteTime": {
     "end_time": "2022-03-25T18:24:46.696171Z",
     "start_time": "2022-03-25T18:24:32.302Z"
    }
   },
   "outputs": [],
   "source": [
    "adaboost_confusion_matrix = confusion_matrix(y_test, adaboost_test_preds)\n",
    "adaboost_confusion_matrix"
   ]
  },
  {
   "cell_type": "code",
   "execution_count": null,
   "metadata": {
    "ExecuteTime": {
     "end_time": "2022-03-25T18:24:46.698467Z",
     "start_time": "2022-03-25T18:24:32.612Z"
    }
   },
   "outputs": [],
   "source": [
    "gbt_confusion_matrix = confusion_matrix(y_test, gbt_clf_test_preds)\n",
    "gbt_confusion_matrix"
   ]
  },
  {
   "cell_type": "code",
   "execution_count": null,
   "metadata": {
    "ExecuteTime": {
     "end_time": "2022-03-25T18:22:41.914584Z",
     "start_time": "2022-03-25T18:22:04.729Z"
    },
    "scrolled": true
   },
   "outputs": [],
   "source": [
    "adaboost_classification_report = classification_report(y_test, adaboost_test_preds)\n",
    "print(adaboost_classification_report)"
   ]
  },
  {
   "cell_type": "code",
   "execution_count": null,
   "metadata": {
    "ExecuteTime": {
     "end_time": "2022-03-25T18:22:41.917450Z",
     "start_time": "2022-03-25T18:22:04.745Z"
    }
   },
   "outputs": [],
   "source": [
    "gbt_classification_report = classification_report(y_test, gbt_clf_test_preds)\n",
    "print(gbt_classification_report)"
   ]
  },
  {
   "cell_type": "code",
   "execution_count": null,
   "metadata": {
    "ExecuteTime": {
     "end_time": "2022-03-25T18:22:41.919714Z",
     "start_time": "2022-03-25T18:22:04.758Z"
    }
   },
   "outputs": [],
   "source": [
    "print('Mean Adaboost Cross-Val Score (k=5):')\n",
    "print(cross_val_score(adaboost_clf, X, y, cv=5).mean())"
   ]
  },
  {
   "cell_type": "markdown",
   "metadata": {},
   "source": [
    "## Tune Learning Rate\n",
    "* Iterated on this many times - \n",
    "    * High learning rate (near 1.0) is the best.\n",
    "        * Learning rate should be in range of 0.0 - 1.0"
   ]
  },
  {
   "cell_type": "code",
   "execution_count": null,
   "metadata": {
    "ExecuteTime": {
     "end_time": "2022-03-25T18:22:41.923591Z",
     "start_time": "2022-03-25T18:22:04.775Z"
    }
   },
   "outputs": [],
   "source": [
    "# Define X and y\n",
    "y = df3['TARGET']\n",
    "X = df3.drop('TARGET', axis=1)\n",
    "\n",
    "# Perform train-test split with random_state=42 and stratify=y\n",
    "X_train, X_test, y_train, y_test = train_test_split(X, y, test_size=0.25, random_state=42)"
   ]
  },
  {
   "cell_type": "code",
   "execution_count": null,
   "metadata": {
    "ExecuteTime": {
     "end_time": "2022-03-25T18:22:41.929088Z",
     "start_time": "2022-03-25T18:22:04.790Z"
    }
   },
   "outputs": [],
   "source": [
    "# Instantiate an AdaBoostClassifier\n",
    "adaboost_clf = AdaBoostClassifier(learning_rate=0.99, random_state=42)\n",
    "\n",
    "# Instantiate an GradientBoostingClassifier\n",
    "gbt_clf = GradientBoostingClassifier(learning_rate=1, random_state=42)"
   ]
  },
  {
   "cell_type": "code",
   "execution_count": null,
   "metadata": {
    "ExecuteTime": {
     "end_time": "2022-03-25T18:22:41.931570Z",
     "start_time": "2022-03-25T18:22:04.804Z"
    }
   },
   "outputs": [],
   "source": [
    "# Fit AdaBoostClassifier\n",
    "adaboost_clf.fit(X_train, y_train)"
   ]
  },
  {
   "cell_type": "code",
   "execution_count": null,
   "metadata": {
    "ExecuteTime": {
     "end_time": "2022-03-25T18:22:41.933365Z",
     "start_time": "2022-03-25T18:22:04.819Z"
    }
   },
   "outputs": [],
   "source": [
    "AdaBoostClassifier(algorithm='SAMME.R', base_estimator=None, learning_rate=1.0,\n",
    "                   n_estimators=50, random_state=42)"
   ]
  },
  {
   "cell_type": "code",
   "execution_count": null,
   "metadata": {
    "ExecuteTime": {
     "end_time": "2022-03-25T18:22:41.935781Z",
     "start_time": "2022-03-25T18:22:04.837Z"
    }
   },
   "outputs": [],
   "source": [
    "# Fit GradientBoostingClassifier\n",
    "gbt_clf.fit(X_train, y_train)"
   ]
  },
  {
   "cell_type": "code",
   "execution_count": null,
   "metadata": {
    "ExecuteTime": {
     "end_time": "2022-03-25T18:22:41.937739Z",
     "start_time": "2022-03-25T18:22:04.851Z"
    }
   },
   "outputs": [],
   "source": [
    "GradientBoostingClassifier(criterion='friedman_mse', init=None,\n",
    "                           learning_rate=0.1, loss='deviance', max_depth=3,\n",
    "                           max_features=None, max_leaf_nodes=None,\n",
    "                           min_impurity_decrease=0.0, min_impurity_split=None,\n",
    "                           min_samples_leaf=1, min_samples_split=2,\n",
    "                           min_weight_fraction_leaf=0.0, n_estimators=100,\n",
    "                           n_iter_no_change=None, presort='auto',\n",
    "                           random_state=42, subsample=1.0, tol=0.0001,\n",
    "                           validation_fraction=0.1, verbose=0,\n",
    "                           warm_start=False)"
   ]
  },
  {
   "cell_type": "code",
   "execution_count": null,
   "metadata": {
    "ExecuteTime": {
     "end_time": "2022-03-25T18:22:41.939774Z",
     "start_time": "2022-03-25T18:22:04.865Z"
    }
   },
   "outputs": [],
   "source": [
    "# AdaBoost model predictions\n",
    "adaboost_train_preds = adaboost_clf.predict(X_train)\n",
    "adaboost_test_preds = adaboost_clf.predict(X_test)\n",
    "\n",
    "# GradientBoosting model predictions\n",
    "gbt_clf_train_preds = gbt_clf.predict(X_train)\n",
    "gbt_clf_test_preds = gbt_clf.predict(X_test)"
   ]
  },
  {
   "cell_type": "code",
   "execution_count": null,
   "metadata": {
    "ExecuteTime": {
     "end_time": "2022-03-25T18:22:41.941918Z",
     "start_time": "2022-03-25T18:22:04.880Z"
    }
   },
   "outputs": [],
   "source": [
    "def display_acc_and_f1_score(true, preds, model_name):\n",
    "    acc = accuracy_score(true, preds)\n",
    "    f1 = f1_score(true, preds)\n",
    "    print(\"Model: {}\".format(model_name))\n",
    "    print(\"Accuracy: {}\".format(acc))\n",
    "    print(\"F1-Score: {}\".format(f1))\n",
    "    \n",
    "print(\"Training Metrics\")\n",
    "display_acc_and_f1_score(y_train, adaboost_train_preds, model_name='AdaBoost')\n",
    "print(\"\")\n",
    "display_acc_and_f1_score(y_train, gbt_clf_train_preds, model_name='Gradient Boosted Trees')\n",
    "print(\"\")\n",
    "print(\"Testing Metrics\")\n",
    "display_acc_and_f1_score(y_test, adaboost_test_preds, model_name='AdaBoost')\n",
    "print(\"\")\n",
    "display_acc_and_f1_score(y_test, gbt_clf_test_preds, model_name='Gradient Boosted Trees')"
   ]
  },
  {
   "cell_type": "code",
   "execution_count": null,
   "metadata": {
    "ExecuteTime": {
     "end_time": "2022-03-25T18:22:41.943953Z",
     "start_time": "2022-03-25T18:22:04.894Z"
    }
   },
   "outputs": [],
   "source": [
    "adaboost_confusion_matrix = confusion_matrix(y_test, adaboost_test_preds)\n",
    "adaboost_confusion_matrix"
   ]
  },
  {
   "cell_type": "code",
   "execution_count": null,
   "metadata": {
    "ExecuteTime": {
     "end_time": "2022-03-25T18:22:41.946067Z",
     "start_time": "2022-03-25T18:22:04.908Z"
    }
   },
   "outputs": [],
   "source": [
    "gbt_confusion_matrix = confusion_matrix(y_test, gbt_clf_test_preds)\n",
    "gbt_confusion_matrix"
   ]
  },
  {
   "cell_type": "code",
   "execution_count": null,
   "metadata": {
    "ExecuteTime": {
     "end_time": "2022-03-25T18:22:41.948444Z",
     "start_time": "2022-03-25T18:22:04.922Z"
    }
   },
   "outputs": [],
   "source": [
    "# Confusion matrix and classification report\n",
    "print(confusion_matrix(y_test, gbt_clf_test_preds))\n",
    "print(classification_report(y_test, gbt_clf_test_preds))"
   ]
  },
  {
   "cell_type": "markdown",
   "metadata": {},
   "source": [
    "## Analysis of Gradient Boost Model:\n",
    "* The F1-Score is only slightly improved from the logistic regression, KNN, and initial decision tree  classifiers.\n",
    "    * F1 Score tracking:\n",
    "        * Best Logistic Regression: 0.43\n",
    "        * Best KNN: 0.38\n",
    "        * Initial Decision Tree: 0.44\n",
    "        * Improved Decision Tree: 0.31\n",
    "        * Bagged Tree: 0.37\n",
    "        * Random Forest: 0.19\n",
    "        * XG Boost: 0.46\n",
    "        * Altered XG Boost: 0.45\n",
    "        * Support Vector Machine: 0.34\n",
    "        * Gradient Boost: 0.46\n",
    "* Next things to try include:\n",
    "    * Add features\n",
    "        * Use plot feature importance with decision tree to select features.\n",
    "    * Use hyper-parameter tuning to improve best model (XG Boost)"
   ]
  },
  {
   "cell_type": "markdown",
   "metadata": {},
   "source": [
    "## Preprocess Data\n",
    "* Reduce Class Imbalance Issue:\n",
    "    * Sample 40,000 '0' values from the data set and use 25,000 '1' values, for 65,000 total values. \n",
    "* Trim columns based on manual feature selection select 20 columns with highest relevance according to me."
   ]
  },
  {
   "cell_type": "markdown",
   "metadata": {},
   "source": [
    "### Select Features"
   ]
  },
  {
   "cell_type": "code",
   "execution_count": null,
   "metadata": {
    "ExecuteTime": {
     "end_time": "2022-03-25T18:22:41.951009Z",
     "start_time": "2022-03-25T18:22:04.943Z"
    }
   },
   "outputs": [],
   "source": [
    "# iterating print for the columns\n",
    "cols = []\n",
    "for col in df.columns:\n",
    "    cols.append(col)\n",
    "    print(col)\n",
    "print(len(cols))"
   ]
  },
  {
   "cell_type": "markdown",
   "metadata": {},
   "source": [
    "## Feature Selection\n",
    "* Recursive Feature Selection (RFE) with sklearn"
   ]
  },
  {
   "cell_type": "code",
   "execution_count": null,
   "metadata": {
    "ExecuteTime": {
     "end_time": "2022-03-25T18:22:41.953493Z",
     "start_time": "2022-03-25T18:22:04.959Z"
    }
   },
   "outputs": [],
   "source": [
    "df.info()"
   ]
  },
  {
   "cell_type": "code",
   "execution_count": null,
   "metadata": {
    "ExecuteTime": {
     "end_time": "2022-03-25T18:22:41.955417Z",
     "start_time": "2022-03-25T18:22:04.975Z"
    }
   },
   "outputs": [],
   "source": [
    "df_num = df.select_dtypes(include=[np.number])\n",
    "df_num.info()"
   ]
  },
  {
   "cell_type": "code",
   "execution_count": null,
   "metadata": {
    "ExecuteTime": {
     "end_time": "2022-03-25T18:22:41.958669Z",
     "start_time": "2022-03-25T18:22:04.991Z"
    }
   },
   "outputs": [],
   "source": [
    "X = df_num.drop('TARGET', axis=1)\n",
    "y = df_num['TARGET']\n",
    "\n",
    "# Build a classification task using 3 informative features\n",
    "X, y = make_classification(\n",
    "    n_samples=1000,\n",
    "    n_features=120,\n",
    "    n_informative=30,\n",
    "    n_redundant=2,\n",
    "    n_repeated=0,\n",
    "    n_classes=8,\n",
    "    n_clusters_per_class=1,\n",
    "    random_state=0,\n",
    ")\n",
    "\n",
    "# Create the RFE object and compute a cross-validated score.\n",
    "svc = SVC(kernel=\"linear\")\n",
    "# The \"accuracy\" scoring shows the proportion of correct classifications\n",
    "\n",
    "min_features_to_select = 1  # Minimum number of features to consider\n",
    "rfecv = RFECV(\n",
    "    estimator=svc,\n",
    "    step=1,\n",
    "    cv=StratifiedKFold(2),\n",
    "    scoring=\"accuracy\",\n",
    "    min_features_to_select=min_features_to_select,\n",
    ")\n",
    "rfecv.fit(X, y)\n",
    "\n",
    "print(\"Optimal number of features : %d\" % rfecv.n_features_)\n",
    "\n",
    "# Plot number of features VS. cross-validation scores\n",
    "plt.figure()\n",
    "plt.xlabel(\"Number of features selected\")\n",
    "plt.ylabel(\"Cross validation score (accuracy)\")\n",
    "plt.plot(\n",
    "    range(min_features_to_select, len(rfecv.grid_scores_) + min_features_to_select),\n",
    "    rfecv.grid_scores_,\n",
    ")\n",
    "plt.show()"
   ]
  },
  {
   "cell_type": "code",
   "execution_count": null,
   "metadata": {
    "ExecuteTime": {
     "end_time": "2022-03-25T18:22:41.963775Z",
     "start_time": "2022-03-25T18:22:05.005Z"
    }
   },
   "outputs": [],
   "source": [
    "for i in df_num.columns[df_num.isnull().any(axis=0)]:     #---Applying Only on variables with NaN values\n",
    "    df_num[i].fillna(df_num[i].mean(),inplace=True)\n",
    "\n",
    "print(df_num.isnull().sum())"
   ]
  },
  {
   "cell_type": "code",
   "execution_count": null,
   "metadata": {
    "ExecuteTime": {
     "end_time": "2022-03-25T18:22:41.967280Z",
     "start_time": "2022-03-25T18:22:05.018Z"
    }
   },
   "outputs": [],
   "source": [
    "# permutations too computationally expensive to run (20+ minutes)\n",
    "\n",
    "# from sklearn.inspection import permutation_importance\n",
    "\n",
    "# X = df_num.drop('TARGET', axis=1)\n",
    "# y = df_num['TARGET']\n",
    "\n",
    "# X_train, X_test, y_train, y_test = train_test_split(X, y, stratify=y, random_state=42)\n",
    "\n",
    "# forest = RandomForestClassifier(random_state=0)\n",
    "# forest.fit(X_train, y_train)\n",
    "\n",
    "# result = permutation_importance(\n",
    "#     forest, X_test, y_test, n_repeats=10, random_state=42, n_jobs=2, \n",
    "# )\n",
    "\n",
    "# forest_importances = pd.Series(result.importances_mean, index=feature_names)\n",
    "# forest_importances"
   ]
  },
  {
   "cell_type": "markdown",
   "metadata": {},
   "source": [
    "### Create dataframe with selected features"
   ]
  },
  {
   "cell_type": "code",
   "execution_count": null,
   "metadata": {
    "ExecuteTime": {
     "end_time": "2022-03-25T18:22:41.975741Z",
     "start_time": "2022-03-25T18:22:05.035Z"
    }
   },
   "outputs": [],
   "source": [
    "# Create new dataframe with selected features\n",
    "df4 = df.filter(['TARGET', \n",
    "                 'CNT_CHILDREN', \n",
    "                 'AMT_INCOME_TOTAL',\n",
    "                 'AMT_CREDIT', \n",
    "                 'AMT_ANNUITY',\n",
    "                 'NAME_EDUCATION_TYPE',\n",
    "                 'DAYS_EMPLOYED',\n",
    "                 'CNT_FAM_MEMBERS',\n",
    "                 'DAYS_BIRTH',\n",
    "                 'NAME_INCOME_TYPE',\n",
    "                 'AMT_GOODS_PRICE',\n",
    "                 'CODE_GENDER',\n",
    "                 'FLAG_OWN_REALTY',\n",
    "                 'REGION_RATING_CLIENT',\n",
    "                 'ORGANIZATION_TYPE',\n",
    "                 'DAYS_REGISTRATION',\n",
    "                 'REGION_POPULATION_RELATIVE',\n",
    "                 'NAME_HOUSING_TYPE',\n",
    "                 'NAME_FAMILY_STATUS',\n",
    "                 'NAME_TYPE_SUITE',\n",
    "                 'FLAG_OWN_CAR',\n",
    "                 'NAME_CONTRACT_TYPE',\n",
    "                 'LIVE_REGION_NOT_WORK_REGION',\n",
    "                 'EXT_SOURCE_1',\n",
    "                 'EXT_SOURCE_2',\n",
    "                 'EXT_SOURCE_3',\n",
    "                 'APARTMENTS_AVG',\n",
    "                 'YEARS_BUILD_AVG',\n",
    "                 'YEARS_BEGIN_EXPLUATION_AVG',\n",
    "                 'FLOORSMAX_AVG',\n",
    "                 'NONLIVINGAREA_AVG',\n",
    "                 'TOTALAREA_MODE',\n",
    "                 'DAYS_LAST_PHONE_CHANGE',\n",
    "                 'LIVINGAREA_MEDI',\n",
    "                 'NONLIVINGAREA_MEDI',\n",
    "                 'AMT_REQ_CREDIT_BUREAU_HOUR',\n",
    "                 'AMT_REQ_CREDIT_BUREAU_DAY',\n",
    "                 'AMT_REQ_CREDIT_BUREAU_WEEK',\n",
    "                 'AMT_REQ_CREDIT_BUREAU_MON',\n",
    "                 'AMT_REQ_CREDIT_BUREAU_QRT',\n",
    "                 'AMT_REQ_CREDIT_BUREAU_YEAR'], \n",
    "                axis=1)\n",
    "df4.info()"
   ]
  },
  {
   "cell_type": "markdown",
   "metadata": {},
   "source": [
    "### Notable Values, dtypes, Potential Issues\n",
    "* 22 features with missing values:\n",
    "     * Replace null with mean or mode (categorical) unless otherwise noted for above features.\n",
    "* 10 Categorical Variables: \n",
    "    * NAME_EDUCATION_TYPE\n",
    "    * NAME_INCOME_TYPE\n",
    "    * CODE_GENDER\n",
    "    * FLAG_OWN_REALTY\n",
    "    * ORGANIZATION_TYPE\n",
    "    * NAME_HOUSING_TYPE           \n",
    "    * NAME_FAMILY_STATUS           \n",
    "    * NAME_TYPE_SUITE               \n",
    "    * FLAG_OWN_CAR                  \n",
    "    * NAME_CONTRACT_TYPE"
   ]
  },
  {
   "cell_type": "markdown",
   "metadata": {},
   "source": [
    "## Randomly Select 40,000 '0' values from 'TARGET'\n",
    "* Will reduce size of dataframe for faster processing on local machine.\n",
    "* Leaves a lot of data available for testing."
   ]
  },
  {
   "cell_type": "code",
   "execution_count": null,
   "metadata": {
    "ExecuteTime": {
     "end_time": "2022-03-25T18:22:41.982821Z",
     "start_time": "2022-03-25T18:22:05.053Z"
    }
   },
   "outputs": [],
   "source": [
    "df_zero_val = df4[df4.TARGET == 0]\n",
    "df_zero_val['TARGET'].value_counts()"
   ]
  },
  {
   "cell_type": "code",
   "execution_count": null,
   "metadata": {
    "ExecuteTime": {
     "end_time": "2022-03-25T18:22:41.984946Z",
     "start_time": "2022-03-25T18:22:05.068Z"
    }
   },
   "outputs": [],
   "source": [
    "df_zero_val = df_zero_val.sample(n=40000)\n",
    "df_zero_val['TARGET'].value_counts()"
   ]
  },
  {
   "cell_type": "code",
   "execution_count": null,
   "metadata": {
    "ExecuteTime": {
     "end_time": "2022-03-25T18:22:41.987238Z",
     "start_time": "2022-03-25T18:22:05.082Z"
    }
   },
   "outputs": [],
   "source": [
    "df_one_val = df4[df4.TARGET == 1]\n",
    "df_one_val['TARGET'].value_counts()"
   ]
  },
  {
   "cell_type": "code",
   "execution_count": null,
   "metadata": {
    "ExecuteTime": {
     "end_time": "2022-03-25T18:22:41.991022Z",
     "start_time": "2022-03-25T18:22:05.096Z"
    }
   },
   "outputs": [],
   "source": [
    "df5 = df_zero_val.append(df_one_val)\n",
    "df5['TARGET'].value_counts()"
   ]
  },
  {
   "cell_type": "markdown",
   "metadata": {},
   "source": [
    "## Clean up null and missing values"
   ]
  },
  {
   "cell_type": "code",
   "execution_count": null,
   "metadata": {
    "ExecuteTime": {
     "end_time": "2022-03-25T18:22:41.992920Z",
     "start_time": "2022-03-25T18:22:05.113Z"
    }
   },
   "outputs": [],
   "source": [
    "df5.isnull().sum()"
   ]
  },
  {
   "cell_type": "markdown",
   "metadata": {},
   "source": [
    "### Decisions for null values\n",
    "* Replace missing value from AMT_ANNUITY with mode\n",
    "* Replace all missing values from numerical features with mean"
   ]
  },
  {
   "cell_type": "markdown",
   "metadata": {},
   "source": [
    "## Separate Numericals & Categoricals\n",
    "* Complete further investigation of features\n",
    "    * What form of normalization will be used for numericals, if any?\n",
    "    * Will all categorical features be appropriate for one hot encoding?"
   ]
  },
  {
   "cell_type": "code",
   "execution_count": null,
   "metadata": {
    "ExecuteTime": {
     "end_time": "2022-03-25T18:22:42.001271Z",
     "start_time": "2022-03-25T18:22:05.131Z"
    }
   },
   "outputs": [],
   "source": [
    "# Select only numerical features\n",
    "num5 = df5.select_dtypes(include=np.number)\n",
    "num5.info()"
   ]
  },
  {
   "cell_type": "markdown",
   "metadata": {},
   "source": [
    "### Replace missing values for AMT_GOODS_PRICE & AMT_ANNUITY with mean"
   ]
  },
  {
   "cell_type": "code",
   "execution_count": null,
   "metadata": {
    "ExecuteTime": {
     "end_time": "2022-03-25T18:22:42.003956Z",
     "start_time": "2022-03-25T18:22:05.149Z"
    }
   },
   "outputs": [],
   "source": [
    "# Replace null values in numerical columns with mean\n",
    "for i in num5.columns[num5.isnull().any(axis=0)]:     #---Applying Only on variables with NaN values\n",
    "    num5[i].fillna(num5[i].mean(),inplace=True)\n",
    "\n",
    "print(num5.isnull().sum())"
   ]
  },
  {
   "cell_type": "code",
   "execution_count": null,
   "metadata": {
    "ExecuteTime": {
     "end_time": "2022-03-25T18:22:42.007337Z",
     "start_time": "2022-03-25T18:22:05.164Z"
    }
   },
   "outputs": [],
   "source": [
    "# replace with mode for categorical variables\n",
    "# df5['NAME_TYPE_SUITE'].fillna(df5['NAME_TYPE_SUITE'].mode()[0], inplace=True)\n",
    "# print('NAME_TYPE_SUITE:', df5['NAME_TYPE_SUITE'].describe())\n",
    "# print()\n"
   ]
  },
  {
   "cell_type": "code",
   "execution_count": null,
   "metadata": {
    "ExecuteTime": {
     "end_time": "2022-03-25T18:22:42.011039Z",
     "start_time": "2022-03-25T18:22:05.177Z"
    }
   },
   "outputs": [],
   "source": [
    "num5.info()"
   ]
  },
  {
   "cell_type": "code",
   "execution_count": null,
   "metadata": {
    "ExecuteTime": {
     "end_time": "2022-03-25T18:22:42.012801Z",
     "start_time": "2022-03-25T18:22:05.192Z"
    }
   },
   "outputs": [],
   "source": [
    "# Create a box plot of each numerical column\n",
    "plt.figure(figsize=(20, 10))\n",
    "plt.boxplot([num5[col] for col in num5.columns])\n",
    "plt.title(\"Box plot of all columns in dataset\")\n",
    "plt.xticks(range(len(num5.columns.values)), num5.columns.values)\n",
    "plt.show()"
   ]
  },
  {
   "cell_type": "markdown",
   "metadata": {},
   "source": [
    "#### Summary of numericals\n",
    "* AMT_INCOME_TOTAL has one or many outliers that need to be trimmed.\n",
    "* Widely varying magnitudes - normalization will be important"
   ]
  },
  {
   "cell_type": "markdown",
   "metadata": {},
   "source": [
    "### Categoricals"
   ]
  },
  {
   "cell_type": "code",
   "execution_count": null,
   "metadata": {
    "ExecuteTime": {
     "end_time": "2022-03-25T18:22:42.018909Z",
     "start_time": "2022-03-25T18:22:05.210Z"
    }
   },
   "outputs": [],
   "source": [
    "cats5 = df5.select_dtypes(include='object')\n",
    "cats5.info()"
   ]
  },
  {
   "cell_type": "markdown",
   "metadata": {},
   "source": [
    "## Label Encode or One-Hot Encode Categoricals\n",
    "   * Explore to figure out number of unique values\n",
    "       * If unique values >5, then label encode"
   ]
  },
  {
   "cell_type": "code",
   "execution_count": null,
   "metadata": {
    "ExecuteTime": {
     "end_time": "2022-03-25T18:22:42.024621Z",
     "start_time": "2022-03-25T18:22:05.228Z"
    }
   },
   "outputs": [],
   "source": [
    "cats5['NAME_INCOME_TYPE'].value_counts()"
   ]
  },
  {
   "cell_type": "code",
   "execution_count": null,
   "metadata": {
    "ExecuteTime": {
     "end_time": "2022-03-25T18:22:42.027603Z",
     "start_time": "2022-03-25T18:22:05.242Z"
    }
   },
   "outputs": [],
   "source": [
    "cats5['NAME_TYPE_SUITE'].value_counts()"
   ]
  },
  {
   "cell_type": "code",
   "execution_count": null,
   "metadata": {
    "ExecuteTime": {
     "end_time": "2022-03-25T18:22:42.031940Z",
     "start_time": "2022-03-25T18:22:05.256Z"
    }
   },
   "outputs": [],
   "source": [
    "cats5['FLAG_OWN_CAR'].value_counts()"
   ]
  },
  {
   "cell_type": "code",
   "execution_count": null,
   "metadata": {
    "ExecuteTime": {
     "end_time": "2022-03-25T18:22:42.034249Z",
     "start_time": "2022-03-25T18:22:05.270Z"
    }
   },
   "outputs": [],
   "source": [
    "cats5['NAME_FAMILY_STATUS'].value_counts()"
   ]
  },
  {
   "cell_type": "code",
   "execution_count": null,
   "metadata": {
    "ExecuteTime": {
     "end_time": "2022-03-25T18:22:42.039579Z",
     "start_time": "2022-03-25T18:22:05.284Z"
    }
   },
   "outputs": [],
   "source": [
    "cats5['FLAG_OWN_REALTY'].value_counts()"
   ]
  },
  {
   "cell_type": "code",
   "execution_count": null,
   "metadata": {
    "ExecuteTime": {
     "end_time": "2022-03-25T18:22:42.048183Z",
     "start_time": "2022-03-25T18:22:05.298Z"
    }
   },
   "outputs": [],
   "source": [
    "cats5['NAME_HOUSING_TYPE'].value_counts()"
   ]
  },
  {
   "cell_type": "code",
   "execution_count": null,
   "metadata": {
    "ExecuteTime": {
     "end_time": "2022-03-25T18:22:42.052935Z",
     "start_time": "2022-03-25T18:22:05.312Z"
    }
   },
   "outputs": [],
   "source": [
    "cats5['NAME_EDUCATION_TYPE'].value_counts()"
   ]
  },
  {
   "cell_type": "code",
   "execution_count": null,
   "metadata": {
    "ExecuteTime": {
     "end_time": "2022-03-25T18:22:42.057333Z",
     "start_time": "2022-03-25T18:22:05.325Z"
    },
    "scrolled": true
   },
   "outputs": [],
   "source": [
    "cats5['NAME_CONTRACT_TYPE'].value_counts()"
   ]
  },
  {
   "cell_type": "code",
   "execution_count": null,
   "metadata": {
    "ExecuteTime": {
     "end_time": "2022-03-25T18:22:42.063065Z",
     "start_time": "2022-03-25T18:22:05.339Z"
    }
   },
   "outputs": [],
   "source": [
    "cats5['ORGANIZATION_TYPE'].value_counts()"
   ]
  },
  {
   "cell_type": "markdown",
   "metadata": {},
   "source": [
    "#### Use label encoding to save space with Organization_Type\n",
    "* Interpreting Organization Type won't be as important as building a predictive model."
   ]
  },
  {
   "cell_type": "code",
   "execution_count": null,
   "metadata": {
    "ExecuteTime": {
     "end_time": "2022-03-25T18:22:42.068072Z",
     "start_time": "2022-03-25T18:22:05.357Z"
    }
   },
   "outputs": [],
   "source": [
    "# Instantiate LabelEncoder\n",
    "label_encoder = LabelEncoder()\n",
    "\n",
    "# create new row for Organization_type with label encoder\n",
    "cats5['ORGANIZATION_TYPE_CODE'] = label_encoder.fit_transform(cats5['ORGANIZATION_TYPE'])\n",
    "\n",
    "cats5.head()"
   ]
  },
  {
   "cell_type": "code",
   "execution_count": null,
   "metadata": {
    "ExecuteTime": {
     "end_time": "2022-03-25T18:22:42.072782Z",
     "start_time": "2022-03-25T18:22:05.370Z"
    }
   },
   "outputs": [],
   "source": [
    "# drop Organization_Type column\n",
    "cats5 = cats5.drop('ORGANIZATION_TYPE', axis=1)\n",
    "\n",
    "cats5.head()"
   ]
  },
  {
   "cell_type": "markdown",
   "metadata": {},
   "source": [
    "#### One Hot Encode Categoricals"
   ]
  },
  {
   "cell_type": "code",
   "execution_count": null,
   "metadata": {
    "ExecuteTime": {
     "end_time": "2022-03-25T18:22:42.079499Z",
     "start_time": "2022-03-25T18:22:05.386Z"
    }
   },
   "outputs": [],
   "source": [
    "# Separate Label Encoded Column\n",
    "label_encoded = cats5['ORGANIZATION_TYPE_CODE']\n",
    "\n",
    "cats5 = cats5.drop('ORGANIZATION_TYPE_CODE', axis=1)\n",
    "\n",
    "cats5.head()"
   ]
  },
  {
   "cell_type": "code",
   "execution_count": null,
   "metadata": {
    "ExecuteTime": {
     "end_time": "2022-03-25T18:22:42.086098Z",
     "start_time": "2022-03-25T18:22:05.400Z"
    }
   },
   "outputs": [],
   "source": [
    "# copy categoricals\n",
    "cat5_dummies = cats5.copy()\n",
    "\n",
    "# get dummies for categoricals from cat_dummies\n",
    "cat5_dummies = pd.get_dummies(cat5_dummies, drop_first=True)\n",
    "\n",
    "cat5_dummies.head()"
   ]
  },
  {
   "cell_type": "code",
   "execution_count": null,
   "metadata": {
    "ExecuteTime": {
     "end_time": "2022-03-25T18:22:42.089332Z",
     "start_time": "2022-03-25T18:22:05.414Z"
    },
    "scrolled": true
   },
   "outputs": [],
   "source": [
    "# print shape - column, row attributes\n",
    "print(cat5_dummies.shape)"
   ]
  },
  {
   "cell_type": "markdown",
   "metadata": {},
   "source": [
    "## Remove Outliers"
   ]
  },
  {
   "cell_type": "code",
   "execution_count": null,
   "metadata": {
    "ExecuteTime": {
     "end_time": "2022-03-25T18:22:42.091938Z",
     "start_time": "2022-03-25T18:22:05.430Z"
    },
    "scrolled": true
   },
   "outputs": [],
   "source": [
    "# concatenate cat_dummies and numericals\n",
    "\n",
    "df6 = pd.concat([num5, \n",
    "                 cat5_dummies,\n",
    "                label_encoded], axis=1)\n",
    "df6.head()"
   ]
  },
  {
   "cell_type": "code",
   "execution_count": null,
   "metadata": {
    "ExecuteTime": {
     "end_time": "2022-03-25T18:22:42.094465Z",
     "start_time": "2022-03-25T18:22:05.444Z"
    },
    "scrolled": false
   },
   "outputs": [],
   "source": [
    "# Check value counts and Dtypes\n",
    "df6.info()"
   ]
  },
  {
   "cell_type": "markdown",
   "metadata": {},
   "source": [
    "# Thirteenth Model - Gradient boost \n",
    "* Try Gradient Boost with modified learning rate (best previous model)"
   ]
  },
  {
   "cell_type": "markdown",
   "metadata": {},
   "source": [
    "## Tune Learning Rate\n",
    "* Iterated on this many times - \n",
    "    * High learning rate (near 1.0) is the best.\n",
    "        * Learning rate should be in range of 0.0 - 1.0"
   ]
  },
  {
   "cell_type": "code",
   "execution_count": null,
   "metadata": {
    "ExecuteTime": {
     "end_time": "2022-03-25T18:22:42.096820Z",
     "start_time": "2022-03-25T18:22:05.463Z"
    }
   },
   "outputs": [],
   "source": [
    "# Define X and y\n",
    "y = df6['TARGET']\n",
    "X = df6.drop('TARGET', axis=1)\n",
    "\n",
    "# Perform train-test split with random_state=42 and stratify=y\n",
    "X_train, X_test, y_train, y_test = train_test_split(X, y, test_size=0.25, random_state=42)"
   ]
  },
  {
   "cell_type": "code",
   "execution_count": null,
   "metadata": {
    "ExecuteTime": {
     "end_time": "2022-03-25T18:22:42.099343Z",
     "start_time": "2022-03-25T18:22:05.477Z"
    }
   },
   "outputs": [],
   "source": [
    "# Instantiate an AdaBoostClassifier\n",
    "adaboost_clf = AdaBoostClassifier(learning_rate=0.99, random_state=42, n_estimators=1000)\n",
    "\n",
    "# Instantiate an GradientBoostingClassifier\n",
    "gbt_clf = GradientBoostingClassifier(learning_rate=1, random_state=42, subsample=.25, n_estimators=250)"
   ]
  },
  {
   "cell_type": "code",
   "execution_count": null,
   "metadata": {
    "ExecuteTime": {
     "end_time": "2022-03-25T18:22:42.101210Z",
     "start_time": "2022-03-25T18:22:05.491Z"
    }
   },
   "outputs": [],
   "source": [
    "# Fit AdaBoostClassifier\n",
    "adaboost_clf.fit(X_train, y_train)"
   ]
  },
  {
   "cell_type": "code",
   "execution_count": null,
   "metadata": {
    "ExecuteTime": {
     "end_time": "2022-03-25T18:22:42.103121Z",
     "start_time": "2022-03-25T18:22:05.506Z"
    }
   },
   "outputs": [],
   "source": [
    "AdaBoostClassifier(algorithm='SAMME.R', base_estimator=None, learning_rate=1.0,\n",
    "                   n_estimators=50, random_state=42)"
   ]
  },
  {
   "cell_type": "code",
   "execution_count": null,
   "metadata": {
    "ExecuteTime": {
     "end_time": "2022-03-25T18:22:42.106488Z",
     "start_time": "2022-03-25T18:22:05.522Z"
    }
   },
   "outputs": [],
   "source": [
    "# Fit GradientBoostingClassifier\n",
    "gbt_clf.fit(X_train, y_train)"
   ]
  },
  {
   "cell_type": "code",
   "execution_count": null,
   "metadata": {
    "ExecuteTime": {
     "end_time": "2022-03-25T18:22:42.108161Z",
     "start_time": "2022-03-25T18:22:05.536Z"
    }
   },
   "outputs": [],
   "source": [
    "GradientBoostingClassifier(criterion='friedman_mse', init=None,\n",
    "                           learning_rate=0.1, loss='deviance', max_depth=3,\n",
    "                           max_features=None, max_leaf_nodes=None,\n",
    "                           min_impurity_decrease=0.0, min_impurity_split=None,\n",
    "                           min_samples_leaf=1, min_samples_split=2,\n",
    "                           min_weight_fraction_leaf=0.0, n_estimators=100,\n",
    "                           n_iter_no_change=None, presort='auto',\n",
    "                           random_state=42, subsample=1.0, tol=0.0001,\n",
    "                           validation_fraction=0.1, verbose=0,\n",
    "                           warm_start=False)"
   ]
  },
  {
   "cell_type": "code",
   "execution_count": null,
   "metadata": {
    "ExecuteTime": {
     "end_time": "2022-03-25T18:22:42.110493Z",
     "start_time": "2022-03-25T18:22:05.552Z"
    }
   },
   "outputs": [],
   "source": [
    "# AdaBoost model predictions\n",
    "adaboost_train_preds = adaboost_clf.predict(X_train)\n",
    "adaboost_test_preds = adaboost_clf.predict(X_test)\n",
    "\n",
    "# GradientBoosting model predictions\n",
    "gbt_clf_train_preds = gbt_clf.predict(X_train)\n",
    "gbt_clf_test_preds = gbt_clf.predict(X_test)"
   ]
  },
  {
   "cell_type": "code",
   "execution_count": null,
   "metadata": {
    "ExecuteTime": {
     "end_time": "2022-03-25T18:22:42.112590Z",
     "start_time": "2022-03-25T18:22:05.566Z"
    }
   },
   "outputs": [],
   "source": [
    "def display_acc_and_f1_score(true, preds, model_name):\n",
    "    acc = accuracy_score(true, preds)\n",
    "    f1 = f1_score(true, preds)\n",
    "    print(\"Model: {}\".format(model_name))\n",
    "    print(\"Accuracy: {}\".format(acc))\n",
    "    print(\"F1-Score: {}\".format(f1))\n",
    "    \n",
    "print(\"Training Metrics\")\n",
    "display_acc_and_f1_score(y_train, adaboost_train_preds, model_name='AdaBoost')\n",
    "print(\"\")\n",
    "display_acc_and_f1_score(y_train, gbt_clf_train_preds, model_name='Gradient Boosted Trees')\n",
    "print(\"\")\n",
    "print(\"Testing Metrics\")\n",
    "display_acc_and_f1_score(y_test, adaboost_test_preds, model_name='AdaBoost')\n",
    "print(\"\")\n",
    "display_acc_and_f1_score(y_test, gbt_clf_test_preds, model_name='Gradient Boosted Trees')"
   ]
  },
  {
   "cell_type": "code",
   "execution_count": null,
   "metadata": {
    "ExecuteTime": {
     "end_time": "2022-03-25T18:22:42.114682Z",
     "start_time": "2022-03-25T18:22:05.581Z"
    }
   },
   "outputs": [],
   "source": [
    "adaboost_confusion_matrix = confusion_matrix(y_test, adaboost_test_preds)\n",
    "adaboost_confusion_matrix"
   ]
  },
  {
   "cell_type": "code",
   "execution_count": null,
   "metadata": {
    "ExecuteTime": {
     "end_time": "2022-03-25T18:22:42.116887Z",
     "start_time": "2022-03-25T18:22:05.595Z"
    }
   },
   "outputs": [],
   "source": [
    "gbt_confusion_matrix = confusion_matrix(y_test, gbt_clf_test_preds)\n",
    "gbt_confusion_matrix"
   ]
  },
  {
   "cell_type": "code",
   "execution_count": null,
   "metadata": {
    "ExecuteTime": {
     "end_time": "2022-03-25T18:22:42.118927Z",
     "start_time": "2022-03-25T18:22:05.610Z"
    },
    "scrolled": true
   },
   "outputs": [],
   "source": [
    "# Confusion matrix and classification report\n",
    "print(confusion_matrix(y_test, adaboost_test_preds))\n",
    "print(classification_report(y_test, adaboost_test_preds))"
   ]
  },
  {
   "cell_type": "code",
   "execution_count": null,
   "metadata": {
    "ExecuteTime": {
     "end_time": "2022-03-25T18:22:42.121674Z",
     "start_time": "2022-03-25T18:22:05.626Z"
    },
    "scrolled": true
   },
   "outputs": [],
   "source": [
    "# Confusion matrix and classification report\n",
    "print(confusion_matrix(y_test, gbt_clf_test_preds))\n",
    "print(classification_report(y_test, gbt_clf_test_preds))"
   ]
  },
  {
   "cell_type": "markdown",
   "metadata": {},
   "source": [
    "## Analysis of df6 Gradient Boost Model:\n",
    "* The F1-Score is improved from prior models.\n",
    "    * Recall for Loan Approval:\n",
    "        * Best Logistic Regression: 0.43\n",
    "        * Best KNN: 0.38\n",
    "        * Initial Decision Tree: 0.44\n",
    "        * Improved Decision Tree: 0.31\n",
    "        * Bagged Tree: 0.37\n",
    "        * Random Forest: 0.19\n",
    "        * XG Boost: 0.46\n",
    "        * Altered XG Boost: 0.45\n",
    "        * Support Vector Machine: 0.34\n",
    "        * Gradient Boost: 0.46\n",
    "        * df6-Added Features: Gradient Boost: 0.50\n",
    "        \n",
    "    * F1 Score tracking:\n",
    "        * Best Logistic Regression: 0.43\n",
    "        * Best KNN: 0.38\n",
    "        * Initial Decision Tree: 0.44\n",
    "        * Improved Decision Tree: 0.31\n",
    "        * Bagged Tree: 0.37\n",
    "        * Random Forest: 0.19\n",
    "        * XG Boost: 0.46\n",
    "        * Altered XG Boost: 0.45\n",
    "        * Support Vector Machine: 0.34\n",
    "        * Gradient Boost: 0.46\n",
    "        * df6 Gradient Boost: 0.55\n",
    "* I don't know what else to try."
   ]
  },
  {
   "cell_type": "markdown",
   "metadata": {},
   "source": [
    "# SMOTE\n",
    "* Improve model through oversampling minority and under-sampling majority classes."
   ]
  },
  {
   "cell_type": "markdown",
   "metadata": {},
   "source": [
    "## Preprocess df4 for SMOTE\n",
    "* Preprocess df4 (includes specified features only)"
   ]
  },
  {
   "cell_type": "markdown",
   "metadata": {},
   "source": [
    "### Separate Numericals & Categoricals\n",
    "* Replace null values with mean or mode for numericals and categoricals, respectively."
   ]
  },
  {
   "cell_type": "code",
   "execution_count": null,
   "metadata": {
    "ExecuteTime": {
     "end_time": "2022-03-25T18:22:42.124166Z",
     "start_time": "2022-03-25T18:22:05.649Z"
    }
   },
   "outputs": [],
   "source": [
    "# Select only numerical features\n",
    "num6 = df4.select_dtypes(include=np.number)\n",
    "num6.info()"
   ]
  },
  {
   "cell_type": "markdown",
   "metadata": {},
   "source": [
    "### Replace missing values for AMT_GOODS_PRICE & AMT_ANNUITY with mean"
   ]
  },
  {
   "cell_type": "code",
   "execution_count": null,
   "metadata": {
    "ExecuteTime": {
     "end_time": "2022-03-25T18:22:42.128035Z",
     "start_time": "2022-03-25T18:22:05.669Z"
    }
   },
   "outputs": [],
   "source": [
    "# Replace null values in numerical columns with mean\n",
    "for i in num6.columns[num6.isnull().any(axis=0)]:     #---Applying Only on variables with NaN values\n",
    "    num6[i].fillna(num6[i].mean(),inplace=True)\n",
    "\n",
    "print(num6.isnull().sum())"
   ]
  },
  {
   "cell_type": "code",
   "execution_count": null,
   "metadata": {
    "ExecuteTime": {
     "end_time": "2022-03-25T18:22:42.130316Z",
     "start_time": "2022-03-25T18:22:05.684Z"
    }
   },
   "outputs": [],
   "source": [
    "num6.info()"
   ]
  },
  {
   "cell_type": "markdown",
   "metadata": {},
   "source": [
    "### Categoricals"
   ]
  },
  {
   "cell_type": "code",
   "execution_count": null,
   "metadata": {
    "ExecuteTime": {
     "end_time": "2022-03-25T18:22:42.132913Z",
     "start_time": "2022-03-25T18:22:05.701Z"
    }
   },
   "outputs": [],
   "source": [
    "cats6 = df4.select_dtypes(include='object')\n",
    "cats6.info()"
   ]
  },
  {
   "cell_type": "markdown",
   "metadata": {},
   "source": [
    "## Label Encode or One-Hot Encode Categoricals\n",
    "   * Explore to figure out number of unique values\n",
    "       * If unique values >5, then label encode"
   ]
  },
  {
   "cell_type": "markdown",
   "metadata": {},
   "source": [
    "#### Use label encoding to save space with Organization_Type\n",
    "* Interpreting Organization Type won't be as important as building a predictive model."
   ]
  },
  {
   "cell_type": "code",
   "execution_count": null,
   "metadata": {
    "ExecuteTime": {
     "end_time": "2022-03-25T18:22:42.134912Z",
     "start_time": "2022-03-25T18:22:05.723Z"
    }
   },
   "outputs": [],
   "source": [
    "# Instantiate LabelEncoder\n",
    "label_encoder = LabelEncoder()\n",
    "\n",
    "# create new row for Organization_type with label encoder\n",
    "cats6['ORGANIZATION_TYPE_CODE'] = label_encoder.fit_transform(cats6['ORGANIZATION_TYPE'])\n",
    "\n",
    "cats6.head()"
   ]
  },
  {
   "cell_type": "code",
   "execution_count": null,
   "metadata": {
    "ExecuteTime": {
     "end_time": "2022-03-25T18:22:42.138398Z",
     "start_time": "2022-03-25T18:22:05.738Z"
    }
   },
   "outputs": [],
   "source": [
    "# drop Organization_Type column\n",
    "cats6 = cats6.drop('ORGANIZATION_TYPE', axis=1)\n",
    "\n",
    "cats6.head()"
   ]
  },
  {
   "cell_type": "markdown",
   "metadata": {},
   "source": [
    "#### One Hot Encode Categoricals"
   ]
  },
  {
   "cell_type": "code",
   "execution_count": null,
   "metadata": {
    "ExecuteTime": {
     "end_time": "2022-03-25T18:22:42.143364Z",
     "start_time": "2022-03-25T18:22:05.756Z"
    }
   },
   "outputs": [],
   "source": [
    "# Separate Label Encoded Column\n",
    "label_encoded = cats6['ORGANIZATION_TYPE_CODE']\n",
    "\n",
    "cats6 = cats6.drop('ORGANIZATION_TYPE_CODE', axis=1)\n",
    "\n",
    "cats6.head()"
   ]
  },
  {
   "cell_type": "code",
   "execution_count": null,
   "metadata": {
    "ExecuteTime": {
     "end_time": "2022-03-25T18:22:42.145753Z",
     "start_time": "2022-03-25T18:22:05.771Z"
    }
   },
   "outputs": [],
   "source": [
    "# copy categoricals\n",
    "cat6_dummies = cats6.copy()\n",
    "\n",
    "# get dummies for categoricals from cat_dummies\n",
    "cat6_dummies = pd.get_dummies(cat6_dummies, drop_first=True)\n",
    "\n",
    "cat6_dummies.head()"
   ]
  },
  {
   "cell_type": "code",
   "execution_count": null,
   "metadata": {
    "ExecuteTime": {
     "end_time": "2022-03-25T18:22:42.148865Z",
     "start_time": "2022-03-25T18:22:05.785Z"
    },
    "scrolled": true
   },
   "outputs": [],
   "source": [
    "# print shape - column, row attributes\n",
    "print(cat6_dummies.shape)"
   ]
  },
  {
   "cell_type": "markdown",
   "metadata": {},
   "source": [
    "## Remove Outliers"
   ]
  },
  {
   "cell_type": "code",
   "execution_count": null,
   "metadata": {
    "ExecuteTime": {
     "end_time": "2022-03-25T18:22:42.156065Z",
     "start_time": "2022-03-25T18:22:05.803Z"
    }
   },
   "outputs": [],
   "source": [
    "# concatenate cat_dummies and numericals\n",
    "\n",
    "df7 = pd.concat([num6, \n",
    "                 cat6_dummies,\n",
    "                label_encoded], axis=1)\n",
    "df7.head()"
   ]
  },
  {
   "cell_type": "code",
   "execution_count": null,
   "metadata": {
    "ExecuteTime": {
     "end_time": "2022-03-25T18:22:42.158923Z",
     "start_time": "2022-03-25T18:22:05.818Z"
    },
    "scrolled": true
   },
   "outputs": [],
   "source": [
    "# Check value counts and Dtypes\n",
    "df7.info()"
   ]
  },
  {
   "cell_type": "markdown",
   "metadata": {},
   "source": [
    "## Oversample Minority Class\n",
    "* 1, or loan approval is the minority class."
   ]
  },
  {
   "cell_type": "markdown",
   "metadata": {},
   "source": [
    "### Train, Test, Split"
   ]
  },
  {
   "cell_type": "code",
   "execution_count": null,
   "metadata": {
    "ExecuteTime": {
     "end_time": "2022-03-25T18:22:42.161515Z",
     "start_time": "2022-03-25T18:22:05.837Z"
    }
   },
   "outputs": [],
   "source": [
    "# Define X and y\n",
    "y = df7['TARGET']\n",
    "X = df7.drop('TARGET', axis=1)\n",
    "\n",
    "# Perform train-test split with random_state=42 and stratify=y\n",
    "X_train, X_test, y_train, y_test = train_test_split(X, y, test_size=0.25, random_state=42)"
   ]
  },
  {
   "cell_type": "code",
   "execution_count": null,
   "metadata": {
    "ExecuteTime": {
     "end_time": "2022-03-25T18:22:42.164766Z",
     "start_time": "2022-03-25T18:22:05.852Z"
    }
   },
   "outputs": [],
   "source": [
    "# Previous original class distribution\n",
    "print(y_train.value_counts()) \n",
    "\n",
    "# Fit SMOTE to training data\n",
    "X_train_resampled, y_train_resampled = SMOTE().fit_resample(X_train, y_train) \n",
    "\n",
    "# Preview synthetic sample class distribution\n",
    "print('\\n')\n",
    "print(pd.Series(y_train_resampled).value_counts()) \n",
    "\n",
    "# Note, if you get an Attribute Error: 'SMOTE' object has no attribute\n",
    "# '_validate_data', then downgrade your version of imblearn to 0.6.2\n",
    "# or upgrade your version of sklearn to 0.23"
   ]
  },
  {
   "cell_type": "markdown",
   "metadata": {},
   "source": [
    "## Logistic Regression with SMOTE\n",
    "* Tuned for a variety of regularization values.\n",
    "* Not better than baseline model."
   ]
  },
  {
   "cell_type": "code",
   "execution_count": null,
   "metadata": {
    "ExecuteTime": {
     "end_time": "2022-03-25T18:22:42.170072Z",
     "start_time": "2022-03-25T18:22:05.869Z"
    }
   },
   "outputs": [],
   "source": [
    "# Now let's compare a few different regularization performances on the dataset\n",
    "C_param_range = [0.005, 0.1, 0.2, 0.5, 0.8, 1, 1.25, 1.5, 2]\n",
    "names = [0.005, 0.1, 0.2, 0.5, 0.8, 1, 1.25, 1.5, 2]\n",
    "colors = sns.color_palette('Set2', n_colors=len(names))\n",
    "\n",
    "plt.figure(figsize=(10, 8))\n",
    "\n",
    "for n, c in enumerate(C_param_range):\n",
    "    # Fit a model\n",
    "    logreg = LogisticRegression(fit_intercept=False, C=c, solver='liblinear')\n",
    "    model_log = logreg.fit(X_train_resampled, y_train_resampled)\n",
    "    print(model_log) # Preview model params\n",
    "\n",
    "    # Predict\n",
    "    y_hat_test = logreg.predict(X_test)\n",
    "\n",
    "    y_score = logreg.fit(X_train_resampled, y_train_resampled).decision_function(X_test)\n",
    "\n",
    "    fpr, tpr, thresholds = roc_curve(y_test, y_score)\n",
    "    \n",
    "    print('AUC for {}: {}'.format(names[n], auc(fpr, tpr)))\n",
    "    print('-------------------------------------------------------')\n",
    "    \n",
    "    lw = 2\n",
    "    plt.plot(fpr, tpr, color=colors[n],\n",
    "             lw=lw, label='ROC curve Regularization Weight: {}'.format(names[n]))\n",
    "\n",
    "plt.plot([0, 1], [0, 1], color='navy', lw=lw, linestyle='--')\n",
    "plt.xlim([0.0, 1.0])\n",
    "plt.ylim([0.0, 1.05])\n",
    "plt.yticks([i/20.0 for i in range(21)])\n",
    "plt.xticks([i/20.0 for i in range(21)])\n",
    "plt.xlabel('False Positive Rate')\n",
    "plt.ylabel('True Positive Rate')\n",
    "plt.title('Receiver operating characteristic (ROC) Curve')\n",
    "plt.legend(loc='lower right')\n",
    "plt.show()"
   ]
  },
  {
   "cell_type": "markdown",
   "metadata": {},
   "source": [
    "## Random Forest with SMOTE\n",
    "* Prioritize Accuracy for Loan Approval"
   ]
  },
  {
   "cell_type": "code",
   "execution_count": null,
   "metadata": {
    "ExecuteTime": {
     "end_time": "2022-03-25T18:22:42.172794Z",
     "start_time": "2022-03-25T18:22:05.886Z"
    }
   },
   "outputs": [],
   "source": [
    "# Instantiate and fit a RandomForestClassifier\n",
    "forest = RandomForestClassifier(n_estimators=1, max_depth= 1)\n",
    "forest.fit(X_train_resampled, y_train_resampled)"
   ]
  },
  {
   "cell_type": "code",
   "execution_count": null,
   "metadata": {
    "ExecuteTime": {
     "end_time": "2022-03-25T18:22:42.175917Z",
     "start_time": "2022-03-25T18:22:05.900Z"
    }
   },
   "outputs": [],
   "source": [
    "# Training accuracy score\n",
    "forest.score(X_train_resampled, y_train_resampled)"
   ]
  },
  {
   "cell_type": "code",
   "execution_count": null,
   "metadata": {
    "ExecuteTime": {
     "end_time": "2022-03-25T18:22:42.178214Z",
     "start_time": "2022-03-25T18:22:05.917Z"
    }
   },
   "outputs": [],
   "source": [
    "# Test accuracy score\n",
    "forest.score(X_test, y_test)"
   ]
  },
  {
   "cell_type": "code",
   "execution_count": null,
   "metadata": {
    "ExecuteTime": {
     "end_time": "2022-03-25T18:22:42.181246Z",
     "start_time": "2022-03-25T18:22:05.931Z"
    },
    "scrolled": false
   },
   "outputs": [],
   "source": [
    "# Test set predictions\n",
    "pred = forest.predict(X_test)\n",
    "\n",
    "# Confusion matrix and classification report\n",
    "print(confusion_matrix(y_test, pred))\n",
    "print(classification_report(y_test, pred))"
   ]
  },
  {
   "cell_type": "markdown",
   "metadata": {},
   "source": [
    "## Random Forest with SMOTE\n",
    "* Prioritize Accuracy for Loan Rejection"
   ]
  },
  {
   "cell_type": "code",
   "execution_count": null,
   "metadata": {
    "ExecuteTime": {
     "end_time": "2022-03-25T18:22:42.184186Z",
     "start_time": "2022-03-25T18:22:05.950Z"
    }
   },
   "outputs": [],
   "source": [
    "# Instantiate and fit a RandomForestClassifier\n",
    "forest = RandomForestClassifier(n_estimators=20, max_depth= 10)\n",
    "forest.fit(X_train_resampled, y_train_resampled)"
   ]
  },
  {
   "cell_type": "code",
   "execution_count": null,
   "metadata": {
    "ExecuteTime": {
     "end_time": "2022-03-25T18:22:42.187270Z",
     "start_time": "2022-03-25T18:22:05.965Z"
    }
   },
   "outputs": [],
   "source": [
    "# Training accuracy score\n",
    "forest.score(X_train_resampled, y_train_resampled)"
   ]
  },
  {
   "cell_type": "code",
   "execution_count": null,
   "metadata": {
    "ExecuteTime": {
     "end_time": "2022-03-25T18:22:42.198257Z",
     "start_time": "2022-03-25T18:22:05.981Z"
    }
   },
   "outputs": [],
   "source": [
    "# Test accuracy score\n",
    "forest.score(X_test, y_test)"
   ]
  },
  {
   "cell_type": "code",
   "execution_count": null,
   "metadata": {
    "ExecuteTime": {
     "end_time": "2022-03-25T18:22:42.200910Z",
     "start_time": "2022-03-25T18:22:05.996Z"
    },
    "scrolled": false
   },
   "outputs": [],
   "source": [
    "# Test set predictions\n",
    "pred = forest.predict(X_test)\n",
    "\n",
    "# Confusion matrix and classification report\n",
    "print(confusion_matrix(y_test, pred))\n",
    "print(classification_report(y_test, pred))"
   ]
  },
  {
   "cell_type": "code",
   "execution_count": null,
   "metadata": {},
   "outputs": [],
   "source": []
  },
  {
   "cell_type": "code",
   "execution_count": null,
   "metadata": {},
   "outputs": [],
   "source": []
  }
 ],
 "metadata": {
  "kernelspec": {
   "display_name": "Python (learn-env)",
   "language": "python",
   "name": "learn-env"
  },
  "language_info": {
   "codemirror_mode": {
    "name": "ipython",
    "version": 3
   },
   "file_extension": ".py",
   "mimetype": "text/x-python",
   "name": "python",
   "nbconvert_exporter": "python",
   "pygments_lexer": "ipython3",
   "version": "3.8.5"
  },
  "toc": {
   "base_numbering": 1,
   "nav_menu": {},
   "number_sections": true,
   "sideBar": true,
   "skip_h1_title": false,
   "title_cell": "Table of Contents",
   "title_sidebar": "Contents",
   "toc_cell": true,
   "toc_position": {
    "height": "calc(100% - 180px)",
    "left": "10px",
    "top": "150px",
    "width": "215.675px"
   },
   "toc_section_display": true,
   "toc_window_display": true
  }
 },
 "nbformat": 4,
 "nbformat_minor": 4
}
